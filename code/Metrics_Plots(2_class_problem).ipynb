{
  "nbformat": 4,
  "nbformat_minor": 0,
  "metadata": {
    "colab": {
      "provenance": [],
      "collapsed_sections": [
        "CkW7WnsEcykk",
        "oBFnk1quc6Oc",
        "CGnJUB8Im0G6",
        "j9QG1PWoZ89y",
        "6YGSip3Qc2x2",
        "y40rQ53-zzaU",
        "NImo9DHfzfhA",
        "3bvTIkdrDqBG",
        "3IWlf0dH55Ny",
        "fqxkUCufi0L1",
        "geQPOby9zD43",
        "iaGJZjp7mVLV",
        "80ABmQwBmbzc",
        "Y3xh8pmBzmXq",
        "xtECcua60T3d",
        "0pMn6VzTFC2n",
        "SzHT-MEPEaMN",
        "HAhms8uREcon",
        "vV9qPG5V4W2g",
        "irYnuVUiE6GX",
        "fo65yq2rrWx7",
        "Cq_7zfHB55NT",
        "-BlP0-f355NV",
        "TQjR0oWYJ04v",
        "m8dWgBDt55NY",
        "t0EjgtUbY1oE",
        "uFMtP60e55Nj",
        "wNO0TNF355Nk",
        "2ZQ3O6GiaOEq",
        "8ewddb0A_3EF",
        "4Uyr1S76BNhS",
        "7yC2_9qgaThu",
        "Rm3ULswI6DDU",
        "NBfVfw6I55N4",
        "JNPNRrx_aZHV",
        "haGy9qwjcsx0",
        "UAcoLd72uEDZ",
        "u4fwmBjr1vCB",
        "79AR1kTr3unS",
        "MlSbTQN35Nep"
      ]
    },
    "kernelspec": {
      "name": "python3",
      "display_name": "Python 3"
    },
    "language_info": {
      "name": "python"
    }
  },
  "cells": [
    {
      "cell_type": "markdown",
      "source": [
        "# Machine Learning in Computational Biology\n",
        "## Course Project\n",
        "## 2 class problem classification - Results and Plots notebook\n",
        "#### Papadopoulou Marianna, ID:7115152200032\n",
        "#### Vossos Charalampos, ID:7115152200037\n",
        "#### Fillipidou Thalassini-Marina, ID:7115152200022\n",
        "\n",
        "This notebook presents the results of the metrics and the corresponding plots generated for the binary classification problem.(All the optimization steps in order to result in these hyperparameters and features are in the notebook \"*Papadopoulou_Fillipidou_Vossos_Final_Project_2class_classification*\")\n",
        "In order to replicate the findings outlined in this academic document, please follow the steps below:\n",
        "\n",
        "1.\tOpen the notebook provided using Google Colab\n",
        "2.\tAccess the data section of the environment by clicking on the folder icon located on the left side. Then, upload the final_data.csv file and the matrices obtained from the feature selection methods. These files are provided within the exercise's zip file. To upload them, simply drag and drop the files into the designated area.\n",
        "3. Run the cells in the notebook in the order they appear, making sure to follow the instructions provided in each cell.\n",
        "\n",
        "When executing the notebook in Jupyter, it is essential to ensure that the necessary packages have been installed. Additionally, it is important to specify the path to the dataset and then the feature matrices as an input parameter for the *pd.read_csv()* and *np.load()* functions."
      ],
      "metadata": {
        "id": "QXCKqDVXcBDs"
      }
    },
    {
      "cell_type": "markdown",
      "source": [
        "# Libraries"
      ],
      "metadata": {
        "id": "CkW7WnsEcykk"
      }
    },
    {
      "cell_type": "code",
      "source": [
        "import pandas as pd\n",
        "import numpy as np\n",
        "from sklearn.preprocessing import StandardScaler\n",
        "from sklearn.model_selection import cross_val_score, train_test_split\n",
        "from sklearn.metrics import make_scorer, matthews_corrcoef, balanced_accuracy_score, f1_score, fbeta_score, recall_score, precision_score, average_precision_score\n",
        "from sklearn.ensemble import RandomForestClassifier\n",
        "from sklearn.linear_model import LogisticRegression\n",
        "from sklearn.svm import SVC\n",
        "from sklearn.naive_bayes import GaussianNB\n",
        "from xgboost import XGBClassifier\n",
        "import matplotlib.pyplot as plt\n",
        "from sklearn.metrics import accuracy_score\n",
        "import seaborn as sns"
      ],
      "metadata": {
        "id": "4yVa-UQCcyKg"
      },
      "execution_count": 1,
      "outputs": []
    },
    {
      "cell_type": "markdown",
      "source": [
        "# Load dataset (csv file containing only 1500 most variant genes)\n"
      ],
      "metadata": {
        "id": "oBFnk1quc6Oc"
      }
    },
    {
      "cell_type": "markdown",
      "source": [
        "The *final_data.csv* has undergone a filtering process resulting in the inclusion of only the 1500 genes with the highest degree of variation, as suggested by the authors. In the present study, a subsequent feature selection was conducted on the aforementioned genes, resulting in the retention of 300 of them."
      ],
      "metadata": {
        "id": "M3FLDFIvCu79"
      }
    },
    {
      "cell_type": "code",
      "source": [
        "final_data = pd.read_csv('final_df.csv') # Load dataset"
      ],
      "metadata": {
        "id": "xAdiToTCKB5w"
      },
      "execution_count": 2,
      "outputs": []
    },
    {
      "cell_type": "code",
      "source": [
        "final_data # print the dataframe"
      ],
      "metadata": {
        "colab": {
          "base_uri": "https://localhost:8080/",
          "height": 661
        },
        "id": "hAaKldMcu1iE",
        "outputId": "0c049096-ad18-47c6-8608-19c2e8b60044"
      },
      "execution_count": 3,
      "outputs": [
        {
          "output_type": "execute_result",
          "data": {
            "text/plain": [
              "                             cell  ENSG00000205542  ENSG00000198804  \\\n",
              "0     ERR2538859-AAACCTGAGACCACGA        32962.305       9065.20200   \n",
              "1     ERR2538859-AAACCTGTCTGATACG        34861.200          0.00000   \n",
              "2     ERR2538859-AAACGGGAGTGTTGAA        17791.770       9193.14500   \n",
              "3     ERR2538859-AAAGATGTCCGAACGC        26513.914      10016.36700   \n",
              "4     ERR2538859-AAAGTAGGTTAGTGGG        30791.666      18116.04300   \n",
              "...                           ...              ...              ...   \n",
              "1422  ERR2538860-TTTGGTTTCGTTACGA        20833.332      11986.30100   \n",
              "1423  ERR2538860-TTTGTCAAGCCCAACC        73876.350        172.20595   \n",
              "1424  ERR2538860-TTTGTCACATTGGGCC        22690.557      14539.58000   \n",
              "1425  ERR2538860-TTTGTCAGTTGCGTTA        54775.516       5771.68550   \n",
              "1426  ERR2538860-TTTGTCATCAACACCA        15493.742       8285.11500   \n",
              "\n",
              "      ENSG00000167996  ENSG00000198712  ENSG00000156508  ENSG00000087086  \\\n",
              "0           8240.5760        5350.2246        4735.2563        5042.7400   \n",
              "1           5579.0670           0.0000       16139.4430        4519.0444   \n",
              "2           4845.0840        3431.0170       13334.9840        4739.7560   \n",
              "3           7070.3770        5564.6484       10540.0990        4058.9202   \n",
              "4           7291.2870        7347.3735        5664.7690        5384.3350   \n",
              "...               ...              ...              ...              ...   \n",
              "1422        5707.7627        6849.3150        6563.9270        5707.7627   \n",
              "1423       13776.4760           0.0000        5510.5903        9126.9150   \n",
              "1424        3524.7466        4038.7722       10060.2140        2570.1277   \n",
              "1425       11874.2080        2830.3457        6992.6187       11654.3640   \n",
              "1426        4150.8433        3748.4860        9015.5320        5151.7656   \n",
              "\n",
              "      ENSG00000075624  ENSG00000229117  ENSG00000026025  ...  ENSG00000185565  \\\n",
              "0           4950.4950        9255.0700        3659.0615  ...          0.00000   \n",
              "1           3873.4666       12696.3620        3443.0813  ...          0.00000   \n",
              "2           1061.1393       14643.7230        2193.0212  ...         70.74262   \n",
              "3           3404.2556        7725.0415        8837.9720  ...         65.46645   \n",
              "4           2636.0806        8469.1100        3140.8620  ...          0.00000   \n",
              "...               ...              ...              ...  ...              ...   \n",
              "1422        3139.2693       14554.7940        1141.5525  ...          0.00000   \n",
              "1423       18598.2420       10160.1510        7577.0615  ...          0.00000   \n",
              "1424        3671.6110        8003.4385        6094.8745  ...          0.00000   \n",
              "1425        8047.0615        8713.0250        6160.1640  ...          0.00000   \n",
              "1426        2383.6526        7515.4080        4632.7440  ...         96.11503   \n",
              "\n",
              "      cluster_2  cluster_4  cluster_7  cluster_8  cluster_11  cluster_18  \\\n",
              "0             1          3          3          3           2           2   \n",
              "1             2          2          6          7           7           3   \n",
              "2             1          1          1          1           1          14   \n",
              "3             1          4          5          5          10          18   \n",
              "4             1          4          4          6           5           7   \n",
              "...         ...        ...        ...        ...         ...         ...   \n",
              "1422          1          2          5          4           3           9   \n",
              "1423          2          2          6          7           7           3   \n",
              "1424          1          1          2          2           4          13   \n",
              "1425          1          1          2          2           6           8   \n",
              "1426          1          3          3          3           2           2   \n",
              "\n",
              "      cluster_23  cluster_31  cluster_37  \n",
              "0             19          17          12  \n",
              "1              6           6           1  \n",
              "2             14          26          26  \n",
              "3             22          28          33  \n",
              "4             20          11          21  \n",
              "...          ...         ...         ...  \n",
              "1422           3           5           5  \n",
              "1423           6          25           1  \n",
              "1424          13          12           8  \n",
              "1425           7          13          11  \n",
              "1426           1           2          23  \n",
              "\n",
              "[1427 rows x 1510 columns]"
            ],
            "text/html": [
              "\n",
              "  <div id=\"df-e163fef7-1f00-4168-8575-372f1dc8c026\">\n",
              "    <div class=\"colab-df-container\">\n",
              "      <div>\n",
              "<style scoped>\n",
              "    .dataframe tbody tr th:only-of-type {\n",
              "        vertical-align: middle;\n",
              "    }\n",
              "\n",
              "    .dataframe tbody tr th {\n",
              "        vertical-align: top;\n",
              "    }\n",
              "\n",
              "    .dataframe thead th {\n",
              "        text-align: right;\n",
              "    }\n",
              "</style>\n",
              "<table border=\"1\" class=\"dataframe\">\n",
              "  <thead>\n",
              "    <tr style=\"text-align: right;\">\n",
              "      <th></th>\n",
              "      <th>cell</th>\n",
              "      <th>ENSG00000205542</th>\n",
              "      <th>ENSG00000198804</th>\n",
              "      <th>ENSG00000167996</th>\n",
              "      <th>ENSG00000198712</th>\n",
              "      <th>ENSG00000156508</th>\n",
              "      <th>ENSG00000087086</th>\n",
              "      <th>ENSG00000075624</th>\n",
              "      <th>ENSG00000229117</th>\n",
              "      <th>ENSG00000026025</th>\n",
              "      <th>...</th>\n",
              "      <th>ENSG00000185565</th>\n",
              "      <th>cluster_2</th>\n",
              "      <th>cluster_4</th>\n",
              "      <th>cluster_7</th>\n",
              "      <th>cluster_8</th>\n",
              "      <th>cluster_11</th>\n",
              "      <th>cluster_18</th>\n",
              "      <th>cluster_23</th>\n",
              "      <th>cluster_31</th>\n",
              "      <th>cluster_37</th>\n",
              "    </tr>\n",
              "  </thead>\n",
              "  <tbody>\n",
              "    <tr>\n",
              "      <th>0</th>\n",
              "      <td>ERR2538859-AAACCTGAGACCACGA</td>\n",
              "      <td>32962.305</td>\n",
              "      <td>9065.20200</td>\n",
              "      <td>8240.5760</td>\n",
              "      <td>5350.2246</td>\n",
              "      <td>4735.2563</td>\n",
              "      <td>5042.7400</td>\n",
              "      <td>4950.4950</td>\n",
              "      <td>9255.0700</td>\n",
              "      <td>3659.0615</td>\n",
              "      <td>...</td>\n",
              "      <td>0.00000</td>\n",
              "      <td>1</td>\n",
              "      <td>3</td>\n",
              "      <td>3</td>\n",
              "      <td>3</td>\n",
              "      <td>2</td>\n",
              "      <td>2</td>\n",
              "      <td>19</td>\n",
              "      <td>17</td>\n",
              "      <td>12</td>\n",
              "    </tr>\n",
              "    <tr>\n",
              "      <th>1</th>\n",
              "      <td>ERR2538859-AAACCTGTCTGATACG</td>\n",
              "      <td>34861.200</td>\n",
              "      <td>0.00000</td>\n",
              "      <td>5579.0670</td>\n",
              "      <td>0.0000</td>\n",
              "      <td>16139.4430</td>\n",
              "      <td>4519.0444</td>\n",
              "      <td>3873.4666</td>\n",
              "      <td>12696.3620</td>\n",
              "      <td>3443.0813</td>\n",
              "      <td>...</td>\n",
              "      <td>0.00000</td>\n",
              "      <td>2</td>\n",
              "      <td>2</td>\n",
              "      <td>6</td>\n",
              "      <td>7</td>\n",
              "      <td>7</td>\n",
              "      <td>3</td>\n",
              "      <td>6</td>\n",
              "      <td>6</td>\n",
              "      <td>1</td>\n",
              "    </tr>\n",
              "    <tr>\n",
              "      <th>2</th>\n",
              "      <td>ERR2538859-AAACGGGAGTGTTGAA</td>\n",
              "      <td>17791.770</td>\n",
              "      <td>9193.14500</td>\n",
              "      <td>4845.0840</td>\n",
              "      <td>3431.0170</td>\n",
              "      <td>13334.9840</td>\n",
              "      <td>4739.7560</td>\n",
              "      <td>1061.1393</td>\n",
              "      <td>14643.7230</td>\n",
              "      <td>2193.0212</td>\n",
              "      <td>...</td>\n",
              "      <td>70.74262</td>\n",
              "      <td>1</td>\n",
              "      <td>1</td>\n",
              "      <td>1</td>\n",
              "      <td>1</td>\n",
              "      <td>1</td>\n",
              "      <td>14</td>\n",
              "      <td>14</td>\n",
              "      <td>26</td>\n",
              "      <td>26</td>\n",
              "    </tr>\n",
              "    <tr>\n",
              "      <th>3</th>\n",
              "      <td>ERR2538859-AAAGATGTCCGAACGC</td>\n",
              "      <td>26513.914</td>\n",
              "      <td>10016.36700</td>\n",
              "      <td>7070.3770</td>\n",
              "      <td>5564.6484</td>\n",
              "      <td>10540.0990</td>\n",
              "      <td>4058.9202</td>\n",
              "      <td>3404.2556</td>\n",
              "      <td>7725.0415</td>\n",
              "      <td>8837.9720</td>\n",
              "      <td>...</td>\n",
              "      <td>65.46645</td>\n",
              "      <td>1</td>\n",
              "      <td>4</td>\n",
              "      <td>5</td>\n",
              "      <td>5</td>\n",
              "      <td>10</td>\n",
              "      <td>18</td>\n",
              "      <td>22</td>\n",
              "      <td>28</td>\n",
              "      <td>33</td>\n",
              "    </tr>\n",
              "    <tr>\n",
              "      <th>4</th>\n",
              "      <td>ERR2538859-AAAGTAGGTTAGTGGG</td>\n",
              "      <td>30791.666</td>\n",
              "      <td>18116.04300</td>\n",
              "      <td>7291.2870</td>\n",
              "      <td>7347.3735</td>\n",
              "      <td>5664.7690</td>\n",
              "      <td>5384.3350</td>\n",
              "      <td>2636.0806</td>\n",
              "      <td>8469.1100</td>\n",
              "      <td>3140.8620</td>\n",
              "      <td>...</td>\n",
              "      <td>0.00000</td>\n",
              "      <td>1</td>\n",
              "      <td>4</td>\n",
              "      <td>4</td>\n",
              "      <td>6</td>\n",
              "      <td>5</td>\n",
              "      <td>7</td>\n",
              "      <td>20</td>\n",
              "      <td>11</td>\n",
              "      <td>21</td>\n",
              "    </tr>\n",
              "    <tr>\n",
              "      <th>...</th>\n",
              "      <td>...</td>\n",
              "      <td>...</td>\n",
              "      <td>...</td>\n",
              "      <td>...</td>\n",
              "      <td>...</td>\n",
              "      <td>...</td>\n",
              "      <td>...</td>\n",
              "      <td>...</td>\n",
              "      <td>...</td>\n",
              "      <td>...</td>\n",
              "      <td>...</td>\n",
              "      <td>...</td>\n",
              "      <td>...</td>\n",
              "      <td>...</td>\n",
              "      <td>...</td>\n",
              "      <td>...</td>\n",
              "      <td>...</td>\n",
              "      <td>...</td>\n",
              "      <td>...</td>\n",
              "      <td>...</td>\n",
              "      <td>...</td>\n",
              "    </tr>\n",
              "    <tr>\n",
              "      <th>1422</th>\n",
              "      <td>ERR2538860-TTTGGTTTCGTTACGA</td>\n",
              "      <td>20833.332</td>\n",
              "      <td>11986.30100</td>\n",
              "      <td>5707.7627</td>\n",
              "      <td>6849.3150</td>\n",
              "      <td>6563.9270</td>\n",
              "      <td>5707.7627</td>\n",
              "      <td>3139.2693</td>\n",
              "      <td>14554.7940</td>\n",
              "      <td>1141.5525</td>\n",
              "      <td>...</td>\n",
              "      <td>0.00000</td>\n",
              "      <td>1</td>\n",
              "      <td>2</td>\n",
              "      <td>5</td>\n",
              "      <td>4</td>\n",
              "      <td>3</td>\n",
              "      <td>9</td>\n",
              "      <td>3</td>\n",
              "      <td>5</td>\n",
              "      <td>5</td>\n",
              "    </tr>\n",
              "    <tr>\n",
              "      <th>1423</th>\n",
              "      <td>ERR2538860-TTTGTCAAGCCCAACC</td>\n",
              "      <td>73876.350</td>\n",
              "      <td>172.20595</td>\n",
              "      <td>13776.4760</td>\n",
              "      <td>0.0000</td>\n",
              "      <td>5510.5903</td>\n",
              "      <td>9126.9150</td>\n",
              "      <td>18598.2420</td>\n",
              "      <td>10160.1510</td>\n",
              "      <td>7577.0615</td>\n",
              "      <td>...</td>\n",
              "      <td>0.00000</td>\n",
              "      <td>2</td>\n",
              "      <td>2</td>\n",
              "      <td>6</td>\n",
              "      <td>7</td>\n",
              "      <td>7</td>\n",
              "      <td>3</td>\n",
              "      <td>6</td>\n",
              "      <td>25</td>\n",
              "      <td>1</td>\n",
              "    </tr>\n",
              "    <tr>\n",
              "      <th>1424</th>\n",
              "      <td>ERR2538860-TTTGTCACATTGGGCC</td>\n",
              "      <td>22690.557</td>\n",
              "      <td>14539.58000</td>\n",
              "      <td>3524.7466</td>\n",
              "      <td>4038.7722</td>\n",
              "      <td>10060.2140</td>\n",
              "      <td>2570.1277</td>\n",
              "      <td>3671.6110</td>\n",
              "      <td>8003.4385</td>\n",
              "      <td>6094.8745</td>\n",
              "      <td>...</td>\n",
              "      <td>0.00000</td>\n",
              "      <td>1</td>\n",
              "      <td>1</td>\n",
              "      <td>2</td>\n",
              "      <td>2</td>\n",
              "      <td>4</td>\n",
              "      <td>13</td>\n",
              "      <td>13</td>\n",
              "      <td>12</td>\n",
              "      <td>8</td>\n",
              "    </tr>\n",
              "    <tr>\n",
              "      <th>1425</th>\n",
              "      <td>ERR2538860-TTTGTCAGTTGCGTTA</td>\n",
              "      <td>54775.516</td>\n",
              "      <td>5771.68550</td>\n",
              "      <td>11874.2080</td>\n",
              "      <td>2830.3457</td>\n",
              "      <td>6992.6187</td>\n",
              "      <td>11654.3640</td>\n",
              "      <td>8047.0615</td>\n",
              "      <td>8713.0250</td>\n",
              "      <td>6160.1640</td>\n",
              "      <td>...</td>\n",
              "      <td>0.00000</td>\n",
              "      <td>1</td>\n",
              "      <td>1</td>\n",
              "      <td>2</td>\n",
              "      <td>2</td>\n",
              "      <td>6</td>\n",
              "      <td>8</td>\n",
              "      <td>7</td>\n",
              "      <td>13</td>\n",
              "      <td>11</td>\n",
              "    </tr>\n",
              "    <tr>\n",
              "      <th>1426</th>\n",
              "      <td>ERR2538860-TTTGTCATCAACACCA</td>\n",
              "      <td>15493.742</td>\n",
              "      <td>8285.11500</td>\n",
              "      <td>4150.8433</td>\n",
              "      <td>3748.4860</td>\n",
              "      <td>9015.5320</td>\n",
              "      <td>5151.7656</td>\n",
              "      <td>2383.6526</td>\n",
              "      <td>7515.4080</td>\n",
              "      <td>4632.7440</td>\n",
              "      <td>...</td>\n",
              "      <td>96.11503</td>\n",
              "      <td>1</td>\n",
              "      <td>3</td>\n",
              "      <td>3</td>\n",
              "      <td>3</td>\n",
              "      <td>2</td>\n",
              "      <td>2</td>\n",
              "      <td>1</td>\n",
              "      <td>2</td>\n",
              "      <td>23</td>\n",
              "    </tr>\n",
              "  </tbody>\n",
              "</table>\n",
              "<p>1427 rows × 1510 columns</p>\n",
              "</div>\n",
              "      <button class=\"colab-df-convert\" onclick=\"convertToInteractive('df-e163fef7-1f00-4168-8575-372f1dc8c026')\"\n",
              "              title=\"Convert this dataframe to an interactive table.\"\n",
              "              style=\"display:none;\">\n",
              "        \n",
              "  <svg xmlns=\"http://www.w3.org/2000/svg\" height=\"24px\"viewBox=\"0 0 24 24\"\n",
              "       width=\"24px\">\n",
              "    <path d=\"M0 0h24v24H0V0z\" fill=\"none\"/>\n",
              "    <path d=\"M18.56 5.44l.94 2.06.94-2.06 2.06-.94-2.06-.94-.94-2.06-.94 2.06-2.06.94zm-11 1L8.5 8.5l.94-2.06 2.06-.94-2.06-.94L8.5 2.5l-.94 2.06-2.06.94zm10 10l.94 2.06.94-2.06 2.06-.94-2.06-.94-.94-2.06-.94 2.06-2.06.94z\"/><path d=\"M17.41 7.96l-1.37-1.37c-.4-.4-.92-.59-1.43-.59-.52 0-1.04.2-1.43.59L10.3 9.45l-7.72 7.72c-.78.78-.78 2.05 0 2.83L4 21.41c.39.39.9.59 1.41.59.51 0 1.02-.2 1.41-.59l7.78-7.78 2.81-2.81c.8-.78.8-2.07 0-2.86zM5.41 20L4 18.59l7.72-7.72 1.47 1.35L5.41 20z\"/>\n",
              "  </svg>\n",
              "      </button>\n",
              "      \n",
              "  <style>\n",
              "    .colab-df-container {\n",
              "      display:flex;\n",
              "      flex-wrap:wrap;\n",
              "      gap: 12px;\n",
              "    }\n",
              "\n",
              "    .colab-df-convert {\n",
              "      background-color: #E8F0FE;\n",
              "      border: none;\n",
              "      border-radius: 50%;\n",
              "      cursor: pointer;\n",
              "      display: none;\n",
              "      fill: #1967D2;\n",
              "      height: 32px;\n",
              "      padding: 0 0 0 0;\n",
              "      width: 32px;\n",
              "    }\n",
              "\n",
              "    .colab-df-convert:hover {\n",
              "      background-color: #E2EBFA;\n",
              "      box-shadow: 0px 1px 2px rgba(60, 64, 67, 0.3), 0px 1px 3px 1px rgba(60, 64, 67, 0.15);\n",
              "      fill: #174EA6;\n",
              "    }\n",
              "\n",
              "    [theme=dark] .colab-df-convert {\n",
              "      background-color: #3B4455;\n",
              "      fill: #D2E3FC;\n",
              "    }\n",
              "\n",
              "    [theme=dark] .colab-df-convert:hover {\n",
              "      background-color: #434B5C;\n",
              "      box-shadow: 0px 1px 3px 1px rgba(0, 0, 0, 0.15);\n",
              "      filter: drop-shadow(0px 1px 2px rgba(0, 0, 0, 0.3));\n",
              "      fill: #FFFFFF;\n",
              "    }\n",
              "  </style>\n",
              "\n",
              "      <script>\n",
              "        const buttonEl =\n",
              "          document.querySelector('#df-e163fef7-1f00-4168-8575-372f1dc8c026 button.colab-df-convert');\n",
              "        buttonEl.style.display =\n",
              "          google.colab.kernel.accessAllowed ? 'block' : 'none';\n",
              "\n",
              "        async function convertToInteractive(key) {\n",
              "          const element = document.querySelector('#df-e163fef7-1f00-4168-8575-372f1dc8c026');\n",
              "          const dataTable =\n",
              "            await google.colab.kernel.invokeFunction('convertToInteractive',\n",
              "                                                     [key], {});\n",
              "          if (!dataTable) return;\n",
              "\n",
              "          const docLinkHtml = 'Like what you see? Visit the ' +\n",
              "            '<a target=\"_blank\" href=https://colab.research.google.com/notebooks/data_table.ipynb>data table notebook</a>'\n",
              "            + ' to learn more about interactive tables.';\n",
              "          element.innerHTML = '';\n",
              "          dataTable['output_type'] = 'display_data';\n",
              "          await google.colab.output.renderOutput(dataTable, element);\n",
              "          const docLink = document.createElement('div');\n",
              "          docLink.innerHTML = docLinkHtml;\n",
              "          element.appendChild(docLink);\n",
              "        }\n",
              "      </script>\n",
              "    </div>\n",
              "  </div>\n",
              "  "
            ]
          },
          "metadata": {},
          "execution_count": 3
        }
      ]
    },
    {
      "cell_type": "code",
      "source": [
        "final_data.iloc[:,1:-9].describe() # get some metrics - insights for our data"
      ],
      "metadata": {
        "colab": {
          "base_uri": "https://localhost:8080/",
          "height": 393
        },
        "id": "IJ6DMtaQvArP",
        "outputId": "34a51c8b-0177-400e-a442-87c3434b080c"
      },
      "execution_count": null,
      "outputs": [
        {
          "output_type": "execute_result",
          "data": {
            "text/plain": [
              "       ENSG00000205542  ENSG00000198804  ENSG00000167996  ENSG00000198712  \\\n",
              "count      1427.000000      1427.000000      1427.000000      1427.000000   \n",
              "mean      23073.534930      8650.527128      5923.673285      3736.152417   \n",
              "std       14606.218348      6231.215400      3978.366456      3176.106282   \n",
              "min           0.000000         0.000000         0.000000         0.000000   \n",
              "25%       12010.673500      5857.477250      3613.406200      2114.959000   \n",
              "50%       19893.205000      8106.062500      4752.475600      3190.216800   \n",
              "75%       30962.057500     10570.919000      6922.972700      4744.304200   \n",
              "max      151105.110000    100249.940000     38342.453000     43321.300000   \n",
              "\n",
              "       ENSG00000156508  ENSG00000087086  ENSG00000075624  ENSG00000229117  \\\n",
              "count      1427.000000      1427.000000      1427.000000      1427.000000   \n",
              "mean       9964.531828      5336.618798      3445.616828     10249.066012   \n",
              "std        3128.099835      3097.064109      3089.279249      3003.599890   \n",
              "min         519.750550         0.000000         0.000000         0.000000   \n",
              "25%        7905.214150      3500.865600      1524.513650      8470.981500   \n",
              "50%        9968.712000      4730.031200      2520.325400     10225.563000   \n",
              "75%       12098.396000      6380.133300      4423.490000     12113.780000   \n",
              "max       18940.480000     39224.000000     39814.400000     23356.402000   \n",
              "\n",
              "       ENSG00000026025  ENSG00000140988  ...  ENSG00000241553  \\\n",
              "count      1427.000000      1427.000000  ...      1427.000000   \n",
              "mean       4835.244087      8811.534498  ...        92.887396   \n",
              "std        2833.676900      2619.908290  ...       123.475297   \n",
              "min           0.000000         0.000000  ...         0.000000   \n",
              "25%        2970.992100      7075.414250  ...         0.000000   \n",
              "50%        4359.533700      8729.360000  ...        66.361410   \n",
              "75%        6219.104000     10508.414000  ...       133.770455   \n",
              "max       25552.280000     18648.018000  ...      1295.336800   \n",
              "\n",
              "       ENSG00000106399  ENSG00000124570  ENSG00000115241  ENSG00000136750  \\\n",
              "count      1427.000000      1427.000000      1427.000000      1427.000000   \n",
              "mean         79.839794       106.011364       100.806927        52.863068   \n",
              "std         123.462932       123.362171       123.351179       123.306581   \n",
              "min           0.000000         0.000000         0.000000         0.000000   \n",
              "25%           0.000000         0.000000         0.000000         0.000000   \n",
              "50%          41.077885        79.897720        78.033554         0.000000   \n",
              "75%         122.567923       156.668740       150.009385        64.803280   \n",
              "max        1297.577900      1039.501100      1245.330000      1992.032000   \n",
              "\n",
              "       ENSG00000087191  ENSG00000177570  ENSG00000159593  ENSG00000075292  \\\n",
              "count      1427.000000      1427.000000      1427.000000      1427.000000   \n",
              "mean         91.540287        66.629208        83.553927        83.486104   \n",
              "std         123.258291       123.158420       123.154015       123.077177   \n",
              "min           0.000000         0.000000         0.000000         0.000000   \n",
              "25%           0.000000         0.000000         0.000000         0.000000   \n",
              "50%          65.447170         0.000000        59.108643        57.430004   \n",
              "75%         133.415230       101.162477       122.458970       117.766025   \n",
              "max        1144.492100      2490.660000      1497.379600      1781.472800   \n",
              "\n",
              "       ENSG00000185565  \n",
              "count      1427.000000  \n",
              "mean         74.001188  \n",
              "std         123.061641  \n",
              "min           0.000000  \n",
              "25%           0.000000  \n",
              "50%          16.608261  \n",
              "75%         110.686830  \n",
              "max        1850.709500  \n",
              "\n",
              "[8 rows x 1500 columns]"
            ],
            "text/html": [
              "\n",
              "  <div id=\"df-72f5ab51-5a28-4007-bfd4-0f5a0b04295b\">\n",
              "    <div class=\"colab-df-container\">\n",
              "      <div>\n",
              "<style scoped>\n",
              "    .dataframe tbody tr th:only-of-type {\n",
              "        vertical-align: middle;\n",
              "    }\n",
              "\n",
              "    .dataframe tbody tr th {\n",
              "        vertical-align: top;\n",
              "    }\n",
              "\n",
              "    .dataframe thead th {\n",
              "        text-align: right;\n",
              "    }\n",
              "</style>\n",
              "<table border=\"1\" class=\"dataframe\">\n",
              "  <thead>\n",
              "    <tr style=\"text-align: right;\">\n",
              "      <th></th>\n",
              "      <th>ENSG00000205542</th>\n",
              "      <th>ENSG00000198804</th>\n",
              "      <th>ENSG00000167996</th>\n",
              "      <th>ENSG00000198712</th>\n",
              "      <th>ENSG00000156508</th>\n",
              "      <th>ENSG00000087086</th>\n",
              "      <th>ENSG00000075624</th>\n",
              "      <th>ENSG00000229117</th>\n",
              "      <th>ENSG00000026025</th>\n",
              "      <th>ENSG00000140988</th>\n",
              "      <th>...</th>\n",
              "      <th>ENSG00000241553</th>\n",
              "      <th>ENSG00000106399</th>\n",
              "      <th>ENSG00000124570</th>\n",
              "      <th>ENSG00000115241</th>\n",
              "      <th>ENSG00000136750</th>\n",
              "      <th>ENSG00000087191</th>\n",
              "      <th>ENSG00000177570</th>\n",
              "      <th>ENSG00000159593</th>\n",
              "      <th>ENSG00000075292</th>\n",
              "      <th>ENSG00000185565</th>\n",
              "    </tr>\n",
              "  </thead>\n",
              "  <tbody>\n",
              "    <tr>\n",
              "      <th>count</th>\n",
              "      <td>1427.000000</td>\n",
              "      <td>1427.000000</td>\n",
              "      <td>1427.000000</td>\n",
              "      <td>1427.000000</td>\n",
              "      <td>1427.000000</td>\n",
              "      <td>1427.000000</td>\n",
              "      <td>1427.000000</td>\n",
              "      <td>1427.000000</td>\n",
              "      <td>1427.000000</td>\n",
              "      <td>1427.000000</td>\n",
              "      <td>...</td>\n",
              "      <td>1427.000000</td>\n",
              "      <td>1427.000000</td>\n",
              "      <td>1427.000000</td>\n",
              "      <td>1427.000000</td>\n",
              "      <td>1427.000000</td>\n",
              "      <td>1427.000000</td>\n",
              "      <td>1427.000000</td>\n",
              "      <td>1427.000000</td>\n",
              "      <td>1427.000000</td>\n",
              "      <td>1427.000000</td>\n",
              "    </tr>\n",
              "    <tr>\n",
              "      <th>mean</th>\n",
              "      <td>23073.534930</td>\n",
              "      <td>8650.527128</td>\n",
              "      <td>5923.673285</td>\n",
              "      <td>3736.152417</td>\n",
              "      <td>9964.531828</td>\n",
              "      <td>5336.618798</td>\n",
              "      <td>3445.616828</td>\n",
              "      <td>10249.066012</td>\n",
              "      <td>4835.244087</td>\n",
              "      <td>8811.534498</td>\n",
              "      <td>...</td>\n",
              "      <td>92.887396</td>\n",
              "      <td>79.839794</td>\n",
              "      <td>106.011364</td>\n",
              "      <td>100.806927</td>\n",
              "      <td>52.863068</td>\n",
              "      <td>91.540287</td>\n",
              "      <td>66.629208</td>\n",
              "      <td>83.553927</td>\n",
              "      <td>83.486104</td>\n",
              "      <td>74.001188</td>\n",
              "    </tr>\n",
              "    <tr>\n",
              "      <th>std</th>\n",
              "      <td>14606.218348</td>\n",
              "      <td>6231.215400</td>\n",
              "      <td>3978.366456</td>\n",
              "      <td>3176.106282</td>\n",
              "      <td>3128.099835</td>\n",
              "      <td>3097.064109</td>\n",
              "      <td>3089.279249</td>\n",
              "      <td>3003.599890</td>\n",
              "      <td>2833.676900</td>\n",
              "      <td>2619.908290</td>\n",
              "      <td>...</td>\n",
              "      <td>123.475297</td>\n",
              "      <td>123.462932</td>\n",
              "      <td>123.362171</td>\n",
              "      <td>123.351179</td>\n",
              "      <td>123.306581</td>\n",
              "      <td>123.258291</td>\n",
              "      <td>123.158420</td>\n",
              "      <td>123.154015</td>\n",
              "      <td>123.077177</td>\n",
              "      <td>123.061641</td>\n",
              "    </tr>\n",
              "    <tr>\n",
              "      <th>min</th>\n",
              "      <td>0.000000</td>\n",
              "      <td>0.000000</td>\n",
              "      <td>0.000000</td>\n",
              "      <td>0.000000</td>\n",
              "      <td>519.750550</td>\n",
              "      <td>0.000000</td>\n",
              "      <td>0.000000</td>\n",
              "      <td>0.000000</td>\n",
              "      <td>0.000000</td>\n",
              "      <td>0.000000</td>\n",
              "      <td>...</td>\n",
              "      <td>0.000000</td>\n",
              "      <td>0.000000</td>\n",
              "      <td>0.000000</td>\n",
              "      <td>0.000000</td>\n",
              "      <td>0.000000</td>\n",
              "      <td>0.000000</td>\n",
              "      <td>0.000000</td>\n",
              "      <td>0.000000</td>\n",
              "      <td>0.000000</td>\n",
              "      <td>0.000000</td>\n",
              "    </tr>\n",
              "    <tr>\n",
              "      <th>25%</th>\n",
              "      <td>12010.673500</td>\n",
              "      <td>5857.477250</td>\n",
              "      <td>3613.406200</td>\n",
              "      <td>2114.959000</td>\n",
              "      <td>7905.214150</td>\n",
              "      <td>3500.865600</td>\n",
              "      <td>1524.513650</td>\n",
              "      <td>8470.981500</td>\n",
              "      <td>2970.992100</td>\n",
              "      <td>7075.414250</td>\n",
              "      <td>...</td>\n",
              "      <td>0.000000</td>\n",
              "      <td>0.000000</td>\n",
              "      <td>0.000000</td>\n",
              "      <td>0.000000</td>\n",
              "      <td>0.000000</td>\n",
              "      <td>0.000000</td>\n",
              "      <td>0.000000</td>\n",
              "      <td>0.000000</td>\n",
              "      <td>0.000000</td>\n",
              "      <td>0.000000</td>\n",
              "    </tr>\n",
              "    <tr>\n",
              "      <th>50%</th>\n",
              "      <td>19893.205000</td>\n",
              "      <td>8106.062500</td>\n",
              "      <td>4752.475600</td>\n",
              "      <td>3190.216800</td>\n",
              "      <td>9968.712000</td>\n",
              "      <td>4730.031200</td>\n",
              "      <td>2520.325400</td>\n",
              "      <td>10225.563000</td>\n",
              "      <td>4359.533700</td>\n",
              "      <td>8729.360000</td>\n",
              "      <td>...</td>\n",
              "      <td>66.361410</td>\n",
              "      <td>41.077885</td>\n",
              "      <td>79.897720</td>\n",
              "      <td>78.033554</td>\n",
              "      <td>0.000000</td>\n",
              "      <td>65.447170</td>\n",
              "      <td>0.000000</td>\n",
              "      <td>59.108643</td>\n",
              "      <td>57.430004</td>\n",
              "      <td>16.608261</td>\n",
              "    </tr>\n",
              "    <tr>\n",
              "      <th>75%</th>\n",
              "      <td>30962.057500</td>\n",
              "      <td>10570.919000</td>\n",
              "      <td>6922.972700</td>\n",
              "      <td>4744.304200</td>\n",
              "      <td>12098.396000</td>\n",
              "      <td>6380.133300</td>\n",
              "      <td>4423.490000</td>\n",
              "      <td>12113.780000</td>\n",
              "      <td>6219.104000</td>\n",
              "      <td>10508.414000</td>\n",
              "      <td>...</td>\n",
              "      <td>133.770455</td>\n",
              "      <td>122.567923</td>\n",
              "      <td>156.668740</td>\n",
              "      <td>150.009385</td>\n",
              "      <td>64.803280</td>\n",
              "      <td>133.415230</td>\n",
              "      <td>101.162477</td>\n",
              "      <td>122.458970</td>\n",
              "      <td>117.766025</td>\n",
              "      <td>110.686830</td>\n",
              "    </tr>\n",
              "    <tr>\n",
              "      <th>max</th>\n",
              "      <td>151105.110000</td>\n",
              "      <td>100249.940000</td>\n",
              "      <td>38342.453000</td>\n",
              "      <td>43321.300000</td>\n",
              "      <td>18940.480000</td>\n",
              "      <td>39224.000000</td>\n",
              "      <td>39814.400000</td>\n",
              "      <td>23356.402000</td>\n",
              "      <td>25552.280000</td>\n",
              "      <td>18648.018000</td>\n",
              "      <td>...</td>\n",
              "      <td>1295.336800</td>\n",
              "      <td>1297.577900</td>\n",
              "      <td>1039.501100</td>\n",
              "      <td>1245.330000</td>\n",
              "      <td>1992.032000</td>\n",
              "      <td>1144.492100</td>\n",
              "      <td>2490.660000</td>\n",
              "      <td>1497.379600</td>\n",
              "      <td>1781.472800</td>\n",
              "      <td>1850.709500</td>\n",
              "    </tr>\n",
              "  </tbody>\n",
              "</table>\n",
              "<p>8 rows × 1500 columns</p>\n",
              "</div>\n",
              "      <button class=\"colab-df-convert\" onclick=\"convertToInteractive('df-72f5ab51-5a28-4007-bfd4-0f5a0b04295b')\"\n",
              "              title=\"Convert this dataframe to an interactive table.\"\n",
              "              style=\"display:none;\">\n",
              "        \n",
              "  <svg xmlns=\"http://www.w3.org/2000/svg\" height=\"24px\"viewBox=\"0 0 24 24\"\n",
              "       width=\"24px\">\n",
              "    <path d=\"M0 0h24v24H0V0z\" fill=\"none\"/>\n",
              "    <path d=\"M18.56 5.44l.94 2.06.94-2.06 2.06-.94-2.06-.94-.94-2.06-.94 2.06-2.06.94zm-11 1L8.5 8.5l.94-2.06 2.06-.94-2.06-.94L8.5 2.5l-.94 2.06-2.06.94zm10 10l.94 2.06.94-2.06 2.06-.94-2.06-.94-.94-2.06-.94 2.06-2.06.94z\"/><path d=\"M17.41 7.96l-1.37-1.37c-.4-.4-.92-.59-1.43-.59-.52 0-1.04.2-1.43.59L10.3 9.45l-7.72 7.72c-.78.78-.78 2.05 0 2.83L4 21.41c.39.39.9.59 1.41.59.51 0 1.02-.2 1.41-.59l7.78-7.78 2.81-2.81c.8-.78.8-2.07 0-2.86zM5.41 20L4 18.59l7.72-7.72 1.47 1.35L5.41 20z\"/>\n",
              "  </svg>\n",
              "      </button>\n",
              "      \n",
              "  <style>\n",
              "    .colab-df-container {\n",
              "      display:flex;\n",
              "      flex-wrap:wrap;\n",
              "      gap: 12px;\n",
              "    }\n",
              "\n",
              "    .colab-df-convert {\n",
              "      background-color: #E8F0FE;\n",
              "      border: none;\n",
              "      border-radius: 50%;\n",
              "      cursor: pointer;\n",
              "      display: none;\n",
              "      fill: #1967D2;\n",
              "      height: 32px;\n",
              "      padding: 0 0 0 0;\n",
              "      width: 32px;\n",
              "    }\n",
              "\n",
              "    .colab-df-convert:hover {\n",
              "      background-color: #E2EBFA;\n",
              "      box-shadow: 0px 1px 2px rgba(60, 64, 67, 0.3), 0px 1px 3px 1px rgba(60, 64, 67, 0.15);\n",
              "      fill: #174EA6;\n",
              "    }\n",
              "\n",
              "    [theme=dark] .colab-df-convert {\n",
              "      background-color: #3B4455;\n",
              "      fill: #D2E3FC;\n",
              "    }\n",
              "\n",
              "    [theme=dark] .colab-df-convert:hover {\n",
              "      background-color: #434B5C;\n",
              "      box-shadow: 0px 1px 3px 1px rgba(0, 0, 0, 0.15);\n",
              "      filter: drop-shadow(0px 1px 2px rgba(0, 0, 0, 0.3));\n",
              "      fill: #FFFFFF;\n",
              "    }\n",
              "  </style>\n",
              "\n",
              "      <script>\n",
              "        const buttonEl =\n",
              "          document.querySelector('#df-72f5ab51-5a28-4007-bfd4-0f5a0b04295b button.colab-df-convert');\n",
              "        buttonEl.style.display =\n",
              "          google.colab.kernel.accessAllowed ? 'block' : 'none';\n",
              "\n",
              "        async function convertToInteractive(key) {\n",
              "          const element = document.querySelector('#df-72f5ab51-5a28-4007-bfd4-0f5a0b04295b');\n",
              "          const dataTable =\n",
              "            await google.colab.kernel.invokeFunction('convertToInteractive',\n",
              "                                                     [key], {});\n",
              "          if (!dataTable) return;\n",
              "\n",
              "          const docLinkHtml = 'Like what you see? Visit the ' +\n",
              "            '<a target=\"_blank\" href=https://colab.research.google.com/notebooks/data_table.ipynb>data table notebook</a>'\n",
              "            + ' to learn more about interactive tables.';\n",
              "          element.innerHTML = '';\n",
              "          dataTable['output_type'] = 'display_data';\n",
              "          await google.colab.output.renderOutput(dataTable, element);\n",
              "          const docLink = document.createElement('div');\n",
              "          docLink.innerHTML = docLinkHtml;\n",
              "          element.appendChild(docLink);\n",
              "        }\n",
              "      </script>\n",
              "    </div>\n",
              "  </div>\n",
              "  "
            ]
          },
          "metadata": {},
          "execution_count": 4
        }
      ]
    },
    {
      "cell_type": "markdown",
      "source": [
        "# Split dataset to features and labels"
      ],
      "metadata": {
        "id": "CGnJUB8Im0G6"
      }
    },
    {
      "cell_type": "code",
      "source": [
        "# Separate features and target variable\n",
        "X = final_data.iloc[:,1:-9]\n",
        "y_labels = final_data.iloc[:,-9:]"
      ],
      "metadata": {
        "id": "VmZgBC9hrul4"
      },
      "execution_count": 4,
      "outputs": []
    },
    {
      "cell_type": "markdown",
      "source": [
        "# Split dataset to two sets(training and test)\n"
      ],
      "metadata": {
        "id": "j9QG1PWoZ89y"
      }
    },
    {
      "cell_type": "markdown",
      "source": [
        "The test set is always completely hidden from all the procedures"
      ],
      "metadata": {
        "id": "8nXmSnc5EBKD"
      }
    },
    {
      "cell_type": "code",
      "source": [
        "# We get the labels that correspond to the 2 cluster results of the authors, since we experiment with a binary classification here\n",
        "y = y_labels['cluster_2']\n",
        "y = np.where(y == 1, 0, 1)"
      ],
      "metadata": {
        "id": "EXLi5DGe951P"
      },
      "execution_count": 5,
      "outputs": []
    },
    {
      "cell_type": "code",
      "source": [
        "# Standardize the features\n",
        "scaler = StandardScaler()\n",
        "X_std = scaler.fit_transform(X)"
      ],
      "metadata": {
        "id": "jd3gPGNT97Tu"
      },
      "execution_count": 6,
      "outputs": []
    },
    {
      "cell_type": "code",
      "source": [
        "# Convert y to a 1-dimensional array\n",
        "y = np.ravel(y)"
      ],
      "metadata": {
        "id": "cOhtoJi_9-Y9"
      },
      "execution_count": 7,
      "outputs": []
    },
    {
      "cell_type": "code",
      "source": [
        "# Split the dataset into training/validation set and test set using scikit's function train_test_split\n",
        "X_train_val, X_test, y_train_val, y_test = train_test_split(X_std, y, test_size=0.2, random_state=42)"
      ],
      "metadata": {
        "id": "0xCxgtgS-AaU"
      },
      "execution_count": 8,
      "outputs": []
    },
    {
      "cell_type": "code",
      "source": [],
      "metadata": {
        "id": "6s3EybW8c-ge"
      },
      "execution_count": null,
      "outputs": []
    },
    {
      "cell_type": "markdown",
      "source": [
        "# Fit the classifier with best parameters and features found using ANOVA"
      ],
      "metadata": {
        "id": "6YGSip3Qc2x2"
      }
    },
    {
      "cell_type": "markdown",
      "source": [
        "## SVC\n",
        "\n"
      ],
      "metadata": {
        "id": "y40rQ53-zzaU"
      }
    },
    {
      "cell_type": "markdown",
      "source": [
        "### Get best parameters and make predictions"
      ],
      "metadata": {
        "id": "NImo9DHfzfhA"
      }
    },
    {
      "cell_type": "code",
      "source": [
        "# Load the saved array from file\n",
        "best_features = np.load('best_features_ANOVA_SVC.npy')"
      ],
      "metadata": {
        "id": "Y-BlrPwvopa6"
      },
      "execution_count": 28,
      "outputs": []
    },
    {
      "cell_type": "markdown",
      "source": [
        "The 'selected_features_indices' list contains a set of integers, which are theindices of features that have been selected from the original feature set.\n",
        "These indices correspond to the selected features in the data\n",
        "\n",
        "X_test_selected will store the subset of the test data X_test, containing only the selected features. This is achieved by slicing the original test data using the indices stored in'selected_features_indices'."
      ],
      "metadata": {
        "id": "0WgXqNuJJ-ph"
      }
    },
    {
      "cell_type": "code",
      "source": [
        "selected_features_indices = [i for i, value in enumerate(best_features) if value]\n",
        "X_test_selected = X_test[:, selected_features_indices]"
      ],
      "metadata": {
        "id": "PmRKsJK4wewQ"
      },
      "execution_count": 29,
      "outputs": []
    },
    {
      "cell_type": "code",
      "source": [
        "X_train_val_selected_final_features = X_train_val[:, selected_features_indices] # do the same filter as above in order to get the corresponding features to train the classifier"
      ],
      "metadata": {
        "id": "8M6oV_oAxZ7v"
      },
      "execution_count": 30,
      "outputs": []
    },
    {
      "cell_type": "code",
      "source": [
        "X_test_selected.shape"
      ],
      "metadata": {
        "colab": {
          "base_uri": "https://localhost:8080/"
        },
        "id": "OLDTmPejwetd",
        "outputId": "931f946b-e2aa-4db8-d5bc-faf52bceaba1"
      },
      "execution_count": null,
      "outputs": [
        {
          "output_type": "execute_result",
          "data": {
            "text/plain": [
              "(286, 300)"
            ]
          },
          "metadata": {},
          "execution_count": 105
        }
      ]
    },
    {
      "cell_type": "code",
      "source": [
        "best_classifier_SVC = SVC(C=3.807947176588889, degree=2, gamma=0.951207163345817, kernel='linear') # define the classifier and its parameters"
      ],
      "metadata": {
        "id": "B4Vy_aQpweqc"
      },
      "execution_count": 31,
      "outputs": []
    },
    {
      "cell_type": "code",
      "source": [
        "best_classifier_SVC.fit(X_train_val_selected_final_features, y_train_val) # fit the classifier to the train data"
      ],
      "metadata": {
        "colab": {
          "base_uri": "https://localhost:8080/",
          "height": 74
        },
        "id": "6sKY-YjPwene",
        "outputId": "10d5cd17-f635-4577-8df5-926fc0f333d1"
      },
      "execution_count": 32,
      "outputs": [
        {
          "output_type": "execute_result",
          "data": {
            "text/plain": [
              "SVC(C=3.807947176588889, degree=2, gamma=0.951207163345817, kernel='linear')"
            ],
            "text/html": [
              "<style>#sk-container-id-2 {color: black;background-color: white;}#sk-container-id-2 pre{padding: 0;}#sk-container-id-2 div.sk-toggleable {background-color: white;}#sk-container-id-2 label.sk-toggleable__label {cursor: pointer;display: block;width: 100%;margin-bottom: 0;padding: 0.3em;box-sizing: border-box;text-align: center;}#sk-container-id-2 label.sk-toggleable__label-arrow:before {content: \"▸\";float: left;margin-right: 0.25em;color: #696969;}#sk-container-id-2 label.sk-toggleable__label-arrow:hover:before {color: black;}#sk-container-id-2 div.sk-estimator:hover label.sk-toggleable__label-arrow:before {color: black;}#sk-container-id-2 div.sk-toggleable__content {max-height: 0;max-width: 0;overflow: hidden;text-align: left;background-color: #f0f8ff;}#sk-container-id-2 div.sk-toggleable__content pre {margin: 0.2em;color: black;border-radius: 0.25em;background-color: #f0f8ff;}#sk-container-id-2 input.sk-toggleable__control:checked~div.sk-toggleable__content {max-height: 200px;max-width: 100%;overflow: auto;}#sk-container-id-2 input.sk-toggleable__control:checked~label.sk-toggleable__label-arrow:before {content: \"▾\";}#sk-container-id-2 div.sk-estimator input.sk-toggleable__control:checked~label.sk-toggleable__label {background-color: #d4ebff;}#sk-container-id-2 div.sk-label input.sk-toggleable__control:checked~label.sk-toggleable__label {background-color: #d4ebff;}#sk-container-id-2 input.sk-hidden--visually {border: 0;clip: rect(1px 1px 1px 1px);clip: rect(1px, 1px, 1px, 1px);height: 1px;margin: -1px;overflow: hidden;padding: 0;position: absolute;width: 1px;}#sk-container-id-2 div.sk-estimator {font-family: monospace;background-color: #f0f8ff;border: 1px dotted black;border-radius: 0.25em;box-sizing: border-box;margin-bottom: 0.5em;}#sk-container-id-2 div.sk-estimator:hover {background-color: #d4ebff;}#sk-container-id-2 div.sk-parallel-item::after {content: \"\";width: 100%;border-bottom: 1px solid gray;flex-grow: 1;}#sk-container-id-2 div.sk-label:hover label.sk-toggleable__label {background-color: #d4ebff;}#sk-container-id-2 div.sk-serial::before {content: \"\";position: absolute;border-left: 1px solid gray;box-sizing: border-box;top: 0;bottom: 0;left: 50%;z-index: 0;}#sk-container-id-2 div.sk-serial {display: flex;flex-direction: column;align-items: center;background-color: white;padding-right: 0.2em;padding-left: 0.2em;position: relative;}#sk-container-id-2 div.sk-item {position: relative;z-index: 1;}#sk-container-id-2 div.sk-parallel {display: flex;align-items: stretch;justify-content: center;background-color: white;position: relative;}#sk-container-id-2 div.sk-item::before, #sk-container-id-2 div.sk-parallel-item::before {content: \"\";position: absolute;border-left: 1px solid gray;box-sizing: border-box;top: 0;bottom: 0;left: 50%;z-index: -1;}#sk-container-id-2 div.sk-parallel-item {display: flex;flex-direction: column;z-index: 1;position: relative;background-color: white;}#sk-container-id-2 div.sk-parallel-item:first-child::after {align-self: flex-end;width: 50%;}#sk-container-id-2 div.sk-parallel-item:last-child::after {align-self: flex-start;width: 50%;}#sk-container-id-2 div.sk-parallel-item:only-child::after {width: 0;}#sk-container-id-2 div.sk-dashed-wrapped {border: 1px dashed gray;margin: 0 0.4em 0.5em 0.4em;box-sizing: border-box;padding-bottom: 0.4em;background-color: white;}#sk-container-id-2 div.sk-label label {font-family: monospace;font-weight: bold;display: inline-block;line-height: 1.2em;}#sk-container-id-2 div.sk-label-container {text-align: center;}#sk-container-id-2 div.sk-container {/* jupyter's `normalize.less` sets `[hidden] { display: none; }` but bootstrap.min.css set `[hidden] { display: none !important; }` so we also need the `!important` here to be able to override the default hidden behavior on the sphinx rendered scikit-learn.org. See: https://github.com/scikit-learn/scikit-learn/issues/21755 */display: inline-block !important;position: relative;}#sk-container-id-2 div.sk-text-repr-fallback {display: none;}</style><div id=\"sk-container-id-2\" class=\"sk-top-container\"><div class=\"sk-text-repr-fallback\"><pre>SVC(C=3.807947176588889, degree=2, gamma=0.951207163345817, kernel=&#x27;linear&#x27;)</pre><b>In a Jupyter environment, please rerun this cell to show the HTML representation or trust the notebook. <br />On GitHub, the HTML representation is unable to render, please try loading this page with nbviewer.org.</b></div><div class=\"sk-container\" hidden><div class=\"sk-item\"><div class=\"sk-estimator sk-toggleable\"><input class=\"sk-toggleable__control sk-hidden--visually\" id=\"sk-estimator-id-2\" type=\"checkbox\" checked><label for=\"sk-estimator-id-2\" class=\"sk-toggleable__label sk-toggleable__label-arrow\">SVC</label><div class=\"sk-toggleable__content\"><pre>SVC(C=3.807947176588889, degree=2, gamma=0.951207163345817, kernel=&#x27;linear&#x27;)</pre></div></div></div></div></div>"
            ]
          },
          "metadata": {},
          "execution_count": 32
        }
      ]
    },
    {
      "cell_type": "code",
      "source": [
        "y_test_pred = best_classifier_SVC.predict(X_test_selected) # make prediction on the test set using the trained classifier"
      ],
      "metadata": {
        "id": "Gy4YZNL9wekn"
      },
      "execution_count": 33,
      "outputs": []
    },
    {
      "cell_type": "code",
      "source": [
        "# Compute the metroc scores\n",
        "balanced_acc_SVC = balanced_accuracy_score(y_test, y_test_pred)\n",
        "precision_SVC = precision_score(y_test, y_test_pred)\n",
        "recall_SVC = recall_score(y_test, y_test_pred)\n",
        "f1_SVC = f1_score(y_test, y_test_pred)"
      ],
      "metadata": {
        "id": "dEWHhqiJwehs"
      },
      "execution_count": 34,
      "outputs": []
    },
    {
      "cell_type": "code",
      "source": [
        "# Printing the metrics\n",
        "print(\"Balanced Accuracy:\", balanced_acc_SVC)\n",
        "print(\"Precision:\", precision_SVC)\n",
        "print(\"Recall:\", recall_SVC)\n",
        "print(\"F1 Score:\", f1_SVC)"
      ],
      "metadata": {
        "colab": {
          "base_uri": "https://localhost:8080/"
        },
        "id": "Da3dELtoKWAV",
        "outputId": "a7251f9e-465a-46a8-bcd2-fb369cfeeb04"
      },
      "execution_count": 35,
      "outputs": [
        {
          "output_type": "stream",
          "name": "stdout",
          "text": [
            "Balanced Accuracy: 0.9666252072968491\n",
            "Precision: 0.85\n",
            "Recall: 0.9444444444444444\n",
            "F1 Score: 0.8947368421052632\n"
          ]
        }
      ]
    },
    {
      "cell_type": "markdown",
      "source": [
        "### Feature Importance"
      ],
      "metadata": {
        "id": "3bvTIkdrDqBG"
      }
    },
    {
      "cell_type": "code",
      "source": [
        "# Get the coefficients and support vectors\n",
        "coefs = best_classifier_SVC.coef_\n",
        "support_vectors = best_classifier_SVC.support_vectors_\n",
        "\n",
        "# Calculate the feature importance scores\n",
        "feature_importance = np.abs(np.dot(coefs, support_vectors.T))\n",
        "\n",
        "# Get the top 20 indices of the feature importance scores\n",
        "top20_indices = np.argsort(feature_importance[0])[-20:]\n",
        "\n",
        "# Print the top 20 indices\n",
        "print(top20_indices)"
      ],
      "metadata": {
        "colab": {
          "base_uri": "https://localhost:8080/"
        },
        "id": "k81cNBUoh01l",
        "outputId": "30715066-7f1f-4a3e-8294-459813911ae6"
      },
      "execution_count": null,
      "outputs": [
        {
          "output_type": "stream",
          "name": "stdout",
          "text": [
            "[36 42 51 55 25 29 43 28 38 41 46 48 40 52 47 30 49 33 31 24]\n"
          ]
        }
      ]
    },
    {
      "cell_type": "code",
      "source": [
        "top20_indices_SVC= pd.Series(top20_indices).sort_values(ascending=False) # turn the top20_indices array to a set and sort it"
      ],
      "metadata": {
        "id": "LVFrpYqHD93Z"
      },
      "execution_count": null,
      "outputs": []
    },
    {
      "cell_type": "code",
      "source": [
        "# Filter the DataFrame using the boolean array\n",
        "data_filtered_features = final_data.iloc[:,1:-9].loc[:, best_features]\n",
        "\n",
        "# Print the filtered DataFrame\n",
        "data_filtered_features"
      ],
      "metadata": {
        "colab": {
          "base_uri": "https://localhost:8080/",
          "height": 487
        },
        "outputId": "8216287a-bbaa-4706-dab3-9a7c5bfa1296",
        "id": "SB6gG2PQD93X"
      },
      "execution_count": null,
      "outputs": [
        {
          "output_type": "execute_result",
          "data": {
            "text/plain": [
              "      ENSG00000205542  ENSG00000198804  ENSG00000198712  ENSG00000075624  \\\n",
              "0           32962.305       9065.20200        5350.2246        4950.4950   \n",
              "1           34861.200          0.00000           0.0000        3873.4666   \n",
              "2           17791.770       9193.14500        3431.0170        1061.1393   \n",
              "3           26513.914      10016.36700        5564.6484        3404.2556   \n",
              "4           30791.666      18116.04300        7347.3735        2636.0806   \n",
              "...               ...              ...              ...              ...   \n",
              "1422        20833.332      11986.30100        6849.3150        3139.2693   \n",
              "1423        73876.350        172.20595           0.0000       18598.2420   \n",
              "1424        22690.557      14539.58000        4038.7722        3671.6110   \n",
              "1425        54775.516       5771.68550        2830.3457        8047.0615   \n",
              "1426        15493.742       8285.11500        3748.4860        2383.6526   \n",
              "\n",
              "      ENSG00000229117  ENSG00000111640  ENSG00000198938  ENSG00000034510  \\\n",
              "0           9255.0700        6949.1420        2982.5964        5442.4697   \n",
              "1          12696.3620        9038.0890           0.0000        8177.3180   \n",
              "2          14643.7230        6402.2075        3218.7893        3324.9033   \n",
              "3           7725.0415        3076.9233        2029.4601        8707.0380   \n",
              "4           8469.1100        4655.2060        6449.9844        3084.7751   \n",
              "...               ...              ...              ...              ...   \n",
              "1422       14554.7940        3995.4336        7420.0913        6563.9270   \n",
              "1423       10160.1510        7921.4736           0.0000        7404.8560   \n",
              "1424        8003.4385        8150.9766        5140.2554        2202.9666   \n",
              "1425        8713.0250        9101.5040        2830.3457        2663.8547   \n",
              "1426        7515.4080        6631.9370        3287.1338        3998.3850   \n",
              "\n",
              "      ENSG00000198886  ENSG00000187514  ...  ENSG00000197081  ENSG00000078674  \\\n",
              "0          4119.83250        7287.3750  ...        118.27511       184.490510   \n",
              "1             0.00000        6670.9700  ...          0.00000         0.000000   \n",
              "2          3606.52640        3360.2747  ...        219.23100         0.000000   \n",
              "3          3927.98730        1767.5942  ...        130.93290       130.932900   \n",
              "4          5833.02930        2187.3860  ...          0.00000       112.173645   \n",
              "...               ...              ...  ...              ...              ...   \n",
              "1422       5993.15040        3424.6575  ...          0.00000         0.000000   \n",
              "1423        516.61786        1894.2654  ...          0.00000         0.000000   \n",
              "1424       5433.98440        4259.0690  ...          0.00000       220.296660   \n",
              "1425       2608.35800       11376.8800  ...        147.99194       221.987900   \n",
              "1426       3171.67940        5055.2104  ...         40.12822       230.676060   \n",
              "\n",
              "      ENSG00000153982  ENSG00000085117  ENSG00000135069  ENSG00000105392  \\\n",
              "0           61.496834        47.390750       184.490510       101.367905   \n",
              "1            0.000000         0.000000         0.000000         0.000000   \n",
              "2          115.996070       106.113940         0.000000        70.742620   \n",
              "3            0.000000       189.144900        65.466450       261.865800   \n",
              "4           56.086823       168.260470        56.086823       196.303880   \n",
              "...               ...              ...              ...              ...   \n",
              "1422         0.000000       285.388120         0.000000         0.000000   \n",
              "1423         0.000000         0.000000         0.000000         0.000000   \n",
              "1424         0.000000        73.432220       146.864440       264.356000   \n",
              "1425        55.496975       194.239410       166.490920         0.000000   \n",
              "1426        82.097176        41.007996       192.230060         0.000000   \n",
              "\n",
              "      ENSG00000091164  ENSG00000006625  ENSG00000241553  ENSG00000106399  \n",
              "0           61.496834        61.496834        30.748417       215.238920  \n",
              "1          645.577760         0.000000       215.192580       215.192580  \n",
              "2           70.742620        35.371310        35.371310         0.000000  \n",
              "3          130.932900         0.000000         0.000000         0.000000  \n",
              "4            0.000000        56.086823       224.347290         0.000000  \n",
              "...               ...              ...              ...              ...  \n",
              "1422         0.000000         0.000000         0.000000         0.000000  \n",
              "1423       516.617860         0.000000         0.000000         0.000000  \n",
              "1424       146.864440        73.432220         0.000000         0.000000  \n",
              "1425       221.987900         0.000000        55.496975        55.496975  \n",
              "1426       211.453060        96.115030        96.115030       153.784040  \n",
              "\n",
              "[1427 rows x 300 columns]"
            ],
            "text/html": [
              "\n",
              "  <div id=\"df-1f7f797c-6a20-45fc-a8a1-dd42cad45dd3\">\n",
              "    <div class=\"colab-df-container\">\n",
              "      <div>\n",
              "<style scoped>\n",
              "    .dataframe tbody tr th:only-of-type {\n",
              "        vertical-align: middle;\n",
              "    }\n",
              "\n",
              "    .dataframe tbody tr th {\n",
              "        vertical-align: top;\n",
              "    }\n",
              "\n",
              "    .dataframe thead th {\n",
              "        text-align: right;\n",
              "    }\n",
              "</style>\n",
              "<table border=\"1\" class=\"dataframe\">\n",
              "  <thead>\n",
              "    <tr style=\"text-align: right;\">\n",
              "      <th></th>\n",
              "      <th>ENSG00000205542</th>\n",
              "      <th>ENSG00000198804</th>\n",
              "      <th>ENSG00000198712</th>\n",
              "      <th>ENSG00000075624</th>\n",
              "      <th>ENSG00000229117</th>\n",
              "      <th>ENSG00000111640</th>\n",
              "      <th>ENSG00000198938</th>\n",
              "      <th>ENSG00000034510</th>\n",
              "      <th>ENSG00000198886</th>\n",
              "      <th>ENSG00000187514</th>\n",
              "      <th>...</th>\n",
              "      <th>ENSG00000197081</th>\n",
              "      <th>ENSG00000078674</th>\n",
              "      <th>ENSG00000153982</th>\n",
              "      <th>ENSG00000085117</th>\n",
              "      <th>ENSG00000135069</th>\n",
              "      <th>ENSG00000105392</th>\n",
              "      <th>ENSG00000091164</th>\n",
              "      <th>ENSG00000006625</th>\n",
              "      <th>ENSG00000241553</th>\n",
              "      <th>ENSG00000106399</th>\n",
              "    </tr>\n",
              "  </thead>\n",
              "  <tbody>\n",
              "    <tr>\n",
              "      <th>0</th>\n",
              "      <td>32962.305</td>\n",
              "      <td>9065.20200</td>\n",
              "      <td>5350.2246</td>\n",
              "      <td>4950.4950</td>\n",
              "      <td>9255.0700</td>\n",
              "      <td>6949.1420</td>\n",
              "      <td>2982.5964</td>\n",
              "      <td>5442.4697</td>\n",
              "      <td>4119.83250</td>\n",
              "      <td>7287.3750</td>\n",
              "      <td>...</td>\n",
              "      <td>118.27511</td>\n",
              "      <td>184.490510</td>\n",
              "      <td>61.496834</td>\n",
              "      <td>47.390750</td>\n",
              "      <td>184.490510</td>\n",
              "      <td>101.367905</td>\n",
              "      <td>61.496834</td>\n",
              "      <td>61.496834</td>\n",
              "      <td>30.748417</td>\n",
              "      <td>215.238920</td>\n",
              "    </tr>\n",
              "    <tr>\n",
              "      <th>1</th>\n",
              "      <td>34861.200</td>\n",
              "      <td>0.00000</td>\n",
              "      <td>0.0000</td>\n",
              "      <td>3873.4666</td>\n",
              "      <td>12696.3620</td>\n",
              "      <td>9038.0890</td>\n",
              "      <td>0.0000</td>\n",
              "      <td>8177.3180</td>\n",
              "      <td>0.00000</td>\n",
              "      <td>6670.9700</td>\n",
              "      <td>...</td>\n",
              "      <td>0.00000</td>\n",
              "      <td>0.000000</td>\n",
              "      <td>0.000000</td>\n",
              "      <td>0.000000</td>\n",
              "      <td>0.000000</td>\n",
              "      <td>0.000000</td>\n",
              "      <td>645.577760</td>\n",
              "      <td>0.000000</td>\n",
              "      <td>215.192580</td>\n",
              "      <td>215.192580</td>\n",
              "    </tr>\n",
              "    <tr>\n",
              "      <th>2</th>\n",
              "      <td>17791.770</td>\n",
              "      <td>9193.14500</td>\n",
              "      <td>3431.0170</td>\n",
              "      <td>1061.1393</td>\n",
              "      <td>14643.7230</td>\n",
              "      <td>6402.2075</td>\n",
              "      <td>3218.7893</td>\n",
              "      <td>3324.9033</td>\n",
              "      <td>3606.52640</td>\n",
              "      <td>3360.2747</td>\n",
              "      <td>...</td>\n",
              "      <td>219.23100</td>\n",
              "      <td>0.000000</td>\n",
              "      <td>115.996070</td>\n",
              "      <td>106.113940</td>\n",
              "      <td>0.000000</td>\n",
              "      <td>70.742620</td>\n",
              "      <td>70.742620</td>\n",
              "      <td>35.371310</td>\n",
              "      <td>35.371310</td>\n",
              "      <td>0.000000</td>\n",
              "    </tr>\n",
              "    <tr>\n",
              "      <th>3</th>\n",
              "      <td>26513.914</td>\n",
              "      <td>10016.36700</td>\n",
              "      <td>5564.6484</td>\n",
              "      <td>3404.2556</td>\n",
              "      <td>7725.0415</td>\n",
              "      <td>3076.9233</td>\n",
              "      <td>2029.4601</td>\n",
              "      <td>8707.0380</td>\n",
              "      <td>3927.98730</td>\n",
              "      <td>1767.5942</td>\n",
              "      <td>...</td>\n",
              "      <td>130.93290</td>\n",
              "      <td>130.932900</td>\n",
              "      <td>0.000000</td>\n",
              "      <td>189.144900</td>\n",
              "      <td>65.466450</td>\n",
              "      <td>261.865800</td>\n",
              "      <td>130.932900</td>\n",
              "      <td>0.000000</td>\n",
              "      <td>0.000000</td>\n",
              "      <td>0.000000</td>\n",
              "    </tr>\n",
              "    <tr>\n",
              "      <th>4</th>\n",
              "      <td>30791.666</td>\n",
              "      <td>18116.04300</td>\n",
              "      <td>7347.3735</td>\n",
              "      <td>2636.0806</td>\n",
              "      <td>8469.1100</td>\n",
              "      <td>4655.2060</td>\n",
              "      <td>6449.9844</td>\n",
              "      <td>3084.7751</td>\n",
              "      <td>5833.02930</td>\n",
              "      <td>2187.3860</td>\n",
              "      <td>...</td>\n",
              "      <td>0.00000</td>\n",
              "      <td>112.173645</td>\n",
              "      <td>56.086823</td>\n",
              "      <td>168.260470</td>\n",
              "      <td>56.086823</td>\n",
              "      <td>196.303880</td>\n",
              "      <td>0.000000</td>\n",
              "      <td>56.086823</td>\n",
              "      <td>224.347290</td>\n",
              "      <td>0.000000</td>\n",
              "    </tr>\n",
              "    <tr>\n",
              "      <th>...</th>\n",
              "      <td>...</td>\n",
              "      <td>...</td>\n",
              "      <td>...</td>\n",
              "      <td>...</td>\n",
              "      <td>...</td>\n",
              "      <td>...</td>\n",
              "      <td>...</td>\n",
              "      <td>...</td>\n",
              "      <td>...</td>\n",
              "      <td>...</td>\n",
              "      <td>...</td>\n",
              "      <td>...</td>\n",
              "      <td>...</td>\n",
              "      <td>...</td>\n",
              "      <td>...</td>\n",
              "      <td>...</td>\n",
              "      <td>...</td>\n",
              "      <td>...</td>\n",
              "      <td>...</td>\n",
              "      <td>...</td>\n",
              "      <td>...</td>\n",
              "    </tr>\n",
              "    <tr>\n",
              "      <th>1422</th>\n",
              "      <td>20833.332</td>\n",
              "      <td>11986.30100</td>\n",
              "      <td>6849.3150</td>\n",
              "      <td>3139.2693</td>\n",
              "      <td>14554.7940</td>\n",
              "      <td>3995.4336</td>\n",
              "      <td>7420.0913</td>\n",
              "      <td>6563.9270</td>\n",
              "      <td>5993.15040</td>\n",
              "      <td>3424.6575</td>\n",
              "      <td>...</td>\n",
              "      <td>0.00000</td>\n",
              "      <td>0.000000</td>\n",
              "      <td>0.000000</td>\n",
              "      <td>285.388120</td>\n",
              "      <td>0.000000</td>\n",
              "      <td>0.000000</td>\n",
              "      <td>0.000000</td>\n",
              "      <td>0.000000</td>\n",
              "      <td>0.000000</td>\n",
              "      <td>0.000000</td>\n",
              "    </tr>\n",
              "    <tr>\n",
              "      <th>1423</th>\n",
              "      <td>73876.350</td>\n",
              "      <td>172.20595</td>\n",
              "      <td>0.0000</td>\n",
              "      <td>18598.2420</td>\n",
              "      <td>10160.1510</td>\n",
              "      <td>7921.4736</td>\n",
              "      <td>0.0000</td>\n",
              "      <td>7404.8560</td>\n",
              "      <td>516.61786</td>\n",
              "      <td>1894.2654</td>\n",
              "      <td>...</td>\n",
              "      <td>0.00000</td>\n",
              "      <td>0.000000</td>\n",
              "      <td>0.000000</td>\n",
              "      <td>0.000000</td>\n",
              "      <td>0.000000</td>\n",
              "      <td>0.000000</td>\n",
              "      <td>516.617860</td>\n",
              "      <td>0.000000</td>\n",
              "      <td>0.000000</td>\n",
              "      <td>0.000000</td>\n",
              "    </tr>\n",
              "    <tr>\n",
              "      <th>1424</th>\n",
              "      <td>22690.557</td>\n",
              "      <td>14539.58000</td>\n",
              "      <td>4038.7722</td>\n",
              "      <td>3671.6110</td>\n",
              "      <td>8003.4385</td>\n",
              "      <td>8150.9766</td>\n",
              "      <td>5140.2554</td>\n",
              "      <td>2202.9666</td>\n",
              "      <td>5433.98440</td>\n",
              "      <td>4259.0690</td>\n",
              "      <td>...</td>\n",
              "      <td>0.00000</td>\n",
              "      <td>220.296660</td>\n",
              "      <td>0.000000</td>\n",
              "      <td>73.432220</td>\n",
              "      <td>146.864440</td>\n",
              "      <td>264.356000</td>\n",
              "      <td>146.864440</td>\n",
              "      <td>73.432220</td>\n",
              "      <td>0.000000</td>\n",
              "      <td>0.000000</td>\n",
              "    </tr>\n",
              "    <tr>\n",
              "      <th>1425</th>\n",
              "      <td>54775.516</td>\n",
              "      <td>5771.68550</td>\n",
              "      <td>2830.3457</td>\n",
              "      <td>8047.0615</td>\n",
              "      <td>8713.0250</td>\n",
              "      <td>9101.5040</td>\n",
              "      <td>2830.3457</td>\n",
              "      <td>2663.8547</td>\n",
              "      <td>2608.35800</td>\n",
              "      <td>11376.8800</td>\n",
              "      <td>...</td>\n",
              "      <td>147.99194</td>\n",
              "      <td>221.987900</td>\n",
              "      <td>55.496975</td>\n",
              "      <td>194.239410</td>\n",
              "      <td>166.490920</td>\n",
              "      <td>0.000000</td>\n",
              "      <td>221.987900</td>\n",
              "      <td>0.000000</td>\n",
              "      <td>55.496975</td>\n",
              "      <td>55.496975</td>\n",
              "    </tr>\n",
              "    <tr>\n",
              "      <th>1426</th>\n",
              "      <td>15493.742</td>\n",
              "      <td>8285.11500</td>\n",
              "      <td>3748.4860</td>\n",
              "      <td>2383.6526</td>\n",
              "      <td>7515.4080</td>\n",
              "      <td>6631.9370</td>\n",
              "      <td>3287.1338</td>\n",
              "      <td>3998.3850</td>\n",
              "      <td>3171.67940</td>\n",
              "      <td>5055.2104</td>\n",
              "      <td>...</td>\n",
              "      <td>40.12822</td>\n",
              "      <td>230.676060</td>\n",
              "      <td>82.097176</td>\n",
              "      <td>41.007996</td>\n",
              "      <td>192.230060</td>\n",
              "      <td>0.000000</td>\n",
              "      <td>211.453060</td>\n",
              "      <td>96.115030</td>\n",
              "      <td>96.115030</td>\n",
              "      <td>153.784040</td>\n",
              "    </tr>\n",
              "  </tbody>\n",
              "</table>\n",
              "<p>1427 rows × 300 columns</p>\n",
              "</div>\n",
              "      <button class=\"colab-df-convert\" onclick=\"convertToInteractive('df-1f7f797c-6a20-45fc-a8a1-dd42cad45dd3')\"\n",
              "              title=\"Convert this dataframe to an interactive table.\"\n",
              "              style=\"display:none;\">\n",
              "        \n",
              "  <svg xmlns=\"http://www.w3.org/2000/svg\" height=\"24px\"viewBox=\"0 0 24 24\"\n",
              "       width=\"24px\">\n",
              "    <path d=\"M0 0h24v24H0V0z\" fill=\"none\"/>\n",
              "    <path d=\"M18.56 5.44l.94 2.06.94-2.06 2.06-.94-2.06-.94-.94-2.06-.94 2.06-2.06.94zm-11 1L8.5 8.5l.94-2.06 2.06-.94-2.06-.94L8.5 2.5l-.94 2.06-2.06.94zm10 10l.94 2.06.94-2.06 2.06-.94-2.06-.94-.94-2.06-.94 2.06-2.06.94z\"/><path d=\"M17.41 7.96l-1.37-1.37c-.4-.4-.92-.59-1.43-.59-.52 0-1.04.2-1.43.59L10.3 9.45l-7.72 7.72c-.78.78-.78 2.05 0 2.83L4 21.41c.39.39.9.59 1.41.59.51 0 1.02-.2 1.41-.59l7.78-7.78 2.81-2.81c.8-.78.8-2.07 0-2.86zM5.41 20L4 18.59l7.72-7.72 1.47 1.35L5.41 20z\"/>\n",
              "  </svg>\n",
              "      </button>\n",
              "      \n",
              "  <style>\n",
              "    .colab-df-container {\n",
              "      display:flex;\n",
              "      flex-wrap:wrap;\n",
              "      gap: 12px;\n",
              "    }\n",
              "\n",
              "    .colab-df-convert {\n",
              "      background-color: #E8F0FE;\n",
              "      border: none;\n",
              "      border-radius: 50%;\n",
              "      cursor: pointer;\n",
              "      display: none;\n",
              "      fill: #1967D2;\n",
              "      height: 32px;\n",
              "      padding: 0 0 0 0;\n",
              "      width: 32px;\n",
              "    }\n",
              "\n",
              "    .colab-df-convert:hover {\n",
              "      background-color: #E2EBFA;\n",
              "      box-shadow: 0px 1px 2px rgba(60, 64, 67, 0.3), 0px 1px 3px 1px rgba(60, 64, 67, 0.15);\n",
              "      fill: #174EA6;\n",
              "    }\n",
              "\n",
              "    [theme=dark] .colab-df-convert {\n",
              "      background-color: #3B4455;\n",
              "      fill: #D2E3FC;\n",
              "    }\n",
              "\n",
              "    [theme=dark] .colab-df-convert:hover {\n",
              "      background-color: #434B5C;\n",
              "      box-shadow: 0px 1px 3px 1px rgba(0, 0, 0, 0.15);\n",
              "      filter: drop-shadow(0px 1px 2px rgba(0, 0, 0, 0.3));\n",
              "      fill: #FFFFFF;\n",
              "    }\n",
              "  </style>\n",
              "\n",
              "      <script>\n",
              "        const buttonEl =\n",
              "          document.querySelector('#df-1f7f797c-6a20-45fc-a8a1-dd42cad45dd3 button.colab-df-convert');\n",
              "        buttonEl.style.display =\n",
              "          google.colab.kernel.accessAllowed ? 'block' : 'none';\n",
              "\n",
              "        async function convertToInteractive(key) {\n",
              "          const element = document.querySelector('#df-1f7f797c-6a20-45fc-a8a1-dd42cad45dd3');\n",
              "          const dataTable =\n",
              "            await google.colab.kernel.invokeFunction('convertToInteractive',\n",
              "                                                     [key], {});\n",
              "          if (!dataTable) return;\n",
              "\n",
              "          const docLinkHtml = 'Like what you see? Visit the ' +\n",
              "            '<a target=\"_blank\" href=https://colab.research.google.com/notebooks/data_table.ipynb>data table notebook</a>'\n",
              "            + ' to learn more about interactive tables.';\n",
              "          element.innerHTML = '';\n",
              "          dataTable['output_type'] = 'display_data';\n",
              "          await google.colab.output.renderOutput(dataTable, element);\n",
              "          const docLink = document.createElement('div');\n",
              "          docLink.innerHTML = docLinkHtml;\n",
              "          element.appendChild(docLink);\n",
              "        }\n",
              "      </script>\n",
              "    </div>\n",
              "  </div>\n",
              "  "
            ]
          },
          "metadata": {},
          "execution_count": 68
        }
      ]
    },
    {
      "cell_type": "code",
      "source": [
        "# Get the column names corresponding to the series indices\n",
        "column_names_SVC = data_filtered_features.columns[top20_indices_SVC.index]\n",
        "\n",
        "# Print the column names\n",
        "print(column_names_SVC)"
      ],
      "metadata": {
        "colab": {
          "base_uri": "https://localhost:8080/"
        },
        "outputId": "b8f94c37-5527-482a-d163-b8cd5fff53f2",
        "id": "ZYSBjjlGD93X"
      },
      "execution_count": null,
      "outputs": [
        {
          "output_type": "stream",
          "name": "stdout",
          "text": [
            "Index(['ENSG00000075624', 'ENSG00000197958', 'ENSG00000198712',\n",
            "       'ENSG00000288299', 'ENSG00000184009', 'ENSG00000074800',\n",
            "       'ENSG00000145423', 'ENSG00000198938', 'ENSG00000198804',\n",
            "       'ENSG00000187514', 'ENSG00000198899', 'ENSG00000198886',\n",
            "       'ENSG00000205542', 'ENSG00000256618', 'ENSG00000108107',\n",
            "       'ENSG00000084207', 'ENSG00000111640', 'ENSG00000034510',\n",
            "       'ENSG00000229117', 'ENSG00000111057'],\n",
            "      dtype='object')\n"
          ]
        }
      ]
    },
    {
      "cell_type": "markdown",
      "source": [
        "## Logistic Regression"
      ],
      "metadata": {
        "id": "3IWlf0dH55Ny"
      }
    },
    {
      "cell_type": "markdown",
      "source": [
        "### Get best parameters and make predictions"
      ],
      "metadata": {
        "id": "fqxkUCufi0L1"
      }
    },
    {
      "cell_type": "code",
      "source": [
        "# Load the saved array from file\n",
        "best_features = np.load('best_features_ANOVA_LR.npy')"
      ],
      "metadata": {
        "id": "rKC3vpmRppEx"
      },
      "execution_count": 37,
      "outputs": []
    },
    {
      "cell_type": "markdown",
      "source": [
        "The 'selected_features_indices' list contains a set of integers, which are theindices of features that have been selected from the original feature set. These indices correspond to the selected features in the data\n",
        "\n",
        "X_test_selected will store the subset of the test data X_test, containing only the selected features. This is achieved by slicing the original test data using the indices stored in'selected_features_indices'"
      ],
      "metadata": {
        "id": "XBGjSP5gW8nY"
      }
    },
    {
      "cell_type": "code",
      "source": [
        "selected_features_indices = [i for i, value in enumerate(best_features) if value]\n",
        "X_test_selected = X_test[:, selected_features_indices]"
      ],
      "metadata": {
        "id": "SKOuQFpGi0L1"
      },
      "execution_count": 10,
      "outputs": []
    },
    {
      "cell_type": "code",
      "source": [
        "X_train_val_selected_final_features = X_train_val[:, selected_features_indices] # perform the same filtering on the training set in order to fit the classifier"
      ],
      "metadata": {
        "id": "bcIAhFHdi0L1"
      },
      "execution_count": 11,
      "outputs": []
    },
    {
      "cell_type": "code",
      "source": [
        "X_test_selected.shape"
      ],
      "metadata": {
        "colab": {
          "base_uri": "https://localhost:8080/"
        },
        "outputId": "774899b5-6106-4e73-bdcc-0e0e4532bc49",
        "id": "bmGwpCmNi0L1"
      },
      "execution_count": null,
      "outputs": [
        {
          "output_type": "execute_result",
          "data": {
            "text/plain": [
              "(286, 300)"
            ]
          },
          "metadata": {},
          "execution_count": 29
        }
      ]
    },
    {
      "cell_type": "code",
      "source": [
        "best_classifier_LG = LogisticRegression(C=95.07143113384855, solver='newton-cg',tol=0.0003751655787285152)"
      ],
      "metadata": {
        "id": "QCJfhL-9i0L1"
      },
      "execution_count": 12,
      "outputs": []
    },
    {
      "cell_type": "code",
      "source": [
        "best_classifier_LG.fit(X_train_val_selected_final_features, y_train_val)"
      ],
      "metadata": {
        "colab": {
          "base_uri": "https://localhost:8080/",
          "height": 92
        },
        "outputId": "f4463c43-486b-47b7-f2c2-6e781bb1928e",
        "id": "8vo7Jsbgi0L2"
      },
      "execution_count": 13,
      "outputs": [
        {
          "output_type": "execute_result",
          "data": {
            "text/plain": [
              "LogisticRegression(C=95.07143113384855, solver='newton-cg',\n",
              "                   tol=0.0003751655787285152)"
            ],
            "text/html": [
              "<style>#sk-container-id-1 {color: black;background-color: white;}#sk-container-id-1 pre{padding: 0;}#sk-container-id-1 div.sk-toggleable {background-color: white;}#sk-container-id-1 label.sk-toggleable__label {cursor: pointer;display: block;width: 100%;margin-bottom: 0;padding: 0.3em;box-sizing: border-box;text-align: center;}#sk-container-id-1 label.sk-toggleable__label-arrow:before {content: \"▸\";float: left;margin-right: 0.25em;color: #696969;}#sk-container-id-1 label.sk-toggleable__label-arrow:hover:before {color: black;}#sk-container-id-1 div.sk-estimator:hover label.sk-toggleable__label-arrow:before {color: black;}#sk-container-id-1 div.sk-toggleable__content {max-height: 0;max-width: 0;overflow: hidden;text-align: left;background-color: #f0f8ff;}#sk-container-id-1 div.sk-toggleable__content pre {margin: 0.2em;color: black;border-radius: 0.25em;background-color: #f0f8ff;}#sk-container-id-1 input.sk-toggleable__control:checked~div.sk-toggleable__content {max-height: 200px;max-width: 100%;overflow: auto;}#sk-container-id-1 input.sk-toggleable__control:checked~label.sk-toggleable__label-arrow:before {content: \"▾\";}#sk-container-id-1 div.sk-estimator input.sk-toggleable__control:checked~label.sk-toggleable__label {background-color: #d4ebff;}#sk-container-id-1 div.sk-label input.sk-toggleable__control:checked~label.sk-toggleable__label {background-color: #d4ebff;}#sk-container-id-1 input.sk-hidden--visually {border: 0;clip: rect(1px 1px 1px 1px);clip: rect(1px, 1px, 1px, 1px);height: 1px;margin: -1px;overflow: hidden;padding: 0;position: absolute;width: 1px;}#sk-container-id-1 div.sk-estimator {font-family: monospace;background-color: #f0f8ff;border: 1px dotted black;border-radius: 0.25em;box-sizing: border-box;margin-bottom: 0.5em;}#sk-container-id-1 div.sk-estimator:hover {background-color: #d4ebff;}#sk-container-id-1 div.sk-parallel-item::after {content: \"\";width: 100%;border-bottom: 1px solid gray;flex-grow: 1;}#sk-container-id-1 div.sk-label:hover label.sk-toggleable__label {background-color: #d4ebff;}#sk-container-id-1 div.sk-serial::before {content: \"\";position: absolute;border-left: 1px solid gray;box-sizing: border-box;top: 0;bottom: 0;left: 50%;z-index: 0;}#sk-container-id-1 div.sk-serial {display: flex;flex-direction: column;align-items: center;background-color: white;padding-right: 0.2em;padding-left: 0.2em;position: relative;}#sk-container-id-1 div.sk-item {position: relative;z-index: 1;}#sk-container-id-1 div.sk-parallel {display: flex;align-items: stretch;justify-content: center;background-color: white;position: relative;}#sk-container-id-1 div.sk-item::before, #sk-container-id-1 div.sk-parallel-item::before {content: \"\";position: absolute;border-left: 1px solid gray;box-sizing: border-box;top: 0;bottom: 0;left: 50%;z-index: -1;}#sk-container-id-1 div.sk-parallel-item {display: flex;flex-direction: column;z-index: 1;position: relative;background-color: white;}#sk-container-id-1 div.sk-parallel-item:first-child::after {align-self: flex-end;width: 50%;}#sk-container-id-1 div.sk-parallel-item:last-child::after {align-self: flex-start;width: 50%;}#sk-container-id-1 div.sk-parallel-item:only-child::after {width: 0;}#sk-container-id-1 div.sk-dashed-wrapped {border: 1px dashed gray;margin: 0 0.4em 0.5em 0.4em;box-sizing: border-box;padding-bottom: 0.4em;background-color: white;}#sk-container-id-1 div.sk-label label {font-family: monospace;font-weight: bold;display: inline-block;line-height: 1.2em;}#sk-container-id-1 div.sk-label-container {text-align: center;}#sk-container-id-1 div.sk-container {/* jupyter's `normalize.less` sets `[hidden] { display: none; }` but bootstrap.min.css set `[hidden] { display: none !important; }` so we also need the `!important` here to be able to override the default hidden behavior on the sphinx rendered scikit-learn.org. See: https://github.com/scikit-learn/scikit-learn/issues/21755 */display: inline-block !important;position: relative;}#sk-container-id-1 div.sk-text-repr-fallback {display: none;}</style><div id=\"sk-container-id-1\" class=\"sk-top-container\"><div class=\"sk-text-repr-fallback\"><pre>LogisticRegression(C=95.07143113384855, solver=&#x27;newton-cg&#x27;,\n",
              "                   tol=0.0003751655787285152)</pre><b>In a Jupyter environment, please rerun this cell to show the HTML representation or trust the notebook. <br />On GitHub, the HTML representation is unable to render, please try loading this page with nbviewer.org.</b></div><div class=\"sk-container\" hidden><div class=\"sk-item\"><div class=\"sk-estimator sk-toggleable\"><input class=\"sk-toggleable__control sk-hidden--visually\" id=\"sk-estimator-id-1\" type=\"checkbox\" checked><label for=\"sk-estimator-id-1\" class=\"sk-toggleable__label sk-toggleable__label-arrow\">LogisticRegression</label><div class=\"sk-toggleable__content\"><pre>LogisticRegression(C=95.07143113384855, solver=&#x27;newton-cg&#x27;,\n",
              "                   tol=0.0003751655787285152)</pre></div></div></div></div></div>"
            ]
          },
          "metadata": {},
          "execution_count": 13
        }
      ]
    },
    {
      "cell_type": "code",
      "source": [
        "y_test_pred = best_classifier_LG.predict(X_test_selected) # make prediction on the test set"
      ],
      "metadata": {
        "id": "BZlK7DNti0L2"
      },
      "execution_count": 14,
      "outputs": []
    },
    {
      "cell_type": "code",
      "source": [
        "# Compute the metrics' scores\n",
        "balanced_acc_LR = balanced_accuracy_score(y_test, y_test_pred)\n",
        "accuracy_LR = accuracy_score(y_test, y_test_pred)\n",
        "precision_LR = precision_score(y_test, y_test_pred)\n",
        "recall_LR = recall_score(y_test, y_test_pred)\n",
        "f1_LR = f1_score(y_test, y_test_pred)"
      ],
      "metadata": {
        "id": "ql--kEL5i0L2"
      },
      "execution_count": 15,
      "outputs": []
    },
    {
      "cell_type": "code",
      "source": [
        "# Printing the metrics\n",
        "print(\"Balanced Accuracy:\", balanced_acc_LR)\n",
        "print(\"Accuracy:\", accuracy_LR)\n",
        "print(\"Precision:\", precision_LR)\n",
        "print(\"Recall:\", recall_LR)\n",
        "print(\"F1 Score:\", f1_LR)"
      ],
      "metadata": {
        "colab": {
          "base_uri": "https://localhost:8080/"
        },
        "id": "oIG0jvTLkOf4",
        "outputId": "3f5bc7eb-4390-4cfe-e06f-677b11a5fad0"
      },
      "execution_count": 16,
      "outputs": [
        {
          "output_type": "stream",
          "name": "stdout",
          "text": [
            "Balanced Accuracy: 0.9684908789386402\n",
            "Accuracy: 0.9895104895104895\n",
            "Precision: 0.8947368421052632\n",
            "Recall: 0.9444444444444444\n",
            "F1 Score: 0.918918918918919\n"
          ]
        }
      ]
    },
    {
      "cell_type": "markdown",
      "source": [
        "### Feature importance"
      ],
      "metadata": {
        "id": "geQPOby9zD43"
      }
    },
    {
      "cell_type": "code",
      "source": [
        "coefs=best_classifier_LG.coef_ # 'coefs' contains the coefficient values of the features from the best linear classifier 'best_classifier_LR'.\n",
        "\n",
        "# The loop iterates through the rows of the 'coefs' array, where each row represents the coefficients for a specific class or category.\n",
        "# 'np.shape(coefs)[0]' returns the number of rows (classes/categories) in the 'coefs' array.\n",
        "for i in range(0,np.shape(coefs)[0]):\n",
        "\n",
        "    # 'np.argsort(coefs[i])' sorts the coefficients in ascending order and returns the corresponding indices.\n",
        "    # '[-20:]' takes the last 20 indices, which correspond to the top 20 features with the highest coefficients\n",
        "    top20_indices=np.argsort(coefs[i])[-20:]\n",
        "\n",
        "    print(top20_indices) # Print the 'top20_indices' for the current class or category, showing the indices of the top 20 features with the highest coefficients."
      ],
      "metadata": {
        "colab": {
          "base_uri": "https://localhost:8080/"
        },
        "id": "c12-FuqPzJOc",
        "outputId": "1a0c4c57-0f17-4134-8fbb-f88d4e0edba3"
      },
      "execution_count": 20,
      "outputs": [
        {
          "output_type": "stream",
          "name": "stdout",
          "text": [
            "[107 210  75  84  57  18 294 181 170 114 116 196  53 104  29 270 102 103\n",
            "  90 174]\n"
          ]
        }
      ]
    },
    {
      "cell_type": "code",
      "source": [
        "top20_indices_LR= pd.Series(top20_indices).sort_values(ascending=False)"
      ],
      "metadata": {
        "id": "xR_wt8byzQQh"
      },
      "execution_count": 21,
      "outputs": []
    },
    {
      "cell_type": "code",
      "source": [
        "# Filter the DataFrame using the boolean array\n",
        "data_filtered_features = final_data.iloc[:,1:-9].loc[:, best_features]\n",
        "\n",
        "# Print the filtered DataFrame\n",
        "data_filtered_features"
      ],
      "metadata": {
        "colab": {
          "base_uri": "https://localhost:8080/",
          "height": 487
        },
        "id": "FTz35XPO0L3A",
        "outputId": "9c619759-28a7-48f9-e7fd-02e20c8de760"
      },
      "execution_count": 22,
      "outputs": [
        {
          "output_type": "execute_result",
          "data": {
            "text/plain": [
              "      ENSG00000205542  ENSG00000198804  ENSG00000198712  ENSG00000075624  \\\n",
              "0           32962.305       9065.20200        5350.2246        4950.4950   \n",
              "1           34861.200          0.00000           0.0000        3873.4666   \n",
              "2           17791.770       9193.14500        3431.0170        1061.1393   \n",
              "3           26513.914      10016.36700        5564.6484        3404.2556   \n",
              "4           30791.666      18116.04300        7347.3735        2636.0806   \n",
              "...               ...              ...              ...              ...   \n",
              "1422        20833.332      11986.30100        6849.3150        3139.2693   \n",
              "1423        73876.350        172.20595           0.0000       18598.2420   \n",
              "1424        22690.557      14539.58000        4038.7722        3671.6110   \n",
              "1425        54775.516       5771.68550        2830.3457        8047.0615   \n",
              "1426        15493.742       8285.11500        3748.4860        2383.6526   \n",
              "\n",
              "      ENSG00000229117  ENSG00000111640  ENSG00000198938  ENSG00000034510  \\\n",
              "0           9255.0700        6949.1420        2982.5964        5442.4697   \n",
              "1          12696.3620        9038.0890           0.0000        8177.3180   \n",
              "2          14643.7230        6402.2075        3218.7893        3324.9033   \n",
              "3           7725.0415        3076.9233        2029.4601        8707.0380   \n",
              "4           8469.1100        4655.2060        6449.9844        3084.7751   \n",
              "...               ...              ...              ...              ...   \n",
              "1422       14554.7940        3995.4336        7420.0913        6563.9270   \n",
              "1423       10160.1510        7921.4736           0.0000        7404.8560   \n",
              "1424        8003.4385        8150.9766        5140.2554        2202.9666   \n",
              "1425        8713.0250        9101.5040        2830.3457        2663.8547   \n",
              "1426        7515.4080        6631.9370        3287.1338        3998.3850   \n",
              "\n",
              "      ENSG00000198886  ENSG00000187514  ...  ENSG00000197081  ENSG00000078674  \\\n",
              "0          4119.83250        7287.3750  ...        118.27511       184.490510   \n",
              "1             0.00000        6670.9700  ...          0.00000         0.000000   \n",
              "2          3606.52640        3360.2747  ...        219.23100         0.000000   \n",
              "3          3927.98730        1767.5942  ...        130.93290       130.932900   \n",
              "4          5833.02930        2187.3860  ...          0.00000       112.173645   \n",
              "...               ...              ...  ...              ...              ...   \n",
              "1422       5993.15040        3424.6575  ...          0.00000         0.000000   \n",
              "1423        516.61786        1894.2654  ...          0.00000         0.000000   \n",
              "1424       5433.98440        4259.0690  ...          0.00000       220.296660   \n",
              "1425       2608.35800       11376.8800  ...        147.99194       221.987900   \n",
              "1426       3171.67940        5055.2104  ...         40.12822       230.676060   \n",
              "\n",
              "      ENSG00000153982  ENSG00000085117  ENSG00000135069  ENSG00000105392  \\\n",
              "0           61.496834        47.390750       184.490510       101.367905   \n",
              "1            0.000000         0.000000         0.000000         0.000000   \n",
              "2          115.996070       106.113940         0.000000        70.742620   \n",
              "3            0.000000       189.144900        65.466450       261.865800   \n",
              "4           56.086823       168.260470        56.086823       196.303880   \n",
              "...               ...              ...              ...              ...   \n",
              "1422         0.000000       285.388120         0.000000         0.000000   \n",
              "1423         0.000000         0.000000         0.000000         0.000000   \n",
              "1424         0.000000        73.432220       146.864440       264.356000   \n",
              "1425        55.496975       194.239410       166.490920         0.000000   \n",
              "1426        82.097176        41.007996       192.230060         0.000000   \n",
              "\n",
              "      ENSG00000091164  ENSG00000006625  ENSG00000241553  ENSG00000106399  \n",
              "0           61.496834        61.496834        30.748417       215.238920  \n",
              "1          645.577760         0.000000       215.192580       215.192580  \n",
              "2           70.742620        35.371310        35.371310         0.000000  \n",
              "3          130.932900         0.000000         0.000000         0.000000  \n",
              "4            0.000000        56.086823       224.347290         0.000000  \n",
              "...               ...              ...              ...              ...  \n",
              "1422         0.000000         0.000000         0.000000         0.000000  \n",
              "1423       516.617860         0.000000         0.000000         0.000000  \n",
              "1424       146.864440        73.432220         0.000000         0.000000  \n",
              "1425       221.987900         0.000000        55.496975        55.496975  \n",
              "1426       211.453060        96.115030        96.115030       153.784040  \n",
              "\n",
              "[1427 rows x 300 columns]"
            ],
            "text/html": [
              "\n",
              "  <div id=\"df-0d34b772-0a3d-497d-888f-2fc5a00d8276\">\n",
              "    <div class=\"colab-df-container\">\n",
              "      <div>\n",
              "<style scoped>\n",
              "    .dataframe tbody tr th:only-of-type {\n",
              "        vertical-align: middle;\n",
              "    }\n",
              "\n",
              "    .dataframe tbody tr th {\n",
              "        vertical-align: top;\n",
              "    }\n",
              "\n",
              "    .dataframe thead th {\n",
              "        text-align: right;\n",
              "    }\n",
              "</style>\n",
              "<table border=\"1\" class=\"dataframe\">\n",
              "  <thead>\n",
              "    <tr style=\"text-align: right;\">\n",
              "      <th></th>\n",
              "      <th>ENSG00000205542</th>\n",
              "      <th>ENSG00000198804</th>\n",
              "      <th>ENSG00000198712</th>\n",
              "      <th>ENSG00000075624</th>\n",
              "      <th>ENSG00000229117</th>\n",
              "      <th>ENSG00000111640</th>\n",
              "      <th>ENSG00000198938</th>\n",
              "      <th>ENSG00000034510</th>\n",
              "      <th>ENSG00000198886</th>\n",
              "      <th>ENSG00000187514</th>\n",
              "      <th>...</th>\n",
              "      <th>ENSG00000197081</th>\n",
              "      <th>ENSG00000078674</th>\n",
              "      <th>ENSG00000153982</th>\n",
              "      <th>ENSG00000085117</th>\n",
              "      <th>ENSG00000135069</th>\n",
              "      <th>ENSG00000105392</th>\n",
              "      <th>ENSG00000091164</th>\n",
              "      <th>ENSG00000006625</th>\n",
              "      <th>ENSG00000241553</th>\n",
              "      <th>ENSG00000106399</th>\n",
              "    </tr>\n",
              "  </thead>\n",
              "  <tbody>\n",
              "    <tr>\n",
              "      <th>0</th>\n",
              "      <td>32962.305</td>\n",
              "      <td>9065.20200</td>\n",
              "      <td>5350.2246</td>\n",
              "      <td>4950.4950</td>\n",
              "      <td>9255.0700</td>\n",
              "      <td>6949.1420</td>\n",
              "      <td>2982.5964</td>\n",
              "      <td>5442.4697</td>\n",
              "      <td>4119.83250</td>\n",
              "      <td>7287.3750</td>\n",
              "      <td>...</td>\n",
              "      <td>118.27511</td>\n",
              "      <td>184.490510</td>\n",
              "      <td>61.496834</td>\n",
              "      <td>47.390750</td>\n",
              "      <td>184.490510</td>\n",
              "      <td>101.367905</td>\n",
              "      <td>61.496834</td>\n",
              "      <td>61.496834</td>\n",
              "      <td>30.748417</td>\n",
              "      <td>215.238920</td>\n",
              "    </tr>\n",
              "    <tr>\n",
              "      <th>1</th>\n",
              "      <td>34861.200</td>\n",
              "      <td>0.00000</td>\n",
              "      <td>0.0000</td>\n",
              "      <td>3873.4666</td>\n",
              "      <td>12696.3620</td>\n",
              "      <td>9038.0890</td>\n",
              "      <td>0.0000</td>\n",
              "      <td>8177.3180</td>\n",
              "      <td>0.00000</td>\n",
              "      <td>6670.9700</td>\n",
              "      <td>...</td>\n",
              "      <td>0.00000</td>\n",
              "      <td>0.000000</td>\n",
              "      <td>0.000000</td>\n",
              "      <td>0.000000</td>\n",
              "      <td>0.000000</td>\n",
              "      <td>0.000000</td>\n",
              "      <td>645.577760</td>\n",
              "      <td>0.000000</td>\n",
              "      <td>215.192580</td>\n",
              "      <td>215.192580</td>\n",
              "    </tr>\n",
              "    <tr>\n",
              "      <th>2</th>\n",
              "      <td>17791.770</td>\n",
              "      <td>9193.14500</td>\n",
              "      <td>3431.0170</td>\n",
              "      <td>1061.1393</td>\n",
              "      <td>14643.7230</td>\n",
              "      <td>6402.2075</td>\n",
              "      <td>3218.7893</td>\n",
              "      <td>3324.9033</td>\n",
              "      <td>3606.52640</td>\n",
              "      <td>3360.2747</td>\n",
              "      <td>...</td>\n",
              "      <td>219.23100</td>\n",
              "      <td>0.000000</td>\n",
              "      <td>115.996070</td>\n",
              "      <td>106.113940</td>\n",
              "      <td>0.000000</td>\n",
              "      <td>70.742620</td>\n",
              "      <td>70.742620</td>\n",
              "      <td>35.371310</td>\n",
              "      <td>35.371310</td>\n",
              "      <td>0.000000</td>\n",
              "    </tr>\n",
              "    <tr>\n",
              "      <th>3</th>\n",
              "      <td>26513.914</td>\n",
              "      <td>10016.36700</td>\n",
              "      <td>5564.6484</td>\n",
              "      <td>3404.2556</td>\n",
              "      <td>7725.0415</td>\n",
              "      <td>3076.9233</td>\n",
              "      <td>2029.4601</td>\n",
              "      <td>8707.0380</td>\n",
              "      <td>3927.98730</td>\n",
              "      <td>1767.5942</td>\n",
              "      <td>...</td>\n",
              "      <td>130.93290</td>\n",
              "      <td>130.932900</td>\n",
              "      <td>0.000000</td>\n",
              "      <td>189.144900</td>\n",
              "      <td>65.466450</td>\n",
              "      <td>261.865800</td>\n",
              "      <td>130.932900</td>\n",
              "      <td>0.000000</td>\n",
              "      <td>0.000000</td>\n",
              "      <td>0.000000</td>\n",
              "    </tr>\n",
              "    <tr>\n",
              "      <th>4</th>\n",
              "      <td>30791.666</td>\n",
              "      <td>18116.04300</td>\n",
              "      <td>7347.3735</td>\n",
              "      <td>2636.0806</td>\n",
              "      <td>8469.1100</td>\n",
              "      <td>4655.2060</td>\n",
              "      <td>6449.9844</td>\n",
              "      <td>3084.7751</td>\n",
              "      <td>5833.02930</td>\n",
              "      <td>2187.3860</td>\n",
              "      <td>...</td>\n",
              "      <td>0.00000</td>\n",
              "      <td>112.173645</td>\n",
              "      <td>56.086823</td>\n",
              "      <td>168.260470</td>\n",
              "      <td>56.086823</td>\n",
              "      <td>196.303880</td>\n",
              "      <td>0.000000</td>\n",
              "      <td>56.086823</td>\n",
              "      <td>224.347290</td>\n",
              "      <td>0.000000</td>\n",
              "    </tr>\n",
              "    <tr>\n",
              "      <th>...</th>\n",
              "      <td>...</td>\n",
              "      <td>...</td>\n",
              "      <td>...</td>\n",
              "      <td>...</td>\n",
              "      <td>...</td>\n",
              "      <td>...</td>\n",
              "      <td>...</td>\n",
              "      <td>...</td>\n",
              "      <td>...</td>\n",
              "      <td>...</td>\n",
              "      <td>...</td>\n",
              "      <td>...</td>\n",
              "      <td>...</td>\n",
              "      <td>...</td>\n",
              "      <td>...</td>\n",
              "      <td>...</td>\n",
              "      <td>...</td>\n",
              "      <td>...</td>\n",
              "      <td>...</td>\n",
              "      <td>...</td>\n",
              "      <td>...</td>\n",
              "    </tr>\n",
              "    <tr>\n",
              "      <th>1422</th>\n",
              "      <td>20833.332</td>\n",
              "      <td>11986.30100</td>\n",
              "      <td>6849.3150</td>\n",
              "      <td>3139.2693</td>\n",
              "      <td>14554.7940</td>\n",
              "      <td>3995.4336</td>\n",
              "      <td>7420.0913</td>\n",
              "      <td>6563.9270</td>\n",
              "      <td>5993.15040</td>\n",
              "      <td>3424.6575</td>\n",
              "      <td>...</td>\n",
              "      <td>0.00000</td>\n",
              "      <td>0.000000</td>\n",
              "      <td>0.000000</td>\n",
              "      <td>285.388120</td>\n",
              "      <td>0.000000</td>\n",
              "      <td>0.000000</td>\n",
              "      <td>0.000000</td>\n",
              "      <td>0.000000</td>\n",
              "      <td>0.000000</td>\n",
              "      <td>0.000000</td>\n",
              "    </tr>\n",
              "    <tr>\n",
              "      <th>1423</th>\n",
              "      <td>73876.350</td>\n",
              "      <td>172.20595</td>\n",
              "      <td>0.0000</td>\n",
              "      <td>18598.2420</td>\n",
              "      <td>10160.1510</td>\n",
              "      <td>7921.4736</td>\n",
              "      <td>0.0000</td>\n",
              "      <td>7404.8560</td>\n",
              "      <td>516.61786</td>\n",
              "      <td>1894.2654</td>\n",
              "      <td>...</td>\n",
              "      <td>0.00000</td>\n",
              "      <td>0.000000</td>\n",
              "      <td>0.000000</td>\n",
              "      <td>0.000000</td>\n",
              "      <td>0.000000</td>\n",
              "      <td>0.000000</td>\n",
              "      <td>516.617860</td>\n",
              "      <td>0.000000</td>\n",
              "      <td>0.000000</td>\n",
              "      <td>0.000000</td>\n",
              "    </tr>\n",
              "    <tr>\n",
              "      <th>1424</th>\n",
              "      <td>22690.557</td>\n",
              "      <td>14539.58000</td>\n",
              "      <td>4038.7722</td>\n",
              "      <td>3671.6110</td>\n",
              "      <td>8003.4385</td>\n",
              "      <td>8150.9766</td>\n",
              "      <td>5140.2554</td>\n",
              "      <td>2202.9666</td>\n",
              "      <td>5433.98440</td>\n",
              "      <td>4259.0690</td>\n",
              "      <td>...</td>\n",
              "      <td>0.00000</td>\n",
              "      <td>220.296660</td>\n",
              "      <td>0.000000</td>\n",
              "      <td>73.432220</td>\n",
              "      <td>146.864440</td>\n",
              "      <td>264.356000</td>\n",
              "      <td>146.864440</td>\n",
              "      <td>73.432220</td>\n",
              "      <td>0.000000</td>\n",
              "      <td>0.000000</td>\n",
              "    </tr>\n",
              "    <tr>\n",
              "      <th>1425</th>\n",
              "      <td>54775.516</td>\n",
              "      <td>5771.68550</td>\n",
              "      <td>2830.3457</td>\n",
              "      <td>8047.0615</td>\n",
              "      <td>8713.0250</td>\n",
              "      <td>9101.5040</td>\n",
              "      <td>2830.3457</td>\n",
              "      <td>2663.8547</td>\n",
              "      <td>2608.35800</td>\n",
              "      <td>11376.8800</td>\n",
              "      <td>...</td>\n",
              "      <td>147.99194</td>\n",
              "      <td>221.987900</td>\n",
              "      <td>55.496975</td>\n",
              "      <td>194.239410</td>\n",
              "      <td>166.490920</td>\n",
              "      <td>0.000000</td>\n",
              "      <td>221.987900</td>\n",
              "      <td>0.000000</td>\n",
              "      <td>55.496975</td>\n",
              "      <td>55.496975</td>\n",
              "    </tr>\n",
              "    <tr>\n",
              "      <th>1426</th>\n",
              "      <td>15493.742</td>\n",
              "      <td>8285.11500</td>\n",
              "      <td>3748.4860</td>\n",
              "      <td>2383.6526</td>\n",
              "      <td>7515.4080</td>\n",
              "      <td>6631.9370</td>\n",
              "      <td>3287.1338</td>\n",
              "      <td>3998.3850</td>\n",
              "      <td>3171.67940</td>\n",
              "      <td>5055.2104</td>\n",
              "      <td>...</td>\n",
              "      <td>40.12822</td>\n",
              "      <td>230.676060</td>\n",
              "      <td>82.097176</td>\n",
              "      <td>41.007996</td>\n",
              "      <td>192.230060</td>\n",
              "      <td>0.000000</td>\n",
              "      <td>211.453060</td>\n",
              "      <td>96.115030</td>\n",
              "      <td>96.115030</td>\n",
              "      <td>153.784040</td>\n",
              "    </tr>\n",
              "  </tbody>\n",
              "</table>\n",
              "<p>1427 rows × 300 columns</p>\n",
              "</div>\n",
              "      <button class=\"colab-df-convert\" onclick=\"convertToInteractive('df-0d34b772-0a3d-497d-888f-2fc5a00d8276')\"\n",
              "              title=\"Convert this dataframe to an interactive table.\"\n",
              "              style=\"display:none;\">\n",
              "        \n",
              "  <svg xmlns=\"http://www.w3.org/2000/svg\" height=\"24px\"viewBox=\"0 0 24 24\"\n",
              "       width=\"24px\">\n",
              "    <path d=\"M0 0h24v24H0V0z\" fill=\"none\"/>\n",
              "    <path d=\"M18.56 5.44l.94 2.06.94-2.06 2.06-.94-2.06-.94-.94-2.06-.94 2.06-2.06.94zm-11 1L8.5 8.5l.94-2.06 2.06-.94-2.06-.94L8.5 2.5l-.94 2.06-2.06.94zm10 10l.94 2.06.94-2.06 2.06-.94-2.06-.94-.94-2.06-.94 2.06-2.06.94z\"/><path d=\"M17.41 7.96l-1.37-1.37c-.4-.4-.92-.59-1.43-.59-.52 0-1.04.2-1.43.59L10.3 9.45l-7.72 7.72c-.78.78-.78 2.05 0 2.83L4 21.41c.39.39.9.59 1.41.59.51 0 1.02-.2 1.41-.59l7.78-7.78 2.81-2.81c.8-.78.8-2.07 0-2.86zM5.41 20L4 18.59l7.72-7.72 1.47 1.35L5.41 20z\"/>\n",
              "  </svg>\n",
              "      </button>\n",
              "      \n",
              "  <style>\n",
              "    .colab-df-container {\n",
              "      display:flex;\n",
              "      flex-wrap:wrap;\n",
              "      gap: 12px;\n",
              "    }\n",
              "\n",
              "    .colab-df-convert {\n",
              "      background-color: #E8F0FE;\n",
              "      border: none;\n",
              "      border-radius: 50%;\n",
              "      cursor: pointer;\n",
              "      display: none;\n",
              "      fill: #1967D2;\n",
              "      height: 32px;\n",
              "      padding: 0 0 0 0;\n",
              "      width: 32px;\n",
              "    }\n",
              "\n",
              "    .colab-df-convert:hover {\n",
              "      background-color: #E2EBFA;\n",
              "      box-shadow: 0px 1px 2px rgba(60, 64, 67, 0.3), 0px 1px 3px 1px rgba(60, 64, 67, 0.15);\n",
              "      fill: #174EA6;\n",
              "    }\n",
              "\n",
              "    [theme=dark] .colab-df-convert {\n",
              "      background-color: #3B4455;\n",
              "      fill: #D2E3FC;\n",
              "    }\n",
              "\n",
              "    [theme=dark] .colab-df-convert:hover {\n",
              "      background-color: #434B5C;\n",
              "      box-shadow: 0px 1px 3px 1px rgba(0, 0, 0, 0.15);\n",
              "      filter: drop-shadow(0px 1px 2px rgba(0, 0, 0, 0.3));\n",
              "      fill: #FFFFFF;\n",
              "    }\n",
              "  </style>\n",
              "\n",
              "      <script>\n",
              "        const buttonEl =\n",
              "          document.querySelector('#df-0d34b772-0a3d-497d-888f-2fc5a00d8276 button.colab-df-convert');\n",
              "        buttonEl.style.display =\n",
              "          google.colab.kernel.accessAllowed ? 'block' : 'none';\n",
              "\n",
              "        async function convertToInteractive(key) {\n",
              "          const element = document.querySelector('#df-0d34b772-0a3d-497d-888f-2fc5a00d8276');\n",
              "          const dataTable =\n",
              "            await google.colab.kernel.invokeFunction('convertToInteractive',\n",
              "                                                     [key], {});\n",
              "          if (!dataTable) return;\n",
              "\n",
              "          const docLinkHtml = 'Like what you see? Visit the ' +\n",
              "            '<a target=\"_blank\" href=https://colab.research.google.com/notebooks/data_table.ipynb>data table notebook</a>'\n",
              "            + ' to learn more about interactive tables.';\n",
              "          element.innerHTML = '';\n",
              "          dataTable['output_type'] = 'display_data';\n",
              "          await google.colab.output.renderOutput(dataTable, element);\n",
              "          const docLink = document.createElement('div');\n",
              "          docLink.innerHTML = docLinkHtml;\n",
              "          element.appendChild(docLink);\n",
              "        }\n",
              "      </script>\n",
              "    </div>\n",
              "  </div>\n",
              "  "
            ]
          },
          "metadata": {},
          "execution_count": 22
        }
      ]
    },
    {
      "cell_type": "code",
      "source": [
        "# Get the column names corresponding to the series indices\n",
        "column_names_LR = data_filtered_features.columns[top20_indices_LR.index]\n",
        "\n",
        "# Print the column names\n",
        "print(column_names_LR)"
      ],
      "metadata": {
        "colab": {
          "base_uri": "https://localhost:8080/"
        },
        "id": "TUyKG-DN0Mqv",
        "outputId": "5f8067fe-d85b-4afb-ca94-b33fae37fa0a"
      },
      "execution_count": null,
      "outputs": [
        {
          "output_type": "stream",
          "name": "stdout",
          "text": [
            "Index(['ENSG00000198938', 'ENSG00000084207', 'ENSG00000198804',\n",
            "       'ENSG00000184009', 'ENSG00000034510', 'ENSG00000111057',\n",
            "       'ENSG00000198886', 'ENSG00000145423', 'ENSG00000187514',\n",
            "       'ENSG00000205542', 'ENSG00000197958', 'ENSG00000256618',\n",
            "       'ENSG00000288299', 'ENSG00000108107', 'ENSG00000075624',\n",
            "       'ENSG00000198712', 'ENSG00000229117', 'ENSG00000198899',\n",
            "       'ENSG00000074800', 'ENSG00000111640'],\n",
            "      dtype='object')\n"
          ]
        }
      ]
    },
    {
      "cell_type": "markdown",
      "source": [
        "## GaussianNB"
      ],
      "metadata": {
        "id": "iaGJZjp7mVLV"
      }
    },
    {
      "cell_type": "markdown",
      "source": [
        "### Get best parameters and make predictions"
      ],
      "metadata": {
        "id": "80ABmQwBmbzc"
      }
    },
    {
      "cell_type": "code",
      "source": [
        "# Load the saved array from file\n",
        "best_features = np.load('best_features_ANOVA_GNB.npy')"
      ],
      "metadata": {
        "id": "p1JEc_doLh_U"
      },
      "execution_count": 38,
      "outputs": []
    },
    {
      "cell_type": "markdown",
      "source": [
        "The 'selected_features_indices' list contains a set of integers, which are theindices of features that have been selected from the original feature set. These indices correspond to the selected features in the data\n",
        "\n",
        "X_test_selected will store the subset of the test data X_test, containing only the selected features. This is achieved by slicing the original test data using the indices stored in'selected_features_indices'"
      ],
      "metadata": {
        "id": "GSVb61wYXG5w"
      }
    },
    {
      "cell_type": "code",
      "source": [
        "selected_features_indices = [i for i, value in enumerate(best_features) if value]\n",
        "X_test_selected = X_test[:, selected_features_indices]"
      ],
      "metadata": {
        "id": "lBHvjRTKmbzc"
      },
      "execution_count": 39,
      "outputs": []
    },
    {
      "cell_type": "code",
      "source": [
        "X_train_val_selected_final_features = X_train_val[:, selected_features_indices] # perform the same filtering to te training set, with which we will fit the classifier"
      ],
      "metadata": {
        "id": "wtdjcUAhmbzc"
      },
      "execution_count": 40,
      "outputs": []
    },
    {
      "cell_type": "code",
      "source": [
        "X_test_selected.shape"
      ],
      "metadata": {
        "colab": {
          "base_uri": "https://localhost:8080/"
        },
        "outputId": "774899b5-6106-4e73-bdcc-0e0e4532bc49",
        "id": "vQOSW3Dambzc"
      },
      "execution_count": null,
      "outputs": [
        {
          "output_type": "execute_result",
          "data": {
            "text/plain": [
              "(286, 300)"
            ]
          },
          "metadata": {},
          "execution_count": 29
        }
      ]
    },
    {
      "cell_type": "code",
      "source": [
        "best_classifier_GNB = GaussianNB(var_smoothing=0.0008094845352286139)"
      ],
      "metadata": {
        "id": "Rtr42gDambzd"
      },
      "execution_count": 41,
      "outputs": []
    },
    {
      "cell_type": "code",
      "source": [
        "best_classifier_GNB.fit(X_train_val_selected_final_features, y_train_val)"
      ],
      "metadata": {
        "colab": {
          "base_uri": "https://localhost:8080/",
          "height": 74
        },
        "outputId": "54356316-e76b-49f1-db5b-3f3c052ec810",
        "id": "VXdvn1G5mbzd"
      },
      "execution_count": 42,
      "outputs": [
        {
          "output_type": "execute_result",
          "data": {
            "text/plain": [
              "GaussianNB(var_smoothing=0.0008094845352286139)"
            ],
            "text/html": [
              "<style>#sk-container-id-3 {color: black;background-color: white;}#sk-container-id-3 pre{padding: 0;}#sk-container-id-3 div.sk-toggleable {background-color: white;}#sk-container-id-3 label.sk-toggleable__label {cursor: pointer;display: block;width: 100%;margin-bottom: 0;padding: 0.3em;box-sizing: border-box;text-align: center;}#sk-container-id-3 label.sk-toggleable__label-arrow:before {content: \"▸\";float: left;margin-right: 0.25em;color: #696969;}#sk-container-id-3 label.sk-toggleable__label-arrow:hover:before {color: black;}#sk-container-id-3 div.sk-estimator:hover label.sk-toggleable__label-arrow:before {color: black;}#sk-container-id-3 div.sk-toggleable__content {max-height: 0;max-width: 0;overflow: hidden;text-align: left;background-color: #f0f8ff;}#sk-container-id-3 div.sk-toggleable__content pre {margin: 0.2em;color: black;border-radius: 0.25em;background-color: #f0f8ff;}#sk-container-id-3 input.sk-toggleable__control:checked~div.sk-toggleable__content {max-height: 200px;max-width: 100%;overflow: auto;}#sk-container-id-3 input.sk-toggleable__control:checked~label.sk-toggleable__label-arrow:before {content: \"▾\";}#sk-container-id-3 div.sk-estimator input.sk-toggleable__control:checked~label.sk-toggleable__label {background-color: #d4ebff;}#sk-container-id-3 div.sk-label input.sk-toggleable__control:checked~label.sk-toggleable__label {background-color: #d4ebff;}#sk-container-id-3 input.sk-hidden--visually {border: 0;clip: rect(1px 1px 1px 1px);clip: rect(1px, 1px, 1px, 1px);height: 1px;margin: -1px;overflow: hidden;padding: 0;position: absolute;width: 1px;}#sk-container-id-3 div.sk-estimator {font-family: monospace;background-color: #f0f8ff;border: 1px dotted black;border-radius: 0.25em;box-sizing: border-box;margin-bottom: 0.5em;}#sk-container-id-3 div.sk-estimator:hover {background-color: #d4ebff;}#sk-container-id-3 div.sk-parallel-item::after {content: \"\";width: 100%;border-bottom: 1px solid gray;flex-grow: 1;}#sk-container-id-3 div.sk-label:hover label.sk-toggleable__label {background-color: #d4ebff;}#sk-container-id-3 div.sk-serial::before {content: \"\";position: absolute;border-left: 1px solid gray;box-sizing: border-box;top: 0;bottom: 0;left: 50%;z-index: 0;}#sk-container-id-3 div.sk-serial {display: flex;flex-direction: column;align-items: center;background-color: white;padding-right: 0.2em;padding-left: 0.2em;position: relative;}#sk-container-id-3 div.sk-item {position: relative;z-index: 1;}#sk-container-id-3 div.sk-parallel {display: flex;align-items: stretch;justify-content: center;background-color: white;position: relative;}#sk-container-id-3 div.sk-item::before, #sk-container-id-3 div.sk-parallel-item::before {content: \"\";position: absolute;border-left: 1px solid gray;box-sizing: border-box;top: 0;bottom: 0;left: 50%;z-index: -1;}#sk-container-id-3 div.sk-parallel-item {display: flex;flex-direction: column;z-index: 1;position: relative;background-color: white;}#sk-container-id-3 div.sk-parallel-item:first-child::after {align-self: flex-end;width: 50%;}#sk-container-id-3 div.sk-parallel-item:last-child::after {align-self: flex-start;width: 50%;}#sk-container-id-3 div.sk-parallel-item:only-child::after {width: 0;}#sk-container-id-3 div.sk-dashed-wrapped {border: 1px dashed gray;margin: 0 0.4em 0.5em 0.4em;box-sizing: border-box;padding-bottom: 0.4em;background-color: white;}#sk-container-id-3 div.sk-label label {font-family: monospace;font-weight: bold;display: inline-block;line-height: 1.2em;}#sk-container-id-3 div.sk-label-container {text-align: center;}#sk-container-id-3 div.sk-container {/* jupyter's `normalize.less` sets `[hidden] { display: none; }` but bootstrap.min.css set `[hidden] { display: none !important; }` so we also need the `!important` here to be able to override the default hidden behavior on the sphinx rendered scikit-learn.org. See: https://github.com/scikit-learn/scikit-learn/issues/21755 */display: inline-block !important;position: relative;}#sk-container-id-3 div.sk-text-repr-fallback {display: none;}</style><div id=\"sk-container-id-3\" class=\"sk-top-container\"><div class=\"sk-text-repr-fallback\"><pre>GaussianNB(var_smoothing=0.0008094845352286139)</pre><b>In a Jupyter environment, please rerun this cell to show the HTML representation or trust the notebook. <br />On GitHub, the HTML representation is unable to render, please try loading this page with nbviewer.org.</b></div><div class=\"sk-container\" hidden><div class=\"sk-item\"><div class=\"sk-estimator sk-toggleable\"><input class=\"sk-toggleable__control sk-hidden--visually\" id=\"sk-estimator-id-3\" type=\"checkbox\" checked><label for=\"sk-estimator-id-3\" class=\"sk-toggleable__label sk-toggleable__label-arrow\">GaussianNB</label><div class=\"sk-toggleable__content\"><pre>GaussianNB(var_smoothing=0.0008094845352286139)</pre></div></div></div></div></div>"
            ]
          },
          "metadata": {},
          "execution_count": 42
        }
      ]
    },
    {
      "cell_type": "code",
      "source": [
        "y_test_pred = best_classifier_GNB.predict(X_test_selected) # make prediction using the fitted classifier"
      ],
      "metadata": {
        "id": "G9FDx7lZmbzd"
      },
      "execution_count": 43,
      "outputs": []
    },
    {
      "cell_type": "code",
      "source": [
        "# Compute the metrics' scores\n",
        "balanced_acc_GNB = balanced_accuracy_score(y_test, y_test_pred)\n",
        "accuracy_GNB = accuracy_score(y_test, y_test_pred)\n",
        "precision_GNB = precision_score(y_test, y_test_pred)\n",
        "recall_GNB = recall_score(y_test, y_test_pred)\n",
        "f1_GNB = f1_score(y_test, y_test_pred)"
      ],
      "metadata": {
        "id": "vdIWRE5Hmbzd"
      },
      "execution_count": 44,
      "outputs": []
    },
    {
      "cell_type": "code",
      "source": [
        "# Printing the metrics\n",
        "print(\"Balanced Accuracy:\", balanced_acc_GNB)\n",
        "print(\"Accuracy:\", accuracy_GNB)\n",
        "print(\"Precision:\", precision_GNB)\n",
        "print(\"Recall:\", recall_GNB)\n",
        "print(\"F1 Score:\", f1_GNB)"
      ],
      "metadata": {
        "colab": {
          "base_uri": "https://localhost:8080/"
        },
        "id": "o77d_DhylL6V",
        "outputId": "20e54a08-e71b-4d20-e3e0-bcd05a9eb20f"
      },
      "execution_count": 45,
      "outputs": [
        {
          "output_type": "stream",
          "name": "stdout",
          "text": [
            "Balanced Accuracy: 0.8314676616915423\n",
            "Accuracy: 0.9755244755244755\n",
            "Precision: 0.9230769230769231\n",
            "Recall: 0.6666666666666666\n",
            "F1 Score: 0.7741935483870968\n"
          ]
        }
      ]
    },
    {
      "cell_type": "markdown",
      "source": [
        "## Random Forest"
      ],
      "metadata": {
        "id": "Y3xh8pmBzmXq"
      }
    },
    {
      "cell_type": "markdown",
      "source": [
        "### Get best parameters and make predictions"
      ],
      "metadata": {
        "id": "xtECcua60T3d"
      }
    },
    {
      "cell_type": "code",
      "source": [
        "# Load the saved array from file\n",
        "best_features = np.load('best_features_ANOVA_RF.npy')"
      ],
      "metadata": {
        "id": "jC4cShnyL6NZ"
      },
      "execution_count": 46,
      "outputs": []
    },
    {
      "cell_type": "markdown",
      "source": [
        "The 'selected_features_indices' list contains a set of integers, which are theindices of features that have been selected from the original feature set. These indices correspond to the selected features in the data\n",
        "\n",
        "X_test_selected will store the subset of the test data X_test, containing only the selected features. This is achieved by slicing the original test data using the indices stored in'selected_features_indices'"
      ],
      "metadata": {
        "id": "3TNRfHK9XoDR"
      }
    },
    {
      "cell_type": "code",
      "source": [
        "selected_features_indices = [i for i, value in enumerate(best_features) if value]\n",
        "X_test_selected = X_test[:, selected_features_indices]"
      ],
      "metadata": {
        "id": "lm-QW5NE0T3d"
      },
      "execution_count": 47,
      "outputs": []
    },
    {
      "cell_type": "code",
      "source": [
        "X_train_val_selected_final_features = X_train_val[:, selected_features_indices] # perform the same filtering to the training set"
      ],
      "metadata": {
        "id": "6Mhmg8kg0T3d"
      },
      "execution_count": 48,
      "outputs": []
    },
    {
      "cell_type": "code",
      "source": [
        "X_test_selected.shape"
      ],
      "metadata": {
        "colab": {
          "base_uri": "https://localhost:8080/"
        },
        "outputId": "708ed135-f505-4061-ef04-f3f6cd33daf8",
        "id": "SNgGo5FI0T3e"
      },
      "execution_count": null,
      "outputs": [
        {
          "output_type": "execute_result",
          "data": {
            "text/plain": [
              "(286, 300)"
            ]
          },
          "metadata": {},
          "execution_count": 27
        }
      ]
    },
    {
      "cell_type": "code",
      "source": [
        "best_classifier_RF = RandomForestClassifier(n_estimators=152, max_depth=28,min_samples_split=61,min_samples_leaf=3,bootstrap=False)"
      ],
      "metadata": {
        "id": "OTzAQODQFh3L"
      },
      "execution_count": 49,
      "outputs": []
    },
    {
      "cell_type": "code",
      "source": [
        "best_classifier_RF.fit(X_train_val_selected_final_features, y_train_val)"
      ],
      "metadata": {
        "colab": {
          "base_uri": "https://localhost:8080/",
          "height": 92
        },
        "outputId": "3fa137e4-868a-4038-e46e-f661dccb982c",
        "id": "6NcEzrRR0T3e"
      },
      "execution_count": 50,
      "outputs": [
        {
          "output_type": "execute_result",
          "data": {
            "text/plain": [
              "RandomForestClassifier(bootstrap=False, max_depth=28, min_samples_leaf=3,\n",
              "                       min_samples_split=61, n_estimators=152)"
            ],
            "text/html": [
              "<style>#sk-container-id-4 {color: black;background-color: white;}#sk-container-id-4 pre{padding: 0;}#sk-container-id-4 div.sk-toggleable {background-color: white;}#sk-container-id-4 label.sk-toggleable__label {cursor: pointer;display: block;width: 100%;margin-bottom: 0;padding: 0.3em;box-sizing: border-box;text-align: center;}#sk-container-id-4 label.sk-toggleable__label-arrow:before {content: \"▸\";float: left;margin-right: 0.25em;color: #696969;}#sk-container-id-4 label.sk-toggleable__label-arrow:hover:before {color: black;}#sk-container-id-4 div.sk-estimator:hover label.sk-toggleable__label-arrow:before {color: black;}#sk-container-id-4 div.sk-toggleable__content {max-height: 0;max-width: 0;overflow: hidden;text-align: left;background-color: #f0f8ff;}#sk-container-id-4 div.sk-toggleable__content pre {margin: 0.2em;color: black;border-radius: 0.25em;background-color: #f0f8ff;}#sk-container-id-4 input.sk-toggleable__control:checked~div.sk-toggleable__content {max-height: 200px;max-width: 100%;overflow: auto;}#sk-container-id-4 input.sk-toggleable__control:checked~label.sk-toggleable__label-arrow:before {content: \"▾\";}#sk-container-id-4 div.sk-estimator input.sk-toggleable__control:checked~label.sk-toggleable__label {background-color: #d4ebff;}#sk-container-id-4 div.sk-label input.sk-toggleable__control:checked~label.sk-toggleable__label {background-color: #d4ebff;}#sk-container-id-4 input.sk-hidden--visually {border: 0;clip: rect(1px 1px 1px 1px);clip: rect(1px, 1px, 1px, 1px);height: 1px;margin: -1px;overflow: hidden;padding: 0;position: absolute;width: 1px;}#sk-container-id-4 div.sk-estimator {font-family: monospace;background-color: #f0f8ff;border: 1px dotted black;border-radius: 0.25em;box-sizing: border-box;margin-bottom: 0.5em;}#sk-container-id-4 div.sk-estimator:hover {background-color: #d4ebff;}#sk-container-id-4 div.sk-parallel-item::after {content: \"\";width: 100%;border-bottom: 1px solid gray;flex-grow: 1;}#sk-container-id-4 div.sk-label:hover label.sk-toggleable__label {background-color: #d4ebff;}#sk-container-id-4 div.sk-serial::before {content: \"\";position: absolute;border-left: 1px solid gray;box-sizing: border-box;top: 0;bottom: 0;left: 50%;z-index: 0;}#sk-container-id-4 div.sk-serial {display: flex;flex-direction: column;align-items: center;background-color: white;padding-right: 0.2em;padding-left: 0.2em;position: relative;}#sk-container-id-4 div.sk-item {position: relative;z-index: 1;}#sk-container-id-4 div.sk-parallel {display: flex;align-items: stretch;justify-content: center;background-color: white;position: relative;}#sk-container-id-4 div.sk-item::before, #sk-container-id-4 div.sk-parallel-item::before {content: \"\";position: absolute;border-left: 1px solid gray;box-sizing: border-box;top: 0;bottom: 0;left: 50%;z-index: -1;}#sk-container-id-4 div.sk-parallel-item {display: flex;flex-direction: column;z-index: 1;position: relative;background-color: white;}#sk-container-id-4 div.sk-parallel-item:first-child::after {align-self: flex-end;width: 50%;}#sk-container-id-4 div.sk-parallel-item:last-child::after {align-self: flex-start;width: 50%;}#sk-container-id-4 div.sk-parallel-item:only-child::after {width: 0;}#sk-container-id-4 div.sk-dashed-wrapped {border: 1px dashed gray;margin: 0 0.4em 0.5em 0.4em;box-sizing: border-box;padding-bottom: 0.4em;background-color: white;}#sk-container-id-4 div.sk-label label {font-family: monospace;font-weight: bold;display: inline-block;line-height: 1.2em;}#sk-container-id-4 div.sk-label-container {text-align: center;}#sk-container-id-4 div.sk-container {/* jupyter's `normalize.less` sets `[hidden] { display: none; }` but bootstrap.min.css set `[hidden] { display: none !important; }` so we also need the `!important` here to be able to override the default hidden behavior on the sphinx rendered scikit-learn.org. See: https://github.com/scikit-learn/scikit-learn/issues/21755 */display: inline-block !important;position: relative;}#sk-container-id-4 div.sk-text-repr-fallback {display: none;}</style><div id=\"sk-container-id-4\" class=\"sk-top-container\"><div class=\"sk-text-repr-fallback\"><pre>RandomForestClassifier(bootstrap=False, max_depth=28, min_samples_leaf=3,\n",
              "                       min_samples_split=61, n_estimators=152)</pre><b>In a Jupyter environment, please rerun this cell to show the HTML representation or trust the notebook. <br />On GitHub, the HTML representation is unable to render, please try loading this page with nbviewer.org.</b></div><div class=\"sk-container\" hidden><div class=\"sk-item\"><div class=\"sk-estimator sk-toggleable\"><input class=\"sk-toggleable__control sk-hidden--visually\" id=\"sk-estimator-id-4\" type=\"checkbox\" checked><label for=\"sk-estimator-id-4\" class=\"sk-toggleable__label sk-toggleable__label-arrow\">RandomForestClassifier</label><div class=\"sk-toggleable__content\"><pre>RandomForestClassifier(bootstrap=False, max_depth=28, min_samples_leaf=3,\n",
              "                       min_samples_split=61, n_estimators=152)</pre></div></div></div></div></div>"
            ]
          },
          "metadata": {},
          "execution_count": 50
        }
      ]
    },
    {
      "cell_type": "code",
      "source": [
        "y_test_pred = best_classifier_RF.predict(X_test_selected) # make predictions on test set"
      ],
      "metadata": {
        "id": "LVQgUnAF0T3e"
      },
      "execution_count": 51,
      "outputs": []
    },
    {
      "cell_type": "code",
      "source": [
        "# Compute metrics' scores\n",
        "balanced_acc_RF = balanced_accuracy_score(y_test, y_test_pred)\n",
        "accuracy_RF = accuracy_score(y_test, y_test_pred)\n",
        "precision_RF = precision_score(y_test, y_test_pred)\n",
        "recall_RF = recall_score(y_test, y_test_pred)\n",
        "f1_RF = f1_score(y_test, y_test_pred)"
      ],
      "metadata": {
        "id": "-4Phrdmy0T3e"
      },
      "execution_count": 115,
      "outputs": []
    },
    {
      "cell_type": "code",
      "source": [
        "# Printing the metrics\n",
        "print(\"Balanced Accuracy:\", balanced_acc_RF)\n",
        "print(\"Accuracy:\", accuracy_RF)\n",
        "print(\"Precision:\", precision_RF)\n",
        "print(\"Recall:\", recall_RF)\n",
        "print(\"F1 Score:\", f1_RF)"
      ],
      "metadata": {
        "colab": {
          "base_uri": "https://localhost:8080/"
        },
        "id": "YDZ7pA9hml8n",
        "outputId": "b0d3f2ad-879f-4fcd-f6db-3740e22d35e7"
      },
      "execution_count": 53,
      "outputs": [
        {
          "output_type": "stream",
          "name": "stdout",
          "text": [
            "Balanced Accuracy: 0.9444444444444444\n",
            "Accuracy: 0.993006993006993\n",
            "Precision: 1.0\n",
            "Recall: 0.8888888888888888\n",
            "F1 Score: 0.9411764705882353\n"
          ]
        }
      ]
    },
    {
      "cell_type": "markdown",
      "source": [
        "### Feature importance"
      ],
      "metadata": {
        "id": "0pMn6VzTFC2n"
      }
    },
    {
      "cell_type": "code",
      "source": [
        "# Filter the DataFrame using the boolean array\n",
        "data_filtered_features = final_data.iloc[:,1:-9].loc[:, best_features]\n",
        "\n",
        "# Print the filtered DataFrame\n",
        "data_filtered_features"
      ],
      "metadata": {
        "colab": {
          "base_uri": "https://localhost:8080/",
          "height": 487
        },
        "id": "4cN-1K7TyqeJ",
        "outputId": "0cd7dcf4-3324-4daf-f658-d41dfc8f0719"
      },
      "execution_count": 54,
      "outputs": [
        {
          "output_type": "execute_result",
          "data": {
            "text/plain": [
              "      ENSG00000205542  ENSG00000198804  ENSG00000198712  ENSG00000075624  \\\n",
              "0           32962.305       9065.20200        5350.2246        4950.4950   \n",
              "1           34861.200          0.00000           0.0000        3873.4666   \n",
              "2           17791.770       9193.14500        3431.0170        1061.1393   \n",
              "3           26513.914      10016.36700        5564.6484        3404.2556   \n",
              "4           30791.666      18116.04300        7347.3735        2636.0806   \n",
              "...               ...              ...              ...              ...   \n",
              "1422        20833.332      11986.30100        6849.3150        3139.2693   \n",
              "1423        73876.350        172.20595           0.0000       18598.2420   \n",
              "1424        22690.557      14539.58000        4038.7722        3671.6110   \n",
              "1425        54775.516       5771.68550        2830.3457        8047.0615   \n",
              "1426        15493.742       8285.11500        3748.4860        2383.6526   \n",
              "\n",
              "      ENSG00000229117  ENSG00000111640  ENSG00000198938  ENSG00000034510  \\\n",
              "0           9255.0700        6949.1420        2982.5964        5442.4697   \n",
              "1          12696.3620        9038.0890           0.0000        8177.3180   \n",
              "2          14643.7230        6402.2075        3218.7893        3324.9033   \n",
              "3           7725.0415        3076.9233        2029.4601        8707.0380   \n",
              "4           8469.1100        4655.2060        6449.9844        3084.7751   \n",
              "...               ...              ...              ...              ...   \n",
              "1422       14554.7940        3995.4336        7420.0913        6563.9270   \n",
              "1423       10160.1510        7921.4736           0.0000        7404.8560   \n",
              "1424        8003.4385        8150.9766        5140.2554        2202.9666   \n",
              "1425        8713.0250        9101.5040        2830.3457        2663.8547   \n",
              "1426        7515.4080        6631.9370        3287.1338        3998.3850   \n",
              "\n",
              "      ENSG00000198886  ENSG00000187514  ...  ENSG00000197081  ENSG00000078674  \\\n",
              "0          4119.83250        7287.3750  ...        118.27511       184.490510   \n",
              "1             0.00000        6670.9700  ...          0.00000         0.000000   \n",
              "2          3606.52640        3360.2747  ...        219.23100         0.000000   \n",
              "3          3927.98730        1767.5942  ...        130.93290       130.932900   \n",
              "4          5833.02930        2187.3860  ...          0.00000       112.173645   \n",
              "...               ...              ...  ...              ...              ...   \n",
              "1422       5993.15040        3424.6575  ...          0.00000         0.000000   \n",
              "1423        516.61786        1894.2654  ...          0.00000         0.000000   \n",
              "1424       5433.98440        4259.0690  ...          0.00000       220.296660   \n",
              "1425       2608.35800       11376.8800  ...        147.99194       221.987900   \n",
              "1426       3171.67940        5055.2104  ...         40.12822       230.676060   \n",
              "\n",
              "      ENSG00000153982  ENSG00000085117  ENSG00000135069  ENSG00000105392  \\\n",
              "0           61.496834        47.390750       184.490510       101.367905   \n",
              "1            0.000000         0.000000         0.000000         0.000000   \n",
              "2          115.996070       106.113940         0.000000        70.742620   \n",
              "3            0.000000       189.144900        65.466450       261.865800   \n",
              "4           56.086823       168.260470        56.086823       196.303880   \n",
              "...               ...              ...              ...              ...   \n",
              "1422         0.000000       285.388120         0.000000         0.000000   \n",
              "1423         0.000000         0.000000         0.000000         0.000000   \n",
              "1424         0.000000        73.432220       146.864440       264.356000   \n",
              "1425        55.496975       194.239410       166.490920         0.000000   \n",
              "1426        82.097176        41.007996       192.230060         0.000000   \n",
              "\n",
              "      ENSG00000091164  ENSG00000006625  ENSG00000241553  ENSG00000106399  \n",
              "0           61.496834        61.496834        30.748417       215.238920  \n",
              "1          645.577760         0.000000       215.192580       215.192580  \n",
              "2           70.742620        35.371310        35.371310         0.000000  \n",
              "3          130.932900         0.000000         0.000000         0.000000  \n",
              "4            0.000000        56.086823       224.347290         0.000000  \n",
              "...               ...              ...              ...              ...  \n",
              "1422         0.000000         0.000000         0.000000         0.000000  \n",
              "1423       516.617860         0.000000         0.000000         0.000000  \n",
              "1424       146.864440        73.432220         0.000000         0.000000  \n",
              "1425       221.987900         0.000000        55.496975        55.496975  \n",
              "1426       211.453060        96.115030        96.115030       153.784040  \n",
              "\n",
              "[1427 rows x 300 columns]"
            ],
            "text/html": [
              "\n",
              "  <div id=\"df-f4d333d9-2ed5-4132-8790-78c9e1188b19\">\n",
              "    <div class=\"colab-df-container\">\n",
              "      <div>\n",
              "<style scoped>\n",
              "    .dataframe tbody tr th:only-of-type {\n",
              "        vertical-align: middle;\n",
              "    }\n",
              "\n",
              "    .dataframe tbody tr th {\n",
              "        vertical-align: top;\n",
              "    }\n",
              "\n",
              "    .dataframe thead th {\n",
              "        text-align: right;\n",
              "    }\n",
              "</style>\n",
              "<table border=\"1\" class=\"dataframe\">\n",
              "  <thead>\n",
              "    <tr style=\"text-align: right;\">\n",
              "      <th></th>\n",
              "      <th>ENSG00000205542</th>\n",
              "      <th>ENSG00000198804</th>\n",
              "      <th>ENSG00000198712</th>\n",
              "      <th>ENSG00000075624</th>\n",
              "      <th>ENSG00000229117</th>\n",
              "      <th>ENSG00000111640</th>\n",
              "      <th>ENSG00000198938</th>\n",
              "      <th>ENSG00000034510</th>\n",
              "      <th>ENSG00000198886</th>\n",
              "      <th>ENSG00000187514</th>\n",
              "      <th>...</th>\n",
              "      <th>ENSG00000197081</th>\n",
              "      <th>ENSG00000078674</th>\n",
              "      <th>ENSG00000153982</th>\n",
              "      <th>ENSG00000085117</th>\n",
              "      <th>ENSG00000135069</th>\n",
              "      <th>ENSG00000105392</th>\n",
              "      <th>ENSG00000091164</th>\n",
              "      <th>ENSG00000006625</th>\n",
              "      <th>ENSG00000241553</th>\n",
              "      <th>ENSG00000106399</th>\n",
              "    </tr>\n",
              "  </thead>\n",
              "  <tbody>\n",
              "    <tr>\n",
              "      <th>0</th>\n",
              "      <td>32962.305</td>\n",
              "      <td>9065.20200</td>\n",
              "      <td>5350.2246</td>\n",
              "      <td>4950.4950</td>\n",
              "      <td>9255.0700</td>\n",
              "      <td>6949.1420</td>\n",
              "      <td>2982.5964</td>\n",
              "      <td>5442.4697</td>\n",
              "      <td>4119.83250</td>\n",
              "      <td>7287.3750</td>\n",
              "      <td>...</td>\n",
              "      <td>118.27511</td>\n",
              "      <td>184.490510</td>\n",
              "      <td>61.496834</td>\n",
              "      <td>47.390750</td>\n",
              "      <td>184.490510</td>\n",
              "      <td>101.367905</td>\n",
              "      <td>61.496834</td>\n",
              "      <td>61.496834</td>\n",
              "      <td>30.748417</td>\n",
              "      <td>215.238920</td>\n",
              "    </tr>\n",
              "    <tr>\n",
              "      <th>1</th>\n",
              "      <td>34861.200</td>\n",
              "      <td>0.00000</td>\n",
              "      <td>0.0000</td>\n",
              "      <td>3873.4666</td>\n",
              "      <td>12696.3620</td>\n",
              "      <td>9038.0890</td>\n",
              "      <td>0.0000</td>\n",
              "      <td>8177.3180</td>\n",
              "      <td>0.00000</td>\n",
              "      <td>6670.9700</td>\n",
              "      <td>...</td>\n",
              "      <td>0.00000</td>\n",
              "      <td>0.000000</td>\n",
              "      <td>0.000000</td>\n",
              "      <td>0.000000</td>\n",
              "      <td>0.000000</td>\n",
              "      <td>0.000000</td>\n",
              "      <td>645.577760</td>\n",
              "      <td>0.000000</td>\n",
              "      <td>215.192580</td>\n",
              "      <td>215.192580</td>\n",
              "    </tr>\n",
              "    <tr>\n",
              "      <th>2</th>\n",
              "      <td>17791.770</td>\n",
              "      <td>9193.14500</td>\n",
              "      <td>3431.0170</td>\n",
              "      <td>1061.1393</td>\n",
              "      <td>14643.7230</td>\n",
              "      <td>6402.2075</td>\n",
              "      <td>3218.7893</td>\n",
              "      <td>3324.9033</td>\n",
              "      <td>3606.52640</td>\n",
              "      <td>3360.2747</td>\n",
              "      <td>...</td>\n",
              "      <td>219.23100</td>\n",
              "      <td>0.000000</td>\n",
              "      <td>115.996070</td>\n",
              "      <td>106.113940</td>\n",
              "      <td>0.000000</td>\n",
              "      <td>70.742620</td>\n",
              "      <td>70.742620</td>\n",
              "      <td>35.371310</td>\n",
              "      <td>35.371310</td>\n",
              "      <td>0.000000</td>\n",
              "    </tr>\n",
              "    <tr>\n",
              "      <th>3</th>\n",
              "      <td>26513.914</td>\n",
              "      <td>10016.36700</td>\n",
              "      <td>5564.6484</td>\n",
              "      <td>3404.2556</td>\n",
              "      <td>7725.0415</td>\n",
              "      <td>3076.9233</td>\n",
              "      <td>2029.4601</td>\n",
              "      <td>8707.0380</td>\n",
              "      <td>3927.98730</td>\n",
              "      <td>1767.5942</td>\n",
              "      <td>...</td>\n",
              "      <td>130.93290</td>\n",
              "      <td>130.932900</td>\n",
              "      <td>0.000000</td>\n",
              "      <td>189.144900</td>\n",
              "      <td>65.466450</td>\n",
              "      <td>261.865800</td>\n",
              "      <td>130.932900</td>\n",
              "      <td>0.000000</td>\n",
              "      <td>0.000000</td>\n",
              "      <td>0.000000</td>\n",
              "    </tr>\n",
              "    <tr>\n",
              "      <th>4</th>\n",
              "      <td>30791.666</td>\n",
              "      <td>18116.04300</td>\n",
              "      <td>7347.3735</td>\n",
              "      <td>2636.0806</td>\n",
              "      <td>8469.1100</td>\n",
              "      <td>4655.2060</td>\n",
              "      <td>6449.9844</td>\n",
              "      <td>3084.7751</td>\n",
              "      <td>5833.02930</td>\n",
              "      <td>2187.3860</td>\n",
              "      <td>...</td>\n",
              "      <td>0.00000</td>\n",
              "      <td>112.173645</td>\n",
              "      <td>56.086823</td>\n",
              "      <td>168.260470</td>\n",
              "      <td>56.086823</td>\n",
              "      <td>196.303880</td>\n",
              "      <td>0.000000</td>\n",
              "      <td>56.086823</td>\n",
              "      <td>224.347290</td>\n",
              "      <td>0.000000</td>\n",
              "    </tr>\n",
              "    <tr>\n",
              "      <th>...</th>\n",
              "      <td>...</td>\n",
              "      <td>...</td>\n",
              "      <td>...</td>\n",
              "      <td>...</td>\n",
              "      <td>...</td>\n",
              "      <td>...</td>\n",
              "      <td>...</td>\n",
              "      <td>...</td>\n",
              "      <td>...</td>\n",
              "      <td>...</td>\n",
              "      <td>...</td>\n",
              "      <td>...</td>\n",
              "      <td>...</td>\n",
              "      <td>...</td>\n",
              "      <td>...</td>\n",
              "      <td>...</td>\n",
              "      <td>...</td>\n",
              "      <td>...</td>\n",
              "      <td>...</td>\n",
              "      <td>...</td>\n",
              "      <td>...</td>\n",
              "    </tr>\n",
              "    <tr>\n",
              "      <th>1422</th>\n",
              "      <td>20833.332</td>\n",
              "      <td>11986.30100</td>\n",
              "      <td>6849.3150</td>\n",
              "      <td>3139.2693</td>\n",
              "      <td>14554.7940</td>\n",
              "      <td>3995.4336</td>\n",
              "      <td>7420.0913</td>\n",
              "      <td>6563.9270</td>\n",
              "      <td>5993.15040</td>\n",
              "      <td>3424.6575</td>\n",
              "      <td>...</td>\n",
              "      <td>0.00000</td>\n",
              "      <td>0.000000</td>\n",
              "      <td>0.000000</td>\n",
              "      <td>285.388120</td>\n",
              "      <td>0.000000</td>\n",
              "      <td>0.000000</td>\n",
              "      <td>0.000000</td>\n",
              "      <td>0.000000</td>\n",
              "      <td>0.000000</td>\n",
              "      <td>0.000000</td>\n",
              "    </tr>\n",
              "    <tr>\n",
              "      <th>1423</th>\n",
              "      <td>73876.350</td>\n",
              "      <td>172.20595</td>\n",
              "      <td>0.0000</td>\n",
              "      <td>18598.2420</td>\n",
              "      <td>10160.1510</td>\n",
              "      <td>7921.4736</td>\n",
              "      <td>0.0000</td>\n",
              "      <td>7404.8560</td>\n",
              "      <td>516.61786</td>\n",
              "      <td>1894.2654</td>\n",
              "      <td>...</td>\n",
              "      <td>0.00000</td>\n",
              "      <td>0.000000</td>\n",
              "      <td>0.000000</td>\n",
              "      <td>0.000000</td>\n",
              "      <td>0.000000</td>\n",
              "      <td>0.000000</td>\n",
              "      <td>516.617860</td>\n",
              "      <td>0.000000</td>\n",
              "      <td>0.000000</td>\n",
              "      <td>0.000000</td>\n",
              "    </tr>\n",
              "    <tr>\n",
              "      <th>1424</th>\n",
              "      <td>22690.557</td>\n",
              "      <td>14539.58000</td>\n",
              "      <td>4038.7722</td>\n",
              "      <td>3671.6110</td>\n",
              "      <td>8003.4385</td>\n",
              "      <td>8150.9766</td>\n",
              "      <td>5140.2554</td>\n",
              "      <td>2202.9666</td>\n",
              "      <td>5433.98440</td>\n",
              "      <td>4259.0690</td>\n",
              "      <td>...</td>\n",
              "      <td>0.00000</td>\n",
              "      <td>220.296660</td>\n",
              "      <td>0.000000</td>\n",
              "      <td>73.432220</td>\n",
              "      <td>146.864440</td>\n",
              "      <td>264.356000</td>\n",
              "      <td>146.864440</td>\n",
              "      <td>73.432220</td>\n",
              "      <td>0.000000</td>\n",
              "      <td>0.000000</td>\n",
              "    </tr>\n",
              "    <tr>\n",
              "      <th>1425</th>\n",
              "      <td>54775.516</td>\n",
              "      <td>5771.68550</td>\n",
              "      <td>2830.3457</td>\n",
              "      <td>8047.0615</td>\n",
              "      <td>8713.0250</td>\n",
              "      <td>9101.5040</td>\n",
              "      <td>2830.3457</td>\n",
              "      <td>2663.8547</td>\n",
              "      <td>2608.35800</td>\n",
              "      <td>11376.8800</td>\n",
              "      <td>...</td>\n",
              "      <td>147.99194</td>\n",
              "      <td>221.987900</td>\n",
              "      <td>55.496975</td>\n",
              "      <td>194.239410</td>\n",
              "      <td>166.490920</td>\n",
              "      <td>0.000000</td>\n",
              "      <td>221.987900</td>\n",
              "      <td>0.000000</td>\n",
              "      <td>55.496975</td>\n",
              "      <td>55.496975</td>\n",
              "    </tr>\n",
              "    <tr>\n",
              "      <th>1426</th>\n",
              "      <td>15493.742</td>\n",
              "      <td>8285.11500</td>\n",
              "      <td>3748.4860</td>\n",
              "      <td>2383.6526</td>\n",
              "      <td>7515.4080</td>\n",
              "      <td>6631.9370</td>\n",
              "      <td>3287.1338</td>\n",
              "      <td>3998.3850</td>\n",
              "      <td>3171.67940</td>\n",
              "      <td>5055.2104</td>\n",
              "      <td>...</td>\n",
              "      <td>40.12822</td>\n",
              "      <td>230.676060</td>\n",
              "      <td>82.097176</td>\n",
              "      <td>41.007996</td>\n",
              "      <td>192.230060</td>\n",
              "      <td>0.000000</td>\n",
              "      <td>211.453060</td>\n",
              "      <td>96.115030</td>\n",
              "      <td>96.115030</td>\n",
              "      <td>153.784040</td>\n",
              "    </tr>\n",
              "  </tbody>\n",
              "</table>\n",
              "<p>1427 rows × 300 columns</p>\n",
              "</div>\n",
              "      <button class=\"colab-df-convert\" onclick=\"convertToInteractive('df-f4d333d9-2ed5-4132-8790-78c9e1188b19')\"\n",
              "              title=\"Convert this dataframe to an interactive table.\"\n",
              "              style=\"display:none;\">\n",
              "        \n",
              "  <svg xmlns=\"http://www.w3.org/2000/svg\" height=\"24px\"viewBox=\"0 0 24 24\"\n",
              "       width=\"24px\">\n",
              "    <path d=\"M0 0h24v24H0V0z\" fill=\"none\"/>\n",
              "    <path d=\"M18.56 5.44l.94 2.06.94-2.06 2.06-.94-2.06-.94-.94-2.06-.94 2.06-2.06.94zm-11 1L8.5 8.5l.94-2.06 2.06-.94-2.06-.94L8.5 2.5l-.94 2.06-2.06.94zm10 10l.94 2.06.94-2.06 2.06-.94-2.06-.94-.94-2.06-.94 2.06-2.06.94z\"/><path d=\"M17.41 7.96l-1.37-1.37c-.4-.4-.92-.59-1.43-.59-.52 0-1.04.2-1.43.59L10.3 9.45l-7.72 7.72c-.78.78-.78 2.05 0 2.83L4 21.41c.39.39.9.59 1.41.59.51 0 1.02-.2 1.41-.59l7.78-7.78 2.81-2.81c.8-.78.8-2.07 0-2.86zM5.41 20L4 18.59l7.72-7.72 1.47 1.35L5.41 20z\"/>\n",
              "  </svg>\n",
              "      </button>\n",
              "      \n",
              "  <style>\n",
              "    .colab-df-container {\n",
              "      display:flex;\n",
              "      flex-wrap:wrap;\n",
              "      gap: 12px;\n",
              "    }\n",
              "\n",
              "    .colab-df-convert {\n",
              "      background-color: #E8F0FE;\n",
              "      border: none;\n",
              "      border-radius: 50%;\n",
              "      cursor: pointer;\n",
              "      display: none;\n",
              "      fill: #1967D2;\n",
              "      height: 32px;\n",
              "      padding: 0 0 0 0;\n",
              "      width: 32px;\n",
              "    }\n",
              "\n",
              "    .colab-df-convert:hover {\n",
              "      background-color: #E2EBFA;\n",
              "      box-shadow: 0px 1px 2px rgba(60, 64, 67, 0.3), 0px 1px 3px 1px rgba(60, 64, 67, 0.15);\n",
              "      fill: #174EA6;\n",
              "    }\n",
              "\n",
              "    [theme=dark] .colab-df-convert {\n",
              "      background-color: #3B4455;\n",
              "      fill: #D2E3FC;\n",
              "    }\n",
              "\n",
              "    [theme=dark] .colab-df-convert:hover {\n",
              "      background-color: #434B5C;\n",
              "      box-shadow: 0px 1px 3px 1px rgba(0, 0, 0, 0.15);\n",
              "      filter: drop-shadow(0px 1px 2px rgba(0, 0, 0, 0.3));\n",
              "      fill: #FFFFFF;\n",
              "    }\n",
              "  </style>\n",
              "\n",
              "      <script>\n",
              "        const buttonEl =\n",
              "          document.querySelector('#df-f4d333d9-2ed5-4132-8790-78c9e1188b19 button.colab-df-convert');\n",
              "        buttonEl.style.display =\n",
              "          google.colab.kernel.accessAllowed ? 'block' : 'none';\n",
              "\n",
              "        async function convertToInteractive(key) {\n",
              "          const element = document.querySelector('#df-f4d333d9-2ed5-4132-8790-78c9e1188b19');\n",
              "          const dataTable =\n",
              "            await google.colab.kernel.invokeFunction('convertToInteractive',\n",
              "                                                     [key], {});\n",
              "          if (!dataTable) return;\n",
              "\n",
              "          const docLinkHtml = 'Like what you see? Visit the ' +\n",
              "            '<a target=\"_blank\" href=https://colab.research.google.com/notebooks/data_table.ipynb>data table notebook</a>'\n",
              "            + ' to learn more about interactive tables.';\n",
              "          element.innerHTML = '';\n",
              "          dataTable['output_type'] = 'display_data';\n",
              "          await google.colab.output.renderOutput(dataTable, element);\n",
              "          const docLink = document.createElement('div');\n",
              "          docLink.innerHTML = docLinkHtml;\n",
              "          element.appendChild(docLink);\n",
              "        }\n",
              "      </script>\n",
              "    </div>\n",
              "  </div>\n",
              "  "
            ]
          },
          "metadata": {},
          "execution_count": 54
        }
      ]
    },
    {
      "cell_type": "code",
      "source": [
        "feature_scores = pd.Series(best_classifier_RF.feature_importances_).sort_values(ascending=False)"
      ],
      "metadata": {
        "id": "IVX9SzrtFBkQ"
      },
      "execution_count": 55,
      "outputs": []
    },
    {
      "cell_type": "code",
      "source": [
        "# Get the column names corresponding to the series indices\n",
        "column_names_RF = data_filtered_features.columns[feature_scores.index]\n",
        "\n",
        "# Print the column names\n",
        "print(column_names_RF)"
      ],
      "metadata": {
        "colab": {
          "base_uri": "https://localhost:8080/"
        },
        "id": "6CWLcNRV4HFh",
        "outputId": "106fd889-ee41-4a94-b4e3-8eddc6c287e2"
      },
      "execution_count": 56,
      "outputs": [
        {
          "output_type": "stream",
          "name": "stdout",
          "text": [
            "Index(['ENSG00000198804', 'ENSG00000198938', 'ENSG00000198886',\n",
            "       'ENSG00000198727', 'ENSG00000198712', 'ENSG00000198899',\n",
            "       'ENSG00000269028', 'ENSG00000198840', 'ENSG00000198763',\n",
            "       'ENSG00000173212',\n",
            "       ...\n",
            "       'ENSG00000284916', 'ENSG00000211451', 'ENSG00000135637',\n",
            "       'ENSG00000135046', 'ENSG00000158270', 'ENSG00000162924',\n",
            "       'ENSG00000285132', 'ENSG00000123636', 'ENSG00000171314',\n",
            "       'ENSG00000143320'],\n",
            "      dtype='object', length=300)\n"
          ]
        }
      ]
    },
    {
      "cell_type": "code",
      "source": [
        "# Get the column names corresponding to the series indices above the threshold\n",
        "filtered_column_names = data_filtered_features.columns[feature_scores[feature_scores > 0.01].index]\n",
        "\n",
        "# Print the filtered column names\n",
        "print(filtered_column_names)"
      ],
      "metadata": {
        "colab": {
          "base_uri": "https://localhost:8080/"
        },
        "id": "sky_FaHo4MVE",
        "outputId": "904b2684-c04b-4aa1-e13d-3991ca0f1cb0"
      },
      "execution_count": 57,
      "outputs": [
        {
          "output_type": "stream",
          "name": "stdout",
          "text": [
            "Index(['ENSG00000198804', 'ENSG00000198938', 'ENSG00000198886',\n",
            "       'ENSG00000198727', 'ENSG00000198712', 'ENSG00000198899',\n",
            "       'ENSG00000269028', 'ENSG00000198840', 'ENSG00000198763',\n",
            "       'ENSG00000173212', 'ENSG00000144649', 'ENSG00000198786',\n",
            "       'ENSG00000256618', 'ENSG00000198888', 'ENSG00000168014',\n",
            "       'ENSG00000225890', 'ENSG00000140279', 'ENSG00000075624',\n",
            "       'ENSG00000236418', 'ENSG00000167680', 'ENSG00000282017',\n",
            "       'ENSG00000198513'],\n",
            "      dtype='object')\n"
          ]
        }
      ]
    },
    {
      "cell_type": "markdown",
      "source": [
        "## XGBoost"
      ],
      "metadata": {
        "id": "SzHT-MEPEaMN"
      }
    },
    {
      "cell_type": "markdown",
      "source": [
        "### Get best parameters and make predictions"
      ],
      "metadata": {
        "id": "HAhms8uREcon"
      }
    },
    {
      "cell_type": "code",
      "source": [
        "# Load the saved array from file\n",
        "best_features = np.load('best_features_ANOVA_XG.npy')"
      ],
      "metadata": {
        "id": "ETYkSj_EMsng"
      },
      "execution_count": 59,
      "outputs": []
    },
    {
      "cell_type": "markdown",
      "source": [
        "The 'selected_features_indices' list contains a set of integers, which are theindices of features that have been selected from the original feature set. These indices correspond to the selected features in the data\n",
        "\n",
        "X_test_selected will store the subset of the test data X_test, containing only the selected features. This is achieved by slicing the original test data using the indices stored in'selected_features_indices'"
      ],
      "metadata": {
        "id": "3_zK-my-ZTXJ"
      }
    },
    {
      "cell_type": "code",
      "source": [
        "selected_features_indices = [i for i, value in enumerate(best_features) if value]\n",
        "X_test_selected = X_test[:, selected_features_indices]"
      ],
      "metadata": {
        "id": "t54B-N7BEcoo"
      },
      "execution_count": 60,
      "outputs": []
    },
    {
      "cell_type": "code",
      "source": [
        "X_train_val_selected_final_features = X_train_val[:, selected_features_indices] # perform the same filtering on the training set"
      ],
      "metadata": {
        "id": "7Wf6auGpEcoo"
      },
      "execution_count": 61,
      "outputs": []
    },
    {
      "cell_type": "code",
      "source": [
        "X_test_selected.shape"
      ],
      "metadata": {
        "colab": {
          "base_uri": "https://localhost:8080/"
        },
        "outputId": "774899b5-6106-4e73-bdcc-0e0e4532bc49",
        "id": "6-IRamTREcoo"
      },
      "execution_count": null,
      "outputs": [
        {
          "output_type": "execute_result",
          "data": {
            "text/plain": [
              "(286, 300)"
            ]
          },
          "metadata": {},
          "execution_count": 29
        }
      ]
    },
    {
      "cell_type": "code",
      "source": [
        "best_classifier_XG = XGBClassifier(n_estimators= 55,max_depth= 19,learning_rate= 0.03329019834400153,subsample= 0.831261142176991,colsample_bytree= 0.6558555380447055,gamma= 2.600340105889054,min_child_weight= 3)"
      ],
      "metadata": {
        "id": "RXSKzaPHEcoo"
      },
      "execution_count": 62,
      "outputs": []
    },
    {
      "cell_type": "code",
      "source": [
        "best_classifier_XG.fit(X_train_val_selected_final_features, y_train_val)"
      ],
      "metadata": {
        "colab": {
          "base_uri": "https://localhost:8080/",
          "height": 251
        },
        "id": "aeeBy4miczxh",
        "outputId": "3c3f253b-fcb8-4d7d-f9c0-0c3bc820d924"
      },
      "execution_count": 63,
      "outputs": [
        {
          "output_type": "execute_result",
          "data": {
            "text/plain": [
              "XGBClassifier(base_score=None, booster=None, callbacks=None,\n",
              "              colsample_bylevel=None, colsample_bynode=None,\n",
              "              colsample_bytree=0.6558555380447055, early_stopping_rounds=None,\n",
              "              enable_categorical=False, eval_metric=None, feature_types=None,\n",
              "              gamma=2.600340105889054, gpu_id=None, grow_policy=None,\n",
              "              importance_type=None, interaction_constraints=None,\n",
              "              learning_rate=0.03329019834400153, max_bin=None,\n",
              "              max_cat_threshold=None, max_cat_to_onehot=None,\n",
              "              max_delta_step=None, max_depth=19, max_leaves=None,\n",
              "              min_child_weight=3, missing=nan, monotone_constraints=None,\n",
              "              n_estimators=55, n_jobs=None, num_parallel_tree=None,\n",
              "              predictor=None, random_state=None, ...)"
            ],
            "text/html": [
              "<style>#sk-container-id-5 {color: black;background-color: white;}#sk-container-id-5 pre{padding: 0;}#sk-container-id-5 div.sk-toggleable {background-color: white;}#sk-container-id-5 label.sk-toggleable__label {cursor: pointer;display: block;width: 100%;margin-bottom: 0;padding: 0.3em;box-sizing: border-box;text-align: center;}#sk-container-id-5 label.sk-toggleable__label-arrow:before {content: \"▸\";float: left;margin-right: 0.25em;color: #696969;}#sk-container-id-5 label.sk-toggleable__label-arrow:hover:before {color: black;}#sk-container-id-5 div.sk-estimator:hover label.sk-toggleable__label-arrow:before {color: black;}#sk-container-id-5 div.sk-toggleable__content {max-height: 0;max-width: 0;overflow: hidden;text-align: left;background-color: #f0f8ff;}#sk-container-id-5 div.sk-toggleable__content pre {margin: 0.2em;color: black;border-radius: 0.25em;background-color: #f0f8ff;}#sk-container-id-5 input.sk-toggleable__control:checked~div.sk-toggleable__content {max-height: 200px;max-width: 100%;overflow: auto;}#sk-container-id-5 input.sk-toggleable__control:checked~label.sk-toggleable__label-arrow:before {content: \"▾\";}#sk-container-id-5 div.sk-estimator input.sk-toggleable__control:checked~label.sk-toggleable__label {background-color: #d4ebff;}#sk-container-id-5 div.sk-label input.sk-toggleable__control:checked~label.sk-toggleable__label {background-color: #d4ebff;}#sk-container-id-5 input.sk-hidden--visually {border: 0;clip: rect(1px 1px 1px 1px);clip: rect(1px, 1px, 1px, 1px);height: 1px;margin: -1px;overflow: hidden;padding: 0;position: absolute;width: 1px;}#sk-container-id-5 div.sk-estimator {font-family: monospace;background-color: #f0f8ff;border: 1px dotted black;border-radius: 0.25em;box-sizing: border-box;margin-bottom: 0.5em;}#sk-container-id-5 div.sk-estimator:hover {background-color: #d4ebff;}#sk-container-id-5 div.sk-parallel-item::after {content: \"\";width: 100%;border-bottom: 1px solid gray;flex-grow: 1;}#sk-container-id-5 div.sk-label:hover label.sk-toggleable__label {background-color: #d4ebff;}#sk-container-id-5 div.sk-serial::before {content: \"\";position: absolute;border-left: 1px solid gray;box-sizing: border-box;top: 0;bottom: 0;left: 50%;z-index: 0;}#sk-container-id-5 div.sk-serial {display: flex;flex-direction: column;align-items: center;background-color: white;padding-right: 0.2em;padding-left: 0.2em;position: relative;}#sk-container-id-5 div.sk-item {position: relative;z-index: 1;}#sk-container-id-5 div.sk-parallel {display: flex;align-items: stretch;justify-content: center;background-color: white;position: relative;}#sk-container-id-5 div.sk-item::before, #sk-container-id-5 div.sk-parallel-item::before {content: \"\";position: absolute;border-left: 1px solid gray;box-sizing: border-box;top: 0;bottom: 0;left: 50%;z-index: -1;}#sk-container-id-5 div.sk-parallel-item {display: flex;flex-direction: column;z-index: 1;position: relative;background-color: white;}#sk-container-id-5 div.sk-parallel-item:first-child::after {align-self: flex-end;width: 50%;}#sk-container-id-5 div.sk-parallel-item:last-child::after {align-self: flex-start;width: 50%;}#sk-container-id-5 div.sk-parallel-item:only-child::after {width: 0;}#sk-container-id-5 div.sk-dashed-wrapped {border: 1px dashed gray;margin: 0 0.4em 0.5em 0.4em;box-sizing: border-box;padding-bottom: 0.4em;background-color: white;}#sk-container-id-5 div.sk-label label {font-family: monospace;font-weight: bold;display: inline-block;line-height: 1.2em;}#sk-container-id-5 div.sk-label-container {text-align: center;}#sk-container-id-5 div.sk-container {/* jupyter's `normalize.less` sets `[hidden] { display: none; }` but bootstrap.min.css set `[hidden] { display: none !important; }` so we also need the `!important` here to be able to override the default hidden behavior on the sphinx rendered scikit-learn.org. See: https://github.com/scikit-learn/scikit-learn/issues/21755 */display: inline-block !important;position: relative;}#sk-container-id-5 div.sk-text-repr-fallback {display: none;}</style><div id=\"sk-container-id-5\" class=\"sk-top-container\"><div class=\"sk-text-repr-fallback\"><pre>XGBClassifier(base_score=None, booster=None, callbacks=None,\n",
              "              colsample_bylevel=None, colsample_bynode=None,\n",
              "              colsample_bytree=0.6558555380447055, early_stopping_rounds=None,\n",
              "              enable_categorical=False, eval_metric=None, feature_types=None,\n",
              "              gamma=2.600340105889054, gpu_id=None, grow_policy=None,\n",
              "              importance_type=None, interaction_constraints=None,\n",
              "              learning_rate=0.03329019834400153, max_bin=None,\n",
              "              max_cat_threshold=None, max_cat_to_onehot=None,\n",
              "              max_delta_step=None, max_depth=19, max_leaves=None,\n",
              "              min_child_weight=3, missing=nan, monotone_constraints=None,\n",
              "              n_estimators=55, n_jobs=None, num_parallel_tree=None,\n",
              "              predictor=None, random_state=None, ...)</pre><b>In a Jupyter environment, please rerun this cell to show the HTML representation or trust the notebook. <br />On GitHub, the HTML representation is unable to render, please try loading this page with nbviewer.org.</b></div><div class=\"sk-container\" hidden><div class=\"sk-item\"><div class=\"sk-estimator sk-toggleable\"><input class=\"sk-toggleable__control sk-hidden--visually\" id=\"sk-estimator-id-5\" type=\"checkbox\" checked><label for=\"sk-estimator-id-5\" class=\"sk-toggleable__label sk-toggleable__label-arrow\">XGBClassifier</label><div class=\"sk-toggleable__content\"><pre>XGBClassifier(base_score=None, booster=None, callbacks=None,\n",
              "              colsample_bylevel=None, colsample_bynode=None,\n",
              "              colsample_bytree=0.6558555380447055, early_stopping_rounds=None,\n",
              "              enable_categorical=False, eval_metric=None, feature_types=None,\n",
              "              gamma=2.600340105889054, gpu_id=None, grow_policy=None,\n",
              "              importance_type=None, interaction_constraints=None,\n",
              "              learning_rate=0.03329019834400153, max_bin=None,\n",
              "              max_cat_threshold=None, max_cat_to_onehot=None,\n",
              "              max_delta_step=None, max_depth=19, max_leaves=None,\n",
              "              min_child_weight=3, missing=nan, monotone_constraints=None,\n",
              "              n_estimators=55, n_jobs=None, num_parallel_tree=None,\n",
              "              predictor=None, random_state=None, ...)</pre></div></div></div></div></div>"
            ]
          },
          "metadata": {},
          "execution_count": 63
        }
      ]
    },
    {
      "cell_type": "code",
      "source": [
        "y_test_pred = best_classifier_XG.predict(X_test_selected) # make predictions on test set"
      ],
      "metadata": {
        "id": "vgLQd1HNEcop"
      },
      "execution_count": 64,
      "outputs": []
    },
    {
      "cell_type": "code",
      "source": [
        "# Compute metrics' scores\n",
        "balanced_acc_XG = balanced_accuracy_score(y_test, y_test_pred)\n",
        "accuracy_XG = accuracy_score(y_test, y_test_pred)\n",
        "precision_XG = precision_score(y_test, y_test_pred)\n",
        "recall_XG = recall_score(y_test, y_test_pred)\n",
        "f1_XG = f1_score(y_test, y_test_pred)"
      ],
      "metadata": {
        "id": "9IaHkEmzEcop"
      },
      "execution_count": 65,
      "outputs": []
    },
    {
      "cell_type": "code",
      "source": [
        "# Printing the metrics\n",
        "print(\"Balanced Accuracy:\", balanced_acc_XG)\n",
        "print(\"Accuracy:\", accuracy_XG)\n",
        "print(\"Precision:\", precision_XG)\n",
        "print(\"Recall:\", recall_XG)\n",
        "print(\"F1 Score:\", f1_XG)"
      ],
      "metadata": {
        "colab": {
          "base_uri": "https://localhost:8080/"
        },
        "outputId": "c75deb2e-3013-4220-ccac-afe83c84d817",
        "id": "B8byhC7pEcop"
      },
      "execution_count": 66,
      "outputs": [
        {
          "output_type": "stream",
          "name": "stdout",
          "text": [
            "Balanced Accuracy: 0.9166666666666667\n",
            "Accuracy: 0.9895104895104895\n",
            "Precision: 1.0\n",
            "Recall: 0.8333333333333334\n",
            "F1 Score: 0.9090909090909091\n"
          ]
        }
      ]
    },
    {
      "cell_type": "markdown",
      "source": [
        "### Feature importance"
      ],
      "metadata": {
        "id": "vV9qPG5V4W2g"
      }
    },
    {
      "cell_type": "code",
      "source": [
        "# Get feature importance scores\n",
        "importance = pd.Series(best_classifier_XG.feature_importances_).sort_values(ascending=False)\n"
      ],
      "metadata": {
        "id": "-gPejtbD4ZnS"
      },
      "execution_count": null,
      "outputs": []
    },
    {
      "cell_type": "code",
      "source": [
        "# Filter the DataFrame using the boolean array\n",
        "data_filtered_features = final_data.iloc[:,1:-9].loc[:, best_features]\n",
        "\n",
        "# Print the filtered DataFrame\n",
        "data_filtered_features"
      ],
      "metadata": {
        "colab": {
          "base_uri": "https://localhost:8080/",
          "height": 487
        },
        "id": "QNDovfBC73Hk",
        "outputId": "b3c637fb-8852-47f1-fb6c-52392d62f4d4"
      },
      "execution_count": null,
      "outputs": [
        {
          "output_type": "execute_result",
          "data": {
            "text/plain": [
              "      ENSG00000205542  ENSG00000198804  ENSG00000198712  ENSG00000075624  \\\n",
              "0           32962.305       9065.20200        5350.2246        4950.4950   \n",
              "1           34861.200          0.00000           0.0000        3873.4666   \n",
              "2           17791.770       9193.14500        3431.0170        1061.1393   \n",
              "3           26513.914      10016.36700        5564.6484        3404.2556   \n",
              "4           30791.666      18116.04300        7347.3735        2636.0806   \n",
              "...               ...              ...              ...              ...   \n",
              "1422        20833.332      11986.30100        6849.3150        3139.2693   \n",
              "1423        73876.350        172.20595           0.0000       18598.2420   \n",
              "1424        22690.557      14539.58000        4038.7722        3671.6110   \n",
              "1425        54775.516       5771.68550        2830.3457        8047.0615   \n",
              "1426        15493.742       8285.11500        3748.4860        2383.6526   \n",
              "\n",
              "      ENSG00000229117  ENSG00000111640  ENSG00000198938  ENSG00000034510  \\\n",
              "0           9255.0700        6949.1420        2982.5964        5442.4697   \n",
              "1          12696.3620        9038.0890           0.0000        8177.3180   \n",
              "2          14643.7230        6402.2075        3218.7893        3324.9033   \n",
              "3           7725.0415        3076.9233        2029.4601        8707.0380   \n",
              "4           8469.1100        4655.2060        6449.9844        3084.7751   \n",
              "...               ...              ...              ...              ...   \n",
              "1422       14554.7940        3995.4336        7420.0913        6563.9270   \n",
              "1423       10160.1510        7921.4736           0.0000        7404.8560   \n",
              "1424        8003.4385        8150.9766        5140.2554        2202.9666   \n",
              "1425        8713.0250        9101.5040        2830.3457        2663.8547   \n",
              "1426        7515.4080        6631.9370        3287.1338        3998.3850   \n",
              "\n",
              "      ENSG00000198886  ENSG00000187514  ...  ENSG00000197081  ENSG00000078674  \\\n",
              "0          4119.83250        7287.3750  ...        118.27511       184.490510   \n",
              "1             0.00000        6670.9700  ...          0.00000         0.000000   \n",
              "2          3606.52640        3360.2747  ...        219.23100         0.000000   \n",
              "3          3927.98730        1767.5942  ...        130.93290       130.932900   \n",
              "4          5833.02930        2187.3860  ...          0.00000       112.173645   \n",
              "...               ...              ...  ...              ...              ...   \n",
              "1422       5993.15040        3424.6575  ...          0.00000         0.000000   \n",
              "1423        516.61786        1894.2654  ...          0.00000         0.000000   \n",
              "1424       5433.98440        4259.0690  ...          0.00000       220.296660   \n",
              "1425       2608.35800       11376.8800  ...        147.99194       221.987900   \n",
              "1426       3171.67940        5055.2104  ...         40.12822       230.676060   \n",
              "\n",
              "      ENSG00000153982  ENSG00000085117  ENSG00000135069  ENSG00000105392  \\\n",
              "0           61.496834        47.390750       184.490510       101.367905   \n",
              "1            0.000000         0.000000         0.000000         0.000000   \n",
              "2          115.996070       106.113940         0.000000        70.742620   \n",
              "3            0.000000       189.144900        65.466450       261.865800   \n",
              "4           56.086823       168.260470        56.086823       196.303880   \n",
              "...               ...              ...              ...              ...   \n",
              "1422         0.000000       285.388120         0.000000         0.000000   \n",
              "1423         0.000000         0.000000         0.000000         0.000000   \n",
              "1424         0.000000        73.432220       146.864440       264.356000   \n",
              "1425        55.496975       194.239410       166.490920         0.000000   \n",
              "1426        82.097176        41.007996       192.230060         0.000000   \n",
              "\n",
              "      ENSG00000091164  ENSG00000006625  ENSG00000241553  ENSG00000106399  \n",
              "0           61.496834        61.496834        30.748417       215.238920  \n",
              "1          645.577760         0.000000       215.192580       215.192580  \n",
              "2           70.742620        35.371310        35.371310         0.000000  \n",
              "3          130.932900         0.000000         0.000000         0.000000  \n",
              "4            0.000000        56.086823       224.347290         0.000000  \n",
              "...               ...              ...              ...              ...  \n",
              "1422         0.000000         0.000000         0.000000         0.000000  \n",
              "1423       516.617860         0.000000         0.000000         0.000000  \n",
              "1424       146.864440        73.432220         0.000000         0.000000  \n",
              "1425       221.987900         0.000000        55.496975        55.496975  \n",
              "1426       211.453060        96.115030        96.115030       153.784040  \n",
              "\n",
              "[1427 rows x 300 columns]"
            ],
            "text/html": [
              "\n",
              "  <div id=\"df-9c36218e-6418-4a56-bb3a-913f1fbe5ffc\">\n",
              "    <div class=\"colab-df-container\">\n",
              "      <div>\n",
              "<style scoped>\n",
              "    .dataframe tbody tr th:only-of-type {\n",
              "        vertical-align: middle;\n",
              "    }\n",
              "\n",
              "    .dataframe tbody tr th {\n",
              "        vertical-align: top;\n",
              "    }\n",
              "\n",
              "    .dataframe thead th {\n",
              "        text-align: right;\n",
              "    }\n",
              "</style>\n",
              "<table border=\"1\" class=\"dataframe\">\n",
              "  <thead>\n",
              "    <tr style=\"text-align: right;\">\n",
              "      <th></th>\n",
              "      <th>ENSG00000205542</th>\n",
              "      <th>ENSG00000198804</th>\n",
              "      <th>ENSG00000198712</th>\n",
              "      <th>ENSG00000075624</th>\n",
              "      <th>ENSG00000229117</th>\n",
              "      <th>ENSG00000111640</th>\n",
              "      <th>ENSG00000198938</th>\n",
              "      <th>ENSG00000034510</th>\n",
              "      <th>ENSG00000198886</th>\n",
              "      <th>ENSG00000187514</th>\n",
              "      <th>...</th>\n",
              "      <th>ENSG00000197081</th>\n",
              "      <th>ENSG00000078674</th>\n",
              "      <th>ENSG00000153982</th>\n",
              "      <th>ENSG00000085117</th>\n",
              "      <th>ENSG00000135069</th>\n",
              "      <th>ENSG00000105392</th>\n",
              "      <th>ENSG00000091164</th>\n",
              "      <th>ENSG00000006625</th>\n",
              "      <th>ENSG00000241553</th>\n",
              "      <th>ENSG00000106399</th>\n",
              "    </tr>\n",
              "  </thead>\n",
              "  <tbody>\n",
              "    <tr>\n",
              "      <th>0</th>\n",
              "      <td>32962.305</td>\n",
              "      <td>9065.20200</td>\n",
              "      <td>5350.2246</td>\n",
              "      <td>4950.4950</td>\n",
              "      <td>9255.0700</td>\n",
              "      <td>6949.1420</td>\n",
              "      <td>2982.5964</td>\n",
              "      <td>5442.4697</td>\n",
              "      <td>4119.83250</td>\n",
              "      <td>7287.3750</td>\n",
              "      <td>...</td>\n",
              "      <td>118.27511</td>\n",
              "      <td>184.490510</td>\n",
              "      <td>61.496834</td>\n",
              "      <td>47.390750</td>\n",
              "      <td>184.490510</td>\n",
              "      <td>101.367905</td>\n",
              "      <td>61.496834</td>\n",
              "      <td>61.496834</td>\n",
              "      <td>30.748417</td>\n",
              "      <td>215.238920</td>\n",
              "    </tr>\n",
              "    <tr>\n",
              "      <th>1</th>\n",
              "      <td>34861.200</td>\n",
              "      <td>0.00000</td>\n",
              "      <td>0.0000</td>\n",
              "      <td>3873.4666</td>\n",
              "      <td>12696.3620</td>\n",
              "      <td>9038.0890</td>\n",
              "      <td>0.0000</td>\n",
              "      <td>8177.3180</td>\n",
              "      <td>0.00000</td>\n",
              "      <td>6670.9700</td>\n",
              "      <td>...</td>\n",
              "      <td>0.00000</td>\n",
              "      <td>0.000000</td>\n",
              "      <td>0.000000</td>\n",
              "      <td>0.000000</td>\n",
              "      <td>0.000000</td>\n",
              "      <td>0.000000</td>\n",
              "      <td>645.577760</td>\n",
              "      <td>0.000000</td>\n",
              "      <td>215.192580</td>\n",
              "      <td>215.192580</td>\n",
              "    </tr>\n",
              "    <tr>\n",
              "      <th>2</th>\n",
              "      <td>17791.770</td>\n",
              "      <td>9193.14500</td>\n",
              "      <td>3431.0170</td>\n",
              "      <td>1061.1393</td>\n",
              "      <td>14643.7230</td>\n",
              "      <td>6402.2075</td>\n",
              "      <td>3218.7893</td>\n",
              "      <td>3324.9033</td>\n",
              "      <td>3606.52640</td>\n",
              "      <td>3360.2747</td>\n",
              "      <td>...</td>\n",
              "      <td>219.23100</td>\n",
              "      <td>0.000000</td>\n",
              "      <td>115.996070</td>\n",
              "      <td>106.113940</td>\n",
              "      <td>0.000000</td>\n",
              "      <td>70.742620</td>\n",
              "      <td>70.742620</td>\n",
              "      <td>35.371310</td>\n",
              "      <td>35.371310</td>\n",
              "      <td>0.000000</td>\n",
              "    </tr>\n",
              "    <tr>\n",
              "      <th>3</th>\n",
              "      <td>26513.914</td>\n",
              "      <td>10016.36700</td>\n",
              "      <td>5564.6484</td>\n",
              "      <td>3404.2556</td>\n",
              "      <td>7725.0415</td>\n",
              "      <td>3076.9233</td>\n",
              "      <td>2029.4601</td>\n",
              "      <td>8707.0380</td>\n",
              "      <td>3927.98730</td>\n",
              "      <td>1767.5942</td>\n",
              "      <td>...</td>\n",
              "      <td>130.93290</td>\n",
              "      <td>130.932900</td>\n",
              "      <td>0.000000</td>\n",
              "      <td>189.144900</td>\n",
              "      <td>65.466450</td>\n",
              "      <td>261.865800</td>\n",
              "      <td>130.932900</td>\n",
              "      <td>0.000000</td>\n",
              "      <td>0.000000</td>\n",
              "      <td>0.000000</td>\n",
              "    </tr>\n",
              "    <tr>\n",
              "      <th>4</th>\n",
              "      <td>30791.666</td>\n",
              "      <td>18116.04300</td>\n",
              "      <td>7347.3735</td>\n",
              "      <td>2636.0806</td>\n",
              "      <td>8469.1100</td>\n",
              "      <td>4655.2060</td>\n",
              "      <td>6449.9844</td>\n",
              "      <td>3084.7751</td>\n",
              "      <td>5833.02930</td>\n",
              "      <td>2187.3860</td>\n",
              "      <td>...</td>\n",
              "      <td>0.00000</td>\n",
              "      <td>112.173645</td>\n",
              "      <td>56.086823</td>\n",
              "      <td>168.260470</td>\n",
              "      <td>56.086823</td>\n",
              "      <td>196.303880</td>\n",
              "      <td>0.000000</td>\n",
              "      <td>56.086823</td>\n",
              "      <td>224.347290</td>\n",
              "      <td>0.000000</td>\n",
              "    </tr>\n",
              "    <tr>\n",
              "      <th>...</th>\n",
              "      <td>...</td>\n",
              "      <td>...</td>\n",
              "      <td>...</td>\n",
              "      <td>...</td>\n",
              "      <td>...</td>\n",
              "      <td>...</td>\n",
              "      <td>...</td>\n",
              "      <td>...</td>\n",
              "      <td>...</td>\n",
              "      <td>...</td>\n",
              "      <td>...</td>\n",
              "      <td>...</td>\n",
              "      <td>...</td>\n",
              "      <td>...</td>\n",
              "      <td>...</td>\n",
              "      <td>...</td>\n",
              "      <td>...</td>\n",
              "      <td>...</td>\n",
              "      <td>...</td>\n",
              "      <td>...</td>\n",
              "      <td>...</td>\n",
              "    </tr>\n",
              "    <tr>\n",
              "      <th>1422</th>\n",
              "      <td>20833.332</td>\n",
              "      <td>11986.30100</td>\n",
              "      <td>6849.3150</td>\n",
              "      <td>3139.2693</td>\n",
              "      <td>14554.7940</td>\n",
              "      <td>3995.4336</td>\n",
              "      <td>7420.0913</td>\n",
              "      <td>6563.9270</td>\n",
              "      <td>5993.15040</td>\n",
              "      <td>3424.6575</td>\n",
              "      <td>...</td>\n",
              "      <td>0.00000</td>\n",
              "      <td>0.000000</td>\n",
              "      <td>0.000000</td>\n",
              "      <td>285.388120</td>\n",
              "      <td>0.000000</td>\n",
              "      <td>0.000000</td>\n",
              "      <td>0.000000</td>\n",
              "      <td>0.000000</td>\n",
              "      <td>0.000000</td>\n",
              "      <td>0.000000</td>\n",
              "    </tr>\n",
              "    <tr>\n",
              "      <th>1423</th>\n",
              "      <td>73876.350</td>\n",
              "      <td>172.20595</td>\n",
              "      <td>0.0000</td>\n",
              "      <td>18598.2420</td>\n",
              "      <td>10160.1510</td>\n",
              "      <td>7921.4736</td>\n",
              "      <td>0.0000</td>\n",
              "      <td>7404.8560</td>\n",
              "      <td>516.61786</td>\n",
              "      <td>1894.2654</td>\n",
              "      <td>...</td>\n",
              "      <td>0.00000</td>\n",
              "      <td>0.000000</td>\n",
              "      <td>0.000000</td>\n",
              "      <td>0.000000</td>\n",
              "      <td>0.000000</td>\n",
              "      <td>0.000000</td>\n",
              "      <td>516.617860</td>\n",
              "      <td>0.000000</td>\n",
              "      <td>0.000000</td>\n",
              "      <td>0.000000</td>\n",
              "    </tr>\n",
              "    <tr>\n",
              "      <th>1424</th>\n",
              "      <td>22690.557</td>\n",
              "      <td>14539.58000</td>\n",
              "      <td>4038.7722</td>\n",
              "      <td>3671.6110</td>\n",
              "      <td>8003.4385</td>\n",
              "      <td>8150.9766</td>\n",
              "      <td>5140.2554</td>\n",
              "      <td>2202.9666</td>\n",
              "      <td>5433.98440</td>\n",
              "      <td>4259.0690</td>\n",
              "      <td>...</td>\n",
              "      <td>0.00000</td>\n",
              "      <td>220.296660</td>\n",
              "      <td>0.000000</td>\n",
              "      <td>73.432220</td>\n",
              "      <td>146.864440</td>\n",
              "      <td>264.356000</td>\n",
              "      <td>146.864440</td>\n",
              "      <td>73.432220</td>\n",
              "      <td>0.000000</td>\n",
              "      <td>0.000000</td>\n",
              "    </tr>\n",
              "    <tr>\n",
              "      <th>1425</th>\n",
              "      <td>54775.516</td>\n",
              "      <td>5771.68550</td>\n",
              "      <td>2830.3457</td>\n",
              "      <td>8047.0615</td>\n",
              "      <td>8713.0250</td>\n",
              "      <td>9101.5040</td>\n",
              "      <td>2830.3457</td>\n",
              "      <td>2663.8547</td>\n",
              "      <td>2608.35800</td>\n",
              "      <td>11376.8800</td>\n",
              "      <td>...</td>\n",
              "      <td>147.99194</td>\n",
              "      <td>221.987900</td>\n",
              "      <td>55.496975</td>\n",
              "      <td>194.239410</td>\n",
              "      <td>166.490920</td>\n",
              "      <td>0.000000</td>\n",
              "      <td>221.987900</td>\n",
              "      <td>0.000000</td>\n",
              "      <td>55.496975</td>\n",
              "      <td>55.496975</td>\n",
              "    </tr>\n",
              "    <tr>\n",
              "      <th>1426</th>\n",
              "      <td>15493.742</td>\n",
              "      <td>8285.11500</td>\n",
              "      <td>3748.4860</td>\n",
              "      <td>2383.6526</td>\n",
              "      <td>7515.4080</td>\n",
              "      <td>6631.9370</td>\n",
              "      <td>3287.1338</td>\n",
              "      <td>3998.3850</td>\n",
              "      <td>3171.67940</td>\n",
              "      <td>5055.2104</td>\n",
              "      <td>...</td>\n",
              "      <td>40.12822</td>\n",
              "      <td>230.676060</td>\n",
              "      <td>82.097176</td>\n",
              "      <td>41.007996</td>\n",
              "      <td>192.230060</td>\n",
              "      <td>0.000000</td>\n",
              "      <td>211.453060</td>\n",
              "      <td>96.115030</td>\n",
              "      <td>96.115030</td>\n",
              "      <td>153.784040</td>\n",
              "    </tr>\n",
              "  </tbody>\n",
              "</table>\n",
              "<p>1427 rows × 300 columns</p>\n",
              "</div>\n",
              "      <button class=\"colab-df-convert\" onclick=\"convertToInteractive('df-9c36218e-6418-4a56-bb3a-913f1fbe5ffc')\"\n",
              "              title=\"Convert this dataframe to an interactive table.\"\n",
              "              style=\"display:none;\">\n",
              "        \n",
              "  <svg xmlns=\"http://www.w3.org/2000/svg\" height=\"24px\"viewBox=\"0 0 24 24\"\n",
              "       width=\"24px\">\n",
              "    <path d=\"M0 0h24v24H0V0z\" fill=\"none\"/>\n",
              "    <path d=\"M18.56 5.44l.94 2.06.94-2.06 2.06-.94-2.06-.94-.94-2.06-.94 2.06-2.06.94zm-11 1L8.5 8.5l.94-2.06 2.06-.94-2.06-.94L8.5 2.5l-.94 2.06-2.06.94zm10 10l.94 2.06.94-2.06 2.06-.94-2.06-.94-.94-2.06-.94 2.06-2.06.94z\"/><path d=\"M17.41 7.96l-1.37-1.37c-.4-.4-.92-.59-1.43-.59-.52 0-1.04.2-1.43.59L10.3 9.45l-7.72 7.72c-.78.78-.78 2.05 0 2.83L4 21.41c.39.39.9.59 1.41.59.51 0 1.02-.2 1.41-.59l7.78-7.78 2.81-2.81c.8-.78.8-2.07 0-2.86zM5.41 20L4 18.59l7.72-7.72 1.47 1.35L5.41 20z\"/>\n",
              "  </svg>\n",
              "      </button>\n",
              "      \n",
              "  <style>\n",
              "    .colab-df-container {\n",
              "      display:flex;\n",
              "      flex-wrap:wrap;\n",
              "      gap: 12px;\n",
              "    }\n",
              "\n",
              "    .colab-df-convert {\n",
              "      background-color: #E8F0FE;\n",
              "      border: none;\n",
              "      border-radius: 50%;\n",
              "      cursor: pointer;\n",
              "      display: none;\n",
              "      fill: #1967D2;\n",
              "      height: 32px;\n",
              "      padding: 0 0 0 0;\n",
              "      width: 32px;\n",
              "    }\n",
              "\n",
              "    .colab-df-convert:hover {\n",
              "      background-color: #E2EBFA;\n",
              "      box-shadow: 0px 1px 2px rgba(60, 64, 67, 0.3), 0px 1px 3px 1px rgba(60, 64, 67, 0.15);\n",
              "      fill: #174EA6;\n",
              "    }\n",
              "\n",
              "    [theme=dark] .colab-df-convert {\n",
              "      background-color: #3B4455;\n",
              "      fill: #D2E3FC;\n",
              "    }\n",
              "\n",
              "    [theme=dark] .colab-df-convert:hover {\n",
              "      background-color: #434B5C;\n",
              "      box-shadow: 0px 1px 3px 1px rgba(0, 0, 0, 0.15);\n",
              "      filter: drop-shadow(0px 1px 2px rgba(0, 0, 0, 0.3));\n",
              "      fill: #FFFFFF;\n",
              "    }\n",
              "  </style>\n",
              "\n",
              "      <script>\n",
              "        const buttonEl =\n",
              "          document.querySelector('#df-9c36218e-6418-4a56-bb3a-913f1fbe5ffc button.colab-df-convert');\n",
              "        buttonEl.style.display =\n",
              "          google.colab.kernel.accessAllowed ? 'block' : 'none';\n",
              "\n",
              "        async function convertToInteractive(key) {\n",
              "          const element = document.querySelector('#df-9c36218e-6418-4a56-bb3a-913f1fbe5ffc');\n",
              "          const dataTable =\n",
              "            await google.colab.kernel.invokeFunction('convertToInteractive',\n",
              "                                                     [key], {});\n",
              "          if (!dataTable) return;\n",
              "\n",
              "          const docLinkHtml = 'Like what you see? Visit the ' +\n",
              "            '<a target=\"_blank\" href=https://colab.research.google.com/notebooks/data_table.ipynb>data table notebook</a>'\n",
              "            + ' to learn more about interactive tables.';\n",
              "          element.innerHTML = '';\n",
              "          dataTable['output_type'] = 'display_data';\n",
              "          await google.colab.output.renderOutput(dataTable, element);\n",
              "          const docLink = document.createElement('div');\n",
              "          docLink.innerHTML = docLinkHtml;\n",
              "          element.appendChild(docLink);\n",
              "        }\n",
              "      </script>\n",
              "    </div>\n",
              "  </div>\n",
              "  "
            ]
          },
          "metadata": {},
          "execution_count": 42
        }
      ]
    },
    {
      "cell_type": "code",
      "source": [
        "# Get the column names corresponding to the series indices\n",
        "column_names_XG = data_filtered_features.columns[importance.index]\n",
        "\n",
        "# Print the column names\n",
        "print(column_names_XG)"
      ],
      "metadata": {
        "colab": {
          "base_uri": "https://localhost:8080/"
        },
        "id": "d_eXRHo97Bm4",
        "outputId": "46a65d6e-15ae-4536-b6fe-3fcdd9be4198"
      },
      "execution_count": null,
      "outputs": [
        {
          "output_type": "stream",
          "name": "stdout",
          "text": [
            "Index(['ENSG00000198938', 'ENSG00000198804', 'ENSG00000198712',\n",
            "       'ENSG00000198886', 'ENSG00000269028', 'ENSG00000132424',\n",
            "       'ENSG00000256618', 'ENSG00000229117', 'ENSG00000111640',\n",
            "       'ENSG00000108107',\n",
            "       ...\n",
            "       'ENSG00000169020', 'ENSG00000133812', 'ENSG00000118680',\n",
            "       'ENSG00000188229', 'ENSG00000137575', 'ENSG00000185222',\n",
            "       'ENSG00000138035', 'ENSG00000165119', 'ENSG00000070087',\n",
            "       'ENSG00000106399'],\n",
            "      dtype='object', length=300)\n"
          ]
        }
      ]
    },
    {
      "cell_type": "code",
      "source": [
        "# Get the column names corresponding to the series indices above the threshold\n",
        "filtered_column_names_XG = data_filtered_features.columns[importance[importance > 0.01].index]\n",
        "\n",
        "# Print the filtered column names\n",
        "print(filtered_column_names_XG)"
      ],
      "metadata": {
        "id": "RiQHQhGPMzdL"
      },
      "execution_count": null,
      "outputs": []
    },
    {
      "cell_type": "code",
      "source": [
        "#print(filtered_column_names_XG)"
      ],
      "metadata": {
        "colab": {
          "base_uri": "https://localhost:8080/"
        },
        "id": "bdCZrN2b7_KC",
        "outputId": "29bd53a9-94e6-4630-fe4e-0a3880a16543"
      },
      "execution_count": null,
      "outputs": [
        {
          "output_type": "stream",
          "name": "stdout",
          "text": [
            "Index(['ENSG00000198938', 'ENSG00000198804', 'ENSG00000198712',\n",
            "       'ENSG00000198886', 'ENSG00000269028', 'ENSG00000132424',\n",
            "       'ENSG00000256618', 'ENSG00000229117', 'ENSG00000111640',\n",
            "       'ENSG00000108107', 'ENSG00000280831', 'ENSG00000115947',\n",
            "       'ENSG00000138061', 'ENSG00000163864', 'ENSG00000144649',\n",
            "       'ENSG00000177700', 'ENSG00000181704', 'ENSG00000136213',\n",
            "       'ENSG00000198763', 'ENSG00000198888', 'ENSG00000145423',\n",
            "       'ENSG00000140264', 'ENSG00000205542', 'ENSG00000198242',\n",
            "       'ENSG00000198899', 'ENSG00000127184', 'ENSG00000185787',\n",
            "       'ENSG00000142168', 'ENSG00000115310', 'ENSG00000135404'],\n",
            "      dtype='object')\n"
          ]
        }
      ]
    },
    {
      "cell_type": "markdown",
      "source": [
        "# Fit the classifier with best parameters and features found using mRMR"
      ],
      "metadata": {
        "id": "irYnuVUiE6GX"
      }
    },
    {
      "cell_type": "markdown",
      "source": [
        "## Load the best feaures"
      ],
      "metadata": {
        "id": "fo65yq2rrWx7"
      }
    },
    {
      "cell_type": "code",
      "source": [
        "# Load the saved array that contains the features selected from the mRMR technique\n",
        "selected_features = np.load('best_features_mrmr.npy')"
      ],
      "metadata": {
        "id": "4GxO1hGbrV6k"
      },
      "execution_count": 67,
      "outputs": []
    },
    {
      "cell_type": "markdown",
      "source": [
        "## SVC\n",
        "\n"
      ],
      "metadata": {
        "id": "Cq_7zfHB55NT"
      }
    },
    {
      "cell_type": "markdown",
      "source": [
        "### Get best parameters and make predictions"
      ],
      "metadata": {
        "id": "-BlP0-f355NV"
      }
    },
    {
      "cell_type": "code",
      "source": [
        "X_test_selected = X_test[:, selected_features] # filter the test set to keep only the features selected from the mRMR technique"
      ],
      "metadata": {
        "id": "2Klj9Ids55NV"
      },
      "execution_count": 68,
      "outputs": []
    },
    {
      "cell_type": "code",
      "source": [
        "X_test_selected.shape"
      ],
      "metadata": {
        "colab": {
          "base_uri": "https://localhost:8080/"
        },
        "id": "Pntd0rgXYAPG",
        "outputId": "f5f3f933-fa09-433e-8d73-05e72d00540c"
      },
      "execution_count": null,
      "outputs": [
        {
          "output_type": "execute_result",
          "data": {
            "text/plain": [
              "(286, 300)"
            ]
          },
          "metadata": {},
          "execution_count": 218
        }
      ]
    },
    {
      "cell_type": "code",
      "source": [
        "X_train_val_selected_final_features = X_train_val[:, selected_features] # perform the same filtering as above to the train set"
      ],
      "metadata": {
        "id": "foQaeIWO55NW"
      },
      "execution_count": 69,
      "outputs": []
    },
    {
      "cell_type": "code",
      "source": [
        "X_train_val_selected_final_features.shape"
      ],
      "metadata": {
        "colab": {
          "base_uri": "https://localhost:8080/"
        },
        "id": "uOfhlWP4YN5_",
        "outputId": "539d731e-a93b-4de5-dd1b-0f5340e9289d"
      },
      "execution_count": null,
      "outputs": [
        {
          "output_type": "execute_result",
          "data": {
            "text/plain": [
              "(1141, 300)"
            ]
          },
          "metadata": {},
          "execution_count": 220
        }
      ]
    },
    {
      "cell_type": "code",
      "source": [
        "best_classifier_SVC = SVC(C= 3.807947176588889,gamma= 0.951207163345817,kernel= 'linear',degree= 2) # initalize the classifier and its parameters"
      ],
      "metadata": {
        "id": "FPNOqYVN55NW"
      },
      "execution_count": 70,
      "outputs": []
    },
    {
      "cell_type": "code",
      "source": [
        "best_classifier_SVC.fit(X_train_val_selected_final_features, y_train_val) # train the classifier"
      ],
      "metadata": {
        "colab": {
          "base_uri": "https://localhost:8080/",
          "height": 74
        },
        "outputId": "73256c22-8bd8-4e74-bb93-75b59c952edd",
        "id": "_x7rOdPk55NW"
      },
      "execution_count": 71,
      "outputs": [
        {
          "output_type": "execute_result",
          "data": {
            "text/plain": [
              "SVC(C=3.807947176588889, degree=2, gamma=0.951207163345817, kernel='linear')"
            ],
            "text/html": [
              "<style>#sk-container-id-6 {color: black;background-color: white;}#sk-container-id-6 pre{padding: 0;}#sk-container-id-6 div.sk-toggleable {background-color: white;}#sk-container-id-6 label.sk-toggleable__label {cursor: pointer;display: block;width: 100%;margin-bottom: 0;padding: 0.3em;box-sizing: border-box;text-align: center;}#sk-container-id-6 label.sk-toggleable__label-arrow:before {content: \"▸\";float: left;margin-right: 0.25em;color: #696969;}#sk-container-id-6 label.sk-toggleable__label-arrow:hover:before {color: black;}#sk-container-id-6 div.sk-estimator:hover label.sk-toggleable__label-arrow:before {color: black;}#sk-container-id-6 div.sk-toggleable__content {max-height: 0;max-width: 0;overflow: hidden;text-align: left;background-color: #f0f8ff;}#sk-container-id-6 div.sk-toggleable__content pre {margin: 0.2em;color: black;border-radius: 0.25em;background-color: #f0f8ff;}#sk-container-id-6 input.sk-toggleable__control:checked~div.sk-toggleable__content {max-height: 200px;max-width: 100%;overflow: auto;}#sk-container-id-6 input.sk-toggleable__control:checked~label.sk-toggleable__label-arrow:before {content: \"▾\";}#sk-container-id-6 div.sk-estimator input.sk-toggleable__control:checked~label.sk-toggleable__label {background-color: #d4ebff;}#sk-container-id-6 div.sk-label input.sk-toggleable__control:checked~label.sk-toggleable__label {background-color: #d4ebff;}#sk-container-id-6 input.sk-hidden--visually {border: 0;clip: rect(1px 1px 1px 1px);clip: rect(1px, 1px, 1px, 1px);height: 1px;margin: -1px;overflow: hidden;padding: 0;position: absolute;width: 1px;}#sk-container-id-6 div.sk-estimator {font-family: monospace;background-color: #f0f8ff;border: 1px dotted black;border-radius: 0.25em;box-sizing: border-box;margin-bottom: 0.5em;}#sk-container-id-6 div.sk-estimator:hover {background-color: #d4ebff;}#sk-container-id-6 div.sk-parallel-item::after {content: \"\";width: 100%;border-bottom: 1px solid gray;flex-grow: 1;}#sk-container-id-6 div.sk-label:hover label.sk-toggleable__label {background-color: #d4ebff;}#sk-container-id-6 div.sk-serial::before {content: \"\";position: absolute;border-left: 1px solid gray;box-sizing: border-box;top: 0;bottom: 0;left: 50%;z-index: 0;}#sk-container-id-6 div.sk-serial {display: flex;flex-direction: column;align-items: center;background-color: white;padding-right: 0.2em;padding-left: 0.2em;position: relative;}#sk-container-id-6 div.sk-item {position: relative;z-index: 1;}#sk-container-id-6 div.sk-parallel {display: flex;align-items: stretch;justify-content: center;background-color: white;position: relative;}#sk-container-id-6 div.sk-item::before, #sk-container-id-6 div.sk-parallel-item::before {content: \"\";position: absolute;border-left: 1px solid gray;box-sizing: border-box;top: 0;bottom: 0;left: 50%;z-index: -1;}#sk-container-id-6 div.sk-parallel-item {display: flex;flex-direction: column;z-index: 1;position: relative;background-color: white;}#sk-container-id-6 div.sk-parallel-item:first-child::after {align-self: flex-end;width: 50%;}#sk-container-id-6 div.sk-parallel-item:last-child::after {align-self: flex-start;width: 50%;}#sk-container-id-6 div.sk-parallel-item:only-child::after {width: 0;}#sk-container-id-6 div.sk-dashed-wrapped {border: 1px dashed gray;margin: 0 0.4em 0.5em 0.4em;box-sizing: border-box;padding-bottom: 0.4em;background-color: white;}#sk-container-id-6 div.sk-label label {font-family: monospace;font-weight: bold;display: inline-block;line-height: 1.2em;}#sk-container-id-6 div.sk-label-container {text-align: center;}#sk-container-id-6 div.sk-container {/* jupyter's `normalize.less` sets `[hidden] { display: none; }` but bootstrap.min.css set `[hidden] { display: none !important; }` so we also need the `!important` here to be able to override the default hidden behavior on the sphinx rendered scikit-learn.org. See: https://github.com/scikit-learn/scikit-learn/issues/21755 */display: inline-block !important;position: relative;}#sk-container-id-6 div.sk-text-repr-fallback {display: none;}</style><div id=\"sk-container-id-6\" class=\"sk-top-container\"><div class=\"sk-text-repr-fallback\"><pre>SVC(C=3.807947176588889, degree=2, gamma=0.951207163345817, kernel=&#x27;linear&#x27;)</pre><b>In a Jupyter environment, please rerun this cell to show the HTML representation or trust the notebook. <br />On GitHub, the HTML representation is unable to render, please try loading this page with nbviewer.org.</b></div><div class=\"sk-container\" hidden><div class=\"sk-item\"><div class=\"sk-estimator sk-toggleable\"><input class=\"sk-toggleable__control sk-hidden--visually\" id=\"sk-estimator-id-6\" type=\"checkbox\" checked><label for=\"sk-estimator-id-6\" class=\"sk-toggleable__label sk-toggleable__label-arrow\">SVC</label><div class=\"sk-toggleable__content\"><pre>SVC(C=3.807947176588889, degree=2, gamma=0.951207163345817, kernel=&#x27;linear&#x27;)</pre></div></div></div></div></div>"
            ]
          },
          "metadata": {},
          "execution_count": 71
        }
      ]
    },
    {
      "cell_type": "code",
      "source": [
        "y_test_pred = best_classifier_SVC.predict(X_test_selected) # make predictions on the test set"
      ],
      "metadata": {
        "id": "z4CHWrjt55NW"
      },
      "execution_count": 72,
      "outputs": []
    },
    {
      "cell_type": "code",
      "source": [
        "# Computed metrics' scores\n",
        "balanced_acc_mrmr_SVC = balanced_accuracy_score(y_test, y_test_pred)\n",
        "accuracy_mrmr_SVC = accuracy_score(y_test, y_test_pred)\n",
        "precision_mrmr_SVC = precision_score(y_test, y_test_pred)\n",
        "recall_mrmr_SVC = recall_score(y_test, y_test_pred)\n",
        "f1_mrmr_SVC = f1_score(y_test, y_test_pred)"
      ],
      "metadata": {
        "id": "WWa3X3HQ55NW"
      },
      "execution_count": 73,
      "outputs": []
    },
    {
      "cell_type": "code",
      "source": [
        "# Printing the metrics\n",
        "print(\"Balanced Accuracy:\", balanced_acc_mrmr_SVC)\n",
        "print(\"Precision:\", precision_mrmr_SVC)\n",
        "print(\"Recall:\", recall_mrmr_SVC)\n",
        "print(\"F1 Score:\", f1_mrmr_SVC)"
      ],
      "metadata": {
        "colab": {
          "base_uri": "https://localhost:8080/"
        },
        "id": "sA8_S6HGFLvg",
        "outputId": "a3c450be-e7fe-40f2-e8bb-47a85f852eac"
      },
      "execution_count": 75,
      "outputs": [
        {
          "output_type": "stream",
          "name": "stdout",
          "text": [
            "Balanced Accuracy: 0.9407131011608623\n",
            "Precision: 0.8888888888888888\n",
            "Recall: 0.8888888888888888\n",
            "F1 Score: 0.8888888888888888\n"
          ]
        }
      ]
    },
    {
      "cell_type": "markdown",
      "source": [
        "### Feature Importance"
      ],
      "metadata": {
        "id": "TQjR0oWYJ04v"
      }
    },
    {
      "cell_type": "code",
      "source": [
        "# Get the coefficients and support vectors\n",
        "coefs = best_classifier_SVC.coef_\n",
        "support_vectors = best_classifier_SVC.support_vectors_\n",
        "\n",
        "# Calculate the feature importance scores\n",
        "feature_importance = np.abs(np.dot(coefs, support_vectors.T))\n",
        "\n",
        "# Get the top 20 indices of the feature importance scores\n",
        "top20_indices = np.argsort(feature_importance[0])[-20:]\n",
        "\n",
        "# Print the top 20 indices\n",
        "print(top20_indices)"
      ],
      "metadata": {
        "colab": {
          "base_uri": "https://localhost:8080/"
        },
        "outputId": "1bd5ef27-de36-4d5e-975e-8e4d320c8a52",
        "id": "xgPovRtsJ04v"
      },
      "execution_count": null,
      "outputs": [
        {
          "output_type": "stream",
          "name": "stdout",
          "text": [
            "[75 48 56 63 47 66 50 78 58 59 61 73 70 81 44 79 74 68 49 43]\n"
          ]
        }
      ]
    },
    {
      "cell_type": "code",
      "source": [
        "top20_indices_SVC= pd.Series(top20_indices).sort_values(ascending=False) # turn the top20_indices array to a set and sort it"
      ],
      "metadata": {
        "id": "3-XyGiPRJ04w"
      },
      "execution_count": null,
      "outputs": []
    },
    {
      "cell_type": "code",
      "source": [
        "# Filter the DataFrame using the boolean array\n",
        "data_filtered_features = final_data.iloc[:,1:-9].iloc[:, selected_features]\n",
        "\n",
        "# Print the filtered DataFrame\n",
        "data_filtered_features"
      ],
      "metadata": {
        "colab": {
          "base_uri": "https://localhost:8080/",
          "height": 487
        },
        "outputId": "16c68b62-91c9-43f7-b0ad-c6ee96a0b984",
        "id": "LMTfLBi6J04w"
      },
      "execution_count": null,
      "outputs": [
        {
          "output_type": "execute_result",
          "data": {
            "text/plain": [
              "      ENSG00000075624  ENSG00000089248  ENSG00000255508  ENSG00000117906  \\\n",
              "0           4950.4950        338.23257      1214.562500        430.47784   \n",
              "1           3873.4666        215.19258         0.882505          0.00000   \n",
              "2           1061.1393        176.85655      2299.135300         35.37131   \n",
              "3           3404.2556          0.00000         0.000524        327.33228   \n",
              "4           2636.0806        168.26047         0.003702        392.60776   \n",
              "...               ...              ...              ...              ...   \n",
              "1422        3139.2693          0.00000       998.858400          0.00000   \n",
              "1423       18598.2420          0.00000         1.701223          0.00000   \n",
              "1424        3671.6110        146.86444         0.000441        293.72888   \n",
              "1425        8047.0615        166.49092         0.000000        332.98184   \n",
              "1426        2383.6526        211.45306         0.000019        403.68310   \n",
              "\n",
              "      ENSG00000084207  ENSG00000241553  ENSG00000117523  ENSG00000107223  \\\n",
              "0           1875.6534        30.748417        61.496834       245.987340   \n",
              "1           2582.3110       215.192580         0.000000      1291.155500   \n",
              "2            601.3123        35.371310        70.742620       318.341800   \n",
              "3           1047.4633         0.000000       327.332280       130.932900   \n",
              "4           3533.4697       224.347290       168.260470       112.173645   \n",
              "...               ...              ...              ...              ...   \n",
              "1422        1712.3287         0.000000         0.000000         0.000000   \n",
              "1423        2066.4714         0.000000         0.000000       688.823800   \n",
              "1424        1395.2122         0.000000       220.296660       146.864440   \n",
              "1425        4994.7275        55.496975         0.000000       665.963700   \n",
              "1426        2076.0845        96.115030       134.561040       326.791080   \n",
              "\n",
              "      ENSG00000166228  ENSG00000088832  ...  ENSG00000164687  ENSG00000141756  \\\n",
              "0          245.987340        276.73575  ...        399.72943        61.496834   \n",
              "1            0.000000        860.77030  ...        430.38516         0.000000   \n",
              "2          212.227870        141.48524  ...        141.48524       106.113940   \n",
              "3           65.466450        261.86580  ...        327.33228       196.399350   \n",
              "4          112.173645        224.34729  ...        224.34729       168.260470   \n",
              "...               ...              ...  ...              ...              ...   \n",
              "1422         0.000000          0.00000  ...        570.77625         0.000000   \n",
              "1423       172.205950        516.61786  ...       2410.88330         0.000000   \n",
              "1424       587.457760        146.86444  ...        734.32220         0.000000   \n",
              "1425       166.490920        277.48486  ...        110.99395       332.981840   \n",
              "1426       269.122070        249.89906  ...       1018.81930        76.892020   \n",
              "\n",
              "      ENSG00000117519  ENSG00000105392  ENSG00000196419  ENSG00000185565  \\\n",
              "0           399.72943       101.367905        61.496834          0.00000   \n",
              "1           645.57776         0.000000       215.192580          0.00000   \n",
              "2             0.00000        70.742620       106.113940         70.74262   \n",
              "3           392.79870       261.865800         0.000000         65.46645   \n",
              "4           673.04190       196.303880        56.086823          0.00000   \n",
              "...               ...              ...              ...              ...   \n",
              "1422        570.77625         0.000000         0.000000          0.00000   \n",
              "1423        688.82380         0.000000         0.000000          0.00000   \n",
              "1424        146.86444       264.356000       146.864440          0.00000   \n",
              "1425        443.97580         0.000000        55.496975          0.00000   \n",
              "1426        249.89906         0.000000       153.784040         96.11503   \n",
              "\n",
              "      ENSG00000109046  ENSG00000105669  ENSG00000136213  ENSG00000134248  \n",
              "0           368.98102        215.23892       550.729860       338.232570  \n",
              "1             0.00000        430.38516         0.000000       215.192580  \n",
              "2           436.25226        106.11394      1054.877000       176.856550  \n",
              "3           589.19806         65.46645         0.000000       261.865800  \n",
              "4           504.78140        448.69458       730.425200       729.128660  \n",
              "...               ...              ...              ...              ...  \n",
              "1422        570.77625        570.77625       178.367580         0.000000  \n",
              "1423          0.00000          0.00000         0.000000         0.000000  \n",
              "1424        367.16110        293.72888         0.000661       220.296660  \n",
              "1425        166.49092        277.48486      1173.684900        55.496975  \n",
              "1426        269.12207        115.33803       478.163600       384.460100  \n",
              "\n",
              "[1427 rows x 300 columns]"
            ],
            "text/html": [
              "\n",
              "  <div id=\"df-a57ed62b-e929-4ab8-afbd-49c5f0b9b72f\">\n",
              "    <div class=\"colab-df-container\">\n",
              "      <div>\n",
              "<style scoped>\n",
              "    .dataframe tbody tr th:only-of-type {\n",
              "        vertical-align: middle;\n",
              "    }\n",
              "\n",
              "    .dataframe tbody tr th {\n",
              "        vertical-align: top;\n",
              "    }\n",
              "\n",
              "    .dataframe thead th {\n",
              "        text-align: right;\n",
              "    }\n",
              "</style>\n",
              "<table border=\"1\" class=\"dataframe\">\n",
              "  <thead>\n",
              "    <tr style=\"text-align: right;\">\n",
              "      <th></th>\n",
              "      <th>ENSG00000075624</th>\n",
              "      <th>ENSG00000089248</th>\n",
              "      <th>ENSG00000255508</th>\n",
              "      <th>ENSG00000117906</th>\n",
              "      <th>ENSG00000084207</th>\n",
              "      <th>ENSG00000241553</th>\n",
              "      <th>ENSG00000117523</th>\n",
              "      <th>ENSG00000107223</th>\n",
              "      <th>ENSG00000166228</th>\n",
              "      <th>ENSG00000088832</th>\n",
              "      <th>...</th>\n",
              "      <th>ENSG00000164687</th>\n",
              "      <th>ENSG00000141756</th>\n",
              "      <th>ENSG00000117519</th>\n",
              "      <th>ENSG00000105392</th>\n",
              "      <th>ENSG00000196419</th>\n",
              "      <th>ENSG00000185565</th>\n",
              "      <th>ENSG00000109046</th>\n",
              "      <th>ENSG00000105669</th>\n",
              "      <th>ENSG00000136213</th>\n",
              "      <th>ENSG00000134248</th>\n",
              "    </tr>\n",
              "  </thead>\n",
              "  <tbody>\n",
              "    <tr>\n",
              "      <th>0</th>\n",
              "      <td>4950.4950</td>\n",
              "      <td>338.23257</td>\n",
              "      <td>1214.562500</td>\n",
              "      <td>430.47784</td>\n",
              "      <td>1875.6534</td>\n",
              "      <td>30.748417</td>\n",
              "      <td>61.496834</td>\n",
              "      <td>245.987340</td>\n",
              "      <td>245.987340</td>\n",
              "      <td>276.73575</td>\n",
              "      <td>...</td>\n",
              "      <td>399.72943</td>\n",
              "      <td>61.496834</td>\n",
              "      <td>399.72943</td>\n",
              "      <td>101.367905</td>\n",
              "      <td>61.496834</td>\n",
              "      <td>0.00000</td>\n",
              "      <td>368.98102</td>\n",
              "      <td>215.23892</td>\n",
              "      <td>550.729860</td>\n",
              "      <td>338.232570</td>\n",
              "    </tr>\n",
              "    <tr>\n",
              "      <th>1</th>\n",
              "      <td>3873.4666</td>\n",
              "      <td>215.19258</td>\n",
              "      <td>0.882505</td>\n",
              "      <td>0.00000</td>\n",
              "      <td>2582.3110</td>\n",
              "      <td>215.192580</td>\n",
              "      <td>0.000000</td>\n",
              "      <td>1291.155500</td>\n",
              "      <td>0.000000</td>\n",
              "      <td>860.77030</td>\n",
              "      <td>...</td>\n",
              "      <td>430.38516</td>\n",
              "      <td>0.000000</td>\n",
              "      <td>645.57776</td>\n",
              "      <td>0.000000</td>\n",
              "      <td>215.192580</td>\n",
              "      <td>0.00000</td>\n",
              "      <td>0.00000</td>\n",
              "      <td>430.38516</td>\n",
              "      <td>0.000000</td>\n",
              "      <td>215.192580</td>\n",
              "    </tr>\n",
              "    <tr>\n",
              "      <th>2</th>\n",
              "      <td>1061.1393</td>\n",
              "      <td>176.85655</td>\n",
              "      <td>2299.135300</td>\n",
              "      <td>35.37131</td>\n",
              "      <td>601.3123</td>\n",
              "      <td>35.371310</td>\n",
              "      <td>70.742620</td>\n",
              "      <td>318.341800</td>\n",
              "      <td>212.227870</td>\n",
              "      <td>141.48524</td>\n",
              "      <td>...</td>\n",
              "      <td>141.48524</td>\n",
              "      <td>106.113940</td>\n",
              "      <td>0.00000</td>\n",
              "      <td>70.742620</td>\n",
              "      <td>106.113940</td>\n",
              "      <td>70.74262</td>\n",
              "      <td>436.25226</td>\n",
              "      <td>106.11394</td>\n",
              "      <td>1054.877000</td>\n",
              "      <td>176.856550</td>\n",
              "    </tr>\n",
              "    <tr>\n",
              "      <th>3</th>\n",
              "      <td>3404.2556</td>\n",
              "      <td>0.00000</td>\n",
              "      <td>0.000524</td>\n",
              "      <td>327.33228</td>\n",
              "      <td>1047.4633</td>\n",
              "      <td>0.000000</td>\n",
              "      <td>327.332280</td>\n",
              "      <td>130.932900</td>\n",
              "      <td>65.466450</td>\n",
              "      <td>261.86580</td>\n",
              "      <td>...</td>\n",
              "      <td>327.33228</td>\n",
              "      <td>196.399350</td>\n",
              "      <td>392.79870</td>\n",
              "      <td>261.865800</td>\n",
              "      <td>0.000000</td>\n",
              "      <td>65.46645</td>\n",
              "      <td>589.19806</td>\n",
              "      <td>65.46645</td>\n",
              "      <td>0.000000</td>\n",
              "      <td>261.865800</td>\n",
              "    </tr>\n",
              "    <tr>\n",
              "      <th>4</th>\n",
              "      <td>2636.0806</td>\n",
              "      <td>168.26047</td>\n",
              "      <td>0.003702</td>\n",
              "      <td>392.60776</td>\n",
              "      <td>3533.4697</td>\n",
              "      <td>224.347290</td>\n",
              "      <td>168.260470</td>\n",
              "      <td>112.173645</td>\n",
              "      <td>112.173645</td>\n",
              "      <td>224.34729</td>\n",
              "      <td>...</td>\n",
              "      <td>224.34729</td>\n",
              "      <td>168.260470</td>\n",
              "      <td>673.04190</td>\n",
              "      <td>196.303880</td>\n",
              "      <td>56.086823</td>\n",
              "      <td>0.00000</td>\n",
              "      <td>504.78140</td>\n",
              "      <td>448.69458</td>\n",
              "      <td>730.425200</td>\n",
              "      <td>729.128660</td>\n",
              "    </tr>\n",
              "    <tr>\n",
              "      <th>...</th>\n",
              "      <td>...</td>\n",
              "      <td>...</td>\n",
              "      <td>...</td>\n",
              "      <td>...</td>\n",
              "      <td>...</td>\n",
              "      <td>...</td>\n",
              "      <td>...</td>\n",
              "      <td>...</td>\n",
              "      <td>...</td>\n",
              "      <td>...</td>\n",
              "      <td>...</td>\n",
              "      <td>...</td>\n",
              "      <td>...</td>\n",
              "      <td>...</td>\n",
              "      <td>...</td>\n",
              "      <td>...</td>\n",
              "      <td>...</td>\n",
              "      <td>...</td>\n",
              "      <td>...</td>\n",
              "      <td>...</td>\n",
              "      <td>...</td>\n",
              "    </tr>\n",
              "    <tr>\n",
              "      <th>1422</th>\n",
              "      <td>3139.2693</td>\n",
              "      <td>0.00000</td>\n",
              "      <td>998.858400</td>\n",
              "      <td>0.00000</td>\n",
              "      <td>1712.3287</td>\n",
              "      <td>0.000000</td>\n",
              "      <td>0.000000</td>\n",
              "      <td>0.000000</td>\n",
              "      <td>0.000000</td>\n",
              "      <td>0.00000</td>\n",
              "      <td>...</td>\n",
              "      <td>570.77625</td>\n",
              "      <td>0.000000</td>\n",
              "      <td>570.77625</td>\n",
              "      <td>0.000000</td>\n",
              "      <td>0.000000</td>\n",
              "      <td>0.00000</td>\n",
              "      <td>570.77625</td>\n",
              "      <td>570.77625</td>\n",
              "      <td>178.367580</td>\n",
              "      <td>0.000000</td>\n",
              "    </tr>\n",
              "    <tr>\n",
              "      <th>1423</th>\n",
              "      <td>18598.2420</td>\n",
              "      <td>0.00000</td>\n",
              "      <td>1.701223</td>\n",
              "      <td>0.00000</td>\n",
              "      <td>2066.4714</td>\n",
              "      <td>0.000000</td>\n",
              "      <td>0.000000</td>\n",
              "      <td>688.823800</td>\n",
              "      <td>172.205950</td>\n",
              "      <td>516.61786</td>\n",
              "      <td>...</td>\n",
              "      <td>2410.88330</td>\n",
              "      <td>0.000000</td>\n",
              "      <td>688.82380</td>\n",
              "      <td>0.000000</td>\n",
              "      <td>0.000000</td>\n",
              "      <td>0.00000</td>\n",
              "      <td>0.00000</td>\n",
              "      <td>0.00000</td>\n",
              "      <td>0.000000</td>\n",
              "      <td>0.000000</td>\n",
              "    </tr>\n",
              "    <tr>\n",
              "      <th>1424</th>\n",
              "      <td>3671.6110</td>\n",
              "      <td>146.86444</td>\n",
              "      <td>0.000441</td>\n",
              "      <td>293.72888</td>\n",
              "      <td>1395.2122</td>\n",
              "      <td>0.000000</td>\n",
              "      <td>220.296660</td>\n",
              "      <td>146.864440</td>\n",
              "      <td>587.457760</td>\n",
              "      <td>146.86444</td>\n",
              "      <td>...</td>\n",
              "      <td>734.32220</td>\n",
              "      <td>0.000000</td>\n",
              "      <td>146.86444</td>\n",
              "      <td>264.356000</td>\n",
              "      <td>146.864440</td>\n",
              "      <td>0.00000</td>\n",
              "      <td>367.16110</td>\n",
              "      <td>293.72888</td>\n",
              "      <td>0.000661</td>\n",
              "      <td>220.296660</td>\n",
              "    </tr>\n",
              "    <tr>\n",
              "      <th>1425</th>\n",
              "      <td>8047.0615</td>\n",
              "      <td>166.49092</td>\n",
              "      <td>0.000000</td>\n",
              "      <td>332.98184</td>\n",
              "      <td>4994.7275</td>\n",
              "      <td>55.496975</td>\n",
              "      <td>0.000000</td>\n",
              "      <td>665.963700</td>\n",
              "      <td>166.490920</td>\n",
              "      <td>277.48486</td>\n",
              "      <td>...</td>\n",
              "      <td>110.99395</td>\n",
              "      <td>332.981840</td>\n",
              "      <td>443.97580</td>\n",
              "      <td>0.000000</td>\n",
              "      <td>55.496975</td>\n",
              "      <td>0.00000</td>\n",
              "      <td>166.49092</td>\n",
              "      <td>277.48486</td>\n",
              "      <td>1173.684900</td>\n",
              "      <td>55.496975</td>\n",
              "    </tr>\n",
              "    <tr>\n",
              "      <th>1426</th>\n",
              "      <td>2383.6526</td>\n",
              "      <td>211.45306</td>\n",
              "      <td>0.000019</td>\n",
              "      <td>403.68310</td>\n",
              "      <td>2076.0845</td>\n",
              "      <td>96.115030</td>\n",
              "      <td>134.561040</td>\n",
              "      <td>326.791080</td>\n",
              "      <td>269.122070</td>\n",
              "      <td>249.89906</td>\n",
              "      <td>...</td>\n",
              "      <td>1018.81930</td>\n",
              "      <td>76.892020</td>\n",
              "      <td>249.89906</td>\n",
              "      <td>0.000000</td>\n",
              "      <td>153.784040</td>\n",
              "      <td>96.11503</td>\n",
              "      <td>269.12207</td>\n",
              "      <td>115.33803</td>\n",
              "      <td>478.163600</td>\n",
              "      <td>384.460100</td>\n",
              "    </tr>\n",
              "  </tbody>\n",
              "</table>\n",
              "<p>1427 rows × 300 columns</p>\n",
              "</div>\n",
              "      <button class=\"colab-df-convert\" onclick=\"convertToInteractive('df-a57ed62b-e929-4ab8-afbd-49c5f0b9b72f')\"\n",
              "              title=\"Convert this dataframe to an interactive table.\"\n",
              "              style=\"display:none;\">\n",
              "        \n",
              "  <svg xmlns=\"http://www.w3.org/2000/svg\" height=\"24px\"viewBox=\"0 0 24 24\"\n",
              "       width=\"24px\">\n",
              "    <path d=\"M0 0h24v24H0V0z\" fill=\"none\"/>\n",
              "    <path d=\"M18.56 5.44l.94 2.06.94-2.06 2.06-.94-2.06-.94-.94-2.06-.94 2.06-2.06.94zm-11 1L8.5 8.5l.94-2.06 2.06-.94-2.06-.94L8.5 2.5l-.94 2.06-2.06.94zm10 10l.94 2.06.94-2.06 2.06-.94-2.06-.94-.94-2.06-.94 2.06-2.06.94z\"/><path d=\"M17.41 7.96l-1.37-1.37c-.4-.4-.92-.59-1.43-.59-.52 0-1.04.2-1.43.59L10.3 9.45l-7.72 7.72c-.78.78-.78 2.05 0 2.83L4 21.41c.39.39.9.59 1.41.59.51 0 1.02-.2 1.41-.59l7.78-7.78 2.81-2.81c.8-.78.8-2.07 0-2.86zM5.41 20L4 18.59l7.72-7.72 1.47 1.35L5.41 20z\"/>\n",
              "  </svg>\n",
              "      </button>\n",
              "      \n",
              "  <style>\n",
              "    .colab-df-container {\n",
              "      display:flex;\n",
              "      flex-wrap:wrap;\n",
              "      gap: 12px;\n",
              "    }\n",
              "\n",
              "    .colab-df-convert {\n",
              "      background-color: #E8F0FE;\n",
              "      border: none;\n",
              "      border-radius: 50%;\n",
              "      cursor: pointer;\n",
              "      display: none;\n",
              "      fill: #1967D2;\n",
              "      height: 32px;\n",
              "      padding: 0 0 0 0;\n",
              "      width: 32px;\n",
              "    }\n",
              "\n",
              "    .colab-df-convert:hover {\n",
              "      background-color: #E2EBFA;\n",
              "      box-shadow: 0px 1px 2px rgba(60, 64, 67, 0.3), 0px 1px 3px 1px rgba(60, 64, 67, 0.15);\n",
              "      fill: #174EA6;\n",
              "    }\n",
              "\n",
              "    [theme=dark] .colab-df-convert {\n",
              "      background-color: #3B4455;\n",
              "      fill: #D2E3FC;\n",
              "    }\n",
              "\n",
              "    [theme=dark] .colab-df-convert:hover {\n",
              "      background-color: #434B5C;\n",
              "      box-shadow: 0px 1px 3px 1px rgba(0, 0, 0, 0.15);\n",
              "      filter: drop-shadow(0px 1px 2px rgba(0, 0, 0, 0.3));\n",
              "      fill: #FFFFFF;\n",
              "    }\n",
              "  </style>\n",
              "\n",
              "      <script>\n",
              "        const buttonEl =\n",
              "          document.querySelector('#df-a57ed62b-e929-4ab8-afbd-49c5f0b9b72f button.colab-df-convert');\n",
              "        buttonEl.style.display =\n",
              "          google.colab.kernel.accessAllowed ? 'block' : 'none';\n",
              "\n",
              "        async function convertToInteractive(key) {\n",
              "          const element = document.querySelector('#df-a57ed62b-e929-4ab8-afbd-49c5f0b9b72f');\n",
              "          const dataTable =\n",
              "            await google.colab.kernel.invokeFunction('convertToInteractive',\n",
              "                                                     [key], {});\n",
              "          if (!dataTable) return;\n",
              "\n",
              "          const docLinkHtml = 'Like what you see? Visit the ' +\n",
              "            '<a target=\"_blank\" href=https://colab.research.google.com/notebooks/data_table.ipynb>data table notebook</a>'\n",
              "            + ' to learn more about interactive tables.';\n",
              "          element.innerHTML = '';\n",
              "          dataTable['output_type'] = 'display_data';\n",
              "          await google.colab.output.renderOutput(dataTable, element);\n",
              "          const docLink = document.createElement('div');\n",
              "          docLink.innerHTML = docLinkHtml;\n",
              "          element.appendChild(docLink);\n",
              "        }\n",
              "      </script>\n",
              "    </div>\n",
              "  </div>\n",
              "  "
            ]
          },
          "metadata": {},
          "execution_count": 79
        }
      ]
    },
    {
      "cell_type": "code",
      "source": [
        "# Get the column names corresponding to the series indices\n",
        "column_names_SVC = data_filtered_features.columns[top20_indices_SVC.index]\n",
        "\n",
        "# Print the column names\n",
        "print(column_names_SVC)"
      ],
      "metadata": {
        "colab": {
          "base_uri": "https://localhost:8080/"
        },
        "outputId": "806af62c-f646-4ebb-be96-22672fc2b1cf",
        "id": "MGxFCK2iJ04w"
      },
      "execution_count": null,
      "outputs": [
        {
          "output_type": "stream",
          "name": "stdout",
          "text": [
            "Index(['ENSG00000196262', 'ENSG00000130811', 'ENSG00000107223',\n",
            "       'ENSG00000075624', 'ENSG00000124767', 'ENSG00000140319',\n",
            "       'ENSG00000125743', 'ENSG00000172270', 'ENSG00000241553',\n",
            "       'ENSG00000117906', 'ENSG00000137575', 'ENSG00000088832',\n",
            "       'ENSG00000166228', 'ENSG00000255508', 'ENSG00000117523',\n",
            "       'ENSG00000185787', 'ENSG00000089248', 'ENSG00000084207',\n",
            "       'ENSG00000163191', 'ENSG00000168894'],\n",
            "      dtype='object')\n"
          ]
        }
      ]
    },
    {
      "cell_type": "markdown",
      "source": [
        "## Random Forest"
      ],
      "metadata": {
        "id": "m8dWgBDt55NY"
      }
    },
    {
      "cell_type": "markdown",
      "source": [
        "### Get best parameters and make predictions"
      ],
      "metadata": {
        "id": "t0EjgtUbY1oE"
      }
    },
    {
      "cell_type": "code",
      "source": [
        "X_test_selected = X_test[:, selected_features] # filter the test set in order to contain the features selected from the mRMR technique"
      ],
      "metadata": {
        "id": "Uw_rM0MGY1oE"
      },
      "execution_count": 76,
      "outputs": []
    },
    {
      "cell_type": "code",
      "source": [
        "X_test_selected.shape"
      ],
      "metadata": {
        "colab": {
          "base_uri": "https://localhost:8080/"
        },
        "outputId": "569064a9-c54f-4c4e-9499-5b43abd72aed",
        "id": "i0bv6G_jY1oE"
      },
      "execution_count": null,
      "outputs": [
        {
          "output_type": "execute_result",
          "data": {
            "text/plain": [
              "(286, 300)"
            ]
          },
          "metadata": {},
          "execution_count": 242
        }
      ]
    },
    {
      "cell_type": "code",
      "source": [
        "X_train_val_selected_final_features = X_train_val[:, selected_features] # perform the same filtering as above to the training set"
      ],
      "metadata": {
        "id": "QTir4VPAY1oF"
      },
      "execution_count": 77,
      "outputs": []
    },
    {
      "cell_type": "code",
      "source": [
        "X_train_val_selected_final_features.shape"
      ],
      "metadata": {
        "colab": {
          "base_uri": "https://localhost:8080/"
        },
        "outputId": "aa0198b6-d66b-4124-cae1-e05e8af42c3d",
        "id": "Dm1FSm-aY1oF"
      },
      "execution_count": null,
      "outputs": [
        {
          "output_type": "execute_result",
          "data": {
            "text/plain": [
              "(1141, 300)"
            ]
          },
          "metadata": {},
          "execution_count": 244
        }
      ]
    },
    {
      "cell_type": "code",
      "source": [
        "best_classifier_RF = RandomForestClassifier(n_estimators= 110,max_depth= 17,min_samples_split= 7,min_samples_leaf= 1,bootstrap= False) # initalize the classifier and its parameters"
      ],
      "metadata": {
        "id": "3vPk6DWeY1oF"
      },
      "execution_count": 78,
      "outputs": []
    },
    {
      "cell_type": "code",
      "source": [
        "best_classifier_RF.fit(X_train_val_selected_final_features, y_train_val) # train the classifier"
      ],
      "metadata": {
        "colab": {
          "base_uri": "https://localhost:8080/",
          "height": 92
        },
        "outputId": "b76842bc-9112-46cf-bee7-74dc9eb5987e",
        "id": "sN1zj4s4Y1oF"
      },
      "execution_count": 79,
      "outputs": [
        {
          "output_type": "execute_result",
          "data": {
            "text/plain": [
              "RandomForestClassifier(bootstrap=False, max_depth=17, min_samples_split=7,\n",
              "                       n_estimators=110)"
            ],
            "text/html": [
              "<style>#sk-container-id-7 {color: black;background-color: white;}#sk-container-id-7 pre{padding: 0;}#sk-container-id-7 div.sk-toggleable {background-color: white;}#sk-container-id-7 label.sk-toggleable__label {cursor: pointer;display: block;width: 100%;margin-bottom: 0;padding: 0.3em;box-sizing: border-box;text-align: center;}#sk-container-id-7 label.sk-toggleable__label-arrow:before {content: \"▸\";float: left;margin-right: 0.25em;color: #696969;}#sk-container-id-7 label.sk-toggleable__label-arrow:hover:before {color: black;}#sk-container-id-7 div.sk-estimator:hover label.sk-toggleable__label-arrow:before {color: black;}#sk-container-id-7 div.sk-toggleable__content {max-height: 0;max-width: 0;overflow: hidden;text-align: left;background-color: #f0f8ff;}#sk-container-id-7 div.sk-toggleable__content pre {margin: 0.2em;color: black;border-radius: 0.25em;background-color: #f0f8ff;}#sk-container-id-7 input.sk-toggleable__control:checked~div.sk-toggleable__content {max-height: 200px;max-width: 100%;overflow: auto;}#sk-container-id-7 input.sk-toggleable__control:checked~label.sk-toggleable__label-arrow:before {content: \"▾\";}#sk-container-id-7 div.sk-estimator input.sk-toggleable__control:checked~label.sk-toggleable__label {background-color: #d4ebff;}#sk-container-id-7 div.sk-label input.sk-toggleable__control:checked~label.sk-toggleable__label {background-color: #d4ebff;}#sk-container-id-7 input.sk-hidden--visually {border: 0;clip: rect(1px 1px 1px 1px);clip: rect(1px, 1px, 1px, 1px);height: 1px;margin: -1px;overflow: hidden;padding: 0;position: absolute;width: 1px;}#sk-container-id-7 div.sk-estimator {font-family: monospace;background-color: #f0f8ff;border: 1px dotted black;border-radius: 0.25em;box-sizing: border-box;margin-bottom: 0.5em;}#sk-container-id-7 div.sk-estimator:hover {background-color: #d4ebff;}#sk-container-id-7 div.sk-parallel-item::after {content: \"\";width: 100%;border-bottom: 1px solid gray;flex-grow: 1;}#sk-container-id-7 div.sk-label:hover label.sk-toggleable__label {background-color: #d4ebff;}#sk-container-id-7 div.sk-serial::before {content: \"\";position: absolute;border-left: 1px solid gray;box-sizing: border-box;top: 0;bottom: 0;left: 50%;z-index: 0;}#sk-container-id-7 div.sk-serial {display: flex;flex-direction: column;align-items: center;background-color: white;padding-right: 0.2em;padding-left: 0.2em;position: relative;}#sk-container-id-7 div.sk-item {position: relative;z-index: 1;}#sk-container-id-7 div.sk-parallel {display: flex;align-items: stretch;justify-content: center;background-color: white;position: relative;}#sk-container-id-7 div.sk-item::before, #sk-container-id-7 div.sk-parallel-item::before {content: \"\";position: absolute;border-left: 1px solid gray;box-sizing: border-box;top: 0;bottom: 0;left: 50%;z-index: -1;}#sk-container-id-7 div.sk-parallel-item {display: flex;flex-direction: column;z-index: 1;position: relative;background-color: white;}#sk-container-id-7 div.sk-parallel-item:first-child::after {align-self: flex-end;width: 50%;}#sk-container-id-7 div.sk-parallel-item:last-child::after {align-self: flex-start;width: 50%;}#sk-container-id-7 div.sk-parallel-item:only-child::after {width: 0;}#sk-container-id-7 div.sk-dashed-wrapped {border: 1px dashed gray;margin: 0 0.4em 0.5em 0.4em;box-sizing: border-box;padding-bottom: 0.4em;background-color: white;}#sk-container-id-7 div.sk-label label {font-family: monospace;font-weight: bold;display: inline-block;line-height: 1.2em;}#sk-container-id-7 div.sk-label-container {text-align: center;}#sk-container-id-7 div.sk-container {/* jupyter's `normalize.less` sets `[hidden] { display: none; }` but bootstrap.min.css set `[hidden] { display: none !important; }` so we also need the `!important` here to be able to override the default hidden behavior on the sphinx rendered scikit-learn.org. See: https://github.com/scikit-learn/scikit-learn/issues/21755 */display: inline-block !important;position: relative;}#sk-container-id-7 div.sk-text-repr-fallback {display: none;}</style><div id=\"sk-container-id-7\" class=\"sk-top-container\"><div class=\"sk-text-repr-fallback\"><pre>RandomForestClassifier(bootstrap=False, max_depth=17, min_samples_split=7,\n",
              "                       n_estimators=110)</pre><b>In a Jupyter environment, please rerun this cell to show the HTML representation or trust the notebook. <br />On GitHub, the HTML representation is unable to render, please try loading this page with nbviewer.org.</b></div><div class=\"sk-container\" hidden><div class=\"sk-item\"><div class=\"sk-estimator sk-toggleable\"><input class=\"sk-toggleable__control sk-hidden--visually\" id=\"sk-estimator-id-7\" type=\"checkbox\" checked><label for=\"sk-estimator-id-7\" class=\"sk-toggleable__label sk-toggleable__label-arrow\">RandomForestClassifier</label><div class=\"sk-toggleable__content\"><pre>RandomForestClassifier(bootstrap=False, max_depth=17, min_samples_split=7,\n",
              "                       n_estimators=110)</pre></div></div></div></div></div>"
            ]
          },
          "metadata": {},
          "execution_count": 79
        }
      ]
    },
    {
      "cell_type": "code",
      "source": [
        "y_test_pred = best_classifier_RF.predict(X_test_selected) # make predictions on the test set"
      ],
      "metadata": {
        "id": "kQq-KrpgY1oG"
      },
      "execution_count": 80,
      "outputs": []
    },
    {
      "cell_type": "code",
      "source": [
        "# Compuote metrics' scores\n",
        "balanced_acc_mrmr_RF = balanced_accuracy_score(y_test, y_test_pred)\n",
        "accuracy_mrmr_RF = accuracy_score(y_test, y_test_pred)\n",
        "precision_mrmr_RF = precision_score(y_test, y_test_pred)\n",
        "recall_mrmr_RF = recall_score(y_test, y_test_pred)\n",
        "f1_mrmr_RF = f1_score(y_test, y_test_pred)"
      ],
      "metadata": {
        "id": "QbZyogmlY1oG"
      },
      "execution_count": 81,
      "outputs": []
    },
    {
      "cell_type": "code",
      "source": [
        "# Printing the metrics\n",
        "print(\"Balanced Accuracy:\", balanced_acc_mrmr_RF)\n",
        "print(\"Precision:\", precision_mrmr_RF)\n",
        "print(\"Recall:\", recall_mrmr_RF)\n",
        "print(\"F1 Score:\", f1_mrmr_RF)"
      ],
      "metadata": {
        "colab": {
          "base_uri": "https://localhost:8080/"
        },
        "id": "mh8cctWhFsSE",
        "outputId": "7ad432b3-fa8e-40fc-cb3c-b8f3edc5a1f6"
      },
      "execution_count": 82,
      "outputs": [
        {
          "output_type": "stream",
          "name": "stdout",
          "text": [
            "Balanced Accuracy: 0.9722222222222222\n",
            "Precision: 1.0\n",
            "Recall: 0.9444444444444444\n",
            "F1 Score: 0.9714285714285714\n"
          ]
        }
      ]
    },
    {
      "cell_type": "markdown",
      "source": [
        "### Feature importance"
      ],
      "metadata": {
        "id": "uFMtP60e55Nj"
      }
    },
    {
      "cell_type": "code",
      "source": [
        "# Filter the DataFrame using the boolean array\n",
        "data_filtered_features = final_data.iloc[:,1:-9].iloc[:, selected_features]\n",
        "\n",
        "# Print the filtered DataFrame\n",
        "data_filtered_features"
      ],
      "metadata": {
        "colab": {
          "base_uri": "https://localhost:8080/",
          "height": 487
        },
        "outputId": "4f387667-0dbb-4c08-ec3d-40df1c523425",
        "id": "HC2Dg8em55Nj"
      },
      "execution_count": 83,
      "outputs": [
        {
          "output_type": "execute_result",
          "data": {
            "text/plain": [
              "      ENSG00000075624  ENSG00000089248  ENSG00000255508  ENSG00000117906  \\\n",
              "0           4950.4950        338.23257      1214.562500        430.47784   \n",
              "1           3873.4666        215.19258         0.882505          0.00000   \n",
              "2           1061.1393        176.85655      2299.135300         35.37131   \n",
              "3           3404.2556          0.00000         0.000524        327.33228   \n",
              "4           2636.0806        168.26047         0.003702        392.60776   \n",
              "...               ...              ...              ...              ...   \n",
              "1422        3139.2693          0.00000       998.858400          0.00000   \n",
              "1423       18598.2420          0.00000         1.701223          0.00000   \n",
              "1424        3671.6110        146.86444         0.000441        293.72888   \n",
              "1425        8047.0615        166.49092         0.000000        332.98184   \n",
              "1426        2383.6526        211.45306         0.000019        403.68310   \n",
              "\n",
              "      ENSG00000084207  ENSG00000241553  ENSG00000117523  ENSG00000107223  \\\n",
              "0           1875.6534        30.748417        61.496834       245.987340   \n",
              "1           2582.3110       215.192580         0.000000      1291.155500   \n",
              "2            601.3123        35.371310        70.742620       318.341800   \n",
              "3           1047.4633         0.000000       327.332280       130.932900   \n",
              "4           3533.4697       224.347290       168.260470       112.173645   \n",
              "...               ...              ...              ...              ...   \n",
              "1422        1712.3287         0.000000         0.000000         0.000000   \n",
              "1423        2066.4714         0.000000         0.000000       688.823800   \n",
              "1424        1395.2122         0.000000       220.296660       146.864440   \n",
              "1425        4994.7275        55.496975         0.000000       665.963700   \n",
              "1426        2076.0845        96.115030       134.561040       326.791080   \n",
              "\n",
              "      ENSG00000166228  ENSG00000088832  ...  ENSG00000164687  ENSG00000141756  \\\n",
              "0          245.987340        276.73575  ...        399.72943        61.496834   \n",
              "1            0.000000        860.77030  ...        430.38516         0.000000   \n",
              "2          212.227870        141.48524  ...        141.48524       106.113940   \n",
              "3           65.466450        261.86580  ...        327.33228       196.399350   \n",
              "4          112.173645        224.34729  ...        224.34729       168.260470   \n",
              "...               ...              ...  ...              ...              ...   \n",
              "1422         0.000000          0.00000  ...        570.77625         0.000000   \n",
              "1423       172.205950        516.61786  ...       2410.88330         0.000000   \n",
              "1424       587.457760        146.86444  ...        734.32220         0.000000   \n",
              "1425       166.490920        277.48486  ...        110.99395       332.981840   \n",
              "1426       269.122070        249.89906  ...       1018.81930        76.892020   \n",
              "\n",
              "      ENSG00000117519  ENSG00000105392  ENSG00000196419  ENSG00000185565  \\\n",
              "0           399.72943       101.367905        61.496834          0.00000   \n",
              "1           645.57776         0.000000       215.192580          0.00000   \n",
              "2             0.00000        70.742620       106.113940         70.74262   \n",
              "3           392.79870       261.865800         0.000000         65.46645   \n",
              "4           673.04190       196.303880        56.086823          0.00000   \n",
              "...               ...              ...              ...              ...   \n",
              "1422        570.77625         0.000000         0.000000          0.00000   \n",
              "1423        688.82380         0.000000         0.000000          0.00000   \n",
              "1424        146.86444       264.356000       146.864440          0.00000   \n",
              "1425        443.97580         0.000000        55.496975          0.00000   \n",
              "1426        249.89906         0.000000       153.784040         96.11503   \n",
              "\n",
              "      ENSG00000109046  ENSG00000105669  ENSG00000136213  ENSG00000134248  \n",
              "0           368.98102        215.23892       550.729860       338.232570  \n",
              "1             0.00000        430.38516         0.000000       215.192580  \n",
              "2           436.25226        106.11394      1054.877000       176.856550  \n",
              "3           589.19806         65.46645         0.000000       261.865800  \n",
              "4           504.78140        448.69458       730.425200       729.128660  \n",
              "...               ...              ...              ...              ...  \n",
              "1422        570.77625        570.77625       178.367580         0.000000  \n",
              "1423          0.00000          0.00000         0.000000         0.000000  \n",
              "1424        367.16110        293.72888         0.000661       220.296660  \n",
              "1425        166.49092        277.48486      1173.684900        55.496975  \n",
              "1426        269.12207        115.33803       478.163600       384.460100  \n",
              "\n",
              "[1427 rows x 300 columns]"
            ],
            "text/html": [
              "\n",
              "  <div id=\"df-96e98488-3732-4e73-af5d-1c20faf28b4f\">\n",
              "    <div class=\"colab-df-container\">\n",
              "      <div>\n",
              "<style scoped>\n",
              "    .dataframe tbody tr th:only-of-type {\n",
              "        vertical-align: middle;\n",
              "    }\n",
              "\n",
              "    .dataframe tbody tr th {\n",
              "        vertical-align: top;\n",
              "    }\n",
              "\n",
              "    .dataframe thead th {\n",
              "        text-align: right;\n",
              "    }\n",
              "</style>\n",
              "<table border=\"1\" class=\"dataframe\">\n",
              "  <thead>\n",
              "    <tr style=\"text-align: right;\">\n",
              "      <th></th>\n",
              "      <th>ENSG00000075624</th>\n",
              "      <th>ENSG00000089248</th>\n",
              "      <th>ENSG00000255508</th>\n",
              "      <th>ENSG00000117906</th>\n",
              "      <th>ENSG00000084207</th>\n",
              "      <th>ENSG00000241553</th>\n",
              "      <th>ENSG00000117523</th>\n",
              "      <th>ENSG00000107223</th>\n",
              "      <th>ENSG00000166228</th>\n",
              "      <th>ENSG00000088832</th>\n",
              "      <th>...</th>\n",
              "      <th>ENSG00000164687</th>\n",
              "      <th>ENSG00000141756</th>\n",
              "      <th>ENSG00000117519</th>\n",
              "      <th>ENSG00000105392</th>\n",
              "      <th>ENSG00000196419</th>\n",
              "      <th>ENSG00000185565</th>\n",
              "      <th>ENSG00000109046</th>\n",
              "      <th>ENSG00000105669</th>\n",
              "      <th>ENSG00000136213</th>\n",
              "      <th>ENSG00000134248</th>\n",
              "    </tr>\n",
              "  </thead>\n",
              "  <tbody>\n",
              "    <tr>\n",
              "      <th>0</th>\n",
              "      <td>4950.4950</td>\n",
              "      <td>338.23257</td>\n",
              "      <td>1214.562500</td>\n",
              "      <td>430.47784</td>\n",
              "      <td>1875.6534</td>\n",
              "      <td>30.748417</td>\n",
              "      <td>61.496834</td>\n",
              "      <td>245.987340</td>\n",
              "      <td>245.987340</td>\n",
              "      <td>276.73575</td>\n",
              "      <td>...</td>\n",
              "      <td>399.72943</td>\n",
              "      <td>61.496834</td>\n",
              "      <td>399.72943</td>\n",
              "      <td>101.367905</td>\n",
              "      <td>61.496834</td>\n",
              "      <td>0.00000</td>\n",
              "      <td>368.98102</td>\n",
              "      <td>215.23892</td>\n",
              "      <td>550.729860</td>\n",
              "      <td>338.232570</td>\n",
              "    </tr>\n",
              "    <tr>\n",
              "      <th>1</th>\n",
              "      <td>3873.4666</td>\n",
              "      <td>215.19258</td>\n",
              "      <td>0.882505</td>\n",
              "      <td>0.00000</td>\n",
              "      <td>2582.3110</td>\n",
              "      <td>215.192580</td>\n",
              "      <td>0.000000</td>\n",
              "      <td>1291.155500</td>\n",
              "      <td>0.000000</td>\n",
              "      <td>860.77030</td>\n",
              "      <td>...</td>\n",
              "      <td>430.38516</td>\n",
              "      <td>0.000000</td>\n",
              "      <td>645.57776</td>\n",
              "      <td>0.000000</td>\n",
              "      <td>215.192580</td>\n",
              "      <td>0.00000</td>\n",
              "      <td>0.00000</td>\n",
              "      <td>430.38516</td>\n",
              "      <td>0.000000</td>\n",
              "      <td>215.192580</td>\n",
              "    </tr>\n",
              "    <tr>\n",
              "      <th>2</th>\n",
              "      <td>1061.1393</td>\n",
              "      <td>176.85655</td>\n",
              "      <td>2299.135300</td>\n",
              "      <td>35.37131</td>\n",
              "      <td>601.3123</td>\n",
              "      <td>35.371310</td>\n",
              "      <td>70.742620</td>\n",
              "      <td>318.341800</td>\n",
              "      <td>212.227870</td>\n",
              "      <td>141.48524</td>\n",
              "      <td>...</td>\n",
              "      <td>141.48524</td>\n",
              "      <td>106.113940</td>\n",
              "      <td>0.00000</td>\n",
              "      <td>70.742620</td>\n",
              "      <td>106.113940</td>\n",
              "      <td>70.74262</td>\n",
              "      <td>436.25226</td>\n",
              "      <td>106.11394</td>\n",
              "      <td>1054.877000</td>\n",
              "      <td>176.856550</td>\n",
              "    </tr>\n",
              "    <tr>\n",
              "      <th>3</th>\n",
              "      <td>3404.2556</td>\n",
              "      <td>0.00000</td>\n",
              "      <td>0.000524</td>\n",
              "      <td>327.33228</td>\n",
              "      <td>1047.4633</td>\n",
              "      <td>0.000000</td>\n",
              "      <td>327.332280</td>\n",
              "      <td>130.932900</td>\n",
              "      <td>65.466450</td>\n",
              "      <td>261.86580</td>\n",
              "      <td>...</td>\n",
              "      <td>327.33228</td>\n",
              "      <td>196.399350</td>\n",
              "      <td>392.79870</td>\n",
              "      <td>261.865800</td>\n",
              "      <td>0.000000</td>\n",
              "      <td>65.46645</td>\n",
              "      <td>589.19806</td>\n",
              "      <td>65.46645</td>\n",
              "      <td>0.000000</td>\n",
              "      <td>261.865800</td>\n",
              "    </tr>\n",
              "    <tr>\n",
              "      <th>4</th>\n",
              "      <td>2636.0806</td>\n",
              "      <td>168.26047</td>\n",
              "      <td>0.003702</td>\n",
              "      <td>392.60776</td>\n",
              "      <td>3533.4697</td>\n",
              "      <td>224.347290</td>\n",
              "      <td>168.260470</td>\n",
              "      <td>112.173645</td>\n",
              "      <td>112.173645</td>\n",
              "      <td>224.34729</td>\n",
              "      <td>...</td>\n",
              "      <td>224.34729</td>\n",
              "      <td>168.260470</td>\n",
              "      <td>673.04190</td>\n",
              "      <td>196.303880</td>\n",
              "      <td>56.086823</td>\n",
              "      <td>0.00000</td>\n",
              "      <td>504.78140</td>\n",
              "      <td>448.69458</td>\n",
              "      <td>730.425200</td>\n",
              "      <td>729.128660</td>\n",
              "    </tr>\n",
              "    <tr>\n",
              "      <th>...</th>\n",
              "      <td>...</td>\n",
              "      <td>...</td>\n",
              "      <td>...</td>\n",
              "      <td>...</td>\n",
              "      <td>...</td>\n",
              "      <td>...</td>\n",
              "      <td>...</td>\n",
              "      <td>...</td>\n",
              "      <td>...</td>\n",
              "      <td>...</td>\n",
              "      <td>...</td>\n",
              "      <td>...</td>\n",
              "      <td>...</td>\n",
              "      <td>...</td>\n",
              "      <td>...</td>\n",
              "      <td>...</td>\n",
              "      <td>...</td>\n",
              "      <td>...</td>\n",
              "      <td>...</td>\n",
              "      <td>...</td>\n",
              "      <td>...</td>\n",
              "    </tr>\n",
              "    <tr>\n",
              "      <th>1422</th>\n",
              "      <td>3139.2693</td>\n",
              "      <td>0.00000</td>\n",
              "      <td>998.858400</td>\n",
              "      <td>0.00000</td>\n",
              "      <td>1712.3287</td>\n",
              "      <td>0.000000</td>\n",
              "      <td>0.000000</td>\n",
              "      <td>0.000000</td>\n",
              "      <td>0.000000</td>\n",
              "      <td>0.00000</td>\n",
              "      <td>...</td>\n",
              "      <td>570.77625</td>\n",
              "      <td>0.000000</td>\n",
              "      <td>570.77625</td>\n",
              "      <td>0.000000</td>\n",
              "      <td>0.000000</td>\n",
              "      <td>0.00000</td>\n",
              "      <td>570.77625</td>\n",
              "      <td>570.77625</td>\n",
              "      <td>178.367580</td>\n",
              "      <td>0.000000</td>\n",
              "    </tr>\n",
              "    <tr>\n",
              "      <th>1423</th>\n",
              "      <td>18598.2420</td>\n",
              "      <td>0.00000</td>\n",
              "      <td>1.701223</td>\n",
              "      <td>0.00000</td>\n",
              "      <td>2066.4714</td>\n",
              "      <td>0.000000</td>\n",
              "      <td>0.000000</td>\n",
              "      <td>688.823800</td>\n",
              "      <td>172.205950</td>\n",
              "      <td>516.61786</td>\n",
              "      <td>...</td>\n",
              "      <td>2410.88330</td>\n",
              "      <td>0.000000</td>\n",
              "      <td>688.82380</td>\n",
              "      <td>0.000000</td>\n",
              "      <td>0.000000</td>\n",
              "      <td>0.00000</td>\n",
              "      <td>0.00000</td>\n",
              "      <td>0.00000</td>\n",
              "      <td>0.000000</td>\n",
              "      <td>0.000000</td>\n",
              "    </tr>\n",
              "    <tr>\n",
              "      <th>1424</th>\n",
              "      <td>3671.6110</td>\n",
              "      <td>146.86444</td>\n",
              "      <td>0.000441</td>\n",
              "      <td>293.72888</td>\n",
              "      <td>1395.2122</td>\n",
              "      <td>0.000000</td>\n",
              "      <td>220.296660</td>\n",
              "      <td>146.864440</td>\n",
              "      <td>587.457760</td>\n",
              "      <td>146.86444</td>\n",
              "      <td>...</td>\n",
              "      <td>734.32220</td>\n",
              "      <td>0.000000</td>\n",
              "      <td>146.86444</td>\n",
              "      <td>264.356000</td>\n",
              "      <td>146.864440</td>\n",
              "      <td>0.00000</td>\n",
              "      <td>367.16110</td>\n",
              "      <td>293.72888</td>\n",
              "      <td>0.000661</td>\n",
              "      <td>220.296660</td>\n",
              "    </tr>\n",
              "    <tr>\n",
              "      <th>1425</th>\n",
              "      <td>8047.0615</td>\n",
              "      <td>166.49092</td>\n",
              "      <td>0.000000</td>\n",
              "      <td>332.98184</td>\n",
              "      <td>4994.7275</td>\n",
              "      <td>55.496975</td>\n",
              "      <td>0.000000</td>\n",
              "      <td>665.963700</td>\n",
              "      <td>166.490920</td>\n",
              "      <td>277.48486</td>\n",
              "      <td>...</td>\n",
              "      <td>110.99395</td>\n",
              "      <td>332.981840</td>\n",
              "      <td>443.97580</td>\n",
              "      <td>0.000000</td>\n",
              "      <td>55.496975</td>\n",
              "      <td>0.00000</td>\n",
              "      <td>166.49092</td>\n",
              "      <td>277.48486</td>\n",
              "      <td>1173.684900</td>\n",
              "      <td>55.496975</td>\n",
              "    </tr>\n",
              "    <tr>\n",
              "      <th>1426</th>\n",
              "      <td>2383.6526</td>\n",
              "      <td>211.45306</td>\n",
              "      <td>0.000019</td>\n",
              "      <td>403.68310</td>\n",
              "      <td>2076.0845</td>\n",
              "      <td>96.115030</td>\n",
              "      <td>134.561040</td>\n",
              "      <td>326.791080</td>\n",
              "      <td>269.122070</td>\n",
              "      <td>249.89906</td>\n",
              "      <td>...</td>\n",
              "      <td>1018.81930</td>\n",
              "      <td>76.892020</td>\n",
              "      <td>249.89906</td>\n",
              "      <td>0.000000</td>\n",
              "      <td>153.784040</td>\n",
              "      <td>96.11503</td>\n",
              "      <td>269.12207</td>\n",
              "      <td>115.33803</td>\n",
              "      <td>478.163600</td>\n",
              "      <td>384.460100</td>\n",
              "    </tr>\n",
              "  </tbody>\n",
              "</table>\n",
              "<p>1427 rows × 300 columns</p>\n",
              "</div>\n",
              "      <button class=\"colab-df-convert\" onclick=\"convertToInteractive('df-96e98488-3732-4e73-af5d-1c20faf28b4f')\"\n",
              "              title=\"Convert this dataframe to an interactive table.\"\n",
              "              style=\"display:none;\">\n",
              "        \n",
              "  <svg xmlns=\"http://www.w3.org/2000/svg\" height=\"24px\"viewBox=\"0 0 24 24\"\n",
              "       width=\"24px\">\n",
              "    <path d=\"M0 0h24v24H0V0z\" fill=\"none\"/>\n",
              "    <path d=\"M18.56 5.44l.94 2.06.94-2.06 2.06-.94-2.06-.94-.94-2.06-.94 2.06-2.06.94zm-11 1L8.5 8.5l.94-2.06 2.06-.94-2.06-.94L8.5 2.5l-.94 2.06-2.06.94zm10 10l.94 2.06.94-2.06 2.06-.94-2.06-.94-.94-2.06-.94 2.06-2.06.94z\"/><path d=\"M17.41 7.96l-1.37-1.37c-.4-.4-.92-.59-1.43-.59-.52 0-1.04.2-1.43.59L10.3 9.45l-7.72 7.72c-.78.78-.78 2.05 0 2.83L4 21.41c.39.39.9.59 1.41.59.51 0 1.02-.2 1.41-.59l7.78-7.78 2.81-2.81c.8-.78.8-2.07 0-2.86zM5.41 20L4 18.59l7.72-7.72 1.47 1.35L5.41 20z\"/>\n",
              "  </svg>\n",
              "      </button>\n",
              "      \n",
              "  <style>\n",
              "    .colab-df-container {\n",
              "      display:flex;\n",
              "      flex-wrap:wrap;\n",
              "      gap: 12px;\n",
              "    }\n",
              "\n",
              "    .colab-df-convert {\n",
              "      background-color: #E8F0FE;\n",
              "      border: none;\n",
              "      border-radius: 50%;\n",
              "      cursor: pointer;\n",
              "      display: none;\n",
              "      fill: #1967D2;\n",
              "      height: 32px;\n",
              "      padding: 0 0 0 0;\n",
              "      width: 32px;\n",
              "    }\n",
              "\n",
              "    .colab-df-convert:hover {\n",
              "      background-color: #E2EBFA;\n",
              "      box-shadow: 0px 1px 2px rgba(60, 64, 67, 0.3), 0px 1px 3px 1px rgba(60, 64, 67, 0.15);\n",
              "      fill: #174EA6;\n",
              "    }\n",
              "\n",
              "    [theme=dark] .colab-df-convert {\n",
              "      background-color: #3B4455;\n",
              "      fill: #D2E3FC;\n",
              "    }\n",
              "\n",
              "    [theme=dark] .colab-df-convert:hover {\n",
              "      background-color: #434B5C;\n",
              "      box-shadow: 0px 1px 3px 1px rgba(0, 0, 0, 0.15);\n",
              "      filter: drop-shadow(0px 1px 2px rgba(0, 0, 0, 0.3));\n",
              "      fill: #FFFFFF;\n",
              "    }\n",
              "  </style>\n",
              "\n",
              "      <script>\n",
              "        const buttonEl =\n",
              "          document.querySelector('#df-96e98488-3732-4e73-af5d-1c20faf28b4f button.colab-df-convert');\n",
              "        buttonEl.style.display =\n",
              "          google.colab.kernel.accessAllowed ? 'block' : 'none';\n",
              "\n",
              "        async function convertToInteractive(key) {\n",
              "          const element = document.querySelector('#df-96e98488-3732-4e73-af5d-1c20faf28b4f');\n",
              "          const dataTable =\n",
              "            await google.colab.kernel.invokeFunction('convertToInteractive',\n",
              "                                                     [key], {});\n",
              "          if (!dataTable) return;\n",
              "\n",
              "          const docLinkHtml = 'Like what you see? Visit the ' +\n",
              "            '<a target=\"_blank\" href=https://colab.research.google.com/notebooks/data_table.ipynb>data table notebook</a>'\n",
              "            + ' to learn more about interactive tables.';\n",
              "          element.innerHTML = '';\n",
              "          dataTable['output_type'] = 'display_data';\n",
              "          await google.colab.output.renderOutput(dataTable, element);\n",
              "          const docLink = document.createElement('div');\n",
              "          docLink.innerHTML = docLinkHtml;\n",
              "          element.appendChild(docLink);\n",
              "        }\n",
              "      </script>\n",
              "    </div>\n",
              "  </div>\n",
              "  "
            ]
          },
          "metadata": {},
          "execution_count": 83
        }
      ]
    },
    {
      "cell_type": "code",
      "source": [
        "# view the feature scores\n",
        "feature_scores = pd.Series(best_classifier_RF.feature_importances_).sort_values(ascending=False)"
      ],
      "metadata": {
        "id": "kSWgJUhq55Nj"
      },
      "execution_count": 84,
      "outputs": []
    },
    {
      "cell_type": "code",
      "source": [
        "#Get the column names corresponding to the series indices\n",
        "column_names = data_filtered_features.columns[feature_scores.index]\n",
        "\n",
        "# Print the column names\n",
        "print(column_names)"
      ],
      "metadata": {
        "colab": {
          "base_uri": "https://localhost:8080/"
        },
        "id": "xsyOSNURQQ8B",
        "outputId": "160cbbae-93c1-4585-d0fe-93a4a72b2b72"
      },
      "execution_count": 85,
      "outputs": [
        {
          "output_type": "stream",
          "name": "stdout",
          "text": [
            "Index(['ENSG00000198886', 'ENSG00000198763', 'ENSG00000269028',\n",
            "       'ENSG00000198786', 'ENSG00000198888', 'ENSG00000075624',\n",
            "       'ENSG00000144649', 'ENSG00000173212', 'ENSG00000138035',\n",
            "       'ENSG00000109046',\n",
            "       ...\n",
            "       'ENSG00000105392', 'ENSG00000074755', 'ENSG00000103260',\n",
            "       'ENSG00000114861', 'ENSG00000258289', 'ENSG00000168887',\n",
            "       'ENSG00000138760', 'ENSG00000154518', 'ENSG00000126432',\n",
            "       'ENSG00000114857'],\n",
            "      dtype='object', length=300)\n"
          ]
        }
      ]
    },
    {
      "cell_type": "code",
      "source": [
        "# Get the column names corresponding to the series indices above the threshold\n",
        "filtered_column_names = data_filtered_features.columns[feature_scores[feature_scores > 0.01].index]\n",
        "\n",
        "# Print the filtered column names\n",
        "print(filtered_column_names)"
      ],
      "metadata": {
        "colab": {
          "base_uri": "https://localhost:8080/"
        },
        "id": "L1kjpVOIC2eq",
        "outputId": "1901bd20-4ac3-4e67-8270-7fcf69c6f9bd"
      },
      "execution_count": 86,
      "outputs": [
        {
          "output_type": "stream",
          "name": "stdout",
          "text": [
            "Index(['ENSG00000198886', 'ENSG00000198763', 'ENSG00000269028',\n",
            "       'ENSG00000198786', 'ENSG00000198888', 'ENSG00000075624',\n",
            "       'ENSG00000144649', 'ENSG00000173212', 'ENSG00000138035',\n",
            "       'ENSG00000109046', 'ENSG00000168014', 'ENSG00000167680',\n",
            "       'ENSG00000111640', 'ENSG00000133812', 'ENSG00000140279',\n",
            "       'ENSG00000197563', 'ENSG00000166598', 'ENSG00000113140',\n",
            "       'ENSG00000111669', 'ENSG00000084207', 'ENSG00000115947',\n",
            "       'ENSG00000110492', 'ENSG00000282813', 'ENSG00000181704'],\n",
            "      dtype='object')\n"
          ]
        }
      ]
    },
    {
      "cell_type": "markdown",
      "source": [
        "## XGBoost"
      ],
      "metadata": {
        "id": "wNO0TNF355Nk"
      }
    },
    {
      "cell_type": "markdown",
      "source": [
        "### Get best parameters and make predictions"
      ],
      "metadata": {
        "id": "2ZQ3O6GiaOEq"
      }
    },
    {
      "cell_type": "code",
      "source": [
        "X_test_selected = X_test[:, selected_features] # filter the test set in order to contain only the features selected from mRMR"
      ],
      "metadata": {
        "id": "TqRM9iqhaOEq"
      },
      "execution_count": 87,
      "outputs": []
    },
    {
      "cell_type": "code",
      "source": [
        "X_test_selected.shape"
      ],
      "metadata": {
        "colab": {
          "base_uri": "https://localhost:8080/"
        },
        "outputId": "f5f3f933-fa09-433e-8d73-05e72d00540c",
        "id": "g7oLC5h8aOEq"
      },
      "execution_count": null,
      "outputs": [
        {
          "output_type": "execute_result",
          "data": {
            "text/plain": [
              "(286, 300)"
            ]
          },
          "metadata": {},
          "execution_count": 218
        }
      ]
    },
    {
      "cell_type": "code",
      "source": [
        "X_train_val_selected_final_features = X_train_val[:, selected_features] # perform the same filtering to the training set"
      ],
      "metadata": {
        "id": "tef0Yt7RaOEq"
      },
      "execution_count": 88,
      "outputs": []
    },
    {
      "cell_type": "code",
      "source": [
        "X_train_val_selected_final_features.shape"
      ],
      "metadata": {
        "colab": {
          "base_uri": "https://localhost:8080/"
        },
        "outputId": "539d731e-a93b-4de5-dd1b-0f5340e9289d",
        "id": "2MdcUO69aOEq"
      },
      "execution_count": null,
      "outputs": [
        {
          "output_type": "execute_result",
          "data": {
            "text/plain": [
              "(1141, 300)"
            ]
          },
          "metadata": {},
          "execution_count": 220
        }
      ]
    },
    {
      "cell_type": "code",
      "source": [
        "# initialize the classifier and its parameters\n",
        "best_classifier_XG = XGBClassifier(n_estimators= 106,max_depth= 20,learning_rate= 0.07587945476302646,subsample= 0.7993292420985183,colsample_bytree= 0.5780093202212182,gamma= 0.7799726016810132,min_child_weight= 1)"
      ],
      "metadata": {
        "id": "aNluHqIIaOEr"
      },
      "execution_count": 89,
      "outputs": []
    },
    {
      "cell_type": "code",
      "source": [
        "best_classifier_XG.fit(X_train_val_selected_final_features, y_train_val) # train the classifier"
      ],
      "metadata": {
        "colab": {
          "base_uri": "https://localhost:8080/",
          "height": 251
        },
        "outputId": "fff223d0-f953-49ea-cd57-b0a4bfb10ed5",
        "id": "1MxRSL9XaOEr"
      },
      "execution_count": 90,
      "outputs": [
        {
          "output_type": "execute_result",
          "data": {
            "text/plain": [
              "XGBClassifier(base_score=None, booster=None, callbacks=None,\n",
              "              colsample_bylevel=None, colsample_bynode=None,\n",
              "              colsample_bytree=0.5780093202212182, early_stopping_rounds=None,\n",
              "              enable_categorical=False, eval_metric=None, feature_types=None,\n",
              "              gamma=0.7799726016810132, gpu_id=None, grow_policy=None,\n",
              "              importance_type=None, interaction_constraints=None,\n",
              "              learning_rate=0.07587945476302646, max_bin=None,\n",
              "              max_cat_threshold=None, max_cat_to_onehot=None,\n",
              "              max_delta_step=None, max_depth=20, max_leaves=None,\n",
              "              min_child_weight=1, missing=nan, monotone_constraints=None,\n",
              "              n_estimators=106, n_jobs=None, num_parallel_tree=None,\n",
              "              predictor=None, random_state=None, ...)"
            ],
            "text/html": [
              "<style>#sk-container-id-8 {color: black;background-color: white;}#sk-container-id-8 pre{padding: 0;}#sk-container-id-8 div.sk-toggleable {background-color: white;}#sk-container-id-8 label.sk-toggleable__label {cursor: pointer;display: block;width: 100%;margin-bottom: 0;padding: 0.3em;box-sizing: border-box;text-align: center;}#sk-container-id-8 label.sk-toggleable__label-arrow:before {content: \"▸\";float: left;margin-right: 0.25em;color: #696969;}#sk-container-id-8 label.sk-toggleable__label-arrow:hover:before {color: black;}#sk-container-id-8 div.sk-estimator:hover label.sk-toggleable__label-arrow:before {color: black;}#sk-container-id-8 div.sk-toggleable__content {max-height: 0;max-width: 0;overflow: hidden;text-align: left;background-color: #f0f8ff;}#sk-container-id-8 div.sk-toggleable__content pre {margin: 0.2em;color: black;border-radius: 0.25em;background-color: #f0f8ff;}#sk-container-id-8 input.sk-toggleable__control:checked~div.sk-toggleable__content {max-height: 200px;max-width: 100%;overflow: auto;}#sk-container-id-8 input.sk-toggleable__control:checked~label.sk-toggleable__label-arrow:before {content: \"▾\";}#sk-container-id-8 div.sk-estimator input.sk-toggleable__control:checked~label.sk-toggleable__label {background-color: #d4ebff;}#sk-container-id-8 div.sk-label input.sk-toggleable__control:checked~label.sk-toggleable__label {background-color: #d4ebff;}#sk-container-id-8 input.sk-hidden--visually {border: 0;clip: rect(1px 1px 1px 1px);clip: rect(1px, 1px, 1px, 1px);height: 1px;margin: -1px;overflow: hidden;padding: 0;position: absolute;width: 1px;}#sk-container-id-8 div.sk-estimator {font-family: monospace;background-color: #f0f8ff;border: 1px dotted black;border-radius: 0.25em;box-sizing: border-box;margin-bottom: 0.5em;}#sk-container-id-8 div.sk-estimator:hover {background-color: #d4ebff;}#sk-container-id-8 div.sk-parallel-item::after {content: \"\";width: 100%;border-bottom: 1px solid gray;flex-grow: 1;}#sk-container-id-8 div.sk-label:hover label.sk-toggleable__label {background-color: #d4ebff;}#sk-container-id-8 div.sk-serial::before {content: \"\";position: absolute;border-left: 1px solid gray;box-sizing: border-box;top: 0;bottom: 0;left: 50%;z-index: 0;}#sk-container-id-8 div.sk-serial {display: flex;flex-direction: column;align-items: center;background-color: white;padding-right: 0.2em;padding-left: 0.2em;position: relative;}#sk-container-id-8 div.sk-item {position: relative;z-index: 1;}#sk-container-id-8 div.sk-parallel {display: flex;align-items: stretch;justify-content: center;background-color: white;position: relative;}#sk-container-id-8 div.sk-item::before, #sk-container-id-8 div.sk-parallel-item::before {content: \"\";position: absolute;border-left: 1px solid gray;box-sizing: border-box;top: 0;bottom: 0;left: 50%;z-index: -1;}#sk-container-id-8 div.sk-parallel-item {display: flex;flex-direction: column;z-index: 1;position: relative;background-color: white;}#sk-container-id-8 div.sk-parallel-item:first-child::after {align-self: flex-end;width: 50%;}#sk-container-id-8 div.sk-parallel-item:last-child::after {align-self: flex-start;width: 50%;}#sk-container-id-8 div.sk-parallel-item:only-child::after {width: 0;}#sk-container-id-8 div.sk-dashed-wrapped {border: 1px dashed gray;margin: 0 0.4em 0.5em 0.4em;box-sizing: border-box;padding-bottom: 0.4em;background-color: white;}#sk-container-id-8 div.sk-label label {font-family: monospace;font-weight: bold;display: inline-block;line-height: 1.2em;}#sk-container-id-8 div.sk-label-container {text-align: center;}#sk-container-id-8 div.sk-container {/* jupyter's `normalize.less` sets `[hidden] { display: none; }` but bootstrap.min.css set `[hidden] { display: none !important; }` so we also need the `!important` here to be able to override the default hidden behavior on the sphinx rendered scikit-learn.org. See: https://github.com/scikit-learn/scikit-learn/issues/21755 */display: inline-block !important;position: relative;}#sk-container-id-8 div.sk-text-repr-fallback {display: none;}</style><div id=\"sk-container-id-8\" class=\"sk-top-container\"><div class=\"sk-text-repr-fallback\"><pre>XGBClassifier(base_score=None, booster=None, callbacks=None,\n",
              "              colsample_bylevel=None, colsample_bynode=None,\n",
              "              colsample_bytree=0.5780093202212182, early_stopping_rounds=None,\n",
              "              enable_categorical=False, eval_metric=None, feature_types=None,\n",
              "              gamma=0.7799726016810132, gpu_id=None, grow_policy=None,\n",
              "              importance_type=None, interaction_constraints=None,\n",
              "              learning_rate=0.07587945476302646, max_bin=None,\n",
              "              max_cat_threshold=None, max_cat_to_onehot=None,\n",
              "              max_delta_step=None, max_depth=20, max_leaves=None,\n",
              "              min_child_weight=1, missing=nan, monotone_constraints=None,\n",
              "              n_estimators=106, n_jobs=None, num_parallel_tree=None,\n",
              "              predictor=None, random_state=None, ...)</pre><b>In a Jupyter environment, please rerun this cell to show the HTML representation or trust the notebook. <br />On GitHub, the HTML representation is unable to render, please try loading this page with nbviewer.org.</b></div><div class=\"sk-container\" hidden><div class=\"sk-item\"><div class=\"sk-estimator sk-toggleable\"><input class=\"sk-toggleable__control sk-hidden--visually\" id=\"sk-estimator-id-8\" type=\"checkbox\" checked><label for=\"sk-estimator-id-8\" class=\"sk-toggleable__label sk-toggleable__label-arrow\">XGBClassifier</label><div class=\"sk-toggleable__content\"><pre>XGBClassifier(base_score=None, booster=None, callbacks=None,\n",
              "              colsample_bylevel=None, colsample_bynode=None,\n",
              "              colsample_bytree=0.5780093202212182, early_stopping_rounds=None,\n",
              "              enable_categorical=False, eval_metric=None, feature_types=None,\n",
              "              gamma=0.7799726016810132, gpu_id=None, grow_policy=None,\n",
              "              importance_type=None, interaction_constraints=None,\n",
              "              learning_rate=0.07587945476302646, max_bin=None,\n",
              "              max_cat_threshold=None, max_cat_to_onehot=None,\n",
              "              max_delta_step=None, max_depth=20, max_leaves=None,\n",
              "              min_child_weight=1, missing=nan, monotone_constraints=None,\n",
              "              n_estimators=106, n_jobs=None, num_parallel_tree=None,\n",
              "              predictor=None, random_state=None, ...)</pre></div></div></div></div></div>"
            ]
          },
          "metadata": {},
          "execution_count": 90
        }
      ]
    },
    {
      "cell_type": "code",
      "source": [
        "y_test_pred = best_classifier_XG.predict(X_test_selected) # make predictions on test set"
      ],
      "metadata": {
        "id": "sM0ugLiaaOEr"
      },
      "execution_count": 94,
      "outputs": []
    },
    {
      "cell_type": "code",
      "source": [
        "# Compute the metrics' scores\n",
        "balanced_acc_mrmr_XG = balanced_accuracy_score(y_test, y_test_pred)\n",
        "accuracy_mrmr_XG = accuracy_score(y_test, y_test_pred)\n",
        "precision_mrmr_XG = precision_score(y_test, y_test_pred)\n",
        "recall_mrmr_XG = recall_score(y_test, y_test_pred)\n",
        "f1_mrmr_XG = f1_score(y_test, y_test_pred)"
      ],
      "metadata": {
        "id": "HDq01F_WaOEr"
      },
      "execution_count": 95,
      "outputs": []
    },
    {
      "cell_type": "code",
      "source": [
        "# Printing the metrics\n",
        "print(\"Balanced Accuracy:\", balanced_acc_mrmr_XG)\n",
        "print(\"Precision:\", precision_mrmr_XG)\n",
        "print(\"Recall:\", recall_mrmr_XG)\n",
        "print(\"F1 Score:\", f1_mrmr_XG)"
      ],
      "metadata": {
        "colab": {
          "base_uri": "https://localhost:8080/"
        },
        "id": "kkYm-6eBQeWW",
        "outputId": "52cd34e5-c29d-4d9d-c98d-a3ae485dab5d"
      },
      "execution_count": 96,
      "outputs": [
        {
          "output_type": "stream",
          "name": "stdout",
          "text": [
            "Balanced Accuracy: 0.9722222222222222\n",
            "Precision: 1.0\n",
            "Recall: 0.9444444444444444\n",
            "F1 Score: 0.9714285714285714\n"
          ]
        }
      ]
    },
    {
      "cell_type": "markdown",
      "source": [
        "### Feature importance"
      ],
      "metadata": {
        "id": "8ewddb0A_3EF"
      }
    },
    {
      "cell_type": "code",
      "source": [
        "# Filter the DataFrame using the boolean array\n",
        "data_filtered_features = final_data.iloc[:,1:-9].iloc[:, selected_features]\n",
        "\n",
        "# Print the filtered DataFrame\n",
        "data_filtered_features"
      ],
      "metadata": {
        "id": "Al97lfFV_0_J",
        "colab": {
          "base_uri": "https://localhost:8080/",
          "height": 487
        },
        "outputId": "c67bbc0d-6a00-4eac-cec4-4a95c7afb694"
      },
      "execution_count": null,
      "outputs": [
        {
          "output_type": "execute_result",
          "data": {
            "text/plain": [
              "      ENSG00000075624  ENSG00000089248  ENSG00000255508  ENSG00000117906  \\\n",
              "0           4950.4950        338.23257      1214.562500        430.47784   \n",
              "1           3873.4666        215.19258         0.882505          0.00000   \n",
              "2           1061.1393        176.85655      2299.135300         35.37131   \n",
              "3           3404.2556          0.00000         0.000524        327.33228   \n",
              "4           2636.0806        168.26047         0.003702        392.60776   \n",
              "...               ...              ...              ...              ...   \n",
              "1422        3139.2693          0.00000       998.858400          0.00000   \n",
              "1423       18598.2420          0.00000         1.701223          0.00000   \n",
              "1424        3671.6110        146.86444         0.000441        293.72888   \n",
              "1425        8047.0615        166.49092         0.000000        332.98184   \n",
              "1426        2383.6526        211.45306         0.000019        403.68310   \n",
              "\n",
              "      ENSG00000084207  ENSG00000241553  ENSG00000117523  ENSG00000107223  \\\n",
              "0           1875.6534        30.748417        61.496834       245.987340   \n",
              "1           2582.3110       215.192580         0.000000      1291.155500   \n",
              "2            601.3123        35.371310        70.742620       318.341800   \n",
              "3           1047.4633         0.000000       327.332280       130.932900   \n",
              "4           3533.4697       224.347290       168.260470       112.173645   \n",
              "...               ...              ...              ...              ...   \n",
              "1422        1712.3287         0.000000         0.000000         0.000000   \n",
              "1423        2066.4714         0.000000         0.000000       688.823800   \n",
              "1424        1395.2122         0.000000       220.296660       146.864440   \n",
              "1425        4994.7275        55.496975         0.000000       665.963700   \n",
              "1426        2076.0845        96.115030       134.561040       326.791080   \n",
              "\n",
              "      ENSG00000166228  ENSG00000088832  ...  ENSG00000164687  ENSG00000141756  \\\n",
              "0          245.987340        276.73575  ...        399.72943        61.496834   \n",
              "1            0.000000        860.77030  ...        430.38516         0.000000   \n",
              "2          212.227870        141.48524  ...        141.48524       106.113940   \n",
              "3           65.466450        261.86580  ...        327.33228       196.399350   \n",
              "4          112.173645        224.34729  ...        224.34729       168.260470   \n",
              "...               ...              ...  ...              ...              ...   \n",
              "1422         0.000000          0.00000  ...        570.77625         0.000000   \n",
              "1423       172.205950        516.61786  ...       2410.88330         0.000000   \n",
              "1424       587.457760        146.86444  ...        734.32220         0.000000   \n",
              "1425       166.490920        277.48486  ...        110.99395       332.981840   \n",
              "1426       269.122070        249.89906  ...       1018.81930        76.892020   \n",
              "\n",
              "      ENSG00000117519  ENSG00000105392  ENSG00000196419  ENSG00000185565  \\\n",
              "0           399.72943       101.367905        61.496834          0.00000   \n",
              "1           645.57776         0.000000       215.192580          0.00000   \n",
              "2             0.00000        70.742620       106.113940         70.74262   \n",
              "3           392.79870       261.865800         0.000000         65.46645   \n",
              "4           673.04190       196.303880        56.086823          0.00000   \n",
              "...               ...              ...              ...              ...   \n",
              "1422        570.77625         0.000000         0.000000          0.00000   \n",
              "1423        688.82380         0.000000         0.000000          0.00000   \n",
              "1424        146.86444       264.356000       146.864440          0.00000   \n",
              "1425        443.97580         0.000000        55.496975          0.00000   \n",
              "1426        249.89906         0.000000       153.784040         96.11503   \n",
              "\n",
              "      ENSG00000109046  ENSG00000105669  ENSG00000136213  ENSG00000134248  \n",
              "0           368.98102        215.23892       550.729860       338.232570  \n",
              "1             0.00000        430.38516         0.000000       215.192580  \n",
              "2           436.25226        106.11394      1054.877000       176.856550  \n",
              "3           589.19806         65.46645         0.000000       261.865800  \n",
              "4           504.78140        448.69458       730.425200       729.128660  \n",
              "...               ...              ...              ...              ...  \n",
              "1422        570.77625        570.77625       178.367580         0.000000  \n",
              "1423          0.00000          0.00000         0.000000         0.000000  \n",
              "1424        367.16110        293.72888         0.000661       220.296660  \n",
              "1425        166.49092        277.48486      1173.684900        55.496975  \n",
              "1426        269.12207        115.33803       478.163600       384.460100  \n",
              "\n",
              "[1427 rows x 300 columns]"
            ],
            "text/html": [
              "\n",
              "  <div id=\"df-0bbf3d9d-c152-48c6-a510-776d2c6178b6\">\n",
              "    <div class=\"colab-df-container\">\n",
              "      <div>\n",
              "<style scoped>\n",
              "    .dataframe tbody tr th:only-of-type {\n",
              "        vertical-align: middle;\n",
              "    }\n",
              "\n",
              "    .dataframe tbody tr th {\n",
              "        vertical-align: top;\n",
              "    }\n",
              "\n",
              "    .dataframe thead th {\n",
              "        text-align: right;\n",
              "    }\n",
              "</style>\n",
              "<table border=\"1\" class=\"dataframe\">\n",
              "  <thead>\n",
              "    <tr style=\"text-align: right;\">\n",
              "      <th></th>\n",
              "      <th>ENSG00000075624</th>\n",
              "      <th>ENSG00000089248</th>\n",
              "      <th>ENSG00000255508</th>\n",
              "      <th>ENSG00000117906</th>\n",
              "      <th>ENSG00000084207</th>\n",
              "      <th>ENSG00000241553</th>\n",
              "      <th>ENSG00000117523</th>\n",
              "      <th>ENSG00000107223</th>\n",
              "      <th>ENSG00000166228</th>\n",
              "      <th>ENSG00000088832</th>\n",
              "      <th>...</th>\n",
              "      <th>ENSG00000164687</th>\n",
              "      <th>ENSG00000141756</th>\n",
              "      <th>ENSG00000117519</th>\n",
              "      <th>ENSG00000105392</th>\n",
              "      <th>ENSG00000196419</th>\n",
              "      <th>ENSG00000185565</th>\n",
              "      <th>ENSG00000109046</th>\n",
              "      <th>ENSG00000105669</th>\n",
              "      <th>ENSG00000136213</th>\n",
              "      <th>ENSG00000134248</th>\n",
              "    </tr>\n",
              "  </thead>\n",
              "  <tbody>\n",
              "    <tr>\n",
              "      <th>0</th>\n",
              "      <td>4950.4950</td>\n",
              "      <td>338.23257</td>\n",
              "      <td>1214.562500</td>\n",
              "      <td>430.47784</td>\n",
              "      <td>1875.6534</td>\n",
              "      <td>30.748417</td>\n",
              "      <td>61.496834</td>\n",
              "      <td>245.987340</td>\n",
              "      <td>245.987340</td>\n",
              "      <td>276.73575</td>\n",
              "      <td>...</td>\n",
              "      <td>399.72943</td>\n",
              "      <td>61.496834</td>\n",
              "      <td>399.72943</td>\n",
              "      <td>101.367905</td>\n",
              "      <td>61.496834</td>\n",
              "      <td>0.00000</td>\n",
              "      <td>368.98102</td>\n",
              "      <td>215.23892</td>\n",
              "      <td>550.729860</td>\n",
              "      <td>338.232570</td>\n",
              "    </tr>\n",
              "    <tr>\n",
              "      <th>1</th>\n",
              "      <td>3873.4666</td>\n",
              "      <td>215.19258</td>\n",
              "      <td>0.882505</td>\n",
              "      <td>0.00000</td>\n",
              "      <td>2582.3110</td>\n",
              "      <td>215.192580</td>\n",
              "      <td>0.000000</td>\n",
              "      <td>1291.155500</td>\n",
              "      <td>0.000000</td>\n",
              "      <td>860.77030</td>\n",
              "      <td>...</td>\n",
              "      <td>430.38516</td>\n",
              "      <td>0.000000</td>\n",
              "      <td>645.57776</td>\n",
              "      <td>0.000000</td>\n",
              "      <td>215.192580</td>\n",
              "      <td>0.00000</td>\n",
              "      <td>0.00000</td>\n",
              "      <td>430.38516</td>\n",
              "      <td>0.000000</td>\n",
              "      <td>215.192580</td>\n",
              "    </tr>\n",
              "    <tr>\n",
              "      <th>2</th>\n",
              "      <td>1061.1393</td>\n",
              "      <td>176.85655</td>\n",
              "      <td>2299.135300</td>\n",
              "      <td>35.37131</td>\n",
              "      <td>601.3123</td>\n",
              "      <td>35.371310</td>\n",
              "      <td>70.742620</td>\n",
              "      <td>318.341800</td>\n",
              "      <td>212.227870</td>\n",
              "      <td>141.48524</td>\n",
              "      <td>...</td>\n",
              "      <td>141.48524</td>\n",
              "      <td>106.113940</td>\n",
              "      <td>0.00000</td>\n",
              "      <td>70.742620</td>\n",
              "      <td>106.113940</td>\n",
              "      <td>70.74262</td>\n",
              "      <td>436.25226</td>\n",
              "      <td>106.11394</td>\n",
              "      <td>1054.877000</td>\n",
              "      <td>176.856550</td>\n",
              "    </tr>\n",
              "    <tr>\n",
              "      <th>3</th>\n",
              "      <td>3404.2556</td>\n",
              "      <td>0.00000</td>\n",
              "      <td>0.000524</td>\n",
              "      <td>327.33228</td>\n",
              "      <td>1047.4633</td>\n",
              "      <td>0.000000</td>\n",
              "      <td>327.332280</td>\n",
              "      <td>130.932900</td>\n",
              "      <td>65.466450</td>\n",
              "      <td>261.86580</td>\n",
              "      <td>...</td>\n",
              "      <td>327.33228</td>\n",
              "      <td>196.399350</td>\n",
              "      <td>392.79870</td>\n",
              "      <td>261.865800</td>\n",
              "      <td>0.000000</td>\n",
              "      <td>65.46645</td>\n",
              "      <td>589.19806</td>\n",
              "      <td>65.46645</td>\n",
              "      <td>0.000000</td>\n",
              "      <td>261.865800</td>\n",
              "    </tr>\n",
              "    <tr>\n",
              "      <th>4</th>\n",
              "      <td>2636.0806</td>\n",
              "      <td>168.26047</td>\n",
              "      <td>0.003702</td>\n",
              "      <td>392.60776</td>\n",
              "      <td>3533.4697</td>\n",
              "      <td>224.347290</td>\n",
              "      <td>168.260470</td>\n",
              "      <td>112.173645</td>\n",
              "      <td>112.173645</td>\n",
              "      <td>224.34729</td>\n",
              "      <td>...</td>\n",
              "      <td>224.34729</td>\n",
              "      <td>168.260470</td>\n",
              "      <td>673.04190</td>\n",
              "      <td>196.303880</td>\n",
              "      <td>56.086823</td>\n",
              "      <td>0.00000</td>\n",
              "      <td>504.78140</td>\n",
              "      <td>448.69458</td>\n",
              "      <td>730.425200</td>\n",
              "      <td>729.128660</td>\n",
              "    </tr>\n",
              "    <tr>\n",
              "      <th>...</th>\n",
              "      <td>...</td>\n",
              "      <td>...</td>\n",
              "      <td>...</td>\n",
              "      <td>...</td>\n",
              "      <td>...</td>\n",
              "      <td>...</td>\n",
              "      <td>...</td>\n",
              "      <td>...</td>\n",
              "      <td>...</td>\n",
              "      <td>...</td>\n",
              "      <td>...</td>\n",
              "      <td>...</td>\n",
              "      <td>...</td>\n",
              "      <td>...</td>\n",
              "      <td>...</td>\n",
              "      <td>...</td>\n",
              "      <td>...</td>\n",
              "      <td>...</td>\n",
              "      <td>...</td>\n",
              "      <td>...</td>\n",
              "      <td>...</td>\n",
              "    </tr>\n",
              "    <tr>\n",
              "      <th>1422</th>\n",
              "      <td>3139.2693</td>\n",
              "      <td>0.00000</td>\n",
              "      <td>998.858400</td>\n",
              "      <td>0.00000</td>\n",
              "      <td>1712.3287</td>\n",
              "      <td>0.000000</td>\n",
              "      <td>0.000000</td>\n",
              "      <td>0.000000</td>\n",
              "      <td>0.000000</td>\n",
              "      <td>0.00000</td>\n",
              "      <td>...</td>\n",
              "      <td>570.77625</td>\n",
              "      <td>0.000000</td>\n",
              "      <td>570.77625</td>\n",
              "      <td>0.000000</td>\n",
              "      <td>0.000000</td>\n",
              "      <td>0.00000</td>\n",
              "      <td>570.77625</td>\n",
              "      <td>570.77625</td>\n",
              "      <td>178.367580</td>\n",
              "      <td>0.000000</td>\n",
              "    </tr>\n",
              "    <tr>\n",
              "      <th>1423</th>\n",
              "      <td>18598.2420</td>\n",
              "      <td>0.00000</td>\n",
              "      <td>1.701223</td>\n",
              "      <td>0.00000</td>\n",
              "      <td>2066.4714</td>\n",
              "      <td>0.000000</td>\n",
              "      <td>0.000000</td>\n",
              "      <td>688.823800</td>\n",
              "      <td>172.205950</td>\n",
              "      <td>516.61786</td>\n",
              "      <td>...</td>\n",
              "      <td>2410.88330</td>\n",
              "      <td>0.000000</td>\n",
              "      <td>688.82380</td>\n",
              "      <td>0.000000</td>\n",
              "      <td>0.000000</td>\n",
              "      <td>0.00000</td>\n",
              "      <td>0.00000</td>\n",
              "      <td>0.00000</td>\n",
              "      <td>0.000000</td>\n",
              "      <td>0.000000</td>\n",
              "    </tr>\n",
              "    <tr>\n",
              "      <th>1424</th>\n",
              "      <td>3671.6110</td>\n",
              "      <td>146.86444</td>\n",
              "      <td>0.000441</td>\n",
              "      <td>293.72888</td>\n",
              "      <td>1395.2122</td>\n",
              "      <td>0.000000</td>\n",
              "      <td>220.296660</td>\n",
              "      <td>146.864440</td>\n",
              "      <td>587.457760</td>\n",
              "      <td>146.86444</td>\n",
              "      <td>...</td>\n",
              "      <td>734.32220</td>\n",
              "      <td>0.000000</td>\n",
              "      <td>146.86444</td>\n",
              "      <td>264.356000</td>\n",
              "      <td>146.864440</td>\n",
              "      <td>0.00000</td>\n",
              "      <td>367.16110</td>\n",
              "      <td>293.72888</td>\n",
              "      <td>0.000661</td>\n",
              "      <td>220.296660</td>\n",
              "    </tr>\n",
              "    <tr>\n",
              "      <th>1425</th>\n",
              "      <td>8047.0615</td>\n",
              "      <td>166.49092</td>\n",
              "      <td>0.000000</td>\n",
              "      <td>332.98184</td>\n",
              "      <td>4994.7275</td>\n",
              "      <td>55.496975</td>\n",
              "      <td>0.000000</td>\n",
              "      <td>665.963700</td>\n",
              "      <td>166.490920</td>\n",
              "      <td>277.48486</td>\n",
              "      <td>...</td>\n",
              "      <td>110.99395</td>\n",
              "      <td>332.981840</td>\n",
              "      <td>443.97580</td>\n",
              "      <td>0.000000</td>\n",
              "      <td>55.496975</td>\n",
              "      <td>0.00000</td>\n",
              "      <td>166.49092</td>\n",
              "      <td>277.48486</td>\n",
              "      <td>1173.684900</td>\n",
              "      <td>55.496975</td>\n",
              "    </tr>\n",
              "    <tr>\n",
              "      <th>1426</th>\n",
              "      <td>2383.6526</td>\n",
              "      <td>211.45306</td>\n",
              "      <td>0.000019</td>\n",
              "      <td>403.68310</td>\n",
              "      <td>2076.0845</td>\n",
              "      <td>96.115030</td>\n",
              "      <td>134.561040</td>\n",
              "      <td>326.791080</td>\n",
              "      <td>269.122070</td>\n",
              "      <td>249.89906</td>\n",
              "      <td>...</td>\n",
              "      <td>1018.81930</td>\n",
              "      <td>76.892020</td>\n",
              "      <td>249.89906</td>\n",
              "      <td>0.000000</td>\n",
              "      <td>153.784040</td>\n",
              "      <td>96.11503</td>\n",
              "      <td>269.12207</td>\n",
              "      <td>115.33803</td>\n",
              "      <td>478.163600</td>\n",
              "      <td>384.460100</td>\n",
              "    </tr>\n",
              "  </tbody>\n",
              "</table>\n",
              "<p>1427 rows × 300 columns</p>\n",
              "</div>\n",
              "      <button class=\"colab-df-convert\" onclick=\"convertToInteractive('df-0bbf3d9d-c152-48c6-a510-776d2c6178b6')\"\n",
              "              title=\"Convert this dataframe to an interactive table.\"\n",
              "              style=\"display:none;\">\n",
              "        \n",
              "  <svg xmlns=\"http://www.w3.org/2000/svg\" height=\"24px\"viewBox=\"0 0 24 24\"\n",
              "       width=\"24px\">\n",
              "    <path d=\"M0 0h24v24H0V0z\" fill=\"none\"/>\n",
              "    <path d=\"M18.56 5.44l.94 2.06.94-2.06 2.06-.94-2.06-.94-.94-2.06-.94 2.06-2.06.94zm-11 1L8.5 8.5l.94-2.06 2.06-.94-2.06-.94L8.5 2.5l-.94 2.06-2.06.94zm10 10l.94 2.06.94-2.06 2.06-.94-2.06-.94-.94-2.06-.94 2.06-2.06.94z\"/><path d=\"M17.41 7.96l-1.37-1.37c-.4-.4-.92-.59-1.43-.59-.52 0-1.04.2-1.43.59L10.3 9.45l-7.72 7.72c-.78.78-.78 2.05 0 2.83L4 21.41c.39.39.9.59 1.41.59.51 0 1.02-.2 1.41-.59l7.78-7.78 2.81-2.81c.8-.78.8-2.07 0-2.86zM5.41 20L4 18.59l7.72-7.72 1.47 1.35L5.41 20z\"/>\n",
              "  </svg>\n",
              "      </button>\n",
              "      \n",
              "  <style>\n",
              "    .colab-df-container {\n",
              "      display:flex;\n",
              "      flex-wrap:wrap;\n",
              "      gap: 12px;\n",
              "    }\n",
              "\n",
              "    .colab-df-convert {\n",
              "      background-color: #E8F0FE;\n",
              "      border: none;\n",
              "      border-radius: 50%;\n",
              "      cursor: pointer;\n",
              "      display: none;\n",
              "      fill: #1967D2;\n",
              "      height: 32px;\n",
              "      padding: 0 0 0 0;\n",
              "      width: 32px;\n",
              "    }\n",
              "\n",
              "    .colab-df-convert:hover {\n",
              "      background-color: #E2EBFA;\n",
              "      box-shadow: 0px 1px 2px rgba(60, 64, 67, 0.3), 0px 1px 3px 1px rgba(60, 64, 67, 0.15);\n",
              "      fill: #174EA6;\n",
              "    }\n",
              "\n",
              "    [theme=dark] .colab-df-convert {\n",
              "      background-color: #3B4455;\n",
              "      fill: #D2E3FC;\n",
              "    }\n",
              "\n",
              "    [theme=dark] .colab-df-convert:hover {\n",
              "      background-color: #434B5C;\n",
              "      box-shadow: 0px 1px 3px 1px rgba(0, 0, 0, 0.15);\n",
              "      filter: drop-shadow(0px 1px 2px rgba(0, 0, 0, 0.3));\n",
              "      fill: #FFFFFF;\n",
              "    }\n",
              "  </style>\n",
              "\n",
              "      <script>\n",
              "        const buttonEl =\n",
              "          document.querySelector('#df-0bbf3d9d-c152-48c6-a510-776d2c6178b6 button.colab-df-convert');\n",
              "        buttonEl.style.display =\n",
              "          google.colab.kernel.accessAllowed ? 'block' : 'none';\n",
              "\n",
              "        async function convertToInteractive(key) {\n",
              "          const element = document.querySelector('#df-0bbf3d9d-c152-48c6-a510-776d2c6178b6');\n",
              "          const dataTable =\n",
              "            await google.colab.kernel.invokeFunction('convertToInteractive',\n",
              "                                                     [key], {});\n",
              "          if (!dataTable) return;\n",
              "\n",
              "          const docLinkHtml = 'Like what you see? Visit the ' +\n",
              "            '<a target=\"_blank\" href=https://colab.research.google.com/notebooks/data_table.ipynb>data table notebook</a>'\n",
              "            + ' to learn more about interactive tables.';\n",
              "          element.innerHTML = '';\n",
              "          dataTable['output_type'] = 'display_data';\n",
              "          await google.colab.output.renderOutput(dataTable, element);\n",
              "          const docLink = document.createElement('div');\n",
              "          docLink.innerHTML = docLinkHtml;\n",
              "          element.appendChild(docLink);\n",
              "        }\n",
              "      </script>\n",
              "    </div>\n",
              "  </div>\n",
              "  "
            ]
          },
          "metadata": {},
          "execution_count": 88
        }
      ]
    },
    {
      "cell_type": "code",
      "source": [
        "# dort the important features\n",
        "feature_scores = pd.Series(best_classifier_XG.feature_importances_).sort_values(ascending=False)"
      ],
      "metadata": {
        "id": "hND5wO_X_0_T"
      },
      "execution_count": null,
      "outputs": []
    },
    {
      "cell_type": "code",
      "source": [
        "# Get the column names corresponding to the series indices\n",
        "column_names = data_filtered_features.columns[feature_scores.index]\n",
        "\n",
        "# Print the column names\n",
        "print(column_names)"
      ],
      "metadata": {
        "colab": {
          "base_uri": "https://localhost:8080/"
        },
        "id": "tjVqFeiRDY3h",
        "outputId": "953249a3-48c5-4081-84b8-4e07c39034f2"
      },
      "execution_count": null,
      "outputs": [
        {
          "output_type": "stream",
          "name": "stdout",
          "text": [
            "Index(['ENSG00000198886', 'ENSG00000198888', 'ENSG00000269028',\n",
            "       'ENSG00000144649', 'ENSG00000198786', 'ENSG00000167680',\n",
            "       'ENSG00000168014', 'ENSG00000196262', 'ENSG00000133812',\n",
            "       'ENSG00000173212',\n",
            "       ...\n",
            "       'ENSG00000126067', 'ENSG00000117410', 'ENSG00000128951',\n",
            "       'ENSG00000164405', 'ENSG00000285043', 'ENSG00000197006',\n",
            "       'ENSG00000127184', 'ENSG00000049449', 'ENSG00000113140',\n",
            "       'ENSG00000134248'],\n",
            "      dtype='object', length=300)\n"
          ]
        }
      ]
    },
    {
      "cell_type": "code",
      "source": [
        "# Get the column names corresponding to the series indices above the threshold\n",
        "filtered_column_names = data_filtered_features.columns[feature_scores[feature_scores > 0.01].index]\n",
        "\n",
        "# Print the filtered column names\n",
        "print(filtered_column_names)"
      ],
      "metadata": {
        "colab": {
          "base_uri": "https://localhost:8080/"
        },
        "id": "2DkksNtUNNS8",
        "outputId": "4b0440ad-3a0c-45ab-e3ec-fbbedb6f6cf2"
      },
      "execution_count": null,
      "outputs": [
        {
          "output_type": "stream",
          "name": "stdout",
          "text": [
            "Index(['ENSG00000198886', 'ENSG00000198888', 'ENSG00000269028',\n",
            "       'ENSG00000144649', 'ENSG00000198786', 'ENSG00000167680',\n",
            "       'ENSG00000168014', 'ENSG00000196262', 'ENSG00000133812',\n",
            "       'ENSG00000173212', 'ENSG00000198763', 'ENSG00000111640',\n",
            "       'ENSG00000136213', 'ENSG00000111237', 'ENSG00000182117',\n",
            "       'ENSG00000181704', 'ENSG00000146425'],\n",
            "      dtype='object')\n"
          ]
        }
      ]
    },
    {
      "cell_type": "markdown",
      "source": [
        "## Logistic Regression"
      ],
      "metadata": {
        "id": "4Uyr1S76BNhS"
      }
    },
    {
      "cell_type": "markdown",
      "source": [
        "### Get best parameters and make predictions"
      ],
      "metadata": {
        "id": "7yC2_9qgaThu"
      }
    },
    {
      "cell_type": "code",
      "source": [
        "X_test_selected = X_test[:, selected_features] # filter the test set in order to conatin only the features selected by the mRMR"
      ],
      "metadata": {
        "id": "5EX5BimeaThv"
      },
      "execution_count": 97,
      "outputs": []
    },
    {
      "cell_type": "code",
      "source": [
        "X_test_selected.shape"
      ],
      "metadata": {
        "colab": {
          "base_uri": "https://localhost:8080/"
        },
        "outputId": "f5f3f933-fa09-433e-8d73-05e72d00540c",
        "id": "d-OE4kgDaThv"
      },
      "execution_count": null,
      "outputs": [
        {
          "output_type": "execute_result",
          "data": {
            "text/plain": [
              "(286, 300)"
            ]
          },
          "metadata": {},
          "execution_count": 218
        }
      ]
    },
    {
      "cell_type": "code",
      "source": [
        "X_train_val_selected_final_features = X_train_val[:, selected_features] # perform the same filtering on the training set"
      ],
      "metadata": {
        "id": "srmaD_7AaThv"
      },
      "execution_count": 98,
      "outputs": []
    },
    {
      "cell_type": "code",
      "source": [
        "X_train_val_selected_final_features.shape"
      ],
      "metadata": {
        "colab": {
          "base_uri": "https://localhost:8080/"
        },
        "outputId": "539d731e-a93b-4de5-dd1b-0f5340e9289d",
        "id": "uS7bPOP-aThv"
      },
      "execution_count": null,
      "outputs": [
        {
          "output_type": "execute_result",
          "data": {
            "text/plain": [
              "(1141, 300)"
            ]
          },
          "metadata": {},
          "execution_count": 220
        }
      ]
    },
    {
      "cell_type": "code",
      "source": [
        "best_classifier_LR = LogisticRegression(tol= 0.0009966402002368315, C= 55.54317500594569, solver= 'lbfgs') # initialize the classifier and its parameters"
      ],
      "metadata": {
        "id": "A_I2hFp7aThv"
      },
      "execution_count": 99,
      "outputs": []
    },
    {
      "cell_type": "code",
      "source": [
        "best_classifier_LR.fit(X_train_val_selected_final_features, y_train_val) # train the classifier"
      ],
      "metadata": {
        "colab": {
          "base_uri": "https://localhost:8080/",
          "height": 74
        },
        "outputId": "2419aefc-5b29-4b09-edb0-be14e5cc0964",
        "id": "fMr5jIc7aThv"
      },
      "execution_count": 100,
      "outputs": [
        {
          "output_type": "execute_result",
          "data": {
            "text/plain": [
              "LogisticRegression(C=55.54317500594569, tol=0.0009966402002368315)"
            ],
            "text/html": [
              "<style>#sk-container-id-9 {color: black;background-color: white;}#sk-container-id-9 pre{padding: 0;}#sk-container-id-9 div.sk-toggleable {background-color: white;}#sk-container-id-9 label.sk-toggleable__label {cursor: pointer;display: block;width: 100%;margin-bottom: 0;padding: 0.3em;box-sizing: border-box;text-align: center;}#sk-container-id-9 label.sk-toggleable__label-arrow:before {content: \"▸\";float: left;margin-right: 0.25em;color: #696969;}#sk-container-id-9 label.sk-toggleable__label-arrow:hover:before {color: black;}#sk-container-id-9 div.sk-estimator:hover label.sk-toggleable__label-arrow:before {color: black;}#sk-container-id-9 div.sk-toggleable__content {max-height: 0;max-width: 0;overflow: hidden;text-align: left;background-color: #f0f8ff;}#sk-container-id-9 div.sk-toggleable__content pre {margin: 0.2em;color: black;border-radius: 0.25em;background-color: #f0f8ff;}#sk-container-id-9 input.sk-toggleable__control:checked~div.sk-toggleable__content {max-height: 200px;max-width: 100%;overflow: auto;}#sk-container-id-9 input.sk-toggleable__control:checked~label.sk-toggleable__label-arrow:before {content: \"▾\";}#sk-container-id-9 div.sk-estimator input.sk-toggleable__control:checked~label.sk-toggleable__label {background-color: #d4ebff;}#sk-container-id-9 div.sk-label input.sk-toggleable__control:checked~label.sk-toggleable__label {background-color: #d4ebff;}#sk-container-id-9 input.sk-hidden--visually {border: 0;clip: rect(1px 1px 1px 1px);clip: rect(1px, 1px, 1px, 1px);height: 1px;margin: -1px;overflow: hidden;padding: 0;position: absolute;width: 1px;}#sk-container-id-9 div.sk-estimator {font-family: monospace;background-color: #f0f8ff;border: 1px dotted black;border-radius: 0.25em;box-sizing: border-box;margin-bottom: 0.5em;}#sk-container-id-9 div.sk-estimator:hover {background-color: #d4ebff;}#sk-container-id-9 div.sk-parallel-item::after {content: \"\";width: 100%;border-bottom: 1px solid gray;flex-grow: 1;}#sk-container-id-9 div.sk-label:hover label.sk-toggleable__label {background-color: #d4ebff;}#sk-container-id-9 div.sk-serial::before {content: \"\";position: absolute;border-left: 1px solid gray;box-sizing: border-box;top: 0;bottom: 0;left: 50%;z-index: 0;}#sk-container-id-9 div.sk-serial {display: flex;flex-direction: column;align-items: center;background-color: white;padding-right: 0.2em;padding-left: 0.2em;position: relative;}#sk-container-id-9 div.sk-item {position: relative;z-index: 1;}#sk-container-id-9 div.sk-parallel {display: flex;align-items: stretch;justify-content: center;background-color: white;position: relative;}#sk-container-id-9 div.sk-item::before, #sk-container-id-9 div.sk-parallel-item::before {content: \"\";position: absolute;border-left: 1px solid gray;box-sizing: border-box;top: 0;bottom: 0;left: 50%;z-index: -1;}#sk-container-id-9 div.sk-parallel-item {display: flex;flex-direction: column;z-index: 1;position: relative;background-color: white;}#sk-container-id-9 div.sk-parallel-item:first-child::after {align-self: flex-end;width: 50%;}#sk-container-id-9 div.sk-parallel-item:last-child::after {align-self: flex-start;width: 50%;}#sk-container-id-9 div.sk-parallel-item:only-child::after {width: 0;}#sk-container-id-9 div.sk-dashed-wrapped {border: 1px dashed gray;margin: 0 0.4em 0.5em 0.4em;box-sizing: border-box;padding-bottom: 0.4em;background-color: white;}#sk-container-id-9 div.sk-label label {font-family: monospace;font-weight: bold;display: inline-block;line-height: 1.2em;}#sk-container-id-9 div.sk-label-container {text-align: center;}#sk-container-id-9 div.sk-container {/* jupyter's `normalize.less` sets `[hidden] { display: none; }` but bootstrap.min.css set `[hidden] { display: none !important; }` so we also need the `!important` here to be able to override the default hidden behavior on the sphinx rendered scikit-learn.org. See: https://github.com/scikit-learn/scikit-learn/issues/21755 */display: inline-block !important;position: relative;}#sk-container-id-9 div.sk-text-repr-fallback {display: none;}</style><div id=\"sk-container-id-9\" class=\"sk-top-container\"><div class=\"sk-text-repr-fallback\"><pre>LogisticRegression(C=55.54317500594569, tol=0.0009966402002368315)</pre><b>In a Jupyter environment, please rerun this cell to show the HTML representation or trust the notebook. <br />On GitHub, the HTML representation is unable to render, please try loading this page with nbviewer.org.</b></div><div class=\"sk-container\" hidden><div class=\"sk-item\"><div class=\"sk-estimator sk-toggleable\"><input class=\"sk-toggleable__control sk-hidden--visually\" id=\"sk-estimator-id-9\" type=\"checkbox\" checked><label for=\"sk-estimator-id-9\" class=\"sk-toggleable__label sk-toggleable__label-arrow\">LogisticRegression</label><div class=\"sk-toggleable__content\"><pre>LogisticRegression(C=55.54317500594569, tol=0.0009966402002368315)</pre></div></div></div></div></div>"
            ]
          },
          "metadata": {},
          "execution_count": 100
        }
      ]
    },
    {
      "cell_type": "code",
      "source": [
        "y_test_pred = best_classifier_LR.predict(X_test_selected) # make predictions on test set"
      ],
      "metadata": {
        "id": "S5oCv7O9aThw"
      },
      "execution_count": 101,
      "outputs": []
    },
    {
      "cell_type": "code",
      "source": [
        "# Compute metrics' scores\n",
        "balanced_acc_mrmr_LR = balanced_accuracy_score(y_test, y_test_pred)\n",
        "accuracy_mrmr_LR = accuracy_score(y_test, y_test_pred)\n",
        "precision_mrmr_LR = precision_score(y_test, y_test_pred)\n",
        "recall_mrmr_LR = recall_score(y_test, y_test_pred)\n",
        "f1_mrmr_LR = f1_score(y_test, y_test_pred)"
      ],
      "metadata": {
        "id": "y3h21PfJaThw"
      },
      "execution_count": 102,
      "outputs": []
    },
    {
      "cell_type": "code",
      "source": [
        "# Printing the metrics\n",
        "print(\"Balanced Accuracy:\", balanced_acc_mrmr_LR)\n",
        "print(\"Precision:\", precision_mrmr_LR)\n",
        "print(\"Recall:\", recall_mrmr_LR)\n",
        "print(\"F1 Score:\", f1_mrmr_LR)"
      ],
      "metadata": {
        "colab": {
          "base_uri": "https://localhost:8080/"
        },
        "id": "0Bb9XBrjQ6Hg",
        "outputId": "111c87ef-44e3-4d7e-a517-afc8e07cb975"
      },
      "execution_count": 103,
      "outputs": [
        {
          "output_type": "stream",
          "name": "stdout",
          "text": [
            "Balanced Accuracy: 0.9407131011608623\n",
            "Precision: 0.8888888888888888\n",
            "Recall: 0.8888888888888888\n",
            "F1 Score: 0.8888888888888888\n"
          ]
        }
      ]
    },
    {
      "cell_type": "markdown",
      "source": [
        "### Feature importance"
      ],
      "metadata": {
        "id": "Rm3ULswI6DDU"
      }
    },
    {
      "cell_type": "code",
      "source": [
        "coefs=best_classifier_LR.coef_ # 'coefs' contains the coefficient values of the features from the best linear classifier 'best_classifier_LR'.\n",
        "\n",
        "# The loop iterates through the rows of the 'coefs' array, where each row represents the coefficients for a specific class or category.\n",
        "# 'np.shape(coefs)[0]' returns the number of rows (classes/categories) in the 'coefs' array.\n",
        "for i in range(0,np.shape(coefs)[0]):\n",
        "\n",
        "    # 'np.argsort(coefs[i])' sorts the coefficients in ascending order and returns the corresponding indices.\n",
        "    # '[-20:]' takes the last 20 indices, which correspond to the top 20 features with the highest coefficients\n",
        "    top20_indices=np.argsort(coefs[i])[-20:]\n",
        "\n",
        "    print(top20_indices) # Print the 'top20_indices' for the current class or category, showing the indices of the top 20 features with the highest coefficients."
      ],
      "metadata": {
        "colab": {
          "base_uri": "https://localhost:8080/"
        },
        "outputId": "04834ac2-b3dc-4456-b538-7bca7698685e",
        "id": "ckPHkk5t6DDd"
      },
      "execution_count": 104,
      "outputs": [
        {
          "output_type": "stream",
          "name": "stdout",
          "text": [
            "[210  73  98 197  34  84 201 229 221  32 206  33 286 271  89  21 169 101\n",
            "  31  99]\n"
          ]
        }
      ]
    },
    {
      "cell_type": "code",
      "source": [
        "top20_indices_LR= pd.Series(top20_indices).sort_values(ascending=False) # turn the array to a set and sort it"
      ],
      "metadata": {
        "id": "h1-Uskb96DDe"
      },
      "execution_count": 105,
      "outputs": []
    },
    {
      "cell_type": "code",
      "source": [
        "# Filter the DataFrame using the boolean array\n",
        "data_filtered_features = final_data.iloc[:,1:-9].iloc[:, selected_features]\n",
        "\n",
        "# Print the filtered DataFrame\n",
        "data_filtered_features"
      ],
      "metadata": {
        "colab": {
          "base_uri": "https://localhost:8080/",
          "height": 487
        },
        "outputId": "2b481ff5-48e2-408d-b2a5-cc7c3cd2a934",
        "id": "apuYLjqs6DDe"
      },
      "execution_count": 106,
      "outputs": [
        {
          "output_type": "execute_result",
          "data": {
            "text/plain": [
              "      ENSG00000075624  ENSG00000089248  ENSG00000255508  ENSG00000117906  \\\n",
              "0           4950.4950        338.23257      1214.562500        430.47784   \n",
              "1           3873.4666        215.19258         0.882505          0.00000   \n",
              "2           1061.1393        176.85655      2299.135300         35.37131   \n",
              "3           3404.2556          0.00000         0.000524        327.33228   \n",
              "4           2636.0806        168.26047         0.003702        392.60776   \n",
              "...               ...              ...              ...              ...   \n",
              "1422        3139.2693          0.00000       998.858400          0.00000   \n",
              "1423       18598.2420          0.00000         1.701223          0.00000   \n",
              "1424        3671.6110        146.86444         0.000441        293.72888   \n",
              "1425        8047.0615        166.49092         0.000000        332.98184   \n",
              "1426        2383.6526        211.45306         0.000019        403.68310   \n",
              "\n",
              "      ENSG00000084207  ENSG00000241553  ENSG00000117523  ENSG00000107223  \\\n",
              "0           1875.6534        30.748417        61.496834       245.987340   \n",
              "1           2582.3110       215.192580         0.000000      1291.155500   \n",
              "2            601.3123        35.371310        70.742620       318.341800   \n",
              "3           1047.4633         0.000000       327.332280       130.932900   \n",
              "4           3533.4697       224.347290       168.260470       112.173645   \n",
              "...               ...              ...              ...              ...   \n",
              "1422        1712.3287         0.000000         0.000000         0.000000   \n",
              "1423        2066.4714         0.000000         0.000000       688.823800   \n",
              "1424        1395.2122         0.000000       220.296660       146.864440   \n",
              "1425        4994.7275        55.496975         0.000000       665.963700   \n",
              "1426        2076.0845        96.115030       134.561040       326.791080   \n",
              "\n",
              "      ENSG00000166228  ENSG00000088832  ...  ENSG00000164687  ENSG00000141756  \\\n",
              "0          245.987340        276.73575  ...        399.72943        61.496834   \n",
              "1            0.000000        860.77030  ...        430.38516         0.000000   \n",
              "2          212.227870        141.48524  ...        141.48524       106.113940   \n",
              "3           65.466450        261.86580  ...        327.33228       196.399350   \n",
              "4          112.173645        224.34729  ...        224.34729       168.260470   \n",
              "...               ...              ...  ...              ...              ...   \n",
              "1422         0.000000          0.00000  ...        570.77625         0.000000   \n",
              "1423       172.205950        516.61786  ...       2410.88330         0.000000   \n",
              "1424       587.457760        146.86444  ...        734.32220         0.000000   \n",
              "1425       166.490920        277.48486  ...        110.99395       332.981840   \n",
              "1426       269.122070        249.89906  ...       1018.81930        76.892020   \n",
              "\n",
              "      ENSG00000117519  ENSG00000105392  ENSG00000196419  ENSG00000185565  \\\n",
              "0           399.72943       101.367905        61.496834          0.00000   \n",
              "1           645.57776         0.000000       215.192580          0.00000   \n",
              "2             0.00000        70.742620       106.113940         70.74262   \n",
              "3           392.79870       261.865800         0.000000         65.46645   \n",
              "4           673.04190       196.303880        56.086823          0.00000   \n",
              "...               ...              ...              ...              ...   \n",
              "1422        570.77625         0.000000         0.000000          0.00000   \n",
              "1423        688.82380         0.000000         0.000000          0.00000   \n",
              "1424        146.86444       264.356000       146.864440          0.00000   \n",
              "1425        443.97580         0.000000        55.496975          0.00000   \n",
              "1426        249.89906         0.000000       153.784040         96.11503   \n",
              "\n",
              "      ENSG00000109046  ENSG00000105669  ENSG00000136213  ENSG00000134248  \n",
              "0           368.98102        215.23892       550.729860       338.232570  \n",
              "1             0.00000        430.38516         0.000000       215.192580  \n",
              "2           436.25226        106.11394      1054.877000       176.856550  \n",
              "3           589.19806         65.46645         0.000000       261.865800  \n",
              "4           504.78140        448.69458       730.425200       729.128660  \n",
              "...               ...              ...              ...              ...  \n",
              "1422        570.77625        570.77625       178.367580         0.000000  \n",
              "1423          0.00000          0.00000         0.000000         0.000000  \n",
              "1424        367.16110        293.72888         0.000661       220.296660  \n",
              "1425        166.49092        277.48486      1173.684900        55.496975  \n",
              "1426        269.12207        115.33803       478.163600       384.460100  \n",
              "\n",
              "[1427 rows x 300 columns]"
            ],
            "text/html": [
              "\n",
              "  <div id=\"df-5dafaa46-89f9-447f-a6b9-55dc1d711134\">\n",
              "    <div class=\"colab-df-container\">\n",
              "      <div>\n",
              "<style scoped>\n",
              "    .dataframe tbody tr th:only-of-type {\n",
              "        vertical-align: middle;\n",
              "    }\n",
              "\n",
              "    .dataframe tbody tr th {\n",
              "        vertical-align: top;\n",
              "    }\n",
              "\n",
              "    .dataframe thead th {\n",
              "        text-align: right;\n",
              "    }\n",
              "</style>\n",
              "<table border=\"1\" class=\"dataframe\">\n",
              "  <thead>\n",
              "    <tr style=\"text-align: right;\">\n",
              "      <th></th>\n",
              "      <th>ENSG00000075624</th>\n",
              "      <th>ENSG00000089248</th>\n",
              "      <th>ENSG00000255508</th>\n",
              "      <th>ENSG00000117906</th>\n",
              "      <th>ENSG00000084207</th>\n",
              "      <th>ENSG00000241553</th>\n",
              "      <th>ENSG00000117523</th>\n",
              "      <th>ENSG00000107223</th>\n",
              "      <th>ENSG00000166228</th>\n",
              "      <th>ENSG00000088832</th>\n",
              "      <th>...</th>\n",
              "      <th>ENSG00000164687</th>\n",
              "      <th>ENSG00000141756</th>\n",
              "      <th>ENSG00000117519</th>\n",
              "      <th>ENSG00000105392</th>\n",
              "      <th>ENSG00000196419</th>\n",
              "      <th>ENSG00000185565</th>\n",
              "      <th>ENSG00000109046</th>\n",
              "      <th>ENSG00000105669</th>\n",
              "      <th>ENSG00000136213</th>\n",
              "      <th>ENSG00000134248</th>\n",
              "    </tr>\n",
              "  </thead>\n",
              "  <tbody>\n",
              "    <tr>\n",
              "      <th>0</th>\n",
              "      <td>4950.4950</td>\n",
              "      <td>338.23257</td>\n",
              "      <td>1214.562500</td>\n",
              "      <td>430.47784</td>\n",
              "      <td>1875.6534</td>\n",
              "      <td>30.748417</td>\n",
              "      <td>61.496834</td>\n",
              "      <td>245.987340</td>\n",
              "      <td>245.987340</td>\n",
              "      <td>276.73575</td>\n",
              "      <td>...</td>\n",
              "      <td>399.72943</td>\n",
              "      <td>61.496834</td>\n",
              "      <td>399.72943</td>\n",
              "      <td>101.367905</td>\n",
              "      <td>61.496834</td>\n",
              "      <td>0.00000</td>\n",
              "      <td>368.98102</td>\n",
              "      <td>215.23892</td>\n",
              "      <td>550.729860</td>\n",
              "      <td>338.232570</td>\n",
              "    </tr>\n",
              "    <tr>\n",
              "      <th>1</th>\n",
              "      <td>3873.4666</td>\n",
              "      <td>215.19258</td>\n",
              "      <td>0.882505</td>\n",
              "      <td>0.00000</td>\n",
              "      <td>2582.3110</td>\n",
              "      <td>215.192580</td>\n",
              "      <td>0.000000</td>\n",
              "      <td>1291.155500</td>\n",
              "      <td>0.000000</td>\n",
              "      <td>860.77030</td>\n",
              "      <td>...</td>\n",
              "      <td>430.38516</td>\n",
              "      <td>0.000000</td>\n",
              "      <td>645.57776</td>\n",
              "      <td>0.000000</td>\n",
              "      <td>215.192580</td>\n",
              "      <td>0.00000</td>\n",
              "      <td>0.00000</td>\n",
              "      <td>430.38516</td>\n",
              "      <td>0.000000</td>\n",
              "      <td>215.192580</td>\n",
              "    </tr>\n",
              "    <tr>\n",
              "      <th>2</th>\n",
              "      <td>1061.1393</td>\n",
              "      <td>176.85655</td>\n",
              "      <td>2299.135300</td>\n",
              "      <td>35.37131</td>\n",
              "      <td>601.3123</td>\n",
              "      <td>35.371310</td>\n",
              "      <td>70.742620</td>\n",
              "      <td>318.341800</td>\n",
              "      <td>212.227870</td>\n",
              "      <td>141.48524</td>\n",
              "      <td>...</td>\n",
              "      <td>141.48524</td>\n",
              "      <td>106.113940</td>\n",
              "      <td>0.00000</td>\n",
              "      <td>70.742620</td>\n",
              "      <td>106.113940</td>\n",
              "      <td>70.74262</td>\n",
              "      <td>436.25226</td>\n",
              "      <td>106.11394</td>\n",
              "      <td>1054.877000</td>\n",
              "      <td>176.856550</td>\n",
              "    </tr>\n",
              "    <tr>\n",
              "      <th>3</th>\n",
              "      <td>3404.2556</td>\n",
              "      <td>0.00000</td>\n",
              "      <td>0.000524</td>\n",
              "      <td>327.33228</td>\n",
              "      <td>1047.4633</td>\n",
              "      <td>0.000000</td>\n",
              "      <td>327.332280</td>\n",
              "      <td>130.932900</td>\n",
              "      <td>65.466450</td>\n",
              "      <td>261.86580</td>\n",
              "      <td>...</td>\n",
              "      <td>327.33228</td>\n",
              "      <td>196.399350</td>\n",
              "      <td>392.79870</td>\n",
              "      <td>261.865800</td>\n",
              "      <td>0.000000</td>\n",
              "      <td>65.46645</td>\n",
              "      <td>589.19806</td>\n",
              "      <td>65.46645</td>\n",
              "      <td>0.000000</td>\n",
              "      <td>261.865800</td>\n",
              "    </tr>\n",
              "    <tr>\n",
              "      <th>4</th>\n",
              "      <td>2636.0806</td>\n",
              "      <td>168.26047</td>\n",
              "      <td>0.003702</td>\n",
              "      <td>392.60776</td>\n",
              "      <td>3533.4697</td>\n",
              "      <td>224.347290</td>\n",
              "      <td>168.260470</td>\n",
              "      <td>112.173645</td>\n",
              "      <td>112.173645</td>\n",
              "      <td>224.34729</td>\n",
              "      <td>...</td>\n",
              "      <td>224.34729</td>\n",
              "      <td>168.260470</td>\n",
              "      <td>673.04190</td>\n",
              "      <td>196.303880</td>\n",
              "      <td>56.086823</td>\n",
              "      <td>0.00000</td>\n",
              "      <td>504.78140</td>\n",
              "      <td>448.69458</td>\n",
              "      <td>730.425200</td>\n",
              "      <td>729.128660</td>\n",
              "    </tr>\n",
              "    <tr>\n",
              "      <th>...</th>\n",
              "      <td>...</td>\n",
              "      <td>...</td>\n",
              "      <td>...</td>\n",
              "      <td>...</td>\n",
              "      <td>...</td>\n",
              "      <td>...</td>\n",
              "      <td>...</td>\n",
              "      <td>...</td>\n",
              "      <td>...</td>\n",
              "      <td>...</td>\n",
              "      <td>...</td>\n",
              "      <td>...</td>\n",
              "      <td>...</td>\n",
              "      <td>...</td>\n",
              "      <td>...</td>\n",
              "      <td>...</td>\n",
              "      <td>...</td>\n",
              "      <td>...</td>\n",
              "      <td>...</td>\n",
              "      <td>...</td>\n",
              "      <td>...</td>\n",
              "    </tr>\n",
              "    <tr>\n",
              "      <th>1422</th>\n",
              "      <td>3139.2693</td>\n",
              "      <td>0.00000</td>\n",
              "      <td>998.858400</td>\n",
              "      <td>0.00000</td>\n",
              "      <td>1712.3287</td>\n",
              "      <td>0.000000</td>\n",
              "      <td>0.000000</td>\n",
              "      <td>0.000000</td>\n",
              "      <td>0.000000</td>\n",
              "      <td>0.00000</td>\n",
              "      <td>...</td>\n",
              "      <td>570.77625</td>\n",
              "      <td>0.000000</td>\n",
              "      <td>570.77625</td>\n",
              "      <td>0.000000</td>\n",
              "      <td>0.000000</td>\n",
              "      <td>0.00000</td>\n",
              "      <td>570.77625</td>\n",
              "      <td>570.77625</td>\n",
              "      <td>178.367580</td>\n",
              "      <td>0.000000</td>\n",
              "    </tr>\n",
              "    <tr>\n",
              "      <th>1423</th>\n",
              "      <td>18598.2420</td>\n",
              "      <td>0.00000</td>\n",
              "      <td>1.701223</td>\n",
              "      <td>0.00000</td>\n",
              "      <td>2066.4714</td>\n",
              "      <td>0.000000</td>\n",
              "      <td>0.000000</td>\n",
              "      <td>688.823800</td>\n",
              "      <td>172.205950</td>\n",
              "      <td>516.61786</td>\n",
              "      <td>...</td>\n",
              "      <td>2410.88330</td>\n",
              "      <td>0.000000</td>\n",
              "      <td>688.82380</td>\n",
              "      <td>0.000000</td>\n",
              "      <td>0.000000</td>\n",
              "      <td>0.00000</td>\n",
              "      <td>0.00000</td>\n",
              "      <td>0.00000</td>\n",
              "      <td>0.000000</td>\n",
              "      <td>0.000000</td>\n",
              "    </tr>\n",
              "    <tr>\n",
              "      <th>1424</th>\n",
              "      <td>3671.6110</td>\n",
              "      <td>146.86444</td>\n",
              "      <td>0.000441</td>\n",
              "      <td>293.72888</td>\n",
              "      <td>1395.2122</td>\n",
              "      <td>0.000000</td>\n",
              "      <td>220.296660</td>\n",
              "      <td>146.864440</td>\n",
              "      <td>587.457760</td>\n",
              "      <td>146.86444</td>\n",
              "      <td>...</td>\n",
              "      <td>734.32220</td>\n",
              "      <td>0.000000</td>\n",
              "      <td>146.86444</td>\n",
              "      <td>264.356000</td>\n",
              "      <td>146.864440</td>\n",
              "      <td>0.00000</td>\n",
              "      <td>367.16110</td>\n",
              "      <td>293.72888</td>\n",
              "      <td>0.000661</td>\n",
              "      <td>220.296660</td>\n",
              "    </tr>\n",
              "    <tr>\n",
              "      <th>1425</th>\n",
              "      <td>8047.0615</td>\n",
              "      <td>166.49092</td>\n",
              "      <td>0.000000</td>\n",
              "      <td>332.98184</td>\n",
              "      <td>4994.7275</td>\n",
              "      <td>55.496975</td>\n",
              "      <td>0.000000</td>\n",
              "      <td>665.963700</td>\n",
              "      <td>166.490920</td>\n",
              "      <td>277.48486</td>\n",
              "      <td>...</td>\n",
              "      <td>110.99395</td>\n",
              "      <td>332.981840</td>\n",
              "      <td>443.97580</td>\n",
              "      <td>0.000000</td>\n",
              "      <td>55.496975</td>\n",
              "      <td>0.00000</td>\n",
              "      <td>166.49092</td>\n",
              "      <td>277.48486</td>\n",
              "      <td>1173.684900</td>\n",
              "      <td>55.496975</td>\n",
              "    </tr>\n",
              "    <tr>\n",
              "      <th>1426</th>\n",
              "      <td>2383.6526</td>\n",
              "      <td>211.45306</td>\n",
              "      <td>0.000019</td>\n",
              "      <td>403.68310</td>\n",
              "      <td>2076.0845</td>\n",
              "      <td>96.115030</td>\n",
              "      <td>134.561040</td>\n",
              "      <td>326.791080</td>\n",
              "      <td>269.122070</td>\n",
              "      <td>249.89906</td>\n",
              "      <td>...</td>\n",
              "      <td>1018.81930</td>\n",
              "      <td>76.892020</td>\n",
              "      <td>249.89906</td>\n",
              "      <td>0.000000</td>\n",
              "      <td>153.784040</td>\n",
              "      <td>96.11503</td>\n",
              "      <td>269.12207</td>\n",
              "      <td>115.33803</td>\n",
              "      <td>478.163600</td>\n",
              "      <td>384.460100</td>\n",
              "    </tr>\n",
              "  </tbody>\n",
              "</table>\n",
              "<p>1427 rows × 300 columns</p>\n",
              "</div>\n",
              "      <button class=\"colab-df-convert\" onclick=\"convertToInteractive('df-5dafaa46-89f9-447f-a6b9-55dc1d711134')\"\n",
              "              title=\"Convert this dataframe to an interactive table.\"\n",
              "              style=\"display:none;\">\n",
              "        \n",
              "  <svg xmlns=\"http://www.w3.org/2000/svg\" height=\"24px\"viewBox=\"0 0 24 24\"\n",
              "       width=\"24px\">\n",
              "    <path d=\"M0 0h24v24H0V0z\" fill=\"none\"/>\n",
              "    <path d=\"M18.56 5.44l.94 2.06.94-2.06 2.06-.94-2.06-.94-.94-2.06-.94 2.06-2.06.94zm-11 1L8.5 8.5l.94-2.06 2.06-.94-2.06-.94L8.5 2.5l-.94 2.06-2.06.94zm10 10l.94 2.06.94-2.06 2.06-.94-2.06-.94-.94-2.06-.94 2.06-2.06.94z\"/><path d=\"M17.41 7.96l-1.37-1.37c-.4-.4-.92-.59-1.43-.59-.52 0-1.04.2-1.43.59L10.3 9.45l-7.72 7.72c-.78.78-.78 2.05 0 2.83L4 21.41c.39.39.9.59 1.41.59.51 0 1.02-.2 1.41-.59l7.78-7.78 2.81-2.81c.8-.78.8-2.07 0-2.86zM5.41 20L4 18.59l7.72-7.72 1.47 1.35L5.41 20z\"/>\n",
              "  </svg>\n",
              "      </button>\n",
              "      \n",
              "  <style>\n",
              "    .colab-df-container {\n",
              "      display:flex;\n",
              "      flex-wrap:wrap;\n",
              "      gap: 12px;\n",
              "    }\n",
              "\n",
              "    .colab-df-convert {\n",
              "      background-color: #E8F0FE;\n",
              "      border: none;\n",
              "      border-radius: 50%;\n",
              "      cursor: pointer;\n",
              "      display: none;\n",
              "      fill: #1967D2;\n",
              "      height: 32px;\n",
              "      padding: 0 0 0 0;\n",
              "      width: 32px;\n",
              "    }\n",
              "\n",
              "    .colab-df-convert:hover {\n",
              "      background-color: #E2EBFA;\n",
              "      box-shadow: 0px 1px 2px rgba(60, 64, 67, 0.3), 0px 1px 3px 1px rgba(60, 64, 67, 0.15);\n",
              "      fill: #174EA6;\n",
              "    }\n",
              "\n",
              "    [theme=dark] .colab-df-convert {\n",
              "      background-color: #3B4455;\n",
              "      fill: #D2E3FC;\n",
              "    }\n",
              "\n",
              "    [theme=dark] .colab-df-convert:hover {\n",
              "      background-color: #434B5C;\n",
              "      box-shadow: 0px 1px 3px 1px rgba(0, 0, 0, 0.15);\n",
              "      filter: drop-shadow(0px 1px 2px rgba(0, 0, 0, 0.3));\n",
              "      fill: #FFFFFF;\n",
              "    }\n",
              "  </style>\n",
              "\n",
              "      <script>\n",
              "        const buttonEl =\n",
              "          document.querySelector('#df-5dafaa46-89f9-447f-a6b9-55dc1d711134 button.colab-df-convert');\n",
              "        buttonEl.style.display =\n",
              "          google.colab.kernel.accessAllowed ? 'block' : 'none';\n",
              "\n",
              "        async function convertToInteractive(key) {\n",
              "          const element = document.querySelector('#df-5dafaa46-89f9-447f-a6b9-55dc1d711134');\n",
              "          const dataTable =\n",
              "            await google.colab.kernel.invokeFunction('convertToInteractive',\n",
              "                                                     [key], {});\n",
              "          if (!dataTable) return;\n",
              "\n",
              "          const docLinkHtml = 'Like what you see? Visit the ' +\n",
              "            '<a target=\"_blank\" href=https://colab.research.google.com/notebooks/data_table.ipynb>data table notebook</a>'\n",
              "            + ' to learn more about interactive tables.';\n",
              "          element.innerHTML = '';\n",
              "          dataTable['output_type'] = 'display_data';\n",
              "          await google.colab.output.renderOutput(dataTable, element);\n",
              "          const docLink = document.createElement('div');\n",
              "          docLink.innerHTML = docLinkHtml;\n",
              "          element.appendChild(docLink);\n",
              "        }\n",
              "      </script>\n",
              "    </div>\n",
              "  </div>\n",
              "  "
            ]
          },
          "metadata": {},
          "execution_count": 106
        }
      ]
    },
    {
      "cell_type": "code",
      "source": [
        "# Get the column names corresponding to the series indices\n",
        "column_names_LR = data_filtered_features.columns[top20_indices_LR.index]\n",
        "\n",
        "# Print the column names\n",
        "print(column_names_LR)"
      ],
      "metadata": {
        "colab": {
          "base_uri": "https://localhost:8080/"
        },
        "outputId": "81af9f58-afd3-4ce8-ead9-3860d7e65719",
        "id": "eNPvdTcC6DDe"
      },
      "execution_count": 107,
      "outputs": [
        {
          "output_type": "stream",
          "name": "stdout",
          "text": [
            "Index(['ENSG00000125743', 'ENSG00000196262', 'ENSG00000107223',\n",
            "       'ENSG00000166228', 'ENSG00000075624', 'ENSG00000137575',\n",
            "       'ENSG00000117523', 'ENSG00000117906', 'ENSG00000124767',\n",
            "       'ENSG00000172270', 'ENSG00000168894', 'ENSG00000255508',\n",
            "       'ENSG00000163191', 'ENSG00000241553', 'ENSG00000089248',\n",
            "       'ENSG00000084207', 'ENSG00000140319', 'ENSG00000088832',\n",
            "       'ENSG00000185787', 'ENSG00000130811'],\n",
            "      dtype='object')\n"
          ]
        }
      ]
    },
    {
      "cell_type": "markdown",
      "source": [
        "## GaussianNB"
      ],
      "metadata": {
        "id": "NBfVfw6I55N4"
      }
    },
    {
      "cell_type": "markdown",
      "source": [
        "#### Get best parameters and make predictions"
      ],
      "metadata": {
        "id": "JNPNRrx_aZHV"
      }
    },
    {
      "cell_type": "code",
      "source": [
        "X_test_selected = X_test[:, selected_features] # filter the test set in order to contain only the features selected from the mRMR"
      ],
      "metadata": {
        "id": "E7s2z_UpaZHW"
      },
      "execution_count": 108,
      "outputs": []
    },
    {
      "cell_type": "code",
      "source": [
        "X_test_selected.shape"
      ],
      "metadata": {
        "colab": {
          "base_uri": "https://localhost:8080/"
        },
        "outputId": "f5f3f933-fa09-433e-8d73-05e72d00540c",
        "id": "fxXPLuhBaZHW"
      },
      "execution_count": null,
      "outputs": [
        {
          "output_type": "execute_result",
          "data": {
            "text/plain": [
              "(286, 300)"
            ]
          },
          "metadata": {},
          "execution_count": 218
        }
      ]
    },
    {
      "cell_type": "code",
      "source": [
        "X_train_val_selected_final_features = X_train_val[:, selected_features] # perform the same filtering in the training set"
      ],
      "metadata": {
        "id": "602uNHukaZHW"
      },
      "execution_count": 109,
      "outputs": []
    },
    {
      "cell_type": "code",
      "source": [
        "X_train_val_selected_final_features.shape"
      ],
      "metadata": {
        "colab": {
          "base_uri": "https://localhost:8080/"
        },
        "outputId": "539d731e-a93b-4de5-dd1b-0f5340e9289d",
        "id": "U7bwWiIQaZHX"
      },
      "execution_count": null,
      "outputs": [
        {
          "output_type": "execute_result",
          "data": {
            "text/plain": [
              "(1141, 300)"
            ]
          },
          "metadata": {},
          "execution_count": 220
        }
      ]
    },
    {
      "cell_type": "code",
      "source": [
        "best_classifier_GNB = GaussianNB(var_smoothing=0.0008094845352286139) # initialize the classifier and its parameters"
      ],
      "metadata": {
        "id": "HUQsjcyiaZHX"
      },
      "execution_count": 110,
      "outputs": []
    },
    {
      "cell_type": "code",
      "source": [
        "best_classifier_GNB.fit(X_train_val_selected_final_features, y_train_val) # train the classifier"
      ],
      "metadata": {
        "colab": {
          "base_uri": "https://localhost:8080/",
          "height": 74
        },
        "outputId": "3a24503d-7f0a-4013-c462-001de0b33100",
        "id": "Dq7nI34LaZHX"
      },
      "execution_count": 111,
      "outputs": [
        {
          "output_type": "execute_result",
          "data": {
            "text/plain": [
              "GaussianNB(var_smoothing=0.0008094845352286139)"
            ],
            "text/html": [
              "<style>#sk-container-id-10 {color: black;background-color: white;}#sk-container-id-10 pre{padding: 0;}#sk-container-id-10 div.sk-toggleable {background-color: white;}#sk-container-id-10 label.sk-toggleable__label {cursor: pointer;display: block;width: 100%;margin-bottom: 0;padding: 0.3em;box-sizing: border-box;text-align: center;}#sk-container-id-10 label.sk-toggleable__label-arrow:before {content: \"▸\";float: left;margin-right: 0.25em;color: #696969;}#sk-container-id-10 label.sk-toggleable__label-arrow:hover:before {color: black;}#sk-container-id-10 div.sk-estimator:hover label.sk-toggleable__label-arrow:before {color: black;}#sk-container-id-10 div.sk-toggleable__content {max-height: 0;max-width: 0;overflow: hidden;text-align: left;background-color: #f0f8ff;}#sk-container-id-10 div.sk-toggleable__content pre {margin: 0.2em;color: black;border-radius: 0.25em;background-color: #f0f8ff;}#sk-container-id-10 input.sk-toggleable__control:checked~div.sk-toggleable__content {max-height: 200px;max-width: 100%;overflow: auto;}#sk-container-id-10 input.sk-toggleable__control:checked~label.sk-toggleable__label-arrow:before {content: \"▾\";}#sk-container-id-10 div.sk-estimator input.sk-toggleable__control:checked~label.sk-toggleable__label {background-color: #d4ebff;}#sk-container-id-10 div.sk-label input.sk-toggleable__control:checked~label.sk-toggleable__label {background-color: #d4ebff;}#sk-container-id-10 input.sk-hidden--visually {border: 0;clip: rect(1px 1px 1px 1px);clip: rect(1px, 1px, 1px, 1px);height: 1px;margin: -1px;overflow: hidden;padding: 0;position: absolute;width: 1px;}#sk-container-id-10 div.sk-estimator {font-family: monospace;background-color: #f0f8ff;border: 1px dotted black;border-radius: 0.25em;box-sizing: border-box;margin-bottom: 0.5em;}#sk-container-id-10 div.sk-estimator:hover {background-color: #d4ebff;}#sk-container-id-10 div.sk-parallel-item::after {content: \"\";width: 100%;border-bottom: 1px solid gray;flex-grow: 1;}#sk-container-id-10 div.sk-label:hover label.sk-toggleable__label {background-color: #d4ebff;}#sk-container-id-10 div.sk-serial::before {content: \"\";position: absolute;border-left: 1px solid gray;box-sizing: border-box;top: 0;bottom: 0;left: 50%;z-index: 0;}#sk-container-id-10 div.sk-serial {display: flex;flex-direction: column;align-items: center;background-color: white;padding-right: 0.2em;padding-left: 0.2em;position: relative;}#sk-container-id-10 div.sk-item {position: relative;z-index: 1;}#sk-container-id-10 div.sk-parallel {display: flex;align-items: stretch;justify-content: center;background-color: white;position: relative;}#sk-container-id-10 div.sk-item::before, #sk-container-id-10 div.sk-parallel-item::before {content: \"\";position: absolute;border-left: 1px solid gray;box-sizing: border-box;top: 0;bottom: 0;left: 50%;z-index: -1;}#sk-container-id-10 div.sk-parallel-item {display: flex;flex-direction: column;z-index: 1;position: relative;background-color: white;}#sk-container-id-10 div.sk-parallel-item:first-child::after {align-self: flex-end;width: 50%;}#sk-container-id-10 div.sk-parallel-item:last-child::after {align-self: flex-start;width: 50%;}#sk-container-id-10 div.sk-parallel-item:only-child::after {width: 0;}#sk-container-id-10 div.sk-dashed-wrapped {border: 1px dashed gray;margin: 0 0.4em 0.5em 0.4em;box-sizing: border-box;padding-bottom: 0.4em;background-color: white;}#sk-container-id-10 div.sk-label label {font-family: monospace;font-weight: bold;display: inline-block;line-height: 1.2em;}#sk-container-id-10 div.sk-label-container {text-align: center;}#sk-container-id-10 div.sk-container {/* jupyter's `normalize.less` sets `[hidden] { display: none; }` but bootstrap.min.css set `[hidden] { display: none !important; }` so we also need the `!important` here to be able to override the default hidden behavior on the sphinx rendered scikit-learn.org. See: https://github.com/scikit-learn/scikit-learn/issues/21755 */display: inline-block !important;position: relative;}#sk-container-id-10 div.sk-text-repr-fallback {display: none;}</style><div id=\"sk-container-id-10\" class=\"sk-top-container\"><div class=\"sk-text-repr-fallback\"><pre>GaussianNB(var_smoothing=0.0008094845352286139)</pre><b>In a Jupyter environment, please rerun this cell to show the HTML representation or trust the notebook. <br />On GitHub, the HTML representation is unable to render, please try loading this page with nbviewer.org.</b></div><div class=\"sk-container\" hidden><div class=\"sk-item\"><div class=\"sk-estimator sk-toggleable\"><input class=\"sk-toggleable__control sk-hidden--visually\" id=\"sk-estimator-id-10\" type=\"checkbox\" checked><label for=\"sk-estimator-id-10\" class=\"sk-toggleable__label sk-toggleable__label-arrow\">GaussianNB</label><div class=\"sk-toggleable__content\"><pre>GaussianNB(var_smoothing=0.0008094845352286139)</pre></div></div></div></div></div>"
            ]
          },
          "metadata": {},
          "execution_count": 111
        }
      ]
    },
    {
      "cell_type": "code",
      "source": [
        "y_test_pred = best_classifier_GNB.predict(X_test_selected) # make predictions on the test set"
      ],
      "metadata": {
        "id": "rCMTdk8WaZHX"
      },
      "execution_count": 112,
      "outputs": []
    },
    {
      "cell_type": "code",
      "source": [
        "# Compute metrics' scores\n",
        "balanced_acc_mrmr_GNB = balanced_accuracy_score(y_test, y_test_pred)\n",
        "accuracy_mrmr_GNB = accuracy_score(y_test, y_test_pred)\n",
        "precision_mrmr_GNB = precision_score(y_test, y_test_pred)\n",
        "recall_mrmr_GNB = recall_score(y_test, y_test_pred)\n",
        "f1_mrmr_GNB = f1_score(y_test, y_test_pred)"
      ],
      "metadata": {
        "id": "uakLSHsaaZHX"
      },
      "execution_count": 113,
      "outputs": []
    },
    {
      "cell_type": "code",
      "source": [
        "# Printing the metrics\n",
        "print(\"Balanced Accuracy:\", balanced_acc_mrmr_GNB)\n",
        "print(\"Precision:\", precision_mrmr_GNB)\n",
        "print(\"Recall:\", recall_mrmr_GNB)\n",
        "print(\"F1 Score:\", f1_mrmr_GNB)"
      ],
      "metadata": {
        "id": "rBJIuuSkBDCo",
        "colab": {
          "base_uri": "https://localhost:8080/"
        },
        "outputId": "0e6ee163-3479-4e9c-ed21-08cfd46a5f88"
      },
      "execution_count": 114,
      "outputs": [
        {
          "output_type": "stream",
          "name": "stdout",
          "text": [
            "Balanced Accuracy: 0.9388474295190713\n",
            "Precision: 0.8421052631578947\n",
            "Recall: 0.8888888888888888\n",
            "F1 Score: 0.8648648648648649\n"
          ]
        }
      ]
    },
    {
      "cell_type": "markdown",
      "source": [
        "# Plots"
      ],
      "metadata": {
        "id": "haGy9qwjcsx0"
      }
    },
    {
      "cell_type": "markdown",
      "source": [
        "In this section we plot the results of the metrics obtained above in order to be easier to evaluate them"
      ],
      "metadata": {
        "id": "TOgDAcn2gBe6"
      }
    },
    {
      "cell_type": "code",
      "source": [
        "classifiers = ['LogisticReg', 'RandomForest', 'GaussiaNB', 'SVC', 'XGBoost'] # list that contains the classifiers' names"
      ],
      "metadata": {
        "id": "RCGFhm8ZDusK"
      },
      "execution_count": null,
      "outputs": []
    },
    {
      "cell_type": "markdown",
      "source": [
        "## Balanced accuracy specific"
      ],
      "metadata": {
        "id": "UAcoLd72uEDZ"
      }
    },
    {
      "cell_type": "code",
      "source": [
        "anova_scores = [balanced_acc_LR, balanced_acc_RF, balanced_acc_GNB, balanced_acc_SVC, balanced_acc_XG]\n",
        "mrmr_scores = [balanced_acc_mrmr_LR, balanced_acc_mrmr_RF, balanced_acc_mrmr_GNB, balanced_acc_mrmr_SVC, balanced_acc_mrmr_XG]"
      ],
      "metadata": {
        "id": "2anNx4v3z5-D"
      },
      "execution_count": null,
      "outputs": []
    },
    {
      "cell_type": "code",
      "source": [
        "plt.figure(figsize=(10, 6)) # Create a new figure with a specified size\n",
        "\n",
        "# Plot a line chart showing the 'anova_scores' on the y-axis against the 'classifiers' on the x-axis.\n",
        "# The 'anova_scores' represent the performance (Balanced Accuracy) of classifiers using feature selection with the ANOVA method.\n",
        "plt.plot(classifiers, anova_scores, marker='o', label='ANOVA')\n",
        "\n",
        "# Plot another line chart showing the 'mrmr_scores' on the y-axis against the 'classifiers' on the x-axis.\n",
        "# The 'mrmr_scores' represent the performance (Balanced Accuracy) of classifiers using feature selection with the mRMR (minimum Redundancy Maximum Relevance) method.\n",
        "plt.plot(classifiers, mrmr_scores, marker='o', label='mRMR')\n",
        "\n",
        "plt.xlabel('Classifiers')\n",
        "plt.ylabel('Balanced Accuracy')\n",
        "plt.title('Comparison of Classifiers across Feature Selection Methods (Balanced Accuracy)')\n",
        "plt.legend()\n",
        "plt.show()"
      ],
      "metadata": {
        "colab": {
          "base_uri": "https://localhost:8080/",
          "height": 564
        },
        "id": "3-SMtfjSuX5o",
        "outputId": "e8e61282-f1e4-4b46-e69e-ecc7fdb0818c"
      },
      "execution_count": null,
      "outputs": [
        {
          "output_type": "display_data",
          "data": {
            "text/plain": [
              "<Figure size 1000x600 with 1 Axes>"
            ],
            "image/png": "[encoded data removed]"
          },
          "metadata": {}
        }
      ]
    },
    {
      "cell_type": "code",
      "source": [
        "anova_scores # print the metric's score for every classifier (ANOVA used)"
      ],
      "metadata": {
        "colab": {
          "base_uri": "https://localhost:8080/"
        },
        "id": "B9vwKpNevU-c",
        "outputId": "0010d61b-f0a5-4003-c8dc-d88bf80bf7e7"
      },
      "execution_count": null,
      "outputs": [
        {
          "output_type": "execute_result",
          "data": {
            "text/plain": [
              "[0.9684908789386402,\n",
              " 0.9722222222222222,\n",
              " 0.8314676616915423,\n",
              " 0.9666252072968491,\n",
              " 0.9166666666666667]"
            ]
          },
          "metadata": {},
          "execution_count": 106
        }
      ]
    },
    {
      "cell_type": "code",
      "source": [
        "mrmr_scores # print the metric's score for every classifier (mRMR used)"
      ],
      "metadata": {
        "colab": {
          "base_uri": "https://localhost:8080/"
        },
        "id": "UPfkbz2Oveug",
        "outputId": "bbdfdf14-f3a1-4907-e457-8c1898db6065"
      },
      "execution_count": null,
      "outputs": [
        {
          "output_type": "execute_result",
          "data": {
            "text/plain": [
              "[0.9407131011608623,\n",
              " 1.0,\n",
              " 0.9388474295190713,\n",
              " 0.9407131011608623,\n",
              " 0.9722222222222222]"
            ]
          },
          "metadata": {},
          "execution_count": 107
        }
      ]
    },
    {
      "cell_type": "markdown",
      "source": [
        "## Precision specific"
      ],
      "metadata": {
        "id": "u4fwmBjr1vCB"
      }
    },
    {
      "cell_type": "code",
      "source": [
        "anova_scores_prec = [precision_LR, precision_RF, precision_GNB, precision_SVC, precision_XG]\n",
        "mrmr_scores_prec = [precision_mrmr_LR, precision_mrmr_RF, precision_mrmr_GNB, precision_mrmr_SVC, precision_mrmr_XG]"
      ],
      "metadata": {
        "id": "yiyL8Olb1xPt"
      },
      "execution_count": null,
      "outputs": []
    },
    {
      "cell_type": "code",
      "source": [
        "plt.figure(figsize=(10, 6))\n",
        "\n",
        "# Plot a line chart showing the 'anova_scores' on the y-axis against the 'classifiers' on the x-axis.\n",
        "# The 'anova_scores' represent the performance (Precision) of classifiers using feature selection with the ANOVA method.\n",
        "plt.plot(classifiers, anova_scores_prec, marker='o', label='ANOVA')\n",
        "\n",
        "# Plot another line chart showing the 'mrmr_scores' on the y-axis against the 'classifiers' on the x-axis.\n",
        "# The 'mrmr_scores' represent the performance (Precision) of classifiers using feature selection with the mRMR (minimum Redundancy Maximum Relevance) method.\n",
        "plt.plot(classifiers, mrmr_scores_prec, marker='o', label='mRMR')\n",
        "plt.xlabel('Classifiers')\n",
        "plt.ylabel('Precision')\n",
        "plt.title('Comparison of Classifiers across Feature Selection Methods (Precision)')\n",
        "plt.legend()\n",
        "plt.show()"
      ],
      "metadata": {
        "colab": {
          "base_uri": "https://localhost:8080/",
          "height": 564
        },
        "id": "LY9ZLQ5C1-sF",
        "outputId": "8ebfb838-547a-4c33-9def-67c3ca0d57fd"
      },
      "execution_count": null,
      "outputs": [
        {
          "output_type": "display_data",
          "data": {
            "text/plain": [
              "<Figure size 1000x600 with 1 Axes>"
            ],
            "image/png": "[encoded data removed]"
          },
          "metadata": {}
        }
      ]
    },
    {
      "cell_type": "code",
      "source": [
        "anova_scores_prec # print the metric's score for every classifier (ANOVA used)"
      ],
      "metadata": {
        "colab": {
          "base_uri": "https://localhost:8080/"
        },
        "id": "O-HaPtRu2Qzh",
        "outputId": "f0ecb15c-97bc-483c-82d2-9d5df57d3e36"
      },
      "execution_count": null,
      "outputs": [
        {
          "output_type": "execute_result",
          "data": {
            "text/plain": [
              "[0.8947368421052632, 1.0, 0.9230769230769231, 0.85, 1.0]"
            ]
          },
          "metadata": {},
          "execution_count": 118
        }
      ]
    },
    {
      "cell_type": "code",
      "source": [
        "mrmr_scores_prec # print the metric's score for every classifier (mRMR used)"
      ],
      "metadata": {
        "colab": {
          "base_uri": "https://localhost:8080/"
        },
        "id": "YA_Rf8fI2Ttn",
        "outputId": "ad081a57-e133-4949-a056-9b25aff178a0"
      },
      "execution_count": null,
      "outputs": [
        {
          "output_type": "execute_result",
          "data": {
            "text/plain": [
              "[0.8888888888888888, 1.0, 0.8421052631578947, 0.8888888888888888, 1.0]"
            ]
          },
          "metadata": {},
          "execution_count": 119
        }
      ]
    },
    {
      "cell_type": "markdown",
      "source": [
        "## Recall"
      ],
      "metadata": {
        "id": "79AR1kTr3unS"
      }
    },
    {
      "cell_type": "code",
      "source": [
        "anova_scores_rec = [recall_LR, recall_RF, recall_GNB, recall_SVC, recall_XG]\n",
        "mrmr_scores_rec = [recall_mrmr_LR, recall_mrmr_RF, recall_mrmr_GNB, recall_mrmr_SVC, recall_mrmr_XG]"
      ],
      "metadata": {
        "id": "1EL4KAXW4GJo"
      },
      "execution_count": null,
      "outputs": []
    },
    {
      "cell_type": "code",
      "source": [
        "plt.figure(figsize=(10, 6))\n",
        "\n",
        "# Plot a line chart showing the 'anova_scores' on the y-axis against the 'classifiers' on the x-axis.\n",
        "# The 'anova_scores' represent the performance (Recall) of classifiers using feature selection with the ANOVA method.\n",
        "plt.plot(classifiers, anova_scores_rec, marker='o', label='ANOVA')\n",
        "\n",
        "# Plot another line chart showing the 'mrmr_scores' on the y-axis against the 'classifiers' on the x-axis.\n",
        "# The 'mrmr_scores' represent the performance (Recall) of classifiers using feature selection with the mRMR (minimum Redundancy Maximum Relevance) method.\n",
        "plt.plot(classifiers, mrmr_scores_rec, marker='o', label='mRMR')\n",
        "plt.xlabel('Classifiers')\n",
        "plt.ylabel('Recall')\n",
        "plt.title('Comparison of Classifiers across Feature Selection Methods (Recall)')\n",
        "plt.legend()\n",
        "plt.show()"
      ],
      "metadata": {
        "colab": {
          "base_uri": "https://localhost:8080/",
          "height": 564
        },
        "outputId": "650c8220-dde9-4c18-d1bb-58e5c58f1092",
        "id": "fDmJpQme4GJy"
      },
      "execution_count": null,
      "outputs": [
        {
          "output_type": "display_data",
          "data": {
            "text/plain": [
              "<Figure size 1000x600 with 1 Axes>"
            ],
            "image/png": "[encoded data removed]"
          },
          "metadata": {}
        }
      ]
    },
    {
      "cell_type": "code",
      "source": [
        "anova_scores_rec # print the metric's score for every classifier (ANOVA used)"
      ],
      "metadata": {
        "colab": {
          "base_uri": "https://localhost:8080/"
        },
        "id": "M_oNW6Q22b2i",
        "outputId": "62b6cc32-c744-44c7-c3a3-ab1541fcc33a"
      },
      "execution_count": null,
      "outputs": [
        {
          "output_type": "execute_result",
          "data": {
            "text/plain": [
              "[0.9444444444444444,\n",
              " 0.9444444444444444,\n",
              " 0.6666666666666666,\n",
              " 0.9444444444444444,\n",
              " 0.8333333333333334]"
            ]
          },
          "metadata": {},
          "execution_count": 124
        }
      ]
    },
    {
      "cell_type": "code",
      "source": [
        "mrmr_scores_rec # print the metric's score for every classifier (mRMR used)"
      ],
      "metadata": {
        "colab": {
          "base_uri": "https://localhost:8080/"
        },
        "id": "7yvwq29f2b6Y",
        "outputId": "71b4624e-e048-4a0e-c0eb-1c25c74d4eed"
      },
      "execution_count": null,
      "outputs": [
        {
          "output_type": "execute_result",
          "data": {
            "text/plain": [
              "[0.8888888888888888,\n",
              " 1.0,\n",
              " 0.8888888888888888,\n",
              " 0.8888888888888888,\n",
              " 0.9444444444444444]"
            ]
          },
          "metadata": {},
          "execution_count": 125
        }
      ]
    },
    {
      "cell_type": "markdown",
      "source": [
        "## F1 score specific"
      ],
      "metadata": {
        "id": "MlSbTQN35Nep"
      }
    },
    {
      "cell_type": "code",
      "source": [
        "anova_scores_f1 = [f1_LR, f1_RF, f1_GNB, f1_SVC, f1_XG]\n",
        "mrmr_scores_f1 = [f1_mrmr_LR, f1_mrmr_RF, f1_mrmr_GNB, f1_mrmr_SVC, f1_mrmr_XG]"
      ],
      "metadata": {
        "id": "Kk-cXg2Q5p5w"
      },
      "execution_count": null,
      "outputs": []
    },
    {
      "cell_type": "code",
      "source": [
        "plt.figure(figsize=(10, 6))\n",
        "\n",
        "# Plot a line chart showing the 'anova_scores' on the y-axis against the 'classifiers' on the x-axis.\n",
        "# The 'anova_scores' represent the performance (F1-score) of classifiers using feature selection with the ANOVA method.\n",
        "plt.plot(classifiers, anova_scores_f1, marker='o', label='ANOVA')\n",
        "\n",
        "# Plot another line chart showing the 'mrmr_scores' on the y-axis against the 'classifiers' on the x-axis.\n",
        "# The 'mrmr_scores' represent the performance (F1-score) of classifiers using feature selection with the mRMR (minimum Redundancy Maximum Relevance) method.\n",
        "plt.plot(classifiers, mrmr_scores_f1, marker='o', label='mRMR')\n",
        "plt.xlabel('Classifiers')\n",
        "plt.ylabel('F1-score')\n",
        "plt.title('Comparison of Classifiers across Feature Selection Methods (F1-score)')\n",
        "plt.legend()\n",
        "plt.show()"
      ],
      "metadata": {
        "colab": {
          "base_uri": "https://localhost:8080/",
          "height": 564
        },
        "outputId": "e6f667bc-2332-4f18-ef2d-e5cd99af88e7",
        "id": "YhcTuRiF5p55"
      },
      "execution_count": null,
      "outputs": [
        {
          "output_type": "display_data",
          "data": {
            "text/plain": [
              "<Figure size 1000x600 with 1 Axes>"
            ],
            "image/png": "[encoded data removed]"
          },
          "metadata": {}
        }
      ]
    },
    {
      "cell_type": "code",
      "source": [
        "anova_scores_f1 # print the metric's score for every classifier (ANOVA used)"
      ],
      "metadata": {
        "colab": {
          "base_uri": "https://localhost:8080/"
        },
        "outputId": "bcc30af6-a8ba-4aa6-907c-d2f55a2dc924",
        "id": "rhMkJxS45p56"
      },
      "execution_count": null,
      "outputs": [
        {
          "output_type": "execute_result",
          "data": {
            "text/plain": [
              "[0.918918918918919,\n",
              " 0.9714285714285714,\n",
              " 0.7741935483870968,\n",
              " 0.8947368421052632,\n",
              " 0.9090909090909091]"
            ]
          },
          "metadata": {},
          "execution_count": 128
        }
      ]
    },
    {
      "cell_type": "code",
      "source": [
        "mrmr_scores_f1 # print the metric's score for every classifier (mRMR used)"
      ],
      "metadata": {
        "colab": {
          "base_uri": "https://localhost:8080/"
        },
        "outputId": "39e71749-9dfd-4a99-e27b-d94bbd5a64c1",
        "id": "EbbBy3fi5p56"
      },
      "execution_count": null,
      "outputs": [
        {
          "output_type": "execute_result",
          "data": {
            "text/plain": [
              "[0.8888888888888888,\n",
              " 1.0,\n",
              " 0.8648648648648649,\n",
              " 0.8888888888888888,\n",
              " 0.9714285714285714]"
            ]
          },
          "metadata": {},
          "execution_count": 129
        }
      ]
    }
  ]
}