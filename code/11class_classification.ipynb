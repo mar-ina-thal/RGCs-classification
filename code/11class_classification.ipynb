{
  "cells": [
    {
      "cell_type": "markdown",
      "source": [
        "# Machine Learning in Computational Biology\n",
        "## Course Project\n",
        "## 11 class problem classification - Pipeline/ Results Notebook\n",
        "#### Vossos Charalampos, ID:7115152200037\n",
        "#### Fillipidou Thalassini-Marina, ID:7115152200022\n",
        "#### Papadopoulou Marianna, ID:7115152200032\n",
        "\n",
        "This notebook presents all the pipeline for the 2class classification problem\n",
        "of cells based on their gene profile. It contains all the optimization steps, hyperparameter tunning and the feature selection techniques that were tested\n",
        "In order to replicate the findings outlined in this academic document, please follow the steps below:\n",
        "\n",
        "1.\tOpen the notebook provided using Google Colab\n",
        "2.\tAccess the data section of the environment by clicking on the folder icon located on the left side.\n",
        "Then, upload the:\n",
        "  - final_data.csv file\n",
        "\n",
        " The file is available within the exercise's zip file. To upload them, simply drag and drop the files into the designated area.\n",
        "\n",
        "3. Run the cells in the notebook in the order they appear, making sure to follow the instructions provided in each cell.\n",
        "\n",
        "When executing the notebook in Jupyter, it is essential to ensure that the necessary packages have been installed. Additionally, it is important to specify the path to the dataset (final_data.csv or other three files) as an input parameter for the *pd.read_csv()* function."
      ],
      "metadata": {
        "id": "57wHvUSPH8xW"
      }
    },
    {
      "cell_type": "markdown",
      "source": [
        "# Libraries"
      ],
      "metadata": {
        "id": "EDX_WWFUIH0M"
      }
    },
    {
      "cell_type": "code",
      "source": [
        "# Execute if opened with colab\n",
        "#!pip install optuna\n",
        "#!pip install mrmr"
      ],
      "metadata": {
        "id": "sjMxrfesIQa_"
      },
      "execution_count": null,
      "outputs": []
    },
    {
      "cell_type": "code",
      "execution_count": null,
      "metadata": {
        "id": "NVAAfXDYta1X",
        "outputId": "bbd51cdf-b5fa-4212-e6f2-e1f3b3b9fa05"
      },
      "outputs": [
        {
          "name": "stderr",
          "output_type": "stream",
          "text": [
            "c:\\Users\\maria\\anaconda3\\envs\\tf\\lib\\site-packages\\tqdm\\auto.py:21: TqdmWarning: IProgress not found. Please update jupyter and ipywidgets. See https://ipywidgets.readthedocs.io/en/stable/user_install.html\n",
            "  from .autonotebook import tqdm as notebook_tqdm\n"
          ]
        }
      ],
      "source": [
        "import pandas as pd\n",
        "import numpy as np\n",
        "from sklearn.preprocessing import StandardScaler\n",
        "from sklearn.feature_selection import SelectKBest, f_classif\n",
        "from sklearn.model_selection import cross_val_score, train_test_split\n",
        "from sklearn.metrics import make_scorer, matthews_corrcoef, balanced_accuracy_score, f1_score, fbeta_score, recall_score, precision_score, average_precision_score\n",
        "from sklearn.ensemble import RandomForestClassifier\n",
        "from sklearn.linear_model import LogisticRegression\n",
        "from sklearn.svm import SVC\n",
        "from sklearn.naive_bayes import GaussianNB\n",
        "from xgboost import XGBClassifier\n",
        "from sklearn.pipeline import Pipeline\n",
        "import optuna\n",
        "from optuna.samplers import RandomSampler\n",
        "import matplotlib.pyplot as plt\n",
        "from sklearn.metrics import accuracy_score\n",
        "from sklearn.model_selection import StratifiedKFold\n",
        "import random\n",
        "from mrmr import mrmr_classif\n",
        "from sklearn.preprocessing import LabelEncoder"
      ]
    },
    {
      "cell_type": "markdown",
      "source": [
        "# Load Dataset\n",
        "In this notebook we do not present again the whole preprocessing steps and we load our data from the final_df.csv file obtained from the preprocessing steps in either of the notebooks of 2 and 4 class classification"
      ],
      "metadata": {
        "id": "tavSSpKtIp8V"
      }
    },
    {
      "cell_type": "code",
      "execution_count": null,
      "metadata": {
        "id": "6BupmtxHta1g"
      },
      "outputs": [],
      "source": [
        "df_filtered = pd.read_csv('contentfinal_df.csv')"
      ]
    },
    {
      "cell_type": "code",
      "execution_count": null,
      "metadata": {
        "id": "VG04VFhUta1h"
      },
      "outputs": [],
      "source": [
        "# Separate features and target variable\n",
        "X = df_filtered.iloc[:,1:-9]\n",
        "y_labels = df_filtered.iloc[:,-9:]\n"
      ]
    },
    {
      "cell_type": "code",
      "execution_count": null,
      "metadata": {
        "id": "BWAKQRvOta1h",
        "outputId": "a0e06fce-37c4-435d-c731-f3cea6fa6021"
      },
      "outputs": [
        {
          "name": "stdout",
          "output_type": "stream",
          "text": [
            "(1427, 1500)\n",
            "['cluster_2' 'cluster_4' 'cluster_7' 'cluster_8' 'cluster_11' 'cluster_18'\n",
            " 'cluster_23' 'cluster_31' 'cluster_37']\n",
            "11\n"
          ]
        }
      ],
      "source": [
        "# Print the shape of the variable X (input data).\n",
        "print(X.shape)\n",
        "\n",
        "# Print the column names of the DataFrame 'y_labels', which presumably contains the target labels.\n",
        "print(y_labels.columns.values)\n",
        "\n",
        "# Extract the values from the column with index 4 in the 'y_labels' DataFrame.\n",
        "# Convert the values to a string data type and store them in variable y.\n",
        "y = y_labels[y_labels.columns.values[4]].values.astype(str)\n",
        "\n",
        "\n",
        "# Create an instance of LabelEncoder and use it to encode the labels in y.\n",
        "# This will convert the labels from string format to numerical format.\n",
        "label_encoder = LabelEncoder()\n",
        "y = label_encoder.fit_transform(y)\n",
        "\n",
        "# Extract the number of classes from the column name in the DataFrame 'y_labels'.\n",
        "# The column name seems to follow a pattern: 'column_name_numClasses'.\n",
        "# Split the column name by \"_\" and extract the last part, which should represent the number of classes.\n",
        "num_classes = int(y_labels.columns.values[4].split((\"_\"))[1])\n",
        "\n",
        "# Print the number of classes.\n",
        "print(num_classes)\n"
      ]
    },
    {
      "cell_type": "code",
      "execution_count": null,
      "metadata": {
        "id": "_bEB8y7Ata1i"
      },
      "outputs": [],
      "source": [
        "# Standardize the features\n",
        "scaler = StandardScaler()\n",
        "X_std = scaler.fit_transform(X)"
      ]
    },
    {
      "cell_type": "code",
      "execution_count": null,
      "metadata": {
        "id": "ra33Op5-ta1j"
      },
      "outputs": [],
      "source": [
        "X_train_val, X_test, y_train_val, y_test = train_test_split(X_std, y, test_size=0.2, random_state=42)"
      ]
    },
    {
      "cell_type": "markdown",
      "metadata": {
        "id": "X5TPK8Bfta1j"
      },
      "source": [
        "# ANOVA for feature selection"
      ]
    },
    {
      "cell_type": "markdown",
      "metadata": {
        "id": "Kp7dPWE7ta1p"
      },
      "source": [
        "## SVC\n",
        "\n"
      ]
    },
    {
      "cell_type": "markdown",
      "metadata": {
        "id": "CLZ6ttnAta1q"
      },
      "source": [
        "#### Cross val for hyperparameter tunning and feature selection"
      ]
    },
    {
      "cell_type": "code",
      "execution_count": null,
      "metadata": {
        "id": "UgMzuuSVta1r",
        "outputId": "84d2ffac-6734-4766-b7bb-4b4fb73fa941"
      },
      "outputs": [
        {
          "name": "stdout",
          "output_type": "stream",
          "text": [
            "Support Vector Macines\n"
          ]
        }
      ],
      "source": [
        "# Define the number of folds for cross-validation\n",
        "n_folds = 5"
      ]
    },
    {
      "cell_type": "code",
      "execution_count": null,
      "metadata": {
        "id": "wKci4K1Nta1r"
      },
      "outputs": [],
      "source": [
        "# Define the objective function for Optuna hyperparameter tuning\n",
        "def objective_SVC(trial):\n",
        "  global best_features\n",
        "  # Define the hyperparameters to be optimized\n",
        "  C = trial.suggest_float('C', 0.1, 10)\n",
        "  gamma = trial.suggest_float('gamma', 0.01, 1)\n",
        "  kernel = trial.suggest_categorical('kernel', ['linear', 'poly', 'rbf', 'sigmoid'])\n",
        "  degree = trial.suggest_int('degree', 2, 10)\n",
        "  # Instantiate the classifier with the current hyperparameters\n",
        "  classifier = SVC(C=C, gamma=gamma,kernel=kernel,degree=degree)\n",
        "\n",
        "  # Perform cross-validation with feature selection\n",
        "  kf = StratifiedKFold(n_splits=n_folds, shuffle=True, random_state=42)\n",
        "  cv_scores = []\n",
        "  feature_selector = SelectKBest(score_func=f_classif, k=300)  # Adjust the number of features as desired\n",
        "  best_features = None\n",
        "\n",
        "  for train_index, val_index in kf.split(X_train_val, y_train_val):\n",
        "      X_train, X_val = X_train_val[train_index], X_train_val[val_index]\n",
        "      y_train, y_val = y_train_val[train_index], y_train_val[val_index]\n",
        "\n",
        "      # Perform feature selection on the training set\n",
        "      X_train_selected = feature_selector.fit_transform(X_train, y_train)\n",
        "      selected_features = feature_selector.get_support()\n",
        "\n",
        "      # Apply the same feature selection on the validation set\n",
        "      X_val_selected = X_val[:, selected_features]\n",
        "\n",
        "      # Fit the classifier on the selected features and evaluate on the validation set\n",
        "      classifier.fit(X_train_selected, y_train)\n",
        "      y_pred = classifier.predict(X_val_selected)\n",
        "      mcc = matthews_corrcoef(y_val, y_pred)\n",
        "      cv_scores.append(mcc)\n",
        "\n",
        "  # Calculate the average MCC\n",
        "  avg_mcc = np.mean(cv_scores)\n",
        "\n",
        "  if trial.should_prune()==False:\n",
        "    best_features = selected_features.copy()\n",
        "\n",
        "  return avg_mcc"
      ]
    },
    {
      "cell_type": "code",
      "execution_count": null,
      "metadata": {
        "id": "BaR5bQwJta1s",
        "outputId": "e0c02a6a-0d6a-4be9-a442-dfe8bf5ff1ff"
      },
      "outputs": [
        {
          "name": "stderr",
          "output_type": "stream",
          "text": [
            "[I 2023-07-02 16:50:55,308] A new study created in memory with name: no-name-5df18b5c-d43b-4ab0-af41-0675acae0e69\n",
            "[I 2023-07-02 16:50:56,988] Trial 0 finished with value: 0.7121020277694982 and parameters: {'C': 3.807947176588889, 'gamma': 0.951207163345817, 'kernel': 'linear', 'degree': 2}. Best is trial 0 with value: 0.7121020277694982.\n",
            "[I 2023-07-02 16:50:59,629] Trial 1 finished with value: 0.0 and parameters: {'C': 8.675143843171858, 'gamma': 0.6051038616257767, 'kernel': 'rbf', 'degree': 3}. Best is trial 0 with value: 0.7121020277694982.\n",
            "[I 2023-07-02 16:51:01,344] Trial 2 finished with value: 0.2714476235104769 and parameters: {'C': 1.9000671753502962, 'gamma': 0.1915704647548995, 'kernel': 'poly', 'degree': 7}. Best is trial 0 with value: 0.7121020277694982.\n",
            "[I 2023-07-02 16:51:03,450] Trial 3 finished with value: 0.0 and parameters: {'C': 1.4809892204552142, 'gamma': 0.29922320204986597, 'kernel': 'rbf', 'degree': 6}. Best is trial 0 with value: 0.7121020277694982.\n",
            "[I 2023-07-02 16:51:04,370] Trial 4 finished with value: 0.33427627578572944 and parameters: {'C': 5.96490423173422, 'gamma': 0.05598590859279775, 'kernel': 'sigmoid', 'degree': 10}. Best is trial 0 with value: 0.7121020277694982.\n",
            "[I 2023-07-02 16:51:06,100] Trial 5 finished with value: 0.2881926829022229 and parameters: {'C': 8.103133746352965, 'gamma': 0.31156763148163696, 'kernel': 'poly', 'degree': 6}. Best is trial 0 with value: 0.7121020277694982.\n",
            "[I 2023-07-02 16:51:07,754] Trial 6 finished with value: 0.2881926829022229 and parameters: {'C': 0.4404463590406621, 'gamma': 0.9102271980579942, 'kernel': 'poly', 'degree': 6}. Best is trial 0 with value: 0.7121020277694982.\n",
            "[I 2023-07-02 16:51:09,704] Trial 7 finished with value: 0.15094632625568793 and parameters: {'C': 1.9300591097027178, 'gamma': 0.9698887814869129, 'kernel': 'poly', 'degree': 10}. Best is trial 0 with value: 0.7121020277694982.\n",
            "[I 2023-07-02 16:51:11,689] Trial 8 finished with value: 0.0 and parameters: {'C': 0.976075770314003, 'gamma': 0.20402303379495376, 'kernel': 'rbf', 'degree': 9}. Best is trial 0 with value: 0.7121020277694982.\n",
            "[I 2023-07-02 16:51:13,715] Trial 9 finished with value: 0.0 and parameters: {'C': 3.631857934266534, 'gamma': 0.28812516459050697, 'kernel': 'rbf', 'degree': 10}. Best is trial 0 with value: 0.7121020277694982.\n",
            "[I 2023-07-02 16:51:15,452] Trial 10 finished with value: 0.1969050847526656 and parameters: {'C': 7.7452232160369086, 'gamma': 0.2067285247188307, 'kernel': 'poly', 'degree': 8}. Best is trial 0 with value: 0.7121020277694982.\n",
            "[I 2023-07-02 16:51:16,743] Trial 11 finished with value: 0.6825607557210885 and parameters: {'C': 0.8330420521674946, 'gamma': 0.3648810712588299, 'kernel': 'poly', 'degree': 2}. Best is trial 0 with value: 0.7121020277694982.\n",
            "[I 2023-07-02 16:51:18,771] Trial 12 finished with value: 0.0 and parameters: {'C': 3.178724984985056, 'gamma': 0.3319314888064796, 'kernel': 'rbf', 'degree': 3}. Best is trial 0 with value: 0.7121020277694982.\n",
            "[I 2023-07-02 16:51:20,331] Trial 13 finished with value: 0.392869795981233 and parameters: {'C': 7.16112339350765, 'gamma': 0.7631771981307285, 'kernel': 'poly', 'degree': 5}. Best is trial 0 with value: 0.7121020277694982.\n",
            "[I 2023-07-02 16:51:22,055] Trial 14 finished with value: 0.15094632625568793 and parameters: {'C': 0.35164935476654235, 'gamma': 0.1168125127233714, 'kernel': 'poly', 'degree': 10}. Best is trial 0 with value: 0.7121020277694982.\n",
            "[I 2023-07-02 16:51:22,828] Trial 15 finished with value: 0.7121020277694982 and parameters: {'C': 2.567993068573862, 'gamma': 0.41627909380527345, 'kernel': 'linear', 'degree': 3}. Best is trial 0 with value: 0.7121020277694982.\n",
            "[I 2023-07-02 16:51:24,738] Trial 16 finished with value: 0.15094632625568793 and parameters: {'C': 9.304006758191473, 'gamma': 0.8100391757687728, 'kernel': 'poly', 'degree': 10}. Best is trial 0 with value: 0.7121020277694982.\n",
            "[I 2023-07-02 16:51:25,509] Trial 17 finished with value: 0.7121020277694982 and parameters: {'C': 5.439488194964942, 'gamma': 0.8093657536124219, 'kernel': 'linear', 'degree': 5}. Best is trial 0 with value: 0.7121020277694982.\n",
            "[I 2023-07-02 16:51:26,847] Trial 18 finished with value: 0.6101617344618291 and parameters: {'C': 8.198346182632681, 'gamma': 0.86212327742378, 'kernel': 'poly', 'degree': 3}. Best is trial 0 with value: 0.7121020277694982.\n",
            "[I 2023-07-02 16:51:28,973] Trial 19 finished with value: 0.0 and parameters: {'C': 3.442390196895917, 'gamma': 0.943480606873394, 'kernel': 'rbf', 'degree': 10}. Best is trial 0 with value: 0.7121020277694982.\n",
            "[I 2023-07-02 16:51:29,725] Trial 20 finished with value: 0.7121020277694982 and parameters: {'C': 9.628228219926902, 'gamma': 0.2592644728671105, 'kernel': 'linear', 'degree': 7}. Best is trial 0 with value: 0.7121020277694982.\n",
            "[I 2023-07-02 16:51:31,341] Trial 21 finished with value: 0.2881926829022229 and parameters: {'C': 5.076522329965728, 'gamma': 0.06096396373748946, 'kernel': 'poly', 'degree': 6}. Best is trial 0 with value: 0.7121020277694982.\n",
            "[I 2023-07-02 16:51:32,898] Trial 22 finished with value: 0.392869795981233 and parameters: {'C': 9.857939495694946, 'gamma': 0.2496347187963854, 'kernel': 'poly', 'degree': 5}. Best is trial 0 with value: 0.7121020277694982.\n",
            "[I 2023-07-02 16:51:35,033] Trial 23 finished with value: 0.0 and parameters: {'C': 6.359827722876437, 'gamma': 0.6371944136532858, 'kernel': 'rbf', 'degree': 3}. Best is trial 0 with value: 0.7121020277694982.\n",
            "[I 2023-07-02 16:51:35,840] Trial 24 finished with value: 0.7121020277694982 and parameters: {'C': 0.5036739013921628, 'gamma': 0.5949840137563595, 'kernel': 'linear', 'degree': 7}. Best is trial 0 with value: 0.7121020277694982.\n",
            "[I 2023-07-02 16:51:37,209] Trial 25 finished with value: 0.6101617344618291 and parameters: {'C': 1.8262276471494154, 'gamma': 0.6940283607214413, 'kernel': 'poly', 'degree': 3}. Best is trial 0 with value: 0.7121020277694982.\n",
            "[I 2023-07-02 16:51:39,454] Trial 26 finished with value: 0.0 and parameters: {'C': 9.254466820957772, 'gamma': 0.8785659598471712, 'kernel': 'rbf', 'degree': 6}. Best is trial 0 with value: 0.7121020277694982.\n",
            "[I 2023-07-02 16:51:41,022] Trial 27 finished with value: 0.392869795981233 and parameters: {'C': 2.4943376799144716, 'gamma': 0.10217174012784021, 'kernel': 'poly', 'degree': 5}. Best is trial 0 with value: 0.7121020277694982.\n",
            "[I 2023-07-02 16:51:41,833] Trial 28 finished with value: 0.7121020277694982 and parameters: {'C': 7.286961220815369, 'gamma': 0.8981391573530513, 'kernel': 'linear', 'degree': 3}. Best is trial 0 with value: 0.7121020277694982.\n",
            "[I 2023-07-02 16:51:44,192] Trial 29 finished with value: 0.0 and parameters: {'C': 8.995686466418084, 'gamma': 0.6103647690629941, 'kernel': 'rbf', 'degree': 3}. Best is trial 0 with value: 0.7121020277694982.\n",
            "[I 2023-07-02 16:51:46,560] Trial 30 finished with value: 0.0 and parameters: {'C': 5.532464514729202, 'gamma': 0.6949762457157663, 'kernel': 'rbf', 'degree': 4}. Best is trial 0 with value: 0.7121020277694982.\n",
            "[I 2023-07-02 16:51:47,445] Trial 31 finished with value: 0.7121020277694982 and parameters: {'C': 7.490264910668439, 'gamma': 0.6531365700567425, 'kernel': 'linear', 'degree': 5}. Best is trial 0 with value: 0.7121020277694982.\n",
            "[I 2023-07-02 16:51:48,344] Trial 32 finished with value: 0.7121020277694982 and parameters: {'C': 2.7255034400490823, 'gamma': 0.25154974694529275, 'kernel': 'linear', 'degree': 9}. Best is trial 0 with value: 0.7121020277694982.\n",
            "[I 2023-07-02 16:51:50,423] Trial 33 finished with value: 0.0 and parameters: {'C': 5.076107221741402, 'gamma': 0.5811348457800956, 'kernel': 'rbf', 'degree': 2}. Best is trial 0 with value: 0.7121020277694982.\n",
            "[I 2023-07-02 16:51:51,718] Trial 34 finished with value: 0.6825607557210885 and parameters: {'C': 6.490175729480962, 'gamma': 0.18533957261297845, 'kernel': 'poly', 'degree': 2}. Best is trial 0 with value: 0.7121020277694982.\n",
            "[I 2023-07-02 16:51:52,677] Trial 35 finished with value: 0.7121020277694982 and parameters: {'C': 9.29035376961848, 'gamma': 0.4339023068341412, 'kernel': 'linear', 'degree': 5}. Best is trial 0 with value: 0.7121020277694982.\n",
            "[I 2023-07-02 16:51:55,196] Trial 36 finished with value: 0.0 and parameters: {'C': 8.526253048016883, 'gamma': 0.3237527851047149, 'kernel': 'rbf', 'degree': 7}. Best is trial 0 with value: 0.7121020277694982.\n",
            "[I 2023-07-02 16:51:56,071] Trial 37 finished with value: 0.7121020277694982 and parameters: {'C': 1.0620472883306085, 'gamma': 0.618857154432178, 'kernel': 'linear', 'degree': 8}. Best is trial 0 with value: 0.7121020277694982.\n",
            "[I 2023-07-02 16:51:56,883] Trial 38 finished with value: 0.2544899257298104 and parameters: {'C': 7.000455835853153, 'gamma': 0.7054592431472382, 'kernel': 'sigmoid', 'degree': 9}. Best is trial 0 with value: 0.7121020277694982.\n",
            "[I 2023-07-02 16:51:58,543] Trial 39 finished with value: 0.22014147746395749 and parameters: {'C': 9.141081470309066, 'gamma': 0.5162289748723284, 'kernel': 'poly', 'degree': 9}. Best is trial 0 with value: 0.7121020277694982.\n",
            "[I 2023-07-02 16:52:00,568] Trial 40 finished with value: 0.0 and parameters: {'C': 8.911052883993907, 'gamma': 0.3446152052830205, 'kernel': 'rbf', 'degree': 6}. Best is trial 0 with value: 0.7121020277694982.\n",
            "[I 2023-07-02 16:52:01,426] Trial 41 finished with value: 0.27251611027482947 and parameters: {'C': 5.472181883605009, 'gamma': 0.29367583960700155, 'kernel': 'sigmoid', 'degree': 5}. Best is trial 0 with value: 0.7121020277694982.\n",
            "[I 2023-07-02 16:52:02,198] Trial 42 finished with value: 0.7121020277694982 and parameters: {'C': 1.3578990752536595, 'gamma': 0.5270208274542564, 'kernel': 'linear', 'degree': 2}. Best is trial 0 with value: 0.7121020277694982.\n",
            "[I 2023-07-02 16:52:04,232] Trial 43 finished with value: 0.0 and parameters: {'C': 5.360410852524665, 'gamma': 0.5452287703940054, 'kernel': 'rbf', 'degree': 4}. Best is trial 0 with value: 0.7121020277694982.\n",
            "[I 2023-07-02 16:52:05,123] Trial 44 finished with value: 0.2565282041705051 and parameters: {'C': 7.972343328210166, 'gamma': 0.27812392874945346, 'kernel': 'sigmoid', 'degree': 9}. Best is trial 0 with value: 0.7121020277694982.\n",
            "[I 2023-07-02 16:52:05,974] Trial 45 finished with value: 0.28886774633216167 and parameters: {'C': 6.9901446403276095, 'gamma': 0.4148634149701272, 'kernel': 'sigmoid', 'degree': 8}. Best is trial 0 with value: 0.7121020277694982.\n",
            "[I 2023-07-02 16:52:06,701] Trial 46 finished with value: 0.7121020277694982 and parameters: {'C': 6.635954029505539, 'gamma': 0.2871345579764834, 'kernel': 'linear', 'degree': 5}. Best is trial 0 with value: 0.7121020277694982.\n",
            "[I 2023-07-02 16:52:07,420] Trial 47 finished with value: 0.7121020277694982 and parameters: {'C': 2.552536796061459, 'gamma': 0.362412951864749, 'kernel': 'linear', 'degree': 2}. Best is trial 0 with value: 0.7121020277694982.\n",
            "[I 2023-07-02 16:52:09,415] Trial 48 finished with value: 0.0 and parameters: {'C': 8.56905978170897, 'gamma': 0.7066212807862234, 'kernel': 'rbf', 'degree': 3}. Best is trial 0 with value: 0.7121020277694982.\n",
            "[I 2023-07-02 16:52:10,993] Trial 49 finished with value: 0.2714476235104769 and parameters: {'C': 4.395131327455933, 'gamma': 0.4045196870533997, 'kernel': 'poly', 'degree': 7}. Best is trial 0 with value: 0.7121020277694982.\n",
            "[I 2023-07-02 16:52:11,832] Trial 50 finished with value: 0.7121020277694982 and parameters: {'C': 5.081048959942868, 'gamma': 0.857924942776439, 'kernel': 'linear', 'degree': 2}. Best is trial 0 with value: 0.7121020277694982.\n",
            "[I 2023-07-02 16:52:13,898] Trial 51 finished with value: 0.0 and parameters: {'C': 5.899178254607286, 'gamma': 0.940827939010708, 'kernel': 'rbf', 'degree': 6}. Best is trial 0 with value: 0.7121020277694982.\n",
            "[I 2023-07-02 16:52:14,600] Trial 52 finished with value: 0.7121020277694982 and parameters: {'C': 9.4205016068876, 'gamma': 0.39224161142276653, 'kernel': 'linear', 'degree': 2}. Best is trial 0 with value: 0.7121020277694982.\n",
            "[I 2023-07-02 16:52:15,666] Trial 53 finished with value: 0.2780803697049109 and parameters: {'C': 0.28039607395034233, 'gamma': 0.1034985311483691, 'kernel': 'sigmoid', 'degree': 2}. Best is trial 0 with value: 0.7121020277694982.\n",
            "[I 2023-07-02 16:52:16,502] Trial 54 finished with value: 0.26219395981729093 and parameters: {'C': 8.163237977630464, 'gamma': 0.28903622702566595, 'kernel': 'sigmoid', 'degree': 8}. Best is trial 0 with value: 0.7121020277694982.\n",
            "[I 2023-07-02 16:52:17,345] Trial 55 finished with value: 0.26878102673464566 and parameters: {'C': 8.05446121081, 'gamma': 0.28921422684559345, 'kernel': 'sigmoid', 'degree': 5}. Best is trial 0 with value: 0.7121020277694982.\n",
            "[I 2023-07-02 16:52:18,958] Trial 56 finished with value: 0.1969050847526656 and parameters: {'C': 3.782979049348554, 'gamma': 0.7786488311345768, 'kernel': 'poly', 'degree': 8}. Best is trial 0 with value: 0.7121020277694982.\n",
            "[I 2023-07-02 16:52:19,673] Trial 57 finished with value: 0.7121020277694982 and parameters: {'C': 7.5699744534383555, 'gamma': 0.11209263014757327, 'kernel': 'linear', 'degree': 10}. Best is trial 0 with value: 0.7121020277694982.\n",
            "[I 2023-07-02 16:52:20,355] Trial 58 finished with value: 0.4208164280853957 and parameters: {'C': 3.953096619468215, 'gamma': 0.020729274965495377, 'kernel': 'sigmoid', 'degree': 10}. Best is trial 0 with value: 0.7121020277694982.\n",
            "[I 2023-07-02 16:52:21,137] Trial 59 finished with value: 0.25201440403977976 and parameters: {'C': 5.777035092420532, 'gamma': 0.6355188400481013, 'kernel': 'sigmoid', 'degree': 8}. Best is trial 0 with value: 0.7121020277694982.\n",
            "[I 2023-07-02 16:52:21,930] Trial 60 finished with value: 0.24133709271653764 and parameters: {'C': 7.9366325328859, 'gamma': 0.7917219613666083, 'kernel': 'sigmoid', 'degree': 5}. Best is trial 0 with value: 0.7121020277694982.\n",
            "[I 2023-07-02 16:52:23,905] Trial 61 finished with value: 0.0 and parameters: {'C': 8.888271409307167, 'gamma': 0.3574058624265579, 'kernel': 'rbf', 'degree': 2}. Best is trial 0 with value: 0.7121020277694982.\n",
            "[I 2023-07-02 16:52:25,194] Trial 62 finished with value: 0.6825607557210885 and parameters: {'C': 0.9326573805384746, 'gamma': 0.7039594401445288, 'kernel': 'poly', 'degree': 2}. Best is trial 0 with value: 0.7121020277694982.\n",
            "[I 2023-07-02 16:52:26,016] Trial 63 finished with value: 0.2862912615441028 and parameters: {'C': 9.867731827161636, 'gamma': 0.3805280877985591, 'kernel': 'sigmoid', 'degree': 8}. Best is trial 0 with value: 0.7121020277694982.\n",
            "[I 2023-07-02 16:52:26,884] Trial 64 finished with value: 0.2916856543187202 and parameters: {'C': 3.824969896756066, 'gamma': 0.09266570953168207, 'kernel': 'sigmoid', 'degree': 3}. Best is trial 0 with value: 0.7121020277694982.\n",
            "[I 2023-07-02 16:52:27,581] Trial 65 finished with value: 0.7121020277694982 and parameters: {'C': 4.976988532479505, 'gamma': 0.021240108319744877, 'kernel': 'linear', 'degree': 7}. Best is trial 0 with value: 0.7121020277694982.\n",
            "[I 2023-07-02 16:52:28,300] Trial 66 finished with value: 0.7121020277694982 and parameters: {'C': 7.48584430472769, 'gamma': 0.587535077446188, 'kernel': 'linear', 'degree': 4}. Best is trial 0 with value: 0.7121020277694982.\n",
            "[I 2023-07-02 16:52:29,028] Trial 67 finished with value: 0.7121020277694982 and parameters: {'C': 9.635903140462052, 'gamma': 0.022032929942918177, 'kernel': 'linear', 'degree': 10}. Best is trial 0 with value: 0.7121020277694982.\n",
            "[I 2023-07-02 16:52:29,725] Trial 68 finished with value: 0.7121020277694982 and parameters: {'C': 0.8305859908804487, 'gamma': 0.5583157415573076, 'kernel': 'linear', 'degree': 6}. Best is trial 0 with value: 0.7121020277694982.\n",
            "[I 2023-07-02 16:52:30,509] Trial 69 finished with value: 0.26218923185390813 and parameters: {'C': 6.312824992832228, 'gamma': 0.5884711688038693, 'kernel': 'sigmoid', 'degree': 10}. Best is trial 0 with value: 0.7121020277694982.\n",
            "[I 2023-07-02 16:52:32,636] Trial 70 finished with value: 0.0 and parameters: {'C': 4.611001852578558, 'gamma': 0.6239312718235214, 'kernel': 'rbf', 'degree': 7}. Best is trial 0 with value: 0.7121020277694982.\n",
            "[I 2023-07-02 16:52:33,346] Trial 71 finished with value: 0.7121020277694982 and parameters: {'C': 0.8695729059533499, 'gamma': 0.9746508595895048, 'kernel': 'linear', 'degree': 9}. Best is trial 0 with value: 0.7121020277694982.\n",
            "[I 2023-07-02 16:52:35,275] Trial 72 finished with value: 0.0 and parameters: {'C': 6.878838608283405, 'gamma': 0.17099076995144238, 'kernel': 'rbf', 'degree': 7}. Best is trial 0 with value: 0.7121020277694982.\n",
            "[I 2023-07-02 16:52:36,018] Trial 73 finished with value: 0.7121020277694982 and parameters: {'C': 4.240606059277127, 'gamma': 0.9334011985204731, 'kernel': 'linear', 'degree': 9}. Best is trial 0 with value: 0.7121020277694982.\n",
            "[I 2023-07-02 16:52:37,987] Trial 74 finished with value: 0.0 and parameters: {'C': 9.87403368021795, 'gamma': 0.15891272219249292, 'kernel': 'rbf', 'degree': 9}. Best is trial 0 with value: 0.7121020277694982.\n",
            "[I 2023-07-02 16:52:39,943] Trial 75 finished with value: 0.0 and parameters: {'C': 4.740062281970205, 'gamma': 0.42067130731428853, 'kernel': 'rbf', 'degree': 10}. Best is trial 0 with value: 0.7121020277694982.\n",
            "[I 2023-07-02 16:52:41,475] Trial 76 finished with value: 0.2881926829022229 and parameters: {'C': 9.966704687031664, 'gamma': 0.5598773885466012, 'kernel': 'poly', 'degree': 6}. Best is trial 0 with value: 0.7121020277694982.\n",
            "[I 2023-07-02 16:52:43,512] Trial 77 finished with value: 0.0 and parameters: {'C': 1.3786782099998005, 'gamma': 0.9545105169861352, 'kernel': 'rbf', 'degree': 5}. Best is trial 0 with value: 0.7121020277694982.\n",
            "[I 2023-07-02 16:52:44,315] Trial 78 finished with value: 0.26950111428622114 and parameters: {'C': 1.2242201627763274, 'gamma': 0.6748574636368716, 'kernel': 'sigmoid', 'degree': 6}. Best is trial 0 with value: 0.7121020277694982.\n",
            "[I 2023-07-02 16:52:45,081] Trial 79 finished with value: 0.2481587733056033 and parameters: {'C': 5.653285918200324, 'gamma': 0.8778870666317615, 'kernel': 'sigmoid', 'degree': 7}. Best is trial 0 with value: 0.7121020277694982.\n",
            "[I 2023-07-02 16:52:45,942] Trial 80 finished with value: 0.2984651120848853 and parameters: {'C': 7.070389704182313, 'gamma': 0.22083451989382163, 'kernel': 'sigmoid', 'degree': 5}. Best is trial 0 with value: 0.7121020277694982.\n",
            "[I 2023-07-02 16:52:47,975] Trial 81 finished with value: 0.0 and parameters: {'C': 4.431001728034918, 'gamma': 0.9051171075488109, 'kernel': 'rbf', 'degree': 7}. Best is trial 0 with value: 0.7121020277694982.\n",
            "[I 2023-07-02 16:52:49,640] Trial 82 finished with value: 0.2881926829022229 and parameters: {'C': 8.637400716592778, 'gamma': 0.9500254174210657, 'kernel': 'poly', 'degree': 6}. Best is trial 0 with value: 0.7121020277694982.\n",
            "[I 2023-07-02 16:52:50,912] Trial 83 finished with value: 0.6101617344618291 and parameters: {'C': 9.802322495326223, 'gamma': 0.4976919130529409, 'kernel': 'poly', 'degree': 3}. Best is trial 0 with value: 0.7121020277694982.\n",
            "[I 2023-07-02 16:52:52,720] Trial 84 finished with value: 0.15094632625568793 and parameters: {'C': 1.3676538056819474, 'gamma': 0.1603836665771714, 'kernel': 'poly', 'degree': 10}. Best is trial 0 with value: 0.7121020277694982.\n",
            "[I 2023-07-02 16:52:54,365] Trial 85 finished with value: 0.4461478716068825 and parameters: {'C': 4.792220238602436, 'gamma': 0.6708821611358169, 'kernel': 'poly', 'degree': 4}. Best is trial 0 with value: 0.7121020277694982.\n",
            "[I 2023-07-02 16:52:56,092] Trial 86 finished with value: 0.2881926829022229 and parameters: {'C': 1.8524037943397935, 'gamma': 0.09781550841948505, 'kernel': 'poly', 'degree': 6}. Best is trial 0 with value: 0.7121020277694982.\n",
            "[I 2023-07-02 16:52:56,929] Trial 87 finished with value: 0.32171912523194257 and parameters: {'C': 6.934908803430717, 'gamma': 0.04891901844268795, 'kernel': 'sigmoid', 'degree': 10}. Best is trial 0 with value: 0.7121020277694982.\n",
            "[I 2023-07-02 16:52:57,623] Trial 88 finished with value: 0.7121020277694982 and parameters: {'C': 0.7046718025631511, 'gamma': 0.2841088716657317, 'kernel': 'linear', 'degree': 5}. Best is trial 0 with value: 0.7121020277694982.\n",
            "[I 2023-07-02 16:52:59,588] Trial 89 finished with value: 0.0 and parameters: {'C': 4.896777553391111, 'gamma': 0.622072223814993, 'kernel': 'rbf', 'degree': 4}. Best is trial 0 with value: 0.7121020277694982.\n",
            "[I 2023-07-02 16:53:01,158] Trial 90 finished with value: 0.2881926829022229 and parameters: {'C': 7.162160900257069, 'gamma': 0.8962547693103273, 'kernel': 'poly', 'degree': 6}. Best is trial 0 with value: 0.7121020277694982.\n",
            "[I 2023-07-02 16:53:01,862] Trial 91 finished with value: 0.7121020277694982 and parameters: {'C': 2.500457985983824, 'gamma': 0.2765507986398872, 'kernel': 'linear', 'degree': 4}. Best is trial 0 with value: 0.7121020277694982.\n",
            "[I 2023-07-02 16:53:03,977] Trial 92 finished with value: 0.0 and parameters: {'C': 1.2856451050105873, 'gamma': 0.891622007932496, 'kernel': 'rbf', 'degree': 2}. Best is trial 0 with value: 0.7121020277694982.\n",
            "[I 2023-07-02 16:53:04,673] Trial 93 finished with value: 0.7121020277694982 and parameters: {'C': 5.417354764003623, 'gamma': 0.5909727068406704, 'kernel': 'linear', 'degree': 5}. Best is trial 0 with value: 0.7121020277694982.\n",
            "[I 2023-07-02 16:53:05,882] Trial 94 finished with value: 0.6825607557210885 and parameters: {'C': 6.494580689182852, 'gamma': 0.5750705216222227, 'kernel': 'poly', 'degree': 2}. Best is trial 0 with value: 0.7121020277694982.\n",
            "[I 2023-07-02 16:53:07,846] Trial 95 finished with value: 0.0 and parameters: {'C': 1.6133054779248872, 'gamma': 0.25349815110066304, 'kernel': 'rbf', 'degree': 10}. Best is trial 0 with value: 0.7121020277694982.\n",
            "[I 2023-07-02 16:53:09,567] Trial 96 finished with value: 0.15094632625568793 and parameters: {'C': 0.8943140820502579, 'gamma': 0.5292662756745521, 'kernel': 'poly', 'degree': 10}. Best is trial 0 with value: 0.7121020277694982.\n",
            "[I 2023-07-02 16:53:10,338] Trial 97 finished with value: 0.25690480942671856 and parameters: {'C': 8.668520546350404, 'gamma': 0.8189013502397872, 'kernel': 'sigmoid', 'degree': 7}. Best is trial 0 with value: 0.7121020277694982.\n",
            "[I 2023-07-02 16:53:11,023] Trial 98 finished with value: 0.7121020277694982 and parameters: {'C': 5.758965625752008, 'gamma': 0.28717930272368136, 'kernel': 'linear', 'degree': 6}. Best is trial 0 with value: 0.7121020277694982.\n",
            "[I 2023-07-02 16:53:11,736] Trial 99 finished with value: 0.7121020277694982 and parameters: {'C': 2.4998563509092944, 'gamma': 0.1236884564918115, 'kernel': 'linear', 'degree': 6}. Best is trial 0 with value: 0.7121020277694982.\n"
          ]
        }
      ],
      "source": [
        "# Define the Optuna study\n",
        "study = optuna.create_study(direction='maximize',sampler=RandomSampler(seed=42))\n",
        "study.optimize(objective_SVC, n_trials=100)"
      ]
    },
    {
      "cell_type": "code",
      "execution_count": null,
      "metadata": {
        "id": "5u3rIhwUta1s"
      },
      "outputs": [],
      "source": [
        "# Get the best hyperparameters from Optuna\n",
        "best_params = study.best_params"
      ]
    },
    {
      "cell_type": "code",
      "execution_count": null,
      "metadata": {
        "id": "sOU9EHAHta1t",
        "outputId": "ea351138-b1b3-46c6-93c4-fc0a982a03aa"
      },
      "outputs": [
        {
          "data": {
            "text/plain": [
              "{'C': 3.807947176588889,\n",
              " 'gamma': 0.951207163345817,\n",
              " 'kernel': 'linear',\n",
              " 'degree': 2}"
            ]
          },
          "execution_count": 12,
          "metadata": {},
          "output_type": "execute_result"
        }
      ],
      "source": [
        "best_params #42 random seed"
      ]
    },
    {
      "cell_type": "markdown",
      "metadata": {
        "id": "OFTJgAL8ta1t"
      },
      "source": [
        "#### Get best parameters and make predictions"
      ]
    },
    {
      "cell_type": "code",
      "execution_count": null,
      "metadata": {
        "id": "HZCZlO8Qta1u"
      },
      "outputs": [],
      "source": [
        "selected_features_indices = [i for i, value in enumerate(best_features) if value]\n",
        "X_test_selected = X_test[:, selected_features_indices]"
      ]
    },
    {
      "cell_type": "code",
      "execution_count": null,
      "metadata": {
        "id": "Q0XK_9Hfta1u"
      },
      "outputs": [],
      "source": [
        "X_train_val_selected_final_features = X_train_val[:, selected_features_indices]"
      ]
    },
    {
      "cell_type": "code",
      "execution_count": null,
      "metadata": {
        "id": "hNXTO_nGta1v",
        "outputId": "a3030435-57ea-4954-9974-dc8c4e56d31a"
      },
      "outputs": [
        {
          "data": {
            "text/plain": [
              "(286, 300)"
            ]
          },
          "execution_count": 15,
          "metadata": {},
          "output_type": "execute_result"
        }
      ],
      "source": [
        "X_test_selected.shape"
      ]
    },
    {
      "cell_type": "code",
      "execution_count": null,
      "metadata": {
        "id": "4gilYuMbta1v"
      },
      "outputs": [],
      "source": [
        "best_classifier_SVC = SVC(C= 3.807947176588889,gamma= 0.951207163345817,kernel= 'linear',degree= 2)"
      ]
    },
    {
      "cell_type": "code",
      "execution_count": null,
      "metadata": {
        "id": "t1eaoQdNta1v",
        "outputId": "8be82b4d-7892-4010-a009-a8b4c91c08b4"
      },
      "outputs": [
        {
          "data": {
            "text/plain": [
              "SVC(C=3.807947176588889, degree=2, gamma=0.951207163345817, kernel='linear')"
            ]
          },
          "execution_count": 22,
          "metadata": {},
          "output_type": "execute_result"
        }
      ],
      "source": [
        "best_classifier_SVC.fit(X_train_val_selected_final_features, y_train_val)"
      ]
    },
    {
      "cell_type": "code",
      "execution_count": null,
      "metadata": {
        "id": "cdp5sh8mta1w"
      },
      "outputs": [],
      "source": [
        "y_test_pred = best_classifier_SVC.predict(X_test_selected)"
      ]
    },
    {
      "cell_type": "code",
      "execution_count": null,
      "metadata": {
        "id": "sMQoVFHJta1w"
      },
      "outputs": [],
      "source": [
        "balanced_acc_SVC = balanced_accuracy_score(y_test, y_test_pred)\n",
        "recall_SVC = recall_score(y_test, y_test_pred, average='weighted')\n",
        "f1_SVC = f1_score(y_test, y_test_pred, average='weighted')\n",
        "precision_SVC = precision_score(y_test, y_test_pred, average='weighted')"
      ]
    },
    {
      "cell_type": "code",
      "execution_count": null,
      "metadata": {
        "id": "pnk72_5gta1w",
        "outputId": "28771e7b-dc7c-4d4d-aa48-4ef5484e4625"
      },
      "outputs": [
        {
          "name": "stdout",
          "output_type": "stream",
          "text": [
            "Support Vector Machines\n",
            "\n",
            "Accuracy: 0.7587412587412588\n",
            "F1 Score: 0.7569953910318524\n",
            "Precision: 0.767091877238814\n",
            "Recall: 0.7587412587412588\n"
          ]
        }
      ],
      "source": [
        "print(\"Support Vector Machines\\n\")\n",
        "print(\"Accuracy:\", balanced_acc_SVC)\n",
        "print(\"F1 Score:\", f1_SVC)\n",
        "print(\"Precision:\", precision_SVC)\n",
        "print(\"Recall:\", recall_SVC)"
      ]
    },
    {
      "cell_type": "code",
      "execution_count": null,
      "metadata": {
        "id": "EBLeU8aFta1x",
        "outputId": "51baa6e3-3b8b-431d-bc11-8403d890b389"
      },
      "outputs": [
        {
          "name": "stdout",
          "output_type": "stream",
          "text": [
            "[ 68 228 133 147 150  60 103 233 117  57 264  94 226 121 122  25  23 290\n",
            " 131 223]\n"
          ]
        }
      ],
      "source": [
        "# Get the coefficients of the best SVM classifier\n",
        "coefs = best_classifier_SVC.coef_\n",
        "\n",
        "# Calculate the absolute values of the coefficients\n",
        "abs_coefs = np.abs(coefs)\n",
        "\n",
        "# Get the top 20 indices of the absolute coefficient values\n",
        "top20_indices = np.argsort(abs_coefs[0])[::-1][:20]\n",
        "\n",
        "# Print the top 20 indices\n",
        "print(top20_indices)"
      ]
    },
    {
      "cell_type": "code",
      "execution_count": null,
      "metadata": {
        "id": "w0i_GIRYta1x"
      },
      "outputs": [],
      "source": [
        "top20_indices_SVC= pd.Series(top20_indices).sort_values(ascending=False)"
      ]
    },
    {
      "cell_type": "code",
      "execution_count": null,
      "metadata": {
        "id": "2qMyzdCbta1x",
        "outputId": "0150904c-782e-4372-dfab-fd6bf9485168"
      },
      "outputs": [
        {
          "data": {
            "text/html": [
              "<div>\n",
              "<style scoped>\n",
              "    .dataframe tbody tr th:only-of-type {\n",
              "        vertical-align: middle;\n",
              "    }\n",
              "\n",
              "    .dataframe tbody tr th {\n",
              "        vertical-align: top;\n",
              "    }\n",
              "\n",
              "    .dataframe thead th {\n",
              "        text-align: right;\n",
              "    }\n",
              "</style>\n",
              "<table border=\"1\" class=\"dataframe\">\n",
              "  <thead>\n",
              "    <tr style=\"text-align: right;\">\n",
              "      <th></th>\n",
              "      <th>ENSG00000205542</th>\n",
              "      <th>ENSG00000198804</th>\n",
              "      <th>ENSG00000167996</th>\n",
              "      <th>ENSG00000198712</th>\n",
              "      <th>ENSG00000156508</th>\n",
              "      <th>ENSG00000087086</th>\n",
              "      <th>ENSG00000075624</th>\n",
              "      <th>ENSG00000229117</th>\n",
              "      <th>ENSG00000026025</th>\n",
              "      <th>ENSG00000140988</th>\n",
              "      <th>...</th>\n",
              "      <th>ENSG00000116209</th>\n",
              "      <th>ENSG00000205929</th>\n",
              "      <th>ENSG00000066279</th>\n",
              "      <th>ENSG00000141526</th>\n",
              "      <th>ENSG00000103811</th>\n",
              "      <th>ENSG00000138083</th>\n",
              "      <th>ENSG00000130208</th>\n",
              "      <th>ENSG00000100592</th>\n",
              "      <th>ENSG00000168280</th>\n",
              "      <th>ENSG00000168461</th>\n",
              "    </tr>\n",
              "  </thead>\n",
              "  <tbody>\n",
              "    <tr>\n",
              "      <th>0</th>\n",
              "      <td>32962.305</td>\n",
              "      <td>9065.20200</td>\n",
              "      <td>8240.5760</td>\n",
              "      <td>5350.2246</td>\n",
              "      <td>4735.2563</td>\n",
              "      <td>5042.7400</td>\n",
              "      <td>4950.4950</td>\n",
              "      <td>9255.0700</td>\n",
              "      <td>3659.0615</td>\n",
              "      <td>5749.6270</td>\n",
              "      <td>...</td>\n",
              "      <td>122.99367</td>\n",
              "      <td>162.75223</td>\n",
              "      <td>153.742080</td>\n",
              "      <td>184.49051</td>\n",
              "      <td>0.000000</td>\n",
              "      <td>215.23892</td>\n",
              "      <td>92.245255</td>\n",
              "      <td>0.000000</td>\n",
              "      <td>92.245255</td>\n",
              "      <td>0.000000</td>\n",
              "    </tr>\n",
              "    <tr>\n",
              "      <th>1</th>\n",
              "      <td>34861.200</td>\n",
              "      <td>0.00000</td>\n",
              "      <td>5579.0670</td>\n",
              "      <td>0.0000</td>\n",
              "      <td>16139.4430</td>\n",
              "      <td>4519.0444</td>\n",
              "      <td>3873.4666</td>\n",
              "      <td>12696.3620</td>\n",
              "      <td>3443.0813</td>\n",
              "      <td>7962.1255</td>\n",
              "      <td>...</td>\n",
              "      <td>0.00000</td>\n",
              "      <td>0.00000</td>\n",
              "      <td>0.000000</td>\n",
              "      <td>0.00000</td>\n",
              "      <td>0.000000</td>\n",
              "      <td>0.00000</td>\n",
              "      <td>215.192580</td>\n",
              "      <td>0.000000</td>\n",
              "      <td>0.000000</td>\n",
              "      <td>0.000000</td>\n",
              "    </tr>\n",
              "    <tr>\n",
              "      <th>2</th>\n",
              "      <td>17791.770</td>\n",
              "      <td>9193.14500</td>\n",
              "      <td>4845.0840</td>\n",
              "      <td>3431.0170</td>\n",
              "      <td>13334.9840</td>\n",
              "      <td>4739.7560</td>\n",
              "      <td>1061.1393</td>\n",
              "      <td>14643.7230</td>\n",
              "      <td>2193.0212</td>\n",
              "      <td>12343.2730</td>\n",
              "      <td>...</td>\n",
              "      <td>0.00000</td>\n",
              "      <td>187.77211</td>\n",
              "      <td>0.000000</td>\n",
              "      <td>35.37131</td>\n",
              "      <td>0.000000</td>\n",
              "      <td>106.11394</td>\n",
              "      <td>35.371310</td>\n",
              "      <td>35.371310</td>\n",
              "      <td>0.000000</td>\n",
              "      <td>70.742620</td>\n",
              "    </tr>\n",
              "    <tr>\n",
              "      <th>3</th>\n",
              "      <td>26513.914</td>\n",
              "      <td>10016.36700</td>\n",
              "      <td>7070.3770</td>\n",
              "      <td>5564.6484</td>\n",
              "      <td>10540.0990</td>\n",
              "      <td>4058.9202</td>\n",
              "      <td>3404.2556</td>\n",
              "      <td>7725.0415</td>\n",
              "      <td>8837.9720</td>\n",
              "      <td>7200.7144</td>\n",
              "      <td>...</td>\n",
              "      <td>196.39935</td>\n",
              "      <td>0.00000</td>\n",
              "      <td>0.000000</td>\n",
              "      <td>0.00000</td>\n",
              "      <td>65.466450</td>\n",
              "      <td>0.00000</td>\n",
              "      <td>0.000000</td>\n",
              "      <td>0.000000</td>\n",
              "      <td>0.000000</td>\n",
              "      <td>65.466450</td>\n",
              "    </tr>\n",
              "    <tr>\n",
              "      <th>4</th>\n",
              "      <td>30791.666</td>\n",
              "      <td>18116.04300</td>\n",
              "      <td>7291.2870</td>\n",
              "      <td>7347.3735</td>\n",
              "      <td>5664.7690</td>\n",
              "      <td>5384.3350</td>\n",
              "      <td>2636.0806</td>\n",
              "      <td>8469.1100</td>\n",
              "      <td>3140.8620</td>\n",
              "      <td>4935.0034</td>\n",
              "      <td>...</td>\n",
              "      <td>168.26047</td>\n",
              "      <td>280.43410</td>\n",
              "      <td>0.000000</td>\n",
              "      <td>168.26047</td>\n",
              "      <td>112.173645</td>\n",
              "      <td>280.43410</td>\n",
              "      <td>0.000000</td>\n",
              "      <td>112.173645</td>\n",
              "      <td>56.086823</td>\n",
              "      <td>0.000000</td>\n",
              "    </tr>\n",
              "    <tr>\n",
              "      <th>...</th>\n",
              "      <td>...</td>\n",
              "      <td>...</td>\n",
              "      <td>...</td>\n",
              "      <td>...</td>\n",
              "      <td>...</td>\n",
              "      <td>...</td>\n",
              "      <td>...</td>\n",
              "      <td>...</td>\n",
              "      <td>...</td>\n",
              "      <td>...</td>\n",
              "      <td>...</td>\n",
              "      <td>...</td>\n",
              "      <td>...</td>\n",
              "      <td>...</td>\n",
              "      <td>...</td>\n",
              "      <td>...</td>\n",
              "      <td>...</td>\n",
              "      <td>...</td>\n",
              "      <td>...</td>\n",
              "      <td>...</td>\n",
              "      <td>...</td>\n",
              "    </tr>\n",
              "    <tr>\n",
              "      <th>1422</th>\n",
              "      <td>20833.332</td>\n",
              "      <td>11986.30100</td>\n",
              "      <td>5707.7627</td>\n",
              "      <td>6849.3150</td>\n",
              "      <td>6563.9270</td>\n",
              "      <td>5707.7627</td>\n",
              "      <td>3139.2693</td>\n",
              "      <td>14554.7940</td>\n",
              "      <td>1141.5525</td>\n",
              "      <td>12557.0770</td>\n",
              "      <td>...</td>\n",
              "      <td>0.00000</td>\n",
              "      <td>0.00000</td>\n",
              "      <td>285.388120</td>\n",
              "      <td>0.00000</td>\n",
              "      <td>0.000000</td>\n",
              "      <td>0.00000</td>\n",
              "      <td>285.388120</td>\n",
              "      <td>0.000000</td>\n",
              "      <td>0.000000</td>\n",
              "      <td>285.388120</td>\n",
              "    </tr>\n",
              "    <tr>\n",
              "      <th>1423</th>\n",
              "      <td>73876.350</td>\n",
              "      <td>172.20595</td>\n",
              "      <td>13776.4760</td>\n",
              "      <td>0.0000</td>\n",
              "      <td>5510.5903</td>\n",
              "      <td>9126.9150</td>\n",
              "      <td>18598.2420</td>\n",
              "      <td>10160.1510</td>\n",
              "      <td>7577.0615</td>\n",
              "      <td>7232.6500</td>\n",
              "      <td>...</td>\n",
              "      <td>0.00000</td>\n",
              "      <td>0.00000</td>\n",
              "      <td>0.000000</td>\n",
              "      <td>0.00000</td>\n",
              "      <td>0.000000</td>\n",
              "      <td>0.00000</td>\n",
              "      <td>0.000000</td>\n",
              "      <td>0.000000</td>\n",
              "      <td>0.000000</td>\n",
              "      <td>0.000000</td>\n",
              "    </tr>\n",
              "    <tr>\n",
              "      <th>1424</th>\n",
              "      <td>22690.557</td>\n",
              "      <td>14539.58000</td>\n",
              "      <td>3524.7466</td>\n",
              "      <td>4038.7722</td>\n",
              "      <td>10060.2140</td>\n",
              "      <td>2570.1277</td>\n",
              "      <td>3671.6110</td>\n",
              "      <td>8003.4385</td>\n",
              "      <td>6094.8745</td>\n",
              "      <td>8224.4080</td>\n",
              "      <td>...</td>\n",
              "      <td>73.43222</td>\n",
              "      <td>168.90608</td>\n",
              "      <td>73.432220</td>\n",
              "      <td>0.00000</td>\n",
              "      <td>0.000000</td>\n",
              "      <td>0.00000</td>\n",
              "      <td>0.000000</td>\n",
              "      <td>0.000000</td>\n",
              "      <td>73.432220</td>\n",
              "      <td>0.000000</td>\n",
              "    </tr>\n",
              "    <tr>\n",
              "      <th>1425</th>\n",
              "      <td>54775.516</td>\n",
              "      <td>5771.68550</td>\n",
              "      <td>11874.2080</td>\n",
              "      <td>2830.3457</td>\n",
              "      <td>6992.6187</td>\n",
              "      <td>11654.3640</td>\n",
              "      <td>8047.0615</td>\n",
              "      <td>8713.0250</td>\n",
              "      <td>6160.1640</td>\n",
              "      <td>7714.0796</td>\n",
              "      <td>...</td>\n",
              "      <td>110.99395</td>\n",
              "      <td>154.55519</td>\n",
              "      <td>0.000000</td>\n",
              "      <td>443.97580</td>\n",
              "      <td>110.993950</td>\n",
              "      <td>388.47882</td>\n",
              "      <td>0.000000</td>\n",
              "      <td>110.993950</td>\n",
              "      <td>110.993950</td>\n",
              "      <td>55.496975</td>\n",
              "    </tr>\n",
              "    <tr>\n",
              "      <th>1426</th>\n",
              "      <td>15493.742</td>\n",
              "      <td>8285.11500</td>\n",
              "      <td>4150.8433</td>\n",
              "      <td>3748.4860</td>\n",
              "      <td>9015.5320</td>\n",
              "      <td>5151.7656</td>\n",
              "      <td>2383.6526</td>\n",
              "      <td>7515.4080</td>\n",
              "      <td>4632.7440</td>\n",
              "      <td>7939.0547</td>\n",
              "      <td>...</td>\n",
              "      <td>173.00705</td>\n",
              "      <td>38.44601</td>\n",
              "      <td>57.669014</td>\n",
              "      <td>115.33803</td>\n",
              "      <td>19.223005</td>\n",
              "      <td>153.78404</td>\n",
              "      <td>0.000000</td>\n",
              "      <td>96.115030</td>\n",
              "      <td>57.669014</td>\n",
              "      <td>134.561040</td>\n",
              "    </tr>\n",
              "  </tbody>\n",
              "</table>\n",
              "<p>1427 rows × 300 columns</p>\n",
              "</div>"
            ],
            "text/plain": [
              "      ENSG00000205542  ENSG00000198804  ENSG00000167996  ENSG00000198712  \\\n",
              "0           32962.305       9065.20200        8240.5760        5350.2246   \n",
              "1           34861.200          0.00000        5579.0670           0.0000   \n",
              "2           17791.770       9193.14500        4845.0840        3431.0170   \n",
              "3           26513.914      10016.36700        7070.3770        5564.6484   \n",
              "4           30791.666      18116.04300        7291.2870        7347.3735   \n",
              "...               ...              ...              ...              ...   \n",
              "1422        20833.332      11986.30100        5707.7627        6849.3150   \n",
              "1423        73876.350        172.20595       13776.4760           0.0000   \n",
              "1424        22690.557      14539.58000        3524.7466        4038.7722   \n",
              "1425        54775.516       5771.68550       11874.2080        2830.3457   \n",
              "1426        15493.742       8285.11500        4150.8433        3748.4860   \n",
              "\n",
              "      ENSG00000156508  ENSG00000087086  ENSG00000075624  ENSG00000229117  \\\n",
              "0           4735.2563        5042.7400        4950.4950        9255.0700   \n",
              "1          16139.4430        4519.0444        3873.4666       12696.3620   \n",
              "2          13334.9840        4739.7560        1061.1393       14643.7230   \n",
              "3          10540.0990        4058.9202        3404.2556        7725.0415   \n",
              "4           5664.7690        5384.3350        2636.0806        8469.1100   \n",
              "...               ...              ...              ...              ...   \n",
              "1422        6563.9270        5707.7627        3139.2693       14554.7940   \n",
              "1423        5510.5903        9126.9150       18598.2420       10160.1510   \n",
              "1424       10060.2140        2570.1277        3671.6110        8003.4385   \n",
              "1425        6992.6187       11654.3640        8047.0615        8713.0250   \n",
              "1426        9015.5320        5151.7656        2383.6526        7515.4080   \n",
              "\n",
              "      ENSG00000026025  ENSG00000140988  ...  ENSG00000116209  ENSG00000205929  \\\n",
              "0           3659.0615        5749.6270  ...        122.99367        162.75223   \n",
              "1           3443.0813        7962.1255  ...          0.00000          0.00000   \n",
              "2           2193.0212       12343.2730  ...          0.00000        187.77211   \n",
              "3           8837.9720        7200.7144  ...        196.39935          0.00000   \n",
              "4           3140.8620        4935.0034  ...        168.26047        280.43410   \n",
              "...               ...              ...  ...              ...              ...   \n",
              "1422        1141.5525       12557.0770  ...          0.00000          0.00000   \n",
              "1423        7577.0615        7232.6500  ...          0.00000          0.00000   \n",
              "1424        6094.8745        8224.4080  ...         73.43222        168.90608   \n",
              "1425        6160.1640        7714.0796  ...        110.99395        154.55519   \n",
              "1426        4632.7440        7939.0547  ...        173.00705         38.44601   \n",
              "\n",
              "      ENSG00000066279  ENSG00000141526  ENSG00000103811  ENSG00000138083  \\\n",
              "0          153.742080        184.49051         0.000000        215.23892   \n",
              "1            0.000000          0.00000         0.000000          0.00000   \n",
              "2            0.000000         35.37131         0.000000        106.11394   \n",
              "3            0.000000          0.00000        65.466450          0.00000   \n",
              "4            0.000000        168.26047       112.173645        280.43410   \n",
              "...               ...              ...              ...              ...   \n",
              "1422       285.388120          0.00000         0.000000          0.00000   \n",
              "1423         0.000000          0.00000         0.000000          0.00000   \n",
              "1424        73.432220          0.00000         0.000000          0.00000   \n",
              "1425         0.000000        443.97580       110.993950        388.47882   \n",
              "1426        57.669014        115.33803        19.223005        153.78404   \n",
              "\n",
              "      ENSG00000130208  ENSG00000100592  ENSG00000168280  ENSG00000168461  \n",
              "0           92.245255         0.000000        92.245255         0.000000  \n",
              "1          215.192580         0.000000         0.000000         0.000000  \n",
              "2           35.371310        35.371310         0.000000        70.742620  \n",
              "3            0.000000         0.000000         0.000000        65.466450  \n",
              "4            0.000000       112.173645        56.086823         0.000000  \n",
              "...               ...              ...              ...              ...  \n",
              "1422       285.388120         0.000000         0.000000       285.388120  \n",
              "1423         0.000000         0.000000         0.000000         0.000000  \n",
              "1424         0.000000         0.000000        73.432220         0.000000  \n",
              "1425         0.000000       110.993950       110.993950        55.496975  \n",
              "1426         0.000000        96.115030        57.669014       134.561040  \n",
              "\n",
              "[1427 rows x 300 columns]"
            ]
          },
          "execution_count": 27,
          "metadata": {},
          "output_type": "execute_result"
        }
      ],
      "source": [
        "# Filter the DataFrame using the boolean array\n",
        "data_filtered_features = df_filtered.iloc[:,1:-9].iloc[:, best_features]\n",
        "\n",
        "# Print the filtered DataFrame\n",
        "data_filtered_features\n"
      ]
    },
    {
      "cell_type": "code",
      "execution_count": null,
      "metadata": {
        "id": "rPEHMJsCta1x"
      },
      "outputs": [],
      "source": [
        "# Get the column names corresponding to the series indices\n",
        "column_names_SVC = data_filtered_features.columns[top20_indices_SVC.index]\n"
      ]
    },
    {
      "cell_type": "code",
      "execution_count": null,
      "metadata": {
        "id": "UOJ7xscUta1y",
        "outputId": "2df87734-057d-449d-fdf5-a141b9a784cc"
      },
      "outputs": [
        {
          "name": "stdout",
          "output_type": "stream",
          "text": [
            "Index(['ENSG00000167526', 'ENSG00000198918', 'ENSG00000229117',\n",
            "       'ENSG00000198804', 'ENSG00000198938', 'ENSG00000147604',\n",
            "       'ENSG00000156508', 'ENSG00000198712', 'ENSG00000167996',\n",
            "       'ENSG00000198034', 'ENSG00000105372', 'ENSG00000034510',\n",
            "       'ENSG00000026025', 'ENSG00000075624', 'ENSG00000111640',\n",
            "       'ENSG00000205542', 'ENSG00000087086', 'ENSG00000140988',\n",
            "       'ENSG00000145425', 'ENSG00000198886'],\n",
            "      dtype='object')\n"
          ]
        }
      ],
      "source": [
        "\n",
        "# Print the column names\n",
        "print(column_names_SVC)"
      ]
    },
    {
      "cell_type": "markdown",
      "metadata": {
        "id": "TYhpLC0vta1y"
      },
      "source": [
        "## Random Forests"
      ]
    },
    {
      "cell_type": "markdown",
      "metadata": {
        "id": "NqJtgKWrta1y"
      },
      "source": [
        "#### Cross val for hyperparameter tunning and feature selection"
      ]
    },
    {
      "cell_type": "code",
      "execution_count": null,
      "metadata": {
        "id": "StMUCiNita1y",
        "outputId": "0980e377-901c-492a-e2e4-b00fee071769"
      },
      "outputs": [
        {
          "name": "stdout",
          "output_type": "stream",
          "text": [
            "Random Forests\n"
          ]
        }
      ],
      "source": [
        "# Define the number of folds for cross-validation\n",
        "n_folds = 5"
      ]
    },
    {
      "cell_type": "code",
      "execution_count": null,
      "metadata": {
        "id": "pDXoTgkNta1z"
      },
      "outputs": [],
      "source": [
        "# Define the objective function for Optuna hyperparameter tuning\n",
        "def objective_RF(trial):\n",
        "  global best_features\n",
        "  # Define the hyperparameters to be optimized\n",
        "  n_estimators= trial.suggest_int('n_estimators', 100,1000)\n",
        "  max_depth= trial.suggest_int('max_depth', 5, 31)\n",
        "  min_samples_split= trial.suggest_int('min_samples_split', 2, 100)\n",
        "  min_samples_leaf= trial.suggest_int('min_samples_leaf', 1, 4)\n",
        "  bootstrap=trial.suggest_categorical('bootstrap', [True, False])\n",
        "\n",
        "  # Instantiate the classifier with the current hyperparameters\n",
        "  classifier = RandomForestClassifier(n_estimators=n_estimators, max_depth=max_depth,min_samples_split=min_samples_split,min_samples_leaf=min_samples_leaf,bootstrap=bootstrap)\n",
        "\n",
        "  # Perform cross-validation with feature selection\n",
        "  kf = StratifiedKFold(n_splits=n_folds, shuffle=True, random_state=42)\n",
        "  cv_scores = []\n",
        "  feature_selector = SelectKBest(score_func=f_classif, k=300)  # Adjust the number of features as desired\n",
        "  best_features = None\n",
        "\n",
        "  for train_index, val_index in kf.split(X_train_val, y_train_val):\n",
        "      X_train, X_val = X_train_val[train_index], X_train_val[val_index]\n",
        "      y_train, y_val = y_train_val[train_index], y_train_val[val_index]\n",
        "\n",
        "      # Perform feature selection on the training set\n",
        "      X_train_selected = feature_selector.fit_transform(X_train, y_train)\n",
        "      selected_features = feature_selector.get_support()\n",
        "\n",
        "      # Apply the same feature selection on the validation set\n",
        "      X_val_selected = X_val[:, selected_features]\n",
        "\n",
        "      # Fit the classifier on the selected features and evaluate on the validation set\n",
        "      classifier.fit(X_train_selected, y_train)\n",
        "      y_pred = classifier.predict(X_val_selected)\n",
        "      mcc = matthews_corrcoef(y_val, y_pred)\n",
        "      cv_scores.append(mcc)\n",
        "\n",
        "  # Calculate the average MCC\n",
        "  avg_mcc = np.mean(cv_scores)\n",
        "\n",
        "  if trial.should_prune()==False:\n",
        "    best_features = selected_features.copy()\n",
        "\n",
        "  return avg_mcc"
      ]
    },
    {
      "cell_type": "code",
      "execution_count": null,
      "metadata": {
        "id": "6tmxbbZjta1z",
        "outputId": "eb9097a7-b8ce-4296-8a7b-a7f769fcde72"
      },
      "outputs": [
        {
          "name": "stderr",
          "output_type": "stream",
          "text": [
            "[I 2023-07-02 17:06:50,368] A new study created in memory with name: no-name-06a0e236-0a62-45f3-8c28-d0351c5b65d4\n",
            "[I 2023-07-02 17:07:07,452] Trial 0 finished with value: 0.6738133989367663 and parameters: {'n_estimators': 437, 'max_depth': 30, 'min_samples_split': 74, 'min_samples_leaf': 3, 'bootstrap': True}. Best is trial 0 with value: 0.6738133989367663.\n",
            "[I 2023-07-02 17:07:17,890] Trial 1 finished with value: 0.7370747621819576 and parameters: {'n_estimators': 152, 'max_depth': 28, 'min_samples_split': 61, 'min_samples_leaf': 3, 'bootstrap': False}. Best is trial 1 with value: 0.7370747621819576.\n",
            "[I 2023-07-02 17:08:20,360] Trial 2 finished with value: 0.7675607422299493 and parameters: {'n_estimators': 850, 'max_depth': 10, 'min_samples_split': 20, 'min_samples_leaf': 1, 'bootstrap': False}. Best is trial 2 with value: 0.7675607422299493.\n",
            "[I 2023-07-02 17:08:52,288] Trial 3 finished with value: 0.7436525164478599 and parameters: {'n_estimators': 489, 'max_depth': 12, 'min_samples_split': 62, 'min_samples_leaf': 1, 'bootstrap': False}. Best is trial 2 with value: 0.7675607422299493.\n",
            "[I 2023-07-02 17:09:17,685] Trial 4 finished with value: 0.7555593377998007 and parameters: {'n_estimators': 510, 'max_depth': 26, 'min_samples_split': 21, 'min_samples_leaf': 3, 'bootstrap': True}. Best is trial 2 with value: 0.7675607422299493.\n",
            "[I 2023-07-02 17:09:48,446] Trial 5 finished with value: 0.755283693847271 and parameters: {'n_estimators': 647, 'max_depth': 9, 'min_samples_split': 8, 'min_samples_leaf': 4, 'bootstrap': True}. Best is trial 2 with value: 0.7675607422299493.\n",
            "[I 2023-07-02 17:10:11,212] Trial 6 finished with value: 0.6929716599201876 and parameters: {'n_estimators': 374, 'max_depth': 7, 'min_samples_split': 69, 'min_samples_leaf': 2, 'bootstrap': False}. Best is trial 2 with value: 0.7675607422299493.\n",
            "[I 2023-07-02 17:10:24,219] Trial 7 finished with value: 0.7689984894225101 and parameters: {'n_estimators': 130, 'max_depth': 29, 'min_samples_split': 27, 'min_samples_leaf': 3, 'bootstrap': False}. Best is trial 7 with value: 0.7689984894225101.\n",
            "[I 2023-07-02 17:10:47,346] Trial 8 finished with value: 0.6420162727355484 and parameters: {'n_estimators': 592, 'max_depth': 9, 'min_samples_split': 97, 'min_samples_leaf': 4, 'bootstrap': True}. Best is trial 7 with value: 0.7689984894225101.\n",
            "[I 2023-07-02 17:11:46,222] Trial 9 finished with value: 0.7897248877785188 and parameters: {'n_estimators': 638, 'max_depth': 29, 'min_samples_split': 10, 'min_samples_leaf': 1, 'bootstrap': False}. Best is trial 9 with value: 0.7897248877785188.\n",
            "[I 2023-07-02 17:12:12,252] Trial 10 finished with value: 0.7140881261986289 and parameters: {'n_estimators': 450, 'max_depth': 12, 'min_samples_split': 84, 'min_samples_leaf': 2, 'bootstrap': False}. Best is trial 9 with value: 0.7897248877785188.\n",
            "[I 2023-07-02 17:12:23,500] Trial 11 finished with value: 0.7670948174778695 and parameters: {'n_estimators': 226, 'max_depth': 26, 'min_samples_split': 9, 'min_samples_leaf': 4, 'bootstrap': True}. Best is trial 9 with value: 0.7897248877785188.\n",
            "[I 2023-07-02 17:12:27,697] Trial 12 finished with value: 0.6719191811106567 and parameters: {'n_estimators': 104, 'max_depth': 27, 'min_samples_split': 71, 'min_samples_leaf': 3, 'bootstrap': True}. Best is trial 9 with value: 0.7897248877785188.\n",
            "[I 2023-07-02 17:12:43,373] Trial 13 finished with value: 0.6542183901306962 and parameters: {'n_estimators': 422, 'max_depth': 8, 'min_samples_split': 87, 'min_samples_leaf': 3, 'bootstrap': True}. Best is trial 9 with value: 0.7897248877785188.\n",
            "[I 2023-07-02 17:12:57,756] Trial 14 finished with value: 0.6740704196470385 and parameters: {'n_estimators': 380, 'max_depth': 13, 'min_samples_split': 74, 'min_samples_leaf': 3, 'bootstrap': True}. Best is trial 9 with value: 0.7897248877785188.\n",
            "[I 2023-07-02 17:13:05,944] Trial 15 finished with value: 0.6754476559169839 and parameters: {'n_estimators': 207, 'max_depth': 24, 'min_samples_split': 77, 'min_samples_leaf': 3, 'bootstrap': True}. Best is trial 9 with value: 0.7897248877785188.\n",
            "[I 2023-07-02 17:14:02,330] Trial 16 finished with value: 0.7915663814314756 and parameters: {'n_estimators': 570, 'max_depth': 16, 'min_samples_split': 4, 'min_samples_leaf': 1, 'bootstrap': False}. Best is trial 16 with value: 0.7915663814314756.\n",
            "[I 2023-07-02 17:14:24,589] Trial 17 finished with value: 0.7092122101927251 and parameters: {'n_estimators': 383, 'max_depth': 18, 'min_samples_split': 91, 'min_samples_leaf': 1, 'bootstrap': False}. Best is trial 16 with value: 0.7915663814314756.\n",
            "[I 2023-07-02 17:14:37,195] Trial 18 finished with value: 0.6987008904173071 and parameters: {'n_estimators': 306, 'max_depth': 7, 'min_samples_split': 30, 'min_samples_leaf': 1, 'bootstrap': True}. Best is trial 16 with value: 0.7915663814314756.\n",
            "[I 2023-07-02 17:15:02,976] Trial 19 finished with value: 0.6647654429504748 and parameters: {'n_estimators': 670, 'max_depth': 28, 'min_samples_split': 81, 'min_samples_leaf': 1, 'bootstrap': True}. Best is trial 16 with value: 0.7915663814314756.\n",
            "[I 2023-07-02 17:16:14,264] Trial 20 finished with value: 0.7650659574705848 and parameters: {'n_estimators': 827, 'max_depth': 29, 'min_samples_split': 33, 'min_samples_leaf': 1, 'bootstrap': False}. Best is trial 16 with value: 0.7915663814314756.\n",
            "[I 2023-07-02 17:16:58,276] Trial 21 finished with value: 0.768883245860949 and parameters: {'n_estimators': 837, 'max_depth': 28, 'min_samples_split': 2, 'min_samples_leaf': 3, 'bootstrap': True}. Best is trial 16 with value: 0.7915663814314756.\n",
            "[I 2023-07-02 17:17:11,529] Trial 22 finished with value: 0.6973673219114991 and parameters: {'n_estimators': 207, 'max_depth': 14, 'min_samples_split': 95, 'min_samples_leaf': 2, 'bootstrap': False}. Best is trial 16 with value: 0.7915663814314756.\n",
            "[I 2023-07-02 17:17:26,520] Trial 23 finished with value: 0.6442958851569884 and parameters: {'n_estimators': 427, 'max_depth': 31, 'min_samples_split': 97, 'min_samples_leaf': 2, 'bootstrap': True}. Best is trial 16 with value: 0.7915663814314756.\n",
            "[I 2023-07-02 17:17:44,208] Trial 24 finished with value: 0.6297492720322512 and parameters: {'n_estimators': 356, 'max_depth': 5, 'min_samples_split': 62, 'min_samples_leaf': 3, 'bootstrap': False}. Best is trial 16 with value: 0.7915663814314756.\n",
            "[I 2023-07-02 17:18:39,030] Trial 25 finished with value: 0.7567023514577744 and parameters: {'n_estimators': 918, 'max_depth': 11, 'min_samples_split': 16, 'min_samples_leaf': 2, 'bootstrap': True}. Best is trial 16 with value: 0.7915663814314756.\n",
            "[I 2023-07-02 17:19:32,805] Trial 26 finished with value: 0.775979258010573 and parameters: {'n_estimators': 705, 'max_depth': 25, 'min_samples_split': 25, 'min_samples_leaf': 3, 'bootstrap': False}. Best is trial 16 with value: 0.7915663814314756.\n",
            "[I 2023-07-02 17:20:07,324] Trial 27 finished with value: 0.7623694464835402 and parameters: {'n_estimators': 670, 'max_depth': 19, 'min_samples_split': 10, 'min_samples_leaf': 4, 'bootstrap': True}. Best is trial 16 with value: 0.7915663814314756.\n",
            "[I 2023-07-02 17:20:13,125] Trial 28 finished with value: 0.6848582628943746 and parameters: {'n_estimators': 136, 'max_depth': 20, 'min_samples_split': 69, 'min_samples_leaf': 1, 'bootstrap': True}. Best is trial 16 with value: 0.7915663814314756.\n",
            "[I 2023-07-02 17:20:40,785] Trial 29 finished with value: 0.685392497294697 and parameters: {'n_estimators': 681, 'max_depth': 9, 'min_samples_split': 70, 'min_samples_leaf': 2, 'bootstrap': True}. Best is trial 16 with value: 0.7915663814314756.\n",
            "[I 2023-07-02 17:21:04,146] Trial 30 finished with value: 0.6901686899454085 and parameters: {'n_estimators': 407, 'max_depth': 8, 'min_samples_split': 93, 'min_samples_leaf': 4, 'bootstrap': False}. Best is trial 16 with value: 0.7915663814314756.\n",
            "[I 2023-07-02 17:22:08,483] Trial 31 finished with value: 0.7518656169701459 and parameters: {'n_estimators': 836, 'max_depth': 19, 'min_samples_split': 54, 'min_samples_leaf': 1, 'bootstrap': False}. Best is trial 16 with value: 0.7915663814314756.\n",
            "[I 2023-07-02 17:23:30,428] Trial 32 finished with value: 0.7613266180507094 and parameters: {'n_estimators': 911, 'max_depth': 22, 'min_samples_split': 35, 'min_samples_leaf': 2, 'bootstrap': False}. Best is trial 16 with value: 0.7915663814314756.\n",
            "[I 2023-07-02 17:24:35,438] Trial 33 finished with value: 0.731252354962478 and parameters: {'n_estimators': 899, 'max_depth': 26, 'min_samples_split': 65, 'min_samples_leaf': 1, 'bootstrap': False}. Best is trial 16 with value: 0.7915663814314756.\n",
            "[I 2023-07-02 17:25:12,037] Trial 34 finished with value: 0.6335962012123746 and parameters: {'n_estimators': 646, 'max_depth': 5, 'min_samples_split': 12, 'min_samples_leaf': 3, 'bootstrap': False}. Best is trial 16 with value: 0.7915663814314756.\n",
            "[I 2023-07-02 17:25:44,015] Trial 35 finished with value: 0.6894901111218869 and parameters: {'n_estimators': 594, 'max_depth': 23, 'min_samples_split': 66, 'min_samples_leaf': 1, 'bootstrap': True}. Best is trial 16 with value: 0.7915663814314756.\n",
            "[I 2023-07-02 17:25:59,721] Trial 36 finished with value: 0.6865298909616728 and parameters: {'n_estimators': 393, 'max_depth': 25, 'min_samples_split': 66, 'min_samples_leaf': 4, 'bootstrap': True}. Best is trial 16 with value: 0.7915663814314756.\n",
            "[I 2023-07-02 17:26:12,807] Trial 37 finished with value: 0.7542811065117494 and parameters: {'n_estimators': 184, 'max_depth': 14, 'min_samples_split': 28, 'min_samples_leaf': 1, 'bootstrap': True}. Best is trial 16 with value: 0.7915663814314756.\n",
            "[I 2023-07-02 17:26:49,285] Trial 38 finished with value: 0.6665528834480184 and parameters: {'n_estimators': 903, 'max_depth': 22, 'min_samples_split': 80, 'min_samples_leaf': 3, 'bootstrap': True}. Best is trial 16 with value: 0.7915663814314756.\n",
            "[I 2023-07-02 17:27:03,862] Trial 39 finished with value: 0.7408341932685272 and parameters: {'n_estimators': 275, 'max_depth': 24, 'min_samples_split': 29, 'min_samples_leaf': 1, 'bootstrap': True}. Best is trial 16 with value: 0.7915663814314756.\n",
            "[I 2023-07-02 17:28:00,344] Trial 40 finished with value: 0.7083326529266045 and parameters: {'n_estimators': 947, 'max_depth': 30, 'min_samples_split': 92, 'min_samples_leaf': 2, 'bootstrap': False}. Best is trial 16 with value: 0.7915663814314756.\n",
            "[I 2023-07-02 17:28:31,169] Trial 41 finished with value: 0.699375187821167 and parameters: {'n_estimators': 485, 'max_depth': 31, 'min_samples_split': 97, 'min_samples_leaf': 4, 'bootstrap': False}. Best is trial 16 with value: 0.7915663814314756.\n",
            "[I 2023-07-02 17:29:27,725] Trial 42 finished with value: 0.762357493329742 and parameters: {'n_estimators': 866, 'max_depth': 13, 'min_samples_split': 18, 'min_samples_leaf': 3, 'bootstrap': True}. Best is trial 16 with value: 0.7915663814314756.\n",
            "[I 2023-07-02 17:30:07,723] Trial 43 finished with value: 0.690080166058178 and parameters: {'n_estimators': 613, 'max_depth': 7, 'min_samples_split': 62, 'min_samples_leaf': 4, 'bootstrap': False}. Best is trial 16 with value: 0.7915663814314756.\n",
            "[I 2023-07-02 17:30:49,348] Trial 44 finished with value: 0.6750062162369557 and parameters: {'n_estimators': 890, 'max_depth': 25, 'min_samples_split': 71, 'min_samples_leaf': 3, 'bootstrap': True}. Best is trial 16 with value: 0.7915663814314756.\n",
            "[I 2023-07-02 17:31:21,772] Trial 45 finished with value: 0.6671217418629551 and parameters: {'n_estimators': 829, 'max_depth': 26, 'min_samples_split': 87, 'min_samples_leaf': 4, 'bootstrap': True}. Best is trial 16 with value: 0.7915663814314756.\n",
            "[I 2023-07-02 17:31:53,355] Trial 46 finished with value: 0.6785396821404946 and parameters: {'n_estimators': 819, 'max_depth': 22, 'min_samples_split': 71, 'min_samples_leaf': 4, 'bootstrap': True}. Best is trial 16 with value: 0.7915663814314756.\n",
            "[I 2023-07-02 17:32:21,423] Trial 47 finished with value: 0.6974091739941658 and parameters: {'n_estimators': 438, 'max_depth': 7, 'min_samples_split': 59, 'min_samples_leaf': 1, 'bootstrap': False}. Best is trial 16 with value: 0.7915663814314756.\n",
            "[I 2023-07-02 17:32:49,572] Trial 48 finished with value: 0.7717526117350376 and parameters: {'n_estimators': 358, 'max_depth': 20, 'min_samples_split': 5, 'min_samples_leaf': 1, 'bootstrap': True}. Best is trial 16 with value: 0.7915663814314756.\n",
            "[I 2023-07-02 17:33:03,345] Trial 49 finished with value: 0.6750627367299846 and parameters: {'n_estimators': 214, 'max_depth': 19, 'min_samples_split': 78, 'min_samples_leaf': 1, 'bootstrap': True}. Best is trial 16 with value: 0.7915663814314756.\n",
            "[I 2023-07-02 17:33:19,666] Trial 50 finished with value: 0.7351396184438654 and parameters: {'n_estimators': 146, 'max_depth': 19, 'min_samples_split': 55, 'min_samples_leaf': 3, 'bootstrap': False}. Best is trial 16 with value: 0.7915663814314756.\n",
            "[I 2023-07-02 17:33:44,145] Trial 51 finished with value: 0.6702002022135336 and parameters: {'n_estimators': 565, 'max_depth': 13, 'min_samples_split': 80, 'min_samples_leaf': 2, 'bootstrap': True}. Best is trial 16 with value: 0.7915663814314756.\n",
            "[I 2023-07-02 17:33:49,685] Trial 52 finished with value: 0.6573280358964697 and parameters: {'n_estimators': 122, 'max_depth': 30, 'min_samples_split': 84, 'min_samples_leaf': 3, 'bootstrap': True}. Best is trial 16 with value: 0.7915663814314756.\n",
            "[I 2023-07-02 17:34:00,866] Trial 53 finished with value: 0.7010863029329186 and parameters: {'n_estimators': 240, 'max_depth': 11, 'min_samples_split': 56, 'min_samples_leaf': 3, 'bootstrap': True}. Best is trial 16 with value: 0.7915663814314756.\n",
            "[I 2023-07-02 17:34:37,015] Trial 54 finished with value: 0.7120021773398215 and parameters: {'n_estimators': 960, 'max_depth': 24, 'min_samples_split': 56, 'min_samples_leaf': 3, 'bootstrap': True}. Best is trial 16 with value: 0.7915663814314756.\n",
            "[I 2023-07-02 17:34:59,531] Trial 55 finished with value: 0.7800349008422438 and parameters: {'n_estimators': 420, 'max_depth': 25, 'min_samples_split': 3, 'min_samples_leaf': 1, 'bootstrap': True}. Best is trial 16 with value: 0.7915663814314756.\n",
            "[I 2023-07-02 17:35:34,326] Trial 56 finished with value: 0.7143801205812939 and parameters: {'n_estimators': 870, 'max_depth': 23, 'min_samples_split': 48, 'min_samples_leaf': 1, 'bootstrap': True}. Best is trial 16 with value: 0.7915663814314756.\n",
            "[I 2023-07-02 17:35:44,705] Trial 57 finished with value: 0.7230744683033158 and parameters: {'n_estimators': 256, 'max_depth': 16, 'min_samples_split': 41, 'min_samples_leaf': 3, 'bootstrap': True}. Best is trial 16 with value: 0.7915663814314756.\n",
            "[I 2023-07-02 17:36:04,826] Trial 58 finished with value: 0.7059983263905925 and parameters: {'n_estimators': 437, 'max_depth': 21, 'min_samples_split': 51, 'min_samples_leaf': 4, 'bootstrap': True}. Best is trial 16 with value: 0.7915663814314756.\n",
            "[I 2023-07-02 17:36:14,945] Trial 59 finished with value: 0.7679750620579353 and parameters: {'n_estimators': 163, 'max_depth': 22, 'min_samples_split': 4, 'min_samples_leaf': 3, 'bootstrap': True}. Best is trial 16 with value: 0.7915663814314756.\n",
            "[I 2023-07-02 17:36:33,940] Trial 60 finished with value: 0.7214244551942702 and parameters: {'n_estimators': 449, 'max_depth': 22, 'min_samples_split': 47, 'min_samples_leaf': 3, 'bootstrap': True}. Best is trial 16 with value: 0.7915663814314756.\n",
            "[I 2023-07-02 17:37:33,630] Trial 61 finished with value: 0.7571762829346473 and parameters: {'n_estimators': 966, 'max_depth': 29, 'min_samples_split': 21, 'min_samples_leaf': 1, 'bootstrap': True}. Best is trial 16 with value: 0.7915663814314756.\n",
            "[I 2023-07-02 17:37:42,765] Trial 62 finished with value: 0.7589922283113198 and parameters: {'n_estimators': 185, 'max_depth': 23, 'min_samples_split': 9, 'min_samples_leaf': 2, 'bootstrap': True}. Best is trial 16 with value: 0.7915663814314756.\n",
            "[I 2023-07-02 17:38:51,466] Trial 63 finished with value: 0.7737548089112184 and parameters: {'n_estimators': 833, 'max_depth': 12, 'min_samples_split': 13, 'min_samples_leaf': 3, 'bootstrap': False}. Best is trial 16 with value: 0.7915663814314756.\n",
            "[I 2023-07-02 17:39:54,845] Trial 64 finished with value: 0.7741299008721422 and parameters: {'n_estimators': 762, 'max_depth': 26, 'min_samples_split': 29, 'min_samples_leaf': 1, 'bootstrap': False}. Best is trial 16 with value: 0.7915663814314756.\n",
            "[I 2023-07-02 17:41:07,620] Trial 65 finished with value: 0.7592648562898591 and parameters: {'n_estimators': 992, 'max_depth': 16, 'min_samples_split': 38, 'min_samples_leaf': 4, 'bootstrap': False}. Best is trial 16 with value: 0.7915663814314756.\n",
            "[I 2023-07-02 17:42:02,055] Trial 66 finished with value: 0.7235616577481936 and parameters: {'n_estimators': 873, 'max_depth': 16, 'min_samples_split': 76, 'min_samples_leaf': 4, 'bootstrap': False}. Best is trial 16 with value: 0.7915663814314756.\n",
            "[I 2023-07-02 17:42:29,565] Trial 67 finished with value: 0.7348938950697079 and parameters: {'n_estimators': 555, 'max_depth': 27, 'min_samples_split': 33, 'min_samples_leaf': 4, 'bootstrap': True}. Best is trial 16 with value: 0.7915663814314756.\n",
            "[I 2023-07-02 17:43:10,225] Trial 68 finished with value: 0.6934240778681706 and parameters: {'n_estimators': 915, 'max_depth': 7, 'min_samples_split': 33, 'min_samples_leaf': 4, 'bootstrap': True}. Best is trial 16 with value: 0.7915663814314756.\n",
            "[I 2023-07-02 17:44:00,425] Trial 69 finished with value: 0.7720677410205197 and parameters: {'n_estimators': 669, 'max_depth': 17, 'min_samples_split': 31, 'min_samples_leaf': 2, 'bootstrap': False}. Best is trial 16 with value: 0.7915663814314756.\n",
            "[I 2023-07-02 17:45:04,116] Trial 70 finished with value: 0.781565415158943 and parameters: {'n_estimators': 813, 'max_depth': 26, 'min_samples_split': 11, 'min_samples_leaf': 2, 'bootstrap': False}. Best is trial 16 with value: 0.7915663814314756.\n",
            "[I 2023-07-02 17:45:37,588] Trial 71 finished with value: 0.7741425683561868 and parameters: {'n_estimators': 497, 'max_depth': 28, 'min_samples_split': 36, 'min_samples_leaf': 1, 'bootstrap': False}. Best is trial 16 with value: 0.7915663814314756.\n",
            "[I 2023-07-02 17:46:14,432] Trial 72 finished with value: 0.7186395078871237 and parameters: {'n_estimators': 657, 'max_depth': 7, 'min_samples_split': 10, 'min_samples_leaf': 3, 'bootstrap': False}. Best is trial 16 with value: 0.7915663814314756.\n",
            "[I 2023-07-02 17:46:41,605] Trial 73 finished with value: 0.7143713231948763 and parameters: {'n_estimators': 736, 'max_depth': 7, 'min_samples_split': 10, 'min_samples_leaf': 4, 'bootstrap': True}. Best is trial 16 with value: 0.7915663814314756.\n",
            "[I 2023-07-02 17:47:07,232] Trial 74 finished with value: 0.633630208610054 and parameters: {'n_estimators': 832, 'max_depth': 30, 'min_samples_split': 99, 'min_samples_leaf': 4, 'bootstrap': True}. Best is trial 16 with value: 0.7915663814314756.\n",
            "[I 2023-07-02 17:47:55,637] Trial 75 finished with value: 0.7575308823128782 and parameters: {'n_estimators': 800, 'max_depth': 20, 'min_samples_split': 43, 'min_samples_leaf': 4, 'bootstrap': False}. Best is trial 16 with value: 0.7915663814314756.\n",
            "[I 2023-07-02 17:48:04,177] Trial 76 finished with value: 0.7779578426899812 and parameters: {'n_estimators': 110, 'max_depth': 17, 'min_samples_split': 7, 'min_samples_leaf': 1, 'bootstrap': False}. Best is trial 16 with value: 0.7915663814314756.\n",
            "[I 2023-07-02 17:48:44,194] Trial 77 finished with value: 0.700231294585779 and parameters: {'n_estimators': 772, 'max_depth': 20, 'min_samples_split': 97, 'min_samples_leaf': 2, 'bootstrap': False}. Best is trial 16 with value: 0.7915663814314756.\n",
            "[I 2023-07-02 17:49:05,106] Trial 78 finished with value: 0.7836153601243068 and parameters: {'n_estimators': 301, 'max_depth': 31, 'min_samples_split': 3, 'min_samples_leaf': 4, 'bootstrap': False}. Best is trial 16 with value: 0.7915663814314756.\n",
            "[I 2023-07-02 17:49:32,061] Trial 79 finished with value: 0.7641335096123075 and parameters: {'n_estimators': 575, 'max_depth': 31, 'min_samples_split': 9, 'min_samples_leaf': 3, 'bootstrap': True}. Best is trial 16 with value: 0.7915663814314756.\n",
            "[I 2023-07-02 17:50:12,939] Trial 80 finished with value: 0.7555122738374462 and parameters: {'n_estimators': 667, 'max_depth': 23, 'min_samples_split': 46, 'min_samples_leaf': 3, 'bootstrap': False}. Best is trial 16 with value: 0.7915663814314756.\n",
            "[I 2023-07-02 17:50:20,236] Trial 81 finished with value: 0.6988972096330368 and parameters: {'n_estimators': 140, 'max_depth': 12, 'min_samples_split': 96, 'min_samples_leaf': 4, 'bootstrap': False}. Best is trial 16 with value: 0.7915663814314756.\n",
            "[I 2023-07-02 17:50:34,046] Trial 82 finished with value: 0.7236362725461661 and parameters: {'n_estimators': 349, 'max_depth': 10, 'min_samples_split': 47, 'min_samples_leaf': 2, 'bootstrap': True}. Best is trial 16 with value: 0.7915663814314756.\n",
            "[I 2023-07-02 17:51:28,435] Trial 83 finished with value: 0.7320763879298237 and parameters: {'n_estimators': 977, 'max_depth': 31, 'min_samples_split': 71, 'min_samples_leaf': 3, 'bootstrap': False}. Best is trial 16 with value: 0.7915663814314756.\n",
            "[I 2023-07-02 17:51:50,434] Trial 84 finished with value: 0.6537191280369763 and parameters: {'n_estimators': 716, 'max_depth': 9, 'min_samples_split': 92, 'min_samples_leaf': 4, 'bootstrap': True}. Best is trial 16 with value: 0.7915663814314756.\n",
            "[I 2023-07-02 17:52:10,425] Trial 85 finished with value: 0.6487934986030452 and parameters: {'n_estimators': 652, 'max_depth': 16, 'min_samples_split': 94, 'min_samples_leaf': 4, 'bootstrap': True}. Best is trial 16 with value: 0.7915663814314756.\n",
            "[I 2023-07-02 17:52:23,752] Trial 86 finished with value: 0.6449159794341167 and parameters: {'n_estimators': 439, 'max_depth': 26, 'min_samples_split': 99, 'min_samples_leaf': 1, 'bootstrap': True}. Best is trial 16 with value: 0.7915663814314756.\n",
            "[I 2023-07-02 17:52:58,445] Trial 87 finished with value: 0.6651523847738388 and parameters: {'n_estimators': 973, 'max_depth': 27, 'min_samples_split': 84, 'min_samples_leaf': 2, 'bootstrap': True}. Best is trial 16 with value: 0.7915663814314756.\n",
            "[I 2023-07-02 17:53:03,862] Trial 88 finished with value: 0.6611786959300547 and parameters: {'n_estimators': 150, 'max_depth': 28, 'min_samples_split': 82, 'min_samples_leaf': 4, 'bootstrap': True}. Best is trial 16 with value: 0.7915663814314756.\n",
            "[I 2023-07-02 17:53:30,491] Trial 89 finished with value: 0.6606429713168829 and parameters: {'n_estimators': 792, 'max_depth': 30, 'min_samples_split': 86, 'min_samples_leaf': 1, 'bootstrap': True}. Best is trial 16 with value: 0.7915663814314756.\n",
            "[I 2023-07-02 17:54:14,168] Trial 90 finished with value: 0.7574230140032463 and parameters: {'n_estimators': 959, 'max_depth': 21, 'min_samples_split': 24, 'min_samples_leaf': 3, 'bootstrap': True}. Best is trial 16 with value: 0.7915663814314756.\n",
            "[I 2023-07-02 17:54:26,706] Trial 91 finished with value: 0.743161261181774 and parameters: {'n_estimators': 202, 'max_depth': 23, 'min_samples_split': 53, 'min_samples_leaf': 4, 'bootstrap': False}. Best is trial 16 with value: 0.7915663814314756.\n",
            "[I 2023-07-02 17:54:50,798] Trial 92 finished with value: 0.670518754937269 and parameters: {'n_estimators': 597, 'max_depth': 20, 'min_samples_split': 88, 'min_samples_leaf': 2, 'bootstrap': True}. Best is trial 16 with value: 0.7915663814314756.\n",
            "[I 2023-07-02 17:55:18,798] Trial 93 finished with value: 0.6807327722656074 and parameters: {'n_estimators': 780, 'max_depth': 21, 'min_samples_split': 71, 'min_samples_leaf': 1, 'bootstrap': True}. Best is trial 16 with value: 0.7915663814314756.\n",
            "[I 2023-07-02 17:55:36,421] Trial 94 finished with value: 0.7328250274044755 and parameters: {'n_estimators': 415, 'max_depth': 20, 'min_samples_split': 40, 'min_samples_leaf': 2, 'bootstrap': True}. Best is trial 16 with value: 0.7915663814314756.\n",
            "[I 2023-07-02 17:56:13,522] Trial 95 finished with value: 0.7631907730207713 and parameters: {'n_estimators': 563, 'max_depth': 26, 'min_samples_split': 41, 'min_samples_leaf': 3, 'bootstrap': False}. Best is trial 16 with value: 0.7915663814314756.\n",
            "[I 2023-07-02 17:56:28,403] Trial 96 finished with value: 0.7487515096305078 and parameters: {'n_estimators': 232, 'max_depth': 30, 'min_samples_split': 50, 'min_samples_leaf': 2, 'bootstrap': False}. Best is trial 16 with value: 0.7915663814314756.\n",
            "[I 2023-07-02 17:57:02,922] Trial 97 finished with value: 0.7342462463992139 and parameters: {'n_estimators': 543, 'max_depth': 13, 'min_samples_split': 64, 'min_samples_leaf': 1, 'bootstrap': False}. Best is trial 16 with value: 0.7915663814314756.\n",
            "[I 2023-07-02 17:57:18,394] Trial 98 finished with value: 0.7569918741034914 and parameters: {'n_estimators': 215, 'max_depth': 9, 'min_samples_split': 15, 'min_samples_leaf': 3, 'bootstrap': False}. Best is trial 16 with value: 0.7915663814314756.\n",
            "[I 2023-07-02 17:57:51,349] Trial 99 finished with value: 0.6875629324155268 and parameters: {'n_estimators': 908, 'max_depth': 17, 'min_samples_split': 68, 'min_samples_leaf': 1, 'bootstrap': True}. Best is trial 16 with value: 0.7915663814314756.\n"
          ]
        }
      ],
      "source": [
        "# Define the Optuna study\n",
        "study = optuna.create_study(direction='maximize',sampler=RandomSampler(seed=42))\n",
        "study.optimize(objective_RF, n_trials=100)"
      ]
    },
    {
      "cell_type": "code",
      "execution_count": null,
      "metadata": {
        "id": "fIfQkn9Vta1z"
      },
      "outputs": [],
      "source": [
        "# Get the best hyperparameters from Optuna\n",
        "best_params = study.best_params"
      ]
    },
    {
      "cell_type": "code",
      "execution_count": null,
      "metadata": {
        "id": "1C5w5JAdta10",
        "outputId": "3d05e1f0-1ec1-445d-beae-338a8d4b3d8e"
      },
      "outputs": [
        {
          "data": {
            "text/plain": [
              "{'n_estimators': 570,\n",
              " 'max_depth': 16,\n",
              " 'min_samples_split': 4,\n",
              " 'min_samples_leaf': 1,\n",
              " 'bootstrap': False}"
            ]
          },
          "execution_count": 25,
          "metadata": {},
          "output_type": "execute_result"
        }
      ],
      "source": [
        "best_params"
      ]
    },
    {
      "cell_type": "code",
      "execution_count": null,
      "metadata": {
        "id": "x49mUd6Ota10",
        "outputId": "45bce555-4ccb-4e91-ad8f-eaee1cc9f094"
      },
      "outputs": [
        {
          "data": {
            "text/plain": [
              "array([ True,  True,  True, ..., False, False, False])"
            ]
          },
          "execution_count": 26,
          "metadata": {},
          "output_type": "execute_result"
        }
      ],
      "source": [
        "best_features"
      ]
    },
    {
      "cell_type": "markdown",
      "metadata": {
        "id": "0ifUZzkNta11"
      },
      "source": [
        "#### Get best parameters and make predictions"
      ]
    },
    {
      "cell_type": "code",
      "execution_count": null,
      "metadata": {
        "id": "qYQQIEJTta19"
      },
      "outputs": [],
      "source": [
        "selected_features_indices = [i for i, value in enumerate(best_features) if value]\n",
        "X_test_selected = X_test[:, selected_features_indices]"
      ]
    },
    {
      "cell_type": "code",
      "execution_count": null,
      "metadata": {
        "id": "T8K525Qpta1-"
      },
      "outputs": [],
      "source": [
        "X_train_val_selected_final_features = X_train_val[:, selected_features_indices]"
      ]
    },
    {
      "cell_type": "code",
      "execution_count": null,
      "metadata": {
        "id": "35nyaVzeta1-",
        "outputId": "46943571-7770-4299-a2b3-c9cfa8038c02"
      },
      "outputs": [
        {
          "data": {
            "text/plain": [
              "(286, 300)"
            ]
          },
          "execution_count": 29,
          "metadata": {},
          "output_type": "execute_result"
        }
      ],
      "source": [
        "X_test_selected.shape"
      ]
    },
    {
      "cell_type": "code",
      "execution_count": null,
      "metadata": {
        "id": "FqVP3aHlta1_"
      },
      "outputs": [],
      "source": [
        "best_classifier_RF = RandomForestClassifier(n_estimators = 570,max_depth= 16,min_samples_split=4,min_samples_leaf=1,bootstrap=False)"
      ]
    },
    {
      "cell_type": "code",
      "execution_count": null,
      "metadata": {
        "id": "EiL0Aqk0ta1_",
        "outputId": "9d8a1b84-eda6-43e6-eea2-c460e84068bd"
      },
      "outputs": [
        {
          "data": {
            "text/plain": [
              "RandomForestClassifier(bootstrap=False, max_depth=16, min_samples_split=4,\n",
              "                       n_estimators=570)"
            ]
          },
          "execution_count": 38,
          "metadata": {},
          "output_type": "execute_result"
        }
      ],
      "source": [
        "best_classifier_RF.fit(X_train_val_selected_final_features, y_train_val)"
      ]
    },
    {
      "cell_type": "code",
      "execution_count": null,
      "metadata": {
        "id": "fC_a04Pyta1_"
      },
      "outputs": [],
      "source": [
        "y_test_pred = best_classifier_RF.predict(X_test_selected)"
      ]
    },
    {
      "cell_type": "code",
      "execution_count": null,
      "metadata": {
        "id": "04tj2wSDta2A"
      },
      "outputs": [],
      "source": [
        "balanced_acc_RF = balanced_accuracy_score(y_test, y_test_pred)\n",
        "recall_RF = recall_score(y_test, y_test_pred, average='weighted')\n",
        "f1_RF = f1_score(y_test, y_test_pred, average='weighted')\n",
        "precision_RF = precision_score(y_test, y_test_pred, average='weighted')"
      ]
    },
    {
      "cell_type": "code",
      "execution_count": null,
      "metadata": {
        "id": "CkB0iaVUta2A",
        "outputId": "46206078-1672-4f8d-e733-39dd62f8dc04"
      },
      "outputs": [
        {
          "name": "stdout",
          "output_type": "stream",
          "text": [
            "Random Forests\n",
            "\n",
            "Accuracy: 0.7972027972027972\n",
            "F1 Score: 0.7899446576735386\n",
            "Precision: 0.802876810426325\n",
            "Recall: 0.7972027972027972\n"
          ]
        }
      ],
      "source": [
        "print(\"Random Forests\\n\")\n",
        "print(\"Accuracy:\", balanced_acc_RF)\n",
        "print(\"F1 Score:\", f1_RF)\n",
        "print(\"Precision:\", precision_RF)\n",
        "print(\"Recall:\", recall_RF)"
      ]
    },
    {
      "cell_type": "markdown",
      "metadata": {
        "id": "3ymiG6Ywta2A"
      },
      "source": [
        "#### Feature importance"
      ]
    },
    {
      "cell_type": "code",
      "execution_count": null,
      "metadata": {
        "id": "FbJKLEhDta2A",
        "outputId": "16a56190-fb75-4736-8f19-ef838ae35faf"
      },
      "outputs": [
        {
          "data": {
            "text/html": [
              "<div>\n",
              "<style scoped>\n",
              "    .dataframe tbody tr th:only-of-type {\n",
              "        vertical-align: middle;\n",
              "    }\n",
              "\n",
              "    .dataframe tbody tr th {\n",
              "        vertical-align: top;\n",
              "    }\n",
              "\n",
              "    .dataframe thead th {\n",
              "        text-align: right;\n",
              "    }\n",
              "</style>\n",
              "<table border=\"1\" class=\"dataframe\">\n",
              "  <thead>\n",
              "    <tr style=\"text-align: right;\">\n",
              "      <th></th>\n",
              "      <th>cell</th>\n",
              "      <th>ENSG00000205542</th>\n",
              "      <th>ENSG00000198804</th>\n",
              "      <th>ENSG00000167996</th>\n",
              "      <th>ENSG00000198712</th>\n",
              "      <th>ENSG00000156508</th>\n",
              "      <th>ENSG00000087086</th>\n",
              "      <th>ENSG00000075624</th>\n",
              "      <th>ENSG00000229117</th>\n",
              "      <th>ENSG00000026025</th>\n",
              "      <th>...</th>\n",
              "      <th>ENSG00000171316</th>\n",
              "      <th>ENSG00000160789</th>\n",
              "      <th>ENSG00000111011</th>\n",
              "      <th>ENSG00000074842</th>\n",
              "      <th>ENSG00000163634</th>\n",
              "      <th>ENSG00000100749</th>\n",
              "      <th>ENSG00000112715</th>\n",
              "      <th>ENSG00000174917</th>\n",
              "      <th>ENSG00000102226</th>\n",
              "      <th>ENSG00000276256</th>\n",
              "    </tr>\n",
              "  </thead>\n",
              "  <tbody>\n",
              "    <tr>\n",
              "      <th>0</th>\n",
              "      <td>ERR2538859-AAACCTGAGACCACGA</td>\n",
              "      <td>32962.305</td>\n",
              "      <td>9065.20200</td>\n",
              "      <td>8240.5760</td>\n",
              "      <td>5350.2246</td>\n",
              "      <td>4735.2563</td>\n",
              "      <td>5042.7400</td>\n",
              "      <td>4950.4950</td>\n",
              "      <td>9255.0700</td>\n",
              "      <td>3659.0615</td>\n",
              "      <td>...</td>\n",
              "      <td>30.748417</td>\n",
              "      <td>30.748417</td>\n",
              "      <td>122.993670</td>\n",
              "      <td>153.74208</td>\n",
              "      <td>92.245255</td>\n",
              "      <td>61.496834</td>\n",
              "      <td>30.748417</td>\n",
              "      <td>92.245255</td>\n",
              "      <td>30.748417</td>\n",
              "      <td>122.993670</td>\n",
              "    </tr>\n",
              "    <tr>\n",
              "      <th>1</th>\n",
              "      <td>ERR2538859-AAACCTGTCTGATACG</td>\n",
              "      <td>34861.200</td>\n",
              "      <td>0.00000</td>\n",
              "      <td>5579.0670</td>\n",
              "      <td>0.0000</td>\n",
              "      <td>16139.4430</td>\n",
              "      <td>4519.0444</td>\n",
              "      <td>3873.4666</td>\n",
              "      <td>12696.3620</td>\n",
              "      <td>3443.0813</td>\n",
              "      <td>...</td>\n",
              "      <td>0.000000</td>\n",
              "      <td>0.000000</td>\n",
              "      <td>0.000000</td>\n",
              "      <td>0.00000</td>\n",
              "      <td>0.000000</td>\n",
              "      <td>0.000000</td>\n",
              "      <td>0.000000</td>\n",
              "      <td>215.192580</td>\n",
              "      <td>0.000000</td>\n",
              "      <td>0.000000</td>\n",
              "    </tr>\n",
              "    <tr>\n",
              "      <th>2</th>\n",
              "      <td>ERR2538859-AAACGGGAGTGTTGAA</td>\n",
              "      <td>17791.770</td>\n",
              "      <td>9193.14500</td>\n",
              "      <td>4845.0840</td>\n",
              "      <td>3431.0170</td>\n",
              "      <td>13334.9840</td>\n",
              "      <td>4739.7560</td>\n",
              "      <td>1061.1393</td>\n",
              "      <td>14643.7230</td>\n",
              "      <td>2193.0212</td>\n",
              "      <td>...</td>\n",
              "      <td>70.742620</td>\n",
              "      <td>35.371310</td>\n",
              "      <td>0.000000</td>\n",
              "      <td>35.37131</td>\n",
              "      <td>0.000000</td>\n",
              "      <td>70.742620</td>\n",
              "      <td>35.371310</td>\n",
              "      <td>70.742620</td>\n",
              "      <td>106.113940</td>\n",
              "      <td>70.742620</td>\n",
              "    </tr>\n",
              "    <tr>\n",
              "      <th>3</th>\n",
              "      <td>ERR2538859-AAAGATGTCCGAACGC</td>\n",
              "      <td>26513.914</td>\n",
              "      <td>10016.36700</td>\n",
              "      <td>7070.3770</td>\n",
              "      <td>5564.6484</td>\n",
              "      <td>10540.0990</td>\n",
              "      <td>4058.9202</td>\n",
              "      <td>3404.2556</td>\n",
              "      <td>7725.0415</td>\n",
              "      <td>8837.9720</td>\n",
              "      <td>...</td>\n",
              "      <td>0.000000</td>\n",
              "      <td>0.000000</td>\n",
              "      <td>0.000000</td>\n",
              "      <td>261.86580</td>\n",
              "      <td>0.000000</td>\n",
              "      <td>130.932900</td>\n",
              "      <td>0.000000</td>\n",
              "      <td>196.399350</td>\n",
              "      <td>0.000000</td>\n",
              "      <td>65.466450</td>\n",
              "    </tr>\n",
              "    <tr>\n",
              "      <th>4</th>\n",
              "      <td>ERR2538859-AAAGTAGGTTAGTGGG</td>\n",
              "      <td>30791.666</td>\n",
              "      <td>18116.04300</td>\n",
              "      <td>7291.2870</td>\n",
              "      <td>7347.3735</td>\n",
              "      <td>5664.7690</td>\n",
              "      <td>5384.3350</td>\n",
              "      <td>2636.0806</td>\n",
              "      <td>8469.1100</td>\n",
              "      <td>3140.8620</td>\n",
              "      <td>...</td>\n",
              "      <td>0.000000</td>\n",
              "      <td>56.086823</td>\n",
              "      <td>0.000000</td>\n",
              "      <td>168.26047</td>\n",
              "      <td>0.000000</td>\n",
              "      <td>79.045006</td>\n",
              "      <td>168.260470</td>\n",
              "      <td>56.086823</td>\n",
              "      <td>112.173645</td>\n",
              "      <td>56.086823</td>\n",
              "    </tr>\n",
              "    <tr>\n",
              "      <th>...</th>\n",
              "      <td>...</td>\n",
              "      <td>...</td>\n",
              "      <td>...</td>\n",
              "      <td>...</td>\n",
              "      <td>...</td>\n",
              "      <td>...</td>\n",
              "      <td>...</td>\n",
              "      <td>...</td>\n",
              "      <td>...</td>\n",
              "      <td>...</td>\n",
              "      <td>...</td>\n",
              "      <td>...</td>\n",
              "      <td>...</td>\n",
              "      <td>...</td>\n",
              "      <td>...</td>\n",
              "      <td>...</td>\n",
              "      <td>...</td>\n",
              "      <td>...</td>\n",
              "      <td>...</td>\n",
              "      <td>...</td>\n",
              "      <td>...</td>\n",
              "    </tr>\n",
              "    <tr>\n",
              "      <th>1422</th>\n",
              "      <td>ERR2538860-TTTGGTTTCGTTACGA</td>\n",
              "      <td>20833.332</td>\n",
              "      <td>11986.30100</td>\n",
              "      <td>5707.7627</td>\n",
              "      <td>6849.3150</td>\n",
              "      <td>6563.9270</td>\n",
              "      <td>5707.7627</td>\n",
              "      <td>3139.2693</td>\n",
              "      <td>14554.7940</td>\n",
              "      <td>1141.5525</td>\n",
              "      <td>...</td>\n",
              "      <td>0.000000</td>\n",
              "      <td>0.000000</td>\n",
              "      <td>0.000000</td>\n",
              "      <td>0.00000</td>\n",
              "      <td>0.000000</td>\n",
              "      <td>0.000000</td>\n",
              "      <td>0.000000</td>\n",
              "      <td>0.000000</td>\n",
              "      <td>0.000000</td>\n",
              "      <td>285.388120</td>\n",
              "    </tr>\n",
              "    <tr>\n",
              "      <th>1423</th>\n",
              "      <td>ERR2538860-TTTGTCAAGCCCAACC</td>\n",
              "      <td>73876.350</td>\n",
              "      <td>172.20595</td>\n",
              "      <td>13776.4760</td>\n",
              "      <td>0.0000</td>\n",
              "      <td>5510.5903</td>\n",
              "      <td>9126.9150</td>\n",
              "      <td>18598.2420</td>\n",
              "      <td>10160.1510</td>\n",
              "      <td>7577.0615</td>\n",
              "      <td>...</td>\n",
              "      <td>0.000000</td>\n",
              "      <td>0.000000</td>\n",
              "      <td>172.205950</td>\n",
              "      <td>0.00000</td>\n",
              "      <td>172.205950</td>\n",
              "      <td>0.000000</td>\n",
              "      <td>0.000000</td>\n",
              "      <td>0.000000</td>\n",
              "      <td>0.000000</td>\n",
              "      <td>0.000000</td>\n",
              "    </tr>\n",
              "    <tr>\n",
              "      <th>1424</th>\n",
              "      <td>ERR2538860-TTTGTCACATTGGGCC</td>\n",
              "      <td>22690.557</td>\n",
              "      <td>14539.58000</td>\n",
              "      <td>3524.7466</td>\n",
              "      <td>4038.7722</td>\n",
              "      <td>10060.2140</td>\n",
              "      <td>2570.1277</td>\n",
              "      <td>3671.6110</td>\n",
              "      <td>8003.4385</td>\n",
              "      <td>6094.8745</td>\n",
              "      <td>...</td>\n",
              "      <td>220.296660</td>\n",
              "      <td>0.000000</td>\n",
              "      <td>73.432220</td>\n",
              "      <td>73.43222</td>\n",
              "      <td>220.296660</td>\n",
              "      <td>0.000000</td>\n",
              "      <td>0.000000</td>\n",
              "      <td>0.000000</td>\n",
              "      <td>0.000000</td>\n",
              "      <td>146.864440</td>\n",
              "    </tr>\n",
              "    <tr>\n",
              "      <th>1425</th>\n",
              "      <td>ERR2538860-TTTGTCAGTTGCGTTA</td>\n",
              "      <td>54775.516</td>\n",
              "      <td>5771.68550</td>\n",
              "      <td>11874.2080</td>\n",
              "      <td>2830.3457</td>\n",
              "      <td>6992.6187</td>\n",
              "      <td>11654.3640</td>\n",
              "      <td>8047.0615</td>\n",
              "      <td>8713.0250</td>\n",
              "      <td>6160.1640</td>\n",
              "      <td>...</td>\n",
              "      <td>0.000000</td>\n",
              "      <td>55.496975</td>\n",
              "      <td>55.496975</td>\n",
              "      <td>221.98790</td>\n",
              "      <td>0.000000</td>\n",
              "      <td>122.093346</td>\n",
              "      <td>110.993950</td>\n",
              "      <td>110.993950</td>\n",
              "      <td>0.000000</td>\n",
              "      <td>0.000000</td>\n",
              "    </tr>\n",
              "    <tr>\n",
              "      <th>1426</th>\n",
              "      <td>ERR2538860-TTTGTCATCAACACCA</td>\n",
              "      <td>15493.742</td>\n",
              "      <td>8285.11500</td>\n",
              "      <td>4150.8433</td>\n",
              "      <td>3748.4860</td>\n",
              "      <td>9015.5320</td>\n",
              "      <td>5151.7656</td>\n",
              "      <td>2383.6526</td>\n",
              "      <td>7515.4080</td>\n",
              "      <td>4632.7440</td>\n",
              "      <td>...</td>\n",
              "      <td>96.115030</td>\n",
              "      <td>134.561040</td>\n",
              "      <td>76.892020</td>\n",
              "      <td>96.11503</td>\n",
              "      <td>134.561040</td>\n",
              "      <td>134.561040</td>\n",
              "      <td>57.669014</td>\n",
              "      <td>134.561040</td>\n",
              "      <td>76.892020</td>\n",
              "      <td>57.669014</td>\n",
              "    </tr>\n",
              "  </tbody>\n",
              "</table>\n",
              "<p>1427 rows × 300 columns</p>\n",
              "</div>"
            ],
            "text/plain": [
              "                             cell  ENSG00000205542  ENSG00000198804  \\\n",
              "0     ERR2538859-AAACCTGAGACCACGA        32962.305       9065.20200   \n",
              "1     ERR2538859-AAACCTGTCTGATACG        34861.200          0.00000   \n",
              "2     ERR2538859-AAACGGGAGTGTTGAA        17791.770       9193.14500   \n",
              "3     ERR2538859-AAAGATGTCCGAACGC        26513.914      10016.36700   \n",
              "4     ERR2538859-AAAGTAGGTTAGTGGG        30791.666      18116.04300   \n",
              "...                           ...              ...              ...   \n",
              "1422  ERR2538860-TTTGGTTTCGTTACGA        20833.332      11986.30100   \n",
              "1423  ERR2538860-TTTGTCAAGCCCAACC        73876.350        172.20595   \n",
              "1424  ERR2538860-TTTGTCACATTGGGCC        22690.557      14539.58000   \n",
              "1425  ERR2538860-TTTGTCAGTTGCGTTA        54775.516       5771.68550   \n",
              "1426  ERR2538860-TTTGTCATCAACACCA        15493.742       8285.11500   \n",
              "\n",
              "      ENSG00000167996  ENSG00000198712  ENSG00000156508  ENSG00000087086  \\\n",
              "0           8240.5760        5350.2246        4735.2563        5042.7400   \n",
              "1           5579.0670           0.0000       16139.4430        4519.0444   \n",
              "2           4845.0840        3431.0170       13334.9840        4739.7560   \n",
              "3           7070.3770        5564.6484       10540.0990        4058.9202   \n",
              "4           7291.2870        7347.3735        5664.7690        5384.3350   \n",
              "...               ...              ...              ...              ...   \n",
              "1422        5707.7627        6849.3150        6563.9270        5707.7627   \n",
              "1423       13776.4760           0.0000        5510.5903        9126.9150   \n",
              "1424        3524.7466        4038.7722       10060.2140        2570.1277   \n",
              "1425       11874.2080        2830.3457        6992.6187       11654.3640   \n",
              "1426        4150.8433        3748.4860        9015.5320        5151.7656   \n",
              "\n",
              "      ENSG00000075624  ENSG00000229117  ENSG00000026025  ...  ENSG00000171316  \\\n",
              "0           4950.4950        9255.0700        3659.0615  ...        30.748417   \n",
              "1           3873.4666       12696.3620        3443.0813  ...         0.000000   \n",
              "2           1061.1393       14643.7230        2193.0212  ...        70.742620   \n",
              "3           3404.2556        7725.0415        8837.9720  ...         0.000000   \n",
              "4           2636.0806        8469.1100        3140.8620  ...         0.000000   \n",
              "...               ...              ...              ...  ...              ...   \n",
              "1422        3139.2693       14554.7940        1141.5525  ...         0.000000   \n",
              "1423       18598.2420       10160.1510        7577.0615  ...         0.000000   \n",
              "1424        3671.6110        8003.4385        6094.8745  ...       220.296660   \n",
              "1425        8047.0615        8713.0250        6160.1640  ...         0.000000   \n",
              "1426        2383.6526        7515.4080        4632.7440  ...        96.115030   \n",
              "\n",
              "      ENSG00000160789  ENSG00000111011  ENSG00000074842  ENSG00000163634  \\\n",
              "0           30.748417       122.993670        153.74208        92.245255   \n",
              "1            0.000000         0.000000          0.00000         0.000000   \n",
              "2           35.371310         0.000000         35.37131         0.000000   \n",
              "3            0.000000         0.000000        261.86580         0.000000   \n",
              "4           56.086823         0.000000        168.26047         0.000000   \n",
              "...               ...              ...              ...              ...   \n",
              "1422         0.000000         0.000000          0.00000         0.000000   \n",
              "1423         0.000000       172.205950          0.00000       172.205950   \n",
              "1424         0.000000        73.432220         73.43222       220.296660   \n",
              "1425        55.496975        55.496975        221.98790         0.000000   \n",
              "1426       134.561040        76.892020         96.11503       134.561040   \n",
              "\n",
              "      ENSG00000100749  ENSG00000112715  ENSG00000174917  ENSG00000102226  \\\n",
              "0           61.496834        30.748417        92.245255        30.748417   \n",
              "1            0.000000         0.000000       215.192580         0.000000   \n",
              "2           70.742620        35.371310        70.742620       106.113940   \n",
              "3          130.932900         0.000000       196.399350         0.000000   \n",
              "4           79.045006       168.260470        56.086823       112.173645   \n",
              "...               ...              ...              ...              ...   \n",
              "1422         0.000000         0.000000         0.000000         0.000000   \n",
              "1423         0.000000         0.000000         0.000000         0.000000   \n",
              "1424         0.000000         0.000000         0.000000         0.000000   \n",
              "1425       122.093346       110.993950       110.993950         0.000000   \n",
              "1426       134.561040        57.669014       134.561040        76.892020   \n",
              "\n",
              "      ENSG00000276256  \n",
              "0          122.993670  \n",
              "1            0.000000  \n",
              "2           70.742620  \n",
              "3           65.466450  \n",
              "4           56.086823  \n",
              "...               ...  \n",
              "1422       285.388120  \n",
              "1423         0.000000  \n",
              "1424       146.864440  \n",
              "1425         0.000000  \n",
              "1426        57.669014  \n",
              "\n",
              "[1427 rows x 300 columns]"
            ]
          },
          "execution_count": 40,
          "metadata": {},
          "output_type": "execute_result"
        }
      ],
      "source": [
        "# Filter the DataFrame using the boolean array\n",
        "data_filtered_features = df_filtered.iloc[:,:-10].loc[:, best_features]\n",
        "\n",
        "# Print the filtered DataFrame\n",
        "data_filtered_features"
      ]
    },
    {
      "cell_type": "code",
      "execution_count": null,
      "metadata": {
        "id": "D9F6Yd40ta2B"
      },
      "outputs": [],
      "source": [
        "# view the feature scores\n",
        "#X_df = pd.DataFrame(X_train_val,columns=X.columns)\n",
        "feature_scores = pd.Series(best_classifier_RF.feature_importances_).sort_values(ascending=False)"
      ]
    },
    {
      "cell_type": "code",
      "execution_count": null,
      "metadata": {
        "id": "3vfSm9pIta2B",
        "outputId": "3eb6b064-59e9-4a37-c486-4f331b1234b8"
      },
      "outputs": [
        {
          "data": {
            "text/plain": [
              "120    0.021452\n",
              "292    0.016152\n",
              "138    0.013699\n",
              "261    0.012401\n",
              "1      0.011837\n",
              "         ...   \n",
              "294    0.000968\n",
              "191    0.000945\n",
              "211    0.000755\n",
              "129    0.000659\n",
              "219    0.000141\n",
              "Length: 300, dtype: float64"
            ]
          },
          "execution_count": 37,
          "metadata": {},
          "output_type": "execute_result"
        }
      ],
      "source": [
        "feature_scores"
      ]
    },
    {
      "cell_type": "code",
      "execution_count": null,
      "metadata": {
        "id": "V3xUSl_Tta2B",
        "outputId": "0340f434-75cb-4f9a-aa50-237aede4c21b"
      },
      "outputs": [
        {
          "name": "stdout",
          "output_type": "stream",
          "text": [
            "Index(['ENSG00000132475', 'ENSG00000111011', 'ENSG00000224858',\n",
            "       'ENSG00000163220', 'ENSG00000184840', 'ENSG00000138326',\n",
            "       'ENSG00000196262', 'ENSG00000141504', 'ENSG00000152518',\n",
            "       'ENSG00000205542',\n",
            "       ...\n",
            "       'ENSG00000174917', 'ENSG00000102226', 'ENSG00000137038',\n",
            "       'ENSG00000168542', 'ENSG00000146701', 'ENSG00000135940',\n",
            "       'ENSG00000163634', 'ENSG00000104435', 'ENSG00000258947',\n",
            "       'ENSG00000183735'],\n",
            "      dtype='object', length=300)\n"
          ]
        }
      ],
      "source": [
        "# Get the column names corresponding to the series indices\n",
        "column_names = data_filtered_features.columns[feature_scores.index]\n",
        "\n",
        "# Print the column names\n",
        "print(column_names)"
      ]
    },
    {
      "cell_type": "code",
      "execution_count": null,
      "metadata": {
        "id": "veXKUa7cta2C",
        "outputId": "f83d3342-5bd7-4d29-9fa7-eb40376bea3b"
      },
      "outputs": [
        {
          "name": "stdout",
          "output_type": "stream",
          "text": [
            "Index(['ENSG00000132475', 'ENSG00000111011', 'ENSG00000224858',\n",
            "       'ENSG00000163220', 'ENSG00000184840', 'ENSG00000138326',\n",
            "       'ENSG00000196262', 'ENSG00000141504', 'ENSG00000152518',\n",
            "       'ENSG00000205542'],\n",
            "      dtype='object')\n"
          ]
        }
      ],
      "source": [
        "# Get the column names corresponding to the series indices above the threshold\n",
        "filtered_column_names = data_filtered_features.columns[feature_scores[feature_scores > 0.01].index]\n",
        "\n",
        "# Print the filtered column names\n",
        "print(filtered_column_names)"
      ]
    },
    {
      "cell_type": "markdown",
      "metadata": {
        "id": "-MoaxW-5ta2C"
      },
      "source": [
        "## XGBoost"
      ]
    },
    {
      "cell_type": "markdown",
      "metadata": {
        "id": "LkC89G_Jta2D"
      },
      "source": [
        "#### Cross val for hyperparameter tunning and feature selection"
      ]
    },
    {
      "cell_type": "code",
      "execution_count": null,
      "metadata": {
        "id": "ZDXeKrBDta2D",
        "outputId": "a6d32dab-2fc0-40ab-de1d-b6cc204648a2"
      },
      "outputs": [
        {
          "name": "stdout",
          "output_type": "stream",
          "text": [
            "XGBoost\n"
          ]
        }
      ],
      "source": [
        "print(\"XGBoost\")\n",
        "y = y_labels[y_labels.columns.values[4]].values.astype(int)\n",
        "# Define the number of folds for cross-validation\n",
        "n_folds = 5"
      ]
    },
    {
      "cell_type": "code",
      "execution_count": null,
      "metadata": {
        "id": "w9fYSN3Yta2D"
      },
      "outputs": [],
      "source": [
        "# Define the objective function for Optuna hyperparameter tuning\n",
        "def objective_XG(trial):\n",
        "  global best_features\n",
        "\n",
        "\n",
        "  params = {\n",
        "            'n_estimators': trial.suggest_int('n_estimators', 50, 200),\n",
        "            'max_depth': trial.suggest_int('max_depth', 5, 20),\n",
        "            'learning_rate': trial.suggest_float('learning_rate', 0.01, 0.1),\n",
        "            'subsample': trial.suggest_float('subsample', 0.5, 1.0),\n",
        "            'colsample_bytree': trial.suggest_float('colsample_bytree', 0.5, 1.0),\n",
        "            'gamma': trial.suggest_float('gamma', 0, 5),\n",
        "            'min_child_weight': trial.suggest_int('min_child_weight', 1, 5),\n",
        "            'random_state': 42,\n",
        "            'tree_method': 'hist',  # Optional: Use 'hist' method for faster training\n",
        "            'objective': 'multi:softmax',\n",
        "            'num_class': num_classes  # Replace with the actual number of classes\n",
        "        }\n",
        "\n",
        "  # Instantiate the classifier with the current hyperparameters\n",
        "  classifier = XGBClassifier(**params)\n",
        "\n",
        "  # Perform cross-validation with feature selection\n",
        "  kf = StratifiedKFold(n_splits=n_folds, shuffle=True, random_state=42)\n",
        "  cv_scores = []\n",
        "  feature_selector = SelectKBest(score_func=f_classif, k=300)  # Adjust the number of features as desired\n",
        "  best_features = None\n",
        "\n",
        "  for train_index, val_index in kf.split(X_train_val, y_train_val):\n",
        "\n",
        "      X_train, X_val = X_train_val[train_index], X_train_val[val_index]\n",
        "      y_train, y_val = y_train_val[train_index], y_train_val[val_index]\n",
        "\n",
        "      # Perform feature selection on the training set\n",
        "      X_train_selected = feature_selector.fit_transform(X_train, y_train)\n",
        "      selected_features = feature_selector.get_support()\n",
        "\n",
        "      # Apply the same feature selection on the validation set\n",
        "      X_val_selected = X_val[:, selected_features]\n",
        "\n",
        "      # Fit the classifier on the selected features and evaluate on the validation set\n",
        "      classifier.fit(X_train_selected, y_train)\n",
        "\n",
        "      y_pred = classifier.predict(X_val_selected)\n",
        "\n",
        "      mcc = matthews_corrcoef(y_val, y_pred)\n",
        "      cv_scores.append(mcc)\n",
        "\n",
        "\n",
        "  # Calculate the average MCC\n",
        "  avg_mcc = np.mean(cv_scores)\n",
        "\n",
        "  if trial.should_prune()==False:\n",
        "    best_features = selected_features.copy()\n",
        "\n",
        "\n",
        "  return avg_mcc"
      ]
    },
    {
      "cell_type": "code",
      "execution_count": null,
      "metadata": {
        "id": "sP4RZK7Fta2E",
        "outputId": "885af712-df9d-48e8-e7bc-6f2fe4c78f93"
      },
      "outputs": [
        {
          "name": "stderr",
          "output_type": "stream",
          "text": [
            "[I 2023-07-02 18:05:52,117] A new study created in memory with name: no-name-b41c11cf-65c0-4e1e-a6ba-875895110a9a\n",
            "[I 2023-07-02 18:07:29,973] Trial 0 finished with value: 0.7931045575748381 and parameters: {'n_estimators': 106, 'max_depth': 20, 'learning_rate': 0.07587945476302646, 'subsample': 0.7993292420985183, 'colsample_bytree': 0.5780093202212182, 'gamma': 0.7799726016810132, 'min_child_weight': 1}. Best is trial 0 with value: 0.7931045575748381.\n",
            "[I 2023-07-02 18:08:56,897] Trial 1 finished with value: 0.7670607391414727 and parameters: {'n_estimators': 180, 'max_depth': 14, 'learning_rate': 0.0737265320016441, 'subsample': 0.5102922471479012, 'colsample_bytree': 0.9849549260809971, 'gamma': 4.162213204002109, 'min_child_weight': 2}. Best is trial 0 with value: 0.7931045575748381.\n",
            "[I 2023-07-02 18:10:15,604] Trial 2 finished with value: 0.785038577242037 and parameters: {'n_estimators': 77, 'max_depth': 7, 'learning_rate': 0.0373818018663584, 'subsample': 0.762378215816119, 'colsample_bytree': 0.7159725093210578, 'gamma': 1.4561457009902097, 'min_child_weight': 4}. Best is trial 0 with value: 0.7931045575748381.\n",
            "[I 2023-07-02 18:11:50,200] Trial 3 finished with value: 0.7751555832709933 and parameters: {'n_estimators': 71, 'max_depth': 9, 'learning_rate': 0.04297256589643226, 'subsample': 0.728034992108518, 'colsample_bytree': 0.8925879806965068, 'gamma': 0.9983689107917987, 'min_child_weight': 3}. Best is trial 0 with value: 0.7931045575748381.\n",
            "[I 2023-07-02 18:12:46,220] Trial 4 finished with value: 0.7661724052926688 and parameters: {'n_estimators': 139, 'max_depth': 5, 'learning_rate': 0.06467903667112945, 'subsample': 0.5852620618436457, 'colsample_bytree': 0.5325257964926398, 'gamma': 4.7444276862666666, 'min_child_weight': 5}. Best is trial 0 with value: 0.7931045575748381.\n",
            "[I 2023-07-02 18:16:07,855] Trial 5 finished with value: 0.7880638534770257 and parameters: {'n_estimators': 172, 'max_depth': 9, 'learning_rate': 0.018790490260574548, 'subsample': 0.8421165132560784, 'colsample_bytree': 0.7200762468698007, 'gamma': 0.6101911742238941, 'min_child_weight': 3}. Best is trial 0 with value: 0.7931045575748381.\n",
            "[I 2023-07-02 18:16:55,397] Trial 6 finished with value: 0.7691969566274728 and parameters: {'n_estimators': 55, 'max_depth': 19, 'learning_rate': 0.03329019834400153, 'subsample': 0.831261142176991, 'colsample_bytree': 0.6558555380447055, 'gamma': 2.600340105889054, 'min_child_weight': 3}. Best is trial 0 with value: 0.7931045575748381.\n",
            "[I 2023-07-02 18:17:44,312] Trial 7 finished with value: 0.760310361865154 and parameters: {'n_estimators': 77, 'max_depth': 20, 'learning_rate': 0.07976195410250031, 'subsample': 0.9697494707820946, 'colsample_bytree': 0.9474136752138245, 'gamma': 2.9894998940554256, 'min_child_weight': 5}. Best is trial 0 with value: 0.7931045575748381.\n",
            "[I 2023-07-02 18:18:39,403] Trial 8 finished with value: 0.7616430260413567 and parameters: {'n_estimators': 63, 'max_depth': 8, 'learning_rate': 0.014070456001948426, 'subsample': 0.6626651653816322, 'colsample_bytree': 0.6943386448447411, 'gamma': 1.3567451588694794, 'min_child_weight': 5}. Best is trial 0 with value: 0.7931045575748381.\n",
            "[I 2023-07-02 18:20:11,153] Trial 9 finished with value: 0.7901913125108952 and parameters: {'n_estimators': 103, 'max_depth': 9, 'learning_rate': 0.058842647484242366, 'subsample': 0.5704621124873813, 'colsample_bytree': 0.9010984903770198, 'gamma': 0.3727532183988541, 'min_child_weight': 5}. Best is trial 0 with value: 0.7931045575748381.\n",
            "[I 2023-07-02 18:22:37,973] Trial 10 finished with value: 0.757337989651549 and parameters: {'n_estimators': 166, 'max_depth': 8, 'learning_rate': 0.010496990541124216, 'subsample': 0.9077307142274171, 'colsample_bytree': 0.8534286719238086, 'gamma': 3.6450358402049368, 'min_child_weight': 4}. Best is trial 0 with value: 0.7931045575748381.\n",
            "[I 2023-07-02 18:24:18,945] Trial 11 finished with value: 0.7599992510916702 and parameters: {'n_estimators': 61, 'max_depth': 10, 'learning_rate': 0.020428215357261678, 'subsample': 0.9315517129377968, 'colsample_bytree': 0.811649063413779, 'gamma': 1.654490124263246, 'min_child_weight': 1}. Best is trial 0 with value: 0.7931045575748381.\n",
            "[I 2023-07-02 18:25:34,664] Trial 12 finished with value: 0.7701746148111115 and parameters: {'n_estimators': 96, 'max_depth': 10, 'learning_rate': 0.07566455605042577, 'subsample': 0.8187787356776066, 'colsample_bytree': 0.9436063712881633, 'gamma': 2.3610746258097466, 'min_child_weight': 1}. Best is trial 0 with value: 0.7931045575748381.\n",
            "[I 2023-07-02 18:26:40,737] Trial 13 finished with value: 0.767162301681192 and parameters: {'n_estimators': 157, 'max_depth': 17, 'learning_rate': 0.06051494778125467, 'subsample': 0.8854835899772805, 'colsample_bytree': 0.7468977981821954, 'gamma': 2.6136641469099704, 'min_child_weight': 3}. Best is trial 0 with value: 0.7931045575748381.\n",
            "[I 2023-07-02 18:27:24,790] Trial 14 finished with value: 0.751370157579138 and parameters: {'n_estimators': 53, 'max_depth': 6, 'learning_rate': 0.012828626711806084, 'subsample': 0.8182052056318903, 'colsample_bytree': 0.6571779905381634, 'gamma': 2.542853455823514, 'min_child_weight': 5}. Best is trial 0 with value: 0.7931045575748381.\n",
            "[I 2023-07-02 18:28:32,240] Trial 15 finished with value: 0.7870294355980734 and parameters: {'n_estimators': 87, 'max_depth': 11, 'learning_rate': 0.07799960246887438, 'subsample': 0.6143990827458112, 'colsample_bytree': 0.5384899549143964, 'gamma': 1.4487572645688402, 'min_child_weight': 1}. Best is trial 0 with value: 0.7931045575748381.\n",
            "[I 2023-07-02 18:30:38,765] Trial 16 finished with value: 0.7830585202082878 and parameters: {'n_estimators': 190, 'max_depth': 17, 'learning_rate': 0.06700633808593812, 'subsample': 0.9357302950938589, 'colsample_bytree': 0.9018360384495572, 'gamma': 0.9328502944301792, 'min_child_weight': 5}. Best is trial 0 with value: 0.7931045575748381.\n",
            "[I 2023-07-02 18:31:45,831] Trial 17 finished with value: 0.7939890084792289 and parameters: {'n_estimators': 131, 'max_depth': 17, 'learning_rate': 0.0906482169931144, 'subsample': 0.6590017374859319, 'colsample_bytree': 0.5550259622638384, 'gamma': 1.1396758127097084, 'min_child_weight': 3}. Best is trial 17 with value: 0.7939890084792289.\n",
            "[I 2023-07-02 18:35:52,995] Trial 18 finished with value: 0.7749751930670169 and parameters: {'n_estimators': 173, 'max_depth': 18, 'learning_rate': 0.010625691747807163, 'subsample': 0.7553736512887829, 'colsample_bytree': 0.7087055015743895, 'gamma': 1.1105390523536514, 'min_child_weight': 1}. Best is trial 17 with value: 0.7939890084792289.\n",
            "[I 2023-07-02 18:37:23,132] Trial 19 finished with value: 0.7811958993601065 and parameters: {'n_estimators': 100, 'max_depth': 20, 'learning_rate': 0.03908826388186797, 'subsample': 0.7593953108716831, 'colsample_bytree': 0.8515094794475889, 'gamma': 1.81814801189647, 'min_child_weight': 5}. Best is trial 17 with value: 0.7939890084792289.\n",
            "[I 2023-07-02 18:39:20,835] Trial 20 finished with value: 0.8030247982438945 and parameters: {'n_estimators': 195, 'max_depth': 9, 'learning_rate': 0.0547523655303147, 'subsample': 0.6504391549083848, 'colsample_bytree': 0.6424202471887338, 'gamma': 0.18443473677266398, 'min_child_weight': 4}. Best is trial 20 with value: 0.8030247982438945.\n",
            "[I 2023-07-02 18:41:41,917] Trial 21 finished with value: 0.7851858832862518 and parameters: {'n_estimators': 125, 'max_depth': 5, 'learning_rate': 0.035078181781295036, 'subsample': 0.9541329429833268, 'colsample_bytree': 0.6197809453334862, 'gamma': 0.7244743604561155, 'min_child_weight': 3}. Best is trial 20 with value: 0.8030247982438945.\n",
            "[I 2023-07-02 18:43:02,060] Trial 22 finished with value: 0.7801183209474328 and parameters: {'n_estimators': 198, 'max_depth': 8, 'learning_rate': 0.07049219926652908, 'subsample': 0.8808098076643588, 'colsample_bytree': 0.6188187719961998, 'gamma': 3.641081743059298, 'min_child_weight': 2}. Best is trial 20 with value: 0.8030247982438945.\n",
            "[I 2023-07-02 18:45:02,546] Trial 23 finished with value: 0.7930572819061041 and parameters: {'n_estimators': 145, 'max_depth': 15, 'learning_rate': 0.05821972156672827, 'subsample': 0.5451448850272042, 'colsample_bytree': 0.917651247794619, 'gamma': 1.6039003248586792, 'min_child_weight': 1}. Best is trial 20 with value: 0.8030247982438945.\n",
            "[I 2023-07-02 18:45:45,777] Trial 24 finished with value: 0.7871583025457579 and parameters: {'n_estimators': 56, 'max_depth': 14, 'learning_rate': 0.07098079256580542, 'subsample': 0.508293914463928, 'colsample_bytree': 0.7560465291496405, 'gamma': 1.1324788759896898, 'min_child_weight': 4}. Best is trial 20 with value: 0.8030247982438945.\n",
            "[I 2023-07-02 18:47:07,622] Trial 25 finished with value: 0.7789888218160491 and parameters: {'n_estimators': 76, 'max_depth': 16, 'learning_rate': 0.044806181167048376, 'subsample': 0.9683649943683672, 'colsample_bytree': 0.5687604720729966, 'gamma': 1.7053317552512925, 'min_child_weight': 1}. Best is trial 20 with value: 0.8030247982438945.\n",
            "[I 2023-07-02 18:49:23,218] Trial 26 finished with value: 0.7711343264720669 and parameters: {'n_estimators': 189, 'max_depth': 19, 'learning_rate': 0.033214746494364004, 'subsample': 0.8299920230170895, 'colsample_bytree': 0.9086111001006079, 'gamma': 2.7760040579973118, 'min_child_weight': 3}. Best is trial 20 with value: 0.8030247982438945.\n",
            "[I 2023-07-02 18:50:34,165] Trial 27 finished with value: 0.7831393094303104 and parameters: {'n_estimators': 86, 'max_depth': 6, 'learning_rate': 0.09074941821579942, 'subsample': 0.9502090285816652, 'colsample_bytree': 0.816550728636634, 'gamma': 1.6951489552435035, 'min_child_weight': 2}. Best is trial 20 with value: 0.8030247982438945.\n",
            "[I 2023-07-02 18:53:03,531] Trial 28 finished with value: 0.7959902659478048 and parameters: {'n_estimators': 159, 'max_depth': 19, 'learning_rate': 0.08983777818386056, 'subsample': 0.8899377729288119, 'colsample_bytree': 0.8210158230771438, 'gamma': 0.42069982497524416, 'min_child_weight': 1}. Best is trial 20 with value: 0.8030247982438945.\n",
            "[I 2023-07-02 18:58:52,264] Trial 29 finished with value: 0.7701720247733768 and parameters: {'n_estimators': 185, 'max_depth': 14, 'learning_rate': 0.010827734645496669, 'subsample': 0.5507357714330161, 'colsample_bytree': 0.8317508845540279, 'gamma': 0.025307919231093434, 'min_child_weight': 1}. Best is trial 20 with value: 0.8030247982438945.\n",
            "[I 2023-07-02 19:00:15,682] Trial 30 finished with value: 0.7871943484949762 and parameters: {'n_estimators': 132, 'max_depth': 16, 'learning_rate': 0.06867651335523406, 'subsample': 0.61213465473028, 'colsample_bytree': 0.8560896106737679, 'gamma': 1.1862454374840004, 'min_child_weight': 2}. Best is trial 20 with value: 0.8030247982438945.\n",
            "[I 2023-07-02 19:02:15,420] Trial 31 finished with value: 0.7852005917730881 and parameters: {'n_estimators': 162, 'max_depth': 15, 'learning_rate': 0.08643010694447602, 'subsample': 0.8288064461501716, 'colsample_bytree': 0.7841543016677358, 'gamma': 0.4683738391404624, 'min_child_weight': 2}. Best is trial 20 with value: 0.8030247982438945.\n",
            "[I 2023-07-02 19:03:14,640] Trial 32 finished with value: 0.7610483371410941 and parameters: {'n_estimators': 90, 'max_depth': 8, 'learning_rate': 0.09757094992772011, 'subsample': 0.6965488623333802, 'colsample_bytree': 0.9460232775885566, 'gamma': 3.1556931299863145, 'min_child_weight': 4}. Best is trial 20 with value: 0.8030247982438945.\n",
            "[I 2023-07-02 19:05:35,751] Trial 33 finished with value: 0.7791649093343255 and parameters: {'n_estimators': 125, 'max_depth': 14, 'learning_rate': 0.05432659244369776, 'subsample': 0.5976214938990223, 'colsample_bytree': 0.8612260576307527, 'gamma': 1.403861812204279, 'min_child_weight': 1}. Best is trial 20 with value: 0.8030247982438945.\n",
            "[I 2023-07-02 19:07:20,525] Trial 34 finished with value: 0.7690489319998127 and parameters: {'n_estimators': 147, 'max_depth': 7, 'learning_rate': 0.09464127259176229, 'subsample': 0.9769642885012937, 'colsample_bytree': 0.9574321951102243, 'gamma': 1.8507935012772219, 'min_child_weight': 1}. Best is trial 20 with value: 0.8030247982438945.\n",
            "[I 2023-07-02 19:09:22,680] Trial 35 finished with value: 0.7680790299338283 and parameters: {'n_estimators': 190, 'max_depth': 11, 'learning_rate': 0.09699893371393027, 'subsample': 0.9818099885446264, 'colsample_bytree': 0.92650472773368, 'gamma': 1.4722444603479286, 'min_child_weight': 2}. Best is trial 20 with value: 0.8030247982438945.\n",
            "[I 2023-07-02 19:12:02,328] Trial 36 finished with value: 0.7719922532655648 and parameters: {'n_estimators': 178, 'max_depth': 10, 'learning_rate': 0.025254347201748326, 'subsample': 0.7784006312291751, 'colsample_bytree': 0.9680773870803905, 'gamma': 3.480148983374865, 'min_child_weight': 3}. Best is trial 20 with value: 0.8030247982438945.\n",
            "[I 2023-07-02 19:12:33,209] Trial 37 finished with value: 0.7622393933568504 and parameters: {'n_estimators': 64, 'max_depth': 14, 'learning_rate': 0.0991048465093837, 'subsample': 0.570042007618262, 'colsample_bytree': 0.7591648261818684, 'gamma': 4.386865359639777, 'min_child_weight': 4}. Best is trial 20 with value: 0.8030247982438945.\n",
            "[I 2023-07-02 19:13:58,317] Trial 38 finished with value: 0.7582017899726509 and parameters: {'n_estimators': 155, 'max_depth': 16, 'learning_rate': 0.04235420360977797, 'subsample': 0.6467959221322467, 'colsample_bytree': 0.9046805777392568, 'gamma': 4.050566973395904, 'min_child_weight': 5}. Best is trial 20 with value: 0.8030247982438945.\n",
            "[I 2023-07-02 19:15:30,662] Trial 39 finished with value: 0.7631621566336955 and parameters: {'n_estimators': 187, 'max_depth': 13, 'learning_rate': 0.05513646652184797, 'subsample': 0.8991475894833876, 'colsample_bytree': 0.8249819653888826, 'gamma': 3.509834386288517, 'min_child_weight': 4}. Best is trial 20 with value: 0.8030247982438945.\n",
            "[I 2023-07-02 19:17:42,042] Trial 40 finished with value: 0.7942759772930816 and parameters: {'n_estimators': 184, 'max_depth': 10, 'learning_rate': 0.04380246573759497, 'subsample': 0.5469909699204345, 'colsample_bytree': 0.789140070498087, 'gamma': 0.17971136898371043, 'min_child_weight': 3}. Best is trial 20 with value: 0.8030247982438945.\n",
            "[I 2023-07-02 19:18:34,658] Trial 41 finished with value: 0.7764225395543992 and parameters: {'n_estimators': 131, 'max_depth': 9, 'learning_rate': 0.06317499345121097, 'subsample': 0.5152501249695247, 'colsample_bytree': 0.5186740943746072, 'gamma': 4.113002803298292, 'min_child_weight': 2}. Best is trial 20 with value: 0.8030247982438945.\n",
            "[I 2023-07-02 19:20:10,766] Trial 42 finished with value: 0.7814435057152782 and parameters: {'n_estimators': 69, 'max_depth': 13, 'learning_rate': 0.07929941977887497, 'subsample': 0.6079105137484215, 'colsample_bytree': 0.8114452379095001, 'gamma': 0.42673732496884, 'min_child_weight': 1}. Best is trial 20 with value: 0.8030247982438945.\n",
            "[I 2023-07-02 19:21:37,536] Trial 43 finished with value: 0.7750727586182771 and parameters: {'n_estimators': 130, 'max_depth': 13, 'learning_rate': 0.06736869113483859, 'subsample': 0.8630456668613308, 'colsample_bytree': 0.9879260397312672, 'gamma': 2.5815017415059764, 'min_child_weight': 2}. Best is trial 20 with value: 0.8030247982438945.\n",
            "[I 2023-07-02 19:22:44,989] Trial 44 finished with value: 0.7714004935758945 and parameters: {'n_estimators': 170, 'max_depth': 9, 'learning_rate': 0.04950742786350726, 'subsample': 0.5392281906711329, 'colsample_bytree': 0.5126753717077288, 'gamma': 4.813242073389626, 'min_child_weight': 5}. Best is trial 20 with value: 0.8030247982438945.\n",
            "[I 2023-07-02 19:24:25,075] Trial 45 finished with value: 0.7813243802730676 and parameters: {'n_estimators': 155, 'max_depth': 11, 'learning_rate': 0.02559648880637612, 'subsample': 0.5782185213355431, 'colsample_bytree': 0.6251214490822976, 'gamma': 2.7461333235306022, 'min_child_weight': 4}. Best is trial 20 with value: 0.8030247982438945.\n",
            "[I 2023-07-02 19:25:28,232] Trial 46 finished with value: 0.7739324236337971 and parameters: {'n_estimators': 149, 'max_depth': 9, 'learning_rate': 0.09593787525968747, 'subsample': 0.8689484583478843, 'colsample_bytree': 0.7771770262557003, 'gamma': 3.058603731171761, 'min_child_weight': 3}. Best is trial 20 with value: 0.8030247982438945.\n",
            "[I 2023-07-02 19:26:52,421] Trial 47 finished with value: 0.8022809258819213 and parameters: {'n_estimators': 87, 'max_depth': 10, 'learning_rate': 0.07820614994179323, 'subsample': 0.5071967443148779, 'colsample_bytree': 0.5580363202534582, 'gamma': 0.23001321010876374, 'min_child_weight': 1}. Best is trial 20 with value: 0.8030247982438945.\n",
            "[I 2023-07-02 19:28:47,397] Trial 48 finished with value: 0.787097285944812 and parameters: {'n_estimators': 179, 'max_depth': 16, 'learning_rate': 0.05267564461785927, 'subsample': 0.5489170803255008, 'colsample_bytree': 0.7458079375584161, 'gamma': 2.3673588539028283, 'min_child_weight': 1}. Best is trial 20 with value: 0.8030247982438945.\n",
            "[I 2023-07-02 19:29:53,003] Trial 49 finished with value: 0.7821799781140386 and parameters: {'n_estimators': 115, 'max_depth': 11, 'learning_rate': 0.06542650882469948, 'subsample': 0.8175468254338218, 'colsample_bytree': 0.5226520048860223, 'gamma': 1.873063073132356, 'min_child_weight': 4}. Best is trial 20 with value: 0.8030247982438945.\n",
            "[I 2023-07-02 19:30:47,403] Trial 50 finished with value: 0.7760884011385176 and parameters: {'n_estimators': 125, 'max_depth': 18, 'learning_rate': 0.06928242684570506, 'subsample': 0.5814672135407148, 'colsample_bytree': 0.5352843737002149, 'gamma': 3.212096391031578, 'min_child_weight': 1}. Best is trial 20 with value: 0.8030247982438945.\n",
            "[I 2023-07-02 19:32:08,492] Trial 51 finished with value: 0.7742410540098652 and parameters: {'n_estimators': 138, 'max_depth': 20, 'learning_rate': 0.061792676008829116, 'subsample': 0.694084963103261, 'colsample_bytree': 0.8216441092211766, 'gamma': 2.2912644524575834, 'min_child_weight': 3}. Best is trial 20 with value: 0.8030247982438945.\n",
            "[I 2023-07-02 19:33:55,302] Trial 52 finished with value: 0.7960305695692591 and parameters: {'n_estimators': 192, 'max_depth': 11, 'learning_rate': 0.09650715074415228, 'subsample': 0.9526753209780319, 'colsample_bytree': 0.5978955673946482, 'gamma': 0.3468065043758273, 'min_child_weight': 1}. Best is trial 20 with value: 0.8030247982438945.\n",
            "[I 2023-07-02 19:34:27,791] Trial 53 finished with value: 0.7581530128721929 and parameters: {'n_estimators': 52, 'max_depth': 6, 'learning_rate': 0.07147060960747212, 'subsample': 0.5355943242301144, 'colsample_bytree': 0.6594878151468806, 'gamma': 4.2243765548472725, 'min_child_weight': 1}. Best is trial 20 with value: 0.8030247982438945.\n",
            "[I 2023-07-02 19:36:05,413] Trial 54 finished with value: 0.759113437574129 and parameters: {'n_estimators': 172, 'max_depth': 9, 'learning_rate': 0.020634834485949063, 'subsample': 0.8483685826820753, 'colsample_bytree': 0.8144714233899419, 'gamma': 4.387360067635265, 'min_child_weight': 4}. Best is trial 20 with value: 0.8030247982438945.\n",
            "[I 2023-07-02 19:38:05,309] Trial 55 finished with value: 0.7591974852988301 and parameters: {'n_estimators': 171, 'max_depth': 9, 'learning_rate': 0.025969558940175053, 'subsample': 0.8753073758204292, 'colsample_bytree': 0.9034173696336321, 'gamma': 4.952525710003367, 'min_child_weight': 3}. Best is trial 20 with value: 0.8030247982438945.\n",
            "[I 2023-07-02 19:39:48,144] Trial 56 finished with value: 0.7649552621520661 and parameters: {'n_estimators': 106, 'max_depth': 17, 'learning_rate': 0.04067231862277161, 'subsample': 0.9653786628017824, 'colsample_bytree': 0.9292063759215059, 'gamma': 2.1449701368750915, 'min_child_weight': 4}. Best is trial 20 with value: 0.8030247982438945.\n",
            "[I 2023-07-02 19:41:08,005] Trial 57 finished with value: 0.7940491379068193 and parameters: {'n_estimators': 163, 'max_depth': 6, 'learning_rate': 0.091229761601161, 'subsample': 0.7526261862239285, 'colsample_bytree': 0.9132287330538709, 'gamma': 1.6002480051530588, 'min_child_weight': 5}. Best is trial 20 with value: 0.8030247982438945.\n",
            "[I 2023-07-02 19:41:45,462] Trial 58 finished with value: 0.7643583138726402 and parameters: {'n_estimators': 108, 'max_depth': 5, 'learning_rate': 0.09148437787773374, 'subsample': 0.5456433383930668, 'colsample_bytree': 0.6596568187952074, 'gamma': 4.750309835254025, 'min_child_weight': 5}. Best is trial 20 with value: 0.8030247982438945.\n",
            "[I 2023-07-02 19:42:50,888] Trial 59 finished with value: 0.7661691696146163 and parameters: {'n_estimators': 136, 'max_depth': 15, 'learning_rate': 0.05036009697804879, 'subsample': 0.6466053858490323, 'colsample_bytree': 0.664332272684958, 'gamma': 3.362592280385192, 'min_child_weight': 4}. Best is trial 20 with value: 0.8030247982438945.\n",
            "[I 2023-07-02 19:44:48,700] Trial 60 finished with value: 0.7810375572392461 and parameters: {'n_estimators': 169, 'max_depth': 17, 'learning_rate': 0.018208549274382133, 'subsample': 0.7472101523512907, 'colsample_bytree': 0.5287793800083221, 'gamma': 2.7476444116186776, 'min_child_weight': 3}. Best is trial 20 with value: 0.8030247982438945.\n",
            "[I 2023-07-02 19:47:24,812] Trial 61 finished with value: 0.7711487223528447 and parameters: {'n_estimators': 184, 'max_depth': 10, 'learning_rate': 0.02053603147848453, 'subsample': 0.5714958410264179, 'colsample_bytree': 0.8807553158587361, 'gamma': 3.0910903165813055, 'min_child_weight': 1}. Best is trial 20 with value: 0.8030247982438945.\n",
            "[I 2023-07-02 19:50:09,287] Trial 62 finished with value: 0.7679460169032725 and parameters: {'n_estimators': 62, 'max_depth': 16, 'learning_rate': 0.016548670572777417, 'subsample': 0.9109300296451781, 'colsample_bytree': 0.8531211135782482, 'gamma': 0.4067439032094988, 'min_child_weight': 1}. Best is trial 20 with value: 0.8030247982438945.\n",
            "[I 2023-07-02 19:51:34,455] Trial 63 finished with value: 0.7510724396070654 and parameters: {'n_estimators': 198, 'max_depth': 10, 'learning_rate': 0.04335779323602019, 'subsample': 0.9063997836287513, 'colsample_bytree': 0.9736242886919293, 'gamma': 4.930005319114354, 'min_child_weight': 4}. Best is trial 20 with value: 0.8030247982438945.\n",
            "[I 2023-07-02 19:52:24,353] Trial 64 finished with value: 0.7740952642254572 and parameters: {'n_estimators': 106, 'max_depth': 6, 'learning_rate': 0.07994322243346931, 'subsample': 0.7792021248679025, 'colsample_bytree': 0.7121110046234882, 'gamma': 4.53177192547368, 'min_child_weight': 1}. Best is trial 20 with value: 0.8030247982438945.\n",
            "[I 2023-07-02 19:53:52,434] Trial 65 finished with value: 0.7992161013895974 and parameters: {'n_estimators': 124, 'max_depth': 5, 'learning_rate': 0.05217945777947137, 'subsample': 0.5281516378409187, 'colsample_bytree': 0.559408958134036, 'gamma': 0.5876312338855244, 'min_child_weight': 4}. Best is trial 20 with value: 0.8030247982438945.\n",
            "[I 2023-07-02 19:54:53,073] Trial 66 finished with value: 0.7751684782049646 and parameters: {'n_estimators': 162, 'max_depth': 14, 'learning_rate': 0.09659552936270878, 'subsample': 0.6874352897618521, 'colsample_bytree': 0.6428560431409304, 'gamma': 4.342995640947302, 'min_child_weight': 2}. Best is trial 20 with value: 0.8030247982438945.\n",
            "[I 2023-07-02 19:56:17,275] Trial 67 finished with value: 0.7832773317745001 and parameters: {'n_estimators': 195, 'max_depth': 5, 'learning_rate': 0.09728909440368752, 'subsample': 0.5215799559752881, 'colsample_bytree': 0.9455715568490355, 'gamma': 2.6385055454314994, 'min_child_weight': 5}. Best is trial 20 with value: 0.8030247982438945.\n",
            "[I 2023-07-02 19:56:47,659] Trial 68 finished with value: 0.7783226235442202 and parameters: {'n_estimators': 61, 'max_depth': 13, 'learning_rate': 0.09723722820571891, 'subsample': 0.7615489220850744, 'colsample_bytree': 0.8146993190676313, 'gamma': 3.4787434449230856, 'min_child_weight': 3}. Best is trial 20 with value: 0.8030247982438945.\n",
            "[I 2023-07-02 19:57:27,889] Trial 69 finished with value: 0.7653390522221559 and parameters: {'n_estimators': 144, 'max_depth': 14, 'learning_rate': 0.09110422094418902, 'subsample': 0.522723190170729, 'colsample_bytree': 0.6404815947961151, 'gamma': 4.752057420382794, 'min_child_weight': 5}. Best is trial 20 with value: 0.8030247982438945.\n",
            "[I 2023-07-02 19:59:13,607] Trial 70 finished with value: 0.788285629795967 and parameters: {'n_estimators': 118, 'max_depth': 14, 'learning_rate': 0.034964306468301946, 'subsample': 0.5940605798618807, 'colsample_bytree': 0.7318492024699911, 'gamma': 1.766761140130264, 'min_child_weight': 3}. Best is trial 20 with value: 0.8030247982438945.\n",
            "[I 2023-07-02 20:00:05,680] Trial 71 finished with value: 0.7752447684569577 and parameters: {'n_estimators': 61, 'max_depth': 20, 'learning_rate': 0.09875896700316426, 'subsample': 0.8490808570098726, 'colsample_bytree': 0.7680481831720603, 'gamma': 1.5476380814316388, 'min_child_weight': 5}. Best is trial 20 with value: 0.8030247982438945.\n",
            "[I 2023-07-02 20:00:59,457] Trial 72 finished with value: 0.7590980044003135 and parameters: {'n_estimators': 153, 'max_depth': 7, 'learning_rate': 0.09198344660444582, 'subsample': 0.9112686214615845, 'colsample_bytree': 0.974899956645962, 'gamma': 3.6285975419418, 'min_child_weight': 4}. Best is trial 20 with value: 0.8030247982438945.\n",
            "[I 2023-07-02 20:01:43,250] Trial 73 finished with value: 0.7983048412666743 and parameters: {'n_estimators': 113, 'max_depth': 19, 'learning_rate': 0.08794575005503676, 'subsample': 0.5226093350530947, 'colsample_bytree': 0.5131834872486261, 'gamma': 1.8823168343902479, 'min_child_weight': 5}. Best is trial 20 with value: 0.8030247982438945.\n",
            "[I 2023-07-02 20:03:18,725] Trial 74 finished with value: 0.764076265142061 and parameters: {'n_estimators': 199, 'max_depth': 7, 'learning_rate': 0.06347176438169216, 'subsample': 0.6904454283155108, 'colsample_bytree': 0.9849571989073016, 'gamma': 4.210594615678543, 'min_child_weight': 5}. Best is trial 20 with value: 0.8030247982438945.\n",
            "[I 2023-07-02 20:04:41,099] Trial 75 finished with value: 0.763491125513528 and parameters: {'n_estimators': 120, 'max_depth': 11, 'learning_rate': 0.034606636473763566, 'subsample': 0.5281877483254636, 'colsample_bytree': 0.9323611881275267, 'gamma': 4.064505045650388, 'min_child_weight': 5}. Best is trial 20 with value: 0.8030247982438945.\n",
            "[I 2023-07-02 20:06:46,071] Trial 76 finished with value: 0.7760378414508855 and parameters: {'n_estimators': 200, 'max_depth': 13, 'learning_rate': 0.07920886736624595, 'subsample': 0.9723828649412141, 'colsample_bytree': 0.9248236953387057, 'gamma': 1.2367405087159882, 'min_child_weight': 3}. Best is trial 20 with value: 0.8030247982438945.\n",
            "[I 2023-07-02 20:07:40,886] Trial 77 finished with value: 0.7682069059800382 and parameters: {'n_estimators': 69, 'max_depth': 20, 'learning_rate': 0.06455571710057921, 'subsample': 0.6143214027517314, 'colsample_bytree': 0.8358503422029284, 'gamma': 3.090641202289479, 'min_child_weight': 2}. Best is trial 20 with value: 0.8030247982438945.\n",
            "[I 2023-07-02 20:08:18,098] Trial 78 finished with value: 0.7600824368376448 and parameters: {'n_estimators': 67, 'max_depth': 15, 'learning_rate': 0.056827693081341404, 'subsample': 0.8861591958678197, 'colsample_bytree': 0.7600817505559967, 'gamma': 4.2609075015927, 'min_child_weight': 3}. Best is trial 20 with value: 0.8030247982438945.\n",
            "[I 2023-07-02 20:09:18,091] Trial 79 finished with value: 0.7762470675717938 and parameters: {'n_estimators': 134, 'max_depth': 19, 'learning_rate': 0.04631345795911574, 'subsample': 0.5670076142253204, 'colsample_bytree': 0.5143913381566695, 'gamma': 3.775686278368095, 'min_child_weight': 4}. Best is trial 20 with value: 0.8030247982438945.\n",
            "[I 2023-07-02 20:11:15,590] Trial 80 finished with value: 0.7671966608025654 and parameters: {'n_estimators': 156, 'max_depth': 8, 'learning_rate': 0.02227343280280928, 'subsample': 0.507272332833941, 'colsample_bytree': 0.6752937794032985, 'gamma': 2.9495884342731653, 'min_child_weight': 2}. Best is trial 20 with value: 0.8030247982438945.\n",
            "[I 2023-07-02 20:13:06,917] Trial 81 finished with value: 0.7859712959146197 and parameters: {'n_estimators': 116, 'max_depth': 19, 'learning_rate': 0.041342992032097035, 'subsample': 0.7569947445799055, 'colsample_bytree': 0.8918265063705715, 'gamma': 1.9827139116063508, 'min_child_weight': 4}. Best is trial 20 with value: 0.8030247982438945.\n",
            "[I 2023-07-02 20:16:13,892] Trial 82 finished with value: 0.7810698203407287 and parameters: {'n_estimators': 180, 'max_depth': 20, 'learning_rate': 0.023236613283613414, 'subsample': 0.9632938125807472, 'colsample_bytree': 0.7460581465397691, 'gamma': 1.2912219414947916, 'min_child_weight': 3}. Best is trial 20 with value: 0.8030247982438945.\n",
            "[I 2023-07-02 20:19:26,997] Trial 83 finished with value: 0.7999220640728808 and parameters: {'n_estimators': 197, 'max_depth': 12, 'learning_rate': 0.03958764492587574, 'subsample': 0.8167004271583629, 'colsample_bytree': 0.6200728093890966, 'gamma': 0.3793166405433196, 'min_child_weight': 1}. Best is trial 20 with value: 0.8030247982438945.\n",
            "[I 2023-07-02 20:20:21,953] Trial 84 finished with value: 0.770029248889606 and parameters: {'n_estimators': 69, 'max_depth': 7, 'learning_rate': 0.022494445538446914, 'subsample': 0.8204373724016073, 'colsample_bytree': 0.5909400421995724, 'gamma': 1.728336416619316, 'min_child_weight': 5}. Best is trial 20 with value: 0.8030247982438945.\n",
            "[I 2023-07-02 20:21:54,273] Trial 85 finished with value: 0.7913040009368457 and parameters: {'n_estimators': 121, 'max_depth': 15, 'learning_rate': 0.025508788408146688, 'subsample': 0.5961445094043354, 'colsample_bytree': 0.5204343081332394, 'gamma': 0.8446753153608227, 'min_child_weight': 2}. Best is trial 20 with value: 0.8030247982438945.\n",
            "[I 2023-07-02 20:22:50,661] Trial 86 finished with value: 0.760318194728332 and parameters: {'n_estimators': 76, 'max_depth': 6, 'learning_rate': 0.020857228399054073, 'subsample': 0.7303893840163629, 'colsample_bytree': 0.6031668592028963, 'gamma': 1.8213493052403773, 'min_child_weight': 3}. Best is trial 20 with value: 0.8030247982438945.\n",
            "[I 2023-07-02 20:23:40,166] Trial 87 finished with value: 0.7651175476226028 and parameters: {'n_estimators': 154, 'max_depth': 5, 'learning_rate': 0.08194693590181384, 'subsample': 0.8139501947454539, 'colsample_bytree': 0.540879515974436, 'gamma': 4.3678931205338865, 'min_child_weight': 5}. Best is trial 20 with value: 0.8030247982438945.\n",
            "[I 2023-07-02 20:24:33,727] Trial 88 finished with value: 0.7960729887598175 and parameters: {'n_estimators': 59, 'max_depth': 9, 'learning_rate': 0.08255811518137553, 'subsample': 0.8741298451918291, 'colsample_bytree': 0.5922605096781887, 'gamma': 1.0467466166835515, 'min_child_weight': 2}. Best is trial 20 with value: 0.8030247982438945.\n",
            "[I 2023-07-02 20:27:23,861] Trial 89 finished with value: 0.7882007365910395 and parameters: {'n_estimators': 123, 'max_depth': 14, 'learning_rate': 0.043202227561279526, 'subsample': 0.731267358066574, 'colsample_bytree': 0.8737354690668783, 'gamma': 0.1834160144529895, 'min_child_weight': 2}. Best is trial 20 with value: 0.8030247982438945.\n",
            "[I 2023-07-02 20:28:38,314] Trial 90 finished with value: 0.7950516843075653 and parameters: {'n_estimators': 157, 'max_depth': 19, 'learning_rate': 0.05605096979040996, 'subsample': 0.7660567426326579, 'colsample_bytree': 0.553586005669888, 'gamma': 2.237061834117273, 'min_child_weight': 3}. Best is trial 20 with value: 0.8030247982438945.\n",
            "[I 2023-07-02 20:29:54,203] Trial 91 finished with value: 0.7792991971106535 and parameters: {'n_estimators': 86, 'max_depth': 9, 'learning_rate': 0.04395557467941604, 'subsample': 0.5100355988888632, 'colsample_bytree': 0.6610395827915891, 'gamma': 1.0572400349827231, 'min_child_weight': 2}. Best is trial 20 with value: 0.8030247982438945.\n",
            "[I 2023-07-02 20:30:48,054] Trial 92 finished with value: 0.7739527250597826 and parameters: {'n_estimators': 68, 'max_depth': 19, 'learning_rate': 0.06342332081986439, 'subsample': 0.8395511595722448, 'colsample_bytree': 0.8945856193036692, 'gamma': 2.492210994645286, 'min_child_weight': 1}. Best is trial 20 with value: 0.8030247982438945.\n",
            "[I 2023-07-02 20:32:00,219] Trial 93 finished with value: 0.7960921315512047 and parameters: {'n_estimators': 131, 'max_depth': 14, 'learning_rate': 0.0770895526765897, 'subsample': 0.7158297731148398, 'colsample_bytree': 0.5637901513977819, 'gamma': 1.4188795289936222, 'min_child_weight': 2}. Best is trial 20 with value: 0.8030247982438945.\n",
            "[I 2023-07-02 20:34:18,931] Trial 94 finished with value: 0.7750827873268717 and parameters: {'n_estimators': 147, 'max_depth': 14, 'learning_rate': 0.042048705330806166, 'subsample': 0.9932576243964899, 'colsample_bytree': 0.8028874096784435, 'gamma': 1.1861339586799724, 'min_child_weight': 1}. Best is trial 20 with value: 0.8030247982438945.\n",
            "[I 2023-07-02 20:35:07,389] Trial 95 finished with value: 0.7715760092690896 and parameters: {'n_estimators': 73, 'max_depth': 8, 'learning_rate': 0.024461323593360014, 'subsample': 0.5932835120256529, 'colsample_bytree': 0.6425475843469235, 'gamma': 0.8668679764737741, 'min_child_weight': 5}. Best is trial 20 with value: 0.8030247982438945.\n",
            "[I 2023-07-02 20:35:56,364] Trial 96 finished with value: 0.7770972159221616 and parameters: {'n_estimators': 62, 'max_depth': 13, 'learning_rate': 0.04693571442906954, 'subsample': 0.9911893084543032, 'colsample_bytree': 0.5560194510840262, 'gamma': 1.9892779952287083, 'min_child_weight': 5}. Best is trial 20 with value: 0.8030247982438945.\n",
            "[I 2023-07-02 20:37:32,724] Trial 97 finished with value: 0.7552942535950715 and parameters: {'n_estimators': 180, 'max_depth': 18, 'learning_rate': 0.03321125443404459, 'subsample': 0.585443793695033, 'colsample_bytree': 0.8343216099622155, 'gamma': 4.646879945637929, 'min_child_weight': 3}. Best is trial 20 with value: 0.8030247982438945.\n",
            "[I 2023-07-02 20:38:45,889] Trial 98 finished with value: 0.7903805450291977 and parameters: {'n_estimators': 136, 'max_depth': 9, 'learning_rate': 0.07925436398727433, 'subsample': 0.5935218742787617, 'colsample_bytree': 0.6618396182021218, 'gamma': 2.127182193082084, 'min_child_weight': 3}. Best is trial 20 with value: 0.8030247982438945.\n",
            "[I 2023-07-02 20:40:03,872] Trial 99 finished with value: 0.7841781921706777 and parameters: {'n_estimators': 86, 'max_depth': 6, 'learning_rate': 0.06495580381974694, 'subsample': 0.6443152766201279, 'colsample_bytree': 0.7906191107113061, 'gamma': 0.7718135763710116, 'min_child_weight': 3}. Best is trial 20 with value: 0.8030247982438945.\n"
          ]
        }
      ],
      "source": [
        "# Define the Optuna study\n",
        "study = optuna.create_study(direction='maximize', sampler=RandomSampler(seed=42))\n",
        "study.optimize(objective_XG, n_trials=100)"
      ]
    },
    {
      "cell_type": "code",
      "execution_count": null,
      "metadata": {
        "id": "8_P7lTDita2H"
      },
      "outputs": [],
      "source": [
        "# Get the best hyperparameters from Optuna\n",
        "best_params = study.best_params"
      ]
    },
    {
      "cell_type": "code",
      "execution_count": null,
      "metadata": {
        "id": "2CtK28Jnta2J",
        "outputId": "70590f01-51fe-4eb3-cf6f-dd624a287420"
      },
      "outputs": [
        {
          "data": {
            "text/plain": [
              "{'n_estimators': 195,\n",
              " 'max_depth': 9,\n",
              " 'learning_rate': 0.0547523655303147,\n",
              " 'subsample': 0.6504391549083848,\n",
              " 'colsample_bytree': 0.6424202471887338,\n",
              " 'gamma': 0.18443473677266398,\n",
              " 'min_child_weight': 4}"
            ]
          },
          "execution_count": 44,
          "metadata": {},
          "output_type": "execute_result"
        }
      ],
      "source": [
        "best_params"
      ]
    },
    {
      "cell_type": "markdown",
      "metadata": {
        "id": "ymM-te4Uta2K"
      },
      "source": [
        "#### Get best parameters and make predictions"
      ]
    },
    {
      "cell_type": "code",
      "execution_count": null,
      "metadata": {
        "id": "smByUeouta2K"
      },
      "outputs": [],
      "source": [
        "selected_features_indices = [i for i, value in enumerate(best_features) if value]\n",
        "X_test_selected = X_test[:, selected_features_indices]"
      ]
    },
    {
      "cell_type": "code",
      "execution_count": null,
      "metadata": {
        "id": "Lw0zuc2hta2K"
      },
      "outputs": [],
      "source": [
        "X_train_val_selected_final_features = X_train_val[:, selected_features_indices]"
      ]
    },
    {
      "cell_type": "code",
      "execution_count": null,
      "metadata": {
        "id": "7emQ3ZXVta2L",
        "outputId": "405eb439-4bc8-4e1a-b373-f2c78b1f55be"
      },
      "outputs": [
        {
          "data": {
            "text/plain": [
              "(286, 300)"
            ]
          },
          "execution_count": 47,
          "metadata": {},
          "output_type": "execute_result"
        }
      ],
      "source": [
        "X_test_selected.shape"
      ]
    },
    {
      "cell_type": "code",
      "execution_count": null,
      "metadata": {
        "id": "az7wo5GXta2L"
      },
      "outputs": [],
      "source": [
        "#best_classifier_XG = XGBClassifier(eta=0.9998923071077181,gamma=0.48062735928448386,min_child_weight=0.9165527129072861,max_delta_step=9,subsample=0.9036565255711814)\n",
        "best_classifier_XG = XGBClassifier(n_estimators= 195,max_depth= 9,learning_rate= 0.0547523655303147,subsample= 0.6504391549083848,colsample_bytree= 0.6424202471887338,gamma= 0.18443473677266398,min_child_weight= 4)"
      ]
    },
    {
      "cell_type": "code",
      "execution_count": null,
      "metadata": {
        "id": "7svaJMl6ta2L",
        "outputId": "52ce3d4b-107a-4d0c-b388-848b56848d48"
      },
      "outputs": [
        {
          "data": {
            "text/plain": [
              "XGBClassifier(base_score=0.5, booster='gbtree', callbacks=None,\n",
              "              colsample_bylevel=1, colsample_bynode=1,\n",
              "              colsample_bytree=0.6424202471887338, early_stopping_rounds=None,\n",
              "              enable_categorical=False, eval_metric=None,\n",
              "              gamma=0.18443473677266398, gpu_id=-1, grow_policy='depthwise',\n",
              "              importance_type=None, interaction_constraints='',\n",
              "              learning_rate=0.0547523655303147, max_bin=256,\n",
              "              max_cat_to_onehot=4, max_delta_step=0, max_depth=9, max_leaves=0,\n",
              "              min_child_weight=4, missing=nan, monotone_constraints='()',\n",
              "              n_estimators=195, n_jobs=0, num_parallel_tree=1,\n",
              "              objective='multi:softprob', predictor='auto', random_state=0,\n",
              "              reg_alpha=0, ...)"
            ]
          },
          "execution_count": 55,
          "metadata": {},
          "output_type": "execute_result"
        }
      ],
      "source": [
        "best_classifier_XG.fit(X_train_val_selected_final_features, y_train_val)"
      ]
    },
    {
      "cell_type": "code",
      "execution_count": null,
      "metadata": {
        "id": "MsF2wteTta2M"
      },
      "outputs": [],
      "source": [
        "y_test_pred = best_classifier_XG.predict(X_test_selected)"
      ]
    },
    {
      "cell_type": "code",
      "execution_count": null,
      "metadata": {
        "id": "HTjKqHBOta2M"
      },
      "outputs": [],
      "source": [
        "balanced_acc_XG = balanced_accuracy_score(y_test, y_test_pred)\n",
        "recall_XG = recall_score(y_test, y_test_pred, average='weighted')\n",
        "f1_XG = f1_score(y_test, y_test_pred, average='weighted')\n",
        "precision_XG = precision_score(y_test, y_test_pred, average='weighted'))"
      ]
    },
    {
      "cell_type": "code",
      "execution_count": null,
      "metadata": {
        "id": "O97omP9sta2M",
        "outputId": "4eadff35-8722-437f-caba-40d8c0bae7d6"
      },
      "outputs": [
        {
          "name": "stdout",
          "output_type": "stream",
          "text": [
            "XGBoost\n",
            "\n",
            "Accuracy: 0.8076923076923077\n",
            "F1 Score: 0.8037907906198827\n",
            "Precision: 0.8130681325738802\n",
            "Recall: 0.8076923076923077\n"
          ]
        }
      ],
      "source": [
        "print(\"XGBoost\\n\")\n",
        "print(\"Accuracy:\", balanced_acc_XG)\n",
        "print(\"F1 Score:\", f1_XG)\n",
        "print(\"Precision:\", precision_XG)\n",
        "print(\"Recall:\", recall_XG)"
      ]
    },
    {
      "cell_type": "markdown",
      "source": [
        "#### Feature importance"
      ],
      "metadata": {
        "id": "OUzI0O6aLe7M"
      }
    },
    {
      "cell_type": "code",
      "execution_count": null,
      "metadata": {
        "id": "EXbBYi5Wta2N"
      },
      "outputs": [],
      "source": [
        "importance = pd.Series(best_classifier_XG.feature_importances_).sort_values(ascending=False)"
      ]
    },
    {
      "cell_type": "code",
      "execution_count": null,
      "metadata": {
        "id": "yFYrcwjhta2N",
        "outputId": "0f360e1f-fae6-43bc-f95d-1c45b87a7559"
      },
      "outputs": [
        {
          "data": {
            "text/html": [
              "<div>\n",
              "<style scoped>\n",
              "    .dataframe tbody tr th:only-of-type {\n",
              "        vertical-align: middle;\n",
              "    }\n",
              "\n",
              "    .dataframe tbody tr th {\n",
              "        vertical-align: top;\n",
              "    }\n",
              "\n",
              "    .dataframe thead th {\n",
              "        text-align: right;\n",
              "    }\n",
              "</style>\n",
              "<table border=\"1\" class=\"dataframe\">\n",
              "  <thead>\n",
              "    <tr style=\"text-align: right;\">\n",
              "      <th></th>\n",
              "      <th>ENSG00000205542</th>\n",
              "      <th>ENSG00000198804</th>\n",
              "      <th>ENSG00000167996</th>\n",
              "      <th>ENSG00000198712</th>\n",
              "      <th>ENSG00000156508</th>\n",
              "      <th>ENSG00000087086</th>\n",
              "      <th>ENSG00000075624</th>\n",
              "      <th>ENSG00000229117</th>\n",
              "      <th>ENSG00000026025</th>\n",
              "      <th>ENSG00000140988</th>\n",
              "      <th>...</th>\n",
              "      <th>ENSG00000116209</th>\n",
              "      <th>ENSG00000205929</th>\n",
              "      <th>ENSG00000066279</th>\n",
              "      <th>ENSG00000141526</th>\n",
              "      <th>ENSG00000103811</th>\n",
              "      <th>ENSG00000138083</th>\n",
              "      <th>ENSG00000130208</th>\n",
              "      <th>ENSG00000100592</th>\n",
              "      <th>ENSG00000168280</th>\n",
              "      <th>ENSG00000168461</th>\n",
              "    </tr>\n",
              "  </thead>\n",
              "  <tbody>\n",
              "    <tr>\n",
              "      <th>0</th>\n",
              "      <td>32962.305</td>\n",
              "      <td>9065.20200</td>\n",
              "      <td>8240.5760</td>\n",
              "      <td>5350.2246</td>\n",
              "      <td>4735.2563</td>\n",
              "      <td>5042.7400</td>\n",
              "      <td>4950.4950</td>\n",
              "      <td>9255.0700</td>\n",
              "      <td>3659.0615</td>\n",
              "      <td>5749.6270</td>\n",
              "      <td>...</td>\n",
              "      <td>122.99367</td>\n",
              "      <td>162.75223</td>\n",
              "      <td>153.742080</td>\n",
              "      <td>184.49051</td>\n",
              "      <td>0.000000</td>\n",
              "      <td>215.23892</td>\n",
              "      <td>92.245255</td>\n",
              "      <td>0.000000</td>\n",
              "      <td>92.245255</td>\n",
              "      <td>0.000000</td>\n",
              "    </tr>\n",
              "    <tr>\n",
              "      <th>1</th>\n",
              "      <td>34861.200</td>\n",
              "      <td>0.00000</td>\n",
              "      <td>5579.0670</td>\n",
              "      <td>0.0000</td>\n",
              "      <td>16139.4430</td>\n",
              "      <td>4519.0444</td>\n",
              "      <td>3873.4666</td>\n",
              "      <td>12696.3620</td>\n",
              "      <td>3443.0813</td>\n",
              "      <td>7962.1255</td>\n",
              "      <td>...</td>\n",
              "      <td>0.00000</td>\n",
              "      <td>0.00000</td>\n",
              "      <td>0.000000</td>\n",
              "      <td>0.00000</td>\n",
              "      <td>0.000000</td>\n",
              "      <td>0.00000</td>\n",
              "      <td>215.192580</td>\n",
              "      <td>0.000000</td>\n",
              "      <td>0.000000</td>\n",
              "      <td>0.000000</td>\n",
              "    </tr>\n",
              "    <tr>\n",
              "      <th>2</th>\n",
              "      <td>17791.770</td>\n",
              "      <td>9193.14500</td>\n",
              "      <td>4845.0840</td>\n",
              "      <td>3431.0170</td>\n",
              "      <td>13334.9840</td>\n",
              "      <td>4739.7560</td>\n",
              "      <td>1061.1393</td>\n",
              "      <td>14643.7230</td>\n",
              "      <td>2193.0212</td>\n",
              "      <td>12343.2730</td>\n",
              "      <td>...</td>\n",
              "      <td>0.00000</td>\n",
              "      <td>187.77211</td>\n",
              "      <td>0.000000</td>\n",
              "      <td>35.37131</td>\n",
              "      <td>0.000000</td>\n",
              "      <td>106.11394</td>\n",
              "      <td>35.371310</td>\n",
              "      <td>35.371310</td>\n",
              "      <td>0.000000</td>\n",
              "      <td>70.742620</td>\n",
              "    </tr>\n",
              "    <tr>\n",
              "      <th>3</th>\n",
              "      <td>26513.914</td>\n",
              "      <td>10016.36700</td>\n",
              "      <td>7070.3770</td>\n",
              "      <td>5564.6484</td>\n",
              "      <td>10540.0990</td>\n",
              "      <td>4058.9202</td>\n",
              "      <td>3404.2556</td>\n",
              "      <td>7725.0415</td>\n",
              "      <td>8837.9720</td>\n",
              "      <td>7200.7144</td>\n",
              "      <td>...</td>\n",
              "      <td>196.39935</td>\n",
              "      <td>0.00000</td>\n",
              "      <td>0.000000</td>\n",
              "      <td>0.00000</td>\n",
              "      <td>65.466450</td>\n",
              "      <td>0.00000</td>\n",
              "      <td>0.000000</td>\n",
              "      <td>0.000000</td>\n",
              "      <td>0.000000</td>\n",
              "      <td>65.466450</td>\n",
              "    </tr>\n",
              "    <tr>\n",
              "      <th>4</th>\n",
              "      <td>30791.666</td>\n",
              "      <td>18116.04300</td>\n",
              "      <td>7291.2870</td>\n",
              "      <td>7347.3735</td>\n",
              "      <td>5664.7690</td>\n",
              "      <td>5384.3350</td>\n",
              "      <td>2636.0806</td>\n",
              "      <td>8469.1100</td>\n",
              "      <td>3140.8620</td>\n",
              "      <td>4935.0034</td>\n",
              "      <td>...</td>\n",
              "      <td>168.26047</td>\n",
              "      <td>280.43410</td>\n",
              "      <td>0.000000</td>\n",
              "      <td>168.26047</td>\n",
              "      <td>112.173645</td>\n",
              "      <td>280.43410</td>\n",
              "      <td>0.000000</td>\n",
              "      <td>112.173645</td>\n",
              "      <td>56.086823</td>\n",
              "      <td>0.000000</td>\n",
              "    </tr>\n",
              "    <tr>\n",
              "      <th>...</th>\n",
              "      <td>...</td>\n",
              "      <td>...</td>\n",
              "      <td>...</td>\n",
              "      <td>...</td>\n",
              "      <td>...</td>\n",
              "      <td>...</td>\n",
              "      <td>...</td>\n",
              "      <td>...</td>\n",
              "      <td>...</td>\n",
              "      <td>...</td>\n",
              "      <td>...</td>\n",
              "      <td>...</td>\n",
              "      <td>...</td>\n",
              "      <td>...</td>\n",
              "      <td>...</td>\n",
              "      <td>...</td>\n",
              "      <td>...</td>\n",
              "      <td>...</td>\n",
              "      <td>...</td>\n",
              "      <td>...</td>\n",
              "      <td>...</td>\n",
              "    </tr>\n",
              "    <tr>\n",
              "      <th>1422</th>\n",
              "      <td>20833.332</td>\n",
              "      <td>11986.30100</td>\n",
              "      <td>5707.7627</td>\n",
              "      <td>6849.3150</td>\n",
              "      <td>6563.9270</td>\n",
              "      <td>5707.7627</td>\n",
              "      <td>3139.2693</td>\n",
              "      <td>14554.7940</td>\n",
              "      <td>1141.5525</td>\n",
              "      <td>12557.0770</td>\n",
              "      <td>...</td>\n",
              "      <td>0.00000</td>\n",
              "      <td>0.00000</td>\n",
              "      <td>285.388120</td>\n",
              "      <td>0.00000</td>\n",
              "      <td>0.000000</td>\n",
              "      <td>0.00000</td>\n",
              "      <td>285.388120</td>\n",
              "      <td>0.000000</td>\n",
              "      <td>0.000000</td>\n",
              "      <td>285.388120</td>\n",
              "    </tr>\n",
              "    <tr>\n",
              "      <th>1423</th>\n",
              "      <td>73876.350</td>\n",
              "      <td>172.20595</td>\n",
              "      <td>13776.4760</td>\n",
              "      <td>0.0000</td>\n",
              "      <td>5510.5903</td>\n",
              "      <td>9126.9150</td>\n",
              "      <td>18598.2420</td>\n",
              "      <td>10160.1510</td>\n",
              "      <td>7577.0615</td>\n",
              "      <td>7232.6500</td>\n",
              "      <td>...</td>\n",
              "      <td>0.00000</td>\n",
              "      <td>0.00000</td>\n",
              "      <td>0.000000</td>\n",
              "      <td>0.00000</td>\n",
              "      <td>0.000000</td>\n",
              "      <td>0.00000</td>\n",
              "      <td>0.000000</td>\n",
              "      <td>0.000000</td>\n",
              "      <td>0.000000</td>\n",
              "      <td>0.000000</td>\n",
              "    </tr>\n",
              "    <tr>\n",
              "      <th>1424</th>\n",
              "      <td>22690.557</td>\n",
              "      <td>14539.58000</td>\n",
              "      <td>3524.7466</td>\n",
              "      <td>4038.7722</td>\n",
              "      <td>10060.2140</td>\n",
              "      <td>2570.1277</td>\n",
              "      <td>3671.6110</td>\n",
              "      <td>8003.4385</td>\n",
              "      <td>6094.8745</td>\n",
              "      <td>8224.4080</td>\n",
              "      <td>...</td>\n",
              "      <td>73.43222</td>\n",
              "      <td>168.90608</td>\n",
              "      <td>73.432220</td>\n",
              "      <td>0.00000</td>\n",
              "      <td>0.000000</td>\n",
              "      <td>0.00000</td>\n",
              "      <td>0.000000</td>\n",
              "      <td>0.000000</td>\n",
              "      <td>73.432220</td>\n",
              "      <td>0.000000</td>\n",
              "    </tr>\n",
              "    <tr>\n",
              "      <th>1425</th>\n",
              "      <td>54775.516</td>\n",
              "      <td>5771.68550</td>\n",
              "      <td>11874.2080</td>\n",
              "      <td>2830.3457</td>\n",
              "      <td>6992.6187</td>\n",
              "      <td>11654.3640</td>\n",
              "      <td>8047.0615</td>\n",
              "      <td>8713.0250</td>\n",
              "      <td>6160.1640</td>\n",
              "      <td>7714.0796</td>\n",
              "      <td>...</td>\n",
              "      <td>110.99395</td>\n",
              "      <td>154.55519</td>\n",
              "      <td>0.000000</td>\n",
              "      <td>443.97580</td>\n",
              "      <td>110.993950</td>\n",
              "      <td>388.47882</td>\n",
              "      <td>0.000000</td>\n",
              "      <td>110.993950</td>\n",
              "      <td>110.993950</td>\n",
              "      <td>55.496975</td>\n",
              "    </tr>\n",
              "    <tr>\n",
              "      <th>1426</th>\n",
              "      <td>15493.742</td>\n",
              "      <td>8285.11500</td>\n",
              "      <td>4150.8433</td>\n",
              "      <td>3748.4860</td>\n",
              "      <td>9015.5320</td>\n",
              "      <td>5151.7656</td>\n",
              "      <td>2383.6526</td>\n",
              "      <td>7515.4080</td>\n",
              "      <td>4632.7440</td>\n",
              "      <td>7939.0547</td>\n",
              "      <td>...</td>\n",
              "      <td>173.00705</td>\n",
              "      <td>38.44601</td>\n",
              "      <td>57.669014</td>\n",
              "      <td>115.33803</td>\n",
              "      <td>19.223005</td>\n",
              "      <td>153.78404</td>\n",
              "      <td>0.000000</td>\n",
              "      <td>96.115030</td>\n",
              "      <td>57.669014</td>\n",
              "      <td>134.561040</td>\n",
              "    </tr>\n",
              "  </tbody>\n",
              "</table>\n",
              "<p>1427 rows × 300 columns</p>\n",
              "</div>"
            ],
            "text/plain": [
              "      ENSG00000205542  ENSG00000198804  ENSG00000167996  ENSG00000198712  \\\n",
              "0           32962.305       9065.20200        8240.5760        5350.2246   \n",
              "1           34861.200          0.00000        5579.0670           0.0000   \n",
              "2           17791.770       9193.14500        4845.0840        3431.0170   \n",
              "3           26513.914      10016.36700        7070.3770        5564.6484   \n",
              "4           30791.666      18116.04300        7291.2870        7347.3735   \n",
              "...               ...              ...              ...              ...   \n",
              "1422        20833.332      11986.30100        5707.7627        6849.3150   \n",
              "1423        73876.350        172.20595       13776.4760           0.0000   \n",
              "1424        22690.557      14539.58000        3524.7466        4038.7722   \n",
              "1425        54775.516       5771.68550       11874.2080        2830.3457   \n",
              "1426        15493.742       8285.11500        4150.8433        3748.4860   \n",
              "\n",
              "      ENSG00000156508  ENSG00000087086  ENSG00000075624  ENSG00000229117  \\\n",
              "0           4735.2563        5042.7400        4950.4950        9255.0700   \n",
              "1          16139.4430        4519.0444        3873.4666       12696.3620   \n",
              "2          13334.9840        4739.7560        1061.1393       14643.7230   \n",
              "3          10540.0990        4058.9202        3404.2556        7725.0415   \n",
              "4           5664.7690        5384.3350        2636.0806        8469.1100   \n",
              "...               ...              ...              ...              ...   \n",
              "1422        6563.9270        5707.7627        3139.2693       14554.7940   \n",
              "1423        5510.5903        9126.9150       18598.2420       10160.1510   \n",
              "1424       10060.2140        2570.1277        3671.6110        8003.4385   \n",
              "1425        6992.6187       11654.3640        8047.0615        8713.0250   \n",
              "1426        9015.5320        5151.7656        2383.6526        7515.4080   \n",
              "\n",
              "      ENSG00000026025  ENSG00000140988  ...  ENSG00000116209  ENSG00000205929  \\\n",
              "0           3659.0615        5749.6270  ...        122.99367        162.75223   \n",
              "1           3443.0813        7962.1255  ...          0.00000          0.00000   \n",
              "2           2193.0212       12343.2730  ...          0.00000        187.77211   \n",
              "3           8837.9720        7200.7144  ...        196.39935          0.00000   \n",
              "4           3140.8620        4935.0034  ...        168.26047        280.43410   \n",
              "...               ...              ...  ...              ...              ...   \n",
              "1422        1141.5525       12557.0770  ...          0.00000          0.00000   \n",
              "1423        7577.0615        7232.6500  ...          0.00000          0.00000   \n",
              "1424        6094.8745        8224.4080  ...         73.43222        168.90608   \n",
              "1425        6160.1640        7714.0796  ...        110.99395        154.55519   \n",
              "1426        4632.7440        7939.0547  ...        173.00705         38.44601   \n",
              "\n",
              "      ENSG00000066279  ENSG00000141526  ENSG00000103811  ENSG00000138083  \\\n",
              "0          153.742080        184.49051         0.000000        215.23892   \n",
              "1            0.000000          0.00000         0.000000          0.00000   \n",
              "2            0.000000         35.37131         0.000000        106.11394   \n",
              "3            0.000000          0.00000        65.466450          0.00000   \n",
              "4            0.000000        168.26047       112.173645        280.43410   \n",
              "...               ...              ...              ...              ...   \n",
              "1422       285.388120          0.00000         0.000000          0.00000   \n",
              "1423         0.000000          0.00000         0.000000          0.00000   \n",
              "1424        73.432220          0.00000         0.000000          0.00000   \n",
              "1425         0.000000        443.97580       110.993950        388.47882   \n",
              "1426        57.669014        115.33803        19.223005        153.78404   \n",
              "\n",
              "      ENSG00000130208  ENSG00000100592  ENSG00000168280  ENSG00000168461  \n",
              "0           92.245255         0.000000        92.245255         0.000000  \n",
              "1          215.192580         0.000000         0.000000         0.000000  \n",
              "2           35.371310        35.371310         0.000000        70.742620  \n",
              "3            0.000000         0.000000         0.000000        65.466450  \n",
              "4            0.000000       112.173645        56.086823         0.000000  \n",
              "...               ...              ...              ...              ...  \n",
              "1422       285.388120         0.000000         0.000000       285.388120  \n",
              "1423         0.000000         0.000000         0.000000         0.000000  \n",
              "1424         0.000000         0.000000        73.432220         0.000000  \n",
              "1425         0.000000       110.993950       110.993950        55.496975  \n",
              "1426         0.000000        96.115030        57.669014       134.561040  \n",
              "\n",
              "[1427 rows x 300 columns]"
            ]
          },
          "execution_count": 63,
          "metadata": {},
          "output_type": "execute_result"
        }
      ],
      "source": [
        "# Filter the DataFrame using the boolean array\n",
        "data_filtered_features = df_filtered.iloc[:,1:-9].loc[:, best_features]\n",
        "\n",
        "# Print the filtered DataFrame\n",
        "data_filtered_features"
      ]
    },
    {
      "cell_type": "code",
      "execution_count": null,
      "metadata": {
        "id": "WJSaHgj-ta2O",
        "outputId": "bf98fb29-b1d6-4d85-9adc-a23fc85efa4e"
      },
      "outputs": [
        {
          "name": "stdout",
          "output_type": "stream",
          "text": [
            "Index(['ENSG00000148773', 'ENSG00000198959', 'ENSG00000049540',\n",
            "       'ENSG00000198804', 'ENSG00000198938', 'ENSG00000006042',\n",
            "       'ENSG00000104435', 'ENSG00000066279', 'ENSG00000164104',\n",
            "       'ENSG00000143882',\n",
            "       ...\n",
            "       'ENSG00000166848', 'ENSG00000111640', 'ENSG00000136942',\n",
            "       'ENSG00000197958', 'ENSG00000166441', 'ENSG00000166165',\n",
            "       'ENSG00000123416', 'ENSG00000080166', 'ENSG00000253117',\n",
            "       'ENSG00000120075'],\n",
            "      dtype='object', length=300)\n"
          ]
        }
      ],
      "source": [
        "# Get the column names corresponding to the series indices\n",
        "column_names_XG = data_filtered_features.columns[importance.index]\n",
        "\n",
        "# Print the column names\n",
        "print(column_names_XG)"
      ]
    },
    {
      "cell_type": "code",
      "execution_count": null,
      "metadata": {
        "id": "dulm2bm4ta2O",
        "outputId": "bd5716c7-8c6b-46a2-f829-6bb427103d31"
      },
      "outputs": [
        {
          "name": "stdout",
          "output_type": "stream",
          "text": [
            "Index(['ENSG00000148773', 'ENSG00000198959', 'ENSG00000049540',\n",
            "       'ENSG00000198804', 'ENSG00000198938', 'ENSG00000006042',\n",
            "       'ENSG00000104435', 'ENSG00000066279', 'ENSG00000164104',\n",
            "       'ENSG00000143882', 'ENSG00000131747', 'ENSG00000198712',\n",
            "       'ENSG00000140279', 'ENSG00000107165', 'ENSG00000168542'],\n",
            "      dtype='object')\n"
          ]
        }
      ],
      "source": [
        "# Get the column names corresponding to the series indices above the threshold\n",
        "filtered_column_names_XG = data_filtered_features.columns[importance[importance > 0.01].index]\n",
        "\n",
        "# Print the filtered column names\n",
        "print(filtered_column_names_XG)"
      ]
    },
    {
      "cell_type": "code",
      "execution_count": null,
      "metadata": {
        "id": "m3laH3NRta2O"
      },
      "outputs": [],
      "source": []
    },
    {
      "cell_type": "code",
      "execution_count": null,
      "metadata": {
        "id": "sCGZwmi4ta2P"
      },
      "outputs": [],
      "source": []
    },
    {
      "cell_type": "markdown",
      "metadata": {
        "id": "KhijBganta2P"
      },
      "source": [
        "## Logistic Regression"
      ]
    },
    {
      "cell_type": "markdown",
      "metadata": {
        "id": "mKXGy_Z5ta2P"
      },
      "source": [
        "#### Cross val for hyperparameter tunning and feature selection"
      ]
    },
    {
      "cell_type": "code",
      "execution_count": null,
      "metadata": {
        "id": "B1FzkHr5ta2P",
        "outputId": "565d9ff4-0cb6-4b95-b116-cb58d888504f"
      },
      "outputs": [
        {
          "name": "stdout",
          "output_type": "stream",
          "text": [
            "Logistic Regression\n"
          ]
        }
      ],
      "source": [
        "print(\"Logistic Regression\")\n",
        "# Define the number of folds for cross-validation\n",
        "n_folds = 5"
      ]
    },
    {
      "cell_type": "code",
      "execution_count": null,
      "metadata": {
        "id": "0Iudf5jyta2P"
      },
      "outputs": [],
      "source": [
        "# Define the objective function for Optuna hyperparameter tuning\n",
        "def objective_LG(trial):\n",
        "  global best_features\n",
        "  params = {\n",
        "              'tol' : trial.suggest_float('tol' , 1e-6 , 1e-3),\n",
        "              'C' : trial.suggest_float(\"C\", 1e-5, 100),\n",
        "              \"n_jobs\" : -1,\n",
        "              'solver': trial.suggest_categorical('solver', ['newton-cg', 'lbfgs', 'liblinear', 'sag', 'saga'])\n",
        "          }\n",
        "\n",
        "  # Instantiate the classifier with the current hyperparameters\n",
        "  #classifier = XGBClassifier(eta=eta,gamma=gamma ,min_child_weight=min_child_weight,max_delta_step=max_delta_step,subsample=subsample)\n",
        "  classifier = LogisticRegression(**params)\n",
        "\n",
        "  # Perform cross-validation with feature selection\n",
        "  kf = StratifiedKFold(n_splits=n_folds, shuffle=True, random_state=42)\n",
        "  cv_scores = []\n",
        "  feature_selector = SelectKBest(score_func=f_classif, k=300)  # Adjust the number of features as desired\n",
        "  best_features = None\n",
        "\n",
        "  for train_index, val_index in kf.split(X_train_val, y_train_val):\n",
        "      X_train, X_val = X_train_val[train_index], X_train_val[val_index]\n",
        "      y_train, y_val = y_train_val[train_index], y_train_val[val_index]\n",
        "\n",
        "      # Perform feature selection on the training set\n",
        "      X_train_selected = feature_selector.fit_transform(X_train, y_train)\n",
        "      selected_features = feature_selector.get_support()\n",
        "\n",
        "      # Apply the same feature selection on the validation set\n",
        "      X_val_selected = X_val[:, selected_features]\n",
        "\n",
        "      # Fit the classifier on the selected features and evaluate on the validation set\n",
        "      classifier.fit(X_train_selected, y_train)\n",
        "      y_pred = classifier.predict(X_val_selected)\n",
        "      mcc = matthews_corrcoef(y_val, y_pred)\n",
        "      cv_scores.append(mcc)\n",
        "\n",
        "  # Calculate the average MCC\n",
        "  avg_mcc = np.mean(cv_scores)\n",
        "\n",
        "  if trial.should_prune()==False:\n",
        "    best_features = selected_features.copy()\n",
        "\n",
        "  return avg_mcc"
      ]
    },
    {
      "cell_type": "code",
      "execution_count": null,
      "metadata": {
        "id": "8f2sFAVXta2Q",
        "outputId": "b40509ec-d986-45fa-ff85-27c30fbf233d"
      },
      "outputs": [
        {
          "name": "stderr",
          "output_type": "stream",
          "text": [
            "[I 2023-07-02 21:42:48,432] A new study created in memory with name: no-name-6c3d5ca2-94c0-464c-839b-595c1564be56\n",
            "[I 2023-07-02 21:43:06,027] Trial 0 finished with value: 0.7002376667220461 and parameters: {'tol': 0.0003751655787285152, 'C': 95.07143113384855, 'solver': 'newton-cg'}. Best is trial 0 with value: 0.7002376667220461.\n",
            "[I 2023-07-02 21:43:16,857] Trial 1 finished with value: 0.6304930940725281 and parameters: {'tol': 0.0008663099696291604, 'C': 60.11150516317076, 'solver': 'liblinear'}. Best is trial 0 with value: 0.7002376667220461.\n",
            "[I 2023-07-02 21:43:31,872] Trial 2 finished with value: 0.741170448306715 and parameters: {'tol': 0.00018264314223989352, 'C': 18.340459151298283, 'solver': 'saga'}. Best is trial 2 with value: 0.741170448306715.\n",
            "[I 2023-07-02 21:43:44,067] Trial 3 finished with value: 0.6395577469004095 and parameters: {'tol': 0.0001403543667913898, 'C': 29.21447193207533, 'solver': 'liblinear'}. Best is trial 2 with value: 0.741170448306715.\n",
            "[I 2023-07-02 21:43:56,522] Trial 4 finished with value: 0.7382914875535204 and parameters: {'tol': 0.0005928221542931806, 'C': 4.645050807495645, 'solver': 'saga'}. Best is trial 2 with value: 0.741170448306715.\n",
            "[I 2023-07-02 21:44:02,603] Trial 5 finished with value: 0.704969132728554 and parameters: {'tol': 0.0008085889507683448, 'C': 30.461383871199377, 'solver': 'lbfgs'}. Best is trial 2 with value: 0.741170448306715.\n",
            "[I 2023-07-02 21:44:09,157] Trial 6 finished with value: 0.6992358484308783 and parameters: {'tol': 3.535413259410318e-05, 'C': 90.93204111467419, 'solver': 'lbfgs'}. Best is trial 2 with value: 0.741170448306715.\n",
            "[I 2023-07-02 21:44:15,192] Trial 7 finished with value: 0.6982936707802736 and parameters: {'tol': 0.00018566960107000154, 'C': 96.95846308060958, 'solver': 'lbfgs'}. Best is trial 2 with value: 0.741170448306715.\n",
            "[I 2023-07-02 21:44:30,362] Trial 8 finished with value: 0.7352392677282981 and parameters: {'tol': 8.940400954986758e-05, 'C': 19.598294282085895, 'solver': 'saga'}. Best is trial 2 with value: 0.741170448306715.\n",
            "[I 2023-07-02 21:44:44,102] Trial 9 finished with value: 0.7371387036871002 and parameters: {'tol': 0.00035739657336689574, 'C': 28.093458159392977, 'solver': 'saga'}. Best is trial 2 with value: 0.741170448306715.\n",
            "[I 2023-07-02 21:44:50,457] Trial 10 finished with value: 0.70801599507305 and parameters: {'tol': 0.0007724725245273608, 'C': 19.871576166260425, 'solver': 'lbfgs'}. Best is trial 2 with value: 0.741170448306715.\n",
            "[I 2023-07-02 21:44:56,837] Trial 11 finished with value: 0.7070312073325595 and parameters: {'tol': 7.497060708235628e-05, 'C': 35.846579269769975, 'solver': 'lbfgs'}. Best is trial 2 with value: 0.741170448306715.\n",
            "[I 2023-07-02 21:45:08,787] Trial 12 finished with value: 0.639451429134637 and parameters: {'tol': 0.0003116713393939466, 'C': 32.51833895084149, 'solver': 'liblinear'}. Best is trial 2 with value: 0.741170448306715.\n",
            "[I 2023-07-02 21:45:15,373] Trial 13 finished with value: 0.7011475199087683 and parameters: {'tol': 0.0007135315424357721, 'C': 76.07850725383926, 'solver': 'lbfgs'}. Best is trial 2 with value: 0.741170448306715.\n",
            "[I 2023-07-02 21:45:30,907] Trial 14 finished with value: 0.7381178372281683 and parameters: {'tol': 2.6393707617351097e-05, 'C': 10.789151620416174, 'solver': 'saga'}. Best is trial 2 with value: 0.741170448306715.\n",
            "[I 2023-07-02 21:45:40,848] Trial 15 finished with value: 0.7061038528640966 and parameters: {'tol': 0.0002500429369197261, 'C': 41.038298199733745, 'solver': 'newton-cg'}. Best is trial 2 with value: 0.741170448306715.\n",
            "[I 2023-07-02 21:45:54,357] Trial 16 finished with value: 0.7361524216077426 and parameters: {'tol': 0.0009297679546902306, 'C': 80.8120398752379, 'solver': 'saga'}. Best is trial 2 with value: 0.741170448306715.\n",
            "[I 2023-07-02 21:46:02,362] Trial 17 finished with value: 0.7021923633081819 and parameters: {'tol': 0.0005398028996737352, 'C': 80.7440174420047, 'solver': 'newton-cg'}. Best is trial 2 with value: 0.741170448306715.\n",
            "[I 2023-07-02 21:46:08,602] Trial 18 finished with value: 0.7001845860089333 and parameters: {'tol': 0.0008181967511565707, 'C': 86.07305971832851, 'solver': 'lbfgs'}. Best is trial 2 with value: 0.741170448306715.\n",
            "[I 2023-07-02 21:46:24,021] Trial 19 finished with value: 0.7380744202781591 and parameters: {'tol': 0.0003382775562322244, 'C': 94.29097096215487, 'solver': 'saga'}. Best is trial 2 with value: 0.741170448306715.\n",
            "[I 2023-07-02 21:46:36,241] Trial 20 finished with value: 0.7342831113215766 and parameters: {'tol': 0.0009624848476471692, 'C': 25.178237064713457, 'solver': 'saga'}. Best is trial 2 with value: 0.741170448306715.\n",
            "[I 2023-07-02 21:46:41,997] Trial 21 finished with value: 0.7120507650271855 and parameters: {'tol': 0.0005031763442056327, 'C': 5.147884610211422, 'solver': 'lbfgs'}. Best is trial 2 with value: 0.741170448306715.\n",
            "[I 2023-07-02 21:46:47,617] Trial 22 finished with value: 0.7059936503701938 and parameters: {'tol': 0.0009856648036564901, 'C': 24.205534730597325, 'solver': 'lbfgs'}. Best is trial 2 with value: 0.741170448306715.\n",
            "[I 2023-07-02 21:46:57,027] Trial 23 finished with value: 0.6294742506489034 and parameters: {'tol': 0.000632673524762986, 'C': 63.35297474079236, 'solver': 'liblinear'}. Best is trial 2 with value: 0.741170448306715.\n",
            "[I 2023-07-02 21:47:05,617] Trial 24 finished with value: 0.703189966643954 and parameters: {'tol': 4.173436641320915e-05, 'C': 59.08929840989475, 'solver': 'newton-cg'}. Best is trial 2 with value: 0.741170448306715.\n",
            "[I 2023-07-02 21:47:11,237] Trial 25 finished with value: 0.7011435744372544 and parameters: {'tol': 0.00017519206257598648, 'C': 69.09377690086922, 'solver': 'lbfgs'}. Best is trial 2 with value: 0.741170448306715.\n",
            "[I 2023-07-02 21:47:20,076] Trial 26 finished with value: 0.6286056653277591 and parameters: {'tol': 0.0009247689246602843, 'C': 87.73393656470456, 'solver': 'liblinear'}. Best is trial 2 with value: 0.741170448306715.\n",
            "[I 2023-07-02 21:47:25,822] Trial 27 finished with value: 0.7090368394195732 and parameters: {'tol': 0.00024261043860955125, 'C': 9.310285849562243, 'solver': 'lbfgs'}. Best is trial 2 with value: 0.741170448306715.\n",
            "[I 2023-07-02 21:47:32,474] Trial 28 finished with value: 0.7002376667220461 and parameters: {'tol': 0.0007262297231913692, 'C': 89.71102702415511, 'solver': 'newton-cg'}. Best is trial 2 with value: 0.741170448306715.\n",
            "[I 2023-07-02 21:47:41,187] Trial 29 finished with value: 0.6304930940725281 and parameters: {'tol': 0.0008986556343385523, 'C': 60.642909901668396, 'solver': 'liblinear'}. Best is trial 2 with value: 0.741170448306715.\n",
            "[I 2023-07-02 21:47:50,287] Trial 30 finished with value: 0.6296181013942876 and parameters: {'tol': 0.0005491850555772196, 'C': 69.18952285031735, 'solver': 'liblinear'}. Best is trial 2 with value: 0.741170448306715.\n",
            "[I 2023-07-02 21:47:57,207] Trial 31 finished with value: 0.7031828498268533 and parameters: {'tol': 0.0007467449137129063, 'C': 64.96329340839247, 'solver': 'newton-cg'}. Best is trial 2 with value: 0.741170448306715.\n",
            "[I 2023-07-02 21:48:04,087] Trial 32 finished with value: 0.7061927322747228 and parameters: {'tol': 0.00026593716531404376, 'C': 24.398971898011922, 'solver': 'newton-cg'}. Best is trial 2 with value: 0.741170448306715.\n",
            "[I 2023-07-02 21:48:12,987] Trial 33 finished with value: 0.6335323181478485 and parameters: {'tol': 0.000503134456012087, 'C': 57.69039269359707, 'solver': 'liblinear'}. Best is trial 2 with value: 0.741170448306715.\n",
            "[I 2023-07-02 21:48:18,662] Trial 34 finished with value: 0.7089663111210184 and parameters: {'tol': 0.0006458268236112607, 'C': 17.711076169598098, 'solver': 'lbfgs'}. Best is trial 2 with value: 0.741170448306715.\n",
            "[I 2023-07-02 21:48:25,126] Trial 35 finished with value: 0.7060615419454219 and parameters: {'tol': 0.0009283902440251377, 'C': 42.81842054988995, 'solver': 'newton-cg'}. Best is trial 2 with value: 0.741170448306715.\n",
            "[I 2023-07-02 21:48:33,677] Trial 36 finished with value: 0.6364990978261285 and parameters: {'tol': 0.0008512855348453401, 'C': 31.692207346407713, 'solver': 'liblinear'}. Best is trial 2 with value: 0.741170448306715.\n",
            "[I 2023-07-02 21:48:41,946] Trial 37 finished with value: 0.703189966643954 and parameters: {'tol': 9.807931727699777e-05, 'C': 61.50072651984471, 'solver': 'newton-cg'}. Best is trial 2 with value: 0.741170448306715.\n",
            "[I 2023-07-02 21:48:53,632] Trial 38 finished with value: 0.7392231343111032 and parameters: {'tol': 0.0006973187252542728, 'C': 70.24841137387008, 'solver': 'saga'}. Best is trial 2 with value: 0.741170448306715.\n",
            "[I 2023-07-02 21:49:00,362] Trial 39 finished with value: 0.7040854898309662 and parameters: {'tol': 0.0009133273120039149, 'C': 51.134244772669796, 'solver': 'lbfgs'}. Best is trial 2 with value: 0.741170448306715.\n",
            "[I 2023-07-02 21:49:09,514] Trial 40 finished with value: 0.6375007663027521 and parameters: {'tol': 0.0008901153364757489, 'C': 33.79952230520201, 'solver': 'liblinear'}. Best is trial 2 with value: 0.741170448306715.\n",
            "[I 2023-07-02 21:49:20,038] Trial 41 finished with value: 0.7304994450406616 and parameters: {'tol': 0.0005431019900728691, 'C': 28.654132347415917, 'solver': 'sag'}. Best is trial 2 with value: 0.741170448306715.\n",
            "[I 2023-07-02 21:49:28,359] Trial 42 finished with value: 0.704149700819165 and parameters: {'tol': 0.0001279334521392329, 'C': 52.22433078304784, 'solver': 'newton-cg'}. Best is trial 2 with value: 0.741170448306715.\n",
            "[I 2023-07-02 21:49:38,298] Trial 43 finished with value: 0.6334965055240394 and parameters: {'tol': 0.00053182327693658, 'C': 54.06351675465944, 'solver': 'liblinear'}. Best is trial 2 with value: 0.741170448306715.\n",
            "[I 2023-07-02 21:49:47,488] Trial 44 finished with value: 0.7317497665870907 and parameters: {'tol': 0.0007953910085739351, 'C': 27.083232417884908, 'solver': 'sag'}. Best is trial 2 with value: 0.741170448306715.\n",
            "[I 2023-07-02 21:49:59,656] Trial 45 finished with value: 0.7401376967593621 and parameters: {'tol': 0.0006962782318876043, 'C': 40.895300351897546, 'solver': 'saga'}. Best is trial 2 with value: 0.741170448306715.\n",
            "[I 2023-07-02 21:50:06,524] Trial 46 finished with value: 0.7061112719005893 and parameters: {'tol': 0.0006605371793410136, 'C': 27.993396895255312, 'solver': 'newton-cg'}. Best is trial 2 with value: 0.741170448306715.\n",
            "[I 2023-07-02 21:50:13,934] Trial 47 finished with value: 0.7061038528640966 and parameters: {'tol': 0.00024848325851165634, 'C': 35.597274305399374, 'solver': 'newton-cg'}. Best is trial 2 with value: 0.741170448306715.\n",
            "[I 2023-07-02 21:50:22,988] Trial 48 finished with value: 0.6305261591874584 and parameters: {'tol': 0.0008556051234269963, 'C': 70.36578890142377, 'solver': 'liblinear'}. Best is trial 2 with value: 0.741170448306715.\n",
            "[I 2023-07-02 21:50:28,832] Trial 49 finished with value: 0.7069478177539964 and parameters: {'tol': 0.0004344177975887351, 'C': 39.85047945469, 'solver': 'lbfgs'}. Best is trial 2 with value: 0.741170448306715.\n",
            "[I 2023-07-02 21:50:36,858] Trial 50 finished with value: 0.7021923633081819 and parameters: {'tol': 0.0005036331223215077, 'C': 85.64898555393381, 'solver': 'newton-cg'}. Best is trial 2 with value: 0.741170448306715.\n",
            "[I 2023-07-02 21:50:49,124] Trial 51 finished with value: 0.6297362077259344 and parameters: {'tol': 0.0005861898056921899, 'C': 94.02302474019335, 'solver': 'liblinear'}. Best is trial 2 with value: 0.741170448306715.\n",
            "[I 2023-07-02 21:50:57,259] Trial 52 finished with value: 0.7061038528640966 and parameters: {'tol': 0.0009415233439677488, 'C': 38.61026991905105, 'solver': 'newton-cg'}. Best is trial 2 with value: 0.741170448306715.\n",
            "[I 2023-07-02 21:51:06,509] Trial 53 finished with value: 0.7315749899678332 and parameters: {'tol': 1.920360382589818e-05, 'C': 9.444305131163231, 'solver': 'sag'}. Best is trial 2 with value: 0.741170448306715.\n",
            "[I 2023-07-02 21:51:16,044] Trial 54 finished with value: 0.7285098707391972 and parameters: {'tol': 0.000814654014106347, 'C': 28.185484658792245, 'solver': 'sag'}. Best is trial 2 with value: 0.741170448306715.\n",
            "[I 2023-07-02 21:51:26,699] Trial 55 finished with value: 0.7266729358241226 and parameters: {'tol': 0.0008036774494544638, 'C': 28.203464436784923, 'solver': 'sag'}. Best is trial 2 with value: 0.741170448306715.\n",
            "[I 2023-07-02 21:51:32,908] Trial 56 finished with value: 0.701141820773899 and parameters: {'tol': 0.00037264606770699043, 'C': 77.64129831007008, 'solver': 'lbfgs'}. Best is trial 2 with value: 0.741170448306715.\n",
            "[I 2023-07-02 21:51:39,479] Trial 57 finished with value: 0.7120092239105276 and parameters: {'tol': 0.0007547883312105977, 'C': 10.312395852354571, 'solver': 'newton-cg'}. Best is trial 2 with value: 0.741170448306715.\n",
            "[I 2023-07-02 21:51:53,318] Trial 58 finished with value: 0.7350534511323945 and parameters: {'tol': 0.00038981247705542903, 'C': 1.0837750396533212, 'solver': 'saga'}. Best is trial 2 with value: 0.741170448306715.\n",
            "[I 2023-07-02 21:52:06,464] Trial 59 finished with value: 0.7361977137732824 and parameters: {'tol': 0.000573864450235163, 'C': 63.18372489860781, 'solver': 'saga'}. Best is trial 2 with value: 0.741170448306715.\n",
            "[I 2023-07-02 21:52:15,338] Trial 60 finished with value: 0.7283534103722673 and parameters: {'tol': 0.0007917874646821228, 'C': 78.96181638327396, 'solver': 'sag'}. Best is trial 2 with value: 0.741170448306715.\n",
            "[I 2023-07-02 21:52:25,589] Trial 61 finished with value: 0.6364584534035327 and parameters: {'tol': 0.0008878164785755415, 'C': 35.091507746057744, 'solver': 'liblinear'}. Best is trial 2 with value: 0.741170448306715.\n",
            "[I 2023-07-02 21:52:31,258] Trial 62 finished with value: 0.7002159986788102 and parameters: {'tol': 8.502269930888245e-05, 'C': 70.09691613622068, 'solver': 'lbfgs'}. Best is trial 2 with value: 0.741170448306715.\n",
            "[I 2023-07-02 21:52:39,628] Trial 63 finished with value: 0.7305852913129414 and parameters: {'tol': 0.0009866529389226744, 'C': 37.427085832904076, 'solver': 'sag'}. Best is trial 2 with value: 0.741170448306715.\n",
            "[I 2023-07-02 21:52:48,599] Trial 64 finished with value: 0.7276895363770864 and parameters: {'tol': 0.0003768833259453849, 'C': 8.350080834859709, 'solver': 'sag'}. Best is trial 2 with value: 0.741170448306715.\n",
            "[I 2023-07-02 21:53:00,854] Trial 65 finished with value: 0.7339999484907402 and parameters: {'tol': 0.0004931324791865683, 'C': 1.1353743632054591, 'solver': 'saga'}. Best is trial 2 with value: 0.741170448306715.\n",
            "[I 2023-07-02 21:53:07,564] Trial 66 finished with value: 0.7031828498268533 and parameters: {'tol': 0.000746298834386158, 'C': 58.336880676028315, 'solver': 'newton-cg'}. Best is trial 2 with value: 0.741170448306715.\n",
            "[I 2023-07-02 21:53:20,126] Trial 67 finished with value: 0.7379958679445884 and parameters: {'tol': 0.0009632593169011708, 'C': 1.2154573474368873, 'solver': 'saga'}. Best is trial 2 with value: 0.741170448306715.\n",
            "[I 2023-07-02 21:53:28,140] Trial 68 finished with value: 0.704149700819165 and parameters: {'tol': 7.472276817066347e-05, 'C': 55.38543290158923, 'solver': 'newton-cg'}. Best is trial 2 with value: 0.741170448306715.\n",
            "[I 2023-07-02 21:53:37,256] Trial 69 finished with value: 0.7325950745202706 and parameters: {'tol': 0.0006279305220039795, 'C': 58.431435349166904, 'solver': 'sag'}. Best is trial 2 with value: 0.741170448306715.\n",
            "[I 2023-07-02 21:53:49,362] Trial 70 finished with value: 0.7390585241667427 and parameters: {'tol': 0.0004562010960329273, 'C': 62.0132635788277, 'solver': 'saga'}. Best is trial 2 with value: 0.741170448306715.\n",
            "[I 2023-07-02 21:53:57,652] Trial 71 finished with value: 0.7012412584487536 and parameters: {'tol': 7.865690232801985e-05, 'C': 97.43948102266857, 'solver': 'newton-cg'}. Best is trial 2 with value: 0.741170448306715.\n",
            "[I 2023-07-02 21:54:06,327] Trial 72 finished with value: 0.6465050671618368 and parameters: {'tol': 0.0006850464413813255, 'C': 16.261702308319734, 'solver': 'liblinear'}. Best is trial 2 with value: 0.741170448306715.\n",
            "[I 2023-07-02 21:54:12,346] Trial 73 finished with value: 0.7002376667220461 and parameters: {'tol': 0.0004188247932543283, 'C': 93.2728490081165, 'solver': 'newton-cg'}. Best is trial 2 with value: 0.741170448306715.\n",
            "[I 2023-07-02 21:54:19,033] Trial 74 finished with value: 0.6465213118290183 and parameters: {'tol': 0.0009872888531856296, 'C': 15.041697606183906, 'solver': 'liblinear'}. Best is trial 2 with value: 0.741170448306715.\n",
            "[I 2023-07-02 21:54:28,709] Trial 75 finished with value: 0.7361290246083803 and parameters: {'tol': 0.0004692244666351754, 'C': 41.4819560855715, 'solver': 'saga'}. Best is trial 2 with value: 0.741170448306715.\n",
            "[I 2023-07-02 21:54:33,922] Trial 76 finished with value: 0.7039833131914228 and parameters: {'tol': 0.0009966402002368315, 'C': 55.54317500594569, 'solver': 'lbfgs'}. Best is trial 2 with value: 0.741170448306715.\n",
            "[I 2023-07-02 21:54:42,559] Trial 77 finished with value: 0.6284552508551456 and parameters: {'tol': 0.0001300302557363435, 'C': 95.40510318536197, 'solver': 'liblinear'}. Best is trial 2 with value: 0.741170448306715.\n",
            "[I 2023-07-02 21:54:49,952] Trial 78 finished with value: 0.725615640330696 and parameters: {'tol': 0.00011444403460742941, 'C': 67.157322843548, 'solver': 'sag'}. Best is trial 2 with value: 0.741170448306715.\n",
            "[I 2023-07-02 21:54:57,333] Trial 79 finished with value: 0.7265235878531431 and parameters: {'tol': 0.000561377033563851, 'C': 87.66536149929847, 'solver': 'sag'}. Best is trial 2 with value: 0.741170448306715.\n",
            "[I 2023-07-02 21:55:04,724] Trial 80 finished with value: 0.7258184925247312 and parameters: {'tol': 0.0007043756883311244, 'C': 21.296424021249457, 'solver': 'sag'}. Best is trial 2 with value: 0.741170448306715.\n",
            "[I 2023-07-02 21:55:12,252] Trial 81 finished with value: 0.6296396193108478 and parameters: {'tol': 0.0004380374471017054, 'C': 90.41587040778789, 'solver': 'liblinear'}. Best is trial 2 with value: 0.741170448306715.\n",
            "[I 2023-07-02 21:55:17,462] Trial 82 finished with value: 0.7002599768815504 and parameters: {'tol': 0.0008625013450379985, 'C': 94.95206287055798, 'solver': 'lbfgs'}. Best is trial 2 with value: 0.741170448306715.\n",
            "[I 2023-07-02 21:55:22,572] Trial 83 finished with value: 0.704074751175774 and parameters: {'tol': 0.0009800525427101916, 'C': 49.26181447310602, 'solver': 'lbfgs'}. Best is trial 2 with value: 0.741170448306715.\n",
            "[I 2023-07-02 21:55:32,650] Trial 84 finished with value: 0.7339794037514165 and parameters: {'tol': 0.00012891779311881467, 'C': 15.190277832202499, 'solver': 'saga'}. Best is trial 2 with value: 0.741170448306715.\n",
            "[I 2023-07-02 21:55:42,822] Trial 85 finished with value: 0.7332845115946525 and parameters: {'tol': 0.00047448767862260955, 'C': 66.75577717652533, 'solver': 'saga'}. Best is trial 2 with value: 0.741170448306715.\n",
            "[I 2023-07-02 21:55:52,677] Trial 86 finished with value: 0.7360123507909457 and parameters: {'tol': 0.0001778334737924701, 'C': 8.870262488680224, 'solver': 'saga'}. Best is trial 2 with value: 0.741170448306715.\n",
            "[I 2023-07-02 21:56:02,534] Trial 87 finished with value: 0.7382027141687433 and parameters: {'tol': 0.000690704433800736, 'C': 3.931223590988495, 'solver': 'saga'}. Best is trial 2 with value: 0.741170448306715.\n",
            "[I 2023-07-02 21:56:08,815] Trial 88 finished with value: 0.7051735526046881 and parameters: {'tol': 6.20168818950089e-05, 'C': 27.68777204594389, 'solver': 'newton-cg'}. Best is trial 2 with value: 0.741170448306715.\n",
            "[I 2023-07-02 21:56:16,140] Trial 89 finished with value: 0.6306384407193554 and parameters: {'tol': 0.0004850384622058304, 'C': 61.825480970481884, 'solver': 'liblinear'}. Best is trial 2 with value: 0.741170448306715.\n",
            "[I 2023-07-02 21:56:26,661] Trial 90 finished with value: 0.7381725012962325 and parameters: {'tol': 0.0007136362362986679, 'C': 89.52068481665155, 'solver': 'saga'}. Best is trial 2 with value: 0.741170448306715.\n",
            "[I 2023-07-02 21:56:32,838] Trial 91 finished with value: 0.7061927322747228 and parameters: {'tol': 0.00024322803313109496, 'C': 26.924330402505785, 'solver': 'newton-cg'}. Best is trial 2 with value: 0.741170448306715.\n",
            "[I 2023-07-02 21:56:42,467] Trial 92 finished with value: 0.6284552508551456 and parameters: {'tol': 0.00012064236968743198, 'C': 89.0527291687167, 'solver': 'liblinear'}. Best is trial 2 with value: 0.741170448306715.\n",
            "[I 2023-07-02 21:56:51,279] Trial 93 finished with value: 0.7021987006914635 and parameters: {'tol': 0.0005375694352767293, 'C': 58.684115933676736, 'solver': 'newton-cg'}. Best is trial 2 with value: 0.741170448306715.\n",
            "[I 2023-07-02 21:56:57,063] Trial 94 finished with value: 0.7041379616384897 and parameters: {'tol': 0.0006462713240902697, 'C': 57.07783475910814, 'solver': 'lbfgs'}. Best is trial 2 with value: 0.741170448306715.\n",
            "[I 2023-07-02 21:57:08,021] Trial 95 finished with value: 0.736173356178697 and parameters: {'tol': 0.0001537062800451477, 'C': 24.595780378873528, 'solver': 'saga'}. Best is trial 2 with value: 0.741170448306715.\n",
            "[I 2023-07-02 21:57:13,437] Trial 96 finished with value: 0.704074751175774 and parameters: {'tol': 8.115351191598057e-05, 'C': 52.45114371191157, 'solver': 'lbfgs'}. Best is trial 2 with value: 0.741170448306715.\n",
            "[I 2023-07-02 21:57:21,209] Trial 97 finished with value: 0.7318235108155505 and parameters: {'tol': 0.0008656416187680864, 'C': 81.70720892420728, 'solver': 'sag'}. Best is trial 2 with value: 0.741170448306715.\n",
            "[I 2023-07-02 21:57:27,578] Trial 98 finished with value: 0.7061112719005893 and parameters: {'tol': 0.00057204107678043, 'C': 27.99791656623748, 'solver': 'newton-cg'}. Best is trial 2 with value: 0.741170448306715.\n",
            "[I 2023-07-02 21:57:34,184] Trial 99 finished with value: 0.7120092239105276 and parameters: {'tol': 0.00024316732268266517, 'C': 11.483691325552105, 'solver': 'newton-cg'}. Best is trial 2 with value: 0.741170448306715.\n"
          ]
        }
      ],
      "source": [
        "# Define the Optuna study\n",
        "study = optuna.create_study(direction='maximize', sampler=RandomSampler(seed=42))\n",
        "study.optimize(objective_LG, n_trials=100)"
      ]
    },
    {
      "cell_type": "code",
      "execution_count": null,
      "metadata": {
        "id": "Qpv4PpVAta2Q"
      },
      "outputs": [],
      "source": [
        "# Get the best hyperparameters from Optuna\n",
        "best_params = study.best_params"
      ]
    },
    {
      "cell_type": "code",
      "execution_count": null,
      "metadata": {
        "id": "YZv722zdta2Q",
        "outputId": "8e4837e9-c010-48c0-ad9b-7df6b6be8375"
      },
      "outputs": [
        {
          "data": {
            "text/plain": [
              "{'tol': 0.0007136362362986679, 'C': 89.52068481665155, 'solver': 'saga'}"
            ]
          },
          "execution_count": 69,
          "metadata": {},
          "output_type": "execute_result"
        }
      ],
      "source": [
        "study.best_params"
      ]
    },
    {
      "cell_type": "markdown",
      "metadata": {
        "id": "oiVnMALqta2Q"
      },
      "source": [
        "#### Get best parameters and make predictions"
      ]
    },
    {
      "cell_type": "code",
      "execution_count": null,
      "metadata": {
        "id": "zvUM_e7dta2R"
      },
      "outputs": [],
      "source": [
        "selected_features_indices = [i for i, value in enumerate(best_features) if value]\n",
        "X_test_selected = X_test[:, selected_features_indices]"
      ]
    },
    {
      "cell_type": "code",
      "execution_count": null,
      "metadata": {
        "id": "V9UHDI4gta2R"
      },
      "outputs": [],
      "source": [
        "X_train_val_selected_final_features = X_train_val[:, selected_features_indices]"
      ]
    },
    {
      "cell_type": "code",
      "execution_count": null,
      "metadata": {
        "id": "Ha6vv9nXta2S",
        "outputId": "1280a39c-a246-4826-9459-62dc18a8e652"
      },
      "outputs": [
        {
          "data": {
            "text/plain": [
              "(286, 300)"
            ]
          },
          "execution_count": 60,
          "metadata": {},
          "output_type": "execute_result"
        }
      ],
      "source": [
        "X_test_selected.shape"
      ]
    },
    {
      "cell_type": "code",
      "execution_count": null,
      "metadata": {
        "id": "MfJOmQLUta2S"
      },
      "outputs": [],
      "source": [
        "best_classifier_LG = LogisticRegression(tol= 0.0007136362362986679, C= 89.52068481665155, solver= 'saga')"
      ]
    },
    {
      "cell_type": "code",
      "execution_count": null,
      "metadata": {
        "id": "8HxXfQAgta2S",
        "outputId": "af5c9a68-6deb-401f-d5f5-a49e4b90a48f"
      },
      "outputs": [
        {
          "data": {
            "text/plain": [
              "LogisticRegression(C=89.52068481665155, solver='saga',\n",
              "                   tol=0.0007136362362986679)"
            ]
          },
          "execution_count": 76,
          "metadata": {},
          "output_type": "execute_result"
        }
      ],
      "source": [
        "best_classifier_LG.fit(X_train_val_selected_final_features, y_train_val)"
      ]
    },
    {
      "cell_type": "code",
      "execution_count": null,
      "metadata": {
        "id": "yX0oB20Xta2T"
      },
      "outputs": [],
      "source": [
        "y_test_pred = best_classifier_LG.predict(X_test_selected)"
      ]
    },
    {
      "cell_type": "code",
      "execution_count": null,
      "metadata": {
        "id": "Z78Kt8V1tbtG"
      },
      "outputs": [],
      "source": [
        "balanced_acc_LG = balanced_accuracy_score(y_test, y_test_pred)\n",
        "recall_LG = recall_score(y_test, y_test_pred, average='weighted')\n",
        "f1_LG = f1_score(y_test, y_test_pred, average='weighted')\n",
        "precision_LG = precision_score(y_test, y_test_pred, average='weighted')"
      ]
    },
    {
      "cell_type": "code",
      "execution_count": null,
      "metadata": {
        "id": "5PR3BZ8rtbtH",
        "outputId": "dbc47f6f-c035-4c26-98fb-9445b783a7ac"
      },
      "outputs": [
        {
          "name": "stdout",
          "output_type": "stream",
          "text": [
            "Logistic Regression\n",
            "\n",
            "Accuracy: 0.7622377622377622\n",
            "F1 Score: 0.7608278998867803\n",
            "Precision: 0.7699806239708448\n",
            "Recall: 0.7622377622377622\n"
          ]
        }
      ],
      "source": [
        "print(\"Logistic Regression\\n\")\n",
        "print(\"Accuracy:\", balanced_acc_LG )\n",
        "print(\"F1 Score:\", f1_LG)\n",
        "print(\"Precision:\", precision_LG)\n",
        "print(\"Recall:\", recall_LG)"
      ]
    },
    {
      "cell_type": "markdown",
      "source": [
        "#### Feature importance"
      ],
      "metadata": {
        "id": "C4_krSpFLUHo"
      }
    },
    {
      "cell_type": "code",
      "execution_count": null,
      "metadata": {
        "id": "gohBTEMRta2U",
        "outputId": "dada0b84-ce67-4d78-9ca0-fa5eb8ce7742"
      },
      "outputs": [
        {
          "name": "stdout",
          "output_type": "stream",
          "text": [
            "[array([295,  79,  64, 202, 171, 177, 147,  76, 282, 118, 150,  36, 262,\n",
            "       144, 275,  60, 259,  21, 101, 233], dtype=int64)]\n",
            "[array([295,  79,  64, 202, 171, 177, 147,  76, 282, 118, 150,  36, 262,\n",
            "       144, 275,  60, 259,  21, 101, 233], dtype=int64), array([287,  26, 260,   7, 221, 172, 296,  57,   2, 253, 117,  97,  94,\n",
            "       124, 175, 228, 129,  68, 103, 133], dtype=int64)]\n",
            "[array([295,  79,  64, 202, 171, 177, 147,  76, 282, 118, 150,  36, 262,\n",
            "       144, 275,  60, 259,  21, 101, 233], dtype=int64), array([287,  26, 260,   7, 221, 172, 296,  57,   2, 253, 117,  97,  94,\n",
            "       124, 175, 228, 129,  68, 103, 133], dtype=int64), array([247, 122, 210,  44,  81, 290, 213,  37, 270, 119, 143, 159, 181,\n",
            "        85, 107, 211, 128, 274, 165, 250], dtype=int64)]\n",
            "[array([295,  79,  64, 202, 171, 177, 147,  76, 282, 118, 150,  36, 262,\n",
            "       144, 275,  60, 259,  21, 101, 233], dtype=int64), array([287,  26, 260,   7, 221, 172, 296,  57,   2, 253, 117,  97,  94,\n",
            "       124, 175, 228, 129,  68, 103, 133], dtype=int64), array([247, 122, 210,  44,  81, 290, 213,  37, 270, 119, 143, 159, 181,\n",
            "        85, 107, 211, 128, 274, 165, 250], dtype=int64), array([121,  19, 278, 204,  10, 246, 286, 235,  67,  60, 262, 223, 226,\n",
            "       299,  96,  54, 255, 261, 292, 207], dtype=int64)]\n",
            "[array([295,  79,  64, 202, 171, 177, 147,  76, 282, 118, 150,  36, 262,\n",
            "       144, 275,  60, 259,  21, 101, 233], dtype=int64), array([287,  26, 260,   7, 221, 172, 296,  57,   2, 253, 117,  97,  94,\n",
            "       124, 175, 228, 129,  68, 103, 133], dtype=int64), array([247, 122, 210,  44,  81, 290, 213,  37, 270, 119, 143, 159, 181,\n",
            "        85, 107, 211, 128, 274, 165, 250], dtype=int64), array([121,  19, 278, 204,  10, 246, 286, 235,  67,  60, 262, 223, 226,\n",
            "       299,  96,  54, 255, 261, 292, 207], dtype=int64), array([ 44,  76,  55,  78,  14, 244,  60, 206,  77, 100, 112, 284,  75,\n",
            "        12, 171,  71,  24, 176, 232, 162], dtype=int64)]\n",
            "[array([295,  79,  64, 202, 171, 177, 147,  76, 282, 118, 150,  36, 262,\n",
            "       144, 275,  60, 259,  21, 101, 233], dtype=int64), array([287,  26, 260,   7, 221, 172, 296,  57,   2, 253, 117,  97,  94,\n",
            "       124, 175, 228, 129,  68, 103, 133], dtype=int64), array([247, 122, 210,  44,  81, 290, 213,  37, 270, 119, 143, 159, 181,\n",
            "        85, 107, 211, 128, 274, 165, 250], dtype=int64), array([121,  19, 278, 204,  10, 246, 286, 235,  67,  60, 262, 223, 226,\n",
            "       299,  96,  54, 255, 261, 292, 207], dtype=int64), array([ 44,  76,  55,  78,  14, 244,  60, 206,  77, 100, 112, 284,  75,\n",
            "        12, 171,  71,  24, 176, 232, 162], dtype=int64), array([216,  79,  27, 234,  90, 264, 290, 243, 126, 188,  91, 220, 257,\n",
            "       167, 186,  53, 245, 293, 242,  25], dtype=int64)]\n",
            "[array([295,  79,  64, 202, 171, 177, 147,  76, 282, 118, 150,  36, 262,\n",
            "       144, 275,  60, 259,  21, 101, 233], dtype=int64), array([287,  26, 260,   7, 221, 172, 296,  57,   2, 253, 117,  97,  94,\n",
            "       124, 175, 228, 129,  68, 103, 133], dtype=int64), array([247, 122, 210,  44,  81, 290, 213,  37, 270, 119, 143, 159, 181,\n",
            "        85, 107, 211, 128, 274, 165, 250], dtype=int64), array([121,  19, 278, 204,  10, 246, 286, 235,  67,  60, 262, 223, 226,\n",
            "       299,  96,  54, 255, 261, 292, 207], dtype=int64), array([ 44,  76,  55,  78,  14, 244,  60, 206,  77, 100, 112, 284,  75,\n",
            "        12, 171,  71,  24, 176, 232, 162], dtype=int64), array([216,  79,  27, 234,  90, 264, 290, 243, 126, 188,  91, 220, 257,\n",
            "       167, 186,  53, 245, 293, 242,  25], dtype=int64), array([296, 202,   8, 257,  54, 201, 125, 198, 273, 271, 263, 110, 269,\n",
            "       205,  37, 178, 265, 281, 200, 138], dtype=int64)]\n",
            "[array([295,  79,  64, 202, 171, 177, 147,  76, 282, 118, 150,  36, 262,\n",
            "       144, 275,  60, 259,  21, 101, 233], dtype=int64), array([287,  26, 260,   7, 221, 172, 296,  57,   2, 253, 117,  97,  94,\n",
            "       124, 175, 228, 129,  68, 103, 133], dtype=int64), array([247, 122, 210,  44,  81, 290, 213,  37, 270, 119, 143, 159, 181,\n",
            "        85, 107, 211, 128, 274, 165, 250], dtype=int64), array([121,  19, 278, 204,  10, 246, 286, 235,  67,  60, 262, 223, 226,\n",
            "       299,  96,  54, 255, 261, 292, 207], dtype=int64), array([ 44,  76,  55,  78,  14, 244,  60, 206,  77, 100, 112, 284,  75,\n",
            "        12, 171,  71,  24, 176, 232, 162], dtype=int64), array([216,  79,  27, 234,  90, 264, 290, 243, 126, 188,  91, 220, 257,\n",
            "       167, 186,  53, 245, 293, 242,  25], dtype=int64), array([296, 202,   8, 257,  54, 201, 125, 198, 273, 271, 263, 110, 269,\n",
            "       205,  37, 178, 265, 281, 200, 138], dtype=int64), array([ 23,   5, 280, 231,   8,   0,  59,  40, 158, 228,  86, 188, 233,\n",
            "        93, 199,  89, 136, 196, 141, 150], dtype=int64)]\n",
            "[array([295,  79,  64, 202, 171, 177, 147,  76, 282, 118, 150,  36, 262,\n",
            "       144, 275,  60, 259,  21, 101, 233], dtype=int64), array([287,  26, 260,   7, 221, 172, 296,  57,   2, 253, 117,  97,  94,\n",
            "       124, 175, 228, 129,  68, 103, 133], dtype=int64), array([247, 122, 210,  44,  81, 290, 213,  37, 270, 119, 143, 159, 181,\n",
            "        85, 107, 211, 128, 274, 165, 250], dtype=int64), array([121,  19, 278, 204,  10, 246, 286, 235,  67,  60, 262, 223, 226,\n",
            "       299,  96,  54, 255, 261, 292, 207], dtype=int64), array([ 44,  76,  55,  78,  14, 244,  60, 206,  77, 100, 112, 284,  75,\n",
            "        12, 171,  71,  24, 176, 232, 162], dtype=int64), array([216,  79,  27, 234,  90, 264, 290, 243, 126, 188,  91, 220, 257,\n",
            "       167, 186,  53, 245, 293, 242,  25], dtype=int64), array([296, 202,   8, 257,  54, 201, 125, 198, 273, 271, 263, 110, 269,\n",
            "       205,  37, 178, 265, 281, 200, 138], dtype=int64), array([ 23,   5, 280, 231,   8,   0,  59,  40, 158, 228,  86, 188, 233,\n",
            "        93, 199,  89, 136, 196, 141, 150], dtype=int64), array([ 86, 162, 249,   6, 168, 154, 193, 191, 114, 184, 172, 180, 240,\n",
            "       102, 159, 158, 105, 125, 176,  73], dtype=int64)]\n",
            "[array([295,  79,  64, 202, 171, 177, 147,  76, 282, 118, 150,  36, 262,\n",
            "       144, 275,  60, 259,  21, 101, 233], dtype=int64), array([287,  26, 260,   7, 221, 172, 296,  57,   2, 253, 117,  97,  94,\n",
            "       124, 175, 228, 129,  68, 103, 133], dtype=int64), array([247, 122, 210,  44,  81, 290, 213,  37, 270, 119, 143, 159, 181,\n",
            "        85, 107, 211, 128, 274, 165, 250], dtype=int64), array([121,  19, 278, 204,  10, 246, 286, 235,  67,  60, 262, 223, 226,\n",
            "       299,  96,  54, 255, 261, 292, 207], dtype=int64), array([ 44,  76,  55,  78,  14, 244,  60, 206,  77, 100, 112, 284,  75,\n",
            "        12, 171,  71,  24, 176, 232, 162], dtype=int64), array([216,  79,  27, 234,  90, 264, 290, 243, 126, 188,  91, 220, 257,\n",
            "       167, 186,  53, 245, 293, 242,  25], dtype=int64), array([296, 202,   8, 257,  54, 201, 125, 198, 273, 271, 263, 110, 269,\n",
            "       205,  37, 178, 265, 281, 200, 138], dtype=int64), array([ 23,   5, 280, 231,   8,   0,  59,  40, 158, 228,  86, 188, 233,\n",
            "        93, 199,  89, 136, 196, 141, 150], dtype=int64), array([ 86, 162, 249,   6, 168, 154, 193, 191, 114, 184, 172, 180, 240,\n",
            "       102, 159, 158, 105, 125, 176,  73], dtype=int64), array([153,  56, 163,  51, 297,  87, 236,   8, 266, 183, 264, 121,  13,\n",
            "       212, 223, 179, 147, 186, 107, 118], dtype=int64)]\n",
            "[array([295,  79,  64, 202, 171, 177, 147,  76, 282, 118, 150,  36, 262,\n",
            "       144, 275,  60, 259,  21, 101, 233], dtype=int64), array([287,  26, 260,   7, 221, 172, 296,  57,   2, 253, 117,  97,  94,\n",
            "       124, 175, 228, 129,  68, 103, 133], dtype=int64), array([247, 122, 210,  44,  81, 290, 213,  37, 270, 119, 143, 159, 181,\n",
            "        85, 107, 211, 128, 274, 165, 250], dtype=int64), array([121,  19, 278, 204,  10, 246, 286, 235,  67,  60, 262, 223, 226,\n",
            "       299,  96,  54, 255, 261, 292, 207], dtype=int64), array([ 44,  76,  55,  78,  14, 244,  60, 206,  77, 100, 112, 284,  75,\n",
            "        12, 171,  71,  24, 176, 232, 162], dtype=int64), array([216,  79,  27, 234,  90, 264, 290, 243, 126, 188,  91, 220, 257,\n",
            "       167, 186,  53, 245, 293, 242,  25], dtype=int64), array([296, 202,   8, 257,  54, 201, 125, 198, 273, 271, 263, 110, 269,\n",
            "       205,  37, 178, 265, 281, 200, 138], dtype=int64), array([ 23,   5, 280, 231,   8,   0,  59,  40, 158, 228,  86, 188, 233,\n",
            "        93, 199,  89, 136, 196, 141, 150], dtype=int64), array([ 86, 162, 249,   6, 168, 154, 193, 191, 114, 184, 172, 180, 240,\n",
            "       102, 159, 158, 105, 125, 176,  73], dtype=int64), array([153,  56, 163,  51, 297,  87, 236,   8, 266, 183, 264, 121,  13,\n",
            "       212, 223, 179, 147, 186, 107, 118], dtype=int64), array([124, 286,  54,  14, 139, 132, 198, 188, 295,  13, 267,  74, 266,\n",
            "       254, 195,  82,  66, 260, 203, 289], dtype=int64)]\n"
          ]
        }
      ],
      "source": [
        "top20_indices=list()\n",
        "coefs=best_classifier_LG.coef_\n",
        "for i in range(0,np.shape(coefs)[0]):\n",
        "    top20_indices.append(np.argsort(coefs[i])[-20:])\n",
        "    print(top20_indices)\n",
        "\n",
        "top20_indices0=top20_indices[0]\n",
        "top20_indices1=top20_indices[1]\n",
        "top20_indices2=top20_indices[2]\n",
        "top20_indices3=top20_indices[3]\n",
        "top20_indices4=top20_indices[4]\n",
        "top20_indices5=top20_indices[5]\n",
        "top20_indices6=top20_indices[6]\n",
        "top20_indices7=top20_indices[7]\n",
        "top20_indices8=top20_indices[8]\n",
        "top20_indices9=top20_indices[9]\n",
        "top20_indices10=top20_indices[10]\n",
        "\n",
        "column_names0=list()\n",
        "column_names1=list()\n",
        "column_names2=list()\n",
        "column_names3=list()\n",
        "column_names4=list()\n",
        "column_names5=list()\n",
        "column_names6=list()\n",
        "column_names7=list()\n",
        "column_names8=list()\n",
        "column_names9=list()\n",
        "column_names10=list()\n",
        "\n",
        "\n",
        "for i in range(20):\n",
        "    column_names0.append(data_filtered_features.columns[top20_indices0[i]])\n",
        "    column_names1.append(data_filtered_features.columns[top20_indices1[i]])\n",
        "    column_names2.append(data_filtered_features.columns[top20_indices2[i]])\n",
        "    column_names3.append(data_filtered_features.columns[top20_indices3[i]])\n",
        "    column_names4.append(data_filtered_features.columns[top20_indices4[i]])\n",
        "    column_names5.append(data_filtered_features.columns[top20_indices5[i]])\n",
        "    column_names6.append(data_filtered_features.columns[top20_indices6[i]])\n",
        "    column_names7.append(data_filtered_features.columns[top20_indices7[i]])\n",
        "    column_names8.append(data_filtered_features.columns[top20_indices8[i]])\n",
        "    column_names9.append(data_filtered_features.columns[top20_indices9[i]])\n",
        "    column_names10.append(data_filtered_features.columns[top20_indices10[i]])\n",
        ""
      ]
    },
    {
      "cell_type": "code",
      "execution_count": null,
      "metadata": {
        "id": "eCJclv2kta2U",
        "outputId": "2f003215-9369-4e9c-9687-fc8be3583da5"
      },
      "outputs": [
        {
          "name": "stdout",
          "output_type": "stream",
          "text": [
            "Important Genes for class 1: ['ENSG00000138083', 'ENSG00000111669', 'ENSG00000135486', 'ENSG00000140279', 'ENSG00000176887', 'ENSG00000115947', 'ENSG00000057019', 'ENSG00000114391', 'ENSG00000111348', 'ENSG00000138061', 'ENSG00000007372', 'ENSG00000100316', 'ENSG00000064309', 'ENSG00000205581', 'ENSG00000213949', 'ENSG00000096150', 'ENSG00000196458', 'ENSG00000142937', 'ENSG00000198786', 'ENSG00000184226']\n",
            "Important Genes for class 2: ['ENSG00000100234', 'ENSG00000122026', 'ENSG00000072110', 'ENSG00000229117', 'ENSG00000155366', 'ENSG00000104408', 'ENSG00000130208', 'ENSG00000084207', 'ENSG00000167996', 'ENSG00000235162', 'ENSG00000140264', 'ENSG00000108821', 'ENSG00000143933', 'ENSG00000118523', 'ENSG00000168542', 'ENSG00000145824', 'ENSG00000111341', 'ENSG00000185885', 'ENSG00000100097', 'ENSG00000143320']\n",
            "Important Genes for class 3: ['ENSG00000172020', 'ENSG00000163331', 'ENSG00000258947', 'ENSG00000166426', 'ENSG00000131711', 'ENSG00000116209', 'ENSG00000173267', 'ENSG00000115461', 'ENSG00000002933', 'ENSG00000132475', 'ENSG00000137285', 'ENSG00000272398', 'ENSG00000189159', 'ENSG00000163041', 'ENSG00000142669', 'ENSG00000116717', 'ENSG00000104435', 'ENSG00000220205', 'ENSG00000213190', 'ENSG00000090097']\n",
            "Important Genes for class 4: ['ENSG00000137309', 'ENSG00000147604', 'ENSG00000164109', 'ENSG00000173207', 'ENSG00000198918', 'ENSG00000124795', 'ENSG00000108106', 'ENSG00000198668', 'ENSG00000123416', 'ENSG00000096150', 'ENSG00000064309', 'ENSG00000166582', 'ENSG00000180660', 'ENSG00000168461', 'ENSG00000189403', 'ENSG00000197061', 'ENSG00000148773', 'ENSG00000113810', 'ENSG00000066279', 'ENSG00000166803']\n",
            "Important Genes for class 5: ['ENSG00000166426', 'ENSG00000114391', 'ENSG00000071082', 'ENSG00000092841', 'ENSG00000105372', 'ENSG00000089685', 'ENSG00000096150', 'ENSG00000164111', 'ENSG00000198755', 'ENSG00000181163', 'ENSG00000135404', 'ENSG00000166848', 'ENSG00000089157', 'ENSG00000198938', 'ENSG00000176887', 'ENSG00000269028', 'ENSG00000138326', 'ENSG00000277359', 'ENSG00000260836', 'ENSG00000281287']\n",
            "Important Genes for class 6: ['ENSG00000105223', 'ENSG00000111669', 'ENSG00000109475', 'ENSG00000197406', 'ENSG00000114115', 'ENSG00000136770', 'ENSG00000116209', 'ENSG00000109472', 'ENSG00000167815', 'ENSG00000050165', 'ENSG00000080824', 'ENSG00000123131', 'ENSG00000086696', 'ENSG00000115310', 'ENSG00000104327', 'ENSG00000074800', 'ENSG00000041357', 'ENSG00000141526', 'ENSG00000049449', 'ENSG00000145423']\n",
            "Important Genes for class 7: ['ENSG00000130208', 'ENSG00000140279', 'ENSG00000026025', 'ENSG00000086696', 'ENSG00000197061', 'ENSG00000253117', 'ENSG00000106211', 'ENSG00000282813', 'ENSG00000138760', 'ENSG00000143882', 'ENSG00000067715', 'ENSG00000117394', 'ENSG00000107165', 'ENSG00000152661', 'ENSG00000115461', 'ENSG00000083067', 'ENSG00000130720', 'ENSG00000176101', 'ENSG00000049540', 'ENSG00000006042']\n",
            "Important Genes for class 8: ['ENSG00000187514', 'ENSG00000087086', 'ENSG00000104763', 'ENSG00000169609', 'ENSG00000026025', 'ENSG00000205542', 'ENSG00000280858', 'ENSG00000186468', 'ENSG00000165092', 'ENSG00000145824', 'ENSG00000198888', 'ENSG00000050165', 'ENSG00000184226', 'ENSG00000172757', 'ENSG00000223551', 'ENSG00000168028', 'ENSG00000130203', 'ENSG00000069275', 'ENSG00000084234', 'ENSG00000007372']\n",
            "Important Genes for class 9: ['ENSG00000198888', 'ENSG00000281287', 'ENSG00000006327', 'ENSG00000075624', 'ENSG00000167460', 'ENSG00000135046', 'ENSG00000137575', 'ENSG00000188229', 'ENSG00000196262', 'ENSG00000163466', 'ENSG00000104408', 'ENSG00000185787', 'ENSG00000122644', 'ENSG00000197747', 'ENSG00000272398', 'ENSG00000165092', 'ENSG00000115414', 'ENSG00000106211', 'ENSG00000277359', 'ENSG00000163191']\n",
            "Important Genes for class 10: ['ENSG00000109046', 'ENSG00000162244', 'ENSG00000128606', 'ENSG00000149591', 'ENSG00000100592', 'ENSG00000110492', 'ENSG00000158164', 'ENSG00000026025', 'ENSG00000100345', 'ENSG00000164434', 'ENSG00000136770', 'ENSG00000137309', 'ENSG00000034510', 'ENSG00000153944', 'ENSG00000166582', 'ENSG00000188643', 'ENSG00000057019', 'ENSG00000104327', 'ENSG00000142669', 'ENSG00000138061']\n",
            "Important Genes for class 11: ['ENSG00000118523', 'ENSG00000108106', 'ENSG00000197061', 'ENSG00000105372', 'ENSG00000131016', 'ENSG00000113140', 'ENSG00000282813', 'ENSG00000050165', 'ENSG00000138083', 'ENSG00000034510', 'ENSG00000140545', 'ENSG00000164687', 'ENSG00000100345', 'ENSG00000198959', 'ENSG00000243449', 'ENSG00000108518', 'ENSG00000140416', 'ENSG00000072110', 'ENSG00000150093', 'ENSG00000134871']\n"
          ]
        }
      ],
      "source": [
        "#Print the column names\n",
        "print(\"Important Genes for class 1:\",column_names0)\n",
        "print(\"Important Genes for class 2:\",column_names1)\n",
        "print(\"Important Genes for class 3:\",column_names2)\n",
        "print(\"Important Genes for class 4:\",column_names3)\n",
        "print(\"Important Genes for class 5:\",column_names4)\n",
        "print(\"Important Genes for class 6:\",column_names5)\n",
        "print(\"Important Genes for class 7:\",column_names6)\n",
        "print(\"Important Genes for class 8:\",column_names7)\n",
        "print(\"Important Genes for class 9:\",column_names8)\n",
        "print(\"Important Genes for class 10:\",column_names9)\n",
        "print(\"Important Genes for class 11:\",column_names10)"
      ]
    },
    {
      "cell_type": "markdown",
      "metadata": {
        "id": "qIj3FUDBta2U"
      },
      "source": [
        "## GaussianNB"
      ]
    },
    {
      "cell_type": "markdown",
      "metadata": {
        "id": "RMgSAbZata2U"
      },
      "source": [
        "#### Cross val for hyperparameter tunning and feature selection"
      ]
    },
    {
      "cell_type": "code",
      "execution_count": null,
      "metadata": {
        "id": "ano9wjBita2V",
        "outputId": "8bd95db6-6800-461a-dbd4-8b16ad2297dc"
      },
      "outputs": [
        {
          "name": "stdout",
          "output_type": "stream",
          "text": [
            "Gaussian Naive Bayes\n"
          ]
        }
      ],
      "source": [
        "# Define the number of folds for cross-validation\n",
        "n_folds = 5"
      ]
    },
    {
      "cell_type": "code",
      "execution_count": null,
      "metadata": {
        "id": "lLCtpEw3ta2Y"
      },
      "outputs": [],
      "source": [
        "# Define the objective function for Optuna hyperparameter tuning\n",
        "def objective_GNB(trial):\n",
        "  global best_features\n",
        "  params = {\n",
        "            'var_smoothing': trial.suggest_float('var_smoothing', 1e-10, 1e-3, log=True)\n",
        "          }\n",
        "\n",
        "  # Instantiate the classifier with the current hyperparameters\n",
        "  #classifier = XGBClassifier(eta=eta,gamma=gamma ,min_child_weight=min_child_weight,max_delta_step=max_delta_step,subsample=subsample)\n",
        "  classifier = GaussianNB(**params)\n",
        "\n",
        "  # Perform cross-validation with feature selection\n",
        "  kf = StratifiedKFold(n_splits=n_folds, shuffle=True, random_state=42)\n",
        "  cv_scores = []\n",
        "  feature_selector = SelectKBest(score_func=f_classif, k=300)  # Adjust the number of features as desired\n",
        "  best_features = None\n",
        "\n",
        "  for train_index, val_index in kf.split(X_train_val, y_train_val):\n",
        "      X_train, X_val = X_train_val[train_index], X_train_val[val_index]\n",
        "      y_train, y_val = y_train_val[train_index], y_train_val[val_index]\n",
        "\n",
        "      # Perform feature selection on the training set\n",
        "      X_train_selected = feature_selector.fit_transform(X_train, y_train)\n",
        "      selected_features = feature_selector.get_support()\n",
        "\n",
        "      # Apply the same feature selection on the validation set\n",
        "      X_val_selected = X_val[:, selected_features]\n",
        "\n",
        "      # Fit the classifier on the selected features and evaluate on the validation set\n",
        "      classifier.fit(X_train_selected, y_train)\n",
        "      y_pred = classifier.predict(X_val_selected)\n",
        "      mcc = matthews_corrcoef(y_val, y_pred)\n",
        "      cv_scores.append(mcc)\n",
        "\n",
        "  # Calculate the average MCC\n",
        "  avg_mcc = np.mean(cv_scores)\n",
        "\n",
        "  if trial.should_prune()==False:\n",
        "    best_features = selected_features.copy()\n",
        "\n",
        "  return avg_mcc"
      ]
    },
    {
      "cell_type": "code",
      "execution_count": null,
      "metadata": {
        "id": "Ka1Xc5tbta2a",
        "outputId": "2029d462-3c73-4fe3-a1be-7f7fb1b6030c"
      },
      "outputs": [
        {
          "name": "stderr",
          "output_type": "stream",
          "text": [
            "[I 2023-06-24 10:43:41,888] A new study created in memory with name: no-name-b609d71a-c01a-4d82-a53d-6d8ffe5287e0\n",
            "[I 2023-06-24 10:43:42,028] Trial 0 finished with value: 0.6409815566780167 and parameters: {'var_smoothing': 4.185822729546966e-08}. Best is trial 0 with value: 0.6409815566780167.\n",
            "[I 2023-06-24 10:43:42,142] Trial 1 finished with value: 0.6591860882362848 and parameters: {'var_smoothing': 0.0004518560951024107}. Best is trial 1 with value: 0.6591860882362848.\n",
            "[I 2023-06-24 10:43:42,253] Trial 2 finished with value: 0.6449245630114806 and parameters: {'var_smoothing': 1.3303245101522907e-05}. Best is trial 1 with value: 0.6591860882362848.\n",
            "[I 2023-06-24 10:43:42,363] Trial 3 finished with value: 0.6403753591009387 and parameters: {'var_smoothing': 1.5509913987594307e-06}. Best is trial 1 with value: 0.6591860882362848.\n",
            "[I 2023-06-24 10:43:42,474] Trial 4 finished with value: 0.6311659833337926 and parameters: {'var_smoothing': 1.2363188277052218e-09}. Best is trial 1 with value: 0.6591860882362848.\n",
            "[I 2023-06-24 10:43:42,583] Trial 5 finished with value: 0.6311659833337926 and parameters: {'var_smoothing': 1.2358382772306896e-09}. Best is trial 1 with value: 0.6591860882362848.\n",
            "[I 2023-06-24 10:43:42,693] Trial 6 finished with value: 0.631615164163701 and parameters: {'var_smoothing': 2.5502648504032847e-10}. Best is trial 1 with value: 0.6591860882362848.\n",
            "[I 2023-06-24 10:43:42,816] Trial 7 finished with value: 0.6540032085810064 and parameters: {'var_smoothing': 0.00011567327199145979}. Best is trial 1 with value: 0.6591860882362848.\n",
            "[I 2023-06-24 10:43:42,924] Trial 8 finished with value: 0.6403753591009387 and parameters: {'var_smoothing': 1.6136341713591319e-06}. Best is trial 1 with value: 0.6591860882362848.\n",
            "[I 2023-06-24 10:43:43,032] Trial 9 finished with value: 0.6439595326888643 and parameters: {'var_smoothing': 9.047071957568391e-06}. Best is trial 1 with value: 0.6591860882362848.\n",
            "[I 2023-06-24 10:43:43,143] Trial 10 finished with value: 0.6297317601978254 and parameters: {'var_smoothing': 1.3934502251337584e-10}. Best is trial 1 with value: 0.6591860882362848.\n",
            "[I 2023-06-24 10:43:43,253] Trial 11 finished with value: 0.6610721424023452 and parameters: {'var_smoothing': 0.00061569973282352}. Best is trial 11 with value: 0.6610721424023452.\n",
            "[I 2023-06-24 10:43:43,361] Trial 12 finished with value: 0.6478562671491325 and parameters: {'var_smoothing': 6.715811311069945e-05}. Best is trial 11 with value: 0.6610721424023452.\n",
            "[I 2023-06-24 10:43:43,468] Trial 13 finished with value: 0.6346428639680661 and parameters: {'var_smoothing': 3.064599841241147e-09}. Best is trial 11 with value: 0.6610721424023452.\n",
            "[I 2023-06-24 10:43:43,579] Trial 14 finished with value: 0.6310921751908318 and parameters: {'var_smoothing': 1.874022368883631e-09}. Best is trial 11 with value: 0.6610721424023452.\n",
            "[I 2023-06-24 10:43:43,688] Trial 15 finished with value: 0.6310921751908318 and parameters: {'var_smoothing': 1.922346047064363e-09}. Best is trial 11 with value: 0.6610721424023452.\n",
            "[I 2023-06-24 10:43:43,796] Trial 16 finished with value: 0.6374395701405975 and parameters: {'var_smoothing': 1.3480180290890788e-08}. Best is trial 11 with value: 0.6610721424023452.\n",
            "[I 2023-06-24 10:43:43,906] Trial 17 finished with value: 0.6424199808244828 and parameters: {'var_smoothing': 4.7129737561107815e-07}. Best is trial 11 with value: 0.6610721424023452.\n",
            "[I 2023-06-24 10:43:44,017] Trial 18 finished with value: 0.6415449201093599 and parameters: {'var_smoothing': 1.0558813779064848e-07}. Best is trial 11 with value: 0.6610721424023452.\n",
            "[I 2023-06-24 10:43:44,127] Trial 19 finished with value: 0.638350619297198 and parameters: {'var_smoothing': 1.0929592787219375e-08}. Best is trial 11 with value: 0.6610721424023452.\n",
            "[I 2023-06-24 10:43:44,238] Trial 20 finished with value: 0.6413107166149058 and parameters: {'var_smoothing': 1.9185373703841914e-06}. Best is trial 11 with value: 0.6610721424023452.\n",
            "[I 2023-06-24 10:43:44,348] Trial 21 finished with value: 0.6321631043919995 and parameters: {'var_smoothing': 9.472334467618544e-10}. Best is trial 11 with value: 0.6610721424023452.\n",
            "[I 2023-06-24 10:43:44,455] Trial 22 finished with value: 0.638350619297198 and parameters: {'var_smoothing': 1.1092068418536174e-08}. Best is trial 11 with value: 0.6610721424023452.\n",
            "[I 2023-06-24 10:43:44,584] Trial 23 finished with value: 0.6410732985420232 and parameters: {'var_smoothing': 3.6688748954991754e-08}. Best is trial 11 with value: 0.6610721424023452.\n",
            "[I 2023-06-24 10:43:44,691] Trial 24 finished with value: 0.643385052251823 and parameters: {'var_smoothing': 1.5577217702693015e-07}. Best is trial 11 with value: 0.6610721424023452.\n",
            "[I 2023-06-24 10:43:44,800] Trial 25 finished with value: 0.647840513840533 and parameters: {'var_smoothing': 3.134958021096909e-05}. Best is trial 11 with value: 0.6610721424023452.\n",
            "[I 2023-06-24 10:43:44,912] Trial 26 finished with value: 0.6338498823857057 and parameters: {'var_smoothing': 2.498713568466945e-09}. Best is trial 11 with value: 0.6610721424023452.\n",
            "[I 2023-06-24 10:43:45,021] Trial 27 finished with value: 0.6432956723011776 and parameters: {'var_smoothing': 3.97778283081119e-07}. Best is trial 11 with value: 0.6610721424023452.\n",
            "[I 2023-06-24 10:43:45,128] Trial 28 finished with value: 0.6403753591009387 and parameters: {'var_smoothing': 1.402497132660036e-06}. Best is trial 11 with value: 0.6610721424023452.\n",
            "[I 2023-06-24 10:43:45,238] Trial 29 finished with value: 0.631615164163701 and parameters: {'var_smoothing': 2.1142332035497139e-10}. Best is trial 11 with value: 0.6610721424023452.\n",
            "[I 2023-06-24 10:43:45,348] Trial 30 finished with value: 0.6413107166149058 and parameters: {'var_smoothing': 1.7898389848671593e-06}. Best is trial 11 with value: 0.6610721424023452.\n",
            "[I 2023-06-24 10:43:45,455] Trial 31 finished with value: 0.6310921751908318 and parameters: {'var_smoothing': 1.5619562520792733e-09}. Best is trial 11 with value: 0.6610721424023452.\n",
            "[I 2023-06-24 10:43:45,564] Trial 32 finished with value: 0.6305789260587933 and parameters: {'var_smoothing': 2.853390105240223e-10}. Best is trial 11 with value: 0.6610721424023452.\n",
            "[I 2023-06-24 10:43:45,673] Trial 33 finished with value: 0.6591860882362848 and parameters: {'var_smoothing': 0.0004387314432435404}. Best is trial 11 with value: 0.6610721424023452.\n",
            "[I 2023-06-24 10:43:45,784] Trial 34 finished with value: 0.6630998569256639 and parameters: {'var_smoothing': 0.0005746775499181862}. Best is trial 34 with value: 0.6630998569256639.\n",
            "[I 2023-06-24 10:43:45,891] Trial 35 finished with value: 0.6458242816678424 and parameters: {'var_smoothing': 4.55807468402733e-05}. Best is trial 34 with value: 0.6630998569256639.\n",
            "[I 2023-06-24 10:43:46,003] Trial 36 finished with value: 0.6374395701405975 and parameters: {'var_smoothing': 1.3561145768453489e-08}. Best is trial 34 with value: 0.6630998569256639.\n",
            "[I 2023-06-24 10:43:46,112] Trial 37 finished with value: 0.6313172565597374 and parameters: {'var_smoothing': 4.827305651975699e-10}. Best is trial 34 with value: 0.6630998569256639.\n",
            "[I 2023-06-24 10:43:46,219] Trial 38 finished with value: 0.6431181459837952 and parameters: {'var_smoothing': 6.1607159527745434e-06}. Best is trial 34 with value: 0.6630998569256639.\n",
            "[I 2023-06-24 10:43:46,329] Trial 39 finished with value: 0.6424619761831185 and parameters: {'var_smoothing': 1.20522312541456e-07}. Best is trial 34 with value: 0.6630998569256639.\n",
            "[I 2023-06-24 10:43:46,439] Trial 40 finished with value: 0.6321631043919995 and parameters: {'var_smoothing': 7.149367864959178e-10}. Best is trial 34 with value: 0.6630998569256639.\n",
            "[I 2023-06-24 10:43:46,546] Trial 41 finished with value: 0.6432956723011776 and parameters: {'var_smoothing': 2.9257577949824413e-07}. Best is trial 34 with value: 0.6630998569256639.\n",
            "[I 2023-06-24 10:43:46,657] Trial 42 finished with value: 0.6297317601978254 and parameters: {'var_smoothing': 1.740682839312808e-10}. Best is trial 34 with value: 0.6630998569256639.\n",
            "[I 2023-06-24 10:43:46,767] Trial 43 finished with value: 0.6550660339709669 and parameters: {'var_smoothing': 0.0002318690670290197}. Best is trial 34 with value: 0.6630998569256639.\n",
            "[I 2023-06-24 10:43:46,877] Trial 44 finished with value: 0.638350619297198 and parameters: {'var_smoothing': 6.478282331897327e-09}. Best is trial 34 with value: 0.6630998569256639.\n",
            "[I 2023-06-24 10:43:46,988] Trial 45 finished with value: 0.6452005235828738 and parameters: {'var_smoothing': 4.341661800361736e-06}. Best is trial 34 with value: 0.6630998569256639.\n",
            "[I 2023-06-24 10:43:47,096] Trial 46 finished with value: 0.6373937675360664 and parameters: {'var_smoothing': 1.520468869219889e-08}. Best is trial 34 with value: 0.6630998569256639.\n",
            "[I 2023-06-24 10:43:47,204] Trial 47 finished with value: 0.6433182985641941 and parameters: {'var_smoothing': 4.369946783595579e-07}. Best is trial 34 with value: 0.6630998569256639.\n",
            "[I 2023-06-24 10:43:47,316] Trial 48 finished with value: 0.6404605656835266 and parameters: {'var_smoothing': 6.713854967599219e-07}. Best is trial 34 with value: 0.6630998569256639.\n",
            "[I 2023-06-24 10:43:47,427] Trial 49 finished with value: 0.6310921751908318 and parameters: {'var_smoothing': 1.9678010532114953e-09}. Best is trial 34 with value: 0.6630998569256639.\n",
            "[I 2023-06-24 10:43:47,538] Trial 50 finished with value: 0.6610721424023452 and parameters: {'var_smoothing': 0.0006124806805925976}. Best is trial 34 with value: 0.6630998569256639.\n",
            "[I 2023-06-24 10:43:47,647] Trial 51 finished with value: 0.6468881545932659 and parameters: {'var_smoothing': 2.666427400467686e-05}. Best is trial 34 with value: 0.6630998569256639.\n",
            "[I 2023-06-24 10:43:47,754] Trial 52 finished with value: 0.6571717292008034 and parameters: {'var_smoothing': 0.00037713131110779903}. Best is trial 34 with value: 0.6630998569256639.\n",
            "[I 2023-06-24 10:43:47,863] Trial 53 finished with value: 0.6551557616260062 and parameters: {'var_smoothing': 0.0001835656654435508}. Best is trial 34 with value: 0.6630998569256639.\n",
            "[I 2023-06-24 10:43:47,968] Trial 54 finished with value: 0.6403753591009387 and parameters: {'var_smoothing': 1.5321449415450716e-06}. Best is trial 34 with value: 0.6630998569256639.\n",
            "[I 2023-06-24 10:43:48,077] Trial 55 finished with value: 0.6550942895806385 and parameters: {'var_smoothing': 0.0002838700963443627}. Best is trial 34 with value: 0.6630998569256639.\n",
            "[I 2023-06-24 10:43:48,185] Trial 56 finished with value: 0.6313172565597374 and parameters: {'var_smoothing': 4.163394022669372e-10}. Best is trial 34 with value: 0.6630998569256639.\n",
            "[I 2023-06-24 10:43:48,295] Trial 57 finished with value: 0.6329730184071666 and parameters: {'var_smoothing': 2.3543988498504872e-09}. Best is trial 34 with value: 0.6630998569256639.\n",
            "[I 2023-06-24 10:43:48,407] Trial 58 finished with value: 0.631615164163701 and parameters: {'var_smoothing': 2.0729604791291157e-10}. Best is trial 34 with value: 0.6630998569256639.\n",
            "[I 2023-06-24 10:43:48,522] Trial 59 finished with value: 0.6372601507868519 and parameters: {'var_smoothing': 1.893704954163126e-08}. Best is trial 34 with value: 0.6630998569256639.\n",
            "[I 2023-06-24 10:43:48,631] Trial 60 finished with value: 0.6409815566780167 and parameters: {'var_smoothing': 5.2570369292136696e-08}. Best is trial 34 with value: 0.6630998569256639.\n",
            "[I 2023-06-24 10:43:48,743] Trial 61 finished with value: 0.638350619297198 and parameters: {'var_smoothing': 7.933105363733031e-09}. Best is trial 34 with value: 0.6630998569256639.\n",
            "[I 2023-06-24 10:43:48,851] Trial 62 finished with value: 0.6468111344215597 and parameters: {'var_smoothing': 6.326486185661583e-05}. Best is trial 34 with value: 0.6630998569256639.\n",
            "[I 2023-06-24 10:43:48,960] Trial 63 finished with value: 0.641153406001201 and parameters: {'var_smoothing': 3.142485531883158e-08}. Best is trial 34 with value: 0.6630998569256639.\n",
            "[I 2023-06-24 10:43:49,071] Trial 64 finished with value: 0.638350619297198 and parameters: {'var_smoothing': 9.258519973443778e-09}. Best is trial 34 with value: 0.6630998569256639.\n",
            "[I 2023-06-24 10:43:49,178] Trial 65 finished with value: 0.6414486624002513 and parameters: {'var_smoothing': 6.293215187893864e-07}. Best is trial 34 with value: 0.6630998569256639.\n",
            "[I 2023-06-24 10:43:49,287] Trial 66 finished with value: 0.6321631043919995 and parameters: {'var_smoothing': 9.693253593230319e-10}. Best is trial 34 with value: 0.6630998569256639.\n",
            "[I 2023-06-24 10:43:49,396] Trial 67 finished with value: 0.646840093589973 and parameters: {'var_smoothing': 4.1245717727594184e-05}. Best is trial 34 with value: 0.6630998569256639.\n",
            "[I 2023-06-24 10:43:49,504] Trial 68 finished with value: 0.6305789260587933 and parameters: {'var_smoothing': 3.325481267274218e-10}. Best is trial 34 with value: 0.6630998569256639.\n",
            "[I 2023-06-24 10:43:49,613] Trial 69 finished with value: 0.6630393437352223 and parameters: {'var_smoothing': 0.0008094845352286139}. Best is trial 34 with value: 0.6630998569256639.\n",
            "[I 2023-06-24 10:43:49,732] Trial 70 finished with value: 0.6478628744758138 and parameters: {'var_smoothing': 2.545150013091292e-05}. Best is trial 34 with value: 0.6630998569256639.\n",
            "[I 2023-06-24 10:43:49,847] Trial 71 finished with value: 0.6338498823857057 and parameters: {'var_smoothing': 2.460422958018417e-09}. Best is trial 34 with value: 0.6630998569256639.\n",
            "[I 2023-06-24 10:43:49,955] Trial 72 finished with value: 0.628820711041225 and parameters: {'var_smoothing': 1.0930872279404526e-10}. Best is trial 34 with value: 0.6630998569256639.\n",
            "[I 2023-06-24 10:43:50,064] Trial 73 finished with value: 0.646910344901244 and parameters: {'var_smoothing': 5.107754312955834e-05}. Best is trial 34 with value: 0.6630998569256639.\n",
            "[I 2023-06-24 10:43:50,175] Trial 74 finished with value: 0.6439595326888643 and parameters: {'var_smoothing': 8.871588860587616e-06}. Best is trial 34 with value: 0.6630998569256639.\n",
            "[I 2023-06-24 10:43:50,284] Trial 75 finished with value: 0.6449245630114806 and parameters: {'var_smoothing': 1.267798332692875e-05}. Best is trial 34 with value: 0.6630998569256639.\n",
            "[I 2023-06-24 10:43:50,392] Trial 76 finished with value: 0.6478628744758138 and parameters: {'var_smoothing': 2.5054885755573557e-05}. Best is trial 34 with value: 0.6630998569256639.\n",
            "[I 2023-06-24 10:43:50,501] Trial 77 finished with value: 0.6305789260587933 and parameters: {'var_smoothing': 3.298470179752563e-10}. Best is trial 34 with value: 0.6630998569256639.\n",
            "[I 2023-06-24 10:43:50,607] Trial 78 finished with value: 0.6410732985420232 and parameters: {'var_smoothing': 3.2304282522409615e-08}. Best is trial 34 with value: 0.6630998569256639.\n",
            "[I 2023-06-24 10:43:50,718] Trial 79 finished with value: 0.6312509897250994 and parameters: {'var_smoothing': 6.472669269538624e-10}. Best is trial 34 with value: 0.6630998569256639.\n",
            "[I 2023-06-24 10:43:50,830] Trial 80 finished with value: 0.6529874750525995 and parameters: {'var_smoothing': 0.0001100839441018131}. Best is trial 34 with value: 0.6630998569256639.\n",
            "[I 2023-06-24 10:43:50,941] Trial 81 finished with value: 0.6413107166149058 and parameters: {'var_smoothing': 2.3072087378099e-06}. Best is trial 34 with value: 0.6630998569256639.\n",
            "[I 2023-06-24 10:43:51,051] Trial 82 finished with value: 0.6372601507868519 and parameters: {'var_smoothing': 2.0715058970816234e-08}. Best is trial 34 with value: 0.6630998569256639.\n",
            "[I 2023-06-24 10:43:51,161] Trial 83 finished with value: 0.6305789260587933 and parameters: {'var_smoothing': 2.785533924389101e-10}. Best is trial 34 with value: 0.6630998569256639.\n",
            "[I 2023-06-24 10:43:51,271] Trial 84 finished with value: 0.6373937675360664 and parameters: {'var_smoothing': 1.5027137214154533e-08}. Best is trial 34 with value: 0.6630998569256639.\n",
            "[I 2023-06-24 10:43:51,380] Trial 85 finished with value: 0.6372601507868519 and parameters: {'var_smoothing': 1.889223130553437e-08}. Best is trial 34 with value: 0.6630998569256639.\n",
            "[I 2023-06-24 10:43:51,494] Trial 86 finished with value: 0.6449245630114806 and parameters: {'var_smoothing': 1.2800980864220754e-05}. Best is trial 34 with value: 0.6630998569256639.\n",
            "[I 2023-06-24 10:43:51,601] Trial 87 finished with value: 0.6431873164358097 and parameters: {'var_smoothing': 2.9033694281285623e-06}. Best is trial 34 with value: 0.6630998569256639.\n",
            "[I 2023-06-24 10:43:51,711] Trial 88 finished with value: 0.654121901332671 and parameters: {'var_smoothing': 0.00016236379661338317}. Best is trial 34 with value: 0.6630998569256639.\n",
            "[I 2023-06-24 10:43:51,835] Trial 89 finished with value: 0.6432956723011776 and parameters: {'var_smoothing': 2.0207122587167362e-07}. Best is trial 34 with value: 0.6630998569256639.\n",
            "[I 2023-06-24 10:43:51,941] Trial 90 finished with value: 0.6312973067011228 and parameters: {'var_smoothing': 6.873211713642716e-10}. Best is trial 34 with value: 0.6630998569256639.\n",
            "[I 2023-06-24 10:43:52,050] Trial 91 finished with value: 0.6439595326888643 and parameters: {'var_smoothing': 9.833622008382918e-06}. Best is trial 34 with value: 0.6630998569256639.\n",
            "[I 2023-06-24 10:43:52,179] Trial 92 finished with value: 0.6468589348035187 and parameters: {'var_smoothing': 2.1159009829538346e-05}. Best is trial 34 with value: 0.6630998569256639.\n",
            "[I 2023-06-24 10:43:52,289] Trial 93 finished with value: 0.639422832019422 and parameters: {'var_smoothing': 8.490639132761158e-07}. Best is trial 34 with value: 0.6630998569256639.\n",
            "[I 2023-06-24 10:43:52,399] Trial 94 finished with value: 0.6478628744758138 and parameters: {'var_smoothing': 2.4932754437140142e-05}. Best is trial 34 with value: 0.6630998569256639.\n",
            "[I 2023-06-24 10:43:52,509] Trial 95 finished with value: 0.6432956723011776 and parameters: {'var_smoothing': 2.861338079089885e-07}. Best is trial 34 with value: 0.6630998569256639.\n",
            "[I 2023-06-24 10:43:52,620] Trial 96 finished with value: 0.6424199808244828 and parameters: {'var_smoothing': 4.5617324056306345e-07}. Best is trial 34 with value: 0.6630998569256639.\n",
            "[I 2023-06-24 10:43:52,729] Trial 97 finished with value: 0.6406280308624941 and parameters: {'var_smoothing': 9.835289062589968e-08}. Best is trial 34 with value: 0.6630998569256639.\n",
            "[I 2023-06-24 10:43:52,836] Trial 98 finished with value: 0.6297317601978254 and parameters: {'var_smoothing': 1.5063777323554432e-10}. Best is trial 34 with value: 0.6630998569256639.\n",
            "[I 2023-06-24 10:43:52,946] Trial 99 finished with value: 0.6322433496182974 and parameters: {'var_smoothing': 5.691673629899875e-10}. Best is trial 34 with value: 0.6630998569256639.\n"
          ]
        }
      ],
      "source": [
        "# Define the Optuna study\n",
        "study = optuna.create_study(direction='maximize', sampler=RandomSampler(seed=42))\n",
        "study.optimize(objective_GNB, n_trials=100)"
      ]
    },
    {
      "cell_type": "code",
      "execution_count": null,
      "metadata": {
        "id": "tydutc-jta2b"
      },
      "outputs": [],
      "source": [
        "# Get the best hyperparameters from Optuna\n",
        "best_params = study.best_params"
      ]
    },
    {
      "cell_type": "code",
      "execution_count": null,
      "metadata": {
        "id": "XvE_Gzh9ta2b",
        "outputId": "172bf5ac-970b-4981-bf50-c011a5c2c2c2"
      },
      "outputs": [
        {
          "data": {
            "text/plain": [
              "{'var_smoothing': 0.0005746775499181862}"
            ]
          },
          "execution_count": 70,
          "metadata": {},
          "output_type": "execute_result"
        }
      ],
      "source": [
        "best_params"
      ]
    },
    {
      "cell_type": "markdown",
      "metadata": {
        "id": "4DUC0ai_ta2c"
      },
      "source": [
        "#### Get best parameters and make predictions"
      ]
    },
    {
      "cell_type": "code",
      "execution_count": null,
      "metadata": {
        "id": "fa_QUuOVta2e"
      },
      "outputs": [],
      "source": [
        "selected_features_indices = [i for i, value in enumerate(best_features) if value]\n",
        "X_test_selected = X_test[:, selected_features_indices]"
      ]
    },
    {
      "cell_type": "code",
      "execution_count": null,
      "metadata": {
        "id": "Jh5CQEKSta2f"
      },
      "outputs": [],
      "source": [
        "X_train_val_selected_final_features = X_train_val[:, selected_features_indices]"
      ]
    },
    {
      "cell_type": "code",
      "execution_count": null,
      "metadata": {
        "id": "f4ya2tqxta2f"
      },
      "outputs": [],
      "source": [
        "best_classifier_GNB = GaussianNB(**best_params)"
      ]
    },
    {
      "cell_type": "code",
      "execution_count": null,
      "metadata": {
        "id": "KceZj6iNta2g",
        "outputId": "dd2ffb89-0832-40af-8e6f-46f93db564e0"
      },
      "outputs": [
        {
          "data": {
            "text/plain": [
              "GaussianNB(var_smoothing=0.0005746775499181862)"
            ]
          },
          "execution_count": 74,
          "metadata": {},
          "output_type": "execute_result"
        }
      ],
      "source": [
        "best_classifier_GNB.fit(X_train_val_selected_final_features, y_train_val)"
      ]
    },
    {
      "cell_type": "code",
      "execution_count": null,
      "metadata": {
        "id": "kG6cZkSPta2g"
      },
      "outputs": [],
      "source": [
        "y_test_pred = best_classifier_GNB.predict(X_test_selected)"
      ]
    },
    {
      "cell_type": "code",
      "execution_count": null,
      "metadata": {
        "id": "w_IX6meHtbtL"
      },
      "outputs": [],
      "source": [
        "balanced_acc_GNB = balanced_accuracy_score(y_test, y_test_pred)\n",
        "recall_GNB = recall_score(y_test, y_test_pred, average='weighted')\n",
        "f1_GNB = f1_score(y_test, y_test_pred, average='weighted')\n",
        "precision_GNB = precision_score(y_test, y_test_pred, average='weighted')"
      ]
    },
    {
      "cell_type": "code",
      "execution_count": null,
      "metadata": {
        "id": "NhNOiCyVtbtM",
        "outputId": "e2ba9f11-375c-4d69-bcef-46ff328f96a9"
      },
      "outputs": [
        {
          "name": "stdout",
          "output_type": "stream",
          "text": [
            "Gaussian Naive Bayes\n",
            "\n",
            "Accuracy: 0.7062937062937062\n",
            "F1 Score: 0.7042189399005377\n",
            "Precision: 0.7202010788989847\n",
            "Recall: 0.7062937062937062\n"
          ]
        }
      ],
      "source": [
        "print(\"Gaussian Naive Bayes\\n\")\n",
        "print(\"Accuracy:\", balanced_acc_GNB)\n",
        "print(\"F1 Score:\", f1_GNB)\n",
        "print(\"Precision:\", precision_GNB)\n",
        "print(\"Recall:\", recall_GNB)"
      ]
    },
    {
      "cell_type": "markdown",
      "metadata": {
        "id": "kcH0lHjJta2i"
      },
      "source": [
        "# MRMR for feature selection"
      ]
    },
    {
      "cell_type": "markdown",
      "metadata": {
        "id": "qcsBMqbcta2j"
      },
      "source": [
        "## SVC\n",
        "\n"
      ]
    },
    {
      "cell_type": "markdown",
      "metadata": {
        "id": "ZQRpSeoKta2k"
      },
      "source": [
        "#### Cross val for hyperparameter tunning and feature selection"
      ]
    },
    {
      "cell_type": "code",
      "execution_count": null,
      "metadata": {
        "id": "ZeT8YxNata2k"
      },
      "outputs": [],
      "source": [
        "def perform_feature_selection(X_train_val, y_train_val):\n",
        "    X_train_features, X_hyperparam_opt, y_train_features, y_hyperparam_opt = train_test_split(X_train_val, y_train_val, train_size=0.30, random_state=42)\n",
        "    # Perform feature selection on X_train_val\n",
        "    X_train_val_df = pd.DataFrame(X_train_features)\n",
        "    y_train_val_df = pd.DataFrame(y_train_features)\n",
        "    X_hyperparam_opt = pd.DataFrame(X_hyperparam_opt)\n",
        "    y_hyperparam_opt = pd.DataFrame(y_hyperparam_opt)\n",
        "    selected_features = mrmr_classif(X_train_val_df, y_train_val_df, K=300)\n",
        "    X_train_val_selected = X_hyperparam_opt.loc[:, selected_features]\n",
        "\n",
        "    return X_train_val_selected, y_hyperparam_opt,selected_features"
      ]
    },
    {
      "cell_type": "code",
      "execution_count": null,
      "metadata": {
        "id": "u7XumfwAta2l"
      },
      "outputs": [],
      "source": [
        "def objective_SVC(trial, X_hyperparam_opt, y_hyperparam_opt,selected_features):\n",
        "    # Define the hyperparameters to be optimized\n",
        "    C = trial.suggest_float('C', 0.1, 10)\n",
        "    gamma = trial.suggest_float('gamma', 0.01, 1)\n",
        "    kernel = trial.suggest_categorical('kernel', ['linear', 'poly', 'rbf', 'sigmoid'])\n",
        "    degree = trial.suggest_int('degree', 2, 10)\n",
        "\n",
        "    # Instantiate the classifier with the current hyperparameters\n",
        "    classifier = SVC(C=C, gamma=gamma, kernel=kernel, degree=degree)\n",
        "\n",
        "    # Perform cross-validation on the selected features\n",
        "    kf = StratifiedKFold(n_splits=n_folds, shuffle=True, random_state=42)\n",
        "    cv_scores = []\n",
        "\n",
        "    for train_index, val_index in kf.split(X_hyperparam_opt, y_hyperparam_opt):\n",
        "        X_train, X_val = X_hyperparam_opt.iloc[train_index], X_hyperparam_opt.iloc[val_index]\n",
        "        y_train, y_val = y_hyperparam_opt.iloc[train_index], y_hyperparam_opt.iloc[val_index]\n",
        "\n",
        "        # Fit the classifier on the selected features and evaluate on the validation set\n",
        "        classifier.fit(X_train, y_train)\n",
        "        y_pred = classifier.predict(X_val)\n",
        "        mcc = matthews_corrcoef(y_val, y_pred)\n",
        "        cv_scores.append(mcc)\n",
        "\n",
        "    # Calculate the average MCC\n",
        "    avg_mcc = np.mean(cv_scores)\n",
        "\n",
        "    return avg_mcc"
      ]
    },
    {
      "cell_type": "code",
      "execution_count": null,
      "metadata": {
        "id": "AxfMdzq_ta2m",
        "outputId": "09853184-2ea2-4e5d-f221-0373b22d0cd5"
      },
      "outputs": [
        {
          "name": "stdout",
          "output_type": "stream",
          "text": [
            "Support Vector Machines\n"
          ]
        }
      ],
      "source": [
        "n_folds = 5"
      ]
    },
    {
      "cell_type": "code",
      "execution_count": null,
      "metadata": {
        "id": "aqAHgq0rta2o",
        "outputId": "8fff0edb-d776-4416-c911-130ae29865ad"
      },
      "outputs": [
        {
          "name": "stderr",
          "output_type": "stream",
          "text": [
            "100%|██████████| 300/300 [00:25<00:00, 11.54it/s]\n"
          ]
        }
      ],
      "source": [
        "# Perform feature selection\n",
        "X_hyperparam_opt, y_hyperparam_opt,selected_features = perform_feature_selection(X_train_val, y_train_val)"
      ]
    },
    {
      "cell_type": "code",
      "execution_count": null,
      "metadata": {
        "id": "nwWcaDfVta2p"
      },
      "outputs": [],
      "source": [
        "# Define the objective function with selected features\n",
        "def objective(trial):\n",
        "    return objective_SVC(trial, X_hyperparam_opt, y_hyperparam_opt,selected_features)"
      ]
    },
    {
      "cell_type": "code",
      "execution_count": null,
      "metadata": {
        "id": "mdV9NoGtta2p",
        "outputId": "034df3fd-7954-4b06-ac8e-390865917c52"
      },
      "outputs": [
        {
          "name": "stderr",
          "output_type": "stream",
          "text": [
            "[I 2023-06-24 10:44:20,865] A new study created in memory with name: no-name-40992f9a-f308-4ea4-ab63-191f174ec0ae\n",
            "[I 2023-06-24 10:44:21,888] Trial 0 finished with value: 0.7100942844082592 and parameters: {'C': 3.807947176588889, 'gamma': 0.951207163345817, 'kernel': 'linear', 'degree': 2}. Best is trial 0 with value: 0.7100942844082592.\n",
            "[I 2023-06-24 10:44:23,577] Trial 1 finished with value: 0.0 and parameters: {'C': 8.675143843171858, 'gamma': 0.6051038616257767, 'kernel': 'rbf', 'degree': 3}. Best is trial 0 with value: 0.7100942844082592.\n",
            "[I 2023-06-24 10:44:24,934] Trial 2 finished with value: 0.04170523960872261 and parameters: {'C': 1.9000671753502962, 'gamma': 0.1915704647548995, 'kernel': 'poly', 'degree': 7}. Best is trial 0 with value: 0.7100942844082592.\n",
            "[I 2023-06-24 10:44:26,542] Trial 3 finished with value: 0.0 and parameters: {'C': 1.4809892204552142, 'gamma': 0.29922320204986597, 'kernel': 'rbf', 'degree': 6}. Best is trial 0 with value: 0.7100942844082592.\n",
            "[I 2023-06-24 10:44:27,119] Trial 4 finished with value: 0.26922596664088144 and parameters: {'C': 5.96490423173422, 'gamma': 0.05598590859279775, 'kernel': 'sigmoid', 'degree': 10}. Best is trial 0 with value: 0.7100942844082592.\n",
            "[I 2023-06-24 10:44:28,489] Trial 5 finished with value: 0.06159307700900367 and parameters: {'C': 8.103133746352965, 'gamma': 0.31156763148163696, 'kernel': 'poly', 'degree': 6}. Best is trial 0 with value: 0.7100942844082592.\n",
            "[I 2023-06-24 10:44:29,868] Trial 6 finished with value: 0.06159307700900367 and parameters: {'C': 0.4404463590406621, 'gamma': 0.9102271980579942, 'kernel': 'poly', 'degree': 6}. Best is trial 0 with value: 0.7100942844082592.\n",
            "[I 2023-06-24 10:44:31,239] Trial 7 finished with value: 0.005053616812399575 and parameters: {'C': 1.9300591097027178, 'gamma': 0.9698887814869129, 'kernel': 'poly', 'degree': 10}. Best is trial 0 with value: 0.7100942844082592.\n",
            "[I 2023-06-24 10:44:32,772] Trial 8 finished with value: 0.0 and parameters: {'C': 0.976075770314003, 'gamma': 0.20402303379495376, 'kernel': 'rbf', 'degree': 9}. Best is trial 0 with value: 0.7100942844082592.\n",
            "[I 2023-06-24 10:44:34,390] Trial 9 finished with value: 0.0 and parameters: {'C': 3.631857934266534, 'gamma': 0.28812516459050697, 'kernel': 'rbf', 'degree': 10}. Best is trial 0 with value: 0.7100942844082592.\n",
            "[I 2023-06-24 10:44:35,771] Trial 10 finished with value: 0.018317437405431236 and parameters: {'C': 7.7452232160369086, 'gamma': 0.2067285247188307, 'kernel': 'poly', 'degree': 8}. Best is trial 0 with value: 0.7100942844082592.\n",
            "[I 2023-06-24 10:44:37,089] Trial 11 finished with value: 0.5004091545413731 and parameters: {'C': 0.8330420521674946, 'gamma': 0.3648810712588299, 'kernel': 'poly', 'degree': 2}. Best is trial 0 with value: 0.7100942844082592.\n",
            "[I 2023-06-24 10:44:38,701] Trial 12 finished with value: 0.0 and parameters: {'C': 3.178724984985056, 'gamma': 0.3319314888064796, 'kernel': 'rbf', 'degree': 3}. Best is trial 0 with value: 0.7100942844082592.\n",
            "[I 2023-06-24 10:44:40,081] Trial 13 finished with value: 0.09709598349163955 and parameters: {'C': 7.16112339350765, 'gamma': 0.7631771981307285, 'kernel': 'poly', 'degree': 5}. Best is trial 0 with value: 0.7100942844082592.\n",
            "[I 2023-06-24 10:44:41,495] Trial 14 finished with value: 0.005053616812399575 and parameters: {'C': 0.35164935476654235, 'gamma': 0.1168125127233714, 'kernel': 'poly', 'degree': 10}. Best is trial 0 with value: 0.7100942844082592.\n",
            "[I 2023-06-24 10:44:42,507] Trial 15 finished with value: 0.7100942844082592 and parameters: {'C': 2.567993068573862, 'gamma': 0.41627909380527345, 'kernel': 'linear', 'degree': 3}. Best is trial 0 with value: 0.7100942844082592.\n",
            "[I 2023-06-24 10:44:43,889] Trial 16 finished with value: 0.005053616812399575 and parameters: {'C': 9.304006758191473, 'gamma': 0.8100391757687728, 'kernel': 'poly', 'degree': 10}. Best is trial 0 with value: 0.7100942844082592.\n",
            "[I 2023-06-24 10:44:44,906] Trial 17 finished with value: 0.7100942844082592 and parameters: {'C': 5.439488194964942, 'gamma': 0.8093657536124219, 'kernel': 'linear', 'degree': 5}. Best is trial 0 with value: 0.7100942844082592.\n",
            "[I 2023-06-24 10:44:46,256] Trial 18 finished with value: 0.3592664471934558 and parameters: {'C': 8.198346182632681, 'gamma': 0.86212327742378, 'kernel': 'poly', 'degree': 3}. Best is trial 0 with value: 0.7100942844082592.\n",
            "[I 2023-06-24 10:44:47,963] Trial 19 finished with value: 0.0 and parameters: {'C': 3.442390196895917, 'gamma': 0.943480606873394, 'kernel': 'rbf', 'degree': 10}. Best is trial 0 with value: 0.7100942844082592.\n",
            "[I 2023-06-24 10:44:48,970] Trial 20 finished with value: 0.7100942844082592 and parameters: {'C': 9.628228219926902, 'gamma': 0.2592644728671105, 'kernel': 'linear', 'degree': 7}. Best is trial 0 with value: 0.7100942844082592.\n",
            "[I 2023-06-24 10:44:50,359] Trial 21 finished with value: 0.06159307700900367 and parameters: {'C': 5.076522329965728, 'gamma': 0.06096396373748946, 'kernel': 'poly', 'degree': 6}. Best is trial 0 with value: 0.7100942844082592.\n",
            "[I 2023-06-24 10:44:51,726] Trial 22 finished with value: 0.09709598349163955 and parameters: {'C': 9.857939495694946, 'gamma': 0.2496347187963854, 'kernel': 'poly', 'degree': 5}. Best is trial 0 with value: 0.7100942844082592.\n",
            "[I 2023-06-24 10:44:53,443] Trial 23 finished with value: 0.0 and parameters: {'C': 6.359827722876437, 'gamma': 0.6371944136532858, 'kernel': 'rbf', 'degree': 3}. Best is trial 0 with value: 0.7100942844082592.\n",
            "[I 2023-06-24 10:44:54,449] Trial 24 finished with value: 0.7100942844082592 and parameters: {'C': 0.5036739013921628, 'gamma': 0.5949840137563595, 'kernel': 'linear', 'degree': 7}. Best is trial 0 with value: 0.7100942844082592.\n",
            "[I 2023-06-24 10:44:55,774] Trial 25 finished with value: 0.3592664471934558 and parameters: {'C': 1.8262276471494154, 'gamma': 0.6940283607214413, 'kernel': 'poly', 'degree': 3}. Best is trial 0 with value: 0.7100942844082592.\n",
            "[I 2023-06-24 10:44:57,491] Trial 26 finished with value: 0.0 and parameters: {'C': 9.254466820957772, 'gamma': 0.8785659598471712, 'kernel': 'rbf', 'degree': 6}. Best is trial 0 with value: 0.7100942844082592.\n",
            "[I 2023-06-24 10:44:58,853] Trial 27 finished with value: 0.09709598349163955 and parameters: {'C': 2.4943376799144716, 'gamma': 0.10217174012784021, 'kernel': 'poly', 'degree': 5}. Best is trial 0 with value: 0.7100942844082592.\n",
            "[I 2023-06-24 10:44:59,862] Trial 28 finished with value: 0.7100942844082592 and parameters: {'C': 7.286961220815369, 'gamma': 0.8981391573530513, 'kernel': 'linear', 'degree': 3}. Best is trial 0 with value: 0.7100942844082592.\n",
            "[I 2023-06-24 10:45:01,544] Trial 29 finished with value: 0.0 and parameters: {'C': 8.995686466418084, 'gamma': 0.6103647690629941, 'kernel': 'rbf', 'degree': 3}. Best is trial 0 with value: 0.7100942844082592.\n",
            "[I 2023-06-24 10:45:03,252] Trial 30 finished with value: 0.0 and parameters: {'C': 5.532464514729202, 'gamma': 0.6949762457157663, 'kernel': 'rbf', 'degree': 4}. Best is trial 0 with value: 0.7100942844082592.\n",
            "[I 2023-06-24 10:45:04,259] Trial 31 finished with value: 0.7100942844082592 and parameters: {'C': 7.490264910668439, 'gamma': 0.6531365700567425, 'kernel': 'linear', 'degree': 5}. Best is trial 0 with value: 0.7100942844082592.\n",
            "[I 2023-06-24 10:45:05,257] Trial 32 finished with value: 0.7100942844082592 and parameters: {'C': 2.7255034400490823, 'gamma': 0.25154974694529275, 'kernel': 'linear', 'degree': 9}. Best is trial 0 with value: 0.7100942844082592.\n",
            "[I 2023-06-24 10:45:06,939] Trial 33 finished with value: 0.0 and parameters: {'C': 5.076107221741402, 'gamma': 0.5811348457800956, 'kernel': 'rbf', 'degree': 2}. Best is trial 0 with value: 0.7100942844082592.\n",
            "[I 2023-06-24 10:45:08,265] Trial 34 finished with value: 0.5004091545413731 and parameters: {'C': 6.490175729480962, 'gamma': 0.18533957261297845, 'kernel': 'poly', 'degree': 2}. Best is trial 0 with value: 0.7100942844082592.\n",
            "[I 2023-06-24 10:45:09,269] Trial 35 finished with value: 0.7100942844082592 and parameters: {'C': 9.29035376961848, 'gamma': 0.4339023068341412, 'kernel': 'linear', 'degree': 5}. Best is trial 0 with value: 0.7100942844082592.\n",
            "[I 2023-06-24 10:45:10,870] Trial 36 finished with value: 0.0 and parameters: {'C': 8.526253048016883, 'gamma': 0.3237527851047149, 'kernel': 'rbf', 'degree': 7}. Best is trial 0 with value: 0.7100942844082592.\n",
            "[I 2023-06-24 10:45:11,867] Trial 37 finished with value: 0.7100942844082592 and parameters: {'C': 1.0620472883306085, 'gamma': 0.618857154432178, 'kernel': 'linear', 'degree': 8}. Best is trial 0 with value: 0.7100942844082592.\n",
            "[I 2023-06-24 10:45:12,421] Trial 38 finished with value: 0.2589329397575342 and parameters: {'C': 7.000455835853153, 'gamma': 0.7054592431472382, 'kernel': 'sigmoid', 'degree': 9}. Best is trial 0 with value: 0.7100942844082592.\n",
            "[I 2023-06-24 10:45:13,806] Trial 39 finished with value: 0.005941251357193844 and parameters: {'C': 9.141081470309066, 'gamma': 0.5162289748723284, 'kernel': 'poly', 'degree': 9}. Best is trial 0 with value: 0.7100942844082592.\n",
            "[I 2023-06-24 10:45:15,433] Trial 40 finished with value: 0.0 and parameters: {'C': 8.911052883993907, 'gamma': 0.3446152052830205, 'kernel': 'rbf', 'degree': 6}. Best is trial 0 with value: 0.7100942844082592.\n",
            "[I 2023-06-24 10:45:15,986] Trial 41 finished with value: 0.285722804692106 and parameters: {'C': 5.472181883605009, 'gamma': 0.29367583960700155, 'kernel': 'sigmoid', 'degree': 5}. Best is trial 0 with value: 0.7100942844082592.\n",
            "[I 2023-06-24 10:45:16,988] Trial 42 finished with value: 0.7100942844082592 and parameters: {'C': 1.3578990752536595, 'gamma': 0.5270208274542564, 'kernel': 'linear', 'degree': 2}. Best is trial 0 with value: 0.7100942844082592.\n",
            "[I 2023-06-24 10:45:18,675] Trial 43 finished with value: 0.0 and parameters: {'C': 5.360410852524665, 'gamma': 0.5452287703940054, 'kernel': 'rbf', 'degree': 4}. Best is trial 0 with value: 0.7100942844082592.\n",
            "[I 2023-06-24 10:45:19,226] Trial 44 finished with value: 0.27125764647366135 and parameters: {'C': 7.972343328210166, 'gamma': 0.27812392874945346, 'kernel': 'sigmoid', 'degree': 9}. Best is trial 0 with value: 0.7100942844082592.\n",
            "[I 2023-06-24 10:45:19,781] Trial 45 finished with value: 0.2607476459163496 and parameters: {'C': 6.9901446403276095, 'gamma': 0.4148634149701272, 'kernel': 'sigmoid', 'degree': 8}. Best is trial 0 with value: 0.7100942844082592.\n",
            "[I 2023-06-24 10:45:20,788] Trial 46 finished with value: 0.7100942844082592 and parameters: {'C': 6.635954029505539, 'gamma': 0.2871345579764834, 'kernel': 'linear', 'degree': 5}. Best is trial 0 with value: 0.7100942844082592.\n",
            "[I 2023-06-24 10:45:21,793] Trial 47 finished with value: 0.7100942844082592 and parameters: {'C': 2.552536796061459, 'gamma': 0.362412951864749, 'kernel': 'linear', 'degree': 2}. Best is trial 0 with value: 0.7100942844082592.\n",
            "[I 2023-06-24 10:45:23,496] Trial 48 finished with value: 0.0 and parameters: {'C': 8.56905978170897, 'gamma': 0.7066212807862234, 'kernel': 'rbf', 'degree': 3}. Best is trial 0 with value: 0.7100942844082592.\n",
            "[I 2023-06-24 10:45:24,870] Trial 49 finished with value: 0.04170523960872261 and parameters: {'C': 4.395131327455933, 'gamma': 0.4045196870533997, 'kernel': 'poly', 'degree': 7}. Best is trial 0 with value: 0.7100942844082592.\n",
            "[I 2023-06-24 10:45:25,870] Trial 50 finished with value: 0.7100942844082592 and parameters: {'C': 5.081048959942868, 'gamma': 0.857924942776439, 'kernel': 'linear', 'degree': 2}. Best is trial 0 with value: 0.7100942844082592.\n",
            "[I 2023-06-24 10:45:27,576] Trial 51 finished with value: 0.0 and parameters: {'C': 5.899178254607286, 'gamma': 0.940827939010708, 'kernel': 'rbf', 'degree': 6}. Best is trial 0 with value: 0.7100942844082592.\n",
            "[I 2023-06-24 10:45:28,576] Trial 52 finished with value: 0.7100942844082592 and parameters: {'C': 9.4205016068876, 'gamma': 0.39224161142276653, 'kernel': 'linear', 'degree': 2}. Best is trial 0 with value: 0.7100942844082592.\n",
            "[I 2023-06-24 10:45:29,266] Trial 53 finished with value: 0.30102033930199357 and parameters: {'C': 0.28039607395034233, 'gamma': 0.1034985311483691, 'kernel': 'sigmoid', 'degree': 2}. Best is trial 0 with value: 0.7100942844082592.\n",
            "[I 2023-06-24 10:45:29,816] Trial 54 finished with value: 0.2804064600990181 and parameters: {'C': 8.163237977630464, 'gamma': 0.28903622702566595, 'kernel': 'sigmoid', 'degree': 8}. Best is trial 0 with value: 0.7100942844082592.\n",
            "[I 2023-06-24 10:45:30,362] Trial 55 finished with value: 0.28051415628358634 and parameters: {'C': 8.05446121081, 'gamma': 0.28921422684559345, 'kernel': 'sigmoid', 'degree': 5}. Best is trial 0 with value: 0.7100942844082592.\n",
            "[I 2023-06-24 10:45:31,743] Trial 56 finished with value: 0.018317437405431236 and parameters: {'C': 3.782979049348554, 'gamma': 0.7786488311345768, 'kernel': 'poly', 'degree': 8}. Best is trial 0 with value: 0.7100942844082592.\n",
            "[I 2023-06-24 10:45:32,731] Trial 57 finished with value: 0.7100942844082592 and parameters: {'C': 7.5699744534383555, 'gamma': 0.11209263014757327, 'kernel': 'linear', 'degree': 10}. Best is trial 0 with value: 0.7100942844082592.\n",
            "[I 2023-06-24 10:45:33,273] Trial 58 finished with value: 0.34564597686540066 and parameters: {'C': 3.953096619468215, 'gamma': 0.020729274965495377, 'kernel': 'sigmoid', 'degree': 10}. Best is trial 0 with value: 0.7100942844082592.\n",
            "[I 2023-06-24 10:45:33,813] Trial 59 finished with value: 0.28315817503785723 and parameters: {'C': 5.777035092420532, 'gamma': 0.6355188400481013, 'kernel': 'sigmoid', 'degree': 8}. Best is trial 0 with value: 0.7100942844082592.\n",
            "[I 2023-06-24 10:45:34,360] Trial 60 finished with value: 0.25328650747026976 and parameters: {'C': 7.9366325328859, 'gamma': 0.7917219613666083, 'kernel': 'sigmoid', 'degree': 5}. Best is trial 0 with value: 0.7100942844082592.\n",
            "[I 2023-06-24 10:45:35,979] Trial 61 finished with value: 0.0 and parameters: {'C': 8.888271409307167, 'gamma': 0.3574058624265579, 'kernel': 'rbf', 'degree': 2}. Best is trial 0 with value: 0.7100942844082592.\n",
            "[I 2023-06-24 10:45:37,304] Trial 62 finished with value: 0.5004091545413731 and parameters: {'C': 0.9326573805384746, 'gamma': 0.7039594401445288, 'kernel': 'poly', 'degree': 2}. Best is trial 0 with value: 0.7100942844082592.\n",
            "[I 2023-06-24 10:45:37,847] Trial 63 finished with value: 0.253538966041153 and parameters: {'C': 9.867731827161636, 'gamma': 0.3805280877985591, 'kernel': 'sigmoid', 'degree': 8}. Best is trial 0 with value: 0.7100942844082592.\n",
            "[I 2023-06-24 10:45:38,419] Trial 64 finished with value: 0.30421915308431824 and parameters: {'C': 3.824969896756066, 'gamma': 0.09266570953168207, 'kernel': 'sigmoid', 'degree': 3}. Best is trial 0 with value: 0.7100942844082592.\n",
            "[I 2023-06-24 10:45:39,424] Trial 65 finished with value: 0.7100942844082592 and parameters: {'C': 4.976988532479505, 'gamma': 0.021240108319744877, 'kernel': 'linear', 'degree': 7}. Best is trial 0 with value: 0.7100942844082592.\n",
            "[I 2023-06-24 10:45:40,422] Trial 66 finished with value: 0.7100942844082592 and parameters: {'C': 7.48584430472769, 'gamma': 0.587535077446188, 'kernel': 'linear', 'degree': 4}. Best is trial 0 with value: 0.7100942844082592.\n",
            "[I 2023-06-24 10:45:41,424] Trial 67 finished with value: 0.7100942844082592 and parameters: {'C': 9.635903140462052, 'gamma': 0.022032929942918177, 'kernel': 'linear', 'degree': 10}. Best is trial 0 with value: 0.7100942844082592.\n",
            "[I 2023-06-24 10:45:42,419] Trial 68 finished with value: 0.7100942844082592 and parameters: {'C': 0.8305859908804487, 'gamma': 0.5583157415573076, 'kernel': 'linear', 'degree': 6}. Best is trial 0 with value: 0.7100942844082592.\n",
            "[I 2023-06-24 10:45:42,974] Trial 69 finished with value: 0.2919804806621967 and parameters: {'C': 6.312824992832228, 'gamma': 0.5884711688038693, 'kernel': 'sigmoid', 'degree': 10}. Best is trial 0 with value: 0.7100942844082592.\n",
            "[I 2023-06-24 10:45:44,669] Trial 70 finished with value: 0.0 and parameters: {'C': 4.611001852578558, 'gamma': 0.6239312718235214, 'kernel': 'rbf', 'degree': 7}. Best is trial 0 with value: 0.7100942844082592.\n",
            "[I 2023-06-24 10:45:45,671] Trial 71 finished with value: 0.7100942844082592 and parameters: {'C': 0.8695729059533499, 'gamma': 0.9746508595895048, 'kernel': 'linear', 'degree': 9}. Best is trial 0 with value: 0.7100942844082592.\n",
            "[I 2023-06-24 10:45:47,251] Trial 72 finished with value: 0.0 and parameters: {'C': 6.878838608283405, 'gamma': 0.17099076995144238, 'kernel': 'rbf', 'degree': 7}. Best is trial 0 with value: 0.7100942844082592.\n",
            "[I 2023-06-24 10:45:48,246] Trial 73 finished with value: 0.7100942844082592 and parameters: {'C': 4.240606059277127, 'gamma': 0.9334011985204731, 'kernel': 'linear', 'degree': 9}. Best is trial 0 with value: 0.7100942844082592.\n",
            "[I 2023-06-24 10:45:49,799] Trial 74 finished with value: 0.0 and parameters: {'C': 9.87403368021795, 'gamma': 0.15891272219249292, 'kernel': 'rbf', 'degree': 9}. Best is trial 0 with value: 0.7100942844082592.\n",
            "[I 2023-06-24 10:45:51,479] Trial 75 finished with value: 0.0 and parameters: {'C': 4.740062281970205, 'gamma': 0.42067130731428853, 'kernel': 'rbf', 'degree': 10}. Best is trial 0 with value: 0.7100942844082592.\n",
            "[I 2023-06-24 10:45:52,861] Trial 76 finished with value: 0.06159307700900367 and parameters: {'C': 9.966704687031664, 'gamma': 0.5598773885466012, 'kernel': 'poly', 'degree': 6}. Best is trial 0 with value: 0.7100942844082592.\n",
            "[I 2023-06-24 10:45:54,565] Trial 77 finished with value: 0.0 and parameters: {'C': 1.3786782099998005, 'gamma': 0.9545105169861352, 'kernel': 'rbf', 'degree': 5}. Best is trial 0 with value: 0.7100942844082592.\n",
            "[I 2023-06-24 10:45:55,122] Trial 78 finished with value: 0.2759957112747865 and parameters: {'C': 1.2242201627763274, 'gamma': 0.6748574636368716, 'kernel': 'sigmoid', 'degree': 6}. Best is trial 0 with value: 0.7100942844082592.\n",
            "[I 2023-06-24 10:45:55,663] Trial 79 finished with value: 0.2794922748691149 and parameters: {'C': 5.653285918200324, 'gamma': 0.8778870666317615, 'kernel': 'sigmoid', 'degree': 7}. Best is trial 0 with value: 0.7100942844082592.\n",
            "[I 2023-06-24 10:45:56,218] Trial 80 finished with value: 0.2717306851915266 and parameters: {'C': 7.070389704182313, 'gamma': 0.22083451989382163, 'kernel': 'sigmoid', 'degree': 5}. Best is trial 0 with value: 0.7100942844082592.\n",
            "[I 2023-06-24 10:45:57,918] Trial 81 finished with value: 0.0 and parameters: {'C': 4.431001728034918, 'gamma': 0.9051171075488109, 'kernel': 'rbf', 'degree': 7}. Best is trial 0 with value: 0.7100942844082592.\n",
            "[I 2023-06-24 10:45:59,307] Trial 82 finished with value: 0.06159307700900367 and parameters: {'C': 8.637400716592778, 'gamma': 0.9500254174210657, 'kernel': 'poly', 'degree': 6}. Best is trial 0 with value: 0.7100942844082592.\n",
            "[I 2023-06-24 10:46:00,642] Trial 83 finished with value: 0.3592664471934558 and parameters: {'C': 9.802322495326223, 'gamma': 0.4976919130529409, 'kernel': 'poly', 'degree': 3}. Best is trial 0 with value: 0.7100942844082592.\n",
            "[I 2023-06-24 10:46:02,035] Trial 84 finished with value: 0.005053616812399575 and parameters: {'C': 1.3676538056819474, 'gamma': 0.1603836665771714, 'kernel': 'poly', 'degree': 10}. Best is trial 0 with value: 0.7100942844082592.\n",
            "[I 2023-06-24 10:46:03,383] Trial 85 finished with value: 0.19902910683544267 and parameters: {'C': 4.792220238602436, 'gamma': 0.6708821611358169, 'kernel': 'poly', 'degree': 4}. Best is trial 0 with value: 0.7100942844082592.\n",
            "[I 2023-06-24 10:46:04,757] Trial 86 finished with value: 0.06159307700900367 and parameters: {'C': 1.8524037943397935, 'gamma': 0.09781550841948505, 'kernel': 'poly', 'degree': 6}. Best is trial 0 with value: 0.7100942844082592.\n",
            "[I 2023-06-24 10:46:05,329] Trial 87 finished with value: 0.29711921410683173 and parameters: {'C': 6.934908803430717, 'gamma': 0.04891901844268795, 'kernel': 'sigmoid', 'degree': 10}. Best is trial 0 with value: 0.7100942844082592.\n",
            "[I 2023-06-24 10:46:06,338] Trial 88 finished with value: 0.7100942844082592 and parameters: {'C': 0.7046718025631511, 'gamma': 0.2841088716657317, 'kernel': 'linear', 'degree': 5}. Best is trial 0 with value: 0.7100942844082592.\n",
            "[I 2023-06-24 10:46:08,040] Trial 89 finished with value: 0.0 and parameters: {'C': 4.896777553391111, 'gamma': 0.622072223814993, 'kernel': 'rbf', 'degree': 4}. Best is trial 0 with value: 0.7100942844082592.\n",
            "[I 2023-06-24 10:46:09,409] Trial 90 finished with value: 0.06159307700900367 and parameters: {'C': 7.162160900257069, 'gamma': 0.8962547693103273, 'kernel': 'poly', 'degree': 6}. Best is trial 0 with value: 0.7100942844082592.\n",
            "[I 2023-06-24 10:46:10,413] Trial 91 finished with value: 0.7100942844082592 and parameters: {'C': 2.500457985983824, 'gamma': 0.2765507986398872, 'kernel': 'linear', 'degree': 4}. Best is trial 0 with value: 0.7100942844082592.\n",
            "[I 2023-06-24 10:46:12,108] Trial 92 finished with value: 0.0 and parameters: {'C': 1.2856451050105873, 'gamma': 0.891622007932496, 'kernel': 'rbf', 'degree': 2}. Best is trial 0 with value: 0.7100942844082592.\n",
            "[I 2023-06-24 10:46:13,112] Trial 93 finished with value: 0.7100942844082592 and parameters: {'C': 5.417354764003623, 'gamma': 0.5909727068406704, 'kernel': 'linear', 'degree': 5}. Best is trial 0 with value: 0.7100942844082592.\n",
            "[I 2023-06-24 10:46:14,436] Trial 94 finished with value: 0.5004091545413731 and parameters: {'C': 6.494580689182852, 'gamma': 0.5750705216222227, 'kernel': 'poly', 'degree': 2}. Best is trial 0 with value: 0.7100942844082592.\n",
            "[I 2023-06-24 10:46:15,983] Trial 95 finished with value: 0.0 and parameters: {'C': 1.6133054779248872, 'gamma': 0.25349815110066304, 'kernel': 'rbf', 'degree': 10}. Best is trial 0 with value: 0.7100942844082592.\n",
            "[I 2023-06-24 10:46:17,370] Trial 96 finished with value: 0.005053616812399575 and parameters: {'C': 0.8943140820502579, 'gamma': 0.5292662756745521, 'kernel': 'poly', 'degree': 10}. Best is trial 0 with value: 0.7100942844082592.\n",
            "[I 2023-06-24 10:46:17,906] Trial 97 finished with value: 0.26237444998513176 and parameters: {'C': 8.668520546350404, 'gamma': 0.8189013502397872, 'kernel': 'sigmoid', 'degree': 7}. Best is trial 0 with value: 0.7100942844082592.\n",
            "[I 2023-06-24 10:46:18,897] Trial 98 finished with value: 0.7100942844082592 and parameters: {'C': 5.758965625752008, 'gamma': 0.28717930272368136, 'kernel': 'linear', 'degree': 6}. Best is trial 0 with value: 0.7100942844082592.\n",
            "[I 2023-06-24 10:46:19,901] Trial 99 finished with value: 0.7100942844082592 and parameters: {'C': 2.4998563509092944, 'gamma': 0.1236884564918115, 'kernel': 'linear', 'degree': 6}. Best is trial 0 with value: 0.7100942844082592.\n"
          ]
        }
      ],
      "source": [
        "study = optuna.create_study(direction='maximize', sampler=RandomSampler(seed=42))\n",
        "study.optimize(objective, n_trials=100)"
      ]
    },
    {
      "cell_type": "code",
      "execution_count": null,
      "metadata": {
        "id": "3ZUpwRz2ta2q"
      },
      "outputs": [],
      "source": [
        "# Get the best hyperparameters from Optuna\n",
        "best_params = study.best_params"
      ]
    },
    {
      "cell_type": "code",
      "execution_count": null,
      "metadata": {
        "id": "MRag1uwQta2q",
        "outputId": "f96e930f-28ab-48f4-d20c-d4bbf95961d2"
      },
      "outputs": [
        {
          "data": {
            "text/plain": [
              "{'C': 3.807947176588889,\n",
              " 'gamma': 0.951207163345817,\n",
              " 'kernel': 'linear',\n",
              " 'degree': 2}"
            ]
          },
          "execution_count": 85,
          "metadata": {},
          "output_type": "execute_result"
        }
      ],
      "source": [
        "best_params #42 random seed"
      ]
    },
    {
      "cell_type": "markdown",
      "metadata": {
        "id": "chzoew7fta2r"
      },
      "source": [
        "#### Get best parameters and make predictions"
      ]
    },
    {
      "cell_type": "code",
      "execution_count": null,
      "metadata": {
        "id": "wHUmasMyta2r"
      },
      "outputs": [],
      "source": [
        "#selected_features_indices = [i for i, value in enumerate(best_features) if value]\n",
        "X_test_selected = X_test[:, selected_features]"
      ]
    },
    {
      "cell_type": "code",
      "execution_count": null,
      "metadata": {
        "id": "s5Vr3dM8ta2r",
        "outputId": "ef95b5de-ac59-41b9-f4ce-d5878cf42fce"
      },
      "outputs": [
        {
          "data": {
            "text/plain": [
              "(286, 300)"
            ]
          },
          "execution_count": 87,
          "metadata": {},
          "output_type": "execute_result"
        }
      ],
      "source": [
        "X_test_selected.shape"
      ]
    },
    {
      "cell_type": "code",
      "execution_count": null,
      "metadata": {
        "id": "44MC8hU_ta2s"
      },
      "outputs": [],
      "source": [
        "X_train_val_selected_final_features = X_train_val[:, selected_features]"
      ]
    },
    {
      "cell_type": "code",
      "execution_count": null,
      "metadata": {
        "id": "WX4rDksota2s"
      },
      "outputs": [],
      "source": [
        "best_classifier_SVC = SVC(**best_params)"
      ]
    },
    {
      "cell_type": "code",
      "execution_count": null,
      "metadata": {
        "id": "KwTNG4flta2t",
        "outputId": "015d41e0-ecd6-43c9-a6bf-4f7351f3e89b"
      },
      "outputs": [
        {
          "data": {
            "text/plain": [
              "SVC(C=3.807947176588889, degree=2, gamma=0.951207163345817, kernel='linear')"
            ]
          },
          "execution_count": 90,
          "metadata": {},
          "output_type": "execute_result"
        }
      ],
      "source": [
        "best_classifier_SVC.fit(X_train_val_selected_final_features, y_train_val)"
      ]
    },
    {
      "cell_type": "code",
      "execution_count": null,
      "metadata": {
        "id": "NKiFEsuQta2t"
      },
      "outputs": [],
      "source": [
        "y_test_pred = best_classifier_SVC.predict(X_test_selected)"
      ]
    },
    {
      "cell_type": "code",
      "execution_count": null,
      "metadata": {
        "id": "5mv6LSG5ta2u"
      },
      "outputs": [],
      "source": [
        "balanced_acc_mrmr_SVC = balanced_accuracy_score(y_test, y_test_pred)\n",
        "recall_mrmr_SVC = recall_score(y_test, y_test_pred, average='weighted')\n",
        "f1_mrmr_SVC = f1_score(y_test, y_test_pred, average='weighted')\n",
        "precision_mrmr_SVC = precision_score(y_test, y_test_pred, average='weighted')"
      ]
    },
    {
      "cell_type": "code",
      "execution_count": null,
      "metadata": {
        "id": "7Hpoo3nbta2v",
        "outputId": "e0b2e7c2-1493-41b4-fc68-3e433968afb1"
      },
      "outputs": [
        {
          "name": "stdout",
          "output_type": "stream",
          "text": [
            "Support Vector Machines\n",
            "\n",
            "Accuracy: 0.7622377622377622\n",
            "F1 Score: 0.7585192546861519\n",
            "Precision: 0.7717127402286617\n",
            "Recall: 0.7622377622377622\n"
          ]
        }
      ],
      "source": [
        "print(\"Support Vector Machines\\n\")\n",
        "print(\"Accuracy:\", balanced_acc_mrmr_SVC)\n",
        "print(\"F1 Score:\", f1_mrmr_SVC)\n",
        "print(\"Precision:\", precision_mrmr_SVC)\n",
        "print(\"Recall:\", recall_mrmr_SVC)"
      ]
    },
    {
      "cell_type": "markdown",
      "metadata": {
        "id": "2h3C0hwQta2w"
      },
      "source": [
        "## Random Forests"
      ]
    },
    {
      "cell_type": "markdown",
      "metadata": {
        "id": "SH2Yn3aLta2x"
      },
      "source": [
        "#### Cross val for hyperparameter tunning and feature selection"
      ]
    },
    {
      "cell_type": "code",
      "execution_count": null,
      "metadata": {
        "id": "QCWK8weeta2y"
      },
      "outputs": [],
      "source": [
        "# Define the number of folds for cross-validation\n",
        "n_folds = 5"
      ]
    },
    {
      "cell_type": "code",
      "execution_count": null,
      "metadata": {
        "id": "u95OvVKFta2y"
      },
      "outputs": [],
      "source": [
        "def perform_feature_selection(X_train_val, y_train_val):\n",
        "    X_train_features, X_hyperparam_opt, y_train_features, y_hyperparam_opt = train_test_split(X_train_val, y_train_val, train_size=0.30, random_state=42)\n",
        "    # Perform feature selection on X_train_val\n",
        "    X_train_val_df = pd.DataFrame(X_train_features)\n",
        "    y_train_val_df = pd.DataFrame(y_train_features)\n",
        "    X_hyperparam_opt = pd.DataFrame(X_hyperparam_opt)\n",
        "    y_hyperparam_opt = pd.DataFrame(y_hyperparam_opt)\n",
        "    selected_features = mrmr_classif(X_train_val_df, y_train_val_df, K=300)\n",
        "    X_train_val_selected = X_hyperparam_opt.loc[:, selected_features]\n",
        "\n",
        "    return X_train_val_selected, y_hyperparam_opt,selected_features"
      ]
    },
    {
      "cell_type": "code",
      "execution_count": null,
      "metadata": {
        "id": "6btqmBu8ta2z"
      },
      "outputs": [],
      "source": [
        "def objective_RF(trial, X_hyperparam_opt, y_hyperparam_opt,selected_features):\n",
        "\n",
        "  # Define the hyperparameters to be optimized\n",
        "  n_estimators= trial.suggest_int('n_estimators', 100,1000)\n",
        "  max_depth= trial.suggest_int('max_depth', 5, 31)\n",
        "  min_samples_split= trial.suggest_int('min_samples_split', 2, 100)\n",
        "  min_samples_leaf= trial.suggest_int('min_samples_leaf', 1, 4)\n",
        "  bootstrap=trial.suggest_categorical('bootstrap', [True, False])\n",
        "\n",
        "  # Instantiate the classifier with the current hyperparameters\n",
        "  classifier = RandomForestClassifier(n_estimators=n_estimators, max_depth=max_depth,min_samples_split=min_samples_split,min_samples_leaf=min_samples_leaf,bootstrap=bootstrap)\n",
        "\n",
        "  # Perform cross-validation on the selected features\n",
        "  kf = StratifiedKFold(n_splits=n_folds, shuffle=True, random_state=42)\n",
        "  cv_scores = []\n",
        "\n",
        "  for train_index, val_index in kf.split(X_hyperparam_opt, y_hyperparam_opt):\n",
        "      #X_train, X_val = X_hyperparam_opt[train_index], X_hyperparam_opt[val_index]\n",
        "      #y_train, y_val = y_hyperparam_opt[train_index], y_hyperparam_opt[val_index]\n",
        "      X_train, X_val = X_hyperparam_opt.iloc[train_index], X_hyperparam_opt.iloc[val_index]\n",
        "      y_train, y_val = y_hyperparam_opt.iloc[train_index], y_hyperparam_opt.iloc[val_index]\n",
        "      # Fit the classifier on the selected features and evaluate on the validation set\n",
        "      classifier.fit(X_train, y_train)\n",
        "      y_pred = classifier.predict(X_val)\n",
        "      mcc = matthews_corrcoef(y_val, y_pred)\n",
        "      cv_scores.append(mcc)\n",
        "  # Calculate the average MCC\n",
        "  avg_mcc = np.mean(cv_scores)\n",
        "\n",
        "  return avg_mcc"
      ]
    },
    {
      "cell_type": "code",
      "execution_count": null,
      "metadata": {
        "id": "qlZllNlOta2-",
        "outputId": "0374d8cc-d178-4a65-e685-bdc15870ed4a"
      },
      "outputs": [
        {
          "name": "stderr",
          "output_type": "stream",
          "text": [
            "  1%|          | 2/300 [00:00<00:17, 16.86it/s]"
          ]
        },
        {
          "name": "stderr",
          "output_type": "stream",
          "text": [
            "100%|██████████| 300/300 [00:25<00:00, 11.64it/s]\n"
          ]
        }
      ],
      "source": [
        "# Perform feature selection\n",
        "X_hyperparam_opt, y_hyperparam_opt,selected_features = perform_feature_selection(X_train_val, y_train_val)"
      ]
    },
    {
      "cell_type": "code",
      "execution_count": null,
      "metadata": {
        "id": "G0hwOzypta2_"
      },
      "outputs": [],
      "source": [
        "# Define the objective function with selected features\n",
        "def objective(trial):\n",
        "    return objective_RF(trial, X_hyperparam_opt, y_hyperparam_opt,selected_features)"
      ]
    },
    {
      "cell_type": "code",
      "execution_count": null,
      "metadata": {
        "id": "Qpq1pYwNta2_",
        "outputId": "9679ddd1-23ba-4d6e-ab95-f4442e418de7"
      },
      "outputs": [
        {
          "name": "stderr",
          "output_type": "stream",
          "text": [
            "[I 2023-06-24 10:46:46,360] A new study created in memory with name: no-name-4b67d0b2-d3f9-4576-8e49-9f70cc0ea859\n",
            "[I 2023-06-24 10:46:56,993] Trial 0 finished with value: 0.6269817631085937 and parameters: {'n_estimators': 437, 'max_depth': 30, 'min_samples_split': 74, 'min_samples_leaf': 3, 'bootstrap': True}. Best is trial 0 with value: 0.6269817631085937.\n",
            "[I 2023-06-24 10:47:03,874] Trial 1 finished with value: 0.6926277030164023 and parameters: {'n_estimators': 152, 'max_depth': 28, 'min_samples_split': 61, 'min_samples_leaf': 3, 'bootstrap': False}. Best is trial 1 with value: 0.6926277030164023.\n",
            "[I 2023-06-24 10:47:51,188] Trial 2 finished with value: 0.7247643954160194 and parameters: {'n_estimators': 850, 'max_depth': 10, 'min_samples_split': 20, 'min_samples_leaf': 1, 'bootstrap': False}. Best is trial 2 with value: 0.7247643954160194.\n",
            "[I 2023-06-24 10:48:13,472] Trial 3 finished with value: 0.684003631032188 and parameters: {'n_estimators': 489, 'max_depth': 12, 'min_samples_split': 62, 'min_samples_leaf': 1, 'bootstrap': False}. Best is trial 2 with value: 0.7247643954160194.\n",
            "[I 2023-06-24 10:48:30,207] Trial 4 finished with value: 0.695984335933842 and parameters: {'n_estimators': 510, 'max_depth': 26, 'min_samples_split': 21, 'min_samples_leaf': 3, 'bootstrap': True}. Best is trial 2 with value: 0.7247643954160194.\n",
            "[I 2023-06-24 10:48:51,473] Trial 5 finished with value: 0.7108105204602733 and parameters: {'n_estimators': 647, 'max_depth': 9, 'min_samples_split': 8, 'min_samples_leaf': 4, 'bootstrap': True}. Best is trial 2 with value: 0.7247643954160194.\n",
            "[I 2023-06-24 10:49:06,848] Trial 6 finished with value: 0.6539619372353753 and parameters: {'n_estimators': 374, 'max_depth': 7, 'min_samples_split': 69, 'min_samples_leaf': 2, 'bootstrap': False}. Best is trial 2 with value: 0.7247643954160194.\n",
            "[I 2023-06-24 10:49:13,817] Trial 7 finished with value: 0.7226765911998531 and parameters: {'n_estimators': 130, 'max_depth': 29, 'min_samples_split': 27, 'min_samples_leaf': 3, 'bootstrap': False}. Best is trial 2 with value: 0.7247643954160194.\n",
            "[I 2023-06-24 10:49:26,903] Trial 8 finished with value: 0.5600823066497259 and parameters: {'n_estimators': 592, 'max_depth': 9, 'min_samples_split': 97, 'min_samples_leaf': 4, 'bootstrap': True}. Best is trial 2 with value: 0.7247643954160194.\n",
            "[I 2023-06-24 10:50:05,784] Trial 9 finished with value: 0.7492001744149729 and parameters: {'n_estimators': 638, 'max_depth': 29, 'min_samples_split': 10, 'min_samples_leaf': 1, 'bootstrap': False}. Best is trial 9 with value: 0.7492001744149729.\n",
            "[I 2023-06-24 10:50:23,985] Trial 10 finished with value: 0.6654104326888687 and parameters: {'n_estimators': 450, 'max_depth': 12, 'min_samples_split': 84, 'min_samples_leaf': 2, 'bootstrap': False}. Best is trial 9 with value: 0.7492001744149729.\n",
            "[I 2023-06-24 10:50:31,789] Trial 11 finished with value: 0.713118025847375 and parameters: {'n_estimators': 226, 'max_depth': 26, 'min_samples_split': 9, 'min_samples_leaf': 4, 'bootstrap': True}. Best is trial 9 with value: 0.7492001744149729.\n",
            "[I 2023-06-24 10:50:34,402] Trial 12 finished with value: 0.627819940864248 and parameters: {'n_estimators': 104, 'max_depth': 27, 'min_samples_split': 71, 'min_samples_leaf': 3, 'bootstrap': True}. Best is trial 9 with value: 0.7492001744149729.\n",
            "[I 2023-06-24 10:50:44,082] Trial 13 finished with value: 0.5832671309085617 and parameters: {'n_estimators': 422, 'max_depth': 8, 'min_samples_split': 87, 'min_samples_leaf': 3, 'bootstrap': True}. Best is trial 9 with value: 0.7492001744149729.\n",
            "[I 2023-06-24 10:50:53,645] Trial 14 finished with value: 0.633757803330096 and parameters: {'n_estimators': 380, 'max_depth': 13, 'min_samples_split': 74, 'min_samples_leaf': 3, 'bootstrap': True}. Best is trial 9 with value: 0.7492001744149729.\n",
            "[I 2023-06-24 10:50:58,681] Trial 15 finished with value: 0.6197668170899633 and parameters: {'n_estimators': 207, 'max_depth': 24, 'min_samples_split': 77, 'min_samples_leaf': 3, 'bootstrap': True}. Best is trial 9 with value: 0.7492001744149729.\n",
            "[I 2023-06-24 10:51:34,665] Trial 16 finished with value: 0.7491079033251629 and parameters: {'n_estimators': 570, 'max_depth': 16, 'min_samples_split': 4, 'min_samples_leaf': 1, 'bootstrap': False}. Best is trial 9 with value: 0.7492001744149729.\n",
            "[I 2023-06-24 10:51:50,077] Trial 17 finished with value: 0.6508064678371681 and parameters: {'n_estimators': 383, 'max_depth': 18, 'min_samples_split': 91, 'min_samples_leaf': 1, 'bootstrap': False}. Best is trial 9 with value: 0.7492001744149729.\n",
            "[I 2023-06-24 10:51:59,051] Trial 18 finished with value: 0.6641591480696066 and parameters: {'n_estimators': 306, 'max_depth': 7, 'min_samples_split': 30, 'min_samples_leaf': 1, 'bootstrap': True}. Best is trial 9 with value: 0.7492001744149729.\n",
            "[I 2023-06-24 10:52:14,729] Trial 19 finished with value: 0.6165954391497582 and parameters: {'n_estimators': 670, 'max_depth': 28, 'min_samples_split': 81, 'min_samples_leaf': 1, 'bootstrap': True}. Best is trial 9 with value: 0.7492001744149729.\n",
            "[I 2023-06-24 10:52:59,087] Trial 20 finished with value: 0.7276304971960936 and parameters: {'n_estimators': 827, 'max_depth': 29, 'min_samples_split': 33, 'min_samples_leaf': 1, 'bootstrap': False}. Best is trial 9 with value: 0.7492001744149729.\n",
            "[I 2023-06-24 10:53:28,855] Trial 21 finished with value: 0.7240946201924521 and parameters: {'n_estimators': 837, 'max_depth': 28, 'min_samples_split': 2, 'min_samples_leaf': 3, 'bootstrap': True}. Best is trial 9 with value: 0.7492001744149729.\n",
            "[I 2023-06-24 10:53:36,942] Trial 22 finished with value: 0.6468728335533729 and parameters: {'n_estimators': 207, 'max_depth': 14, 'min_samples_split': 95, 'min_samples_leaf': 2, 'bootstrap': False}. Best is trial 9 with value: 0.7492001744149729.\n",
            "[I 2023-06-24 10:53:46,440] Trial 23 finished with value: 0.575094192443011 and parameters: {'n_estimators': 427, 'max_depth': 31, 'min_samples_split': 97, 'min_samples_leaf': 2, 'bootstrap': True}. Best is trial 9 with value: 0.7492001744149729.\n",
            "[I 2023-06-24 10:53:59,171] Trial 24 finished with value: 0.6409587782932442 and parameters: {'n_estimators': 356, 'max_depth': 5, 'min_samples_split': 62, 'min_samples_leaf': 3, 'bootstrap': False}. Best is trial 9 with value: 0.7492001744149729.\n",
            "[I 2023-06-24 10:54:30,742] Trial 25 finished with value: 0.7147405980877568 and parameters: {'n_estimators': 918, 'max_depth': 11, 'min_samples_split': 16, 'min_samples_leaf': 2, 'bootstrap': True}. Best is trial 9 with value: 0.7492001744149729.\n",
            "[I 2023-06-24 10:55:08,623] Trial 26 finished with value: 0.7258987285311251 and parameters: {'n_estimators': 705, 'max_depth': 25, 'min_samples_split': 25, 'min_samples_leaf': 3, 'bootstrap': False}. Best is trial 9 with value: 0.7492001744149729.\n",
            "[I 2023-06-24 10:55:31,403] Trial 27 finished with value: 0.7130532048553818 and parameters: {'n_estimators': 670, 'max_depth': 19, 'min_samples_split': 10, 'min_samples_leaf': 4, 'bootstrap': True}. Best is trial 9 with value: 0.7492001744149729.\n",
            "[I 2023-06-24 10:55:34,830] Trial 28 finished with value: 0.6379630749291905 and parameters: {'n_estimators': 136, 'max_depth': 20, 'min_samples_split': 69, 'min_samples_leaf': 1, 'bootstrap': True}. Best is trial 9 with value: 0.7492001744149729.\n",
            "[I 2023-06-24 10:55:51,714] Trial 29 finished with value: 0.6429697001658892 and parameters: {'n_estimators': 681, 'max_depth': 9, 'min_samples_split': 70, 'min_samples_leaf': 2, 'bootstrap': True}. Best is trial 9 with value: 0.7492001744149729.\n",
            "[I 2023-06-24 10:56:07,331] Trial 30 finished with value: 0.6489764121413277 and parameters: {'n_estimators': 407, 'max_depth': 8, 'min_samples_split': 93, 'min_samples_leaf': 4, 'bootstrap': False}. Best is trial 9 with value: 0.7492001744149729.\n",
            "[I 2023-06-24 10:56:46,927] Trial 31 finished with value: 0.6926172325932265 and parameters: {'n_estimators': 836, 'max_depth': 19, 'min_samples_split': 54, 'min_samples_leaf': 1, 'bootstrap': False}. Best is trial 9 with value: 0.7492001744149729.\n",
            "[I 2023-06-24 10:57:34,355] Trial 32 finished with value: 0.7149333817643532 and parameters: {'n_estimators': 911, 'max_depth': 22, 'min_samples_split': 35, 'min_samples_leaf': 2, 'bootstrap': False}. Best is trial 9 with value: 0.7492001744149729.\n",
            "[I 2023-06-24 10:58:14,700] Trial 33 finished with value: 0.6831557366304482 and parameters: {'n_estimators': 899, 'max_depth': 26, 'min_samples_split': 65, 'min_samples_leaf': 1, 'bootstrap': False}. Best is trial 9 with value: 0.7492001744149729.\n",
            "[I 2023-06-24 10:58:39,327] Trial 34 finished with value: 0.6445231186843505 and parameters: {'n_estimators': 646, 'max_depth': 5, 'min_samples_split': 12, 'min_samples_leaf': 3, 'bootstrap': False}. Best is trial 9 with value: 0.7492001744149729.\n",
            "[I 2023-06-24 10:58:54,248] Trial 35 finished with value: 0.6500903171641731 and parameters: {'n_estimators': 594, 'max_depth': 23, 'min_samples_split': 66, 'min_samples_leaf': 1, 'bootstrap': True}. Best is trial 9 with value: 0.7492001744149729.\n",
            "[I 2023-06-24 10:59:04,007] Trial 36 finished with value: 0.6480919320695879 and parameters: {'n_estimators': 393, 'max_depth': 25, 'min_samples_split': 66, 'min_samples_leaf': 4, 'bootstrap': True}. Best is trial 9 with value: 0.7492001744149729.\n",
            "[I 2023-06-24 10:59:10,055] Trial 37 finished with value: 0.7007043536277016 and parameters: {'n_estimators': 184, 'max_depth': 14, 'min_samples_split': 28, 'min_samples_leaf': 1, 'bootstrap': True}. Best is trial 9 with value: 0.7492001744149729.\n",
            "[I 2023-06-24 10:59:31,121] Trial 38 finished with value: 0.6021003227137107 and parameters: {'n_estimators': 903, 'max_depth': 22, 'min_samples_split': 80, 'min_samples_leaf': 3, 'bootstrap': True}. Best is trial 9 with value: 0.7492001744149729.\n",
            "[I 2023-06-24 10:59:40,072] Trial 39 finished with value: 0.6984893526186369 and parameters: {'n_estimators': 275, 'max_depth': 24, 'min_samples_split': 29, 'min_samples_leaf': 1, 'bootstrap': True}. Best is trial 9 with value: 0.7492001744149729.\n",
            "[I 2023-06-24 11:00:16,990] Trial 40 finished with value: 0.6534878969338941 and parameters: {'n_estimators': 947, 'max_depth': 30, 'min_samples_split': 92, 'min_samples_leaf': 2, 'bootstrap': False}. Best is trial 9 with value: 0.7492001744149729.\n",
            "[I 2023-06-24 11:00:35,455] Trial 41 finished with value: 0.6495546493593753 and parameters: {'n_estimators': 485, 'max_depth': 31, 'min_samples_split': 97, 'min_samples_leaf': 4, 'bootstrap': False}. Best is trial 9 with value: 0.7492001744149729.\n",
            "[I 2023-06-24 11:01:04,533] Trial 42 finished with value: 0.7190844188262242 and parameters: {'n_estimators': 866, 'max_depth': 13, 'min_samples_split': 18, 'min_samples_leaf': 3, 'bootstrap': True}. Best is trial 9 with value: 0.7492001744149729.\n",
            "[I 2023-06-24 11:01:29,952] Trial 43 finished with value: 0.6616275547142183 and parameters: {'n_estimators': 613, 'max_depth': 7, 'min_samples_split': 62, 'min_samples_leaf': 4, 'bootstrap': False}. Best is trial 9 with value: 0.7492001744149729.\n",
            "[I 2023-06-24 11:01:51,581] Trial 44 finished with value: 0.6411010351276664 and parameters: {'n_estimators': 890, 'max_depth': 25, 'min_samples_split': 71, 'min_samples_leaf': 3, 'bootstrap': True}. Best is trial 9 with value: 0.7492001744149729.\n",
            "[I 2023-06-24 11:02:10,450] Trial 45 finished with value: 0.5801005504559604 and parameters: {'n_estimators': 829, 'max_depth': 26, 'min_samples_split': 87, 'min_samples_leaf': 4, 'bootstrap': True}. Best is trial 9 with value: 0.7492001744149729.\n",
            "[I 2023-06-24 11:02:30,314] Trial 46 finished with value: 0.6433276343057834 and parameters: {'n_estimators': 819, 'max_depth': 22, 'min_samples_split': 71, 'min_samples_leaf': 4, 'bootstrap': True}. Best is trial 9 with value: 0.7492001744149729.\n",
            "[I 2023-06-24 11:02:48,898] Trial 47 finished with value: 0.6553974273804464 and parameters: {'n_estimators': 438, 'max_depth': 7, 'min_samples_split': 59, 'min_samples_leaf': 1, 'bootstrap': False}. Best is trial 9 with value: 0.7492001744149729.\n",
            "[I 2023-06-24 11:03:02,607] Trial 48 finished with value: 0.7325763926904554 and parameters: {'n_estimators': 358, 'max_depth': 20, 'min_samples_split': 5, 'min_samples_leaf': 1, 'bootstrap': True}. Best is trial 9 with value: 0.7492001744149729.\n",
            "[I 2023-06-24 11:03:07,747] Trial 49 finished with value: 0.6152992092080496 and parameters: {'n_estimators': 214, 'max_depth': 19, 'min_samples_split': 78, 'min_samples_leaf': 1, 'bootstrap': True}. Best is trial 9 with value: 0.7492001744149729.\n",
            "[I 2023-06-24 11:03:14,488] Trial 50 finished with value: 0.686771724889977 and parameters: {'n_estimators': 146, 'max_depth': 19, 'min_samples_split': 55, 'min_samples_leaf': 3, 'bootstrap': False}. Best is trial 9 with value: 0.7492001744149729.\n",
            "[I 2023-06-24 11:03:27,741] Trial 51 finished with value: 0.6123805266628132 and parameters: {'n_estimators': 565, 'max_depth': 13, 'min_samples_split': 80, 'min_samples_leaf': 2, 'bootstrap': True}. Best is trial 9 with value: 0.7492001744149729.\n",
            "[I 2023-06-24 11:03:30,637] Trial 52 finished with value: 0.6022201232374735 and parameters: {'n_estimators': 122, 'max_depth': 30, 'min_samples_split': 84, 'min_samples_leaf': 3, 'bootstrap': True}. Best is trial 9 with value: 0.7492001744149729.\n",
            "[I 2023-06-24 11:03:36,988] Trial 53 finished with value: 0.6542142002148137 and parameters: {'n_estimators': 240, 'max_depth': 11, 'min_samples_split': 56, 'min_samples_leaf': 3, 'bootstrap': True}. Best is trial 9 with value: 0.7492001744149729.\n",
            "[I 2023-06-24 11:04:02,145] Trial 54 finished with value: 0.666666023714147 and parameters: {'n_estimators': 960, 'max_depth': 24, 'min_samples_split': 56, 'min_samples_leaf': 3, 'bootstrap': True}. Best is trial 9 with value: 0.7492001744149729.\n",
            "[I 2023-06-24 11:04:18,331] Trial 55 finished with value: 0.7194930111261485 and parameters: {'n_estimators': 420, 'max_depth': 25, 'min_samples_split': 3, 'min_samples_leaf': 1, 'bootstrap': True}. Best is trial 9 with value: 0.7492001744149729.\n",
            "[I 2023-06-24 11:04:42,807] Trial 56 finished with value: 0.6691240623293071 and parameters: {'n_estimators': 870, 'max_depth': 23, 'min_samples_split': 48, 'min_samples_leaf': 1, 'bootstrap': True}. Best is trial 9 with value: 0.7492001744149729.\n",
            "[I 2023-06-24 11:04:50,287] Trial 57 finished with value: 0.6829813387248509 and parameters: {'n_estimators': 256, 'max_depth': 16, 'min_samples_split': 41, 'min_samples_leaf': 3, 'bootstrap': True}. Best is trial 9 with value: 0.7492001744149729.\n",
            "[I 2023-06-24 11:05:02,054] Trial 58 finished with value: 0.6646589083481043 and parameters: {'n_estimators': 437, 'max_depth': 21, 'min_samples_split': 51, 'min_samples_leaf': 4, 'bootstrap': True}. Best is trial 9 with value: 0.7492001744149729.\n",
            "[I 2023-06-24 11:05:07,943] Trial 59 finished with value: 0.7217390952905388 and parameters: {'n_estimators': 163, 'max_depth': 22, 'min_samples_split': 4, 'min_samples_leaf': 3, 'bootstrap': True}. Best is trial 9 with value: 0.7492001744149729.\n",
            "[I 2023-06-24 11:05:20,359] Trial 60 finished with value: 0.6696956485879051 and parameters: {'n_estimators': 449, 'max_depth': 22, 'min_samples_split': 47, 'min_samples_leaf': 3, 'bootstrap': True}. Best is trial 9 with value: 0.7492001744149729.\n",
            "[I 2023-06-24 11:05:53,974] Trial 61 finished with value: 0.7095320940618202 and parameters: {'n_estimators': 966, 'max_depth': 29, 'min_samples_split': 21, 'min_samples_leaf': 1, 'bootstrap': True}. Best is trial 9 with value: 0.7492001744149729.\n",
            "[I 2023-06-24 11:06:00,770] Trial 62 finished with value: 0.7228725257077843 and parameters: {'n_estimators': 185, 'max_depth': 23, 'min_samples_split': 9, 'min_samples_leaf': 2, 'bootstrap': True}. Best is trial 9 with value: 0.7492001744149729.\n",
            "[I 2023-06-24 11:06:47,405] Trial 63 finished with value: 0.7309237288622841 and parameters: {'n_estimators': 833, 'max_depth': 12, 'min_samples_split': 13, 'min_samples_leaf': 3, 'bootstrap': False}. Best is trial 9 with value: 0.7492001744149729.\n",
            "[I 2023-06-24 11:07:29,301] Trial 64 finished with value: 0.7269184731882431 and parameters: {'n_estimators': 762, 'max_depth': 26, 'min_samples_split': 29, 'min_samples_leaf': 1, 'bootstrap': False}. Best is trial 9 with value: 0.7492001744149729.\n",
            "[I 2023-06-24 11:08:18,245] Trial 65 finished with value: 0.7105155855848102 and parameters: {'n_estimators': 992, 'max_depth': 16, 'min_samples_split': 38, 'min_samples_leaf': 4, 'bootstrap': False}. Best is trial 9 with value: 0.7492001744149729.\n",
            "[I 2023-06-24 11:08:54,325] Trial 66 finished with value: 0.6720751332391377 and parameters: {'n_estimators': 873, 'max_depth': 16, 'min_samples_split': 76, 'min_samples_leaf': 4, 'bootstrap': False}. Best is trial 9 with value: 0.7492001744149729.\n",
            "[I 2023-06-24 11:09:10,846] Trial 67 finished with value: 0.6869253401236021 and parameters: {'n_estimators': 555, 'max_depth': 27, 'min_samples_split': 33, 'min_samples_leaf': 4, 'bootstrap': True}. Best is trial 9 with value: 0.7492001744149729.\n",
            "[I 2023-06-24 11:09:36,548] Trial 68 finished with value: 0.6743262461829739 and parameters: {'n_estimators': 915, 'max_depth': 7, 'min_samples_split': 33, 'min_samples_leaf': 4, 'bootstrap': True}. Best is trial 9 with value: 0.7492001744149729.\n",
            "[I 2023-06-24 11:10:11,953] Trial 69 finished with value: 0.72172905653732 and parameters: {'n_estimators': 669, 'max_depth': 17, 'min_samples_split': 31, 'min_samples_leaf': 2, 'bootstrap': False}. Best is trial 9 with value: 0.7492001744149729.\n",
            "[I 2023-06-24 11:11:00,057] Trial 70 finished with value: 0.7422928006543138 and parameters: {'n_estimators': 813, 'max_depth': 26, 'min_samples_split': 11, 'min_samples_leaf': 2, 'bootstrap': False}. Best is trial 9 with value: 0.7492001744149729.\n",
            "[I 2023-06-24 11:11:26,283] Trial 71 finished with value: 0.7146779893059181 and parameters: {'n_estimators': 497, 'max_depth': 28, 'min_samples_split': 36, 'min_samples_leaf': 1, 'bootstrap': False}. Best is trial 9 with value: 0.7492001744149729.\n",
            "[I 2023-06-24 11:11:57,606] Trial 72 finished with value: 0.7010415858580863 and parameters: {'n_estimators': 657, 'max_depth': 7, 'min_samples_split': 10, 'min_samples_leaf': 3, 'bootstrap': False}. Best is trial 9 with value: 0.7492001744149729.\n",
            "[I 2023-06-24 11:12:19,738] Trial 73 finished with value: 0.6846757636124318 and parameters: {'n_estimators': 736, 'max_depth': 7, 'min_samples_split': 10, 'min_samples_leaf': 4, 'bootstrap': True}. Best is trial 9 with value: 0.7492001744149729.\n",
            "[I 2023-06-24 11:12:37,920] Trial 74 finished with value: 0.5736249034904339 and parameters: {'n_estimators': 832, 'max_depth': 30, 'min_samples_split': 99, 'min_samples_leaf': 4, 'bootstrap': True}. Best is trial 9 with value: 0.7492001744149729.\n",
            "[I 2023-06-24 11:13:16,290] Trial 75 finished with value: 0.7040172827321027 and parameters: {'n_estimators': 800, 'max_depth': 20, 'min_samples_split': 43, 'min_samples_leaf': 4, 'bootstrap': False}. Best is trial 9 with value: 0.7492001744149729.\n",
            "[I 2023-06-24 11:13:23,178] Trial 76 finished with value: 0.7606491734082651 and parameters: {'n_estimators': 110, 'max_depth': 17, 'min_samples_split': 7, 'min_samples_leaf': 1, 'bootstrap': False}. Best is trial 76 with value: 0.7606491734082651.\n",
            "[I 2023-06-24 11:13:52,600] Trial 77 finished with value: 0.6481872761017053 and parameters: {'n_estimators': 772, 'max_depth': 20, 'min_samples_split': 97, 'min_samples_leaf': 2, 'bootstrap': False}. Best is trial 76 with value: 0.7606491734082651.\n",
            "[I 2023-06-24 11:14:09,688] Trial 78 finished with value: 0.7437815374651099 and parameters: {'n_estimators': 301, 'max_depth': 31, 'min_samples_split': 3, 'min_samples_leaf': 4, 'bootstrap': False}. Best is trial 76 with value: 0.7606491734082651.\n",
            "[I 2023-06-24 11:14:29,981] Trial 79 finished with value: 0.7250402433785448 and parameters: {'n_estimators': 575, 'max_depth': 31, 'min_samples_split': 9, 'min_samples_leaf': 3, 'bootstrap': True}. Best is trial 76 with value: 0.7606491734082651.\n",
            "[I 2023-06-24 11:15:02,044] Trial 80 finished with value: 0.7008548769243749 and parameters: {'n_estimators': 667, 'max_depth': 23, 'min_samples_split': 46, 'min_samples_leaf': 3, 'bootstrap': False}. Best is trial 76 with value: 0.7606491734082651.\n",
            "[I 2023-06-24 11:15:07,464] Trial 81 finished with value: 0.638077757398438 and parameters: {'n_estimators': 140, 'max_depth': 12, 'min_samples_split': 96, 'min_samples_leaf': 4, 'bootstrap': False}. Best is trial 76 with value: 0.7606491734082651.\n",
            "[I 2023-06-24 11:15:17,302] Trial 82 finished with value: 0.6706251788220665 and parameters: {'n_estimators': 349, 'max_depth': 10, 'min_samples_split': 47, 'min_samples_leaf': 2, 'bootstrap': True}. Best is trial 76 with value: 0.7606491734082651.\n",
            "[I 2023-06-24 11:15:59,058] Trial 83 finished with value: 0.6777275017156656 and parameters: {'n_estimators': 977, 'max_depth': 31, 'min_samples_split': 71, 'min_samples_leaf': 3, 'bootstrap': False}. Best is trial 76 with value: 0.7606491734082651.\n",
            "[I 2023-06-24 11:16:15,002] Trial 84 finished with value: 0.5703458295654045 and parameters: {'n_estimators': 716, 'max_depth': 9, 'min_samples_split': 92, 'min_samples_leaf': 4, 'bootstrap': True}. Best is trial 76 with value: 0.7606491734082651.\n",
            "[I 2023-06-24 11:16:29,464] Trial 85 finished with value: 0.5677363284721105 and parameters: {'n_estimators': 652, 'max_depth': 16, 'min_samples_split': 94, 'min_samples_leaf': 4, 'bootstrap': True}. Best is trial 76 with value: 0.7606491734082651.\n",
            "[I 2023-06-24 11:16:39,165] Trial 86 finished with value: 0.5738058847235188 and parameters: {'n_estimators': 439, 'max_depth': 26, 'min_samples_split': 99, 'min_samples_leaf': 1, 'bootstrap': True}. Best is trial 76 with value: 0.7606491734082651.\n",
            "[I 2023-06-24 11:17:01,562] Trial 87 finished with value: 0.5967864718218259 and parameters: {'n_estimators': 973, 'max_depth': 27, 'min_samples_split': 84, 'min_samples_leaf': 2, 'bootstrap': True}. Best is trial 76 with value: 0.7606491734082651.\n",
            "[I 2023-06-24 11:17:05,112] Trial 88 finished with value: 0.6017399686467687 and parameters: {'n_estimators': 150, 'max_depth': 28, 'min_samples_split': 82, 'min_samples_leaf': 4, 'bootstrap': True}. Best is trial 76 with value: 0.7606491734082651.\n",
            "[I 2023-06-24 11:17:23,293] Trial 89 finished with value: 0.5859891395955688 and parameters: {'n_estimators': 792, 'max_depth': 30, 'min_samples_split': 86, 'min_samples_leaf': 1, 'bootstrap': True}. Best is trial 76 with value: 0.7606491734082651.\n",
            "[I 2023-06-24 11:17:54,250] Trial 90 finished with value: 0.6962690026716364 and parameters: {'n_estimators': 959, 'max_depth': 21, 'min_samples_split': 24, 'min_samples_leaf': 3, 'bootstrap': True}. Best is trial 76 with value: 0.7606491734082651.\n",
            "[I 2023-06-24 11:18:03,521] Trial 91 finished with value: 0.6843712771371318 and parameters: {'n_estimators': 202, 'max_depth': 23, 'min_samples_split': 53, 'min_samples_leaf': 4, 'bootstrap': False}. Best is trial 76 with value: 0.7606491734082651.\n",
            "[I 2023-06-24 11:18:17,078] Trial 92 finished with value: 0.5958246854053901 and parameters: {'n_estimators': 597, 'max_depth': 20, 'min_samples_split': 88, 'min_samples_leaf': 2, 'bootstrap': True}. Best is trial 76 with value: 0.7606491734082651.\n",
            "[I 2023-06-24 11:18:36,080] Trial 93 finished with value: 0.6439730791212327 and parameters: {'n_estimators': 780, 'max_depth': 21, 'min_samples_split': 71, 'min_samples_leaf': 1, 'bootstrap': True}. Best is trial 76 with value: 0.7606491734082651.\n",
            "[I 2023-06-24 11:18:48,286] Trial 94 finished with value: 0.6757187623685652 and parameters: {'n_estimators': 415, 'max_depth': 20, 'min_samples_split': 40, 'min_samples_leaf': 2, 'bootstrap': True}. Best is trial 76 with value: 0.7606491734082651.\n",
            "[I 2023-06-24 11:19:16,044] Trial 95 finished with value: 0.7106630422875285 and parameters: {'n_estimators': 563, 'max_depth': 26, 'min_samples_split': 41, 'min_samples_leaf': 3, 'bootstrap': False}. Best is trial 76 with value: 0.7606491734082651.\n",
            "[I 2023-06-24 11:19:27,189] Trial 96 finished with value: 0.6980458263013125 and parameters: {'n_estimators': 232, 'max_depth': 30, 'min_samples_split': 50, 'min_samples_leaf': 2, 'bootstrap': False}. Best is trial 76 with value: 0.7606491734082651.\n",
            "[I 2023-06-24 11:19:51,765] Trial 97 finished with value: 0.6799913328807892 and parameters: {'n_estimators': 543, 'max_depth': 13, 'min_samples_split': 64, 'min_samples_leaf': 1, 'bootstrap': False}. Best is trial 76 with value: 0.7606491734082651.\n",
            "[I 2023-06-24 11:20:03,166] Trial 98 finished with value: 0.7210269659082739 and parameters: {'n_estimators': 215, 'max_depth': 9, 'min_samples_split': 15, 'min_samples_leaf': 3, 'bootstrap': False}. Best is trial 76 with value: 0.7606491734082651.\n",
            "[I 2023-06-24 11:20:25,652] Trial 99 finished with value: 0.648509536470461 and parameters: {'n_estimators': 908, 'max_depth': 17, 'min_samples_split': 68, 'min_samples_leaf': 1, 'bootstrap': True}. Best is trial 76 with value: 0.7606491734082651.\n"
          ]
        }
      ],
      "source": [
        "study = optuna.create_study(direction='maximize', sampler=RandomSampler(seed=42))\n",
        "study.optimize(objective, n_trials=100)"
      ]
    },
    {
      "cell_type": "code",
      "execution_count": null,
      "metadata": {
        "id": "gDcX35FUta3A"
      },
      "outputs": [],
      "source": [
        "# Get the best hyperparameters from Optuna\n",
        "best_params = study.best_params"
      ]
    },
    {
      "cell_type": "code",
      "execution_count": null,
      "metadata": {
        "id": "Dpxuw1F8ta3A",
        "outputId": "581eed39-d838-4a22-e338-2dc000eefcd3"
      },
      "outputs": [
        {
          "data": {
            "text/plain": [
              "{'n_estimators': 110,\n",
              " 'max_depth': 17,\n",
              " 'min_samples_split': 7,\n",
              " 'min_samples_leaf': 1,\n",
              " 'bootstrap': False}"
            ]
          },
          "execution_count": 101,
          "metadata": {},
          "output_type": "execute_result"
        }
      ],
      "source": [
        "best_params #42 random seed"
      ]
    },
    {
      "cell_type": "markdown",
      "metadata": {
        "id": "fZCZZHOcta3B"
      },
      "source": [
        "#### Get best parameters and make predictions"
      ]
    },
    {
      "cell_type": "code",
      "execution_count": null,
      "metadata": {
        "id": "fJ2nogPZta3C"
      },
      "outputs": [],
      "source": [
        "#selected_features_indices = [i for i, value in enumerate(best_features) if value]\n",
        "X_test_selected = X_test[:, selected_features]"
      ]
    },
    {
      "cell_type": "code",
      "execution_count": null,
      "metadata": {
        "id": "mN7-TNhDta3C",
        "outputId": "84559b14-52d7-4a69-a86b-c54ab758472d"
      },
      "outputs": [
        {
          "data": {
            "text/plain": [
              "(286, 300)"
            ]
          },
          "execution_count": 103,
          "metadata": {},
          "output_type": "execute_result"
        }
      ],
      "source": [
        "X_test_selected.shape"
      ]
    },
    {
      "cell_type": "code",
      "execution_count": null,
      "metadata": {
        "id": "32cP8guRta3C"
      },
      "outputs": [],
      "source": [
        "X_train_val_selected_final_features = X_train_val[:, selected_features]"
      ]
    },
    {
      "cell_type": "code",
      "execution_count": null,
      "metadata": {
        "id": "8SG26CCwta3D",
        "outputId": "8d9a7105-61fe-4c67-b44c-7498cf3b2b4a"
      },
      "outputs": [
        {
          "data": {
            "text/plain": [
              "(1141, 300)"
            ]
          },
          "execution_count": 105,
          "metadata": {},
          "output_type": "execute_result"
        }
      ],
      "source": [
        "X_train_val_selected_final_features.shape"
      ]
    },
    {
      "cell_type": "code",
      "execution_count": null,
      "metadata": {
        "id": "R4C0E0ZWta3D"
      },
      "outputs": [],
      "source": [
        "best_classifier_RF = RandomForestClassifier(**best_params)"
      ]
    },
    {
      "cell_type": "code",
      "execution_count": null,
      "metadata": {
        "id": "h4sCpcv2ta3D",
        "outputId": "0368799f-049e-4c32-8106-d314ecdc8a7d"
      },
      "outputs": [
        {
          "data": {
            "text/plain": [
              "RandomForestClassifier(bootstrap=False, max_depth=17, min_samples_split=7,\n",
              "                       n_estimators=110)"
            ]
          },
          "execution_count": 107,
          "metadata": {},
          "output_type": "execute_result"
        }
      ],
      "source": [
        "best_classifier_RF.fit(X_train_val_selected_final_features, y_train_val)"
      ]
    },
    {
      "cell_type": "code",
      "execution_count": null,
      "metadata": {
        "id": "YJYYWSrNta3D"
      },
      "outputs": [],
      "source": [
        "y_test_pred = best_classifier_RF.predict(X_test_selected)"
      ]
    },
    {
      "cell_type": "code",
      "execution_count": null,
      "metadata": {
        "id": "DdxC_dvzta3E"
      },
      "outputs": [],
      "source": [
        "balanced_acc_mrmr_RF = balanced_accuracy_score(y_test, y_test_pred)\n",
        "recall_mrmr_RF = recall_score(y_test, y_test_pred, average='weighted')\n",
        "f1_mrmr_RF = f1_score(y_test, y_test_pred, average='weighted')\n",
        "precision_mrmr_RF = precision_score(y_test, y_test_pred, average='weighted')"
      ]
    },
    {
      "cell_type": "code",
      "execution_count": null,
      "metadata": {
        "id": "7y_Mn79Nta3E",
        "outputId": "c1ebaf87-b8d3-4b37-d4bc-25167e958597"
      },
      "outputs": [
        {
          "name": "stdout",
          "output_type": "stream",
          "text": [
            "Random Forests\n",
            "\n",
            "Accuracy: 0.7972027972027972\n",
            "F1 Score: 0.7846263971799463\n",
            "Precision: 0.8041749973116769\n",
            "Recall: 0.7972027972027972\n"
          ]
        }
      ],
      "source": [
        "print(\"Random Forests\\n\")\n",
        "print(\"Accuracy:\", balanced_acc_mrmr_RF)\n",
        "print(\"F1 Score:\", f1_mrmr_RF)\n",
        "print(\"Precision:\", precision_mrmr_RF)\n",
        "print(\"Recall:\", recall_mrmr_RF)"
      ]
    },
    {
      "cell_type": "markdown",
      "metadata": {
        "id": "JWsCAdyntbta"
      },
      "source": [
        "#### Feature importance"
      ]
    },
    {
      "cell_type": "code",
      "execution_count": null,
      "metadata": {
        "id": "n2kfeX1stbta",
        "outputId": "7df41a7b-8bff-44d8-c90d-cbea86ceb8d6"
      },
      "outputs": [
        {
          "name": "stdout",
          "output_type": "stream",
          "text": [
            "Index(['ENSG00000132475', 'ENSG00000163220', 'ENSG00000233276',\n",
            "       'ENSG00000111011', 'ENSG00000204628', 'ENSG00000138326',\n",
            "       'ENSG00000224858', 'ENSG00000141504', 'ENSG00000184840',\n",
            "       'ENSG00000167978', 'ENSG00000174444', 'ENSG00000152518'],\n",
            "      dtype='object')\n"
          ]
        }
      ],
      "source": [
        "# Filter the DataFrame using the boolean array\n",
        "data_filtered_features = df_filtered.iloc[:,:-10].iloc[:, selected_features]\n",
        "\n",
        "# Print the filtered DataFrame\n",
        "data_filtered_features\n",
        "feature_scores = pd.Series(best_classifier_RF.feature_importances_).sort_values(ascending=False)\n",
        "column_names = data_filtered_features.columns[feature_scores.index]\n",
        "# Get the column names corresponding to the series indices above the threshold\n",
        "filtered_column_names = data_filtered_features.columns[feature_scores[feature_scores > 0.01].index]\n",
        "\n",
        "# Print the filtered column names\n",
        "print(filtered_column_names)"
      ]
    },
    {
      "cell_type": "code",
      "execution_count": null,
      "metadata": {
        "id": "kty4qTVitbta"
      },
      "outputs": [],
      "source": [
        "# view the feature scores\n",
        "#X_df = pd.DataFrame(X_train_val,columns=X.columns)\n",
        "feature_scores = pd.Series(best_classifier_RF.feature_importances_).sort_values(ascending=False)"
      ]
    },
    {
      "cell_type": "code",
      "execution_count": null,
      "metadata": {
        "id": "RbpfS9dqtbtb",
        "outputId": "e7683542-744f-4dfa-f5bf-80f2aadf2210"
      },
      "outputs": [
        {
          "data": {
            "text/plain": [
              "15     0.016770\n",
              "203    0.016685\n",
              "269    0.016208\n",
              "4      0.014676\n",
              "258    0.014020\n",
              "         ...   \n",
              "67     0.000850\n",
              "278    0.000813\n",
              "225    0.000637\n",
              "26     0.000606\n",
              "31     0.000131\n",
              "Length: 300, dtype: float64"
            ]
          },
          "execution_count": 120,
          "metadata": {},
          "output_type": "execute_result"
        }
      ],
      "source": [
        "feature_scores"
      ]
    },
    {
      "cell_type": "code",
      "execution_count": null,
      "metadata": {
        "id": "aEdZM0Ldtbtb",
        "outputId": "13f9fcd3-eada-4b2c-a024-1100c065747f"
      },
      "outputs": [
        {
          "name": "stdout",
          "output_type": "stream",
          "text": [
            "Index(['ENSG00000132475', 'ENSG00000163220', 'ENSG00000233276',\n",
            "       'ENSG00000111011', 'ENSG00000204628', 'ENSG00000138326',\n",
            "       'ENSG00000224858', 'ENSG00000141504', 'ENSG00000184840',\n",
            "       'ENSG00000167978',\n",
            "       ...\n",
            "       'ENSG00000197081', 'ENSG00000107833', 'ENSG00000189060',\n",
            "       'ENSG00000182871', 'ENSG00000167625', 'ENSG00000105372',\n",
            "       'ENSG00000197956', 'ENSG00000141933', 'ENSG00000104435',\n",
            "       'ENSG00000183735'],\n",
            "      dtype='object', length=300)\n"
          ]
        }
      ],
      "source": [
        "# Get the column names corresponding to the series indices\n",
        "column_names = data_filtered_features.columns[feature_scores.index]\n",
        "\n",
        "# Print the column names\n",
        "print(column_names)"
      ]
    },
    {
      "cell_type": "code",
      "execution_count": null,
      "metadata": {
        "id": "WmkIijS6tbtb",
        "outputId": "03c1fdd8-1ba1-49de-af3e-2bf4ad42e77f"
      },
      "outputs": [
        {
          "name": "stdout",
          "output_type": "stream",
          "text": [
            "Index(['ENSG00000132475', 'ENSG00000163220', 'ENSG00000233276',\n",
            "       'ENSG00000111011', 'ENSG00000204628', 'ENSG00000138326',\n",
            "       'ENSG00000224858', 'ENSG00000141504', 'ENSG00000184840',\n",
            "       'ENSG00000167978', 'ENSG00000174444', 'ENSG00000152518'],\n",
            "      dtype='object')\n"
          ]
        }
      ],
      "source": [
        "# Get the column names corresponding to the series indices above the threshold\n",
        "filtered_column_names = data_filtered_features.columns[feature_scores[feature_scores > 0.01].index]\n",
        "\n",
        "# Print the filtered column names\n",
        "print(filtered_column_names)"
      ]
    },
    {
      "cell_type": "markdown",
      "metadata": {
        "id": "YGoUq9Edta3K"
      },
      "source": [
        "## XGBoost"
      ]
    },
    {
      "cell_type": "markdown",
      "metadata": {
        "id": "KtiWp8XQta3K"
      },
      "source": [
        "#### Cross val for hyperparameter tunning and feature selection"
      ]
    },
    {
      "cell_type": "code",
      "execution_count": null,
      "metadata": {
        "id": "7s-CYRFlta3L"
      },
      "outputs": [],
      "source": [
        "# Define the number of folds for cross-validation\n",
        "n_folds = 5"
      ]
    },
    {
      "cell_type": "code",
      "execution_count": null,
      "metadata": {
        "id": "azB5AA6rtbtc"
      },
      "outputs": [],
      "source": [
        "def perform_feature_selection(X_train_val, y_train_val):\n",
        "    X_train_features, X_hyperparam_opt, y_train_features, y_hyperparam_opt = train_test_split(X_train_val, y_train_val, train_size=0.30, random_state=42)\n",
        "    # Perform feature selection on X_train_val\n",
        "    X_train_val_df = pd.DataFrame(X_train_features)\n",
        "    y_train_val_df = pd.DataFrame(y_train_features)\n",
        "    X_hyperparam_opt = pd.DataFrame(X_hyperparam_opt)\n",
        "    y_hyperparam_opt = pd.DataFrame(y_hyperparam_opt)\n",
        "    selected_features = mrmr_classif(X_train_val_df, y_train_val_df, K=300)\n",
        "    X_train_val_selected = X_hyperparam_opt.loc[:, selected_features]\n",
        "\n",
        "    return X_train_val_selected, y_hyperparam_opt,selected_features"
      ]
    },
    {
      "cell_type": "code",
      "execution_count": null,
      "metadata": {
        "id": "ua4jah7stbtd"
      },
      "outputs": [],
      "source": [
        "def objective_XG(trial, X_hyperparam_opt, y_hyperparam_opt,selected_features):\n",
        "\n",
        "  params = {\n",
        "            'n_estimators': trial.suggest_int('n_estimators', 50, 200),\n",
        "            'max_depth': trial.suggest_int('max_depth', 5, 20),\n",
        "            'learning_rate': trial.suggest_float('learning_rate', 0.01, 0.1),\n",
        "            'subsample': trial.suggest_float('subsample', 0.5, 1.0),\n",
        "            'colsample_bytree': trial.suggest_float('colsample_bytree', 0.5, 1.0),\n",
        "            'gamma': trial.suggest_float('gamma', 0, 5),\n",
        "            'min_child_weight': trial.suggest_int('min_child_weight', 1, 5),\n",
        "            'random_state': 42,\n",
        "            'tree_method': 'hist',  # Optional: Use 'hist' method for faster training\n",
        "            'objective': 'multi:softmax',\n",
        "            'num_class': num_classes  # Replace with the actual number of classes\n",
        "        }\n",
        "\n",
        "  # Instantiate the classifier with the current hyperparameters\n",
        "  #classifier = XGBClassifier(eta=eta,gamma=gamma ,min_child_weight=min_child_weight,max_delta_step=max_delta_step,subsample=subsample)\n",
        "  classifier = XGBClassifier(**params)\n",
        "\n",
        "  # Perform cross-validation on the selected features\n",
        "  kf = StratifiedKFold(n_splits=n_folds, shuffle=True, random_state=42)\n",
        "  cv_scores = []\n",
        "\n",
        "  for train_index, val_index in kf.split(X_hyperparam_opt, y_hyperparam_opt):\n",
        "      #X_train, X_val = X_hyperparam_opt[train_index], X_hyperparam_opt[val_index]\n",
        "      #y_train, y_val = y_hyperparam_opt[train_index], y_hyperparam_opt[val_index]\n",
        "      X_train, X_val = X_hyperparam_opt.iloc[train_index], X_hyperparam_opt.iloc[val_index]\n",
        "      y_train, y_val = y_hyperparam_opt.iloc[train_index], y_hyperparam_opt.iloc[val_index]\n",
        "      # Fit the classifier on the selected features and evaluate on the validation set\n",
        "      classifier.fit(X_train, y_train)\n",
        "      y_pred = classifier.predict(X_val)\n",
        "      mcc = matthews_corrcoef(y_val, y_pred)\n",
        "      cv_scores.append(mcc)\n",
        "  # Calculate the average MCC\n",
        "  avg_mcc = np.mean(cv_scores)\n",
        "\n",
        "  return avg_mcc"
      ]
    },
    {
      "cell_type": "code",
      "execution_count": null,
      "metadata": {
        "id": "BeVmG-jCtbtd",
        "outputId": "f5cdf8bf-e303-4f76-e647-45f5e40b586e"
      },
      "outputs": [
        {
          "name": "stderr",
          "output_type": "stream",
          "text": [
            "100%|██████████| 300/300 [00:26<00:00, 11.36it/s]\n"
          ]
        }
      ],
      "source": [
        "# Perform feature selection\n",
        "X_hyperparam_opt, y_hyperparam_opt,selected_features = perform_feature_selection(X_train_val, y_train_val)"
      ]
    },
    {
      "cell_type": "code",
      "execution_count": null,
      "metadata": {
        "id": "Q0P5r30otbtd"
      },
      "outputs": [],
      "source": [
        "# Define the objective function with selected features\n",
        "def objective(trial):\n",
        "    return objective_XG(trial, X_hyperparam_opt, y_hyperparam_opt,selected_features)"
      ]
    },
    {
      "cell_type": "code",
      "execution_count": null,
      "metadata": {
        "id": "ujKpqUjbtbte",
        "outputId": "bb226921-9e02-45c5-a88f-bfd1ff30b2a7"
      },
      "outputs": [
        {
          "name": "stderr",
          "output_type": "stream",
          "text": [
            "[I 2023-07-02 21:05:21,470] A new study created in memory with name: no-name-88d837ee-7224-409e-86c5-76a6bf2ef40f\n",
            "[I 2023-07-02 21:07:31,913] Trial 0 finished with value: 0.7733392421665962 and parameters: {'n_estimators': 106, 'max_depth': 20, 'learning_rate': 0.07587945476302646, 'subsample': 0.7993292420985183, 'colsample_bytree': 0.5780093202212182, 'gamma': 0.7799726016810132, 'min_child_weight': 1}. Best is trial 0 with value: 0.7733392421665962.\n",
            "[I 2023-07-02 21:09:25,023] Trial 1 finished with value: 0.7417819653974651 and parameters: {'n_estimators': 180, 'max_depth': 14, 'learning_rate': 0.0737265320016441, 'subsample': 0.5102922471479012, 'colsample_bytree': 0.9849549260809971, 'gamma': 4.162213204002109, 'min_child_weight': 2}. Best is trial 0 with value: 0.7733392421665962.\n",
            "[I 2023-07-02 21:11:17,007] Trial 2 finished with value: 0.7745651961996289 and parameters: {'n_estimators': 77, 'max_depth': 7, 'learning_rate': 0.0373818018663584, 'subsample': 0.762378215816119, 'colsample_bytree': 0.7159725093210578, 'gamma': 1.4561457009902097, 'min_child_weight': 4}. Best is trial 2 with value: 0.7745651961996289.\n",
            "[I 2023-07-02 21:13:28,007] Trial 3 finished with value: 0.7802934858166383 and parameters: {'n_estimators': 71, 'max_depth': 9, 'learning_rate': 0.04297256589643226, 'subsample': 0.728034992108518, 'colsample_bytree': 0.8925879806965068, 'gamma': 0.9983689107917987, 'min_child_weight': 3}. Best is trial 3 with value: 0.7802934858166383.\n",
            "[I 2023-07-02 21:14:33,579] Trial 4 finished with value: 0.7580767563498021 and parameters: {'n_estimators': 139, 'max_depth': 5, 'learning_rate': 0.06467903667112945, 'subsample': 0.5852620618436457, 'colsample_bytree': 0.5325257964926398, 'gamma': 4.7444276862666666, 'min_child_weight': 5}. Best is trial 3 with value: 0.7802934858166383.\n"
          ]
        }
      ],
      "source": [
        "study = optuna.create_study(direction='maximize', sampler=RandomSampler(seed=42))\n",
        "study.optimize(objective, n_trials=5)"
      ]
    },
    {
      "cell_type": "code",
      "execution_count": null,
      "metadata": {
        "id": "dG3ghSditbte"
      },
      "outputs": [],
      "source": [
        "# Get the best hyperparameters from Optuna\n",
        "best_params = study.best_params"
      ]
    },
    {
      "cell_type": "code",
      "execution_count": null,
      "metadata": {
        "id": "XS9oKtgntbtf",
        "outputId": "43550130-f301-4127-bdce-67b3ca0bef3d"
      },
      "outputs": [
        {
          "data": {
            "text/plain": [
              "{'n_estimators': 71,\n",
              " 'max_depth': 9,\n",
              " 'learning_rate': 0.04297256589643226,\n",
              " 'subsample': 0.728034992108518,\n",
              " 'colsample_bytree': 0.8925879806965068,\n",
              " 'gamma': 0.9983689107917987,\n",
              " 'min_child_weight': 3}"
            ]
          },
          "execution_count": 130,
          "metadata": {},
          "output_type": "execute_result"
        }
      ],
      "source": [
        "best_params #42 random seed"
      ]
    },
    {
      "cell_type": "markdown",
      "metadata": {
        "id": "MqHUE0Axtbtf"
      },
      "source": [
        "#### Get best parameters and make predictions"
      ]
    },
    {
      "cell_type": "code",
      "execution_count": null,
      "metadata": {
        "id": "lXGu0Mmctbtf"
      },
      "outputs": [],
      "source": [
        "#selected_features_indices = [i for i, value in enumerate(best_features) if value]\n",
        "X_test_selected = X_test[:, selected_features]"
      ]
    },
    {
      "cell_type": "code",
      "execution_count": null,
      "metadata": {
        "id": "U9tVG2K0tbtg",
        "outputId": "72df6da2-4e16-4c87-fbd7-522e2bffd4f2"
      },
      "outputs": [
        {
          "data": {
            "text/plain": [
              "(286, 300)"
            ]
          },
          "execution_count": 132,
          "metadata": {},
          "output_type": "execute_result"
        }
      ],
      "source": [
        "X_test_selected.shape"
      ]
    },
    {
      "cell_type": "code",
      "execution_count": null,
      "metadata": {
        "id": "b-7QDRYXtbtg"
      },
      "outputs": [],
      "source": [
        "X_train_val_selected_final_features = X_train_val[:, selected_features]"
      ]
    },
    {
      "cell_type": "code",
      "execution_count": null,
      "metadata": {
        "id": "d_Yfe5Qdtbtg",
        "outputId": "4f313f81-a3af-41ac-dee5-7c95e161b939"
      },
      "outputs": [
        {
          "data": {
            "text/plain": [
              "(1141, 300)"
            ]
          },
          "execution_count": 134,
          "metadata": {},
          "output_type": "execute_result"
        }
      ],
      "source": [
        "X_train_val_selected_final_features.shape"
      ]
    },
    {
      "cell_type": "code",
      "execution_count": null,
      "metadata": {
        "id": "mbkbPyjUtbth"
      },
      "outputs": [],
      "source": [
        "#best_C = study.best_params['C']\n",
        "#best_gamma = study.best_params['gamma']\n",
        "#best_gamma = study.best_params['gamma']\n",
        "#best_classifier = SVC(C=best_C, gamma=best_gamma)\n",
        "best_classifier_XG = XGBClassifier(**best_params)"
      ]
    },
    {
      "cell_type": "code",
      "execution_count": null,
      "metadata": {
        "id": "74QbmTv_tbth",
        "outputId": "176953bc-f3f4-425d-f53d-a81b27bbf116"
      },
      "outputs": [
        {
          "data": {
            "text/plain": [
              "XGBClassifier(base_score=None, booster=None, callbacks=None,\n",
              "              colsample_bylevel=None, colsample_bynode=None,\n",
              "              colsample_bytree=0.8925879806965068, early_stopping_rounds=None,\n",
              "              enable_categorical=False, eval_metric=None, feature_types=None,\n",
              "              gamma=0.9983689107917987, gpu_id=None, grow_policy=None,\n",
              "              importance_type=None, interaction_constraints=None,\n",
              "              learning_rate=0.04297256589643226, max_bin=None,\n",
              "              max_cat_threshold=None, max_cat_to_onehot=None,\n",
              "              max_delta_step=None, max_depth=9, max_leaves=None,\n",
              "              min_child_weight=3, missing=nan, monotone_constraints=None,\n",
              "              n_estimators=71, n_jobs=None, num_parallel_tree=None,\n",
              "              objective='multi:softprob', predictor=None, ...)"
            ]
          },
          "execution_count": 136,
          "metadata": {},
          "output_type": "execute_result"
        }
      ],
      "source": [
        "best_classifier_XG.fit(X_train_val_selected_final_features, y_train_val)"
      ]
    },
    {
      "cell_type": "code",
      "execution_count": null,
      "metadata": {
        "id": "Y3kZHaantbth"
      },
      "outputs": [],
      "source": [
        "y_test_pred = best_classifier_XG.predict(X_test_selected)"
      ]
    },
    {
      "cell_type": "code",
      "execution_count": null,
      "metadata": {
        "id": "j35goERttbti"
      },
      "outputs": [],
      "source": [
        "accuracy = accuracy_score(y_test, y_test_pred)\n",
        "recall = recall_score(y_test, y_test_pred, average='weighted')\n",
        "f1 = f1_score(y_test, y_test_pred, average='weighted')\n",
        "precision = precision_score(y_test, y_test_pred, average='weighted')"
      ]
    },
    {
      "cell_type": "code",
      "execution_count": null,
      "metadata": {
        "id": "E85-9jvftbti"
      },
      "outputs": [],
      "source": [
        "balanced_acc_mrmr_XG = balanced_accuracy_score(y_test, y_test_pred)\n",
        "recall_mrmr_XG = recall_score(y_test, y_test_pred, average='weighted')\n",
        "f1_mrmr_XG = f1_score(y_test, y_test_pred, average='weighted')\n",
        "precision_mrmr_XG = precision_score(y_test, y_test_pred, average='weighted')"
      ]
    },
    {
      "cell_type": "code",
      "execution_count": null,
      "metadata": {
        "id": "wsgJra2Ztbti",
        "outputId": "93f9aa5c-92c2-4a1a-e526-2b4c725ab60d"
      },
      "outputs": [
        {
          "name": "stdout",
          "output_type": "stream",
          "text": [
            "XGBoost\n",
            "\n",
            "Accuracy: 0.7902097902097902\n",
            "F1 Score: 0.782093679706861\n",
            "Precision: 0.7939109711836984\n",
            "Recall: 0.7902097902097902\n"
          ]
        }
      ],
      "source": [
        "print(\"XGBoost\\n\")\n",
        "print(\"Accuracy:\", balanced_acc_mrmr_XG)\n",
        "print(\"F1 Score:\", f1_mrmr_XG)\n",
        "print(\"Precision:\", precision_mrmr_XG)\n",
        "print(\"Recall:\", recall_mrmr_XG)"
      ]
    },
    {
      "cell_type": "markdown",
      "metadata": {
        "id": "9aKLyFi2ta3S"
      },
      "source": [
        "## Logistic Regression"
      ]
    },
    {
      "cell_type": "markdown",
      "metadata": {
        "id": "RmOJNVlbta3T"
      },
      "source": [
        "#### Cross val for hyperparameter tunning and feature selection"
      ]
    },
    {
      "cell_type": "code",
      "execution_count": null,
      "metadata": {
        "id": "mPtRfbi2tbtk"
      },
      "outputs": [],
      "source": [
        "# Define the number of folds for cross-validation\n",
        "n_folds = 5"
      ]
    },
    {
      "cell_type": "code",
      "execution_count": null,
      "metadata": {
        "id": "JQkvdpCQtbtl"
      },
      "outputs": [],
      "source": [
        "def perform_feature_selection(X_train_val, y_train_val):\n",
        "    X_train_features, X_hyperparam_opt, y_train_features, y_hyperparam_opt = train_test_split(X_train_val, y_train_val, train_size=0.30, random_state=42)\n",
        "    # Perform feature selection on X_train_val\n",
        "    X_train_val_df = pd.DataFrame(X_train_features)\n",
        "    y_train_val_df = pd.DataFrame(y_train_features)\n",
        "    X_hyperparam_opt = pd.DataFrame(X_hyperparam_opt)\n",
        "    y_hyperparam_opt = pd.DataFrame(y_hyperparam_opt)\n",
        "    selected_features = mrmr_classif(X_train_val_df, y_train_val_df, K=300)\n",
        "    X_train_val_selected = X_hyperparam_opt.loc[:, selected_features]\n",
        "\n",
        "    return X_train_val_selected, y_hyperparam_opt,selected_features"
      ]
    },
    {
      "cell_type": "code",
      "execution_count": null,
      "metadata": {
        "id": "g7l3-_qwtbtl"
      },
      "outputs": [],
      "source": [
        "def objective_LR(trial, X_hyperparam_opt, y_hyperparam_opt,selected_features):\n",
        "\n",
        "  params = {\n",
        "              'tol' : trial.suggest_float('tol' , 1e-6 , 1e-3),\n",
        "              'C' : trial.suggest_float(\"C\", 1e-5, 100),\n",
        "              \"n_jobs\" : -1,\n",
        "              'solver': trial.suggest_categorical('solver', ['newton-cg', 'lbfgs', 'liblinear', 'sag', 'saga'])\n",
        "          }\n",
        "\n",
        "  # Instantiate the classifier with the current hyperparameters\n",
        "  classifier = LogisticRegression(**params)\n",
        "\n",
        "  # Perform cross-validation on the selected features\n",
        "  kf = StratifiedKFold(n_splits=n_folds, shuffle=True, random_state=42)\n",
        "  cv_scores = []\n",
        "\n",
        "  for train_index, val_index in kf.split(X_hyperparam_opt, y_hyperparam_opt):\n",
        "      X_train, X_val = X_hyperparam_opt.iloc[train_index], X_hyperparam_opt.iloc[val_index]\n",
        "      y_train, y_val = y_hyperparam_opt.iloc[train_index], y_hyperparam_opt.iloc[val_index]\n",
        "      # Fit the classifier on the selected features and evaluate on the validation set\n",
        "      classifier.fit(X_train, y_train)\n",
        "      y_pred = classifier.predict(X_val)\n",
        "      mcc = matthews_corrcoef(y_val, y_pred)\n",
        "      cv_scores.append(mcc)\n",
        "  # Calculate the average MCC\n",
        "  avg_mcc = np.mean(cv_scores)\n",
        "\n",
        "  return avg_mcc"
      ]
    },
    {
      "cell_type": "code",
      "execution_count": null,
      "metadata": {
        "id": "L9_QSv_ktbtn",
        "outputId": "1ca3144a-a812-4e75-fe5b-18a54f5daed5"
      },
      "outputs": [
        {
          "name": "stderr",
          "output_type": "stream",
          "text": [
            "100%|██████████| 300/300 [00:26<00:00, 11.44it/s]\n"
          ]
        }
      ],
      "source": [
        "# Perform feature selection\n",
        "X_hyperparam_opt, y_hyperparam_opt,selected_features = perform_feature_selection(X_train_val, y_train_val)"
      ]
    },
    {
      "cell_type": "code",
      "execution_count": null,
      "metadata": {
        "id": "gB6QUsUutbto"
      },
      "outputs": [],
      "source": [
        "# Define the objective function with selected features\n",
        "def objective(trial):\n",
        "    return objective_LR(trial, X_hyperparam_opt, y_hyperparam_opt,selected_features)"
      ]
    },
    {
      "cell_type": "code",
      "execution_count": null,
      "metadata": {
        "id": "oEFwUgnstbtp",
        "outputId": "b7a3c2f6-94ef-4711-8b9d-0de36a388d31"
      },
      "outputs": [
        {
          "name": "stderr",
          "output_type": "stream",
          "text": [
            "[I 2023-07-02 21:15:58,798] A new study created in memory with name: no-name-02a97ff4-7f2f-4a01-a06c-ea0d899c232c\n",
            "[I 2023-07-02 21:16:10,733] Trial 0 finished with value: 0.693096016315474 and parameters: {'tol': 0.0003751655787285152, 'C': 95.07143113384855, 'solver': 'newton-cg'}. Best is trial 0 with value: 0.693096016315474.\n",
            "[I 2023-07-02 21:16:21,225] Trial 1 finished with value: 0.6381526668702269 and parameters: {'tol': 0.0008663099696291604, 'C': 60.11150516317076, 'solver': 'liblinear'}. Best is trial 0 with value: 0.693096016315474.\n",
            "[I 2023-07-02 21:16:41,770] Trial 2 finished with value: 0.7176892927578995 and parameters: {'tol': 0.00018264314223989352, 'C': 18.340459151298283, 'solver': 'saga'}. Best is trial 2 with value: 0.7176892927578995.\n",
            "[I 2023-07-02 21:16:53,889] Trial 3 finished with value: 0.6517831229337533 and parameters: {'tol': 0.0001403543667913898, 'C': 29.21447193207533, 'solver': 'liblinear'}. Best is trial 2 with value: 0.7176892927578995.\n",
            "[I 2023-07-02 21:17:14,486] Trial 4 finished with value: 0.7150438264325125 and parameters: {'tol': 0.0005928221542931806, 'C': 4.645050807495645, 'solver': 'saga'}. Best is trial 2 with value: 0.7176892927578995.\n"
          ]
        }
      ],
      "source": [
        "study = optuna.create_study(direction='maximize', sampler=RandomSampler(seed=42))\n",
        "study.optimize(objective, n_trials=5)"
      ]
    },
    {
      "cell_type": "markdown",
      "source": [
        "### Get best parameters and perform predictions"
      ],
      "metadata": {
        "id": "Dd99teBlNcgi"
      }
    },
    {
      "cell_type": "code",
      "execution_count": null,
      "metadata": {
        "id": "fTpCo-kGtbtp"
      },
      "outputs": [],
      "source": [
        "# Get the best hyperparameters from Optuna\n",
        "best_params = study.best_params"
      ]
    },
    {
      "cell_type": "code",
      "execution_count": null,
      "metadata": {
        "id": "GFSCDKYRtbtp",
        "outputId": "722887eb-1a39-47fd-af3b-bc4634c73d57"
      },
      "outputs": [
        {
          "data": {
            "text/plain": [
              "{'tol': 0.00018264314223989352, 'C': 18.340459151298283, 'solver': 'saga'}"
            ]
          },
          "execution_count": 148,
          "metadata": {},
          "output_type": "execute_result"
        }
      ],
      "source": [
        "best_params #42 random seed"
      ]
    },
    {
      "cell_type": "code",
      "execution_count": null,
      "metadata": {
        "id": "5TZS4vGstbtq"
      },
      "outputs": [],
      "source": [
        "X_test_selected = X_test[:, selected_features]"
      ]
    },
    {
      "cell_type": "code",
      "execution_count": null,
      "metadata": {
        "id": "PNJ6CvZOtbtq",
        "outputId": "8d410b09-2a2f-47de-b5f9-ca545b3bfad9"
      },
      "outputs": [
        {
          "data": {
            "text/plain": [
              "(286, 300)"
            ]
          },
          "execution_count": 150,
          "metadata": {},
          "output_type": "execute_result"
        }
      ],
      "source": [
        "X_test_selected.shape"
      ]
    },
    {
      "cell_type": "code",
      "execution_count": null,
      "metadata": {
        "id": "etKHDLNetbtr"
      },
      "outputs": [],
      "source": [
        "X_train_val_selected_final_features = X_train_val[:, selected_features]"
      ]
    },
    {
      "cell_type": "code",
      "execution_count": null,
      "metadata": {
        "id": "eFhuFJ6Dtbtr",
        "outputId": "0fbb7e53-0ba8-4256-fd60-b57f331884b1"
      },
      "outputs": [
        {
          "data": {
            "text/plain": [
              "(1141, 300)"
            ]
          },
          "execution_count": 152,
          "metadata": {},
          "output_type": "execute_result"
        }
      ],
      "source": [
        "X_train_val_selected_final_features.shape"
      ]
    },
    {
      "cell_type": "code",
      "execution_count": null,
      "metadata": {
        "id": "mu2O2ZrZtbtr"
      },
      "outputs": [],
      "source": [
        "best_classifier_LR = LogisticRegression(**best_params)"
      ]
    },
    {
      "cell_type": "code",
      "execution_count": null,
      "metadata": {
        "id": "f-QBGJPZtbtr",
        "outputId": "7022f277-3dc1-4b52-c1f2-2ab88c601277"
      },
      "outputs": [
        {
          "data": {
            "text/plain": [
              "LogisticRegression(C=18.340459151298283, solver='saga',\n",
              "                   tol=0.00018264314223989352)"
            ]
          },
          "execution_count": 154,
          "metadata": {},
          "output_type": "execute_result"
        }
      ],
      "source": [
        "best_classifier_LR.fit(X_train_val_selected_final_features, y_train_val)"
      ]
    },
    {
      "cell_type": "code",
      "execution_count": null,
      "metadata": {
        "id": "biZGVJi-tbts"
      },
      "outputs": [],
      "source": [
        "y_test_pred = best_classifier_LR.predict(X_test_selected)"
      ]
    },
    {
      "cell_type": "code",
      "execution_count": null,
      "metadata": {
        "id": "FNLyWp54tbts"
      },
      "outputs": [],
      "source": [
        "accuracy = accuracy_score(y_test, y_test_pred)\n",
        "recall = recall_score(y_test, y_test_pred, average='weighted')\n",
        "f1 = f1_score(y_test, y_test_pred, average='weighted')\n",
        "precision = precision_score(y_test, y_test_pred, average='weighted')"
      ]
    },
    {
      "cell_type": "code",
      "execution_count": null,
      "metadata": {
        "id": "MYych1letbts"
      },
      "outputs": [],
      "source": [
        "balanced_acc_mrmr_LG = balanced_accuracy_score(y_test, y_test_pred)\n",
        "recall_mrmr_LG = recall_score(y_test, y_test_pred, average='weighted')\n",
        "f1_mrmr_LG = f1_score(y_test, y_test_pred, average='weighted')\n",
        "precision_mrmr_LG = precision_score(y_test, y_test_pred, average='weighted')"
      ]
    },
    {
      "cell_type": "code",
      "execution_count": null,
      "metadata": {
        "id": "I14DZlM6tbts",
        "outputId": "5b944c0d-330a-4044-cd77-93062232792f"
      },
      "outputs": [
        {
          "name": "stdout",
          "output_type": "stream",
          "text": [
            "Logistic Regression\n",
            "\n",
            "Accuracy: 0.8006993006993007\n",
            "F1 Score: 0.7989390592687791\n",
            "Precision: 0.8084145041477803\n",
            "Recall: 0.8006993006993007\n"
          ]
        }
      ],
      "source": [
        "print(\"Logistic Regression\\n\")\n",
        "print(\"Accuracy:\", balanced_acc_mrmr_LG)\n",
        "print(\"F1 Score:\", f1_mrmr_LG)\n",
        "print(\"Precision:\", precision_mrmr_LG)\n",
        "print(\"Recall:\", recall_mrmr_LG)"
      ]
    },
    {
      "cell_type": "markdown",
      "metadata": {
        "id": "zjIpmMJAta3d"
      },
      "source": [
        "## GaussianNB"
      ]
    },
    {
      "cell_type": "markdown",
      "metadata": {
        "id": "XFSCVozPta3d"
      },
      "source": [
        "#### Cross val for hyperparameter tunning and feature selection"
      ]
    },
    {
      "cell_type": "code",
      "execution_count": null,
      "metadata": {
        "id": "5yOcQv6pta3e"
      },
      "outputs": [],
      "source": [
        "# Define the number of folds for cross-validation\n",
        "n_folds = 5"
      ]
    },
    {
      "cell_type": "code",
      "execution_count": null,
      "metadata": {
        "id": "hL94SEuRtbtt"
      },
      "outputs": [],
      "source": [
        "def perform_feature_selection(X_train_val, y_train_val):\n",
        "    X_train_features, X_hyperparam_opt, y_train_features, y_hyperparam_opt = train_test_split(X_train_val, y_train_val, train_size=0.30, random_state=42)\n",
        "    # Perform feature selection on X_train_val\n",
        "    X_train_val_df = pd.DataFrame(X_train_features)\n",
        "    y_train_val_df = pd.DataFrame(y_train_features)\n",
        "    X_hyperparam_opt = pd.DataFrame(X_hyperparam_opt)\n",
        "    y_hyperparam_opt = pd.DataFrame(y_hyperparam_opt)\n",
        "    selected_features = mrmr_classif(X_train_val_df, y_train_val_df, K=300)\n",
        "    X_train_val_selected = X_hyperparam_opt.loc[:, selected_features]\n",
        "\n",
        "    return X_train_val_selected, y_hyperparam_opt,selected_features"
      ]
    },
    {
      "cell_type": "code",
      "execution_count": null,
      "metadata": {
        "id": "5Xv1MwuOtbtt"
      },
      "outputs": [],
      "source": [
        "def objective_GNB(trial, X_hyperparam_opt, y_hyperparam_opt,selected_features):\n",
        "\n",
        "  params = {\n",
        "            'var_smoothing': trial.suggest_float('var_smoothing', 1e-10, 1e-3, log=True)\n",
        "          }\n",
        "\n",
        "  # Instantiate the classifier with the current hyperparameters\n",
        "  #classifier = XGBClassifier(eta=eta,gamma=gamma ,min_child_weight=min_child_weight,max_delta_step=max_delta_step,subsample=subsample)\n",
        "  classifier = GaussianNB(**params)\n",
        "\n",
        "  # Perform cross-validation on the selected features\n",
        "  kf = StratifiedKFold(n_splits=n_folds, shuffle=True, random_state=42)\n",
        "  cv_scores = []\n",
        "\n",
        "  for train_index, val_index in kf.split(X_hyperparam_opt, y_hyperparam_opt):\n",
        "      X_train, X_val = X_hyperparam_opt.iloc[train_index], X_hyperparam_opt.iloc[val_index]\n",
        "      y_train, y_val = y_hyperparam_opt.iloc[train_index], y_hyperparam_opt.iloc[val_index]\n",
        "      # Fit the classifier on the selected features and evaluate on the validation set\n",
        "      classifier.fit(X_train, y_train)\n",
        "      y_pred = classifier.predict(X_val)\n",
        "      mcc = matthews_corrcoef(y_val, y_pred)\n",
        "      cv_scores.append(mcc)\n",
        "  # Calculate the average MCC\n",
        "  avg_mcc = np.mean(cv_scores)\n",
        "\n",
        "  return avg_mcc"
      ]
    },
    {
      "cell_type": "code",
      "execution_count": null,
      "metadata": {
        "id": "KsPJf91otbtu",
        "outputId": "dc703693-3168-4442-c04d-4cf050ef2819"
      },
      "outputs": [
        {
          "name": "stderr",
          "output_type": "stream",
          "text": [
            "100%|██████████| 300/300 [00:26<00:00, 11.46it/s]\n"
          ]
        }
      ],
      "source": [
        "# Perform feature selection\n",
        "X_hyperparam_opt, y_hyperparam_opt,selected_features = perform_feature_selection(X_train_val, y_train_val)"
      ]
    },
    {
      "cell_type": "code",
      "execution_count": null,
      "metadata": {
        "id": "mHPVcLFWtbtu"
      },
      "outputs": [],
      "source": [
        "# Define the objective function with selected features\n",
        "def objective(trial):\n",
        "    return objective_GNB(trial, X_hyperparam_opt, y_hyperparam_opt,selected_features)"
      ]
    },
    {
      "cell_type": "code",
      "execution_count": null,
      "metadata": {
        "id": "yZnHi9xgtbtv",
        "outputId": "ca0bf6e4-4cd2-4d84-e34d-eeb2665efbc7"
      },
      "outputs": [
        {
          "name": "stderr",
          "output_type": "stream",
          "text": [
            "[I 2023-07-02 21:18:30,178] A new study created in memory with name: no-name-d460413a-a380-457c-84ea-e0e73abaaff4\n",
            "[I 2023-07-02 21:18:30,405] Trial 0 finished with value: 0.6059962015409281 and parameters: {'var_smoothing': 4.185822729546966e-08}. Best is trial 0 with value: 0.6059962015409281.\n",
            "[I 2023-07-02 21:18:30,596] Trial 1 finished with value: 0.6839708601428027 and parameters: {'var_smoothing': 0.0004518560951024107}. Best is trial 1 with value: 0.6839708601428027.\n",
            "[I 2023-07-02 21:18:30,784] Trial 2 finished with value: 0.6200570892814052 and parameters: {'var_smoothing': 1.3303245101522907e-05}. Best is trial 1 with value: 0.6839708601428027.\n",
            "[I 2023-07-02 21:18:30,980] Trial 3 finished with value: 0.6141912620007515 and parameters: {'var_smoothing': 1.5509913987594307e-06}. Best is trial 1 with value: 0.6839708601428027.\n",
            "[I 2023-07-02 21:18:31,171] Trial 4 finished with value: 0.5953611225555301 and parameters: {'var_smoothing': 1.2363188277052218e-09}. Best is trial 1 with value: 0.6839708601428027.\n",
            "[I 2023-07-02 21:18:31,367] Trial 5 finished with value: 0.5953611225555301 and parameters: {'var_smoothing': 1.2358382772306896e-09}. Best is trial 1 with value: 0.6839708601428027.\n",
            "[I 2023-07-02 21:18:31,564] Trial 6 finished with value: 0.592776386844595 and parameters: {'var_smoothing': 2.5502648504032847e-10}. Best is trial 1 with value: 0.6839708601428027.\n",
            "[I 2023-07-02 21:18:31,755] Trial 7 finished with value: 0.6592289090281847 and parameters: {'var_smoothing': 0.00011567327199145979}. Best is trial 1 with value: 0.6839708601428027.\n",
            "[I 2023-07-02 21:18:31,940] Trial 8 finished with value: 0.6141912620007515 and parameters: {'var_smoothing': 1.6136341713591319e-06}. Best is trial 1 with value: 0.6839708601428027.\n",
            "[I 2023-07-02 21:18:32,133] Trial 9 finished with value: 0.6155992189591911 and parameters: {'var_smoothing': 9.047071957568391e-06}. Best is trial 1 with value: 0.6839708601428027.\n",
            "[I 2023-07-02 21:18:32,322] Trial 10 finished with value: 0.5930393791998 and parameters: {'var_smoothing': 1.3934502251337584e-10}. Best is trial 1 with value: 0.6839708601428027.\n",
            "[I 2023-07-02 21:18:32,509] Trial 11 finished with value: 0.6870828295389144 and parameters: {'var_smoothing': 0.00061569973282352}. Best is trial 11 with value: 0.6870828295389144.\n",
            "[I 2023-07-02 21:18:32,693] Trial 12 finished with value: 0.6448739999796725 and parameters: {'var_smoothing': 6.715811311069945e-05}. Best is trial 11 with value: 0.6870828295389144.\n",
            "[I 2023-07-02 21:18:32,876] Trial 13 finished with value: 0.5937542331746629 and parameters: {'var_smoothing': 3.064599841241147e-09}. Best is trial 11 with value: 0.6870828295389144.\n",
            "[I 2023-07-02 21:18:33,059] Trial 14 finished with value: 0.5923597406340717 and parameters: {'var_smoothing': 1.874022368883631e-09}. Best is trial 11 with value: 0.6870828295389144.\n",
            "[I 2023-07-02 21:18:33,238] Trial 15 finished with value: 0.5923597406340717 and parameters: {'var_smoothing': 1.922346047064363e-09}. Best is trial 11 with value: 0.6870828295389144.\n",
            "[I 2023-07-02 21:18:33,422] Trial 16 finished with value: 0.5978547126015462 and parameters: {'var_smoothing': 1.3480180290890788e-08}. Best is trial 11 with value: 0.6870828295389144.\n",
            "[I 2023-07-02 21:18:33,609] Trial 17 finished with value: 0.6085712205223084 and parameters: {'var_smoothing': 4.7129737561107815e-07}. Best is trial 11 with value: 0.6870828295389144.\n",
            "[I 2023-07-02 21:18:33,833] Trial 18 finished with value: 0.6058652858408744 and parameters: {'var_smoothing': 1.0558813779064848e-07}. Best is trial 11 with value: 0.6870828295389144.\n",
            "[I 2023-07-02 21:18:34,020] Trial 19 finished with value: 0.5978547126015462 and parameters: {'var_smoothing': 1.0929592787219375e-08}. Best is trial 11 with value: 0.6870828295389144.\n",
            "[I 2023-07-02 21:18:34,207] Trial 20 finished with value: 0.6141912620007515 and parameters: {'var_smoothing': 1.9185373703841914e-06}. Best is trial 11 with value: 0.6870828295389144.\n",
            "[I 2023-07-02 21:18:34,391] Trial 21 finished with value: 0.5953611225555301 and parameters: {'var_smoothing': 9.472334467618544e-10}. Best is trial 11 with value: 0.6870828295389144.\n",
            "[I 2023-07-02 21:18:34,574] Trial 22 finished with value: 0.5978547126015462 and parameters: {'var_smoothing': 1.1092068418536174e-08}. Best is trial 11 with value: 0.6870828295389144.\n",
            "[I 2023-07-02 21:18:34,754] Trial 23 finished with value: 0.6033433889686816 and parameters: {'var_smoothing': 3.6688748954991754e-08}. Best is trial 11 with value: 0.6870828295389144.\n",
            "[I 2023-07-02 21:18:34,933] Trial 24 finished with value: 0.6073593712991207 and parameters: {'var_smoothing': 1.5577217702693015e-07}. Best is trial 11 with value: 0.6870828295389144.\n",
            "[I 2023-07-02 21:18:35,127] Trial 25 finished with value: 0.6331337005409587 and parameters: {'var_smoothing': 3.134958021096909e-05}. Best is trial 11 with value: 0.6870828295389144.\n",
            "[I 2023-07-02 21:18:35,311] Trial 26 finished with value: 0.5923590452435308 and parameters: {'var_smoothing': 2.498713568466945e-09}. Best is trial 11 with value: 0.6870828295389144.\n",
            "[I 2023-07-02 21:18:35,493] Trial 27 finished with value: 0.6085056565447291 and parameters: {'var_smoothing': 3.97778283081119e-07}. Best is trial 11 with value: 0.6870828295389144.\n",
            "[I 2023-07-02 21:18:35,685] Trial 28 finished with value: 0.6141912620007515 and parameters: {'var_smoothing': 1.402497132660036e-06}. Best is trial 11 with value: 0.6870828295389144.\n",
            "[I 2023-07-02 21:18:35,871] Trial 29 finished with value: 0.5913487802215345 and parameters: {'var_smoothing': 2.1142332035497139e-10}. Best is trial 11 with value: 0.6870828295389144.\n",
            "[I 2023-07-02 21:18:36,050] Trial 30 finished with value: 0.6141912620007515 and parameters: {'var_smoothing': 1.7898389848671593e-06}. Best is trial 11 with value: 0.6870828295389144.\n",
            "[I 2023-07-02 21:18:36,235] Trial 31 finished with value: 0.5953611225555301 and parameters: {'var_smoothing': 1.5619562520792733e-09}. Best is trial 11 with value: 0.6870828295389144.\n",
            "[I 2023-07-02 21:18:36,412] Trial 32 finished with value: 0.592776386844595 and parameters: {'var_smoothing': 2.853390105240223e-10}. Best is trial 11 with value: 0.6870828295389144.\n",
            "[I 2023-07-02 21:18:36,595] Trial 33 finished with value: 0.6839708601428027 and parameters: {'var_smoothing': 0.0004387314432435404}. Best is trial 11 with value: 0.6870828295389144.\n",
            "[I 2023-07-02 21:18:36,794] Trial 34 finished with value: 0.6869599427355423 and parameters: {'var_smoothing': 0.0005746775499181862}. Best is trial 11 with value: 0.6870828295389144.\n",
            "[I 2023-07-02 21:18:36,975] Trial 35 finished with value: 0.6333953561970661 and parameters: {'var_smoothing': 4.55807468402733e-05}. Best is trial 11 with value: 0.6870828295389144.\n",
            "[I 2023-07-02 21:18:37,156] Trial 36 finished with value: 0.5978547126015462 and parameters: {'var_smoothing': 1.3561145768453489e-08}. Best is trial 11 with value: 0.6870828295389144.\n",
            "[I 2023-07-02 21:18:37,334] Trial 37 finished with value: 0.592776386844595 and parameters: {'var_smoothing': 4.827305651975699e-10}. Best is trial 11 with value: 0.6870828295389144.\n",
            "[I 2023-07-02 21:18:37,523] Trial 38 finished with value: 0.614127120791047 and parameters: {'var_smoothing': 6.1607159527745434e-06}. Best is trial 11 with value: 0.6870828295389144.\n",
            "[I 2023-07-02 21:18:37,703] Trial 39 finished with value: 0.6073593712991207 and parameters: {'var_smoothing': 1.20522312541456e-07}. Best is trial 11 with value: 0.6870828295389144.\n",
            "[I 2023-07-02 21:18:37,884] Trial 40 finished with value: 0.5954602801441997 and parameters: {'var_smoothing': 7.149367864959178e-10}. Best is trial 11 with value: 0.6870828295389144.\n",
            "[I 2023-07-02 21:18:38,057] Trial 41 finished with value: 0.6087035246691 and parameters: {'var_smoothing': 2.9257577949824413e-07}. Best is trial 11 with value: 0.6870828295389144.\n",
            "[I 2023-07-02 21:18:38,240] Trial 42 finished with value: 0.5930393791998 and parameters: {'var_smoothing': 1.740682839312808e-10}. Best is trial 11 with value: 0.6870828295389144.\n",
            "[I 2023-07-02 21:18:38,423] Trial 43 finished with value: 0.6705996942196 and parameters: {'var_smoothing': 0.0002318690670290197}. Best is trial 11 with value: 0.6870828295389144.\n",
            "[I 2023-07-02 21:18:38,606] Trial 44 finished with value: 0.5951529471506923 and parameters: {'var_smoothing': 6.478282331897327e-09}. Best is trial 11 with value: 0.6870828295389144.\n",
            "[I 2023-07-02 21:18:38,780] Trial 45 finished with value: 0.6126660975913685 and parameters: {'var_smoothing': 4.341661800361736e-06}. Best is trial 11 with value: 0.6870828295389144.\n",
            "[I 2023-07-02 21:18:38,959] Trial 46 finished with value: 0.5990787217046499 and parameters: {'var_smoothing': 1.520468869219889e-08}. Best is trial 11 with value: 0.6870828295389144.\n",
            "[I 2023-07-02 21:18:39,140] Trial 47 finished with value: 0.6085712205223084 and parameters: {'var_smoothing': 4.369946783595579e-07}. Best is trial 11 with value: 0.6870828295389144.\n",
            "[I 2023-07-02 21:18:39,322] Trial 48 finished with value: 0.6098991015319815 and parameters: {'var_smoothing': 6.713854967599219e-07}. Best is trial 11 with value: 0.6870828295389144.\n",
            "[I 2023-07-02 21:18:39,504] Trial 49 finished with value: 0.5923597406340717 and parameters: {'var_smoothing': 1.9678010532114953e-09}. Best is trial 11 with value: 0.6870828295389144.\n",
            "[I 2023-07-02 21:18:39,688] Trial 50 finished with value: 0.6870828295389144 and parameters: {'var_smoothing': 0.0006124806805925976}. Best is trial 11 with value: 0.6870828295389144.\n",
            "[I 2023-07-02 21:18:39,864] Trial 51 finished with value: 0.6317108577675167 and parameters: {'var_smoothing': 2.666427400467686e-05}. Best is trial 11 with value: 0.6870828295389144.\n",
            "[I 2023-07-02 21:18:40,044] Trial 52 finished with value: 0.6809269995233798 and parameters: {'var_smoothing': 0.00037713131110779903}. Best is trial 11 with value: 0.6870828295389144.\n",
            "[I 2023-07-02 21:18:40,228] Trial 53 finished with value: 0.6662323630948886 and parameters: {'var_smoothing': 0.0001835656654435508}. Best is trial 11 with value: 0.6870828295389144.\n",
            "[I 2023-07-02 21:18:40,413] Trial 54 finished with value: 0.6141912620007515 and parameters: {'var_smoothing': 1.5321449415450716e-06}. Best is trial 11 with value: 0.6870828295389144.\n",
            "[I 2023-07-02 21:18:40,596] Trial 55 finished with value: 0.6749809556994378 and parameters: {'var_smoothing': 0.0002838700963443627}. Best is trial 11 with value: 0.6870828295389144.\n",
            "[I 2023-07-02 21:18:40,780] Trial 56 finished with value: 0.592776386844595 and parameters: {'var_smoothing': 4.163394022669372e-10}. Best is trial 11 with value: 0.6870828295389144.\n",
            "[I 2023-07-02 21:18:40,958] Trial 57 finished with value: 0.5923590452435308 and parameters: {'var_smoothing': 2.3543988498504872e-09}. Best is trial 11 with value: 0.6870828295389144.\n",
            "[I 2023-07-02 21:18:41,139] Trial 58 finished with value: 0.5913487802215345 and parameters: {'var_smoothing': 2.0729604791291157e-10}. Best is trial 11 with value: 0.6870828295389144.\n",
            "[I 2023-07-02 21:18:41,322] Trial 59 finished with value: 0.603302882542821 and parameters: {'var_smoothing': 1.893704954163126e-08}. Best is trial 11 with value: 0.6870828295389144.\n",
            "[I 2023-07-02 21:18:41,502] Trial 60 finished with value: 0.6045053048642156 and parameters: {'var_smoothing': 5.2570369292136696e-08}. Best is trial 11 with value: 0.6870828295389144.\n",
            "[I 2023-07-02 21:18:41,683] Trial 61 finished with value: 0.595150751949858 and parameters: {'var_smoothing': 7.933105363733031e-09}. Best is trial 11 with value: 0.6870828295389144.\n",
            "[I 2023-07-02 21:18:41,864] Trial 62 finished with value: 0.6448739999796725 and parameters: {'var_smoothing': 6.326486185661583e-05}. Best is trial 11 with value: 0.6870828295389144.\n",
            "[I 2023-07-02 21:18:42,046] Trial 63 finished with value: 0.6034069201878037 and parameters: {'var_smoothing': 3.142485531883158e-08}. Best is trial 11 with value: 0.6870828295389144.\n",
            "[I 2023-07-02 21:18:42,223] Trial 64 finished with value: 0.5965300045760379 and parameters: {'var_smoothing': 9.258519973443778e-09}. Best is trial 11 with value: 0.6870828295389144.\n",
            "[I 2023-07-02 21:18:42,404] Trial 65 finished with value: 0.6098991015319815 and parameters: {'var_smoothing': 6.293215187893864e-07}. Best is trial 11 with value: 0.6870828295389144.\n",
            "[I 2023-07-02 21:18:42,590] Trial 66 finished with value: 0.5953611225555301 and parameters: {'var_smoothing': 9.693253593230319e-10}. Best is trial 11 with value: 0.6870828295389144.\n",
            "[I 2023-07-02 21:18:42,775] Trial 67 finished with value: 0.6347191371070042 and parameters: {'var_smoothing': 4.1245717727594184e-05}. Best is trial 11 with value: 0.6870828295389144.\n",
            "[I 2023-07-02 21:18:42,959] Trial 68 finished with value: 0.592776386844595 and parameters: {'var_smoothing': 3.325481267274218e-10}. Best is trial 11 with value: 0.6870828295389144.\n",
            "[I 2023-07-02 21:18:43,141] Trial 69 finished with value: 0.6884616551303682 and parameters: {'var_smoothing': 0.0008094845352286139}. Best is trial 69 with value: 0.6884616551303682.\n",
            "[I 2023-07-02 21:18:43,323] Trial 70 finished with value: 0.6317108577675167 and parameters: {'var_smoothing': 2.545150013091292e-05}. Best is trial 69 with value: 0.6884616551303682.\n",
            "[I 2023-07-02 21:18:43,503] Trial 71 finished with value: 0.5923590452435308 and parameters: {'var_smoothing': 2.460422958018417e-09}. Best is trial 69 with value: 0.6884616551303682.\n",
            "[I 2023-07-02 21:18:43,690] Trial 72 finished with value: 0.5931171959812863 and parameters: {'var_smoothing': 1.0930872279404526e-10}. Best is trial 69 with value: 0.6884616551303682.\n",
            "[I 2023-07-02 21:18:43,876] Trial 73 finished with value: 0.6377515084203755 and parameters: {'var_smoothing': 5.107754312955834e-05}. Best is trial 69 with value: 0.6884616551303682.\n",
            "[I 2023-07-02 21:18:44,055] Trial 74 finished with value: 0.6155992189591911 and parameters: {'var_smoothing': 8.871588860587616e-06}. Best is trial 69 with value: 0.6884616551303682.\n",
            "[I 2023-07-02 21:18:44,232] Trial 75 finished with value: 0.6200570892814052 and parameters: {'var_smoothing': 1.267798332692875e-05}. Best is trial 69 with value: 0.6884616551303682.\n",
            "[I 2023-07-02 21:18:44,410] Trial 76 finished with value: 0.6317108577675167 and parameters: {'var_smoothing': 2.5054885755573557e-05}. Best is trial 69 with value: 0.6884616551303682.\n",
            "[I 2023-07-02 21:18:44,596] Trial 77 finished with value: 0.592776386844595 and parameters: {'var_smoothing': 3.298470179752563e-10}. Best is trial 69 with value: 0.6884616551303682.\n",
            "[I 2023-07-02 21:18:44,778] Trial 78 finished with value: 0.6034069201878037 and parameters: {'var_smoothing': 3.2304282522409615e-08}. Best is trial 69 with value: 0.6884616551303682.\n",
            "[I 2023-07-02 21:18:44,961] Trial 79 finished with value: 0.5954602801441997 and parameters: {'var_smoothing': 6.472669269538624e-10}. Best is trial 69 with value: 0.6884616551303682.\n",
            "[I 2023-07-02 21:18:45,160] Trial 80 finished with value: 0.6564604257246447 and parameters: {'var_smoothing': 0.0001100839441018131}. Best is trial 69 with value: 0.6884616551303682.\n",
            "[I 2023-07-02 21:18:45,341] Trial 81 finished with value: 0.6140700598830462 and parameters: {'var_smoothing': 2.3072087378099e-06}. Best is trial 69 with value: 0.6884616551303682.\n",
            "[I 2023-07-02 21:18:45,516] Trial 82 finished with value: 0.6018911689015252 and parameters: {'var_smoothing': 2.0715058970816234e-08}. Best is trial 69 with value: 0.6884616551303682.\n",
            "[I 2023-07-02 21:18:45,695] Trial 83 finished with value: 0.592776386844595 and parameters: {'var_smoothing': 2.785533924389101e-10}. Best is trial 69 with value: 0.6884616551303682.\n",
            "[I 2023-07-02 21:18:45,871] Trial 84 finished with value: 0.5990787217046499 and parameters: {'var_smoothing': 1.5027137214154533e-08}. Best is trial 69 with value: 0.6884616551303682.\n",
            "[I 2023-07-02 21:18:46,050] Trial 85 finished with value: 0.603302882542821 and parameters: {'var_smoothing': 1.889223130553437e-08}. Best is trial 69 with value: 0.6884616551303682.\n",
            "[I 2023-07-02 21:18:46,228] Trial 86 finished with value: 0.6200570892814052 and parameters: {'var_smoothing': 1.2800980864220754e-05}. Best is trial 69 with value: 0.6884616551303682.\n",
            "[I 2023-07-02 21:18:46,407] Trial 87 finished with value: 0.6140519748575626 and parameters: {'var_smoothing': 2.9033694281285623e-06}. Best is trial 69 with value: 0.6884616551303682.\n",
            "[I 2023-07-02 21:18:46,591] Trial 88 finished with value: 0.6662068111081348 and parameters: {'var_smoothing': 0.00016236379661338317}. Best is trial 69 with value: 0.6884616551303682.\n",
            "[I 2023-07-02 21:18:46,773] Trial 89 finished with value: 0.6073593712991207 and parameters: {'var_smoothing': 2.0207122587167362e-07}. Best is trial 69 with value: 0.6884616551303682.\n",
            "[I 2023-07-02 21:18:46,953] Trial 90 finished with value: 0.5954602801441997 and parameters: {'var_smoothing': 6.873211713642716e-10}. Best is trial 69 with value: 0.6884616551303682.\n",
            "[I 2023-07-02 21:18:47,131] Trial 91 finished with value: 0.6185958037543731 and parameters: {'var_smoothing': 9.833622008382918e-06}. Best is trial 69 with value: 0.6884616551303682.\n",
            "[I 2023-07-02 21:18:47,308] Trial 92 finished with value: 0.6288064134260694 and parameters: {'var_smoothing': 2.1159009829538346e-05}. Best is trial 69 with value: 0.6884616551303682.\n",
            "[I 2023-07-02 21:18:47,481] Trial 93 finished with value: 0.6084230382646505 and parameters: {'var_smoothing': 8.490639132761158e-07}. Best is trial 69 with value: 0.6884616551303682.\n",
            "[I 2023-07-02 21:18:47,656] Trial 94 finished with value: 0.6317108577675167 and parameters: {'var_smoothing': 2.4932754437140142e-05}. Best is trial 69 with value: 0.6884616551303682.\n",
            "[I 2023-07-02 21:18:47,834] Trial 95 finished with value: 0.6087035246691 and parameters: {'var_smoothing': 2.861338079089885e-07}. Best is trial 69 with value: 0.6884616551303682.\n",
            "[I 2023-07-02 21:18:48,007] Trial 96 finished with value: 0.6085712205223084 and parameters: {'var_smoothing': 4.5617324056306345e-07}. Best is trial 69 with value: 0.6884616551303682.\n",
            "[I 2023-07-02 21:18:48,187] Trial 97 finished with value: 0.6058652858408744 and parameters: {'var_smoothing': 9.835289062589968e-08}. Best is trial 69 with value: 0.6884616551303682.\n",
            "[I 2023-07-02 21:18:48,364] Trial 98 finished with value: 0.5930393791998 and parameters: {'var_smoothing': 1.5063777323554432e-10}. Best is trial 69 with value: 0.6884616551303682.\n",
            "[I 2023-07-02 21:18:48,546] Trial 99 finished with value: 0.5954602801441997 and parameters: {'var_smoothing': 5.691673629899875e-10}. Best is trial 69 with value: 0.6884616551303682.\n"
          ]
        }
      ],
      "source": [
        "study = optuna.create_study(direction='maximize', sampler=RandomSampler(seed=42))\n",
        "study.optimize(objective, n_trials=100)"
      ]
    },
    {
      "cell_type": "code",
      "execution_count": null,
      "metadata": {
        "id": "6cWzMoIrtbtv"
      },
      "outputs": [],
      "source": [
        "# Get the best hyperparameters from Optuna\n",
        "best_params = study.best_params"
      ]
    },
    {
      "cell_type": "code",
      "execution_count": null,
      "metadata": {
        "id": "2thxGiC8tbtw",
        "outputId": "f7efeba9-8928-48f9-d707-f5a0b748dd49"
      },
      "outputs": [
        {
          "data": {
            "text/plain": [
              "{'var_smoothing': 0.0008094845352286139}"
            ]
          },
          "execution_count": 166,
          "metadata": {},
          "output_type": "execute_result"
        }
      ],
      "source": [
        "best_params #42 random seed"
      ]
    },
    {
      "cell_type": "markdown",
      "metadata": {
        "id": "GUbvCpwNtbtw"
      },
      "source": [
        "#### Get best parameters and make predictions"
      ]
    },
    {
      "cell_type": "code",
      "execution_count": null,
      "metadata": {
        "id": "1vhalqbZtbtw"
      },
      "outputs": [],
      "source": [
        "#selected_features_indices = [i for i, value in enumerate(best_features) if value]\n",
        "X_test_selected = X_test[:, selected_features]"
      ]
    },
    {
      "cell_type": "code",
      "execution_count": null,
      "metadata": {
        "id": "Yaug7rzRtbtx",
        "outputId": "19919ca1-4a81-45fb-f4ff-1d91e3e00f70"
      },
      "outputs": [
        {
          "data": {
            "text/plain": [
              "(286, 300)"
            ]
          },
          "execution_count": 168,
          "metadata": {},
          "output_type": "execute_result"
        }
      ],
      "source": [
        "X_test_selected.shape"
      ]
    },
    {
      "cell_type": "code",
      "execution_count": null,
      "metadata": {
        "id": "CtL-_Oletbty"
      },
      "outputs": [],
      "source": [
        "X_train_val_selected_final_features = X_train_val[:, selected_features]"
      ]
    },
    {
      "cell_type": "code",
      "execution_count": null,
      "metadata": {
        "id": "yQgLqE8Jtbty"
      },
      "outputs": [],
      "source": [
        "best_classifier_GNB = GaussianNB(**best_params)"
      ]
    },
    {
      "cell_type": "code",
      "execution_count": null,
      "metadata": {
        "id": "oJYoO-WFtbtz",
        "outputId": "69449f8b-7484-4ac8-c6f7-765873f5ec86"
      },
      "outputs": [
        {
          "data": {
            "text/plain": [
              "GaussianNB(var_smoothing=0.0008094845352286139)"
            ]
          },
          "execution_count": 171,
          "metadata": {},
          "output_type": "execute_result"
        }
      ],
      "source": [
        "best_classifier_GNB.fit(X_train_val_selected_final_features, y_train_val)"
      ]
    },
    {
      "cell_type": "code",
      "execution_count": null,
      "metadata": {
        "id": "G-I4ZHWOtbtz"
      },
      "outputs": [],
      "source": [
        "y_test_pred = best_classifier_GNB.predict(X_test_selected)"
      ]
    },
    {
      "cell_type": "code",
      "execution_count": null,
      "metadata": {
        "id": "_I5oZ-o8tbt0"
      },
      "outputs": [],
      "source": [
        "accuracy = accuracy_score(y_test, y_test_pred)\n",
        "recall = recall_score(y_test, y_test_pred, average='weighted')\n",
        "f1 = f1_score(y_test, y_test_pred, average='weighted')\n",
        "precision = precision_score(y_test, y_test_pred, average='weighted')"
      ]
    },
    {
      "cell_type": "code",
      "execution_count": null,
      "metadata": {
        "id": "5sg14Iqitbt0"
      },
      "outputs": [],
      "source": [
        "balanced_acc_mrmr_GNB = balanced_accuracy_score(y_test, y_test_pred)\n",
        "recall_mrmr_GNB = recall_score(y_test, y_test_pred, average='weighted')\n",
        "f1_mrmr_GNB = f1_score(y_test, y_test_pred, average='weighted')\n",
        "precision_mrmr_GNB = precision_score(y_test, y_test_pred, average='weighted')"
      ]
    },
    {
      "cell_type": "code",
      "execution_count": null,
      "metadata": {
        "id": "Bd2JbCBttbt0",
        "outputId": "eaf8823c-d3ce-4516-e2e4-ff842a674f9b"
      },
      "outputs": [
        {
          "name": "stdout",
          "output_type": "stream",
          "text": [
            "Gaussian Naive Bayes\n",
            "\n",
            "Accuracy: 0.7307692307692307\n",
            "F1 Score: 0.7326914824295795\n",
            "Precision: 0.7546930570313392\n",
            "Recall: 0.7307692307692307\n"
          ]
        }
      ],
      "source": [
        "print(\"Gaussian Naive Bayes\\n\")\n",
        "print(\"Accuracy:\", balanced_acc_mrmr_GNB)\n",
        "print(\"F1 Score:\", f1_mrmr_GNB)\n",
        "print(\"Precision:\", precision_mrmr_GNB)\n",
        "print(\"Recall:\", recall_mrmr_GNB)"
      ]
    },
    {
      "cell_type": "markdown",
      "source": [
        "# Plots"
      ],
      "metadata": {
        "id": "7ekv3sFrOK_G"
      }
    },
    {
      "cell_type": "code",
      "execution_count": null,
      "metadata": {
        "id": "Q6WlDWH_tbt0"
      },
      "outputs": [],
      "source": [
        "def plot_results(anova_scores, mrmr_scores, metric):\n",
        "    classifiers = [\"LogisticReg\", \"RandomForest\", \"GaussianNB\", \"SVC\", \"XGBoost\"]\n",
        "    plt.figure(figsize=(10, 6))\n",
        "    plt.plot(classifiers, anova_scores, marker='o', label='ANOVA')\n",
        "    plt.plot(classifiers, mrmr_scores, marker='o', label='mRMR')\n",
        "    plt.xlabel('Classifiers')\n",
        "    plt.ylabel(metric)\n",
        "    plt.title('Comparison of Classifiers across Feature Selection Methods (Balanced Accuracy)')\n",
        "    plt.legend()\n",
        "    plt.show()"
      ]
    },
    {
      "cell_type": "code",
      "execution_count": null,
      "metadata": {
        "id": "LP0_BDI_tbt0"
      },
      "outputs": [],
      "source": [
        "def print_variable_name(variable):\n",
        "    for name, value in globals().items():  # Use 'locals()' instead of 'globals()' for local variables.\n",
        "        if value is variable:\n",
        "            #print(name)\n",
        "            return name"
      ]
    },
    {
      "cell_type": "code",
      "execution_count": null,
      "metadata": {
        "id": "a_yEuURptbt1",
        "outputId": "ce74e6e8-e9fa-46fe-b1a1-74578f0d0f01"
      },
      "outputs": [
        {
          "data": {
            "image/png": "[encoded data removed]",
            "text/plain": [
              "<Figure size 720x432 with 1 Axes>"
            ]
          },
          "metadata": {
            "needs_background": "light"
          },
          "output_type": "display_data"
        },
        {
          "name": "stdout",
          "output_type": "stream",
          "text": [
            "balanced_acc_LG 0.7588067811512786\n",
            "balanced_acc_RF 0.703756568158482\n",
            "balanced_acc_GNB 0.6923907656443542\n",
            "balanced_acc_SVC 0.7421364677824008\n",
            "balanced_acc_XG 0.7415178128575257\n",
            "balanced_acc_mrmr_LG 0.8000264811269595\n",
            "balanced_acc_mrmr_RF 0.7276185292931704\n",
            "balanced_acc_mrmr_GNB 0.7303797339682506\n",
            "balanced_acc_mrmr_SVC 0.7695706848816897\n",
            "balanced_acc_mrmr_XG 0.7326108204098635\n"
          ]
        }
      ],
      "source": [
        "anova_scores = [balanced_acc_LG, balanced_acc_RF, balanced_acc_GNB, balanced_acc_SVC, balanced_acc_XG]\n",
        "mrmr_scores = [balanced_acc_mrmr_LG, balanced_acc_mrmr_RF, balanced_acc_mrmr_GNB, balanced_acc_mrmr_SVC, balanced_acc_mrmr_XG]\n",
        "plot_results(anova_scores, mrmr_scores, 'Balanced Accuracy')\n",
        "for anova_score in anova_scores:\n",
        "    print(print_variable_name(anova_score), anova_score)\n",
        "\n",
        "for mrmr_score in mrmr_scores:\n",
        "    print(print_variable_name(mrmr_score), mrmr_score)"
      ]
    },
    {
      "cell_type": "code",
      "execution_count": null,
      "metadata": {
        "id": "bc0VYWTvtbt1",
        "outputId": "7c05f403-b54a-470e-e773-fa05b23571db"
      },
      "outputs": [
        {
          "data": {
            "image/png": "[encoded data removed]",
            "text/plain": [
              "<Figure size 720x432 with 1 Axes>"
            ]
          },
          "metadata": {
            "needs_background": "light"
          },
          "output_type": "display_data"
        },
        {
          "name": "stdout",
          "output_type": "stream",
          "text": [
            "recall_LG 0.7657342657342657\n",
            "recall_RF 0.7902097902097902\n",
            "recall_GNB 0.7062937062937062\n",
            "recall_SVC 0.7587412587412588\n",
            "recall_XG 0.8111888111888111\n",
            "recall_mrmr_LG 0.8006993006993007\n",
            "recall_mrmr_RF 0.8041958041958042\n",
            "recall_mrmr_GNB 0.7307692307692307\n",
            "recall_mrmr_SVC 0.7622377622377622\n",
            "recall_mrmr_XG 0.7902097902097902\n"
          ]
        }
      ],
      "source": [
        "anova_scores = [recall_LG, recall_RF, recall_GNB, recall_SVC, recall_XG]\n",
        "mrmr_scores = [recall_mrmr_LG, recall_mrmr_RF, recall_mrmr_GNB, recall_mrmr_SVC, recall_mrmr_XG]\n",
        "plot_results(anova_scores, mrmr_scores, \"Recall\")\n",
        "\n",
        "for anova_score in anova_scores:\n",
        "    print(print_variable_name(anova_score), anova_score)\n",
        "\n",
        "for mrmr_score in mrmr_scores:\n",
        "    print(print_variable_name(mrmr_score), mrmr_score)"
      ]
    },
    {
      "cell_type": "code",
      "execution_count": null,
      "metadata": {
        "id": "XZ11gR6Wtbt1",
        "outputId": "69e3c0e2-db86-49d4-a1ff-e5012afc79e0"
      },
      "outputs": [
        {
          "data": {
            "image/png": "[encoded data removed]",
            "text/plain": [
              "<Figure size 720x432 with 1 Axes>"
            ]
          },
          "metadata": {
            "needs_background": "light"
          },
          "output_type": "display_data"
        },
        {
          "name": "stdout",
          "output_type": "stream",
          "text": [
            "f1_LG 0.7640580849351472\n",
            "f1_RF 0.7823073747786992\n",
            "f1_GNB 0.7042189399005377\n",
            "f1_SVC 0.7569953910318524\n",
            "f1_XG 0.8085398868940611\n",
            "f1_mrmr_LG 0.7989390592687791\n",
            "f1_mrmr_RF 0.794374048574482\n",
            "f1_mrmr_GNB 0.7326914824295795\n",
            "f1_mrmr_SVC 0.7585192546861519\n",
            "f1_mrmr_XG 0.782093679706861\n"
          ]
        }
      ],
      "source": [
        "anova_scores = [f1_LG, f1_RF, f1_GNB, f1_SVC, f1_XG]\n",
        "mrmr_scores = [f1_mrmr_LG, f1_mrmr_RF, f1_mrmr_GNB, f1_mrmr_SVC, f1_mrmr_XG]\n",
        "plot_results(anova_scores, mrmr_scores, \"F1-score\")\n",
        "\n",
        "for anova_score in anova_scores:\n",
        "    print(print_variable_name(anova_score), anova_score)\n",
        "\n",
        "for mrmr_score in mrmr_scores:\n",
        "    print(print_variable_name(mrmr_score), mrmr_score)"
      ]
    },
    {
      "cell_type": "code",
      "execution_count": null,
      "metadata": {
        "id": "7LV3NGVytbt1",
        "outputId": "6fdf1b22-ef2c-4108-c42b-284354f148c0"
      },
      "outputs": [
        {
          "data": {
            "image/png": "[encoded data removed]",
            "text/plain": [
              "<Figure size 720x432 with 1 Axes>"
            ]
          },
          "metadata": {
            "needs_background": "light"
          },
          "output_type": "display_data"
        },
        {
          "name": "stdout",
          "output_type": "stream",
          "text": [
            "precision_LG 0.773282877273098\n",
            "precision_RF 0.7949420853901769\n",
            "precision_GNB 0.7202010788989847\n",
            "precision_SVC 0.767091877238814\n",
            "precision_XG 0.8204635998462863\n",
            "precision_mrmr_LG 0.8084145041477803\n",
            "precision_mrmr_RF 0.809086547200971\n",
            "precision_mrmr_GNB 0.7546930570313392\n",
            "precision_mrmr_SVC 0.7717127402286617\n",
            "precision_mrmr_XG 0.7939109711836984\n"
          ]
        }
      ],
      "source": [
        "anova_scores = [precision_LG, precision_RF, precision_GNB, precision_SVC, precision_XG]\n",
        "mrmr_scores = [precision_mrmr_LG, precision_mrmr_RF, precision_mrmr_GNB, precision_mrmr_SVC, precision_mrmr_XG]\n",
        "plot_results(anova_scores, mrmr_scores, \"Precision\")\n",
        "\n",
        "for anova_score in anova_scores:\n",
        "    print(print_variable_name(anova_score), anova_score)\n",
        "\n",
        "for mrmr_score in mrmr_scores:\n",
        "    print(print_variable_name(mrmr_score), mrmr_score)"
      ]
    }
  ],
  "metadata": {
    "kernelspec": {
      "display_name": "base",
      "language": "python",
      "name": "python3"
    },
    "language_info": {
      "codemirror_mode": {
        "name": "ipython",
        "version": 3
      },
      "file_extension": ".py",
      "mimetype": "text/x-python",
      "name": "python",
      "nbconvert_exporter": "python",
      "pygments_lexer": "ipython3",
      "version": "3.7.13"
    },
    "orig_nbformat": 4,
    "colab": {
      "provenance": [],
      "collapsed_sections": [
        "EDX_WWFUIH0M",
        "tavSSpKtIp8V",
        "X5TPK8Bfta1j",
        "Kp7dPWE7ta1p",
        "CLZ6ttnAta1q",
        "OFTJgAL8ta1t",
        "TYhpLC0vta1y",
        "NqJtgKWrta1y",
        "0ifUZzkNta11",
        "3ymiG6Ywta2A",
        "-MoaxW-5ta2C",
        "LkC89G_Jta2D",
        "ymM-te4Uta2K",
        "OUzI0O6aLe7M",
        "KhijBganta2P",
        "mKXGy_Z5ta2P",
        "oiVnMALqta2Q",
        "C4_krSpFLUHo",
        "qIj3FUDBta2U",
        "RMgSAbZata2U",
        "4DUC0ai_ta2c",
        "kcH0lHjJta2i",
        "qcsBMqbcta2j",
        "ZQRpSeoKta2k",
        "chzoew7fta2r",
        "2h3C0hwQta2w",
        "SH2Yn3aLta2x",
        "fZCZZHOcta3B",
        "JWsCAdyntbta",
        "YGoUq9Edta3K",
        "KtiWp8XQta3K",
        "MqHUE0Axtbtf",
        "9aKLyFi2ta3S",
        "RmOJNVlbta3T",
        "Dd99teBlNcgi",
        "zjIpmMJAta3d",
        "XFSCVozPta3d",
        "GUbvCpwNtbtw",
        "7ekv3sFrOK_G"
      ]
    }
  },
  "nbformat": 4,
  "nbformat_minor": 0
}