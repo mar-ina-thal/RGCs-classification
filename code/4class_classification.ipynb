{
 "cells": [
  {
   "attachments": {},
   "cell_type": "markdown",
   "metadata": {
    "id": "vZSGbZaqij7A"
   },
   "source": [
    "# Machine Learning in Computational Biology\n",
    "## Course Project\n",
    "## 4 class problem classification - Pipeline and Results Notebook\n",
    "#### Papadopoulou Marianna, ID:7115152200032\n",
    "#### Vossos Charalampos, ID:7115152200037\n",
    "#### Fillipidou Thalassini-Marina, ID:7115152200022\n",
    "\n",
    "This notebook presents all the pipeline for the 4class classification problem \n",
    "of cells based on their gene profile. It contains all the optimization steps, hyperparameter tunning and the feature selection techniques that were tested\n",
    "In order to replicate the findings outlined in this academic document, please follow the steps below:\n",
    "\n",
    "1.\tOpen the notebook provided using Google Colab \n",
    "2.\tAccess the data section of the environment by clicking on the folder icon located on the left side. \n",
    "Then, upload the:\n",
    "  - final_data.csv file <br>\n",
    "  or the files\n",
    "  - E-MTAB-6108.aggregated_filtered_normalised_counts.mtx_cols\n",
    "  - E-MTAB-6108.aggregated_filtered_normalised_counts.mtx_rows\n",
    "  - E-MTAB-6108.aggregated_filtered_normalised_counts.mtx<br>\n",
    "  AND \n",
    "  - ground_truth.xlsx\n",
    "\n",
    " These files are provided within the exercise's zip file. To upload them, simply drag and drop the files into the designated area.\n",
    "\n",
    "3. Run the cells in the notebook in the order they appear, making sure to follow the instructions provided in each cell.\n",
    "\t \n",
    "When executing the notebook in Jupyter, it is essential to ensure that the necessary packages have been installed. Additionally, it is important to specify the path to the dataset (final_data.csv or other three files) as an input parameter for the *pd.read_csv()* functions."
   ]
  },
  {
   "attachments": {},
   "cell_type": "markdown",
   "metadata": {},
   "source": [
    "# Libraries "
   ]
  },
  {
   "cell_type": "code",
   "execution_count": null,
   "metadata": {
    "colab": {
     "base_uri": "https://localhost:8080/"
    },
    "id": "yoiGHwyxNPpP",
    "outputId": "61f90aa6-41d6-44df-da6e-9dcf07353ffe"
   },
   "outputs": [],
   "source": [
    "# If opened in Colab\n",
    "#!pip install mrmr_selection\n",
    "#!pip install optuna"
   ]
  },
  {
   "cell_type": "code",
   "execution_count": 3,
   "metadata": {
    "id": "6WdKoBRaWAf5"
   },
   "outputs": [],
   "source": [
    "import pandas as pd\n",
    "import numpy as np\n",
    "from sklearn.preprocessing import StandardScaler\n",
    "from sklearn.feature_selection import SelectKBest, f_classif\n",
    "from sklearn.model_selection import cross_val_score, train_test_split\n",
    "from sklearn.metrics import make_scorer, matthews_corrcoef, balanced_accuracy_score, f1_score, fbeta_score, recall_score, precision_score, average_precision_score\n",
    "from sklearn.ensemble import RandomForestClassifier\n",
    "from sklearn.linear_model import LogisticRegression\n",
    "from sklearn.svm import SVC\n",
    "from sklearn.naive_bayes import GaussianNB\n",
    "from xgboost import XGBClassifier\n",
    "from sklearn.pipeline import Pipeline\n",
    "import optuna\n",
    "from optuna.samplers import RandomSampler\n",
    "import matplotlib.pyplot as plt\n",
    "from sklearn.metrics import accuracy_score\n",
    "from sklearn.model_selection import StratifiedKFold\n",
    "import random\n",
    "from mrmr import mrmr_classif"
   ]
  },
  {
   "attachments": {},
   "cell_type": "markdown",
   "metadata": {
    "id": "nsFX8YxhFJju"
   },
   "source": [
    "# Load dataset, Create final df, Dataset exploration (if we do not have the final_df.csv)"
   ]
  },
  {
   "cell_type": "code",
   "execution_count": 4,
   "metadata": {
    "id": "t8VAFhizFyHp"
   },
   "outputs": [],
   "source": [
    "#Select the direcotry where the mtx files exist\n",
    "with open(\"content/E-MTAB-6108.aggregated_filtered_normalised_counts.mtx\") as f:\n",
    "    lines = f.readlines()"
   ]
  },
  {
   "cell_type": "code",
   "execution_count": 5,
   "metadata": {
    "id": "5Psbhr58FyHp"
   },
   "outputs": [],
   "source": [
    "#loading the data of the mtx into a dataframe\n",
    "normalized_counts_mtx = {\"gene\": [], \"cell\": [], \"counts\": []}\n",
    "for line in lines[2:]:\n",
    "    normalized_counts_mtx[\"gene\"].append(line.split()[0])\n",
    "    normalized_counts_mtx[\"cell\"].append(line.split()[1])\n",
    "    normalized_counts_mtx[\"counts\"].append(line.split()[2])\n",
    "normalized_counts_mtx = pd.DataFrame(normalized_counts_mtx).astype(float)"
   ]
  },
  {
   "cell_type": "code",
   "execution_count": 6,
   "metadata": {
    "id": "RiUaOSkpFyHq"
   },
   "outputs": [],
   "source": [
    "cols= int(normalized_counts_mtx[\"gene\"].max())\n",
    "rows = int(normalized_counts_mtx[\"cell\"].max())\n",
    "matrix = np.zeros((rows, cols))\n",
    "\n",
    "for i in range(normalized_counts_mtx.shape[0]):\n",
    "    gene = int(normalized_counts_mtx.loc[i, \"gene\"]) - 1\n",
    "    cell = int(normalized_counts_mtx.loc[i, \"cell\"]) - 1\n",
    "    counts = normalized_counts_mtx.loc[i, \"counts\"]\n",
    "    matrix[cell, gene] = counts"
   ]
  },
  {
   "cell_type": "code",
   "execution_count": 7,
   "metadata": {
    "id": "KmxnRBh1FyHr"
   },
   "outputs": [],
   "source": [
    "df = pd.DataFrame(matrix)"
   ]
  },
  {
   "cell_type": "code",
   "execution_count": 8,
   "metadata": {
    "id": "Se-e5ogvFyHs"
   },
   "outputs": [],
   "source": [
    "#adding the gene names\n",
    "genes = []\n",
    "with open(\"content/E-MTAB-6108.aggregated_filtered_normalised_counts.mtx_rows\") as f:\n",
    "    lines = f.readlines()\n",
    "for line in lines:\n",
    "    genes.append(line.split()[0])\n",
    "df.columns = genes"
   ]
  },
  {
   "cell_type": "code",
   "execution_count": 9,
   "metadata": {
    "id": "WclTTVCKFyHs"
   },
   "outputs": [],
   "source": [
    "#adding the cell identifiers as the first row of the dataset\n",
    "with open(\"content/E-MTAB-6108.aggregated_filtered_normalised_counts.mtx_cols\") as f:\n",
    "    lines = f.readlines()\n",
    "df.insert(loc=0, column='cell', value=lines)\n",
    "#df[\"cell\"] = lines\n",
    "df[\"cell\"] = df[\"cell\"].str.rstrip(\"\\n\")"
   ]
  },
  {
   "attachments": {},
   "cell_type": "markdown",
   "metadata": {
    "id": "xI2Vdl4hFyHt"
   },
   "source": [
    "## Adding ground truth labels from clustering results"
   ]
  },
  {
   "cell_type": "code",
   "execution_count": 10,
   "metadata": {
    "id": "MMFP5E63FyHt"
   },
   "outputs": [],
   "source": [
    "#Adding the cluster labels at the final columns of our dataframe\n",
    "final_data = pd.DataFrame({})\n",
    "ground_truth = pd.read_excel(\"/home/marina/Downloads/ml project/E-MTAB-6108-normalised-files/ground_truth.xlsx\")\n",
    "temp_df = pd.DataFrame({})\n",
    "for number, column in enumerate(ground_truth.columns[2:]):\n",
    "    df_clusters = pd.DataFrame({})\n",
    "    temp_df = pd.DataFrame(df[df[\"cell\"] == column])\n",
    "    for i in range(ground_truth.shape[0]):\n",
    "        number_of_clusters =  ground_truth.loc[i, \"K\"]\n",
    "        temp_df[\"cluster_{}\".format(number_of_clusters)] = ground_truth.loc[i, column] # cluster_i : the # of clusters, each row has teh cluster that belongs for a certain split given by i\n",
    "    final_data = pd.concat([final_data, temp_df])"
   ]
  },
  {
   "cell_type": "code",
   "execution_count": 11,
   "metadata": {
    "colab": {
     "base_uri": "https://localhost:8080/",
     "height": 661
    },
    "id": "55s7NYNFFyHu",
    "outputId": "a2762aa0-e272-44fa-e7a6-206666e8ceb5"
   },
   "outputs": [
    {
     "data": {
      "text/html": [
       "<div>\n",
       "<style scoped>\n",
       "    .dataframe tbody tr th:only-of-type {\n",
       "        vertical-align: middle;\n",
       "    }\n",
       "\n",
       "    .dataframe tbody tr th {\n",
       "        vertical-align: top;\n",
       "    }\n",
       "\n",
       "    .dataframe thead th {\n",
       "        text-align: right;\n",
       "    }\n",
       "</style>\n",
       "<table border=\"1\" class=\"dataframe\">\n",
       "  <thead>\n",
       "    <tr style=\"text-align: right;\">\n",
       "      <th></th>\n",
       "      <th>cell</th>\n",
       "      <th>ENSG00000000003</th>\n",
       "      <th>ENSG00000000005</th>\n",
       "      <th>ENSG00000000419</th>\n",
       "      <th>ENSG00000000457</th>\n",
       "      <th>ENSG00000000460</th>\n",
       "      <th>ENSG00000000938</th>\n",
       "      <th>ENSG00000000971</th>\n",
       "      <th>ENSG00000001036</th>\n",
       "      <th>ENSG00000001084</th>\n",
       "      <th>...</th>\n",
       "      <th>ENSG00000289716</th>\n",
       "      <th>cluster_2</th>\n",
       "      <th>cluster_4</th>\n",
       "      <th>cluster_7</th>\n",
       "      <th>cluster_8</th>\n",
       "      <th>cluster_11</th>\n",
       "      <th>cluster_18</th>\n",
       "      <th>cluster_23</th>\n",
       "      <th>cluster_31</th>\n",
       "      <th>cluster_37</th>\n",
       "    </tr>\n",
       "  </thead>\n",
       "  <tbody>\n",
       "    <tr>\n",
       "      <th>0</th>\n",
       "      <td>ERR2538859-AAACCTGAGACCACGA</td>\n",
       "      <td>122.99367</td>\n",
       "      <td>0.0</td>\n",
       "      <td>0.000000</td>\n",
       "      <td>0.0</td>\n",
       "      <td>0.00000</td>\n",
       "      <td>0.0</td>\n",
       "      <td>0.000000</td>\n",
       "      <td>30.748417</td>\n",
       "      <td>0.000000</td>\n",
       "      <td>...</td>\n",
       "      <td>0.0</td>\n",
       "      <td>1</td>\n",
       "      <td>3</td>\n",
       "      <td>3</td>\n",
       "      <td>3</td>\n",
       "      <td>2</td>\n",
       "      <td>2</td>\n",
       "      <td>19</td>\n",
       "      <td>17</td>\n",
       "      <td>12</td>\n",
       "    </tr>\n",
       "    <tr>\n",
       "      <th>1</th>\n",
       "      <td>ERR2538859-AAACCTGTCTGATACG</td>\n",
       "      <td>215.19258</td>\n",
       "      <td>0.0</td>\n",
       "      <td>0.000000</td>\n",
       "      <td>0.0</td>\n",
       "      <td>0.00000</td>\n",
       "      <td>0.0</td>\n",
       "      <td>0.000000</td>\n",
       "      <td>0.000000</td>\n",
       "      <td>0.000000</td>\n",
       "      <td>...</td>\n",
       "      <td>0.0</td>\n",
       "      <td>2</td>\n",
       "      <td>2</td>\n",
       "      <td>6</td>\n",
       "      <td>7</td>\n",
       "      <td>7</td>\n",
       "      <td>3</td>\n",
       "      <td>6</td>\n",
       "      <td>6</td>\n",
       "      <td>1</td>\n",
       "    </tr>\n",
       "    <tr>\n",
       "      <th>2</th>\n",
       "      <td>ERR2538859-AAACGGGAGTGTTGAA</td>\n",
       "      <td>0.00000</td>\n",
       "      <td>0.0</td>\n",
       "      <td>0.000000</td>\n",
       "      <td>0.0</td>\n",
       "      <td>0.00000</td>\n",
       "      <td>0.0</td>\n",
       "      <td>0.000000</td>\n",
       "      <td>0.000000</td>\n",
       "      <td>0.000000</td>\n",
       "      <td>...</td>\n",
       "      <td>0.0</td>\n",
       "      <td>1</td>\n",
       "      <td>1</td>\n",
       "      <td>1</td>\n",
       "      <td>1</td>\n",
       "      <td>1</td>\n",
       "      <td>14</td>\n",
       "      <td>14</td>\n",
       "      <td>26</td>\n",
       "      <td>26</td>\n",
       "    </tr>\n",
       "    <tr>\n",
       "      <th>3</th>\n",
       "      <td>ERR2538859-AAAGATGTCCGAACGC</td>\n",
       "      <td>0.00000</td>\n",
       "      <td>0.0</td>\n",
       "      <td>65.466450</td>\n",
       "      <td>0.0</td>\n",
       "      <td>0.00000</td>\n",
       "      <td>0.0</td>\n",
       "      <td>32.733227</td>\n",
       "      <td>0.000000</td>\n",
       "      <td>65.466450</td>\n",
       "      <td>...</td>\n",
       "      <td>0.0</td>\n",
       "      <td>1</td>\n",
       "      <td>4</td>\n",
       "      <td>5</td>\n",
       "      <td>5</td>\n",
       "      <td>10</td>\n",
       "      <td>18</td>\n",
       "      <td>22</td>\n",
       "      <td>28</td>\n",
       "      <td>33</td>\n",
       "    </tr>\n",
       "    <tr>\n",
       "      <th>4</th>\n",
       "      <td>ERR2538859-AAAGTAGGTTAGTGGG</td>\n",
       "      <td>168.26047</td>\n",
       "      <td>0.0</td>\n",
       "      <td>0.000000</td>\n",
       "      <td>0.0</td>\n",
       "      <td>0.00000</td>\n",
       "      <td>0.0</td>\n",
       "      <td>56.086823</td>\n",
       "      <td>0.000000</td>\n",
       "      <td>56.086823</td>\n",
       "      <td>...</td>\n",
       "      <td>0.0</td>\n",
       "      <td>1</td>\n",
       "      <td>4</td>\n",
       "      <td>4</td>\n",
       "      <td>6</td>\n",
       "      <td>5</td>\n",
       "      <td>7</td>\n",
       "      <td>20</td>\n",
       "      <td>11</td>\n",
       "      <td>21</td>\n",
       "    </tr>\n",
       "    <tr>\n",
       "      <th>...</th>\n",
       "      <td>...</td>\n",
       "      <td>...</td>\n",
       "      <td>...</td>\n",
       "      <td>...</td>\n",
       "      <td>...</td>\n",
       "      <td>...</td>\n",
       "      <td>...</td>\n",
       "      <td>...</td>\n",
       "      <td>...</td>\n",
       "      <td>...</td>\n",
       "      <td>...</td>\n",
       "      <td>...</td>\n",
       "      <td>...</td>\n",
       "      <td>...</td>\n",
       "      <td>...</td>\n",
       "      <td>...</td>\n",
       "      <td>...</td>\n",
       "      <td>...</td>\n",
       "      <td>...</td>\n",
       "      <td>...</td>\n",
       "      <td>...</td>\n",
       "    </tr>\n",
       "    <tr>\n",
       "      <th>1422</th>\n",
       "      <td>ERR2538860-TTTGGTTTCGTTACGA</td>\n",
       "      <td>0.00000</td>\n",
       "      <td>0.0</td>\n",
       "      <td>0.000000</td>\n",
       "      <td>0.0</td>\n",
       "      <td>0.00000</td>\n",
       "      <td>0.0</td>\n",
       "      <td>0.000000</td>\n",
       "      <td>0.000000</td>\n",
       "      <td>0.000000</td>\n",
       "      <td>...</td>\n",
       "      <td>0.0</td>\n",
       "      <td>1</td>\n",
       "      <td>2</td>\n",
       "      <td>5</td>\n",
       "      <td>4</td>\n",
       "      <td>3</td>\n",
       "      <td>9</td>\n",
       "      <td>3</td>\n",
       "      <td>5</td>\n",
       "      <td>5</td>\n",
       "    </tr>\n",
       "    <tr>\n",
       "      <th>1423</th>\n",
       "      <td>ERR2538860-TTTGTCAAGCCCAACC</td>\n",
       "      <td>0.00000</td>\n",
       "      <td>0.0</td>\n",
       "      <td>172.205950</td>\n",
       "      <td>0.0</td>\n",
       "      <td>0.00000</td>\n",
       "      <td>0.0</td>\n",
       "      <td>0.000000</td>\n",
       "      <td>0.000000</td>\n",
       "      <td>0.000000</td>\n",
       "      <td>...</td>\n",
       "      <td>0.0</td>\n",
       "      <td>2</td>\n",
       "      <td>2</td>\n",
       "      <td>6</td>\n",
       "      <td>7</td>\n",
       "      <td>7</td>\n",
       "      <td>3</td>\n",
       "      <td>6</td>\n",
       "      <td>25</td>\n",
       "      <td>1</td>\n",
       "    </tr>\n",
       "    <tr>\n",
       "      <th>1424</th>\n",
       "      <td>ERR2538860-TTTGTCACATTGGGCC</td>\n",
       "      <td>220.29666</td>\n",
       "      <td>0.0</td>\n",
       "      <td>0.000000</td>\n",
       "      <td>0.0</td>\n",
       "      <td>0.00000</td>\n",
       "      <td>0.0</td>\n",
       "      <td>0.000000</td>\n",
       "      <td>0.000000</td>\n",
       "      <td>0.000000</td>\n",
       "      <td>...</td>\n",
       "      <td>0.0</td>\n",
       "      <td>1</td>\n",
       "      <td>1</td>\n",
       "      <td>2</td>\n",
       "      <td>2</td>\n",
       "      <td>4</td>\n",
       "      <td>13</td>\n",
       "      <td>13</td>\n",
       "      <td>12</td>\n",
       "      <td>8</td>\n",
       "    </tr>\n",
       "    <tr>\n",
       "      <th>1425</th>\n",
       "      <td>ERR2538860-TTTGTCAGTTGCGTTA</td>\n",
       "      <td>0.00000</td>\n",
       "      <td>0.0</td>\n",
       "      <td>55.496975</td>\n",
       "      <td>0.0</td>\n",
       "      <td>0.00000</td>\n",
       "      <td>0.0</td>\n",
       "      <td>0.000000</td>\n",
       "      <td>277.484860</td>\n",
       "      <td>0.000000</td>\n",
       "      <td>...</td>\n",
       "      <td>0.0</td>\n",
       "      <td>1</td>\n",
       "      <td>1</td>\n",
       "      <td>2</td>\n",
       "      <td>2</td>\n",
       "      <td>6</td>\n",
       "      <td>8</td>\n",
       "      <td>7</td>\n",
       "      <td>13</td>\n",
       "      <td>11</td>\n",
       "    </tr>\n",
       "    <tr>\n",
       "      <th>1426</th>\n",
       "      <td>ERR2538860-TTTGTCATCAACACCA</td>\n",
       "      <td>115.33803</td>\n",
       "      <td>0.0</td>\n",
       "      <td>78.721800</td>\n",
       "      <td>0.0</td>\n",
       "      <td>38.44601</td>\n",
       "      <td>0.0</td>\n",
       "      <td>24.028757</td>\n",
       "      <td>19.223005</td>\n",
       "      <td>57.669014</td>\n",
       "      <td>...</td>\n",
       "      <td>0.0</td>\n",
       "      <td>1</td>\n",
       "      <td>3</td>\n",
       "      <td>3</td>\n",
       "      <td>3</td>\n",
       "      <td>2</td>\n",
       "      <td>2</td>\n",
       "      <td>1</td>\n",
       "      <td>2</td>\n",
       "      <td>23</td>\n",
       "    </tr>\n",
       "  </tbody>\n",
       "</table>\n",
       "<p>1427 rows × 19605 columns</p>\n",
       "</div>"
      ],
      "text/plain": [
       "                             cell  ENSG00000000003  ENSG00000000005  \\\n",
       "0     ERR2538859-AAACCTGAGACCACGA        122.99367              0.0   \n",
       "1     ERR2538859-AAACCTGTCTGATACG        215.19258              0.0   \n",
       "2     ERR2538859-AAACGGGAGTGTTGAA          0.00000              0.0   \n",
       "3     ERR2538859-AAAGATGTCCGAACGC          0.00000              0.0   \n",
       "4     ERR2538859-AAAGTAGGTTAGTGGG        168.26047              0.0   \n",
       "...                           ...              ...              ...   \n",
       "1422  ERR2538860-TTTGGTTTCGTTACGA          0.00000              0.0   \n",
       "1423  ERR2538860-TTTGTCAAGCCCAACC          0.00000              0.0   \n",
       "1424  ERR2538860-TTTGTCACATTGGGCC        220.29666              0.0   \n",
       "1425  ERR2538860-TTTGTCAGTTGCGTTA          0.00000              0.0   \n",
       "1426  ERR2538860-TTTGTCATCAACACCA        115.33803              0.0   \n",
       "\n",
       "      ENSG00000000419  ENSG00000000457  ENSG00000000460  ENSG00000000938  \\\n",
       "0            0.000000              0.0          0.00000              0.0   \n",
       "1            0.000000              0.0          0.00000              0.0   \n",
       "2            0.000000              0.0          0.00000              0.0   \n",
       "3           65.466450              0.0          0.00000              0.0   \n",
       "4            0.000000              0.0          0.00000              0.0   \n",
       "...               ...              ...              ...              ...   \n",
       "1422         0.000000              0.0          0.00000              0.0   \n",
       "1423       172.205950              0.0          0.00000              0.0   \n",
       "1424         0.000000              0.0          0.00000              0.0   \n",
       "1425        55.496975              0.0          0.00000              0.0   \n",
       "1426        78.721800              0.0         38.44601              0.0   \n",
       "\n",
       "      ENSG00000000971  ENSG00000001036  ENSG00000001084  ...  ENSG00000289716  \\\n",
       "0            0.000000        30.748417         0.000000  ...              0.0   \n",
       "1            0.000000         0.000000         0.000000  ...              0.0   \n",
       "2            0.000000         0.000000         0.000000  ...              0.0   \n",
       "3           32.733227         0.000000        65.466450  ...              0.0   \n",
       "4           56.086823         0.000000        56.086823  ...              0.0   \n",
       "...               ...              ...              ...  ...              ...   \n",
       "1422         0.000000         0.000000         0.000000  ...              0.0   \n",
       "1423         0.000000         0.000000         0.000000  ...              0.0   \n",
       "1424         0.000000         0.000000         0.000000  ...              0.0   \n",
       "1425         0.000000       277.484860         0.000000  ...              0.0   \n",
       "1426        24.028757        19.223005        57.669014  ...              0.0   \n",
       "\n",
       "      cluster_2  cluster_4  cluster_7  cluster_8  cluster_11  cluster_18  \\\n",
       "0             1          3          3          3           2           2   \n",
       "1             2          2          6          7           7           3   \n",
       "2             1          1          1          1           1          14   \n",
       "3             1          4          5          5          10          18   \n",
       "4             1          4          4          6           5           7   \n",
       "...         ...        ...        ...        ...         ...         ...   \n",
       "1422          1          2          5          4           3           9   \n",
       "1423          2          2          6          7           7           3   \n",
       "1424          1          1          2          2           4          13   \n",
       "1425          1          1          2          2           6           8   \n",
       "1426          1          3          3          3           2           2   \n",
       "\n",
       "      cluster_23  cluster_31  cluster_37  \n",
       "0             19          17          12  \n",
       "1              6           6           1  \n",
       "2             14          26          26  \n",
       "3             22          28          33  \n",
       "4             20          11          21  \n",
       "...          ...         ...         ...  \n",
       "1422           3           5           5  \n",
       "1423           6          25           1  \n",
       "1424          13          12           8  \n",
       "1425           7          13          11  \n",
       "1426           1           2          23  \n",
       "\n",
       "[1427 rows x 19605 columns]"
      ]
     },
     "execution_count": 11,
     "metadata": {},
     "output_type": "execute_result"
    }
   ],
   "source": [
    "final_data"
   ]
  },
  {
   "attachments": {},
   "cell_type": "markdown",
   "metadata": {
    "id": "QHQhGkR0tcac"
   },
   "source": [
    "# Load Dataset (final_df.csv, ready for use in classification, already filtered with 1500 most variant genes)"
   ]
  },
  {
   "attachments": {},
   "cell_type": "markdown",
   "metadata": {},
   "source": [
    "If we have already saved the csv file we can begin from this step by directly loading it"
   ]
  },
  {
   "cell_type": "code",
   "execution_count": 12,
   "metadata": {
    "id": "EGoMAaHhti_T"
   },
   "outputs": [],
   "source": [
    "#final_data = pd.read_csv('content/dataset.csv')"
   ]
  },
  {
   "cell_type": "code",
   "execution_count": 13,
   "metadata": {
    "id": "y49S9h47un_E"
   },
   "outputs": [],
   "source": [
    "#final_data.drop(columns=final_data.columns[0], axis=1, inplace=True)"
   ]
  },
  {
   "cell_type": "code",
   "execution_count": 14,
   "metadata": {
    "id": "xAdiToTCKB5w"
   },
   "outputs": [],
   "source": [
    "#final_data = pd.read_csv('final_df.csv')"
   ]
  },
  {
   "cell_type": "code",
   "execution_count": 15,
   "metadata": {
    "colab": {
     "base_uri": "https://localhost:8080/",
     "height": 0
    },
    "id": "hAaKldMcu1iE",
    "outputId": "4741a6c8-3b01-405c-d979-1644052aade4"
   },
   "outputs": [],
   "source": [
    "#final_data"
   ]
  },
  {
   "attachments": {},
   "cell_type": "markdown",
   "metadata": {
    "id": "eyqVOBLKFyHu"
   },
   "source": [
    "# Get the 1500 genes with most variance"
   ]
  },
  {
   "cell_type": "code",
   "execution_count": 19,
   "metadata": {
    "id": "ao4UEJxuFyHv"
   },
   "outputs": [],
   "source": [
    "# Calculate the variance across cells for each gene\n",
    "variances = final_data.iloc[:, 1:-9].var(axis=0)\n",
    "\n",
    "# Sort the genes based on variance in descending order and select the top 1,500 genes\n",
    "top_genes = variances.sort_values(ascending=False).index[:1500]\n",
    "\n",
    "# Get the last columns from the original DataFrame\n",
    "last_columns = final_data.iloc[:, -9:]\n",
    "\n",
    "# Filter the DataFrame to keep only the top 1,500 genes and the last columns\n",
    "df_filtered = pd.concat([final_data[['cell'] + list(top_genes)], last_columns], axis=1)\n",
    "\n",
    "# Optionally, you can reset the index of the filtered DataFrame\n",
    "df_filtered.reset_index(drop=True, inplace=True)"
   ]
  },
  {
   "cell_type": "code",
   "execution_count": 21,
   "metadata": {
    "colab": {
     "base_uri": "https://localhost:8080/",
     "height": 0
    },
    "id": "0r0nuJSWFyHw",
    "outputId": "7700cb27-8f6b-4058-f5c3-91dec814ed8a"
   },
   "outputs": [
    {
     "data": {
      "text/html": [
       "<div>\n",
       "<style scoped>\n",
       "    .dataframe tbody tr th:only-of-type {\n",
       "        vertical-align: middle;\n",
       "    }\n",
       "\n",
       "    .dataframe tbody tr th {\n",
       "        vertical-align: top;\n",
       "    }\n",
       "\n",
       "    .dataframe thead th {\n",
       "        text-align: right;\n",
       "    }\n",
       "</style>\n",
       "<table border=\"1\" class=\"dataframe\">\n",
       "  <thead>\n",
       "    <tr style=\"text-align: right;\">\n",
       "      <th></th>\n",
       "      <th>ENSG00000205542</th>\n",
       "      <th>ENSG00000198804</th>\n",
       "      <th>ENSG00000167996</th>\n",
       "      <th>ENSG00000198712</th>\n",
       "      <th>ENSG00000156508</th>\n",
       "      <th>ENSG00000087086</th>\n",
       "      <th>ENSG00000075624</th>\n",
       "      <th>ENSG00000229117</th>\n",
       "      <th>ENSG00000026025</th>\n",
       "      <th>ENSG00000140988</th>\n",
       "      <th>...</th>\n",
       "      <th>ENSG00000241553</th>\n",
       "      <th>ENSG00000106399</th>\n",
       "      <th>ENSG00000124570</th>\n",
       "      <th>ENSG00000115241</th>\n",
       "      <th>ENSG00000136750</th>\n",
       "      <th>ENSG00000087191</th>\n",
       "      <th>ENSG00000177570</th>\n",
       "      <th>ENSG00000159593</th>\n",
       "      <th>ENSG00000075292</th>\n",
       "      <th>ENSG00000185565</th>\n",
       "    </tr>\n",
       "  </thead>\n",
       "  <tbody>\n",
       "    <tr>\n",
       "      <th>0</th>\n",
       "      <td>32962.305</td>\n",
       "      <td>9065.20200</td>\n",
       "      <td>8240.5760</td>\n",
       "      <td>5350.2246</td>\n",
       "      <td>4735.2563</td>\n",
       "      <td>5042.7400</td>\n",
       "      <td>4950.4950</td>\n",
       "      <td>9255.0700</td>\n",
       "      <td>3659.0615</td>\n",
       "      <td>5749.6270</td>\n",
       "      <td>...</td>\n",
       "      <td>30.748417</td>\n",
       "      <td>215.238920</td>\n",
       "      <td>61.496834</td>\n",
       "      <td>92.245255</td>\n",
       "      <td>0.000000</td>\n",
       "      <td>122.993670</td>\n",
       "      <td>61.496834</td>\n",
       "      <td>122.993670</td>\n",
       "      <td>61.496834</td>\n",
       "      <td>0.00000</td>\n",
       "    </tr>\n",
       "    <tr>\n",
       "      <th>1</th>\n",
       "      <td>34861.200</td>\n",
       "      <td>0.00000</td>\n",
       "      <td>5579.0670</td>\n",
       "      <td>0.0000</td>\n",
       "      <td>16139.4430</td>\n",
       "      <td>4519.0444</td>\n",
       "      <td>3873.4666</td>\n",
       "      <td>12696.3620</td>\n",
       "      <td>3443.0813</td>\n",
       "      <td>7962.1255</td>\n",
       "      <td>...</td>\n",
       "      <td>215.192580</td>\n",
       "      <td>215.192580</td>\n",
       "      <td>0.000000</td>\n",
       "      <td>215.192580</td>\n",
       "      <td>0.000000</td>\n",
       "      <td>0.000000</td>\n",
       "      <td>0.000000</td>\n",
       "      <td>215.192580</td>\n",
       "      <td>0.000000</td>\n",
       "      <td>0.00000</td>\n",
       "    </tr>\n",
       "    <tr>\n",
       "      <th>2</th>\n",
       "      <td>17791.770</td>\n",
       "      <td>9193.14500</td>\n",
       "      <td>4845.0840</td>\n",
       "      <td>3431.0170</td>\n",
       "      <td>13334.9840</td>\n",
       "      <td>4739.7560</td>\n",
       "      <td>1061.1393</td>\n",
       "      <td>14643.7230</td>\n",
       "      <td>2193.0212</td>\n",
       "      <td>12343.2730</td>\n",
       "      <td>...</td>\n",
       "      <td>35.371310</td>\n",
       "      <td>0.000000</td>\n",
       "      <td>35.371310</td>\n",
       "      <td>35.371310</td>\n",
       "      <td>0.000000</td>\n",
       "      <td>35.371310</td>\n",
       "      <td>106.783010</td>\n",
       "      <td>106.113940</td>\n",
       "      <td>70.742620</td>\n",
       "      <td>70.74262</td>\n",
       "    </tr>\n",
       "    <tr>\n",
       "      <th>3</th>\n",
       "      <td>26513.914</td>\n",
       "      <td>10016.36700</td>\n",
       "      <td>7070.3770</td>\n",
       "      <td>5564.6484</td>\n",
       "      <td>10540.0990</td>\n",
       "      <td>4058.9202</td>\n",
       "      <td>3404.2556</td>\n",
       "      <td>7725.0415</td>\n",
       "      <td>8837.9720</td>\n",
       "      <td>7200.7144</td>\n",
       "      <td>...</td>\n",
       "      <td>0.000000</td>\n",
       "      <td>0.000000</td>\n",
       "      <td>65.466450</td>\n",
       "      <td>130.932900</td>\n",
       "      <td>0.000000</td>\n",
       "      <td>196.399350</td>\n",
       "      <td>65.466450</td>\n",
       "      <td>0.000000</td>\n",
       "      <td>130.932900</td>\n",
       "      <td>65.46645</td>\n",
       "    </tr>\n",
       "    <tr>\n",
       "      <th>4</th>\n",
       "      <td>30791.666</td>\n",
       "      <td>18116.04300</td>\n",
       "      <td>7291.2870</td>\n",
       "      <td>7347.3735</td>\n",
       "      <td>5664.7690</td>\n",
       "      <td>5384.3350</td>\n",
       "      <td>2636.0806</td>\n",
       "      <td>8469.1100</td>\n",
       "      <td>3140.8620</td>\n",
       "      <td>4935.0034</td>\n",
       "      <td>...</td>\n",
       "      <td>224.347290</td>\n",
       "      <td>0.000000</td>\n",
       "      <td>56.086823</td>\n",
       "      <td>56.086823</td>\n",
       "      <td>0.000000</td>\n",
       "      <td>56.086823</td>\n",
       "      <td>70.470960</td>\n",
       "      <td>56.086823</td>\n",
       "      <td>0.000000</td>\n",
       "      <td>0.00000</td>\n",
       "    </tr>\n",
       "    <tr>\n",
       "      <th>...</th>\n",
       "      <td>...</td>\n",
       "      <td>...</td>\n",
       "      <td>...</td>\n",
       "      <td>...</td>\n",
       "      <td>...</td>\n",
       "      <td>...</td>\n",
       "      <td>...</td>\n",
       "      <td>...</td>\n",
       "      <td>...</td>\n",
       "      <td>...</td>\n",
       "      <td>...</td>\n",
       "      <td>...</td>\n",
       "      <td>...</td>\n",
       "      <td>...</td>\n",
       "      <td>...</td>\n",
       "      <td>...</td>\n",
       "      <td>...</td>\n",
       "      <td>...</td>\n",
       "      <td>...</td>\n",
       "      <td>...</td>\n",
       "      <td>...</td>\n",
       "    </tr>\n",
       "    <tr>\n",
       "      <th>1422</th>\n",
       "      <td>20833.332</td>\n",
       "      <td>11986.30100</td>\n",
       "      <td>5707.7627</td>\n",
       "      <td>6849.3150</td>\n",
       "      <td>6563.9270</td>\n",
       "      <td>5707.7627</td>\n",
       "      <td>3139.2693</td>\n",
       "      <td>14554.7940</td>\n",
       "      <td>1141.5525</td>\n",
       "      <td>12557.0770</td>\n",
       "      <td>...</td>\n",
       "      <td>0.000000</td>\n",
       "      <td>0.000000</td>\n",
       "      <td>0.000000</td>\n",
       "      <td>285.388120</td>\n",
       "      <td>570.776250</td>\n",
       "      <td>0.000000</td>\n",
       "      <td>0.000000</td>\n",
       "      <td>0.000000</td>\n",
       "      <td>285.388120</td>\n",
       "      <td>0.00000</td>\n",
       "    </tr>\n",
       "    <tr>\n",
       "      <th>1423</th>\n",
       "      <td>73876.350</td>\n",
       "      <td>172.20595</td>\n",
       "      <td>13776.4760</td>\n",
       "      <td>0.0000</td>\n",
       "      <td>5510.5903</td>\n",
       "      <td>9126.9150</td>\n",
       "      <td>18598.2420</td>\n",
       "      <td>10160.1510</td>\n",
       "      <td>7577.0615</td>\n",
       "      <td>7232.6500</td>\n",
       "      <td>...</td>\n",
       "      <td>0.000000</td>\n",
       "      <td>0.000000</td>\n",
       "      <td>0.000000</td>\n",
       "      <td>172.205950</td>\n",
       "      <td>0.000000</td>\n",
       "      <td>172.205950</td>\n",
       "      <td>0.000000</td>\n",
       "      <td>0.000000</td>\n",
       "      <td>0.000000</td>\n",
       "      <td>0.00000</td>\n",
       "    </tr>\n",
       "    <tr>\n",
       "      <th>1424</th>\n",
       "      <td>22690.557</td>\n",
       "      <td>14539.58000</td>\n",
       "      <td>3524.7466</td>\n",
       "      <td>4038.7722</td>\n",
       "      <td>10060.2140</td>\n",
       "      <td>2570.1277</td>\n",
       "      <td>3671.6110</td>\n",
       "      <td>8003.4385</td>\n",
       "      <td>6094.8745</td>\n",
       "      <td>8224.4080</td>\n",
       "      <td>...</td>\n",
       "      <td>0.000000</td>\n",
       "      <td>0.000000</td>\n",
       "      <td>0.000000</td>\n",
       "      <td>293.728880</td>\n",
       "      <td>0.000000</td>\n",
       "      <td>220.296660</td>\n",
       "      <td>118.785430</td>\n",
       "      <td>73.432220</td>\n",
       "      <td>0.000000</td>\n",
       "      <td>0.00000</td>\n",
       "    </tr>\n",
       "    <tr>\n",
       "      <th>1425</th>\n",
       "      <td>54775.516</td>\n",
       "      <td>5771.68550</td>\n",
       "      <td>11874.2080</td>\n",
       "      <td>2830.3457</td>\n",
       "      <td>6992.6187</td>\n",
       "      <td>11654.3640</td>\n",
       "      <td>8047.0615</td>\n",
       "      <td>8713.0250</td>\n",
       "      <td>6160.1640</td>\n",
       "      <td>7714.0796</td>\n",
       "      <td>...</td>\n",
       "      <td>55.496975</td>\n",
       "      <td>55.496975</td>\n",
       "      <td>0.000000</td>\n",
       "      <td>277.484860</td>\n",
       "      <td>55.496975</td>\n",
       "      <td>55.496975</td>\n",
       "      <td>0.000000</td>\n",
       "      <td>0.000000</td>\n",
       "      <td>55.496975</td>\n",
       "      <td>0.00000</td>\n",
       "    </tr>\n",
       "    <tr>\n",
       "      <th>1426</th>\n",
       "      <td>15493.742</td>\n",
       "      <td>8285.11500</td>\n",
       "      <td>4150.8433</td>\n",
       "      <td>3748.4860</td>\n",
       "      <td>9015.5320</td>\n",
       "      <td>5151.7656</td>\n",
       "      <td>2383.6526</td>\n",
       "      <td>7515.4080</td>\n",
       "      <td>4632.7440</td>\n",
       "      <td>7939.0547</td>\n",
       "      <td>...</td>\n",
       "      <td>96.115030</td>\n",
       "      <td>153.784040</td>\n",
       "      <td>153.784040</td>\n",
       "      <td>153.784040</td>\n",
       "      <td>192.230060</td>\n",
       "      <td>173.007050</td>\n",
       "      <td>28.351261</td>\n",
       "      <td>173.007050</td>\n",
       "      <td>153.784040</td>\n",
       "      <td>96.11503</td>\n",
       "    </tr>\n",
       "  </tbody>\n",
       "</table>\n",
       "<p>1427 rows × 1500 columns</p>\n",
       "</div>"
      ],
      "text/plain": [
       "      ENSG00000205542  ENSG00000198804  ENSG00000167996  ENSG00000198712  \\\n",
       "0           32962.305       9065.20200        8240.5760        5350.2246   \n",
       "1           34861.200          0.00000        5579.0670           0.0000   \n",
       "2           17791.770       9193.14500        4845.0840        3431.0170   \n",
       "3           26513.914      10016.36700        7070.3770        5564.6484   \n",
       "4           30791.666      18116.04300        7291.2870        7347.3735   \n",
       "...               ...              ...              ...              ...   \n",
       "1422        20833.332      11986.30100        5707.7627        6849.3150   \n",
       "1423        73876.350        172.20595       13776.4760           0.0000   \n",
       "1424        22690.557      14539.58000        3524.7466        4038.7722   \n",
       "1425        54775.516       5771.68550       11874.2080        2830.3457   \n",
       "1426        15493.742       8285.11500        4150.8433        3748.4860   \n",
       "\n",
       "      ENSG00000156508  ENSG00000087086  ENSG00000075624  ENSG00000229117  \\\n",
       "0           4735.2563        5042.7400        4950.4950        9255.0700   \n",
       "1          16139.4430        4519.0444        3873.4666       12696.3620   \n",
       "2          13334.9840        4739.7560        1061.1393       14643.7230   \n",
       "3          10540.0990        4058.9202        3404.2556        7725.0415   \n",
       "4           5664.7690        5384.3350        2636.0806        8469.1100   \n",
       "...               ...              ...              ...              ...   \n",
       "1422        6563.9270        5707.7627        3139.2693       14554.7940   \n",
       "1423        5510.5903        9126.9150       18598.2420       10160.1510   \n",
       "1424       10060.2140        2570.1277        3671.6110        8003.4385   \n",
       "1425        6992.6187       11654.3640        8047.0615        8713.0250   \n",
       "1426        9015.5320        5151.7656        2383.6526        7515.4080   \n",
       "\n",
       "      ENSG00000026025  ENSG00000140988  ...  ENSG00000241553  ENSG00000106399  \\\n",
       "0           3659.0615        5749.6270  ...        30.748417       215.238920   \n",
       "1           3443.0813        7962.1255  ...       215.192580       215.192580   \n",
       "2           2193.0212       12343.2730  ...        35.371310         0.000000   \n",
       "3           8837.9720        7200.7144  ...         0.000000         0.000000   \n",
       "4           3140.8620        4935.0034  ...       224.347290         0.000000   \n",
       "...               ...              ...  ...              ...              ...   \n",
       "1422        1141.5525       12557.0770  ...         0.000000         0.000000   \n",
       "1423        7577.0615        7232.6500  ...         0.000000         0.000000   \n",
       "1424        6094.8745        8224.4080  ...         0.000000         0.000000   \n",
       "1425        6160.1640        7714.0796  ...        55.496975        55.496975   \n",
       "1426        4632.7440        7939.0547  ...        96.115030       153.784040   \n",
       "\n",
       "      ENSG00000124570  ENSG00000115241  ENSG00000136750  ENSG00000087191  \\\n",
       "0           61.496834        92.245255         0.000000       122.993670   \n",
       "1            0.000000       215.192580         0.000000         0.000000   \n",
       "2           35.371310        35.371310         0.000000        35.371310   \n",
       "3           65.466450       130.932900         0.000000       196.399350   \n",
       "4           56.086823        56.086823         0.000000        56.086823   \n",
       "...               ...              ...              ...              ...   \n",
       "1422         0.000000       285.388120       570.776250         0.000000   \n",
       "1423         0.000000       172.205950         0.000000       172.205950   \n",
       "1424         0.000000       293.728880         0.000000       220.296660   \n",
       "1425         0.000000       277.484860        55.496975        55.496975   \n",
       "1426       153.784040       153.784040       192.230060       173.007050   \n",
       "\n",
       "      ENSG00000177570  ENSG00000159593  ENSG00000075292  ENSG00000185565  \n",
       "0           61.496834       122.993670        61.496834          0.00000  \n",
       "1            0.000000       215.192580         0.000000          0.00000  \n",
       "2          106.783010       106.113940        70.742620         70.74262  \n",
       "3           65.466450         0.000000       130.932900         65.46645  \n",
       "4           70.470960        56.086823         0.000000          0.00000  \n",
       "...               ...              ...              ...              ...  \n",
       "1422         0.000000         0.000000       285.388120          0.00000  \n",
       "1423         0.000000         0.000000         0.000000          0.00000  \n",
       "1424       118.785430        73.432220         0.000000          0.00000  \n",
       "1425         0.000000         0.000000        55.496975          0.00000  \n",
       "1426        28.351261       173.007050       153.784040         96.11503  \n",
       "\n",
       "[1427 rows x 1500 columns]"
      ]
     },
     "execution_count": 21,
     "metadata": {},
     "output_type": "execute_result"
    }
   ],
   "source": [
    "df_filtered.iloc[:,1:-9]"
   ]
  },
  {
   "cell_type": "code",
   "execution_count": 22,
   "metadata": {
    "id": "PBkYhn3WrU0a"
   },
   "outputs": [],
   "source": [
    "#df_filtered.to_csv('final_df.csv',index=False) # save our filtered final file for further use"
   ]
  },
  {
   "attachments": {},
   "cell_type": "markdown",
   "metadata": {
    "id": "CGnJUB8Im0G6"
   },
   "source": [
    "# Split dataset to features and labels"
   ]
  },
  {
   "cell_type": "code",
   "execution_count": 23,
   "metadata": {
    "id": "VmZgBC9hrul4"
   },
   "outputs": [],
   "source": [
    "# Separate features and target variable\n",
    "X = df_filtered.iloc[:,1:-9]\n",
    "y_labels = df_filtered.iloc[:,-9:]"
   ]
  },
  {
   "cell_type": "code",
   "execution_count": 24,
   "metadata": {
    "id": "d2cFBspyr_cv"
   },
   "outputs": [],
   "source": [
    "#X_features"
   ]
  },
  {
   "cell_type": "code",
   "execution_count": 25,
   "metadata": {
    "id": "orIPGXXtsHGY"
   },
   "outputs": [],
   "source": [
    "#y_labels"
   ]
  },
  {
   "attachments": {},
   "cell_type": "markdown",
   "metadata": {
    "id": "Aq1mRYK_z9iK"
   },
   "source": [
    "# 4 class problem"
   ]
  },
  {
   "attachments": {},
   "cell_type": "markdown",
   "metadata": {
    "id": "j9QG1PWoZ89y"
   },
   "source": [
    "# Split dataset to two sets(training and test)"
   ]
  },
  {
   "cell_type": "code",
   "execution_count": 26,
   "metadata": {
    "id": "EXLi5DGe951P"
   },
   "outputs": [],
   "source": [
    "#get the labels of the 4 cluster results\n",
    "y = y_labels['cluster_4']\n"
   ]
  },
  {
   "cell_type": "code",
   "execution_count": 27,
   "metadata": {
    "id": "jd3gPGNT97Tu"
   },
   "outputs": [],
   "source": [
    "# Standardize the features\n",
    "scaler = StandardScaler()\n",
    "X_std = scaler.fit_transform(X)"
   ]
  },
  {
   "cell_type": "code",
   "execution_count": 28,
   "metadata": {
    "id": "cOhtoJi_9-Y9"
   },
   "outputs": [],
   "source": [
    "#y = pd.DataFrame(y)\n",
    "\n",
    "# Convert y to a 1-dimensional array 0,1,2,3\n",
    "y = np.ravel(y)-1"
   ]
  },
  {
   "cell_type": "code",
   "execution_count": 29,
   "metadata": {
    "id": "0xCxgtgS-AaU"
   },
   "outputs": [],
   "source": [
    "# Split the dataset into training/validation set and test set\n",
    "X_train_val, X_test, y_train_val, y_test = train_test_split(X_std, y, test_size=0.2, random_state=42)"
   ]
  },
  {
   "cell_type": "code",
   "execution_count": null,
   "metadata": {
    "id": "-kCRFsX7zy7p"
   },
   "outputs": [],
   "source": []
  },
  {
   "attachments": {},
   "cell_type": "markdown",
   "metadata": {
    "id": "-nCPICXRsfPE"
   },
   "source": [
    "# ANOVA for feature selection"
   ]
  },
  {
   "attachments": {},
   "cell_type": "markdown",
   "metadata": {
    "id": "y40rQ53-zzaU"
   },
   "source": [
    "## SVC\n",
    "\n"
   ]
  },
  {
   "attachments": {},
   "cell_type": "markdown",
   "metadata": {
    "id": "VPI1_xVTs8ZG"
   },
   "source": [
    "#### Cross val for hyperparameter tunning and feature selection"
   ]
  },
  {
   "cell_type": "code",
   "execution_count": 30,
   "metadata": {
    "id": "RR_f70eU-J45"
   },
   "outputs": [],
   "source": [
    "# Define the number of folds for cross-validation\n",
    "n_folds = 5"
   ]
  },
  {
   "cell_type": "code",
   "execution_count": 31,
   "metadata": {
    "id": "62QAjmsI8m8G"
   },
   "outputs": [],
   "source": [
    "# Define the objective function for Optuna hyperparameter tuning\n",
    "def objective_SVC(trial):\n",
    "  global best_features\n",
    "  # Define the hyperparameters to be optimized\n",
    "  C = trial.suggest_float('C', 0.1, 10)\n",
    "  gamma = trial.suggest_float('gamma', 0.01, 1)\n",
    "  kernel = trial.suggest_categorical('kernel', ['linear', 'poly', 'rbf', 'sigmoid'])\n",
    "  degree = trial.suggest_int('degree', 2, 10)\n",
    "  # Instantiate the classifier with the current hyperparameters\n",
    "  classifier = SVC(C=C, gamma=gamma,kernel=kernel,degree=degree)\n",
    "\n",
    "  # Perform cross-validation with feature selection\n",
    "  kf = StratifiedKFold(n_splits=n_folds, shuffle=True, random_state=42)\n",
    "  cv_scores = []\n",
    "  feature_selector = SelectKBest(score_func=f_classif, k=300)  # Adjust the number of features as desired\n",
    "  best_features = None\n",
    "\n",
    "  for train_index, val_index in kf.split(X_train_val, y_train_val):\n",
    "      X_train, X_val = X_train_val[train_index], X_train_val[val_index]\n",
    "      y_train, y_val = y_train_val[train_index], y_train_val[val_index]\n",
    "\n",
    "      # Perform feature selection on the training set\n",
    "      X_train_selected = feature_selector.fit_transform(X_train, y_train)\n",
    "      selected_features = feature_selector.get_support()\n",
    "\n",
    "      # Apply the same feature selection on the validation set\n",
    "      X_val_selected = X_val[:, selected_features]\n",
    "\n",
    "      # Fit the classifier on the selected features and evaluate on the validation set\n",
    "      classifier.fit(X_train_selected, y_train)\n",
    "      y_pred = classifier.predict(X_val_selected)\n",
    "      mcc = matthews_corrcoef(y_val, y_pred)\n",
    "      cv_scores.append(mcc)\n",
    "\n",
    "  # Calculate the average MCC\n",
    "  avg_mcc = np.mean(cv_scores)\n",
    "\n",
    "  if trial.should_prune()==False:\n",
    "    best_features = selected_features.copy()\n",
    "\n",
    "  return avg_mcc"
   ]
  },
  {
   "cell_type": "code",
   "execution_count": 32,
   "metadata": {
    "colab": {
     "base_uri": "https://localhost:8080/"
    },
    "id": "zWD4at4c9v6A",
    "outputId": "680fc219-b6f4-4210-847b-6f1096a26792"
   },
   "outputs": [
    {
     "name": "stderr",
     "output_type": "stream",
     "text": [
      "[I 2023-07-02 23:01:34,247] A new study created in memory with name: no-name-67116f93-b45d-45dc-ba19-5f058f4e45e1\n",
      "[I 2023-07-02 23:01:34,575] Trial 0 finished with value: 0.8069975928010802 and parameters: {'C': 3.807947176588889, 'gamma': 0.951207163345817, 'kernel': 'linear', 'degree': 2}. Best is trial 0 with value: 0.8069975928010802.\n",
      "[I 2023-07-02 23:01:35,714] Trial 1 finished with value: 0.0 and parameters: {'C': 8.675143843171858, 'gamma': 0.6051038616257767, 'kernel': 'rbf', 'degree': 3}. Best is trial 0 with value: 0.8069975928010802.\n",
      "[I 2023-07-02 23:01:36,624] Trial 2 finished with value: 0.20571603821524898 and parameters: {'C': 1.9000671753502962, 'gamma': 0.1915704647548995, 'kernel': 'poly', 'degree': 7}. Best is trial 0 with value: 0.8069975928010802.\n",
      "[I 2023-07-02 23:01:37,729] Trial 3 finished with value: 0.0 and parameters: {'C': 1.4809892204552142, 'gamma': 0.29922320204986597, 'kernel': 'rbf', 'degree': 6}. Best is trial 0 with value: 0.8069975928010802.\n",
      "[I 2023-07-02 23:01:38,157] Trial 4 finished with value: 0.3990248725288268 and parameters: {'C': 5.96490423173422, 'gamma': 0.05598590859279775, 'kernel': 'sigmoid', 'degree': 10}. Best is trial 0 with value: 0.8069975928010802.\n",
      "[I 2023-07-02 23:01:39,069] Trial 5 finished with value: 0.2629352418578247 and parameters: {'C': 8.103133746352965, 'gamma': 0.31156763148163696, 'kernel': 'poly', 'degree': 6}. Best is trial 0 with value: 0.8069975928010802.\n",
      "[I 2023-07-02 23:01:39,981] Trial 6 finished with value: 0.2629352418578247 and parameters: {'C': 0.4404463590406621, 'gamma': 0.9102271980579942, 'kernel': 'poly', 'degree': 6}. Best is trial 0 with value: 0.8069975928010802.\n",
      "[I 2023-07-02 23:01:40,950] Trial 7 finished with value: 0.11861673104626762 and parameters: {'C': 1.9300591097027178, 'gamma': 0.9698887814869129, 'kernel': 'poly', 'degree': 10}. Best is trial 0 with value: 0.8069975928010802.\n",
      "[I 2023-07-02 23:01:42,038] Trial 8 finished with value: 0.0 and parameters: {'C': 0.976075770314003, 'gamma': 0.20402303379495376, 'kernel': 'rbf', 'degree': 9}. Best is trial 0 with value: 0.8069975928010802.\n",
      "[I 2023-07-02 23:01:43,149] Trial 9 finished with value: 0.0 and parameters: {'C': 3.631857934266534, 'gamma': 0.28812516459050697, 'kernel': 'rbf', 'degree': 10}. Best is trial 0 with value: 0.8069975928010802.\n",
      "[I 2023-07-02 23:01:44,107] Trial 10 finished with value: 0.15650312396590244 and parameters: {'C': 7.7452232160369086, 'gamma': 0.2067285247188307, 'kernel': 'poly', 'degree': 8}. Best is trial 0 with value: 0.8069975928010802.\n",
      "[I 2023-07-02 23:01:44,819] Trial 11 finished with value: 0.7379369345735167 and parameters: {'C': 0.8330420521674946, 'gamma': 0.3648810712588299, 'kernel': 'poly', 'degree': 2}. Best is trial 0 with value: 0.8069975928010802.\n",
      "[I 2023-07-02 23:01:45,930] Trial 12 finished with value: 0.0 and parameters: {'C': 3.178724984985056, 'gamma': 0.3319314888064796, 'kernel': 'rbf', 'degree': 3}. Best is trial 0 with value: 0.8069975928010802.\n",
      "[I 2023-07-02 23:01:46,779] Trial 13 finished with value: 0.49517535413072356 and parameters: {'C': 7.16112339350765, 'gamma': 0.7631771981307285, 'kernel': 'poly', 'degree': 5}. Best is trial 0 with value: 0.8069975928010802.\n",
      "[I 2023-07-02 23:01:47,738] Trial 14 finished with value: 0.11861673104626762 and parameters: {'C': 0.35164935476654235, 'gamma': 0.1168125127233714, 'kernel': 'poly', 'degree': 10}. Best is trial 0 with value: 0.8069975928010802.\n",
      "[I 2023-07-02 23:01:48,052] Trial 15 finished with value: 0.8069975928010802 and parameters: {'C': 2.567993068573862, 'gamma': 0.41627909380527345, 'kernel': 'linear', 'degree': 3}. Best is trial 0 with value: 0.8069975928010802.\n",
      "[I 2023-07-02 23:01:49,007] Trial 16 finished with value: 0.11861673104626762 and parameters: {'C': 9.304006758191473, 'gamma': 0.8100391757687728, 'kernel': 'poly', 'degree': 10}. Best is trial 0 with value: 0.8069975928010802.\n",
      "[I 2023-07-02 23:01:49,323] Trial 17 finished with value: 0.8069975928010802 and parameters: {'C': 5.439488194964942, 'gamma': 0.8093657536124219, 'kernel': 'linear', 'degree': 5}. Best is trial 0 with value: 0.8069975928010802.\n",
      "[I 2023-07-02 23:01:49,994] Trial 18 finished with value: 0.7376773029968839 and parameters: {'C': 8.198346182632681, 'gamma': 0.86212327742378, 'kernel': 'poly', 'degree': 3}. Best is trial 0 with value: 0.8069975928010802.\n",
      "[I 2023-07-02 23:01:51,157] Trial 19 finished with value: 0.0 and parameters: {'C': 3.442390196895917, 'gamma': 0.943480606873394, 'kernel': 'rbf', 'degree': 10}. Best is trial 0 with value: 0.8069975928010802.\n",
      "[I 2023-07-02 23:01:51,469] Trial 20 finished with value: 0.8069975928010802 and parameters: {'C': 9.628228219926902, 'gamma': 0.2592644728671105, 'kernel': 'linear', 'degree': 7}. Best is trial 0 with value: 0.8069975928010802.\n",
      "[I 2023-07-02 23:01:52,384] Trial 21 finished with value: 0.2629352418578247 and parameters: {'C': 5.076522329965728, 'gamma': 0.06096396373748946, 'kernel': 'poly', 'degree': 6}. Best is trial 0 with value: 0.8069975928010802.\n",
      "[I 2023-07-02 23:01:53,235] Trial 22 finished with value: 0.49517535413072356 and parameters: {'C': 9.857939495694946, 'gamma': 0.2496347187963854, 'kernel': 'poly', 'degree': 5}. Best is trial 0 with value: 0.8069975928010802.\n",
      "[I 2023-07-02 23:01:54,376] Trial 23 finished with value: 0.0 and parameters: {'C': 6.359827722876437, 'gamma': 0.6371944136532858, 'kernel': 'rbf', 'degree': 3}. Best is trial 0 with value: 0.8069975928010802.\n",
      "[I 2023-07-02 23:01:54,690] Trial 24 finished with value: 0.8069975928010802 and parameters: {'C': 0.5036739013921628, 'gamma': 0.5949840137563595, 'kernel': 'linear', 'degree': 7}. Best is trial 0 with value: 0.8069975928010802.\n",
      "[I 2023-07-02 23:01:55,366] Trial 25 finished with value: 0.7376773029968839 and parameters: {'C': 1.8262276471494154, 'gamma': 0.6940283607214413, 'kernel': 'poly', 'degree': 3}. Best is trial 0 with value: 0.8069975928010802.\n",
      "[I 2023-07-02 23:01:56,528] Trial 26 finished with value: 0.0 and parameters: {'C': 9.254466820957772, 'gamma': 0.8785659598471712, 'kernel': 'rbf', 'degree': 6}. Best is trial 0 with value: 0.8069975928010802.\n",
      "[I 2023-07-02 23:01:57,377] Trial 27 finished with value: 0.49517535413072356 and parameters: {'C': 2.4943376799144716, 'gamma': 0.10217174012784021, 'kernel': 'poly', 'degree': 5}. Best is trial 0 with value: 0.8069975928010802.\n",
      "[I 2023-07-02 23:01:57,689] Trial 28 finished with value: 0.8069975928010802 and parameters: {'C': 7.286961220815369, 'gamma': 0.8981391573530513, 'kernel': 'linear', 'degree': 3}. Best is trial 0 with value: 0.8069975928010802.\n",
      "[I 2023-07-02 23:01:58,817] Trial 29 finished with value: 0.0 and parameters: {'C': 8.995686466418084, 'gamma': 0.6103647690629941, 'kernel': 'rbf', 'degree': 3}. Best is trial 0 with value: 0.8069975928010802.\n",
      "[I 2023-07-02 23:01:59,955] Trial 30 finished with value: 0.0 and parameters: {'C': 5.532464514729202, 'gamma': 0.6949762457157663, 'kernel': 'rbf', 'degree': 4}. Best is trial 0 with value: 0.8069975928010802.\n",
      "[I 2023-07-02 23:02:00,269] Trial 31 finished with value: 0.8069975928010802 and parameters: {'C': 7.490264910668439, 'gamma': 0.6531365700567425, 'kernel': 'linear', 'degree': 5}. Best is trial 0 with value: 0.8069975928010802.\n",
      "[I 2023-07-02 23:02:00,579] Trial 32 finished with value: 0.8069975928010802 and parameters: {'C': 2.7255034400490823, 'gamma': 0.25154974694529275, 'kernel': 'linear', 'degree': 9}. Best is trial 0 with value: 0.8069975928010802.\n",
      "[I 2023-07-02 23:02:01,705] Trial 33 finished with value: 0.0 and parameters: {'C': 5.076107221741402, 'gamma': 0.5811348457800956, 'kernel': 'rbf', 'degree': 2}. Best is trial 0 with value: 0.8069975928010802.\n",
      "[I 2023-07-02 23:02:02,418] Trial 34 finished with value: 0.7379369345735167 and parameters: {'C': 6.490175729480962, 'gamma': 0.18533957261297845, 'kernel': 'poly', 'degree': 2}. Best is trial 0 with value: 0.8069975928010802.\n",
      "[I 2023-07-02 23:02:02,731] Trial 35 finished with value: 0.8069975928010802 and parameters: {'C': 9.29035376961848, 'gamma': 0.4339023068341412, 'kernel': 'linear', 'degree': 5}. Best is trial 0 with value: 0.8069975928010802.\n",
      "[I 2023-07-02 23:02:03,844] Trial 36 finished with value: 0.0 and parameters: {'C': 8.526253048016883, 'gamma': 0.3237527851047149, 'kernel': 'rbf', 'degree': 7}. Best is trial 0 with value: 0.8069975928010802.\n"
     ]
    },
    {
     "name": "stderr",
     "output_type": "stream",
     "text": [
      "[I 2023-07-02 23:02:04,155] Trial 37 finished with value: 0.8069975928010802 and parameters: {'C': 1.0620472883306085, 'gamma': 0.618857154432178, 'kernel': 'linear', 'degree': 8}. Best is trial 0 with value: 0.8069975928010802.\n",
      "[I 2023-07-02 23:02:04,563] Trial 38 finished with value: 0.3712287317486988 and parameters: {'C': 7.000455835853153, 'gamma': 0.7054592431472382, 'kernel': 'sigmoid', 'degree': 9}. Best is trial 0 with value: 0.8069975928010802.\n",
      "[I 2023-07-02 23:02:05,489] Trial 39 finished with value: 0.13548239629705144 and parameters: {'C': 9.141081470309066, 'gamma': 0.5162289748723284, 'kernel': 'poly', 'degree': 9}. Best is trial 0 with value: 0.8069975928010802.\n",
      "[I 2023-07-02 23:02:06,600] Trial 40 finished with value: 0.0 and parameters: {'C': 8.911052883993907, 'gamma': 0.3446152052830205, 'kernel': 'rbf', 'degree': 6}. Best is trial 0 with value: 0.8069975928010802.\n",
      "[I 2023-07-02 23:02:07,013] Trial 41 finished with value: 0.3756664300458602 and parameters: {'C': 5.472181883605009, 'gamma': 0.29367583960700155, 'kernel': 'sigmoid', 'degree': 5}. Best is trial 0 with value: 0.8069975928010802.\n",
      "[I 2023-07-02 23:02:07,326] Trial 42 finished with value: 0.8069975928010802 and parameters: {'C': 1.3578990752536595, 'gamma': 0.5270208274542564, 'kernel': 'linear', 'degree': 2}. Best is trial 0 with value: 0.8069975928010802.\n",
      "[I 2023-07-02 23:02:08,445] Trial 43 finished with value: 0.0 and parameters: {'C': 5.360410852524665, 'gamma': 0.5452287703940054, 'kernel': 'rbf', 'degree': 4}. Best is trial 0 with value: 0.8069975928010802.\n",
      "[I 2023-07-02 23:02:08,861] Trial 44 finished with value: 0.37882954803800123 and parameters: {'C': 7.972343328210166, 'gamma': 0.27812392874945346, 'kernel': 'sigmoid', 'degree': 9}. Best is trial 0 with value: 0.8069975928010802.\n",
      "[I 2023-07-02 23:02:09,264] Trial 45 finished with value: 0.411700970632896 and parameters: {'C': 6.9901446403276095, 'gamma': 0.4148634149701272, 'kernel': 'sigmoid', 'degree': 8}. Best is trial 0 with value: 0.8069975928010802.\n",
      "[I 2023-07-02 23:02:09,577] Trial 46 finished with value: 0.8069975928010802 and parameters: {'C': 6.635954029505539, 'gamma': 0.2871345579764834, 'kernel': 'linear', 'degree': 5}. Best is trial 0 with value: 0.8069975928010802.\n",
      "[I 2023-07-02 23:02:09,890] Trial 47 finished with value: 0.8069975928010802 and parameters: {'C': 2.552536796061459, 'gamma': 0.362412951864749, 'kernel': 'linear', 'degree': 2}. Best is trial 0 with value: 0.8069975928010802.\n",
      "[I 2023-07-02 23:02:11,031] Trial 48 finished with value: 0.0 and parameters: {'C': 8.56905978170897, 'gamma': 0.7066212807862234, 'kernel': 'rbf', 'degree': 3}. Best is trial 0 with value: 0.8069975928010802.\n",
      "[I 2023-07-02 23:02:11,938] Trial 49 finished with value: 0.20571603821524898 and parameters: {'C': 4.395131327455933, 'gamma': 0.4045196870533997, 'kernel': 'poly', 'degree': 7}. Best is trial 0 with value: 0.8069975928010802.\n",
      "[I 2023-07-02 23:02:12,252] Trial 50 finished with value: 0.8069975928010802 and parameters: {'C': 5.081048959942868, 'gamma': 0.857924942776439, 'kernel': 'linear', 'degree': 2}. Best is trial 0 with value: 0.8069975928010802.\n",
      "[I 2023-07-02 23:02:13,416] Trial 51 finished with value: 0.0 and parameters: {'C': 5.899178254607286, 'gamma': 0.940827939010708, 'kernel': 'rbf', 'degree': 6}. Best is trial 0 with value: 0.8069975928010802.\n",
      "[I 2023-07-02 23:02:13,727] Trial 52 finished with value: 0.8069975928010802 and parameters: {'C': 9.4205016068876, 'gamma': 0.39224161142276653, 'kernel': 'linear', 'degree': 2}. Best is trial 0 with value: 0.8069975928010802.\n",
      "[I 2023-07-02 23:02:14,200] Trial 53 finished with value: 0.39827462848648426 and parameters: {'C': 0.28039607395034233, 'gamma': 0.1034985311483691, 'kernel': 'sigmoid', 'degree': 2}. Best is trial 0 with value: 0.8069975928010802.\n",
      "[I 2023-07-02 23:02:14,623] Trial 54 finished with value: 0.38560897942459 and parameters: {'C': 8.163237977630464, 'gamma': 0.28903622702566595, 'kernel': 'sigmoid', 'degree': 8}. Best is trial 0 with value: 0.8069975928010802.\n",
      "[I 2023-07-02 23:02:15,045] Trial 55 finished with value: 0.38560897942459 and parameters: {'C': 8.05446121081, 'gamma': 0.28921422684559345, 'kernel': 'sigmoid', 'degree': 5}. Best is trial 0 with value: 0.8069975928010802.\n",
      "[I 2023-07-02 23:02:16,001] Trial 56 finished with value: 0.15650312396590244 and parameters: {'C': 3.782979049348554, 'gamma': 0.7786488311345768, 'kernel': 'poly', 'degree': 8}. Best is trial 0 with value: 0.8069975928010802.\n",
      "[I 2023-07-02 23:02:16,314] Trial 57 finished with value: 0.8069975928010802 and parameters: {'C': 7.5699744534383555, 'gamma': 0.11209263014757327, 'kernel': 'linear', 'degree': 10}. Best is trial 0 with value: 0.8069975928010802.\n",
      "[I 2023-07-02 23:02:16,680] Trial 58 finished with value: 0.466670954149758 and parameters: {'C': 3.953096619468215, 'gamma': 0.020729274965495377, 'kernel': 'sigmoid', 'degree': 10}. Best is trial 0 with value: 0.8069975928010802.\n",
      "[I 2023-07-02 23:02:17,088] Trial 59 finished with value: 0.36197311464215626 and parameters: {'C': 5.777035092420532, 'gamma': 0.6355188400481013, 'kernel': 'sigmoid', 'degree': 8}. Best is trial 0 with value: 0.8069975928010802.\n",
      "[I 2023-07-02 23:02:17,500] Trial 60 finished with value: 0.38523749021947756 and parameters: {'C': 7.9366325328859, 'gamma': 0.7917219613666083, 'kernel': 'sigmoid', 'degree': 5}. Best is trial 0 with value: 0.8069975928010802.\n",
      "[I 2023-07-02 23:02:18,613] Trial 61 finished with value: 0.0 and parameters: {'C': 8.888271409307167, 'gamma': 0.3574058624265579, 'kernel': 'rbf', 'degree': 2}. Best is trial 0 with value: 0.8069975928010802.\n",
      "[I 2023-07-02 23:02:19,324] Trial 62 finished with value: 0.7379369345735167 and parameters: {'C': 0.9326573805384746, 'gamma': 0.7039594401445288, 'kernel': 'poly', 'degree': 2}. Best is trial 0 with value: 0.8069975928010802.\n",
      "[I 2023-07-02 23:02:19,733] Trial 63 finished with value: 0.3798170808986912 and parameters: {'C': 9.867731827161636, 'gamma': 0.3805280877985591, 'kernel': 'sigmoid', 'degree': 8}. Best is trial 0 with value: 0.8069975928010802.\n",
      "[I 2023-07-02 23:02:20,166] Trial 64 finished with value: 0.38851885157148874 and parameters: {'C': 3.824969896756066, 'gamma': 0.09266570953168207, 'kernel': 'sigmoid', 'degree': 3}. Best is trial 0 with value: 0.8069975928010802.\n",
      "[I 2023-07-02 23:02:20,479] Trial 65 finished with value: 0.8069975928010802 and parameters: {'C': 4.976988532479505, 'gamma': 0.021240108319744877, 'kernel': 'linear', 'degree': 7}. Best is trial 0 with value: 0.8069975928010802.\n",
      "[I 2023-07-02 23:02:20,792] Trial 66 finished with value: 0.8069975928010802 and parameters: {'C': 7.48584430472769, 'gamma': 0.587535077446188, 'kernel': 'linear', 'degree': 4}. Best is trial 0 with value: 0.8069975928010802.\n",
      "[I 2023-07-02 23:02:21,106] Trial 67 finished with value: 0.8069975928010802 and parameters: {'C': 9.635903140462052, 'gamma': 0.022032929942918177, 'kernel': 'linear', 'degree': 10}. Best is trial 0 with value: 0.8069975928010802.\n",
      "[I 2023-07-02 23:02:21,420] Trial 68 finished with value: 0.8069975928010802 and parameters: {'C': 0.8305859908804487, 'gamma': 0.5583157415573076, 'kernel': 'linear', 'degree': 6}. Best is trial 0 with value: 0.8069975928010802.\n",
      "[I 2023-07-02 23:02:21,814] Trial 69 finished with value: 0.39102036116140326 and parameters: {'C': 6.312824992832228, 'gamma': 0.5884711688038693, 'kernel': 'sigmoid', 'degree': 10}. Best is trial 0 with value: 0.8069975928010802.\n",
      "[I 2023-07-02 23:02:22,951] Trial 70 finished with value: 0.0 and parameters: {'C': 4.611001852578558, 'gamma': 0.6239312718235214, 'kernel': 'rbf', 'degree': 7}. Best is trial 0 with value: 0.8069975928010802.\n",
      "[I 2023-07-02 23:02:23,265] Trial 71 finished with value: 0.8069975928010802 and parameters: {'C': 0.8695729059533499, 'gamma': 0.9746508595895048, 'kernel': 'linear', 'degree': 9}. Best is trial 0 with value: 0.8069975928010802.\n",
      "[I 2023-07-02 23:02:24,372] Trial 72 finished with value: 0.0 and parameters: {'C': 6.878838608283405, 'gamma': 0.17099076995144238, 'kernel': 'rbf', 'degree': 7}. Best is trial 0 with value: 0.8069975928010802.\n",
      "[I 2023-07-02 23:02:24,686] Trial 73 finished with value: 0.8069975928010802 and parameters: {'C': 4.240606059277127, 'gamma': 0.9334011985204731, 'kernel': 'linear', 'degree': 9}. Best is trial 0 with value: 0.8069975928010802.\n"
     ]
    },
    {
     "name": "stderr",
     "output_type": "stream",
     "text": [
      "[I 2023-07-02 23:02:25,792] Trial 74 finished with value: 0.0 and parameters: {'C': 9.87403368021795, 'gamma': 0.15891272219249292, 'kernel': 'rbf', 'degree': 9}. Best is trial 0 with value: 0.8069975928010802.\n",
      "[I 2023-07-02 23:02:26,909] Trial 75 finished with value: 0.0 and parameters: {'C': 4.740062281970205, 'gamma': 0.42067130731428853, 'kernel': 'rbf', 'degree': 10}. Best is trial 0 with value: 0.8069975928010802.\n",
      "[I 2023-07-02 23:02:27,825] Trial 76 finished with value: 0.2629352418578247 and parameters: {'C': 9.966704687031664, 'gamma': 0.5598773885466012, 'kernel': 'poly', 'degree': 6}. Best is trial 0 with value: 0.8069975928010802.\n",
      "[I 2023-07-02 23:02:28,975] Trial 77 finished with value: 0.0 and parameters: {'C': 1.3786782099998005, 'gamma': 0.9545105169861352, 'kernel': 'rbf', 'degree': 5}. Best is trial 0 with value: 0.8069975928010802.\n",
      "[I 2023-07-02 23:02:29,386] Trial 78 finished with value: 0.3797040132785906 and parameters: {'C': 1.2242201627763274, 'gamma': 0.6748574636368716, 'kernel': 'sigmoid', 'degree': 6}. Best is trial 0 with value: 0.8069975928010802.\n",
      "[I 2023-07-02 23:02:29,784] Trial 79 finished with value: 0.3629624960870969 and parameters: {'C': 5.653285918200324, 'gamma': 0.8778870666317615, 'kernel': 'sigmoid', 'degree': 7}. Best is trial 0 with value: 0.8069975928010802.\n",
      "[I 2023-07-02 23:02:30,204] Trial 80 finished with value: 0.3734127981875022 and parameters: {'C': 7.070389704182313, 'gamma': 0.22083451989382163, 'kernel': 'sigmoid', 'degree': 5}. Best is trial 0 with value: 0.8069975928010802.\n",
      "[I 2023-07-02 23:02:31,365] Trial 81 finished with value: 0.0 and parameters: {'C': 4.431001728034918, 'gamma': 0.9051171075488109, 'kernel': 'rbf', 'degree': 7}. Best is trial 0 with value: 0.8069975928010802.\n",
      "[I 2023-07-02 23:02:32,281] Trial 82 finished with value: 0.2629352418578247 and parameters: {'C': 8.637400716592778, 'gamma': 0.9500254174210657, 'kernel': 'poly', 'degree': 6}. Best is trial 0 with value: 0.8069975928010802.\n",
      "[I 2023-07-02 23:02:32,958] Trial 83 finished with value: 0.7376773029968839 and parameters: {'C': 9.802322495326223, 'gamma': 0.4976919130529409, 'kernel': 'poly', 'degree': 3}. Best is trial 0 with value: 0.8069975928010802.\n",
      "[I 2023-07-02 23:02:33,915] Trial 84 finished with value: 0.11861673104626762 and parameters: {'C': 1.3676538056819474, 'gamma': 0.1603836665771714, 'kernel': 'poly', 'degree': 10}. Best is trial 0 with value: 0.8069975928010802.\n",
      "[I 2023-07-02 23:02:34,763] Trial 85 finished with value: 0.641384055741885 and parameters: {'C': 4.792220238602436, 'gamma': 0.6708821611358169, 'kernel': 'poly', 'degree': 4}. Best is trial 0 with value: 0.8069975928010802.\n",
      "[I 2023-07-02 23:02:35,678] Trial 86 finished with value: 0.2629352418578247 and parameters: {'C': 1.8524037943397935, 'gamma': 0.09781550841948505, 'kernel': 'poly', 'degree': 6}. Best is trial 0 with value: 0.8069975928010802.\n",
      "[I 2023-07-02 23:02:36,094] Trial 87 finished with value: 0.4186017111411829 and parameters: {'C': 6.934908803430717, 'gamma': 0.04891901844268795, 'kernel': 'sigmoid', 'degree': 10}. Best is trial 0 with value: 0.8069975928010802.\n",
      "[I 2023-07-02 23:02:36,407] Trial 88 finished with value: 0.8069975928010802 and parameters: {'C': 0.7046718025631511, 'gamma': 0.2841088716657317, 'kernel': 'linear', 'degree': 5}. Best is trial 0 with value: 0.8069975928010802.\n",
      "[I 2023-07-02 23:02:37,542] Trial 89 finished with value: 0.0 and parameters: {'C': 4.896777553391111, 'gamma': 0.622072223814993, 'kernel': 'rbf', 'degree': 4}. Best is trial 0 with value: 0.8069975928010802.\n",
      "[I 2023-07-02 23:02:38,459] Trial 90 finished with value: 0.2629352418578247 and parameters: {'C': 7.162160900257069, 'gamma': 0.8962547693103273, 'kernel': 'poly', 'degree': 6}. Best is trial 0 with value: 0.8069975928010802.\n",
      "[I 2023-07-02 23:02:38,771] Trial 91 finished with value: 0.8069975928010802 and parameters: {'C': 2.500457985983824, 'gamma': 0.2765507986398872, 'kernel': 'linear', 'degree': 4}. Best is trial 0 with value: 0.8069975928010802.\n",
      "[I 2023-07-02 23:02:39,918] Trial 92 finished with value: 0.0 and parameters: {'C': 1.2856451050105873, 'gamma': 0.891622007932496, 'kernel': 'rbf', 'degree': 2}. Best is trial 0 with value: 0.8069975928010802.\n",
      "[I 2023-07-02 23:02:40,231] Trial 93 finished with value: 0.8069975928010802 and parameters: {'C': 5.417354764003623, 'gamma': 0.5909727068406704, 'kernel': 'linear', 'degree': 5}. Best is trial 0 with value: 0.8069975928010802.\n",
      "[I 2023-07-02 23:02:40,942] Trial 94 finished with value: 0.7379369345735167 and parameters: {'C': 6.494580689182852, 'gamma': 0.5750705216222227, 'kernel': 'poly', 'degree': 2}. Best is trial 0 with value: 0.8069975928010802.\n",
      "[I 2023-07-02 23:02:42,054] Trial 95 finished with value: 0.0 and parameters: {'C': 1.6133054779248872, 'gamma': 0.25349815110066304, 'kernel': 'rbf', 'degree': 10}. Best is trial 0 with value: 0.8069975928010802.\n",
      "[I 2023-07-02 23:02:43,017] Trial 96 finished with value: 0.11861673104626762 and parameters: {'C': 0.8943140820502579, 'gamma': 0.5292662756745521, 'kernel': 'poly', 'degree': 10}. Best is trial 0 with value: 0.8069975928010802.\n",
      "[I 2023-07-02 23:02:43,429] Trial 97 finished with value: 0.38366152765049255 and parameters: {'C': 8.668520546350404, 'gamma': 0.8189013502397872, 'kernel': 'sigmoid', 'degree': 7}. Best is trial 0 with value: 0.8069975928010802.\n",
      "[I 2023-07-02 23:02:43,742] Trial 98 finished with value: 0.8069975928010802 and parameters: {'C': 5.758965625752008, 'gamma': 0.28717930272368136, 'kernel': 'linear', 'degree': 6}. Best is trial 0 with value: 0.8069975928010802.\n",
      "[I 2023-07-02 23:02:44,054] Trial 99 finished with value: 0.8069975928010802 and parameters: {'C': 2.4998563509092944, 'gamma': 0.1236884564918115, 'kernel': 'linear', 'degree': 6}. Best is trial 0 with value: 0.8069975928010802.\n"
     ]
    }
   ],
   "source": [
    "# Define the Optuna study\n",
    "study = optuna.create_study(direction='maximize',sampler=RandomSampler(seed=42))\n",
    "study.optimize(objective_SVC, n_trials=100)"
   ]
  },
  {
   "cell_type": "code",
   "execution_count": 33,
   "metadata": {
    "id": "4DZOp2qV8m27"
   },
   "outputs": [],
   "source": [
    "# Get the best hyperparameters from Optuna\n",
    "best_params = study.best_params"
   ]
  },
  {
   "cell_type": "code",
   "execution_count": 34,
   "metadata": {
    "colab": {
     "base_uri": "https://localhost:8080/"
    },
    "id": "Uv7CFYFPdvcz",
    "outputId": "7513d6a6-57a3-4ae0-8c3c-57583009ad86"
   },
   "outputs": [
    {
     "data": {
      "text/plain": [
       "{'C': 3.807947176588889,\n",
       " 'gamma': 0.951207163345817,\n",
       " 'kernel': 'linear',\n",
       " 'degree': 2}"
      ]
     },
     "execution_count": 34,
     "metadata": {},
     "output_type": "execute_result"
    }
   ],
   "source": [
    "best_params"
   ]
  },
  {
   "cell_type": "code",
   "execution_count": 36,
   "metadata": {
    "colab": {
     "base_uri": "https://localhost:8080/"
    },
    "id": "-xeMlNlpFidq",
    "outputId": "c643fd8a-758b-46fe-d343-21641ac02ac2"
   },
   "outputs": [
    {
     "data": {
      "text/plain": [
       "array([ True, False,  True, ..., False, False, False])"
      ]
     },
     "execution_count": 36,
     "metadata": {},
     "output_type": "execute_result"
    }
   ],
   "source": [
    "best_features"
   ]
  },
  {
   "attachments": {},
   "cell_type": "markdown",
   "metadata": {
    "id": "NImo9DHfzfhA"
   },
   "source": [
    "#### Get best parameters and make predictions"
   ]
  },
  {
   "cell_type": "code",
   "execution_count": 37,
   "metadata": {
    "id": "PmRKsJK4wewQ"
   },
   "outputs": [],
   "source": [
    "selected_features_indices = [i for i, value in enumerate(best_features) if value]\n",
    "X_test_selected = X_test[:, selected_features_indices]"
   ]
  },
  {
   "cell_type": "code",
   "execution_count": 38,
   "metadata": {
    "id": "8M6oV_oAxZ7v"
   },
   "outputs": [],
   "source": [
    "X_train_val_selected_final_features = X_train_val[:, selected_features_indices]"
   ]
  },
  {
   "cell_type": "code",
   "execution_count": 39,
   "metadata": {
    "colab": {
     "base_uri": "https://localhost:8080/"
    },
    "id": "OLDTmPejwetd",
    "outputId": "931f946b-e2aa-4db8-d5bc-faf52bceaba1"
   },
   "outputs": [
    {
     "data": {
      "text/plain": [
       "(286, 300)"
      ]
     },
     "execution_count": 39,
     "metadata": {},
     "output_type": "execute_result"
    }
   ],
   "source": [
    "X_test_selected.shape"
   ]
  },
  {
   "cell_type": "code",
   "execution_count": 40,
   "metadata": {
    "id": "B4Vy_aQpweqc"
   },
   "outputs": [],
   "source": [
    "best_classifier_SVC = SVC(**best_params)\n"
   ]
  },
  {
   "cell_type": "code",
   "execution_count": 41,
   "metadata": {
    "colab": {
     "base_uri": "https://localhost:8080/",
     "height": 74
    },
    "id": "6sKY-YjPwene",
    "outputId": "17096830-2467-4f31-e783-129607a2fd82"
   },
   "outputs": [
    {
     "data": {
      "text/html": [
       "<style>#sk-container-id-1 {color: black;}#sk-container-id-1 pre{padding: 0;}#sk-container-id-1 div.sk-toggleable {background-color: white;}#sk-container-id-1 label.sk-toggleable__label {cursor: pointer;display: block;width: 100%;margin-bottom: 0;padding: 0.3em;box-sizing: border-box;text-align: center;}#sk-container-id-1 label.sk-toggleable__label-arrow:before {content: \"▸\";float: left;margin-right: 0.25em;color: #696969;}#sk-container-id-1 label.sk-toggleable__label-arrow:hover:before {color: black;}#sk-container-id-1 div.sk-estimator:hover label.sk-toggleable__label-arrow:before {color: black;}#sk-container-id-1 div.sk-toggleable__content {max-height: 0;max-width: 0;overflow: hidden;text-align: left;background-color: #f0f8ff;}#sk-container-id-1 div.sk-toggleable__content pre {margin: 0.2em;color: black;border-radius: 0.25em;background-color: #f0f8ff;}#sk-container-id-1 input.sk-toggleable__control:checked~div.sk-toggleable__content {max-height: 200px;max-width: 100%;overflow: auto;}#sk-container-id-1 input.sk-toggleable__control:checked~label.sk-toggleable__label-arrow:before {content: \"▾\";}#sk-container-id-1 div.sk-estimator input.sk-toggleable__control:checked~label.sk-toggleable__label {background-color: #d4ebff;}#sk-container-id-1 div.sk-label input.sk-toggleable__control:checked~label.sk-toggleable__label {background-color: #d4ebff;}#sk-container-id-1 input.sk-hidden--visually {border: 0;clip: rect(1px 1px 1px 1px);clip: rect(1px, 1px, 1px, 1px);height: 1px;margin: -1px;overflow: hidden;padding: 0;position: absolute;width: 1px;}#sk-container-id-1 div.sk-estimator {font-family: monospace;background-color: #f0f8ff;border: 1px dotted black;border-radius: 0.25em;box-sizing: border-box;margin-bottom: 0.5em;}#sk-container-id-1 div.sk-estimator:hover {background-color: #d4ebff;}#sk-container-id-1 div.sk-parallel-item::after {content: \"\";width: 100%;border-bottom: 1px solid gray;flex-grow: 1;}#sk-container-id-1 div.sk-label:hover label.sk-toggleable__label {background-color: #d4ebff;}#sk-container-id-1 div.sk-serial::before {content: \"\";position: absolute;border-left: 1px solid gray;box-sizing: border-box;top: 0;bottom: 0;left: 50%;z-index: 0;}#sk-container-id-1 div.sk-serial {display: flex;flex-direction: column;align-items: center;background-color: white;padding-right: 0.2em;padding-left: 0.2em;position: relative;}#sk-container-id-1 div.sk-item {position: relative;z-index: 1;}#sk-container-id-1 div.sk-parallel {display: flex;align-items: stretch;justify-content: center;background-color: white;position: relative;}#sk-container-id-1 div.sk-item::before, #sk-container-id-1 div.sk-parallel-item::before {content: \"\";position: absolute;border-left: 1px solid gray;box-sizing: border-box;top: 0;bottom: 0;left: 50%;z-index: -1;}#sk-container-id-1 div.sk-parallel-item {display: flex;flex-direction: column;z-index: 1;position: relative;background-color: white;}#sk-container-id-1 div.sk-parallel-item:first-child::after {align-self: flex-end;width: 50%;}#sk-container-id-1 div.sk-parallel-item:last-child::after {align-self: flex-start;width: 50%;}#sk-container-id-1 div.sk-parallel-item:only-child::after {width: 0;}#sk-container-id-1 div.sk-dashed-wrapped {border: 1px dashed gray;margin: 0 0.4em 0.5em 0.4em;box-sizing: border-box;padding-bottom: 0.4em;background-color: white;}#sk-container-id-1 div.sk-label label {font-family: monospace;font-weight: bold;display: inline-block;line-height: 1.2em;}#sk-container-id-1 div.sk-label-container {text-align: center;}#sk-container-id-1 div.sk-container {/* jupyter's `normalize.less` sets `[hidden] { display: none; }` but bootstrap.min.css set `[hidden] { display: none !important; }` so we also need the `!important` here to be able to override the default hidden behavior on the sphinx rendered scikit-learn.org. See: https://github.com/scikit-learn/scikit-learn/issues/21755 */display: inline-block !important;position: relative;}#sk-container-id-1 div.sk-text-repr-fallback {display: none;}</style><div id=\"sk-container-id-1\" class=\"sk-top-container\"><div class=\"sk-text-repr-fallback\"><pre>SVC(C=3.807947176588889, degree=2, gamma=0.951207163345817, kernel=&#x27;linear&#x27;)</pre><b>In a Jupyter environment, please rerun this cell to show the HTML representation or trust the notebook. <br />On GitHub, the HTML representation is unable to render, please try loading this page with nbviewer.org.</b></div><div class=\"sk-container\" hidden><div class=\"sk-item\"><div class=\"sk-estimator sk-toggleable\"><input class=\"sk-toggleable__control sk-hidden--visually\" id=\"sk-estimator-id-1\" type=\"checkbox\" checked><label for=\"sk-estimator-id-1\" class=\"sk-toggleable__label sk-toggleable__label-arrow\">SVC</label><div class=\"sk-toggleable__content\"><pre>SVC(C=3.807947176588889, degree=2, gamma=0.951207163345817, kernel=&#x27;linear&#x27;)</pre></div></div></div></div></div>"
      ],
      "text/plain": [
       "SVC(C=3.807947176588889, degree=2, gamma=0.951207163345817, kernel='linear')"
      ]
     },
     "execution_count": 41,
     "metadata": {},
     "output_type": "execute_result"
    }
   ],
   "source": [
    "best_classifier_SVC.fit(X_train_val_selected_final_features, y_train_val)"
   ]
  },
  {
   "cell_type": "code",
   "execution_count": 42,
   "metadata": {
    "id": "Gy4YZNL9wekn"
   },
   "outputs": [],
   "source": [
    "y_test_pred = best_classifier_SVC.predict(X_test_selected)"
   ]
  },
  {
   "cell_type": "code",
   "execution_count": 43,
   "metadata": {
    "id": "dEWHhqiJwehs"
   },
   "outputs": [],
   "source": [
    "#Validate the model  using balanced_acc, precision,recall and f1\n",
    "balanced_acc_SVC = balanced_accuracy_score(y_test, y_test_pred)\n",
    "precision_SVC = precision_score(y_test, y_test_pred,average='weighted')\n",
    "recall_SVC = recall_score(y_test, y_test_pred,average='weighted')\n",
    "f1_SVC = f1_score(y_test, y_test_pred,average='weighted')"
   ]
  },
  {
   "cell_type": "code",
   "execution_count": 44,
   "metadata": {
    "colab": {
     "base_uri": "https://localhost:8080/"
    },
    "id": "wKzXmHE8weem",
    "outputId": "6d489fd8-bfe9-44a7-def6-f87e10d3ebe2"
   },
   "outputs": [
    {
     "data": {
      "text/plain": [
       "0.842797884127189"
      ]
     },
     "execution_count": 44,
     "metadata": {},
     "output_type": "execute_result"
    }
   ],
   "source": [
    "balanced_acc_SVC"
   ]
  },
  {
   "cell_type": "code",
   "execution_count": 45,
   "metadata": {
    "colab": {
     "base_uri": "https://localhost:8080/"
    },
    "id": "86dOWAyGD3ml",
    "outputId": "e880ace1-a9c5-4249-d9a0-e806b35a43f3"
   },
   "outputs": [
    {
     "data": {
      "text/plain": [
       "0.8606172703010647"
      ]
     },
     "execution_count": 45,
     "metadata": {},
     "output_type": "execute_result"
    }
   ],
   "source": [
    "precision_SVC"
   ]
  },
  {
   "cell_type": "code",
   "execution_count": 46,
   "metadata": {
    "colab": {
     "base_uri": "https://localhost:8080/"
    },
    "id": "iM_eZ9IKD6K9",
    "outputId": "27aca24f-6f7c-4082-bb3e-5da2727c8104"
   },
   "outputs": [
    {
     "data": {
      "text/plain": [
       "0.8601398601398601"
      ]
     },
     "execution_count": 46,
     "metadata": {},
     "output_type": "execute_result"
    }
   ],
   "source": [
    "recall_SVC"
   ]
  },
  {
   "cell_type": "code",
   "execution_count": 47,
   "metadata": {
    "colab": {
     "base_uri": "https://localhost:8080/"
    },
    "id": "PERn52crD8NZ",
    "outputId": "164fa454-98eb-408a-bd87-46618dae79cf"
   },
   "outputs": [
    {
     "data": {
      "text/plain": [
       "0.8588390549969841"
      ]
     },
     "execution_count": 47,
     "metadata": {},
     "output_type": "execute_result"
    }
   ],
   "source": [
    "f1_SVC"
   ]
  },
  {
   "cell_type": "code",
   "execution_count": 48,
   "metadata": {
    "colab": {
     "base_uri": "https://localhost:8080/"
    },
    "id": "UulJxztwy4Cw",
    "outputId": "248a27ac-a06a-4e5f-d25d-08d71f2e952e"
   },
   "outputs": [
    {
     "data": {
      "text/plain": [
       "array([0, 0, 1, 0, 0, 0, 0, 0, 1, 0, 0, 2, 2, 1, 1, 0, 3, 1, 0, 3, 3, 2,\n",
       "       0, 2, 3, 0, 3, 2, 0, 0, 3, 3, 1, 1, 0, 0, 3, 3, 2, 1, 3, 0, 3, 3,\n",
       "       0, 2, 3, 1, 0, 0, 2, 0, 2, 0, 0, 0, 0, 0, 0, 2, 0, 0, 2, 0, 0, 2,\n",
       "       2, 2, 0, 0, 1, 0, 1, 3, 0, 0, 2, 0, 2, 1, 2, 1, 3, 0, 1, 0, 1, 2,\n",
       "       0, 0, 1, 0, 3, 2, 0, 1, 0, 2, 1, 2, 0, 3, 0, 2, 0, 1, 3, 2, 1, 0,\n",
       "       0, 2, 3, 3, 0, 0, 0, 1, 2, 0, 1, 1, 0, 3, 1, 1, 2, 2, 3, 3, 0, 0,\n",
       "       3, 0, 0, 0, 0, 3, 0, 0, 3, 2, 2, 3, 3, 0, 0, 0, 3, 3, 2, 0, 2, 2,\n",
       "       2, 1, 0, 3, 0, 2, 0, 1, 2, 0, 3, 1, 2, 2, 0, 2, 0, 3, 3, 2, 0, 1,\n",
       "       0, 2, 0, 0, 2, 2, 0, 2, 0, 0, 1, 0, 0, 0, 3, 2, 1, 2, 3, 1, 0, 0,\n",
       "       3, 0, 0, 3, 3, 1, 0, 0, 0, 0, 2, 0, 2, 0, 3, 1, 0, 3, 2, 3, 0, 3,\n",
       "       0, 0, 0, 1, 0, 2, 0, 1, 0, 0, 0, 0, 3, 0, 0, 0, 3, 1, 2, 3, 0, 1,\n",
       "       0, 0, 0, 0, 0, 1, 0, 0, 0, 0, 2, 0, 0, 0, 1, 2, 0, 0, 0, 3, 0, 0,\n",
       "       0, 0, 0, 1, 0, 0, 1, 0, 2, 0, 1, 1, 0, 2, 0, 3, 0, 0, 0, 0, 1, 2])"
      ]
     },
     "execution_count": 48,
     "metadata": {},
     "output_type": "execute_result"
    }
   ],
   "source": [
    "y_test_pred"
   ]
  },
  {
   "cell_type": "code",
   "execution_count": 49,
   "metadata": {
    "colab": {
     "base_uri": "https://localhost:8080/"
    },
    "id": "400TTZWWyf-8",
    "outputId": "4907a888-4439-4a57-ed49-f3e95ff737a6"
   },
   "outputs": [
    {
     "data": {
      "text/plain": [
       "array([0, 0, 1, 2, 0, 0, 0, 0, 1, 0, 0, 2, 2, 1, 1, 3, 3, 1, 2, 3, 3, 0,\n",
       "       0, 0, 3, 0, 1, 2, 0, 0, 3, 3, 2, 0, 0, 0, 1, 3, 2, 1, 3, 0, 3, 3,\n",
       "       0, 2, 3, 1, 2, 2, 2, 0, 2, 0, 0, 0, 0, 1, 0, 2, 0, 1, 2, 0, 0, 2,\n",
       "       2, 2, 0, 0, 1, 0, 1, 3, 0, 0, 2, 0, 0, 1, 0, 1, 0, 2, 1, 3, 1, 1,\n",
       "       2, 0, 1, 0, 3, 2, 0, 1, 0, 2, 1, 2, 1, 3, 0, 2, 0, 1, 3, 2, 1, 0,\n",
       "       0, 2, 2, 3, 0, 0, 0, 1, 2, 0, 1, 3, 0, 3, 1, 1, 2, 2, 3, 3, 0, 0,\n",
       "       3, 0, 0, 0, 0, 3, 0, 3, 3, 0, 2, 3, 3, 2, 2, 0, 3, 2, 2, 0, 0, 2,\n",
       "       2, 1, 0, 3, 0, 2, 2, 1, 2, 0, 3, 1, 2, 2, 0, 2, 0, 3, 3, 2, 0, 1,\n",
       "       0, 1, 0, 0, 2, 2, 0, 2, 0, 0, 1, 0, 0, 0, 3, 2, 1, 2, 3, 1, 0, 0,\n",
       "       3, 2, 0, 3, 3, 1, 0, 2, 0, 0, 2, 0, 2, 0, 3, 1, 0, 3, 2, 3, 0, 3,\n",
       "       0, 0, 0, 1, 0, 2, 0, 1, 0, 0, 0, 0, 3, 1, 2, 1, 3, 1, 2, 3, 0, 1,\n",
       "       1, 0, 0, 0, 0, 1, 0, 0, 0, 0, 2, 0, 0, 0, 3, 2, 0, 0, 0, 3, 0, 0,\n",
       "       0, 0, 0, 0, 0, 0, 1, 0, 2, 0, 1, 1, 0, 0, 0, 3, 0, 0, 0, 0, 1, 2])"
      ]
     },
     "execution_count": 49,
     "metadata": {},
     "output_type": "execute_result"
    }
   ],
   "source": [
    "y_test"
   ]
  },
  {
   "cell_type": "code",
   "execution_count": 50,
   "metadata": {},
   "outputs": [
    {
     "name": "stdout",
     "output_type": "stream",
     "text": [
      "[237 186 301 201 303  83 247 236 220 261 194 292 222  60 223 244 254  37\n",
      " 136 128]\n"
     ]
    }
   ],
   "source": [
    "# Get the coefficients and support vectors\n",
    "coefs = best_classifier_SVC.coef_\n",
    "support_vectors = best_classifier_SVC.support_vectors_\n",
    "\n",
    "# Calculate the feature importance scores\n",
    "feature_importance = np.abs(np.dot(coefs, support_vectors.T))\n",
    "\n",
    "# Get the top 20 indices of the feature importance scores\n",
    "top20_indices = np.argsort(feature_importance[0])[-20:]\n",
    "\n",
    "# Print the top 20 indices\n",
    "print(top20_indices)"
   ]
  },
  {
   "cell_type": "code",
   "execution_count": 51,
   "metadata": {},
   "outputs": [
    {
     "name": "stdout",
     "output_type": "stream",
     "text": [
      "Index(['ENSG00000026025', 'ENSG00000087086', 'ENSG00000112306',\n",
      "       'ENSG00000145425', 'ENSG00000144713', 'ENSG00000198918',\n",
      "       'ENSG00000184009', 'ENSG00000205542', 'ENSG00000111640',\n",
      "       'ENSG00000145423', 'ENSG00000187514', 'ENSG00000034510',\n",
      "       'ENSG00000075624', 'ENSG00000147604', 'ENSG00000167996',\n",
      "       'ENSG00000149273', 'ENSG00000137154', 'ENSG00000140988',\n",
      "       'ENSG00000138326', 'ENSG00000134419'],\n",
      "      dtype='object')\n"
     ]
    }
   ],
   "source": [
    "#select the top 20 important features of the classifier\n",
    "top20_indices_SVC= pd.Series(top20_indices).sort_values(ascending=False)\n",
    "\n",
    "# Filter the DataFrame using the boolean array\n",
    "data_filtered_features =df_filtered.iloc[:,1:-9].loc[:, best_features]\n",
    "\n",
    "# Print the filtered DataFrame\n",
    "data_filtered_features\n",
    "\n",
    "# Get the column names corresponding to the series indices\n",
    "column_names_SVC = data_filtered_features.columns[top20_indices_SVC.index]\n",
    "\n",
    "# Print the column names\n",
    "print(column_names_SVC)"
   ]
  },
  {
   "attachments": {},
   "cell_type": "markdown",
   "metadata": {
    "id": "Y3xh8pmBzmXq"
   },
   "source": [
    "## Random Forest"
   ]
  },
  {
   "attachments": {},
   "cell_type": "markdown",
   "metadata": {
    "id": "32MLcGvO0T3S"
   },
   "source": [
    "#### Cross val for hyperparameter tunning and feature selection"
   ]
  },
  {
   "cell_type": "code",
   "execution_count": 52,
   "metadata": {
    "id": "_TlPeD810T3c"
   },
   "outputs": [],
   "source": [
    "# Define the number of folds for cross-validation\n",
    "n_folds = 5"
   ]
  },
  {
   "cell_type": "code",
   "execution_count": 53,
   "metadata": {
    "id": "kbPc-XgT0T3c"
   },
   "outputs": [],
   "source": [
    "# Define the objective function for Optuna hyperparameter tuning\n",
    "def objective_RF(trial):\n",
    "  global best_features\n",
    "  # Define the hyperparameters to be optimized\n",
    "  n_estimators= trial.suggest_int('n_estimators', 100,1000)\n",
    "  max_depth= trial.suggest_int('max_depth', 5, 31)\n",
    "  min_samples_split= trial.suggest_int('min_samples_split', 2, 100)\n",
    "  min_samples_leaf= trial.suggest_int('min_samples_leaf', 1, 4)\n",
    "  bootstrap=trial.suggest_categorical('bootstrap', [True, False])\n",
    "\n",
    "  # Instantiate the classifier with the current hyperparameters\n",
    "  classifier = RandomForestClassifier(n_estimators=n_estimators, max_depth=max_depth,min_samples_split=min_samples_split,min_samples_leaf=min_samples_leaf,bootstrap=bootstrap)\n",
    "\n",
    "  # Perform cross-validation with feature selection\n",
    "  kf = StratifiedKFold(n_splits=n_folds, shuffle=True, random_state=42)\n",
    "  cv_scores = []\n",
    "  feature_selector = SelectKBest(score_func=f_classif, k=300)  # Adjust the number of features as desired\n",
    "  best_features = None\n",
    "\n",
    "  for train_index, val_index in kf.split(X_train_val, y_train_val):\n",
    "      X_train, X_val = X_train_val[train_index], X_train_val[val_index]\n",
    "      y_train, y_val = y_train_val[train_index], y_train_val[val_index]\n",
    "\n",
    "      # Perform feature selection on the training set\n",
    "      X_train_selected = feature_selector.fit_transform(X_train, y_train)\n",
    "      selected_features = feature_selector.get_support()\n",
    "\n",
    "      # Apply the same feature selection on the validation set\n",
    "      X_val_selected = X_val[:, selected_features]\n",
    "\n",
    "      # Fit the classifier on the selected features and evaluate on the validation set\n",
    "      classifier.fit(X_train_selected, y_train)\n",
    "      y_pred = classifier.predict(X_val_selected)\n",
    "      mcc = matthews_corrcoef(y_val, y_pred)\n",
    "      cv_scores.append(mcc)\n",
    "\n",
    "  # Calculate the average MCC\n",
    "  avg_mcc = np.mean(cv_scores)\n",
    "\n",
    "  if trial.should_prune()==False:\n",
    "    best_features = selected_features.copy()\n",
    "\n",
    "  return avg_mcc"
   ]
  },
  {
   "cell_type": "code",
   "execution_count": 54,
   "metadata": {
    "colab": {
     "base_uri": "https://localhost:8080/"
    },
    "id": "dAxE-6390T3c",
    "outputId": "e995e11c-d6eb-46a0-dafe-07d0cf13a9c2"
   },
   "outputs": [
    {
     "name": "stderr",
     "output_type": "stream",
     "text": [
      "[I 2023-07-02 23:02:44,311] A new study created in memory with name: no-name-dcb340a6-cb6f-4dac-ba72-2a68cad3f173\n",
      "[I 2023-07-02 23:03:00,754] Trial 0 finished with value: 0.8278645031523357 and parameters: {'n_estimators': 437, 'max_depth': 30, 'min_samples_split': 74, 'min_samples_leaf': 3, 'bootstrap': True}. Best is trial 0 with value: 0.8278645031523357.\n",
      "[I 2023-07-02 23:03:10,135] Trial 1 finished with value: 0.8356073901408898 and parameters: {'n_estimators': 152, 'max_depth': 28, 'min_samples_split': 61, 'min_samples_leaf': 3, 'bootstrap': False}. Best is trial 1 with value: 0.8356073901408898.\n",
      "[I 2023-07-02 23:04:01,195] Trial 2 finished with value: 0.8419249928184153 and parameters: {'n_estimators': 850, 'max_depth': 10, 'min_samples_split': 20, 'min_samples_leaf': 1, 'bootstrap': False}. Best is trial 2 with value: 0.8419249928184153.\n",
      "[I 2023-07-02 23:04:30,484] Trial 3 finished with value: 0.8369720299433926 and parameters: {'n_estimators': 489, 'max_depth': 12, 'min_samples_split': 62, 'min_samples_leaf': 1, 'bootstrap': False}. Best is trial 2 with value: 0.8419249928184153.\n",
      "[I 2023-07-02 23:04:52,377] Trial 4 finished with value: 0.8367645090846517 and parameters: {'n_estimators': 510, 'max_depth': 26, 'min_samples_split': 21, 'min_samples_leaf': 3, 'bootstrap': True}. Best is trial 2 with value: 0.8419249928184153.\n",
      "[I 2023-07-02 23:05:16,983] Trial 5 finished with value: 0.834211934021741 and parameters: {'n_estimators': 647, 'max_depth': 9, 'min_samples_split': 8, 'min_samples_leaf': 4, 'bootstrap': True}. Best is trial 2 with value: 0.8419249928184153.\n",
      "[I 2023-07-02 23:05:34,235] Trial 6 finished with value: 0.8242062339526044 and parameters: {'n_estimators': 374, 'max_depth': 7, 'min_samples_split': 69, 'min_samples_leaf': 2, 'bootstrap': False}. Best is trial 2 with value: 0.8419249928184153.\n",
      "[I 2023-07-02 23:05:42,905] Trial 7 finished with value: 0.8434145294761946 and parameters: {'n_estimators': 130, 'max_depth': 29, 'min_samples_split': 27, 'min_samples_leaf': 3, 'bootstrap': False}. Best is trial 7 with value: 0.8434145294761946.\n",
      "[I 2023-07-02 23:06:01,161] Trial 8 finished with value: 0.8161720445625594 and parameters: {'n_estimators': 592, 'max_depth': 9, 'min_samples_split': 97, 'min_samples_leaf': 4, 'bootstrap': True}. Best is trial 7 with value: 0.8434145294761946.\n",
      "[I 2023-07-02 23:06:49,074] Trial 9 finished with value: 0.8546689450491212 and parameters: {'n_estimators': 638, 'max_depth': 29, 'min_samples_split': 10, 'min_samples_leaf': 1, 'bootstrap': False}. Best is trial 9 with value: 0.8546689450491212.\n",
      "[I 2023-07-02 23:07:14,551] Trial 10 finished with value: 0.8199285518271665 and parameters: {'n_estimators': 450, 'max_depth': 12, 'min_samples_split': 84, 'min_samples_leaf': 2, 'bootstrap': False}. Best is trial 9 with value: 0.8546689450491212.\n",
      "[I 2023-07-02 23:07:24,272] Trial 11 finished with value: 0.8354565920510287 and parameters: {'n_estimators': 226, 'max_depth': 26, 'min_samples_split': 9, 'min_samples_leaf': 4, 'bootstrap': True}. Best is trial 9 with value: 0.8546689450491212.\n",
      "[I 2023-07-02 23:07:28,258] Trial 12 finished with value: 0.825118868529674 and parameters: {'n_estimators': 104, 'max_depth': 27, 'min_samples_split': 71, 'min_samples_leaf': 3, 'bootstrap': True}. Best is trial 9 with value: 0.8546689450491212.\n",
      "[I 2023-07-02 23:07:41,039] Trial 13 finished with value: 0.8186699651750381 and parameters: {'n_estimators': 422, 'max_depth': 8, 'min_samples_split': 87, 'min_samples_leaf': 3, 'bootstrap': True}. Best is trial 9 with value: 0.8546689450491212.\n",
      "[I 2023-07-02 23:07:54,967] Trial 14 finished with value: 0.8292056258519718 and parameters: {'n_estimators': 380, 'max_depth': 13, 'min_samples_split': 74, 'min_samples_leaf': 3, 'bootstrap': True}. Best is trial 9 with value: 0.8546689450491212.\n",
      "[I 2023-07-02 23:08:02,723] Trial 15 finished with value: 0.8200742150254039 and parameters: {'n_estimators': 207, 'max_depth': 24, 'min_samples_split': 77, 'min_samples_leaf': 3, 'bootstrap': True}. Best is trial 9 with value: 0.8546689450491212.\n",
      "[I 2023-07-02 23:08:44,731] Trial 16 finished with value: 0.8534852840737992 and parameters: {'n_estimators': 570, 'max_depth': 16, 'min_samples_split': 4, 'min_samples_leaf': 1, 'bootstrap': False}. Best is trial 9 with value: 0.8546689450491212.\n",
      "[I 2023-07-02 23:09:08,759] Trial 17 finished with value: 0.8277737795916643 and parameters: {'n_estimators': 383, 'max_depth': 18, 'min_samples_split': 91, 'min_samples_leaf': 1, 'bootstrap': False}. Best is trial 9 with value: 0.8546689450491212.\n",
      "[I 2023-07-02 23:09:19,152] Trial 18 finished with value: 0.8333686029210682 and parameters: {'n_estimators': 306, 'max_depth': 7, 'min_samples_split': 30, 'min_samples_leaf': 1, 'bootstrap': True}. Best is trial 9 with value: 0.8546689450491212.\n",
      "[I 2023-07-02 23:09:45,523] Trial 19 finished with value: 0.8211265423928328 and parameters: {'n_estimators': 670, 'max_depth': 28, 'min_samples_split': 81, 'min_samples_leaf': 1, 'bootstrap': True}. Best is trial 9 with value: 0.8546689450491212.\n",
      "[I 2023-07-02 23:10:43,537] Trial 20 finished with value: 0.8431823174647471 and parameters: {'n_estimators': 827, 'max_depth': 29, 'min_samples_split': 33, 'min_samples_leaf': 1, 'bootstrap': False}. Best is trial 9 with value: 0.8546689450491212.\n",
      "[I 2023-07-02 23:11:20,965] Trial 21 finished with value: 0.8408831094359653 and parameters: {'n_estimators': 837, 'max_depth': 28, 'min_samples_split': 2, 'min_samples_leaf': 3, 'bootstrap': True}. Best is trial 9 with value: 0.8546689450491212.\n",
      "[I 2023-07-02 23:11:33,015] Trial 22 finished with value: 0.8291121477892887 and parameters: {'n_estimators': 207, 'max_depth': 14, 'min_samples_split': 95, 'min_samples_leaf': 2, 'bootstrap': False}. Best is trial 9 with value: 0.8546689450491212.\n",
      "[I 2023-07-02 23:11:48,454] Trial 23 finished with value: 0.8225241696031048 and parameters: {'n_estimators': 427, 'max_depth': 31, 'min_samples_split': 97, 'min_samples_leaf': 2, 'bootstrap': True}. Best is trial 9 with value: 0.8546689450491212.\n",
      "[I 2023-07-02 23:12:01,937] Trial 24 finished with value: 0.8141961265032215 and parameters: {'n_estimators': 356, 'max_depth': 5, 'min_samples_split': 62, 'min_samples_leaf': 3, 'bootstrap': False}. Best is trial 9 with value: 0.8546689450491212.\n",
      "[I 2023-07-02 23:12:40,199] Trial 25 finished with value: 0.8382179391454795 and parameters: {'n_estimators': 918, 'max_depth': 11, 'min_samples_split': 16, 'min_samples_leaf': 2, 'bootstrap': True}. Best is trial 9 with value: 0.8546689450491212.\n",
      "[I 2023-07-02 23:13:26,148] Trial 26 finished with value: 0.843114762255329 and parameters: {'n_estimators': 705, 'max_depth': 25, 'min_samples_split': 25, 'min_samples_leaf': 3, 'bootstrap': False}. Best is trial 9 with value: 0.8546689450491212.\n",
      "[I 2023-07-02 23:13:54,368] Trial 27 finished with value: 0.8405890240476275 and parameters: {'n_estimators': 670, 'max_depth': 19, 'min_samples_split': 10, 'min_samples_leaf': 4, 'bootstrap': True}. Best is trial 9 with value: 0.8546689450491212.\n",
      "[I 2023-07-02 23:14:00,030] Trial 28 finished with value: 0.8226607978053344 and parameters: {'n_estimators': 136, 'max_depth': 20, 'min_samples_split': 69, 'min_samples_leaf': 1, 'bootstrap': True}. Best is trial 9 with value: 0.8546689450491212.\n",
      "[I 2023-07-02 23:14:23,073] Trial 29 finished with value: 0.8253098371342965 and parameters: {'n_estimators': 681, 'max_depth': 9, 'min_samples_split': 70, 'min_samples_leaf': 2, 'bootstrap': True}. Best is trial 9 with value: 0.8546689450491212.\n",
      "[I 2023-07-02 23:14:41,830] Trial 30 finished with value: 0.8241185098894039 and parameters: {'n_estimators': 407, 'max_depth': 8, 'min_samples_split': 93, 'min_samples_leaf': 4, 'bootstrap': False}. Best is trial 9 with value: 0.8546689450491212.\n",
      "[I 2023-07-02 23:15:38,481] Trial 31 finished with value: 0.8369122133029514 and parameters: {'n_estimators': 836, 'max_depth': 19, 'min_samples_split': 54, 'min_samples_leaf': 1, 'bootstrap': False}. Best is trial 9 with value: 0.8546689450491212.\n",
      "[I 2023-07-02 23:16:39,517] Trial 32 finished with value: 0.8406790426262034 and parameters: {'n_estimators': 911, 'max_depth': 22, 'min_samples_split': 35, 'min_samples_leaf': 2, 'bootstrap': False}. Best is trial 9 with value: 0.8546689450491212.\n"
     ]
    },
    {
     "name": "stderr",
     "output_type": "stream",
     "text": [
      "[I 2023-07-02 23:17:39,841] Trial 33 finished with value: 0.8368868084095828 and parameters: {'n_estimators': 899, 'max_depth': 26, 'min_samples_split': 65, 'min_samples_leaf': 1, 'bootstrap': False}. Best is trial 9 with value: 0.8546689450491212.\n",
      "[I 2023-07-02 23:18:04,951] Trial 34 finished with value: 0.816847448559221 and parameters: {'n_estimators': 646, 'max_depth': 5, 'min_samples_split': 12, 'min_samples_leaf': 3, 'bootstrap': False}. Best is trial 9 with value: 0.8546689450491212.\n",
      "[I 2023-07-02 23:18:29,829] Trial 35 finished with value: 0.8263865644639358 and parameters: {'n_estimators': 594, 'max_depth': 23, 'min_samples_split': 66, 'min_samples_leaf': 1, 'bootstrap': True}. Best is trial 9 with value: 0.8546689450491212.\n",
      "[I 2023-07-02 23:18:44,456] Trial 36 finished with value: 0.8252816088756987 and parameters: {'n_estimators': 393, 'max_depth': 25, 'min_samples_split': 66, 'min_samples_leaf': 4, 'bootstrap': True}. Best is trial 9 with value: 0.8546689450491212.\n",
      "[I 2023-07-02 23:18:52,682] Trial 37 finished with value: 0.8446403670348372 and parameters: {'n_estimators': 184, 'max_depth': 14, 'min_samples_split': 28, 'min_samples_leaf': 1, 'bootstrap': True}. Best is trial 9 with value: 0.8546689450491212.\n",
      "[I 2023-07-02 23:19:26,220] Trial 38 finished with value: 0.8263190747718978 and parameters: {'n_estimators': 903, 'max_depth': 22, 'min_samples_split': 80, 'min_samples_leaf': 3, 'bootstrap': True}. Best is trial 9 with value: 0.8546689450491212.\n",
      "[I 2023-07-02 23:19:38,960] Trial 39 finished with value: 0.831584854633471 and parameters: {'n_estimators': 275, 'max_depth': 24, 'min_samples_split': 29, 'min_samples_leaf': 1, 'bootstrap': True}. Best is trial 9 with value: 0.8546689450491212.\n",
      "[I 2023-07-02 23:20:35,661] Trial 40 finished with value: 0.831702404311273 and parameters: {'n_estimators': 947, 'max_depth': 30, 'min_samples_split': 92, 'min_samples_leaf': 2, 'bootstrap': False}. Best is trial 9 with value: 0.8546689450491212.\n",
      "[I 2023-07-02 23:21:02,880] Trial 41 finished with value: 0.822581902974633 and parameters: {'n_estimators': 485, 'max_depth': 31, 'min_samples_split': 97, 'min_samples_leaf': 4, 'bootstrap': False}. Best is trial 9 with value: 0.8546689450491212.\n",
      "[I 2023-07-02 23:21:39,744] Trial 42 finished with value: 0.8381557269923425 and parameters: {'n_estimators': 866, 'max_depth': 13, 'min_samples_split': 18, 'min_samples_leaf': 3, 'bootstrap': True}. Best is trial 9 with value: 0.8546689450491212.\n",
      "[I 2023-07-02 23:22:08,015] Trial 43 finished with value: 0.8228778948899759 and parameters: {'n_estimators': 613, 'max_depth': 7, 'min_samples_split': 62, 'min_samples_leaf': 4, 'bootstrap': False}. Best is trial 9 with value: 0.8546689450491212.\n",
      "[I 2023-07-02 23:22:41,996] Trial 44 finished with value: 0.8252747667845528 and parameters: {'n_estimators': 890, 'max_depth': 25, 'min_samples_split': 71, 'min_samples_leaf': 3, 'bootstrap': True}. Best is trial 9 with value: 0.8546689450491212.\n",
      "[I 2023-07-02 23:23:11,189] Trial 45 finished with value: 0.8226434652713139 and parameters: {'n_estimators': 829, 'max_depth': 26, 'min_samples_split': 87, 'min_samples_leaf': 4, 'bootstrap': True}. Best is trial 9 with value: 0.8546689450491212.\n",
      "[I 2023-07-02 23:23:41,298] Trial 46 finished with value: 0.8265263940853769 and parameters: {'n_estimators': 819, 'max_depth': 22, 'min_samples_split': 71, 'min_samples_leaf': 4, 'bootstrap': True}. Best is trial 9 with value: 0.8546689450491212.\n",
      "[I 2023-07-02 23:24:01,862] Trial 47 finished with value: 0.8239474920237132 and parameters: {'n_estimators': 438, 'max_depth': 7, 'min_samples_split': 59, 'min_samples_leaf': 1, 'bootstrap': False}. Best is trial 9 with value: 0.8546689450491212.\n",
      "[I 2023-07-02 23:24:19,409] Trial 48 finished with value: 0.8470026513871278 and parameters: {'n_estimators': 358, 'max_depth': 20, 'min_samples_split': 5, 'min_samples_leaf': 1, 'bootstrap': True}. Best is trial 9 with value: 0.8546689450491212.\n",
      "[I 2023-07-02 23:24:28,030] Trial 49 finished with value: 0.8187986613682467 and parameters: {'n_estimators': 214, 'max_depth': 19, 'min_samples_split': 78, 'min_samples_leaf': 1, 'bootstrap': True}. Best is trial 9 with value: 0.8546689450491212.\n",
      "[I 2023-07-02 23:24:37,107] Trial 50 finished with value: 0.8341001206493471 and parameters: {'n_estimators': 146, 'max_depth': 19, 'min_samples_split': 55, 'min_samples_leaf': 3, 'bootstrap': False}. Best is trial 9 with value: 0.8546689450491212.\n",
      "[I 2023-07-02 23:24:57,915] Trial 51 finished with value: 0.8276710236125627 and parameters: {'n_estimators': 565, 'max_depth': 13, 'min_samples_split': 80, 'min_samples_leaf': 2, 'bootstrap': True}. Best is trial 9 with value: 0.8546689450491212.\n",
      "[I 2023-07-02 23:25:02,438] Trial 52 finished with value: 0.8213340073838793 and parameters: {'n_estimators': 122, 'max_depth': 30, 'min_samples_split': 84, 'min_samples_leaf': 3, 'bootstrap': True}. Best is trial 9 with value: 0.8546689450491212.\n",
      "[I 2023-07-02 23:25:11,490] Trial 53 finished with value: 0.8303776855564932 and parameters: {'n_estimators': 240, 'max_depth': 11, 'min_samples_split': 56, 'min_samples_leaf': 3, 'bootstrap': True}. Best is trial 9 with value: 0.8546689450491212.\n",
      "[I 2023-07-02 23:25:49,657] Trial 54 finished with value: 0.8304279749037156 and parameters: {'n_estimators': 960, 'max_depth': 24, 'min_samples_split': 56, 'min_samples_leaf': 3, 'bootstrap': True}. Best is trial 9 with value: 0.8546689450491212.\n",
      "[I 2023-07-02 23:26:10,200] Trial 55 finished with value: 0.8419622752752993 and parameters: {'n_estimators': 420, 'max_depth': 25, 'min_samples_split': 3, 'min_samples_leaf': 1, 'bootstrap': True}. Best is trial 9 with value: 0.8546689450491212.\n",
      "[I 2023-07-02 23:26:48,492] Trial 56 finished with value: 0.8306217495941326 and parameters: {'n_estimators': 870, 'max_depth': 23, 'min_samples_split': 48, 'min_samples_leaf': 1, 'bootstrap': True}. Best is trial 9 with value: 0.8546689450491212.\n",
      "[I 2023-07-02 23:26:59,075] Trial 57 finished with value: 0.8303755520143202 and parameters: {'n_estimators': 256, 'max_depth': 16, 'min_samples_split': 41, 'min_samples_leaf': 3, 'bootstrap': True}. Best is trial 9 with value: 0.8546689450491212.\n",
      "[I 2023-07-02 23:27:16,145] Trial 58 finished with value: 0.830501904671291 and parameters: {'n_estimators': 437, 'max_depth': 21, 'min_samples_split': 51, 'min_samples_leaf': 4, 'bootstrap': True}. Best is trial 9 with value: 0.8546689450491212.\n",
      "[I 2023-07-02 23:27:23,348] Trial 59 finished with value: 0.8407364447262349 and parameters: {'n_estimators': 163, 'max_depth': 22, 'min_samples_split': 4, 'min_samples_leaf': 3, 'bootstrap': True}. Best is trial 9 with value: 0.8546689450491212.\n",
      "[I 2023-07-02 23:27:41,525] Trial 60 finished with value: 0.830567633564341 and parameters: {'n_estimators': 449, 'max_depth': 22, 'min_samples_split': 47, 'min_samples_leaf': 3, 'bootstrap': True}. Best is trial 9 with value: 0.8546689450491212.\n",
      "[I 2023-07-02 23:28:26,665] Trial 61 finished with value: 0.8382042701270487 and parameters: {'n_estimators': 966, 'max_depth': 29, 'min_samples_split': 21, 'min_samples_leaf': 1, 'bootstrap': True}. Best is trial 9 with value: 0.8546689450491212.\n",
      "[I 2023-07-02 23:28:35,215] Trial 62 finished with value: 0.8383325989702479 and parameters: {'n_estimators': 185, 'max_depth': 23, 'min_samples_split': 9, 'min_samples_leaf': 2, 'bootstrap': True}. Best is trial 9 with value: 0.8546689450491212.\n",
      "[I 2023-07-02 23:29:27,512] Trial 63 finished with value: 0.8457168804725766 and parameters: {'n_estimators': 833, 'max_depth': 12, 'min_samples_split': 13, 'min_samples_leaf': 3, 'bootstrap': False}. Best is trial 9 with value: 0.8546689450491212.\n",
      "[I 2023-07-02 23:30:21,874] Trial 64 finished with value: 0.8458489359546271 and parameters: {'n_estimators': 762, 'max_depth': 26, 'min_samples_split': 29, 'min_samples_leaf': 1, 'bootstrap': False}. Best is trial 9 with value: 0.8546689450491212.\n",
      "[I 2023-07-02 23:31:23,681] Trial 65 finished with value: 0.8354553170026164 and parameters: {'n_estimators': 992, 'max_depth': 16, 'min_samples_split': 38, 'min_samples_leaf': 4, 'bootstrap': False}. Best is trial 9 with value: 0.8546689450491212.\n",
      "[I 2023-07-02 23:32:14,403] Trial 66 finished with value: 0.8250922566658743 and parameters: {'n_estimators': 873, 'max_depth': 16, 'min_samples_split': 76, 'min_samples_leaf': 4, 'bootstrap': False}. Best is trial 9 with value: 0.8546689450491212.\n"
     ]
    },
    {
     "name": "stderr",
     "output_type": "stream",
     "text": [
      "[I 2023-07-02 23:32:37,070] Trial 67 finished with value: 0.8305594983990678 and parameters: {'n_estimators': 555, 'max_depth': 27, 'min_samples_split': 33, 'min_samples_leaf': 4, 'bootstrap': True}. Best is trial 9 with value: 0.8546689450491212.\n",
      "[I 2023-07-02 23:33:07,429] Trial 68 finished with value: 0.8292696497851686 and parameters: {'n_estimators': 915, 'max_depth': 7, 'min_samples_split': 33, 'min_samples_leaf': 4, 'bootstrap': True}. Best is trial 9 with value: 0.8546689450491212.\n",
      "[I 2023-07-02 23:33:51,776] Trial 69 finished with value: 0.841929427089992 and parameters: {'n_estimators': 669, 'max_depth': 17, 'min_samples_split': 31, 'min_samples_leaf': 2, 'bootstrap': False}. Best is trial 9 with value: 0.8546689450491212.\n",
      "[I 2023-07-02 23:34:48,635] Trial 70 finished with value: 0.8548188609132218 and parameters: {'n_estimators': 813, 'max_depth': 26, 'min_samples_split': 11, 'min_samples_leaf': 2, 'bootstrap': False}. Best is trial 70 with value: 0.8548188609132218.\n",
      "[I 2023-07-02 23:35:23,490] Trial 71 finished with value: 0.8432020308255403 and parameters: {'n_estimators': 497, 'max_depth': 28, 'min_samples_split': 36, 'min_samples_leaf': 1, 'bootstrap': False}. Best is trial 70 with value: 0.8548188609132218.\n",
      "[I 2023-07-02 23:35:55,755] Trial 72 finished with value: 0.8381995491686574 and parameters: {'n_estimators': 657, 'max_depth': 7, 'min_samples_split': 10, 'min_samples_leaf': 3, 'bootstrap': False}. Best is trial 70 with value: 0.8548188609132218.\n",
      "[I 2023-07-02 23:36:20,762] Trial 73 finished with value: 0.833183991768068 and parameters: {'n_estimators': 736, 'max_depth': 7, 'min_samples_split': 10, 'min_samples_leaf': 4, 'bootstrap': True}. Best is trial 70 with value: 0.8548188609132218.\n",
      "[I 2023-07-02 23:36:49,125] Trial 74 finished with value: 0.8237747453215452 and parameters: {'n_estimators': 832, 'max_depth': 30, 'min_samples_split': 99, 'min_samples_leaf': 4, 'bootstrap': True}. Best is trial 70 with value: 0.8548188609132218.\n",
      "[I 2023-07-02 23:37:37,984] Trial 75 finished with value: 0.8355033704492343 and parameters: {'n_estimators': 800, 'max_depth': 20, 'min_samples_split': 43, 'min_samples_leaf': 4, 'bootstrap': False}. Best is trial 70 with value: 0.8548188609132218.\n",
      "[I 2023-07-02 23:37:46,135] Trial 76 finished with value: 0.8524396352130605 and parameters: {'n_estimators': 110, 'max_depth': 17, 'min_samples_split': 7, 'min_samples_leaf': 1, 'bootstrap': False}. Best is trial 70 with value: 0.8548188609132218.\n",
      "[I 2023-07-02 23:38:31,454] Trial 77 finished with value: 0.8290980174057141 and parameters: {'n_estimators': 772, 'max_depth': 20, 'min_samples_split': 97, 'min_samples_leaf': 2, 'bootstrap': False}. Best is trial 70 with value: 0.8548188609132218.\n",
      "[I 2023-07-02 23:38:51,156] Trial 78 finished with value: 0.8521886209546359 and parameters: {'n_estimators': 301, 'max_depth': 31, 'min_samples_split': 3, 'min_samples_leaf': 4, 'bootstrap': False}. Best is trial 70 with value: 0.8548188609132218.\n",
      "[I 2023-07-02 23:39:16,539] Trial 79 finished with value: 0.839392008403595 and parameters: {'n_estimators': 575, 'max_depth': 31, 'min_samples_split': 9, 'min_samples_leaf': 3, 'bootstrap': True}. Best is trial 70 with value: 0.8548188609132218.\n",
      "[I 2023-07-02 23:39:58,538] Trial 80 finished with value: 0.835491470782514 and parameters: {'n_estimators': 667, 'max_depth': 23, 'min_samples_split': 46, 'min_samples_leaf': 3, 'bootstrap': False}. Best is trial 70 with value: 0.8548188609132218.\n",
      "[I 2023-07-02 23:40:06,039] Trial 81 finished with value: 0.8237547441541331 and parameters: {'n_estimators': 140, 'max_depth': 12, 'min_samples_split': 96, 'min_samples_leaf': 4, 'bootstrap': False}. Best is trial 70 with value: 0.8548188609132218.\n",
      "[I 2023-07-02 23:40:19,305] Trial 82 finished with value: 0.8304386508892756 and parameters: {'n_estimators': 349, 'max_depth': 10, 'min_samples_split': 47, 'min_samples_leaf': 2, 'bootstrap': True}. Best is trial 70 with value: 0.8548188609132218.\n",
      "[I 2023-07-02 23:41:18,103] Trial 83 finished with value: 0.8316084792591647 and parameters: {'n_estimators': 977, 'max_depth': 31, 'min_samples_split': 71, 'min_samples_leaf': 3, 'bootstrap': False}. Best is trial 70 with value: 0.8548188609132218.\n",
      "[I 2023-07-02 23:41:40,287] Trial 84 finished with value: 0.8252530300813381 and parameters: {'n_estimators': 716, 'max_depth': 9, 'min_samples_split': 92, 'min_samples_leaf': 4, 'bootstrap': True}. Best is trial 70 with value: 0.8548188609132218.\n",
      "[I 2023-07-02 23:42:02,802] Trial 85 finished with value: 0.8238374732364455 and parameters: {'n_estimators': 652, 'max_depth': 16, 'min_samples_split': 94, 'min_samples_leaf': 4, 'bootstrap': True}. Best is trial 70 with value: 0.8548188609132218.\n",
      "[I 2023-07-02 23:42:19,283] Trial 86 finished with value: 0.8223638561763547 and parameters: {'n_estimators': 439, 'max_depth': 26, 'min_samples_split': 99, 'min_samples_leaf': 1, 'bootstrap': True}. Best is trial 70 with value: 0.8548188609132218.\n",
      "[I 2023-07-02 23:42:55,838] Trial 87 finished with value: 0.8237578958480153 and parameters: {'n_estimators': 973, 'max_depth': 27, 'min_samples_split': 84, 'min_samples_leaf': 2, 'bootstrap': True}. Best is trial 70 with value: 0.8548188609132218.\n",
      "[I 2023-07-02 23:43:01,255] Trial 88 finished with value: 0.8238924571513685 and parameters: {'n_estimators': 150, 'max_depth': 28, 'min_samples_split': 82, 'min_samples_leaf': 4, 'bootstrap': True}. Best is trial 70 with value: 0.8548188609132218.\n",
      "[I 2023-07-02 23:43:32,076] Trial 89 finished with value: 0.8249850381033197 and parameters: {'n_estimators': 792, 'max_depth': 30, 'min_samples_split': 86, 'min_samples_leaf': 1, 'bootstrap': True}. Best is trial 70 with value: 0.8548188609132218.\n",
      "[I 2023-07-02 23:44:12,996] Trial 90 finished with value: 0.8382283420101982 and parameters: {'n_estimators': 959, 'max_depth': 21, 'min_samples_split': 24, 'min_samples_leaf': 3, 'bootstrap': True}. Best is trial 70 with value: 0.8548188609132218.\n",
      "[I 2023-07-02 23:44:25,328] Trial 91 finished with value: 0.8317624378302211 and parameters: {'n_estimators': 202, 'max_depth': 23, 'min_samples_split': 53, 'min_samples_leaf': 4, 'bootstrap': False}. Best is trial 70 with value: 0.8548188609132218.\n",
      "[I 2023-07-02 23:44:47,680] Trial 92 finished with value: 0.8226085442028535 and parameters: {'n_estimators': 597, 'max_depth': 20, 'min_samples_split': 88, 'min_samples_leaf': 2, 'bootstrap': True}. Best is trial 70 with value: 0.8548188609132218.\n",
      "[I 2023-07-02 23:45:19,805] Trial 93 finished with value: 0.8277810993776287 and parameters: {'n_estimators': 780, 'max_depth': 21, 'min_samples_split': 71, 'min_samples_leaf': 1, 'bootstrap': True}. Best is trial 70 with value: 0.8548188609132218.\n",
      "[I 2023-07-02 23:45:37,783] Trial 94 finished with value: 0.8304119454922292 and parameters: {'n_estimators': 415, 'max_depth': 20, 'min_samples_split': 40, 'min_samples_leaf': 2, 'bootstrap': True}. Best is trial 70 with value: 0.8548188609132218.\n",
      "[I 2023-07-02 23:46:13,439] Trial 95 finished with value: 0.8355033704492343 and parameters: {'n_estimators': 563, 'max_depth': 26, 'min_samples_split': 41, 'min_samples_leaf': 3, 'bootstrap': False}. Best is trial 70 with value: 0.8548188609132218.\n",
      "[I 2023-07-02 23:46:28,506] Trial 96 finished with value: 0.837019116425482 and parameters: {'n_estimators': 232, 'max_depth': 30, 'min_samples_split': 50, 'min_samples_leaf': 2, 'bootstrap': False}. Best is trial 70 with value: 0.8548188609132218.\n",
      "[I 2023-07-02 23:47:01,825] Trial 97 finished with value: 0.8329553026261832 and parameters: {'n_estimators': 543, 'max_depth': 13, 'min_samples_split': 64, 'min_samples_leaf': 1, 'bootstrap': False}. Best is trial 70 with value: 0.8548188609132218.\n",
      "[I 2023-07-02 23:47:13,922] Trial 98 finished with value: 0.8405876006808455 and parameters: {'n_estimators': 215, 'max_depth': 9, 'min_samples_split': 15, 'min_samples_leaf': 3, 'bootstrap': False}. Best is trial 70 with value: 0.8548188609132218.\n",
      "[I 2023-07-02 23:47:51,302] Trial 99 finished with value: 0.8291325914973642 and parameters: {'n_estimators': 908, 'max_depth': 17, 'min_samples_split': 68, 'min_samples_leaf': 1, 'bootstrap': True}. Best is trial 70 with value: 0.8548188609132218.\n"
     ]
    }
   ],
   "source": [
    "# Define the Optuna study\n",
    "study = optuna.create_study(direction='maximize',sampler=RandomSampler(seed=42))\n",
    "study.optimize(objective_RF, n_trials=100)"
   ]
  },
  {
   "cell_type": "code",
   "execution_count": 55,
   "metadata": {
    "id": "TLK12IKc0T3c"
   },
   "outputs": [],
   "source": [
    "# Get the best hyperparameters from Optuna\n",
    "best_params = study.best_params"
   ]
  },
  {
   "cell_type": "code",
   "execution_count": 56,
   "metadata": {
    "colab": {
     "base_uri": "https://localhost:8080/"
    },
    "id": "DZN5XMgrsecR",
    "outputId": "771d5b69-b04c-4878-8176-57510854a816"
   },
   "outputs": [
    {
     "data": {
      "text/plain": [
       "{'n_estimators': 813,\n",
       " 'max_depth': 26,\n",
       " 'min_samples_split': 11,\n",
       " 'min_samples_leaf': 2,\n",
       " 'bootstrap': False}"
      ]
     },
     "execution_count": 56,
     "metadata": {},
     "output_type": "execute_result"
    }
   ],
   "source": [
    "best_params"
   ]
  },
  {
   "cell_type": "code",
   "execution_count": 58,
   "metadata": {
    "colab": {
     "base_uri": "https://localhost:8080/"
    },
    "id": "Qvoon7Jr0T3d",
    "outputId": "c4ca7a93-2fa1-40e1-dc77-c882c439d056"
   },
   "outputs": [
    {
     "data": {
      "text/plain": [
       "array([ True, False,  True, ..., False, False, False])"
      ]
     },
     "execution_count": 58,
     "metadata": {},
     "output_type": "execute_result"
    }
   ],
   "source": [
    "best_features"
   ]
  },
  {
   "attachments": {},
   "cell_type": "markdown",
   "metadata": {
    "id": "xtECcua60T3d"
   },
   "source": [
    "#### Get best parameters and make predictions"
   ]
  },
  {
   "cell_type": "code",
   "execution_count": 59,
   "metadata": {
    "id": "lm-QW5NE0T3d"
   },
   "outputs": [],
   "source": [
    "selected_features_indices = [i for i, value in enumerate(best_features) if value]\n",
    "X_test_selected = X_test[:, selected_features_indices]"
   ]
  },
  {
   "cell_type": "code",
   "execution_count": 60,
   "metadata": {
    "id": "6Mhmg8kg0T3d"
   },
   "outputs": [],
   "source": [
    "X_train_val_selected_final_features = X_train_val[:, selected_features_indices]"
   ]
  },
  {
   "cell_type": "code",
   "execution_count": 61,
   "metadata": {
    "colab": {
     "base_uri": "https://localhost:8080/"
    },
    "id": "SNgGo5FI0T3e",
    "outputId": "708ed135-f505-4061-ef04-f3f6cd33daf8"
   },
   "outputs": [
    {
     "data": {
      "text/plain": [
       "(286, 300)"
      ]
     },
     "execution_count": 61,
     "metadata": {},
     "output_type": "execute_result"
    }
   ],
   "source": [
    "X_test_selected.shape"
   ]
  },
  {
   "cell_type": "code",
   "execution_count": 63,
   "metadata": {
    "id": "lqJO8rFnOzIp"
   },
   "outputs": [],
   "source": [
    "best_classifier_RF = RandomForestClassifier(**best_params)"
   ]
  },
  {
   "cell_type": "code",
   "execution_count": 65,
   "metadata": {
    "colab": {
     "base_uri": "https://localhost:8080/",
     "height": 92
    },
    "id": "6NcEzrRR0T3e",
    "outputId": "2cf0d47f-4c4e-4d27-9335-26b3b89f8f45"
   },
   "outputs": [
    {
     "data": {
      "text/html": [
       "<style>#sk-container-id-2 {color: black;}#sk-container-id-2 pre{padding: 0;}#sk-container-id-2 div.sk-toggleable {background-color: white;}#sk-container-id-2 label.sk-toggleable__label {cursor: pointer;display: block;width: 100%;margin-bottom: 0;padding: 0.3em;box-sizing: border-box;text-align: center;}#sk-container-id-2 label.sk-toggleable__label-arrow:before {content: \"▸\";float: left;margin-right: 0.25em;color: #696969;}#sk-container-id-2 label.sk-toggleable__label-arrow:hover:before {color: black;}#sk-container-id-2 div.sk-estimator:hover label.sk-toggleable__label-arrow:before {color: black;}#sk-container-id-2 div.sk-toggleable__content {max-height: 0;max-width: 0;overflow: hidden;text-align: left;background-color: #f0f8ff;}#sk-container-id-2 div.sk-toggleable__content pre {margin: 0.2em;color: black;border-radius: 0.25em;background-color: #f0f8ff;}#sk-container-id-2 input.sk-toggleable__control:checked~div.sk-toggleable__content {max-height: 200px;max-width: 100%;overflow: auto;}#sk-container-id-2 input.sk-toggleable__control:checked~label.sk-toggleable__label-arrow:before {content: \"▾\";}#sk-container-id-2 div.sk-estimator input.sk-toggleable__control:checked~label.sk-toggleable__label {background-color: #d4ebff;}#sk-container-id-2 div.sk-label input.sk-toggleable__control:checked~label.sk-toggleable__label {background-color: #d4ebff;}#sk-container-id-2 input.sk-hidden--visually {border: 0;clip: rect(1px 1px 1px 1px);clip: rect(1px, 1px, 1px, 1px);height: 1px;margin: -1px;overflow: hidden;padding: 0;position: absolute;width: 1px;}#sk-container-id-2 div.sk-estimator {font-family: monospace;background-color: #f0f8ff;border: 1px dotted black;border-radius: 0.25em;box-sizing: border-box;margin-bottom: 0.5em;}#sk-container-id-2 div.sk-estimator:hover {background-color: #d4ebff;}#sk-container-id-2 div.sk-parallel-item::after {content: \"\";width: 100%;border-bottom: 1px solid gray;flex-grow: 1;}#sk-container-id-2 div.sk-label:hover label.sk-toggleable__label {background-color: #d4ebff;}#sk-container-id-2 div.sk-serial::before {content: \"\";position: absolute;border-left: 1px solid gray;box-sizing: border-box;top: 0;bottom: 0;left: 50%;z-index: 0;}#sk-container-id-2 div.sk-serial {display: flex;flex-direction: column;align-items: center;background-color: white;padding-right: 0.2em;padding-left: 0.2em;position: relative;}#sk-container-id-2 div.sk-item {position: relative;z-index: 1;}#sk-container-id-2 div.sk-parallel {display: flex;align-items: stretch;justify-content: center;background-color: white;position: relative;}#sk-container-id-2 div.sk-item::before, #sk-container-id-2 div.sk-parallel-item::before {content: \"\";position: absolute;border-left: 1px solid gray;box-sizing: border-box;top: 0;bottom: 0;left: 50%;z-index: -1;}#sk-container-id-2 div.sk-parallel-item {display: flex;flex-direction: column;z-index: 1;position: relative;background-color: white;}#sk-container-id-2 div.sk-parallel-item:first-child::after {align-self: flex-end;width: 50%;}#sk-container-id-2 div.sk-parallel-item:last-child::after {align-self: flex-start;width: 50%;}#sk-container-id-2 div.sk-parallel-item:only-child::after {width: 0;}#sk-container-id-2 div.sk-dashed-wrapped {border: 1px dashed gray;margin: 0 0.4em 0.5em 0.4em;box-sizing: border-box;padding-bottom: 0.4em;background-color: white;}#sk-container-id-2 div.sk-label label {font-family: monospace;font-weight: bold;display: inline-block;line-height: 1.2em;}#sk-container-id-2 div.sk-label-container {text-align: center;}#sk-container-id-2 div.sk-container {/* jupyter's `normalize.less` sets `[hidden] { display: none; }` but bootstrap.min.css set `[hidden] { display: none !important; }` so we also need the `!important` here to be able to override the default hidden behavior on the sphinx rendered scikit-learn.org. See: https://github.com/scikit-learn/scikit-learn/issues/21755 */display: inline-block !important;position: relative;}#sk-container-id-2 div.sk-text-repr-fallback {display: none;}</style><div id=\"sk-container-id-2\" class=\"sk-top-container\"><div class=\"sk-text-repr-fallback\"><pre>RandomForestClassifier(bootstrap=False, max_depth=26, min_samples_leaf=2,\n",
       "                       min_samples_split=11, n_estimators=813)</pre><b>In a Jupyter environment, please rerun this cell to show the HTML representation or trust the notebook. <br />On GitHub, the HTML representation is unable to render, please try loading this page with nbviewer.org.</b></div><div class=\"sk-container\" hidden><div class=\"sk-item\"><div class=\"sk-estimator sk-toggleable\"><input class=\"sk-toggleable__control sk-hidden--visually\" id=\"sk-estimator-id-2\" type=\"checkbox\" checked><label for=\"sk-estimator-id-2\" class=\"sk-toggleable__label sk-toggleable__label-arrow\">RandomForestClassifier</label><div class=\"sk-toggleable__content\"><pre>RandomForestClassifier(bootstrap=False, max_depth=26, min_samples_leaf=2,\n",
       "                       min_samples_split=11, n_estimators=813)</pre></div></div></div></div></div>"
      ],
      "text/plain": [
       "RandomForestClassifier(bootstrap=False, max_depth=26, min_samples_leaf=2,\n",
       "                       min_samples_split=11, n_estimators=813)"
      ]
     },
     "execution_count": 65,
     "metadata": {},
     "output_type": "execute_result"
    }
   ],
   "source": [
    "best_classifier_RF.fit(X_train_val_selected_final_features, y_train_val)"
   ]
  },
  {
   "cell_type": "code",
   "execution_count": 66,
   "metadata": {
    "id": "LVQgUnAF0T3e"
   },
   "outputs": [],
   "source": [
    "y_test_pred = best_classifier_RF.predict(X_test_selected)"
   ]
  },
  {
   "cell_type": "code",
   "execution_count": 67,
   "metadata": {
    "id": "-4Phrdmy0T3e"
   },
   "outputs": [],
   "source": [
    "#Validate the model  using balanced_acc, precision,recall and f1\n",
    "balanced_acc_RF = balanced_accuracy_score(y_test, y_test_pred)\n",
    "precision_RF = precision_score(y_test, y_test_pred,average='weighted')\n",
    "recall_RF = recall_score(y_test, y_test_pred,average='weighted')\n",
    "f1_RF = f1_score(y_test, y_test_pred,average='weighted')"
   ]
  },
  {
   "cell_type": "code",
   "execution_count": 68,
   "metadata": {
    "colab": {
     "base_uri": "https://localhost:8080/"
    },
    "id": "RMXSpAsVx5M7",
    "outputId": "726753c8-9dc7-4f1c-f93f-a521a207d64a"
   },
   "outputs": [
    {
     "data": {
      "text/plain": [
       "0.9015803698205758"
      ]
     },
     "execution_count": 68,
     "metadata": {},
     "output_type": "execute_result"
    }
   ],
   "source": [
    "balanced_acc_RF"
   ]
  },
  {
   "cell_type": "code",
   "execution_count": 69,
   "metadata": {
    "colab": {
     "base_uri": "https://localhost:8080/"
    },
    "id": "MiJ956W2_Ygm",
    "outputId": "e989e7ef-c46e-4e93-ea4e-cb0af7f8c9c5"
   },
   "outputs": [
    {
     "data": {
      "text/plain": [
       "0.9135783541420457"
      ]
     },
     "execution_count": 69,
     "metadata": {},
     "output_type": "execute_result"
    }
   ],
   "source": [
    "precision_RF"
   ]
  },
  {
   "cell_type": "code",
   "execution_count": 70,
   "metadata": {
    "colab": {
     "base_uri": "https://localhost:8080/"
    },
    "id": "2TiNjK-U_bIW",
    "outputId": "337dc022-668b-4adc-d1da-998015030c05"
   },
   "outputs": [
    {
     "data": {
      "text/plain": [
       "0.9125874125874126"
      ]
     },
     "execution_count": 70,
     "metadata": {},
     "output_type": "execute_result"
    }
   ],
   "source": [
    "recall_RF"
   ]
  },
  {
   "cell_type": "code",
   "execution_count": 71,
   "metadata": {
    "colab": {
     "base_uri": "https://localhost:8080/"
    },
    "id": "8FclQIMV_eEc",
    "outputId": "c2b8b36f-fbda-4832-d974-c2eac7cb9514"
   },
   "outputs": [
    {
     "data": {
      "text/plain": [
       "0.912028607560937"
      ]
     },
     "execution_count": 71,
     "metadata": {},
     "output_type": "execute_result"
    }
   ],
   "source": [
    "f1_RF"
   ]
  },
  {
   "cell_type": "code",
   "execution_count": 72,
   "metadata": {
    "colab": {
     "base_uri": "https://localhost:8080/"
    },
    "id": "ZY-1-bz10T3f",
    "outputId": "16020bf7-84c1-4721-c446-2effb5ba8dbc"
   },
   "outputs": [
    {
     "data": {
      "text/plain": [
       "array([0, 0, 1, 0, 0, 0, 0, 0, 1, 0, 3, 2, 2, 1, 1, 3, 3, 1, 2, 3, 3, 0,\n",
       "       0, 0, 3, 0, 1, 2, 0, 0, 3, 3, 1, 0, 0, 0, 3, 3, 2, 1, 3, 0, 3, 3,\n",
       "       0, 2, 3, 0, 0, 2, 2, 0, 2, 0, 0, 0, 3, 1, 0, 2, 0, 1, 2, 0, 0, 2,\n",
       "       2, 2, 0, 0, 1, 0, 1, 3, 0, 0, 2, 2, 2, 1, 0, 1, 0, 0, 1, 0, 1, 1,\n",
       "       2, 0, 1, 0, 3, 2, 0, 1, 0, 2, 3, 2, 1, 3, 0, 2, 0, 1, 3, 2, 1, 0,\n",
       "       0, 2, 2, 3, 0, 0, 2, 1, 2, 0, 1, 1, 0, 3, 1, 1, 2, 0, 3, 3, 0, 0,\n",
       "       3, 0, 0, 0, 0, 3, 0, 3, 3, 0, 0, 3, 3, 0, 2, 0, 3, 0, 2, 0, 0, 2,\n",
       "       2, 1, 0, 3, 0, 2, 2, 1, 2, 0, 3, 1, 2, 2, 0, 2, 0, 3, 3, 2, 0, 1,\n",
       "       0, 0, 0, 0, 2, 2, 0, 2, 0, 0, 1, 0, 0, 0, 3, 2, 1, 2, 3, 1, 0, 0,\n",
       "       3, 2, 0, 3, 3, 1, 0, 0, 0, 0, 2, 0, 2, 0, 3, 1, 0, 3, 2, 0, 0, 3,\n",
       "       0, 0, 0, 1, 0, 2, 0, 1, 0, 0, 0, 0, 3, 1, 0, 2, 3, 1, 2, 3, 0, 1,\n",
       "       0, 0, 0, 0, 0, 1, 0, 0, 0, 0, 2, 0, 0, 0, 3, 2, 0, 0, 0, 3, 0, 0,\n",
       "       0, 0, 0, 1, 0, 0, 1, 0, 2, 0, 1, 1, 0, 0, 0, 3, 0, 0, 0, 0, 1, 2])"
      ]
     },
     "execution_count": 72,
     "metadata": {},
     "output_type": "execute_result"
    }
   ],
   "source": [
    "y_test_pred"
   ]
  },
  {
   "cell_type": "code",
   "execution_count": 73,
   "metadata": {
    "colab": {
     "base_uri": "https://localhost:8080/"
    },
    "id": "MV6ggKI10T3f",
    "outputId": "b78e367a-ebe6-49aa-e5cc-f01e955a1da1"
   },
   "outputs": [
    {
     "data": {
      "text/plain": [
       "array([0, 0, 1, 2, 0, 0, 0, 0, 1, 0, 0, 2, 2, 1, 1, 3, 3, 1, 2, 3, 3, 0,\n",
       "       0, 0, 3, 0, 1, 2, 0, 0, 3, 3, 2, 0, 0, 0, 1, 3, 2, 1, 3, 0, 3, 3,\n",
       "       0, 2, 3, 1, 2, 2, 2, 0, 2, 0, 0, 0, 0, 1, 0, 2, 0, 1, 2, 0, 0, 2,\n",
       "       2, 2, 0, 0, 1, 0, 1, 3, 0, 0, 2, 0, 0, 1, 0, 1, 0, 2, 1, 3, 1, 1,\n",
       "       2, 0, 1, 0, 3, 2, 0, 1, 0, 2, 1, 2, 1, 3, 0, 2, 0, 1, 3, 2, 1, 0,\n",
       "       0, 2, 2, 3, 0, 0, 0, 1, 2, 0, 1, 3, 0, 3, 1, 1, 2, 2, 3, 3, 0, 0,\n",
       "       3, 0, 0, 0, 0, 3, 0, 3, 3, 0, 2, 3, 3, 2, 2, 0, 3, 2, 2, 0, 0, 2,\n",
       "       2, 1, 0, 3, 0, 2, 2, 1, 2, 0, 3, 1, 2, 2, 0, 2, 0, 3, 3, 2, 0, 1,\n",
       "       0, 1, 0, 0, 2, 2, 0, 2, 0, 0, 1, 0, 0, 0, 3, 2, 1, 2, 3, 1, 0, 0,\n",
       "       3, 2, 0, 3, 3, 1, 0, 2, 0, 0, 2, 0, 2, 0, 3, 1, 0, 3, 2, 3, 0, 3,\n",
       "       0, 0, 0, 1, 0, 2, 0, 1, 0, 0, 0, 0, 3, 1, 2, 1, 3, 1, 2, 3, 0, 1,\n",
       "       1, 0, 0, 0, 0, 1, 0, 0, 0, 0, 2, 0, 0, 0, 3, 2, 0, 0, 0, 3, 0, 0,\n",
       "       0, 0, 0, 0, 0, 0, 1, 0, 2, 0, 1, 1, 0, 0, 0, 3, 0, 0, 0, 0, 1, 2])"
      ]
     },
     "execution_count": 73,
     "metadata": {},
     "output_type": "execute_result"
    }
   ],
   "source": [
    "y_test"
   ]
  },
  {
   "cell_type": "code",
   "execution_count": 74,
   "metadata": {
    "colab": {
     "base_uri": "https://localhost:8080/"
    },
    "id": "5lS6knFIH7ZS",
    "outputId": "de6b263e-6c77-4c86-fb16-a84977c91601"
   },
   "outputs": [
    {
     "data": {
      "text/plain": [
       "(286, 300)"
      ]
     },
     "execution_count": 74,
     "metadata": {},
     "output_type": "execute_result"
    }
   ],
   "source": [
    "X_test_selected.shape"
   ]
  },
  {
   "attachments": {},
   "cell_type": "markdown",
   "metadata": {
    "id": "0pMn6VzTFC2n"
   },
   "source": [
    "#### Feature importance"
   ]
  },
  {
   "cell_type": "code",
   "execution_count": 75,
   "metadata": {
    "colab": {
     "base_uri": "https://localhost:8080/",
     "height": 661
    },
    "id": "4cN-1K7TyqeJ",
    "outputId": "692113ce-6e0f-4ccb-9ca2-e46e464d66c6"
   },
   "outputs": [
    {
     "data": {
      "text/html": [
       "<div>\n",
       "<style scoped>\n",
       "    .dataframe tbody tr th:only-of-type {\n",
       "        vertical-align: middle;\n",
       "    }\n",
       "\n",
       "    .dataframe tbody tr th {\n",
       "        vertical-align: top;\n",
       "    }\n",
       "\n",
       "    .dataframe thead th {\n",
       "        text-align: right;\n",
       "    }\n",
       "</style>\n",
       "<table border=\"1\" class=\"dataframe\">\n",
       "  <thead>\n",
       "    <tr style=\"text-align: right;\">\n",
       "      <th></th>\n",
       "      <th>cell</th>\n",
       "      <th>ENSG00000198804</th>\n",
       "      <th>ENSG00000156508</th>\n",
       "      <th>ENSG00000087086</th>\n",
       "      <th>ENSG00000229117</th>\n",
       "      <th>ENSG00000026025</th>\n",
       "      <th>ENSG00000140988</th>\n",
       "      <th>ENSG00000198918</th>\n",
       "      <th>ENSG00000198938</th>\n",
       "      <th>ENSG00000118271</th>\n",
       "      <th>...</th>\n",
       "      <th>ENSG00000065548</th>\n",
       "      <th>ENSG00000115866</th>\n",
       "      <th>ENSG00000112715</th>\n",
       "      <th>ENSG00000159352</th>\n",
       "      <th>ENSG00000102225</th>\n",
       "      <th>ENSG00000184897</th>\n",
       "      <th>ENSG00000006652</th>\n",
       "      <th>ENSG00000276256</th>\n",
       "      <th>ENSG00000128050</th>\n",
       "      <th>ENSG00000182628</th>\n",
       "    </tr>\n",
       "  </thead>\n",
       "  <tbody>\n",
       "    <tr>\n",
       "      <th>0</th>\n",
       "      <td>ERR2538859-AAACCTGAGACCACGA</td>\n",
       "      <td>9065.20200</td>\n",
       "      <td>4735.2563</td>\n",
       "      <td>5042.7400</td>\n",
       "      <td>9255.0700</td>\n",
       "      <td>3659.0615</td>\n",
       "      <td>5749.6270</td>\n",
       "      <td>3874.3005</td>\n",
       "      <td>2982.5964</td>\n",
       "      <td>0.0</td>\n",
       "      <td>...</td>\n",
       "      <td>92.245255</td>\n",
       "      <td>153.742080</td>\n",
       "      <td>30.748417</td>\n",
       "      <td>61.496834</td>\n",
       "      <td>215.238920</td>\n",
       "      <td>215.23892</td>\n",
       "      <td>61.496834</td>\n",
       "      <td>122.993670</td>\n",
       "      <td>61.496834</td>\n",
       "      <td>153.742080</td>\n",
       "    </tr>\n",
       "    <tr>\n",
       "      <th>1</th>\n",
       "      <td>ERR2538859-AAACCTGTCTGATACG</td>\n",
       "      <td>0.00000</td>\n",
       "      <td>16139.4430</td>\n",
       "      <td>4519.0444</td>\n",
       "      <td>12696.3620</td>\n",
       "      <td>3443.0813</td>\n",
       "      <td>7962.1255</td>\n",
       "      <td>10329.2440</td>\n",
       "      <td>0.0000</td>\n",
       "      <td>0.0</td>\n",
       "      <td>...</td>\n",
       "      <td>0.000000</td>\n",
       "      <td>215.192580</td>\n",
       "      <td>0.000000</td>\n",
       "      <td>215.192580</td>\n",
       "      <td>215.192580</td>\n",
       "      <td>0.00000</td>\n",
       "      <td>0.000000</td>\n",
       "      <td>0.000000</td>\n",
       "      <td>0.000000</td>\n",
       "      <td>215.192580</td>\n",
       "    </tr>\n",
       "    <tr>\n",
       "      <th>2</th>\n",
       "      <td>ERR2538859-AAACGGGAGTGTTGAA</td>\n",
       "      <td>9193.14500</td>\n",
       "      <td>13334.9840</td>\n",
       "      <td>4739.7560</td>\n",
       "      <td>14643.7230</td>\n",
       "      <td>2193.0212</td>\n",
       "      <td>12343.2730</td>\n",
       "      <td>11424.9340</td>\n",
       "      <td>3218.7893</td>\n",
       "      <td>0.0</td>\n",
       "      <td>...</td>\n",
       "      <td>141.485240</td>\n",
       "      <td>70.742620</td>\n",
       "      <td>35.371310</td>\n",
       "      <td>70.742620</td>\n",
       "      <td>0.000000</td>\n",
       "      <td>70.74262</td>\n",
       "      <td>35.371310</td>\n",
       "      <td>70.742620</td>\n",
       "      <td>141.485240</td>\n",
       "      <td>35.371310</td>\n",
       "    </tr>\n",
       "    <tr>\n",
       "      <th>3</th>\n",
       "      <td>ERR2538859-AAAGATGTCCGAACGC</td>\n",
       "      <td>10016.36700</td>\n",
       "      <td>10540.0990</td>\n",
       "      <td>4058.9202</td>\n",
       "      <td>7725.0415</td>\n",
       "      <td>8837.9720</td>\n",
       "      <td>7200.7144</td>\n",
       "      <td>5695.5815</td>\n",
       "      <td>2029.4601</td>\n",
       "      <td>0.0</td>\n",
       "      <td>...</td>\n",
       "      <td>196.399350</td>\n",
       "      <td>65.466450</td>\n",
       "      <td>0.000000</td>\n",
       "      <td>0.000000</td>\n",
       "      <td>0.000000</td>\n",
       "      <td>0.00000</td>\n",
       "      <td>32.733227</td>\n",
       "      <td>65.466450</td>\n",
       "      <td>0.000000</td>\n",
       "      <td>0.000000</td>\n",
       "    </tr>\n",
       "    <tr>\n",
       "      <th>4</th>\n",
       "      <td>ERR2538859-AAAGTAGGTTAGTGGG</td>\n",
       "      <td>18116.04300</td>\n",
       "      <td>5664.7690</td>\n",
       "      <td>5384.3350</td>\n",
       "      <td>8469.1100</td>\n",
       "      <td>3140.8620</td>\n",
       "      <td>4935.0034</td>\n",
       "      <td>4823.4670</td>\n",
       "      <td>6449.9844</td>\n",
       "      <td>0.0</td>\n",
       "      <td>...</td>\n",
       "      <td>56.086823</td>\n",
       "      <td>112.173645</td>\n",
       "      <td>168.260470</td>\n",
       "      <td>56.086823</td>\n",
       "      <td>112.173645</td>\n",
       "      <td>0.00000</td>\n",
       "      <td>0.000000</td>\n",
       "      <td>56.086823</td>\n",
       "      <td>56.086823</td>\n",
       "      <td>0.000000</td>\n",
       "    </tr>\n",
       "    <tr>\n",
       "      <th>...</th>\n",
       "      <td>...</td>\n",
       "      <td>...</td>\n",
       "      <td>...</td>\n",
       "      <td>...</td>\n",
       "      <td>...</td>\n",
       "      <td>...</td>\n",
       "      <td>...</td>\n",
       "      <td>...</td>\n",
       "      <td>...</td>\n",
       "      <td>...</td>\n",
       "      <td>...</td>\n",
       "      <td>...</td>\n",
       "      <td>...</td>\n",
       "      <td>...</td>\n",
       "      <td>...</td>\n",
       "      <td>...</td>\n",
       "      <td>...</td>\n",
       "      <td>...</td>\n",
       "      <td>...</td>\n",
       "      <td>...</td>\n",
       "      <td>...</td>\n",
       "    </tr>\n",
       "    <tr>\n",
       "      <th>1422</th>\n",
       "      <td>ERR2538860-TTTGGTTTCGTTACGA</td>\n",
       "      <td>11986.30100</td>\n",
       "      <td>6563.9270</td>\n",
       "      <td>5707.7627</td>\n",
       "      <td>14554.7940</td>\n",
       "      <td>1141.5525</td>\n",
       "      <td>12557.0770</td>\n",
       "      <td>6563.9270</td>\n",
       "      <td>7420.0913</td>\n",
       "      <td>0.0</td>\n",
       "      <td>...</td>\n",
       "      <td>0.000000</td>\n",
       "      <td>285.388120</td>\n",
       "      <td>0.000000</td>\n",
       "      <td>0.000000</td>\n",
       "      <td>0.000000</td>\n",
       "      <td>0.00000</td>\n",
       "      <td>0.000000</td>\n",
       "      <td>285.388120</td>\n",
       "      <td>0.000000</td>\n",
       "      <td>285.388120</td>\n",
       "    </tr>\n",
       "    <tr>\n",
       "      <th>1423</th>\n",
       "      <td>ERR2538860-TTTGTCAAGCCCAACC</td>\n",
       "      <td>172.20595</td>\n",
       "      <td>5510.5903</td>\n",
       "      <td>9126.9150</td>\n",
       "      <td>10160.1510</td>\n",
       "      <td>7577.0615</td>\n",
       "      <td>7232.6500</td>\n",
       "      <td>6027.2080</td>\n",
       "      <td>0.0000</td>\n",
       "      <td>0.0</td>\n",
       "      <td>...</td>\n",
       "      <td>172.205950</td>\n",
       "      <td>172.205950</td>\n",
       "      <td>0.000000</td>\n",
       "      <td>172.205950</td>\n",
       "      <td>0.000000</td>\n",
       "      <td>0.00000</td>\n",
       "      <td>172.205950</td>\n",
       "      <td>0.000000</td>\n",
       "      <td>0.000000</td>\n",
       "      <td>0.000000</td>\n",
       "    </tr>\n",
       "    <tr>\n",
       "      <th>1424</th>\n",
       "      <td>ERR2538860-TTTGTCACATTGGGCC</td>\n",
       "      <td>14539.58000</td>\n",
       "      <td>10060.2140</td>\n",
       "      <td>2570.1277</td>\n",
       "      <td>8003.4385</td>\n",
       "      <td>6094.8745</td>\n",
       "      <td>8224.4080</td>\n",
       "      <td>9105.5960</td>\n",
       "      <td>5140.2554</td>\n",
       "      <td>0.0</td>\n",
       "      <td>...</td>\n",
       "      <td>220.296660</td>\n",
       "      <td>367.161100</td>\n",
       "      <td>0.000000</td>\n",
       "      <td>73.432220</td>\n",
       "      <td>146.864440</td>\n",
       "      <td>0.00000</td>\n",
       "      <td>220.296660</td>\n",
       "      <td>146.864440</td>\n",
       "      <td>146.864440</td>\n",
       "      <td>73.432220</td>\n",
       "    </tr>\n",
       "    <tr>\n",
       "      <th>1425</th>\n",
       "      <td>ERR2538860-TTTGTCAGTTGCGTTA</td>\n",
       "      <td>5771.68550</td>\n",
       "      <td>6992.6187</td>\n",
       "      <td>11654.3640</td>\n",
       "      <td>8713.0250</td>\n",
       "      <td>6160.1640</td>\n",
       "      <td>7714.0796</td>\n",
       "      <td>4384.2610</td>\n",
       "      <td>2830.3457</td>\n",
       "      <td>0.0</td>\n",
       "      <td>...</td>\n",
       "      <td>110.993950</td>\n",
       "      <td>166.490920</td>\n",
       "      <td>110.993950</td>\n",
       "      <td>166.490920</td>\n",
       "      <td>221.987900</td>\n",
       "      <td>0.00000</td>\n",
       "      <td>221.987900</td>\n",
       "      <td>0.000000</td>\n",
       "      <td>110.993950</td>\n",
       "      <td>0.000000</td>\n",
       "    </tr>\n",
       "    <tr>\n",
       "      <th>1426</th>\n",
       "      <td>ERR2538860-TTTGTCATCAACACCA</td>\n",
       "      <td>8285.11500</td>\n",
       "      <td>9015.5320</td>\n",
       "      <td>5151.7656</td>\n",
       "      <td>7515.4080</td>\n",
       "      <td>4632.7440</td>\n",
       "      <td>7939.0547</td>\n",
       "      <td>6036.0234</td>\n",
       "      <td>3287.1338</td>\n",
       "      <td>0.0</td>\n",
       "      <td>...</td>\n",
       "      <td>115.338030</td>\n",
       "      <td>153.784040</td>\n",
       "      <td>57.669014</td>\n",
       "      <td>153.784040</td>\n",
       "      <td>153.784040</td>\n",
       "      <td>153.78404</td>\n",
       "      <td>19.223005</td>\n",
       "      <td>57.669014</td>\n",
       "      <td>76.892020</td>\n",
       "      <td>57.669014</td>\n",
       "    </tr>\n",
       "  </tbody>\n",
       "</table>\n",
       "<p>1427 rows × 300 columns</p>\n",
       "</div>"
      ],
      "text/plain": [
       "                             cell  ENSG00000198804  ENSG00000156508  \\\n",
       "0     ERR2538859-AAACCTGAGACCACGA       9065.20200        4735.2563   \n",
       "1     ERR2538859-AAACCTGTCTGATACG          0.00000       16139.4430   \n",
       "2     ERR2538859-AAACGGGAGTGTTGAA       9193.14500       13334.9840   \n",
       "3     ERR2538859-AAAGATGTCCGAACGC      10016.36700       10540.0990   \n",
       "4     ERR2538859-AAAGTAGGTTAGTGGG      18116.04300        5664.7690   \n",
       "...                           ...              ...              ...   \n",
       "1422  ERR2538860-TTTGGTTTCGTTACGA      11986.30100        6563.9270   \n",
       "1423  ERR2538860-TTTGTCAAGCCCAACC        172.20595        5510.5903   \n",
       "1424  ERR2538860-TTTGTCACATTGGGCC      14539.58000       10060.2140   \n",
       "1425  ERR2538860-TTTGTCAGTTGCGTTA       5771.68550        6992.6187   \n",
       "1426  ERR2538860-TTTGTCATCAACACCA       8285.11500        9015.5320   \n",
       "\n",
       "      ENSG00000087086  ENSG00000229117  ENSG00000026025  ENSG00000140988  \\\n",
       "0           5042.7400        9255.0700        3659.0615        5749.6270   \n",
       "1           4519.0444       12696.3620        3443.0813        7962.1255   \n",
       "2           4739.7560       14643.7230        2193.0212       12343.2730   \n",
       "3           4058.9202        7725.0415        8837.9720        7200.7144   \n",
       "4           5384.3350        8469.1100        3140.8620        4935.0034   \n",
       "...               ...              ...              ...              ...   \n",
       "1422        5707.7627       14554.7940        1141.5525       12557.0770   \n",
       "1423        9126.9150       10160.1510        7577.0615        7232.6500   \n",
       "1424        2570.1277        8003.4385        6094.8745        8224.4080   \n",
       "1425       11654.3640        8713.0250        6160.1640        7714.0796   \n",
       "1426        5151.7656        7515.4080        4632.7440        7939.0547   \n",
       "\n",
       "      ENSG00000198918  ENSG00000198938  ENSG00000118271  ...  ENSG00000065548  \\\n",
       "0           3874.3005        2982.5964              0.0  ...        92.245255   \n",
       "1          10329.2440           0.0000              0.0  ...         0.000000   \n",
       "2          11424.9340        3218.7893              0.0  ...       141.485240   \n",
       "3           5695.5815        2029.4601              0.0  ...       196.399350   \n",
       "4           4823.4670        6449.9844              0.0  ...        56.086823   \n",
       "...               ...              ...              ...  ...              ...   \n",
       "1422        6563.9270        7420.0913              0.0  ...         0.000000   \n",
       "1423        6027.2080           0.0000              0.0  ...       172.205950   \n",
       "1424        9105.5960        5140.2554              0.0  ...       220.296660   \n",
       "1425        4384.2610        2830.3457              0.0  ...       110.993950   \n",
       "1426        6036.0234        3287.1338              0.0  ...       115.338030   \n",
       "\n",
       "      ENSG00000115866  ENSG00000112715  ENSG00000159352  ENSG00000102225  \\\n",
       "0          153.742080        30.748417        61.496834       215.238920   \n",
       "1          215.192580         0.000000       215.192580       215.192580   \n",
       "2           70.742620        35.371310        70.742620         0.000000   \n",
       "3           65.466450         0.000000         0.000000         0.000000   \n",
       "4          112.173645       168.260470        56.086823       112.173645   \n",
       "...               ...              ...              ...              ...   \n",
       "1422       285.388120         0.000000         0.000000         0.000000   \n",
       "1423       172.205950         0.000000       172.205950         0.000000   \n",
       "1424       367.161100         0.000000        73.432220       146.864440   \n",
       "1425       166.490920       110.993950       166.490920       221.987900   \n",
       "1426       153.784040        57.669014       153.784040       153.784040   \n",
       "\n",
       "      ENSG00000184897  ENSG00000006652  ENSG00000276256  ENSG00000128050  \\\n",
       "0           215.23892        61.496834       122.993670        61.496834   \n",
       "1             0.00000         0.000000         0.000000         0.000000   \n",
       "2            70.74262        35.371310        70.742620       141.485240   \n",
       "3             0.00000        32.733227        65.466450         0.000000   \n",
       "4             0.00000         0.000000        56.086823        56.086823   \n",
       "...               ...              ...              ...              ...   \n",
       "1422          0.00000         0.000000       285.388120         0.000000   \n",
       "1423          0.00000       172.205950         0.000000         0.000000   \n",
       "1424          0.00000       220.296660       146.864440       146.864440   \n",
       "1425          0.00000       221.987900         0.000000       110.993950   \n",
       "1426        153.78404        19.223005        57.669014        76.892020   \n",
       "\n",
       "      ENSG00000182628  \n",
       "0          153.742080  \n",
       "1          215.192580  \n",
       "2           35.371310  \n",
       "3            0.000000  \n",
       "4            0.000000  \n",
       "...               ...  \n",
       "1422       285.388120  \n",
       "1423         0.000000  \n",
       "1424        73.432220  \n",
       "1425         0.000000  \n",
       "1426        57.669014  \n",
       "\n",
       "[1427 rows x 300 columns]"
      ]
     },
     "execution_count": 75,
     "metadata": {},
     "output_type": "execute_result"
    }
   ],
   "source": [
    "# Filter the DataFrame using the boolean array\n",
    "data_filtered_features = df_filtered.iloc[:,:-10].loc[:, best_features]\n",
    "\n",
    "# Print the filtered DataFrame\n",
    "data_filtered_features"
   ]
  },
  {
   "cell_type": "code",
   "execution_count": 76,
   "metadata": {
    "id": "IVX9SzrtFBkQ"
   },
   "outputs": [],
   "source": [
    "# view the feature scores\n",
    "#X_df = pd.DataFrame(X_train_val,columns=X.columns)\n",
    "feature_scores = pd.Series(best_classifier_RF.feature_importances_).sort_values(ascending=False)"
   ]
  },
  {
   "cell_type": "code",
   "execution_count": 77,
   "metadata": {
    "colab": {
     "base_uri": "https://localhost:8080/"
    },
    "id": "EABZ-TDdLACp",
    "outputId": "74c1214c-d6b4-425d-b216-014e66af1fc8"
   },
   "outputs": [
    {
     "data": {
      "text/plain": [
       "59     0.031908\n",
       "77     0.027471\n",
       "78     0.025254\n",
       "286    0.024412\n",
       "194    0.020526\n",
       "         ...   \n",
       "46     0.000427\n",
       "295    0.000407\n",
       "282    0.000397\n",
       "197    0.000389\n",
       "294    0.000387\n",
       "Length: 300, dtype: float64"
      ]
     },
     "execution_count": 77,
     "metadata": {},
     "output_type": "execute_result"
    }
   ],
   "source": [
    "feature_scores"
   ]
  },
  {
   "cell_type": "code",
   "execution_count": 78,
   "metadata": {
    "colab": {
     "base_uri": "https://localhost:8080/"
    },
    "id": "nY7GhQpq2oQu",
    "outputId": "5c944b7f-d6ea-45da-84cb-377729eb2995"
   },
   "outputs": [
    {
     "name": "stdout",
     "output_type": "stream",
     "text": [
      "Index(['ENSG00000174444', 'ENSG00000132475', 'ENSG00000137309',\n",
      "       'ENSG00000111011', 'ENSG00000141504', 'ENSG00000163220',\n",
      "       'ENSG00000074800', 'ENSG00000167460', 'ENSG00000184840',\n",
      "       'ENSG00000163864',\n",
      "       ...\n",
      "       'ENSG00000106211', 'ENSG00000198830', 'ENSG00000177156',\n",
      "       'ENSG00000125835', 'ENSG00000135940', 'ENSG00000163191',\n",
      "       'ENSG00000184897', 'ENSG00000124733', 'ENSG00000046647',\n",
      "       'ENSG00000102225'],\n",
      "      dtype='object', length=300)\n"
     ]
    }
   ],
   "source": [
    "# Get the column names corresponding to the series indices\n",
    "column_names = data_filtered_features.columns[feature_scores.index]\n",
    "\n",
    "# Print the column names\n",
    "print(column_names)"
   ]
  },
  {
   "cell_type": "code",
   "execution_count": 79,
   "metadata": {
    "colab": {
     "base_uri": "https://localhost:8080/"
    },
    "id": "PeV8LPaV2_kq",
    "outputId": "167dba76-2288-497d-f84e-71a79b4cb255"
   },
   "outputs": [
    {
     "name": "stdout",
     "output_type": "stream",
     "text": [
      "Index([], dtype='object')\n"
     ]
    }
   ],
   "source": [
    "# Get the column names corresponding to the series indices above the threshold\n",
    "filtered_column_names = data_filtered_features.columns[feature_scores[feature_scores > 0.05].index]\n",
    "\n",
    "# Print the filtered column names\n",
    "print(filtered_column_names)"
   ]
  },
  {
   "cell_type": "code",
   "execution_count": 80,
   "metadata": {},
   "outputs": [
    {
     "name": "stdout",
     "output_type": "stream",
     "text": [
      "Index(['ENSG00000163453', 'ENSG00000164104', 'ENSG00000163331',\n",
      "       'ENSG00000066279', 'ENSG00000131747', 'ENSG00000173212',\n",
      "       'ENSG00000197061', 'ENSG00000167680', 'ENSG00000148773',\n",
      "       'ENSG00000117724',\n",
      "       ...\n",
      "       'ENSG00000127184', 'ENSG00000196262', 'ENSG00000123989',\n",
      "       'ENSG00000145335', 'ENSG00000188229', 'ENSG00000110700',\n",
      "       'ENSG00000182263', 'ENSG00000160953', 'ENSG00000244398',\n",
      "       'ENSG00000184897'],\n",
      "      dtype='object', length=300)\n",
      "Index(['ENSG00000163453', 'ENSG00000164104', 'ENSG00000163331',\n",
      "       'ENSG00000066279', 'ENSG00000131747', 'ENSG00000173212',\n",
      "       'ENSG00000197061', 'ENSG00000167680', 'ENSG00000148773',\n",
      "       'ENSG00000117724', 'ENSG00000113810', 'ENSG00000198513',\n",
      "       'ENSG00000168014', 'ENSG00000144649', 'ENSG00000225890',\n",
      "       'ENSG00000184302', 'ENSG00000109046', 'ENSG00000163864',\n",
      "       'ENSG00000138061', 'ENSG00000049540', 'ENSG00000115947',\n",
      "       'ENSG00000175063', 'ENSG00000167996', 'ENSG00000164032',\n",
      "       'ENSG00000166803', 'ENSG00000236418', 'ENSG00000140279',\n",
      "       'ENSG00000198830'],\n",
      "      dtype='object')\n"
     ]
    }
   ],
   "source": [
    "# Get feature importance scores\n",
    "importance = pd.Series(best_classifier_RF.feature_importances_).sort_values(ascending=False)\n",
    "\n",
    "## Print feature importance scores\n",
    "#print(\"Feature Importance:\")\n",
    "#for i, imp in enumerate(importance):\n",
    "#    print(f\"Feature {i}: {imp}\")\n",
    "\n",
    "\n",
    "# Filter the DataFrame using the boolean array\n",
    "data_filtered_features = df_filtered.iloc[:,1:-9].loc[:, best_features]\n",
    "\n",
    "# Print the filtered DataFrame\n",
    "data_filtered_features\n",
    "\n",
    "# Get the column names corresponding to the series indices\n",
    "column_names_RF = data_filtered_features.columns[importance.index]\n",
    "\n",
    "# Print the column names\n",
    "print(column_names_RF)\n",
    "\n",
    "# Get the column names corresponding to the series indices above the threshold\n",
    "filtered_column_names_RF = data_filtered_features.columns[importance[importance > 0.01].index]\n",
    "\n",
    "# Print the filtered column names\n",
    "print(filtered_column_names_RF)"
   ]
  },
  {
   "cell_type": "code",
   "execution_count": 81,
   "metadata": {},
   "outputs": [
    {
     "data": {
      "text/plain": [
       "28"
      ]
     },
     "execution_count": 81,
     "metadata": {},
     "output_type": "execute_result"
    }
   ],
   "source": [
    "len(filtered_column_names_RF)"
   ]
  },
  {
   "attachments": {},
   "cell_type": "markdown",
   "metadata": {
    "id": "SzHT-MEPEaMN"
   },
   "source": [
    "## XGBoost"
   ]
  },
  {
   "attachments": {},
   "cell_type": "markdown",
   "metadata": {
    "id": "2wM-KG31Ecok"
   },
   "source": [
    "#### Cross val for hyperparameter tunning and feature selection"
   ]
  },
  {
   "cell_type": "code",
   "execution_count": 82,
   "metadata": {
    "id": "2blTK7FmEcol"
   },
   "outputs": [],
   "source": [
    "# Define the number of folds for cross-validation\n",
    "n_folds = 5"
   ]
  },
  {
   "cell_type": "code",
   "execution_count": 83,
   "metadata": {
    "id": "_oOLPOa1Ecol"
   },
   "outputs": [],
   "source": [
    "# Define the objective function for Optuna hyperparameter tuning\n",
    "def objective_XG(trial):\n",
    "  global best_features\n",
    "\n",
    "  params = {\n",
    "            'n_estimators': trial.suggest_int('n_estimators', 50, 200),\n",
    "            'max_depth': trial.suggest_int('max_depth', 5, 20),\n",
    "            'learning_rate': trial.suggest_float('learning_rate', 0.01, 0.1),\n",
    "            'subsample': trial.suggest_float('subsample', 0.5, 1.0),\n",
    "            'colsample_bytree': trial.suggest_float('colsample_bytree', 0.5, 1.0),\n",
    "            'gamma': trial.suggest_float('gamma', 0, 5),\n",
    "            'min_child_weight': trial.suggest_int('min_child_weight', 1, 5),\n",
    "            'random_state': 42,\n",
    "            'tree_method': 'hist',  # Optional: Use 'hist' method for faster training\n",
    "            'objective': 'multi:softmax',\n",
    "            'num_class': 4  # Replace with the actual number of classes\n",
    "        }\n",
    "\n",
    "  # Instantiate the classifier with the current hyperparameters\n",
    "  #classifier = XGBClassifier(eta=eta,gamma=gamma ,min_child_weight=min_child_weight,max_delta_step=max_delta_step,subsample=subsample)\n",
    "  classifier = XGBClassifier(**params)\n",
    "\n",
    "  # Perform cross-validation with feature selection\n",
    "  kf = StratifiedKFold(n_splits=n_folds, shuffle=True, random_state=42)\n",
    "  cv_scores = []\n",
    "  feature_selector = SelectKBest(score_func=f_classif, k=300)  # Adjust the number of features as desired\n",
    "  best_features = None\n",
    "\n",
    "  for train_index, val_index in kf.split(X_train_val, y_train_val):\n",
    "      X_train, X_val = X_train_val[train_index], X_train_val[val_index]\n",
    "      y_train, y_val = y_train_val[train_index], y_train_val[val_index]\n",
    "\n",
    "      # Perform feature selection on the training set\n",
    "      X_train_selected = feature_selector.fit_transform(X_train, y_train)\n",
    "      selected_features = feature_selector.get_support()\n",
    "\n",
    "      # Apply the same feature selection on the validation set\n",
    "      X_val_selected = X_val[:, selected_features]\n",
    "\n",
    "      # Fit the classifier on the selected features and evaluate on the validation set\n",
    "      classifier.fit(X_train_selected, y_train)\n",
    "      y_pred = classifier.predict(X_val_selected)\n",
    "      mcc = matthews_corrcoef(y_val, y_pred)\n",
    "      cv_scores.append(mcc)\n",
    "\n",
    "  # Calculate the average MCC\n",
    "  avg_mcc = np.mean(cv_scores)\n",
    "\n",
    "  if trial.should_prune()==False:\n",
    "    best_features = selected_features.copy()\n",
    "\n",
    "  return avg_mcc"
   ]
  },
  {
   "cell_type": "code",
   "execution_count": 84,
   "metadata": {
    "colab": {
     "base_uri": "https://localhost:8080/"
    },
    "id": "aaF6hq6FEcom",
    "outputId": "45e915b5-bfa7-4bd0-df58-0f7462ff6f5b"
   },
   "outputs": [
    {
     "name": "stderr",
     "output_type": "stream",
     "text": [
      "[I 2023-07-02 23:48:06,765] A new study created in memory with name: no-name-634e9cd0-5e6e-4aea-8902-edf577bac055\n",
      "[I 2023-07-02 23:48:25,681] Trial 0 finished with value: 0.8560057649776948 and parameters: {'n_estimators': 106, 'max_depth': 20, 'learning_rate': 0.07587945476302646, 'subsample': 0.7993292420985183, 'colsample_bytree': 0.5780093202212182, 'gamma': 0.7799726016810132, 'min_child_weight': 1}. Best is trial 0 with value: 0.8560057649776948.\n",
      "[I 2023-07-02 23:48:34,125] Trial 1 finished with value: 0.842941670915514 and parameters: {'n_estimators': 180, 'max_depth': 14, 'learning_rate': 0.0737265320016441, 'subsample': 0.5102922471479012, 'colsample_bytree': 0.9849549260809971, 'gamma': 4.162213204002109, 'min_child_weight': 2}. Best is trial 0 with value: 0.8560057649776948.\n",
      "[I 2023-07-02 23:48:44,978] Trial 2 finished with value: 0.8443895950438899 and parameters: {'n_estimators': 77, 'max_depth': 7, 'learning_rate': 0.0373818018663584, 'subsample': 0.762378215816119, 'colsample_bytree': 0.7159725093210578, 'gamma': 1.4561457009902097, 'min_child_weight': 4}. Best is trial 0 with value: 0.8560057649776948.\n",
      "[I 2023-07-02 23:48:57,392] Trial 3 finished with value: 0.8494715153551826 and parameters: {'n_estimators': 71, 'max_depth': 9, 'learning_rate': 0.04297256589643226, 'subsample': 0.728034992108518, 'colsample_bytree': 0.8925879806965068, 'gamma': 0.9983689107917987, 'min_child_weight': 3}. Best is trial 0 with value: 0.8560057649776948.\n",
      "[I 2023-07-02 23:49:03,423] Trial 4 finished with value: 0.8366127496886631 and parameters: {'n_estimators': 139, 'max_depth': 5, 'learning_rate': 0.06467903667112945, 'subsample': 0.5852620618436457, 'colsample_bytree': 0.5325257964926398, 'gamma': 4.7444276862666666, 'min_child_weight': 5}. Best is trial 0 with value: 0.8560057649776948.\n",
      "[I 2023-07-02 23:49:34,709] Trial 5 finished with value: 0.8509446151064974 and parameters: {'n_estimators': 172, 'max_depth': 9, 'learning_rate': 0.018790490260574548, 'subsample': 0.8421165132560784, 'colsample_bytree': 0.7200762468698007, 'gamma': 0.6101911742238941, 'min_child_weight': 3}. Best is trial 0 with value: 0.8560057649776948.\n",
      "[I 2023-07-02 23:49:42,816] Trial 6 finished with value: 0.8312524737895673 and parameters: {'n_estimators': 55, 'max_depth': 19, 'learning_rate': 0.03329019834400153, 'subsample': 0.831261142176991, 'colsample_bytree': 0.6558555380447055, 'gamma': 2.600340105889054, 'min_child_weight': 3}. Best is trial 0 with value: 0.8560057649776948.\n",
      "[I 2023-07-02 23:49:49,844] Trial 7 finished with value: 0.837864263351463 and parameters: {'n_estimators': 77, 'max_depth': 20, 'learning_rate': 0.07976195410250031, 'subsample': 0.9697494707820946, 'colsample_bytree': 0.9474136752138245, 'gamma': 2.9894998940554256, 'min_child_weight': 5}. Best is trial 0 with value: 0.8560057649776948.\n",
      "[I 2023-07-02 23:50:00,825] Trial 8 finished with value: 0.8185405001710773 and parameters: {'n_estimators': 63, 'max_depth': 8, 'learning_rate': 0.014070456001948426, 'subsample': 0.6626651653816322, 'colsample_bytree': 0.6943386448447411, 'gamma': 1.3567451588694794, 'min_child_weight': 5}. Best is trial 0 with value: 0.8560057649776948.\n",
      "[I 2023-07-02 23:50:13,613] Trial 9 finished with value: 0.8546039378080879 and parameters: {'n_estimators': 103, 'max_depth': 9, 'learning_rate': 0.058842647484242366, 'subsample': 0.5704621124873813, 'colsample_bytree': 0.9010984903770198, 'gamma': 0.3727532183988541, 'min_child_weight': 5}. Best is trial 0 with value: 0.8560057649776948.\n",
      "[I 2023-07-02 23:50:35,464] Trial 10 finished with value: 0.8222285546948 and parameters: {'n_estimators': 166, 'max_depth': 8, 'learning_rate': 0.010496990541124216, 'subsample': 0.9077307142274171, 'colsample_bytree': 0.8534286719238086, 'gamma': 3.6450358402049368, 'min_child_weight': 4}. Best is trial 0 with value: 0.8560057649776948.\n",
      "[I 2023-07-02 23:50:50,705] Trial 11 finished with value: 0.8276521049534109 and parameters: {'n_estimators': 61, 'max_depth': 10, 'learning_rate': 0.020428215357261678, 'subsample': 0.9315517129377968, 'colsample_bytree': 0.811649063413779, 'gamma': 1.654490124263246, 'min_child_weight': 1}. Best is trial 0 with value: 0.8560057649776948.\n",
      "[I 2023-07-02 23:50:59,828] Trial 12 finished with value: 0.8584675872823337 and parameters: {'n_estimators': 96, 'max_depth': 10, 'learning_rate': 0.07566455605042577, 'subsample': 0.8187787356776066, 'colsample_bytree': 0.9436063712881633, 'gamma': 2.3610746258097466, 'min_child_weight': 1}. Best is trial 12 with value: 0.8584675872823337.\n",
      "[I 2023-07-02 23:51:10,354] Trial 13 finished with value: 0.8519922526773269 and parameters: {'n_estimators': 157, 'max_depth': 17, 'learning_rate': 0.06051494778125467, 'subsample': 0.8854835899772805, 'colsample_bytree': 0.7468977981821954, 'gamma': 2.6136641469099704, 'min_child_weight': 3}. Best is trial 12 with value: 0.8584675872823337.\n",
      "[I 2023-07-02 23:51:17,671] Trial 14 finished with value: 0.8157944708220638 and parameters: {'n_estimators': 53, 'max_depth': 6, 'learning_rate': 0.012828626711806084, 'subsample': 0.8182052056318903, 'colsample_bytree': 0.6571779905381634, 'gamma': 2.542853455823514, 'min_child_weight': 5}. Best is trial 12 with value: 0.8584675872823337.\n",
      "[I 2023-07-02 23:51:26,346] Trial 15 finished with value: 0.846936563770825 and parameters: {'n_estimators': 87, 'max_depth': 11, 'learning_rate': 0.07799960246887438, 'subsample': 0.6143990827458112, 'colsample_bytree': 0.5384899549143964, 'gamma': 1.4487572645688402, 'min_child_weight': 1}. Best is trial 12 with value: 0.8584675872823337.\n",
      "[I 2023-07-02 23:51:41,531] Trial 16 finished with value: 0.8534885684198896 and parameters: {'n_estimators': 190, 'max_depth': 17, 'learning_rate': 0.06700633808593812, 'subsample': 0.9357302950938589, 'colsample_bytree': 0.9018360384495572, 'gamma': 0.9328502944301792, 'min_child_weight': 5}. Best is trial 12 with value: 0.8584675872823337.\n",
      "[I 2023-07-02 23:51:50,779] Trial 17 finished with value: 0.8584957924583009 and parameters: {'n_estimators': 131, 'max_depth': 17, 'learning_rate': 0.0906482169931144, 'subsample': 0.6590017374859319, 'colsample_bytree': 0.5550259622638384, 'gamma': 1.1396758127097084, 'min_child_weight': 3}. Best is trial 17 with value: 0.8584957924583009.\n",
      "[I 2023-07-02 23:52:29,549] Trial 18 finished with value: 0.8432496661557446 and parameters: {'n_estimators': 173, 'max_depth': 18, 'learning_rate': 0.010625691747807163, 'subsample': 0.7553736512887829, 'colsample_bytree': 0.7087055015743895, 'gamma': 1.1105390523536514, 'min_child_weight': 1}. Best is trial 17 with value: 0.8584957924583009.\n",
      "[I 2023-07-02 23:52:41,755] Trial 19 finished with value: 0.8419139812248474 and parameters: {'n_estimators': 100, 'max_depth': 20, 'learning_rate': 0.03908826388186797, 'subsample': 0.7593953108716831, 'colsample_bytree': 0.8515094794475889, 'gamma': 1.81814801189647, 'min_child_weight': 5}. Best is trial 17 with value: 0.8584957924583009.\n",
      "[I 2023-07-02 23:53:01,604] Trial 20 finished with value: 0.8598737841961313 and parameters: {'n_estimators': 195, 'max_depth': 9, 'learning_rate': 0.0547523655303147, 'subsample': 0.6504391549083848, 'colsample_bytree': 0.6424202471887338, 'gamma': 0.18443473677266398, 'min_child_weight': 4}. Best is trial 20 with value: 0.8598737841961313.\n",
      "[I 2023-07-02 23:53:19,433] Trial 21 finished with value: 0.8586256843608838 and parameters: {'n_estimators': 125, 'max_depth': 5, 'learning_rate': 0.035078181781295036, 'subsample': 0.9541329429833268, 'colsample_bytree': 0.6197809453334862, 'gamma': 0.7244743604561155, 'min_child_weight': 3}. Best is trial 20 with value: 0.8598737841961313.\n",
      "[I 2023-07-02 23:53:28,261] Trial 22 finished with value: 0.8430222087371331 and parameters: {'n_estimators': 198, 'max_depth': 8, 'learning_rate': 0.07049219926652908, 'subsample': 0.8808098076643588, 'colsample_bytree': 0.6188187719961998, 'gamma': 3.641081743059298, 'min_child_weight': 2}. Best is trial 20 with value: 0.8598737841961313.\n",
      "[I 2023-07-02 23:53:41,628] Trial 23 finished with value: 0.8548676201926495 and parameters: {'n_estimators': 145, 'max_depth': 15, 'learning_rate': 0.05821972156672827, 'subsample': 0.5451448850272042, 'colsample_bytree': 0.917651247794619, 'gamma': 1.6039003248586792, 'min_child_weight': 1}. Best is trial 20 with value: 0.8598737841961313.\n"
     ]
    },
    {
     "name": "stderr",
     "output_type": "stream",
     "text": [
      "[I 2023-07-02 23:53:48,494] Trial 24 finished with value: 0.8496116625810158 and parameters: {'n_estimators': 56, 'max_depth': 14, 'learning_rate': 0.07098079256580542, 'subsample': 0.508293914463928, 'colsample_bytree': 0.7560465291496405, 'gamma': 1.1324788759896898, 'min_child_weight': 4}. Best is trial 20 with value: 0.8598737841961313.\n",
      "[I 2023-07-02 23:54:00,712] Trial 25 finished with value: 0.8497503130717174 and parameters: {'n_estimators': 76, 'max_depth': 16, 'learning_rate': 0.044806181167048376, 'subsample': 0.9683649943683672, 'colsample_bytree': 0.5687604720729966, 'gamma': 1.7053317552512925, 'min_child_weight': 1}. Best is trial 20 with value: 0.8598737841961313.\n",
      "[I 2023-07-02 23:54:17,666] Trial 26 finished with value: 0.84957944116265 and parameters: {'n_estimators': 189, 'max_depth': 19, 'learning_rate': 0.033214746494364004, 'subsample': 0.8299920230170895, 'colsample_bytree': 0.9086111001006079, 'gamma': 2.7760040579973118, 'min_child_weight': 3}. Best is trial 20 with value: 0.8598737841961313.\n",
      "[I 2023-07-02 23:54:25,863] Trial 27 finished with value: 0.8484506826092328 and parameters: {'n_estimators': 86, 'max_depth': 6, 'learning_rate': 0.09074941821579942, 'subsample': 0.9502090285816652, 'colsample_bytree': 0.816550728636634, 'gamma': 1.6951489552435035, 'min_child_weight': 2}. Best is trial 20 with value: 0.8598737841961313.\n",
      "[I 2023-07-02 23:54:43,038] Trial 28 finished with value: 0.8546278147203628 and parameters: {'n_estimators': 159, 'max_depth': 19, 'learning_rate': 0.08983777818386056, 'subsample': 0.8899377729288119, 'colsample_bytree': 0.8210158230771438, 'gamma': 0.42069982497524416, 'min_child_weight': 1}. Best is trial 20 with value: 0.8598737841961313.\n",
      "[I 2023-07-02 23:55:35,326] Trial 29 finished with value: 0.8485296126940739 and parameters: {'n_estimators': 185, 'max_depth': 14, 'learning_rate': 0.010827734645496669, 'subsample': 0.5507357714330161, 'colsample_bytree': 0.8317508845540279, 'gamma': 0.025307919231093434, 'min_child_weight': 1}. Best is trial 20 with value: 0.8598737841961313.\n",
      "[I 2023-07-02 23:55:47,999] Trial 30 finished with value: 0.8534250512230441 and parameters: {'n_estimators': 132, 'max_depth': 16, 'learning_rate': 0.06867651335523406, 'subsample': 0.61213465473028, 'colsample_bytree': 0.8560896106737679, 'gamma': 1.1862454374840004, 'min_child_weight': 2}. Best is trial 20 with value: 0.8598737841961313.\n",
      "[I 2023-07-02 23:56:03,794] Trial 31 finished with value: 0.8573827087816064 and parameters: {'n_estimators': 162, 'max_depth': 15, 'learning_rate': 0.08643010694447602, 'subsample': 0.8288064461501716, 'colsample_bytree': 0.7841543016677358, 'gamma': 0.4683738391404624, 'min_child_weight': 2}. Best is trial 20 with value: 0.8598737841961313.\n",
      "[I 2023-07-02 23:56:09,839] Trial 32 finished with value: 0.8457233098736916 and parameters: {'n_estimators': 90, 'max_depth': 8, 'learning_rate': 0.09757094992772011, 'subsample': 0.6965488623333802, 'colsample_bytree': 0.9460232775885566, 'gamma': 3.1556931299863145, 'min_child_weight': 4}. Best is trial 20 with value: 0.8598737841961313.\n",
      "[I 2023-07-02 23:56:24,066] Trial 33 finished with value: 0.8547281304654666 and parameters: {'n_estimators': 125, 'max_depth': 14, 'learning_rate': 0.05432659244369776, 'subsample': 0.5976214938990223, 'colsample_bytree': 0.8612260576307527, 'gamma': 1.403861812204279, 'min_child_weight': 1}. Best is trial 20 with value: 0.8598737841961313.\n",
      "[I 2023-07-02 23:56:33,877] Trial 34 finished with value: 0.8316905637692859 and parameters: {'n_estimators': 147, 'max_depth': 7, 'learning_rate': 0.09464127259176229, 'subsample': 0.9769642885012937, 'colsample_bytree': 0.9574321951102243, 'gamma': 1.8507935012772219, 'min_child_weight': 1}. Best is trial 20 with value: 0.8598737841961313.\n",
      "[I 2023-07-02 23:56:45,408] Trial 35 finished with value: 0.8443068179534514 and parameters: {'n_estimators': 190, 'max_depth': 11, 'learning_rate': 0.09699893371393027, 'subsample': 0.9818099885446264, 'colsample_bytree': 0.92650472773368, 'gamma': 1.4722444603479286, 'min_child_weight': 2}. Best is trial 20 with value: 0.8598737841961313.\n",
      "[I 2023-07-02 23:57:02,502] Trial 36 finished with value: 0.8495421296913612 and parameters: {'n_estimators': 178, 'max_depth': 10, 'learning_rate': 0.025254347201748326, 'subsample': 0.7784006312291751, 'colsample_bytree': 0.9680773870803905, 'gamma': 3.480148983374865, 'min_child_weight': 3}. Best is trial 20 with value: 0.8598737841961313.\n",
      "[I 2023-07-02 23:57:06,366] Trial 37 finished with value: 0.8431011277774166 and parameters: {'n_estimators': 64, 'max_depth': 14, 'learning_rate': 0.0991048465093837, 'subsample': 0.570042007618262, 'colsample_bytree': 0.7591648261818684, 'gamma': 4.386865359639777, 'min_child_weight': 4}. Best is trial 20 with value: 0.8598737841961313.\n",
      "[I 2023-07-02 23:57:16,354] Trial 38 finished with value: 0.8406207461815771 and parameters: {'n_estimators': 155, 'max_depth': 16, 'learning_rate': 0.04235420360977797, 'subsample': 0.6467959221322467, 'colsample_bytree': 0.9046805777392568, 'gamma': 4.050566973395904, 'min_child_weight': 5}. Best is trial 20 with value: 0.8598737841961313.\n",
      "[I 2023-07-02 23:57:26,985] Trial 39 finished with value: 0.8468942386061651 and parameters: {'n_estimators': 187, 'max_depth': 13, 'learning_rate': 0.05513646652184797, 'subsample': 0.8991475894833876, 'colsample_bytree': 0.8249819653888826, 'gamma': 3.509834386288517, 'min_child_weight': 4}. Best is trial 20 with value: 0.8598737841961313.\n",
      "[I 2023-07-02 23:57:51,014] Trial 40 finished with value: 0.8650974263082819 and parameters: {'n_estimators': 184, 'max_depth': 10, 'learning_rate': 0.04380246573759497, 'subsample': 0.5469909699204345, 'colsample_bytree': 0.789140070498087, 'gamma': 0.17971136898371043, 'min_child_weight': 3}. Best is trial 40 with value: 0.8650974263082819.\n",
      "[I 2023-07-02 23:57:56,981] Trial 41 finished with value: 0.8520695263836782 and parameters: {'n_estimators': 131, 'max_depth': 9, 'learning_rate': 0.06317499345121097, 'subsample': 0.5152501249695247, 'colsample_bytree': 0.5186740943746072, 'gamma': 4.113002803298292, 'min_child_weight': 2}. Best is trial 40 with value: 0.8650974263082819.\n",
      "[I 2023-07-02 23:58:10,272] Trial 42 finished with value: 0.8546864360796966 and parameters: {'n_estimators': 69, 'max_depth': 13, 'learning_rate': 0.07929941977887497, 'subsample': 0.6079105137484215, 'colsample_bytree': 0.8114452379095001, 'gamma': 0.42673732496884, 'min_child_weight': 1}. Best is trial 40 with value: 0.8650974263082819.\n",
      "[I 2023-07-02 23:58:20,540] Trial 43 finished with value: 0.8496812569500369 and parameters: {'n_estimators': 130, 'max_depth': 13, 'learning_rate': 0.06736869113483859, 'subsample': 0.8630456668613308, 'colsample_bytree': 0.9879260397312672, 'gamma': 2.5815017415059764, 'min_child_weight': 2}. Best is trial 40 with value: 0.8650974263082819.\n",
      "[I 2023-07-02 23:58:27,654] Trial 44 finished with value: 0.8418008131968172 and parameters: {'n_estimators': 170, 'max_depth': 9, 'learning_rate': 0.04950742786350726, 'subsample': 0.5392281906711329, 'colsample_bytree': 0.5126753717077288, 'gamma': 4.813242073389626, 'min_child_weight': 5}. Best is trial 40 with value: 0.8650974263082819.\n",
      "[I 2023-07-02 23:58:40,931] Trial 45 finished with value: 0.8433468201705587 and parameters: {'n_estimators': 155, 'max_depth': 11, 'learning_rate': 0.02559648880637612, 'subsample': 0.5782185213355431, 'colsample_bytree': 0.6251214490822976, 'gamma': 2.7461333235306022, 'min_child_weight': 4}. Best is trial 40 with value: 0.8650974263082819.\n",
      "[I 2023-07-02 23:58:48,383] Trial 46 finished with value: 0.8468834586716614 and parameters: {'n_estimators': 149, 'max_depth': 9, 'learning_rate': 0.09593787525968747, 'subsample': 0.8689484583478843, 'colsample_bytree': 0.7771770262557003, 'gamma': 3.058603731171761, 'min_child_weight': 3}. Best is trial 40 with value: 0.8650974263082819.\n",
      "[I 2023-07-02 23:59:02,794] Trial 47 finished with value: 0.8546722058466774 and parameters: {'n_estimators': 87, 'max_depth': 10, 'learning_rate': 0.07820614994179323, 'subsample': 0.5071967443148779, 'colsample_bytree': 0.5580363202534582, 'gamma': 0.23001321010876374, 'min_child_weight': 1}. Best is trial 40 with value: 0.8650974263082819.\n"
     ]
    },
    {
     "name": "stderr",
     "output_type": "stream",
     "text": [
      "[I 2023-07-02 23:59:14,800] Trial 48 finished with value: 0.8545932817075548 and parameters: {'n_estimators': 179, 'max_depth': 16, 'learning_rate': 0.05267564461785927, 'subsample': 0.5489170803255008, 'colsample_bytree': 0.7458079375584161, 'gamma': 2.3673588539028283, 'min_child_weight': 1}. Best is trial 40 with value: 0.8650974263082819.\n",
      "[I 2023-07-02 23:59:23,364] Trial 49 finished with value: 0.8454236751002613 and parameters: {'n_estimators': 115, 'max_depth': 11, 'learning_rate': 0.06542650882469948, 'subsample': 0.8175468254338218, 'colsample_bytree': 0.5226520048860223, 'gamma': 1.873063073132356, 'min_child_weight': 4}. Best is trial 40 with value: 0.8650974263082819.\n",
      "[I 2023-07-02 23:59:30,317] Trial 50 finished with value: 0.8443887532829037 and parameters: {'n_estimators': 125, 'max_depth': 18, 'learning_rate': 0.06928242684570506, 'subsample': 0.5814672135407148, 'colsample_bytree': 0.5352843737002149, 'gamma': 3.212096391031578, 'min_child_weight': 1}. Best is trial 40 with value: 0.8650974263082819.\n",
      "[I 2023-07-02 23:59:40,901] Trial 51 finished with value: 0.8522147145759236 and parameters: {'n_estimators': 138, 'max_depth': 20, 'learning_rate': 0.061792676008829116, 'subsample': 0.694084963103261, 'colsample_bytree': 0.8216441092211766, 'gamma': 2.2912644524575834, 'min_child_weight': 3}. Best is trial 40 with value: 0.8650974263082819.\n",
      "[I 2023-07-02 23:59:57,296] Trial 52 finished with value: 0.8598446281961822 and parameters: {'n_estimators': 192, 'max_depth': 11, 'learning_rate': 0.09650715074415228, 'subsample': 0.9526753209780319, 'colsample_bytree': 0.5978955673946482, 'gamma': 0.3468065043758273, 'min_child_weight': 1}. Best is trial 40 with value: 0.8650974263082819.\n",
      "[I 2023-07-03 00:00:01,342] Trial 53 finished with value: 0.8325915092841674 and parameters: {'n_estimators': 52, 'max_depth': 6, 'learning_rate': 0.07147060960747212, 'subsample': 0.5355943242301144, 'colsample_bytree': 0.6594878151468806, 'gamma': 4.2243765548472725, 'min_child_weight': 1}. Best is trial 40 with value: 0.8650974263082819.\n",
      "[I 2023-07-03 00:00:17,154] Trial 54 finished with value: 0.8391447181544709 and parameters: {'n_estimators': 172, 'max_depth': 9, 'learning_rate': 0.020634834485949063, 'subsample': 0.8483685826820753, 'colsample_bytree': 0.8144714233899419, 'gamma': 4.387360067635265, 'min_child_weight': 4}. Best is trial 40 with value: 0.8650974263082819.\n",
      "[I 2023-07-03 00:00:31,008] Trial 55 finished with value: 0.8340436397902928 and parameters: {'n_estimators': 171, 'max_depth': 9, 'learning_rate': 0.025969558940175053, 'subsample': 0.8753073758204292, 'colsample_bytree': 0.9034173696336321, 'gamma': 4.952525710003367, 'min_child_weight': 3}. Best is trial 40 with value: 0.8650974263082819.\n",
      "[I 2023-07-03 00:00:44,724] Trial 56 finished with value: 0.8532861514125148 and parameters: {'n_estimators': 106, 'max_depth': 17, 'learning_rate': 0.04067231862277161, 'subsample': 0.9653786628017824, 'colsample_bytree': 0.9292063759215059, 'gamma': 2.1449701368750915, 'min_child_weight': 4}. Best is trial 40 with value: 0.8650974263082819.\n",
      "[I 2023-07-03 00:00:54,453] Trial 57 finished with value: 0.8520796847892921 and parameters: {'n_estimators': 163, 'max_depth': 6, 'learning_rate': 0.091229761601161, 'subsample': 0.7526261862239285, 'colsample_bytree': 0.9132287330538709, 'gamma': 1.6002480051530588, 'min_child_weight': 5}. Best is trial 40 with value: 0.8650974263082819.\n",
      "[I 2023-07-03 00:00:59,076] Trial 58 finished with value: 0.8391422170034588 and parameters: {'n_estimators': 108, 'max_depth': 5, 'learning_rate': 0.09148437787773374, 'subsample': 0.5456433383930668, 'colsample_bytree': 0.6596568187952074, 'gamma': 4.750309835254025, 'min_child_weight': 5}. Best is trial 40 with value: 0.8650974263082819.\n",
      "[I 2023-07-03 00:01:07,805] Trial 59 finished with value: 0.8547106570142159 and parameters: {'n_estimators': 136, 'max_depth': 15, 'learning_rate': 0.05036009697804879, 'subsample': 0.6466053858490323, 'colsample_bytree': 0.664332272684958, 'gamma': 3.362592280385192, 'min_child_weight': 4}. Best is trial 40 with value: 0.8650974263082819.\n",
      "[I 2023-07-03 00:01:25,255] Trial 60 finished with value: 0.8430728110642758 and parameters: {'n_estimators': 169, 'max_depth': 17, 'learning_rate': 0.018208549274382133, 'subsample': 0.7472101523512907, 'colsample_bytree': 0.5287793800083221, 'gamma': 2.7476444116186776, 'min_child_weight': 3}. Best is trial 40 with value: 0.8650974263082819.\n",
      "[I 2023-07-03 00:01:41,908] Trial 61 finished with value: 0.8406623038441332 and parameters: {'n_estimators': 184, 'max_depth': 10, 'learning_rate': 0.02053603147848453, 'subsample': 0.5714958410264179, 'colsample_bytree': 0.8807553158587361, 'gamma': 3.0910903165813055, 'min_child_weight': 1}. Best is trial 40 with value: 0.8650974263082819.\n",
      "[I 2023-07-03 00:02:05,111] Trial 62 finished with value: 0.8238567703405668 and parameters: {'n_estimators': 62, 'max_depth': 16, 'learning_rate': 0.016548670572777417, 'subsample': 0.9109300296451781, 'colsample_bytree': 0.8531211135782482, 'gamma': 0.4067439032094988, 'min_child_weight': 1}. Best is trial 40 with value: 0.8650974263082819.\n",
      "[I 2023-07-03 00:02:16,660] Trial 63 finished with value: 0.8364586809799995 and parameters: {'n_estimators': 198, 'max_depth': 10, 'learning_rate': 0.04335779323602019, 'subsample': 0.9063997836287513, 'colsample_bytree': 0.9736242886919293, 'gamma': 4.930005319114354, 'min_child_weight': 4}. Best is trial 40 with value: 0.8650974263082819.\n",
      "[I 2023-07-03 00:02:22,726] Trial 64 finished with value: 0.8443122279475392 and parameters: {'n_estimators': 106, 'max_depth': 6, 'learning_rate': 0.07994322243346931, 'subsample': 0.7792021248679025, 'colsample_bytree': 0.7121110046234882, 'gamma': 4.53177192547368, 'min_child_weight': 1}. Best is trial 40 with value: 0.8650974263082819.\n",
      "[I 2023-07-03 00:02:34,957] Trial 65 finished with value: 0.8522771677635724 and parameters: {'n_estimators': 124, 'max_depth': 5, 'learning_rate': 0.05217945777947137, 'subsample': 0.5281516378409187, 'colsample_bytree': 0.559408958134036, 'gamma': 0.5876312338855244, 'min_child_weight': 4}. Best is trial 40 with value: 0.8650974263082819.\n",
      "[I 2023-07-03 00:02:40,792] Trial 66 finished with value: 0.8443955787618203 and parameters: {'n_estimators': 162, 'max_depth': 14, 'learning_rate': 0.09659552936270878, 'subsample': 0.6874352897618521, 'colsample_bytree': 0.6428560431409304, 'gamma': 4.342995640947302, 'min_child_weight': 2}. Best is trial 40 with value: 0.8650974263082819.\n",
      "[I 2023-07-03 00:02:48,936] Trial 67 finished with value: 0.847964842028726 and parameters: {'n_estimators': 195, 'max_depth': 5, 'learning_rate': 0.09728909440368752, 'subsample': 0.5215799559752881, 'colsample_bytree': 0.9455715568490355, 'gamma': 2.6385055454314994, 'min_child_weight': 5}. Best is trial 40 with value: 0.8650974263082819.\n",
      "[I 2023-07-03 00:02:53,738] Trial 68 finished with value: 0.8445291228927813 and parameters: {'n_estimators': 61, 'max_depth': 13, 'learning_rate': 0.09723722820571891, 'subsample': 0.7615489220850744, 'colsample_bytree': 0.8146993190676313, 'gamma': 3.4787434449230856, 'min_child_weight': 3}. Best is trial 40 with value: 0.8650974263082819.\n",
      "[I 2023-07-03 00:02:58,535] Trial 69 finished with value: 0.8443547050918768 and parameters: {'n_estimators': 144, 'max_depth': 14, 'learning_rate': 0.09110422094418902, 'subsample': 0.522723190170729, 'colsample_bytree': 0.6404815947961151, 'gamma': 4.752057420382794, 'min_child_weight': 5}. Best is trial 40 with value: 0.8650974263082819.\n",
      "[I 2023-07-03 00:03:12,014] Trial 70 finished with value: 0.8458238206018232 and parameters: {'n_estimators': 118, 'max_depth': 14, 'learning_rate': 0.034964306468301946, 'subsample': 0.5940605798618807, 'colsample_bytree': 0.7318492024699911, 'gamma': 1.766761140130264, 'min_child_weight': 3}. Best is trial 40 with value: 0.8650974263082819.\n",
      "[I 2023-07-03 00:03:18,715] Trial 71 finished with value: 0.8533848265495332 and parameters: {'n_estimators': 61, 'max_depth': 20, 'learning_rate': 0.09875896700316426, 'subsample': 0.8490808570098726, 'colsample_bytree': 0.7680481831720603, 'gamma': 1.5476380814316388, 'min_child_weight': 5}. Best is trial 40 with value: 0.8650974263082819.\n"
     ]
    },
    {
     "name": "stderr",
     "output_type": "stream",
     "text": [
      "[I 2023-07-03 00:03:26,534] Trial 72 finished with value: 0.8417170089843067 and parameters: {'n_estimators': 153, 'max_depth': 7, 'learning_rate': 0.09198344660444582, 'subsample': 0.9112686214615845, 'colsample_bytree': 0.974899956645962, 'gamma': 3.6285975419418, 'min_child_weight': 4}. Best is trial 40 with value: 0.8650974263082819.\n",
      "[I 2023-07-03 00:03:33,121] Trial 73 finished with value: 0.8546380750244144 and parameters: {'n_estimators': 113, 'max_depth': 19, 'learning_rate': 0.08794575005503676, 'subsample': 0.5226093350530947, 'colsample_bytree': 0.5131834872486261, 'gamma': 1.8823168343902479, 'min_child_weight': 5}. Best is trial 40 with value: 0.8650974263082819.\n",
      "[I 2023-07-03 00:03:42,421] Trial 74 finished with value: 0.8455433391655184 and parameters: {'n_estimators': 199, 'max_depth': 7, 'learning_rate': 0.06347176438169216, 'subsample': 0.6904454283155108, 'colsample_bytree': 0.9849571989073016, 'gamma': 4.210594615678543, 'min_child_weight': 5}. Best is trial 40 with value: 0.8650974263082819.\n",
      "[I 2023-07-03 00:03:51,486] Trial 75 finished with value: 0.8395150545188799 and parameters: {'n_estimators': 120, 'max_depth': 11, 'learning_rate': 0.034606636473763566, 'subsample': 0.5281877483254636, 'colsample_bytree': 0.9323611881275267, 'gamma': 4.064505045650388, 'min_child_weight': 5}. Best is trial 40 with value: 0.8650974263082819.\n",
      "[I 2023-07-03 00:04:05,218] Trial 76 finished with value: 0.8494691526092761 and parameters: {'n_estimators': 200, 'max_depth': 13, 'learning_rate': 0.07920886736624595, 'subsample': 0.9723828649412141, 'colsample_bytree': 0.9248236953387057, 'gamma': 1.2367405087159882, 'min_child_weight': 3}. Best is trial 40 with value: 0.8650974263082819.\n",
      "[I 2023-07-03 00:04:11,862] Trial 77 finished with value: 0.8442765241927799 and parameters: {'n_estimators': 69, 'max_depth': 20, 'learning_rate': 0.06455571710057921, 'subsample': 0.6143214027517314, 'colsample_bytree': 0.8358503422029284, 'gamma': 3.090641202289479, 'min_child_weight': 2}. Best is trial 40 with value: 0.8650974263082819.\n",
      "[I 2023-07-03 00:04:17,607] Trial 78 finished with value: 0.8430572651123505 and parameters: {'n_estimators': 67, 'max_depth': 15, 'learning_rate': 0.056827693081341404, 'subsample': 0.8861591958678197, 'colsample_bytree': 0.7600817505559967, 'gamma': 4.2609075015927, 'min_child_weight': 3}. Best is trial 40 with value: 0.8650974263082819.\n",
      "[I 2023-07-03 00:04:25,124] Trial 79 finished with value: 0.849626941358194 and parameters: {'n_estimators': 134, 'max_depth': 19, 'learning_rate': 0.04631345795911574, 'subsample': 0.5670076142253204, 'colsample_bytree': 0.5143913381566695, 'gamma': 3.775686278368095, 'min_child_weight': 4}. Best is trial 40 with value: 0.8650974263082819.\n",
      "[I 2023-07-03 00:04:39,375] Trial 80 finished with value: 0.8432441485819814 and parameters: {'n_estimators': 156, 'max_depth': 8, 'learning_rate': 0.02227343280280928, 'subsample': 0.507272332833941, 'colsample_bytree': 0.6752937794032985, 'gamma': 2.9495884342731653, 'min_child_weight': 2}. Best is trial 40 with value: 0.8650974263082819.\n",
      "[I 2023-07-03 00:04:52,729] Trial 81 finished with value: 0.849637972364412 and parameters: {'n_estimators': 116, 'max_depth': 19, 'learning_rate': 0.041342992032097035, 'subsample': 0.7569947445799055, 'colsample_bytree': 0.8918265063705715, 'gamma': 1.9827139116063508, 'min_child_weight': 4}. Best is trial 40 with value: 0.8650974263082819.\n",
      "[I 2023-07-03 00:05:20,530] Trial 82 finished with value: 0.8522147043663321 and parameters: {'n_estimators': 180, 'max_depth': 20, 'learning_rate': 0.023236613283613414, 'subsample': 0.9632938125807472, 'colsample_bytree': 0.7460581465397691, 'gamma': 1.2912219414947916, 'min_child_weight': 3}. Best is trial 40 with value: 0.8650974263082819.\n",
      "[I 2023-07-03 00:05:52,501] Trial 83 finished with value: 0.8624447216448707 and parameters: {'n_estimators': 197, 'max_depth': 12, 'learning_rate': 0.03958764492587574, 'subsample': 0.8167004271583629, 'colsample_bytree': 0.6200728093890966, 'gamma': 0.3793166405433196, 'min_child_weight': 1}. Best is trial 40 with value: 0.8650974263082819.\n",
      "[I 2023-07-03 00:06:02,013] Trial 84 finished with value: 0.8390814908910873 and parameters: {'n_estimators': 69, 'max_depth': 7, 'learning_rate': 0.022494445538446914, 'subsample': 0.8204373724016073, 'colsample_bytree': 0.5909400421995724, 'gamma': 1.728336416619316, 'min_child_weight': 5}. Best is trial 40 with value: 0.8650974263082819.\n",
      "[I 2023-07-03 00:06:21,013] Trial 85 finished with value: 0.849593848095936 and parameters: {'n_estimators': 121, 'max_depth': 15, 'learning_rate': 0.025508788408146688, 'subsample': 0.5961445094043354, 'colsample_bytree': 0.5204343081332394, 'gamma': 0.8446753153608227, 'min_child_weight': 2}. Best is trial 40 with value: 0.8650974263082819.\n",
      "[I 2023-07-03 00:06:31,336] Trial 86 finished with value: 0.8339179396097789 and parameters: {'n_estimators': 76, 'max_depth': 6, 'learning_rate': 0.020857228399054073, 'subsample': 0.7303893840163629, 'colsample_bytree': 0.6031668592028963, 'gamma': 1.8213493052403773, 'min_child_weight': 3}. Best is trial 40 with value: 0.8650974263082819.\n",
      "[I 2023-07-03 00:06:37,326] Trial 87 finished with value: 0.8444351238676923 and parameters: {'n_estimators': 154, 'max_depth': 5, 'learning_rate': 0.08194693590181384, 'subsample': 0.8139501947454539, 'colsample_bytree': 0.540879515974436, 'gamma': 4.3678931205338865, 'min_child_weight': 5}. Best is trial 40 with value: 0.8650974263082819.\n",
      "[I 2023-07-03 00:06:46,127] Trial 88 finished with value: 0.8519828483987943 and parameters: {'n_estimators': 59, 'max_depth': 9, 'learning_rate': 0.08255811518137553, 'subsample': 0.8741298451918291, 'colsample_bytree': 0.5922605096781887, 'gamma': 1.0467466166835515, 'min_child_weight': 2}. Best is trial 40 with value: 0.8650974263082819.\n",
      "[I 2023-07-03 00:07:11,839] Trial 89 finished with value: 0.8624438160257109 and parameters: {'n_estimators': 123, 'max_depth': 14, 'learning_rate': 0.043202227561279526, 'subsample': 0.731267358066574, 'colsample_bytree': 0.8737354690668783, 'gamma': 0.1834160144529895, 'min_child_weight': 2}. Best is trial 40 with value: 0.8650974263082819.\n",
      "[I 2023-07-03 00:07:22,664] Trial 90 finished with value: 0.8547692699526822 and parameters: {'n_estimators': 157, 'max_depth': 19, 'learning_rate': 0.05605096979040996, 'subsample': 0.7660567426326579, 'colsample_bytree': 0.553586005669888, 'gamma': 2.237061834117273, 'min_child_weight': 3}. Best is trial 40 with value: 0.8650974263082819.\n",
      "[I 2023-07-03 00:07:34,893] Trial 91 finished with value: 0.8508399045545915 and parameters: {'n_estimators': 86, 'max_depth': 9, 'learning_rate': 0.04395557467941604, 'subsample': 0.5100355988888632, 'colsample_bytree': 0.6610395827915891, 'gamma': 1.0572400349827231, 'min_child_weight': 2}. Best is trial 40 with value: 0.8650974263082819.\n",
      "[I 2023-07-03 00:07:43,601] Trial 92 finished with value: 0.8328534927755709 and parameters: {'n_estimators': 68, 'max_depth': 19, 'learning_rate': 0.06342332081986439, 'subsample': 0.8395511595722448, 'colsample_bytree': 0.8945856193036692, 'gamma': 2.492210994645286, 'min_child_weight': 1}. Best is trial 40 with value: 0.8650974263082819.\n",
      "[I 2023-07-03 00:07:53,810] Trial 93 finished with value: 0.8547820178088339 and parameters: {'n_estimators': 131, 'max_depth': 14, 'learning_rate': 0.0770895526765897, 'subsample': 0.7158297731148398, 'colsample_bytree': 0.5637901513977819, 'gamma': 1.4188795289936222, 'min_child_weight': 2}. Best is trial 40 with value: 0.8650974263082819.\n",
      "[I 2023-07-03 00:08:13,171] Trial 94 finished with value: 0.8520614552538376 and parameters: {'n_estimators': 147, 'max_depth': 14, 'learning_rate': 0.042048705330806166, 'subsample': 0.9932576243964899, 'colsample_bytree': 0.8028874096784435, 'gamma': 1.1861339586799724, 'min_child_weight': 1}. Best is trial 40 with value: 0.8650974263082819.\n",
      "[I 2023-07-03 00:08:22,586] Trial 95 finished with value: 0.8366675508908006 and parameters: {'n_estimators': 73, 'max_depth': 8, 'learning_rate': 0.024461323593360014, 'subsample': 0.5932835120256529, 'colsample_bytree': 0.6425475843469235, 'gamma': 0.8668679764737741, 'min_child_weight': 5}. Best is trial 40 with value: 0.8650974263082819.\n"
     ]
    },
    {
     "name": "stderr",
     "output_type": "stream",
     "text": [
      "[I 2023-07-03 00:08:30,926] Trial 96 finished with value: 0.8571464514185507 and parameters: {'n_estimators': 62, 'max_depth': 13, 'learning_rate': 0.04693571442906954, 'subsample': 0.9911893084543032, 'colsample_bytree': 0.5560194510840262, 'gamma': 1.9892779952287083, 'min_child_weight': 5}. Best is trial 40 with value: 0.8650974263082819.\n",
      "[I 2023-07-03 00:08:41,902] Trial 97 finished with value: 0.8457247183903986 and parameters: {'n_estimators': 180, 'max_depth': 18, 'learning_rate': 0.03321125443404459, 'subsample': 0.585443793695033, 'colsample_bytree': 0.8343216099622155, 'gamma': 4.646879945637929, 'min_child_weight': 3}. Best is trial 40 with value: 0.8650974263082819.\n",
      "[I 2023-07-03 00:08:50,094] Trial 98 finished with value: 0.8496280762051972 and parameters: {'n_estimators': 136, 'max_depth': 9, 'learning_rate': 0.07925436398727433, 'subsample': 0.5935218742787617, 'colsample_bytree': 0.6618396182021218, 'gamma': 2.127182193082084, 'min_child_weight': 3}. Best is trial 40 with value: 0.8650974263082819.\n",
      "[I 2023-07-03 00:09:01,343] Trial 99 finished with value: 0.8532587391935413 and parameters: {'n_estimators': 86, 'max_depth': 6, 'learning_rate': 0.06495580381974694, 'subsample': 0.6443152766201279, 'colsample_bytree': 0.7906191107113061, 'gamma': 0.7718135763710116, 'min_child_weight': 3}. Best is trial 40 with value: 0.8650974263082819.\n"
     ]
    }
   ],
   "source": [
    "# Define the Optuna study\n",
    "study = optuna.create_study(direction='maximize', sampler=RandomSampler(seed=42))\n",
    "study.optimize(objective_XG, n_trials=100)"
   ]
  },
  {
   "cell_type": "code",
   "execution_count": 85,
   "metadata": {
    "id": "OTNjgxycEcom"
   },
   "outputs": [],
   "source": [
    "# Get the best hyperparameters from Optuna\n",
    "best_params = study.best_params"
   ]
  },
  {
   "cell_type": "code",
   "execution_count": 86,
   "metadata": {
    "colab": {
     "base_uri": "https://localhost:8080/"
    },
    "id": "NV-BZzDRgbh6",
    "outputId": "454b83d4-fc46-4532-ad4e-b68c84d5b5a2"
   },
   "outputs": [
    {
     "data": {
      "text/plain": [
       "{'n_estimators': 184,\n",
       " 'max_depth': 10,\n",
       " 'learning_rate': 0.04380246573759497,\n",
       " 'subsample': 0.5469909699204345,\n",
       " 'colsample_bytree': 0.789140070498087,\n",
       " 'gamma': 0.17971136898371043,\n",
       " 'min_child_weight': 3}"
      ]
     },
     "execution_count": 86,
     "metadata": {},
     "output_type": "execute_result"
    }
   ],
   "source": [
    "best_params"
   ]
  },
  {
   "cell_type": "code",
   "execution_count": 87,
   "metadata": {
    "colab": {
     "base_uri": "https://localhost:8080/"
    },
    "id": "MsXpEp5CEcon",
    "outputId": "2d91997f-70b9-4b83-8d0f-d670fc59b111"
   },
   "outputs": [],
   "source": [
    "#best_params"
   ]
  },
  {
   "cell_type": "code",
   "execution_count": 88,
   "metadata": {
    "colab": {
     "base_uri": "https://localhost:8080/"
    },
    "id": "Pu9VDZG7Econ",
    "outputId": "adc38ac7-f00d-492a-a3fa-cf20fe459bca"
   },
   "outputs": [
    {
     "data": {
      "text/plain": [
       "array([ True, False,  True, ..., False, False, False])"
      ]
     },
     "execution_count": 88,
     "metadata": {},
     "output_type": "execute_result"
    }
   ],
   "source": [
    "best_features"
   ]
  },
  {
   "cell_type": "code",
   "execution_count": 89,
   "metadata": {},
   "outputs": [
    {
     "data": {
      "text/plain": [
       "1500"
      ]
     },
     "execution_count": 89,
     "metadata": {},
     "output_type": "execute_result"
    }
   ],
   "source": [
    "len(best_features)"
   ]
  },
  {
   "attachments": {},
   "cell_type": "markdown",
   "metadata": {
    "id": "HAhms8uREcon"
   },
   "source": [
    "#### Get best parameters and make predictions"
   ]
  },
  {
   "cell_type": "code",
   "execution_count": 90,
   "metadata": {
    "id": "t54B-N7BEcoo"
   },
   "outputs": [],
   "source": [
    "selected_features_indices = [i for i, value in enumerate(best_features) if value]\n",
    "X_test_selected = X_test[:, selected_features_indices]"
   ]
  },
  {
   "cell_type": "code",
   "execution_count": 91,
   "metadata": {
    "id": "7Wf6auGpEcoo"
   },
   "outputs": [],
   "source": [
    "X_train_val_selected_final_features = X_train_val[:, selected_features_indices]"
   ]
  },
  {
   "cell_type": "code",
   "execution_count": 92,
   "metadata": {
    "colab": {
     "base_uri": "https://localhost:8080/"
    },
    "id": "6-IRamTREcoo",
    "outputId": "774899b5-6106-4e73-bdcc-0e0e4532bc49"
   },
   "outputs": [
    {
     "data": {
      "text/plain": [
       "(286, 300)"
      ]
     },
     "execution_count": 92,
     "metadata": {},
     "output_type": "execute_result"
    }
   ],
   "source": [
    "X_test_selected.shape"
   ]
  },
  {
   "cell_type": "code",
   "execution_count": 93,
   "metadata": {
    "id": "RXSKzaPHEcoo"
   },
   "outputs": [],
   "source": [
    "#best_classifier_XG = XGBClassifier(eta=0.9998923071077181,gamma=0.48062735928448386,min_child_weight=0.9165527129072861,max_delta_step=9,subsample=0.9036565255711814)\n",
    "best_classifier_XG = XGBClassifier(**best_params)"
   ]
  },
  {
   "cell_type": "code",
   "execution_count": 94,
   "metadata": {
    "colab": {
     "base_uri": "https://localhost:8080/",
     "height": 251
    },
    "id": "aeeBy4miczxh",
    "outputId": "b6976270-d461-4b8b-f585-e14ec6f5b508"
   },
   "outputs": [
    {
     "data": {
      "text/html": [
       "<style>#sk-container-id-3 {color: black;}#sk-container-id-3 pre{padding: 0;}#sk-container-id-3 div.sk-toggleable {background-color: white;}#sk-container-id-3 label.sk-toggleable__label {cursor: pointer;display: block;width: 100%;margin-bottom: 0;padding: 0.3em;box-sizing: border-box;text-align: center;}#sk-container-id-3 label.sk-toggleable__label-arrow:before {content: \"▸\";float: left;margin-right: 0.25em;color: #696969;}#sk-container-id-3 label.sk-toggleable__label-arrow:hover:before {color: black;}#sk-container-id-3 div.sk-estimator:hover label.sk-toggleable__label-arrow:before {color: black;}#sk-container-id-3 div.sk-toggleable__content {max-height: 0;max-width: 0;overflow: hidden;text-align: left;background-color: #f0f8ff;}#sk-container-id-3 div.sk-toggleable__content pre {margin: 0.2em;color: black;border-radius: 0.25em;background-color: #f0f8ff;}#sk-container-id-3 input.sk-toggleable__control:checked~div.sk-toggleable__content {max-height: 200px;max-width: 100%;overflow: auto;}#sk-container-id-3 input.sk-toggleable__control:checked~label.sk-toggleable__label-arrow:before {content: \"▾\";}#sk-container-id-3 div.sk-estimator input.sk-toggleable__control:checked~label.sk-toggleable__label {background-color: #d4ebff;}#sk-container-id-3 div.sk-label input.sk-toggleable__control:checked~label.sk-toggleable__label {background-color: #d4ebff;}#sk-container-id-3 input.sk-hidden--visually {border: 0;clip: rect(1px 1px 1px 1px);clip: rect(1px, 1px, 1px, 1px);height: 1px;margin: -1px;overflow: hidden;padding: 0;position: absolute;width: 1px;}#sk-container-id-3 div.sk-estimator {font-family: monospace;background-color: #f0f8ff;border: 1px dotted black;border-radius: 0.25em;box-sizing: border-box;margin-bottom: 0.5em;}#sk-container-id-3 div.sk-estimator:hover {background-color: #d4ebff;}#sk-container-id-3 div.sk-parallel-item::after {content: \"\";width: 100%;border-bottom: 1px solid gray;flex-grow: 1;}#sk-container-id-3 div.sk-label:hover label.sk-toggleable__label {background-color: #d4ebff;}#sk-container-id-3 div.sk-serial::before {content: \"\";position: absolute;border-left: 1px solid gray;box-sizing: border-box;top: 0;bottom: 0;left: 50%;z-index: 0;}#sk-container-id-3 div.sk-serial {display: flex;flex-direction: column;align-items: center;background-color: white;padding-right: 0.2em;padding-left: 0.2em;position: relative;}#sk-container-id-3 div.sk-item {position: relative;z-index: 1;}#sk-container-id-3 div.sk-parallel {display: flex;align-items: stretch;justify-content: center;background-color: white;position: relative;}#sk-container-id-3 div.sk-item::before, #sk-container-id-3 div.sk-parallel-item::before {content: \"\";position: absolute;border-left: 1px solid gray;box-sizing: border-box;top: 0;bottom: 0;left: 50%;z-index: -1;}#sk-container-id-3 div.sk-parallel-item {display: flex;flex-direction: column;z-index: 1;position: relative;background-color: white;}#sk-container-id-3 div.sk-parallel-item:first-child::after {align-self: flex-end;width: 50%;}#sk-container-id-3 div.sk-parallel-item:last-child::after {align-self: flex-start;width: 50%;}#sk-container-id-3 div.sk-parallel-item:only-child::after {width: 0;}#sk-container-id-3 div.sk-dashed-wrapped {border: 1px dashed gray;margin: 0 0.4em 0.5em 0.4em;box-sizing: border-box;padding-bottom: 0.4em;background-color: white;}#sk-container-id-3 div.sk-label label {font-family: monospace;font-weight: bold;display: inline-block;line-height: 1.2em;}#sk-container-id-3 div.sk-label-container {text-align: center;}#sk-container-id-3 div.sk-container {/* jupyter's `normalize.less` sets `[hidden] { display: none; }` but bootstrap.min.css set `[hidden] { display: none !important; }` so we also need the `!important` here to be able to override the default hidden behavior on the sphinx rendered scikit-learn.org. See: https://github.com/scikit-learn/scikit-learn/issues/21755 */display: inline-block !important;position: relative;}#sk-container-id-3 div.sk-text-repr-fallback {display: none;}</style><div id=\"sk-container-id-3\" class=\"sk-top-container\"><div class=\"sk-text-repr-fallback\"><pre>XGBClassifier(base_score=None, booster=None, callbacks=None,\n",
       "              colsample_bylevel=None, colsample_bynode=None,\n",
       "              colsample_bytree=0.789140070498087, early_stopping_rounds=None,\n",
       "              enable_categorical=False, eval_metric=None, feature_types=None,\n",
       "              gamma=0.17971136898371043, gpu_id=None, grow_policy=None,\n",
       "              importance_type=None, interaction_constraints=None,\n",
       "              learning_rate=0.04380246573759497, max_bin=None,\n",
       "              max_cat_threshold=None, max_cat_to_onehot=None,\n",
       "              max_delta_step=None, max_depth=10, max_leaves=None,\n",
       "              min_child_weight=3, missing=nan, monotone_constraints=None,\n",
       "              n_estimators=184, n_jobs=None, num_parallel_tree=None,\n",
       "              objective=&#x27;multi:softprob&#x27;, predictor=None, ...)</pre><b>In a Jupyter environment, please rerun this cell to show the HTML representation or trust the notebook. <br />On GitHub, the HTML representation is unable to render, please try loading this page with nbviewer.org.</b></div><div class=\"sk-container\" hidden><div class=\"sk-item\"><div class=\"sk-estimator sk-toggleable\"><input class=\"sk-toggleable__control sk-hidden--visually\" id=\"sk-estimator-id-3\" type=\"checkbox\" checked><label for=\"sk-estimator-id-3\" class=\"sk-toggleable__label sk-toggleable__label-arrow\">XGBClassifier</label><div class=\"sk-toggleable__content\"><pre>XGBClassifier(base_score=None, booster=None, callbacks=None,\n",
       "              colsample_bylevel=None, colsample_bynode=None,\n",
       "              colsample_bytree=0.789140070498087, early_stopping_rounds=None,\n",
       "              enable_categorical=False, eval_metric=None, feature_types=None,\n",
       "              gamma=0.17971136898371043, gpu_id=None, grow_policy=None,\n",
       "              importance_type=None, interaction_constraints=None,\n",
       "              learning_rate=0.04380246573759497, max_bin=None,\n",
       "              max_cat_threshold=None, max_cat_to_onehot=None,\n",
       "              max_delta_step=None, max_depth=10, max_leaves=None,\n",
       "              min_child_weight=3, missing=nan, monotone_constraints=None,\n",
       "              n_estimators=184, n_jobs=None, num_parallel_tree=None,\n",
       "              objective=&#x27;multi:softprob&#x27;, predictor=None, ...)</pre></div></div></div></div></div>"
      ],
      "text/plain": [
       "XGBClassifier(base_score=None, booster=None, callbacks=None,\n",
       "              colsample_bylevel=None, colsample_bynode=None,\n",
       "              colsample_bytree=0.789140070498087, early_stopping_rounds=None,\n",
       "              enable_categorical=False, eval_metric=None, feature_types=None,\n",
       "              gamma=0.17971136898371043, gpu_id=None, grow_policy=None,\n",
       "              importance_type=None, interaction_constraints=None,\n",
       "              learning_rate=0.04380246573759497, max_bin=None,\n",
       "              max_cat_threshold=None, max_cat_to_onehot=None,\n",
       "              max_delta_step=None, max_depth=10, max_leaves=None,\n",
       "              min_child_weight=3, missing=nan, monotone_constraints=None,\n",
       "              n_estimators=184, n_jobs=None, num_parallel_tree=None,\n",
       "              objective='multi:softprob', predictor=None, ...)"
      ]
     },
     "execution_count": 94,
     "metadata": {},
     "output_type": "execute_result"
    }
   ],
   "source": [
    "best_classifier_XG.fit(X_train_val_selected_final_features, y_train_val)"
   ]
  },
  {
   "cell_type": "code",
   "execution_count": 95,
   "metadata": {
    "id": "vgLQd1HNEcop"
   },
   "outputs": [],
   "source": [
    "y_test_pred = best_classifier_XG.predict(X_test_selected)"
   ]
  },
  {
   "cell_type": "code",
   "execution_count": 96,
   "metadata": {
    "id": "9IaHkEmzEcop"
   },
   "outputs": [],
   "source": [
    "#Validate the model  using balanced_acc, precision,recall and f1\n",
    "balanced_acc_XGB = balanced_accuracy_score(y_test, y_test_pred)\n",
    "precision_XGB = precision_score(y_test, y_test_pred,average='weighted')\n",
    "recall_XGB = recall_score(y_test, y_test_pred,average='weighted')\n",
    "f1_XGB = f1_score(y_test, y_test_pred,average='weighted')"
   ]
  },
  {
   "cell_type": "code",
   "execution_count": 97,
   "metadata": {
    "colab": {
     "base_uri": "https://localhost:8080/"
    },
    "id": "B8byhC7pEcop",
    "outputId": "aab809ea-285e-4af8-dee9-ff513803cc8d"
   },
   "outputs": [
    {
     "data": {
      "text/plain": [
       "0.9058870638096468"
      ]
     },
     "execution_count": 97,
     "metadata": {},
     "output_type": "execute_result"
    }
   ],
   "source": [
    "balanced_acc_XGB"
   ]
  },
  {
   "cell_type": "code",
   "execution_count": 98,
   "metadata": {
    "colab": {
     "base_uri": "https://localhost:8080/"
    },
    "id": "4WLcJlzwEcoq",
    "outputId": "b627a92a-5635-41a6-b7df-72eb3723ca1e"
   },
   "outputs": [
    {
     "data": {
      "text/plain": [
       "0.9162027446434721"
      ]
     },
     "execution_count": 98,
     "metadata": {},
     "output_type": "execute_result"
    }
   ],
   "source": [
    "precision_XGB"
   ]
  },
  {
   "cell_type": "code",
   "execution_count": 99,
   "metadata": {
    "colab": {
     "base_uri": "https://localhost:8080/"
    },
    "id": "9ueSZ8ePEcoq",
    "outputId": "c2598a2e-802c-4b35-fdfe-e50652bda816"
   },
   "outputs": [
    {
     "data": {
      "text/plain": [
       "0.916083916083916"
      ]
     },
     "execution_count": 99,
     "metadata": {},
     "output_type": "execute_result"
    }
   ],
   "source": [
    "recall_XGB"
   ]
  },
  {
   "cell_type": "code",
   "execution_count": 100,
   "metadata": {
    "colab": {
     "base_uri": "https://localhost:8080/"
    },
    "id": "86qVGhgNEcoq",
    "outputId": "b17693be-d27d-4f07-95c5-fd35c876e514"
   },
   "outputs": [
    {
     "data": {
      "text/plain": [
       "0.9154890379595907"
      ]
     },
     "execution_count": 100,
     "metadata": {},
     "output_type": "execute_result"
    }
   ],
   "source": [
    "f1_XGB"
   ]
  },
  {
   "cell_type": "code",
   "execution_count": 101,
   "metadata": {
    "colab": {
     "base_uri": "https://localhost:8080/"
    },
    "id": "PmXVIK_ZEcor",
    "outputId": "7f1d134a-a2cd-40a0-d042-bc50bfe37a24"
   },
   "outputs": [
    {
     "data": {
      "text/plain": [
       "array([0, 0, 1, 0, 0, 0, 0, 0, 1, 0, 3, 2, 2, 1, 1, 3, 3, 1, 2, 3, 3, 0,\n",
       "       0, 0, 3, 0, 1, 2, 0, 0, 3, 3, 1, 0, 0, 0, 3, 3, 2, 1, 3, 0, 3, 3,\n",
       "       0, 2, 3, 0, 0, 2, 2, 0, 2, 0, 0, 0, 3, 1, 0, 2, 0, 1, 2, 0, 0, 2,\n",
       "       2, 2, 0, 0, 1, 0, 1, 3, 0, 0, 2, 2, 0, 1, 2, 1, 0, 0, 1, 3, 3, 1,\n",
       "       2, 0, 1, 0, 3, 2, 0, 1, 0, 2, 3, 2, 1, 3, 0, 2, 0, 1, 3, 2, 1, 0,\n",
       "       0, 2, 2, 3, 0, 0, 2, 1, 2, 0, 1, 1, 0, 3, 1, 1, 2, 2, 3, 3, 0, 0,\n",
       "       3, 0, 0, 0, 0, 3, 0, 3, 3, 0, 1, 3, 3, 0, 2, 0, 3, 0, 2, 0, 0, 2,\n",
       "       2, 1, 0, 3, 0, 2, 2, 1, 2, 0, 3, 1, 2, 2, 0, 2, 0, 3, 3, 2, 0, 1,\n",
       "       0, 0, 0, 0, 2, 2, 0, 2, 0, 0, 1, 0, 0, 0, 3, 2, 1, 1, 3, 1, 0, 0,\n",
       "       3, 2, 0, 3, 3, 1, 0, 0, 0, 0, 2, 0, 2, 0, 3, 1, 0, 3, 2, 0, 0, 3,\n",
       "       0, 0, 0, 1, 0, 2, 0, 1, 0, 0, 0, 0, 3, 1, 2, 2, 3, 1, 2, 3, 0, 1,\n",
       "       0, 0, 0, 0, 0, 1, 0, 0, 0, 0, 2, 0, 0, 0, 3, 2, 0, 0, 0, 3, 0, 0,\n",
       "       0, 0, 0, 1, 0, 0, 1, 0, 2, 0, 1, 1, 0, 0, 0, 3, 0, 0, 0, 0, 1, 2])"
      ]
     },
     "execution_count": 101,
     "metadata": {},
     "output_type": "execute_result"
    }
   ],
   "source": [
    "y_test_pred"
   ]
  },
  {
   "cell_type": "code",
   "execution_count": 102,
   "metadata": {
    "colab": {
     "base_uri": "https://localhost:8080/"
    },
    "id": "LPNnnQptEcor",
    "outputId": "40cf3126-f57b-4d60-a4be-e4408ca5fd61"
   },
   "outputs": [
    {
     "data": {
      "text/plain": [
       "array([0, 0, 1, 2, 0, 0, 0, 0, 1, 0, 0, 2, 2, 1, 1, 3, 3, 1, 2, 3, 3, 0,\n",
       "       0, 0, 3, 0, 1, 2, 0, 0, 3, 3, 2, 0, 0, 0, 1, 3, 2, 1, 3, 0, 3, 3,\n",
       "       0, 2, 3, 1, 2, 2, 2, 0, 2, 0, 0, 0, 0, 1, 0, 2, 0, 1, 2, 0, 0, 2,\n",
       "       2, 2, 0, 0, 1, 0, 1, 3, 0, 0, 2, 0, 0, 1, 0, 1, 0, 2, 1, 3, 1, 1,\n",
       "       2, 0, 1, 0, 3, 2, 0, 1, 0, 2, 1, 2, 1, 3, 0, 2, 0, 1, 3, 2, 1, 0,\n",
       "       0, 2, 2, 3, 0, 0, 0, 1, 2, 0, 1, 3, 0, 3, 1, 1, 2, 2, 3, 3, 0, 0,\n",
       "       3, 0, 0, 0, 0, 3, 0, 3, 3, 0, 2, 3, 3, 2, 2, 0, 3, 2, 2, 0, 0, 2,\n",
       "       2, 1, 0, 3, 0, 2, 2, 1, 2, 0, 3, 1, 2, 2, 0, 2, 0, 3, 3, 2, 0, 1,\n",
       "       0, 1, 0, 0, 2, 2, 0, 2, 0, 0, 1, 0, 0, 0, 3, 2, 1, 2, 3, 1, 0, 0,\n",
       "       3, 2, 0, 3, 3, 1, 0, 2, 0, 0, 2, 0, 2, 0, 3, 1, 0, 3, 2, 3, 0, 3,\n",
       "       0, 0, 0, 1, 0, 2, 0, 1, 0, 0, 0, 0, 3, 1, 2, 1, 3, 1, 2, 3, 0, 1,\n",
       "       1, 0, 0, 0, 0, 1, 0, 0, 0, 0, 2, 0, 0, 0, 3, 2, 0, 0, 0, 3, 0, 0,\n",
       "       0, 0, 0, 0, 0, 0, 1, 0, 2, 0, 1, 1, 0, 0, 0, 3, 0, 0, 0, 0, 1, 2])"
      ]
     },
     "execution_count": 102,
     "metadata": {},
     "output_type": "execute_result"
    }
   ],
   "source": [
    "y_test"
   ]
  },
  {
   "cell_type": "code",
   "execution_count": 103,
   "metadata": {
    "id": "irYnuVUiE6GX"
   },
   "outputs": [
    {
     "name": "stdout",
     "output_type": "stream",
     "text": [
      "Index(['ENSG00000173212', 'ENSG00000167680', 'ENSG00000148773',\n",
      "       'ENSG00000198513', 'ENSG00000163453', 'ENSG00000140279',\n",
      "       'ENSG00000138061', 'ENSG00000164104', 'ENSG00000066279',\n",
      "       'ENSG00000197563',\n",
      "       ...\n",
      "       'ENSG00000083845', 'ENSG00000122406', 'ENSG00000182481',\n",
      "       'ENSG00000123416', 'ENSG00000173113', 'ENSG00000280858',\n",
      "       'ENSG00000149591', 'ENSG00000166441', 'ENSG00000101335',\n",
      "       'ENSG00000188229'],\n",
      "      dtype='object', length=300)\n",
      "Index(['ENSG00000173212', 'ENSG00000167680', 'ENSG00000148773',\n",
      "       'ENSG00000198513', 'ENSG00000163453', 'ENSG00000140279',\n",
      "       'ENSG00000138061', 'ENSG00000164104', 'ENSG00000066279',\n",
      "       'ENSG00000197563', 'ENSG00000164434', 'ENSG00000153944'],\n",
      "      dtype='object')\n"
     ]
    }
   ],
   "source": [
    "# Get feature importance scores\n",
    "importance = pd.Series(best_classifier_XG.feature_importances_).sort_values(ascending=False)\n",
    "\n",
    "## Print feature importance scores\n",
    "#print(\"Feature Importance:\")\n",
    "#for i, imp in enumerate(importance):\n",
    "#    print(f\"Feature {i}: {imp}\")\n",
    "\n",
    "\n",
    "# Filter the DataFrame using the boolean array\n",
    "data_filtered_features = df_filtered.iloc[:,1:-9].loc[:, best_features]\n",
    "\n",
    "# Print the filtered DataFrame\n",
    "data_filtered_features\n",
    "\n",
    "# Get the column names corresponding to the series indices\n",
    "column_names_XG = data_filtered_features.columns[importance.index]\n",
    "\n",
    "# Print the column names\n",
    "print(column_names_XG)\n",
    "\n",
    "# Get the column names corresponding to the series indices above the threshold\n",
    "filtered_column_names_XG = data_filtered_features.columns[importance[importance > 0.01].index]\n",
    "\n",
    "# Print the filtered column names\n",
    "print(filtered_column_names_XG)"
   ]
  },
  {
   "cell_type": "code",
   "execution_count": 104,
   "metadata": {},
   "outputs": [
    {
     "data": {
      "text/plain": [
       "(12,)"
      ]
     },
     "execution_count": 104,
     "metadata": {},
     "output_type": "execute_result"
    }
   ],
   "source": [
    "np.shape(filtered_column_names_XG)"
   ]
  },
  {
   "attachments": {},
   "cell_type": "markdown",
   "metadata": {
    "id": "lrSZxB1Eixd9"
   },
   "source": [
    "## Logistic Regression"
   ]
  },
  {
   "attachments": {},
   "cell_type": "markdown",
   "metadata": {
    "id": "rFmYjhkui0Lz"
   },
   "source": [
    "#### Cross val for hyperparameter tunning and feature selection"
   ]
  },
  {
   "cell_type": "code",
   "execution_count": 105,
   "metadata": {
    "id": "v9BA4QJEi0Lz"
   },
   "outputs": [],
   "source": [
    "# Define the number of folds for cross-validation\n",
    "n_folds = 5"
   ]
  },
  {
   "cell_type": "code",
   "execution_count": 106,
   "metadata": {
    "id": "KuUXGkAQi0Lz"
   },
   "outputs": [],
   "source": [
    "# Define the objective function for Optuna hyperparameter tuning\n",
    "def objective_LG(trial):\n",
    "  global best_features\n",
    "  params = {\n",
    "              'tol' : trial.suggest_float('tol' , 1e-6 , 1e-3),\n",
    "              'C' : trial.suggest_float(\"C\", 1e-5, 100),\n",
    "              \"n_jobs\" : -1,\n",
    "              'solver': trial.suggest_categorical('solver', ['newton-cg', 'lbfgs', 'liblinear', 'sag', 'saga']),\n",
    "              \"max_iter\" : 150\n",
    "          }\n",
    "\n",
    "  # Instantiate the classifier with the current hyperparameters\n",
    "  #classifier = XGBClassifier(eta=eta,gamma=gamma ,min_child_weight=min_child_weight,max_delta_step=max_delta_step,subsample=subsample)\n",
    "  classifier = LogisticRegression(**params)\n",
    "\n",
    "  # Perform cross-validation with feature selection\n",
    "  kf = StratifiedKFold(n_splits=n_folds, shuffle=True, random_state=42)\n",
    "  cv_scores = []\n",
    "  feature_selector = SelectKBest(score_func=f_classif, k=300)  # Adjust the number of features as desired\n",
    "  best_features = None\n",
    "\n",
    "  for train_index, val_index in kf.split(X_train_val, y_train_val):\n",
    "      X_train, X_val = X_train_val[train_index], X_train_val[val_index]\n",
    "      y_train, y_val = y_train_val[train_index], y_train_val[val_index]\n",
    "\n",
    "      # Perform feature selection on the training set\n",
    "      X_train_selected = feature_selector.fit_transform(X_train, y_train)\n",
    "      selected_features = feature_selector.get_support()\n",
    "\n",
    "      # Apply the same feature selection on the validation set\n",
    "      X_val_selected = X_val[:, selected_features]\n",
    "\n",
    "      # Fit the classifier on the selected features and evaluate on the validation set\n",
    "      classifier.fit(X_train_selected, y_train)\n",
    "      y_pred = classifier.predict(X_val_selected)\n",
    "      mcc = matthews_corrcoef(y_val, y_pred)\n",
    "      cv_scores.append(mcc)\n",
    "\n",
    "  # Calculate the average MCC\n",
    "  avg_mcc = np.mean(cv_scores)\n",
    "\n",
    "  if trial.should_prune()==False:\n",
    "    best_features = selected_features.copy()\n",
    "\n",
    "  return avg_mcc"
   ]
  },
  {
   "cell_type": "code",
   "execution_count": 107,
   "metadata": {
    "colab": {
     "base_uri": "https://localhost:8080/"
    },
    "id": "Zyhjoitei0L0",
    "outputId": "c14f6cbe-9907-4124-aca7-1d55b319db47"
   },
   "outputs": [
    {
     "name": "stderr",
     "output_type": "stream",
     "text": [
      "[I 2023-07-03 00:09:04,211] A new study created in memory with name: no-name-a4cef711-e636-46a8-a040-9e76c2b8786e\n",
      "[I 2023-07-03 00:09:09,589] Trial 0 finished with value: 0.8006500822092771 and parameters: {'tol': 0.0003751655787285152, 'C': 95.07143113384855, 'solver': 'newton-cg'}. Best is trial 0 with value: 0.8006500822092771.\n",
      "[I 2023-07-03 00:09:11,714] Trial 1 finished with value: 0.7478512664976665 and parameters: {'tol': 0.0008663099696291604, 'C': 60.11150516317076, 'solver': 'liblinear'}. Best is trial 0 with value: 0.8006500822092771.\n",
      "[I 2023-07-03 00:09:16,385] Trial 2 finished with value: 0.8345240278650486 and parameters: {'tol': 0.00018264314223989352, 'C': 18.340459151298283, 'solver': 'saga'}. Best is trial 2 with value: 0.8345240278650486.\n",
      "[I 2023-07-03 00:09:19,018] Trial 3 finished with value: 0.7534050657934289 and parameters: {'tol': 0.0001403543667913898, 'C': 29.21447193207533, 'solver': 'liblinear'}. Best is trial 2 with value: 0.8345240278650486.\n",
      "[I 2023-07-03 00:09:23,660] Trial 4 finished with value: 0.8344274289742224 and parameters: {'tol': 0.0005928221542931806, 'C': 4.645050807495645, 'solver': 'saga'}. Best is trial 2 with value: 0.8345240278650486.\n",
      "[I 2023-07-03 00:09:26,110] Trial 5 finished with value: 0.8055977332311361 and parameters: {'tol': 0.0008085889507683448, 'C': 30.461383871199377, 'solver': 'lbfgs'}. Best is trial 2 with value: 0.8345240278650486.\n",
      "/home/marina/anaconda3/lib/python3.10/site-packages/sklearn/linear_model/_logistic.py:460: ConvergenceWarning: lbfgs failed to converge (status=1):\n",
      "STOP: TOTAL NO. of ITERATIONS REACHED LIMIT.\n",
      "\n",
      "Increase the number of iterations (max_iter) or scale the data as shown in:\n",
      "    https://scikit-learn.org/stable/modules/preprocessing.html\n",
      "Please also refer to the documentation for alternative solver options:\n",
      "    https://scikit-learn.org/stable/modules/linear_model.html#logistic-regression\n",
      "  n_iter_i = _check_optimize_result(\n",
      "/home/marina/anaconda3/lib/python3.10/site-packages/sklearn/linear_model/_logistic.py:460: ConvergenceWarning: lbfgs failed to converge (status=1):\n",
      "STOP: TOTAL NO. of ITERATIONS REACHED LIMIT.\n",
      "\n",
      "Increase the number of iterations (max_iter) or scale the data as shown in:\n",
      "    https://scikit-learn.org/stable/modules/preprocessing.html\n",
      "Please also refer to the documentation for alternative solver options:\n",
      "    https://scikit-learn.org/stable/modules/linear_model.html#logistic-regression\n",
      "  n_iter_i = _check_optimize_result(\n",
      "/home/marina/anaconda3/lib/python3.10/site-packages/sklearn/linear_model/_logistic.py:460: ConvergenceWarning: lbfgs failed to converge (status=1):\n",
      "STOP: TOTAL NO. of ITERATIONS REACHED LIMIT.\n",
      "\n",
      "Increase the number of iterations (max_iter) or scale the data as shown in:\n",
      "    https://scikit-learn.org/stable/modules/preprocessing.html\n",
      "Please also refer to the documentation for alternative solver options:\n",
      "    https://scikit-learn.org/stable/modules/linear_model.html#logistic-regression\n",
      "  n_iter_i = _check_optimize_result(\n",
      "/home/marina/anaconda3/lib/python3.10/site-packages/sklearn/linear_model/_logistic.py:460: ConvergenceWarning: lbfgs failed to converge (status=1):\n",
      "STOP: TOTAL NO. of ITERATIONS REACHED LIMIT.\n",
      "\n",
      "Increase the number of iterations (max_iter) or scale the data as shown in:\n",
      "    https://scikit-learn.org/stable/modules/preprocessing.html\n",
      "Please also refer to the documentation for alternative solver options:\n",
      "    https://scikit-learn.org/stable/modules/linear_model.html#logistic-regression\n",
      "  n_iter_i = _check_optimize_result(\n",
      "[I 2023-07-03 00:09:30,706] Trial 6 finished with value: 0.8018873576249247 and parameters: {'tol': 3.535413259410318e-05, 'C': 90.93204111467419, 'solver': 'lbfgs'}. Best is trial 2 with value: 0.8345240278650486.\n",
      "[I 2023-07-03 00:09:36,488] Trial 7 finished with value: 0.8006500822092771 and parameters: {'tol': 0.00018566960107000154, 'C': 96.95846308060958, 'solver': 'lbfgs'}. Best is trial 2 with value: 0.8345240278650486.\n",
      "[I 2023-07-03 00:09:41,147] Trial 8 finished with value: 0.8331568318930518 and parameters: {'tol': 8.940400954986758e-05, 'C': 19.598294282085895, 'solver': 'saga'}. Best is trial 2 with value: 0.8345240278650486.\n",
      "[I 2023-07-03 00:09:45,797] Trial 9 finished with value: 0.8344274289742224 and parameters: {'tol': 0.00035739657336689574, 'C': 28.093458159392977, 'solver': 'saga'}. Best is trial 2 with value: 0.8345240278650486.\n",
      "[I 2023-07-03 00:09:51,512] Trial 10 finished with value: 0.8055977332311361 and parameters: {'tol': 0.0007724725245273608, 'C': 19.871576166260425, 'solver': 'lbfgs'}. Best is trial 2 with value: 0.8345240278650486.\n",
      "/home/marina/anaconda3/lib/python3.10/site-packages/sklearn/linear_model/_logistic.py:460: ConvergenceWarning: lbfgs failed to converge (status=1):\n",
      "STOP: TOTAL NO. of ITERATIONS REACHED LIMIT.\n",
      "\n",
      "Increase the number of iterations (max_iter) or scale the data as shown in:\n",
      "    https://scikit-learn.org/stable/modules/preprocessing.html\n",
      "Please also refer to the documentation for alternative solver options:\n",
      "    https://scikit-learn.org/stable/modules/linear_model.html#logistic-regression\n",
      "  n_iter_i = _check_optimize_result(\n",
      "/home/marina/anaconda3/lib/python3.10/site-packages/sklearn/linear_model/_logistic.py:460: ConvergenceWarning: lbfgs failed to converge (status=1):\n",
      "STOP: TOTAL NO. of ITERATIONS REACHED LIMIT.\n",
      "\n",
      "Increase the number of iterations (max_iter) or scale the data as shown in:\n",
      "    https://scikit-learn.org/stable/modules/preprocessing.html\n",
      "Please also refer to the documentation for alternative solver options:\n",
      "    https://scikit-learn.org/stable/modules/linear_model.html#logistic-regression\n",
      "  n_iter_i = _check_optimize_result(\n",
      "/home/marina/anaconda3/lib/python3.10/site-packages/sklearn/linear_model/_logistic.py:460: ConvergenceWarning: lbfgs failed to converge (status=1):\n",
      "STOP: TOTAL NO. of ITERATIONS REACHED LIMIT.\n",
      "\n",
      "Increase the number of iterations (max_iter) or scale the data as shown in:\n",
      "    https://scikit-learn.org/stable/modules/preprocessing.html\n",
      "Please also refer to the documentation for alternative solver options:\n",
      "    https://scikit-learn.org/stable/modules/linear_model.html#logistic-regression\n",
      "  n_iter_i = _check_optimize_result(\n",
      "[I 2023-07-03 00:09:57,380] Trial 11 finished with value: 0.8043128620363124 and parameters: {'tol': 7.497060708235628e-05, 'C': 35.846579269769975, 'solver': 'lbfgs'}. Best is trial 2 with value: 0.8345240278650486.\n",
      "[I 2023-07-03 00:09:59,906] Trial 12 finished with value: 0.7545496782344909 and parameters: {'tol': 0.0003116713393939466, 'C': 32.51833895084149, 'solver': 'liblinear'}. Best is trial 2 with value: 0.8345240278650486.\n",
      "[I 2023-07-03 00:10:05,578] Trial 13 finished with value: 0.8018439725847479 and parameters: {'tol': 0.0007135315424357721, 'C': 76.07850725383926, 'solver': 'lbfgs'}. Best is trial 2 with value: 0.8345240278650486.\n",
      "[I 2023-07-03 00:10:10,208] Trial 14 finished with value: 0.8321148113370272 and parameters: {'tol': 2.6393707617351097e-05, 'C': 10.789151620416174, 'solver': 'saga'}. Best is trial 2 with value: 0.8345240278650486.\n",
      "[I 2023-07-03 00:10:11,706] Trial 15 finished with value: 0.8043128620363124 and parameters: {'tol': 0.0002500429369197261, 'C': 41.038298199733745, 'solver': 'newton-cg'}. Best is trial 2 with value: 0.8345240278650486.\n",
      "[I 2023-07-03 00:10:16,330] Trial 16 finished with value: 0.8320898763288529 and parameters: {'tol': 0.0009297679546902306, 'C': 80.8120398752379, 'solver': 'saga'}. Best is trial 2 with value: 0.8345240278650486.\n",
      "[I 2023-07-03 00:10:17,833] Trial 17 finished with value: 0.8006500822092771 and parameters: {'tol': 0.0005398028996737352, 'C': 80.7440174420047, 'solver': 'newton-cg'}. Best is trial 2 with value: 0.8345240278650486.\n",
      "[I 2023-07-03 00:10:23,488] Trial 18 finished with value: 0.8006500822092771 and parameters: {'tol': 0.0008181967511565707, 'C': 86.07305971832851, 'solver': 'lbfgs'}. Best is trial 2 with value: 0.8345240278650486.\n",
      "[I 2023-07-03 00:10:28,114] Trial 19 finished with value: 0.8371289343751988 and parameters: {'tol': 0.0003382775562322244, 'C': 94.29097096215487, 'solver': 'saga'}. Best is trial 19 with value: 0.8371289343751988.\n",
      "[I 2023-07-03 00:10:32,727] Trial 20 finished with value: 0.8332674378958874 and parameters: {'tol': 0.0009624848476471692, 'C': 25.178237064713457, 'solver': 'saga'}. Best is trial 19 with value: 0.8371289343751988.\n"
     ]
    },
    {
     "name": "stderr",
     "output_type": "stream",
     "text": [
      "[I 2023-07-03 00:10:38,504] Trial 21 finished with value: 0.8128478325508055 and parameters: {'tol': 0.0005031763442056327, 'C': 5.147884610211422, 'solver': 'lbfgs'}. Best is trial 19 with value: 0.8371289343751988.\n",
      "[I 2023-07-03 00:10:44,188] Trial 22 finished with value: 0.8055977332311361 and parameters: {'tol': 0.0009856648036564901, 'C': 24.205534730597325, 'solver': 'lbfgs'}. Best is trial 19 with value: 0.8371289343751988.\n",
      "[I 2023-07-03 00:10:46,319] Trial 23 finished with value: 0.7466348618664447 and parameters: {'tol': 0.000632673524762986, 'C': 63.35297474079236, 'solver': 'liblinear'}. Best is trial 19 with value: 0.8371289343751988.\n",
      "[I 2023-07-03 00:10:47,818] Trial 24 finished with value: 0.8018873576249247 and parameters: {'tol': 4.173436641320915e-05, 'C': 59.08929840989475, 'solver': 'newton-cg'}. Best is trial 19 with value: 0.8371289343751988.\n",
      "[I 2023-07-03 00:10:53,615] Trial 25 finished with value: 0.8018873576249247 and parameters: {'tol': 0.00017519206257598648, 'C': 69.09377690086922, 'solver': 'lbfgs'}. Best is trial 19 with value: 0.8371289343751988.\n",
      "[I 2023-07-03 00:10:55,710] Trial 26 finished with value: 0.745358864084173 and parameters: {'tol': 0.0009247689246602843, 'C': 87.73393656470456, 'solver': 'liblinear'}. Best is trial 19 with value: 0.8371289343751988.\n",
      "[I 2023-07-03 00:11:01,540] Trial 27 finished with value: 0.810704815782368 and parameters: {'tol': 0.00024261043860955125, 'C': 9.310285849562243, 'solver': 'lbfgs'}. Best is trial 19 with value: 0.8371289343751988.\n",
      "[I 2023-07-03 00:11:03,013] Trial 28 finished with value: 0.8018873576249247 and parameters: {'tol': 0.0007262297231913692, 'C': 89.71102702415511, 'solver': 'newton-cg'}. Best is trial 19 with value: 0.8371289343751988.\n",
      "[I 2023-07-03 00:11:05,102] Trial 29 finished with value: 0.7478512664976665 and parameters: {'tol': 0.0008986556343385523, 'C': 60.642909901668396, 'solver': 'liblinear'}. Best is trial 19 with value: 0.8371289343751988.\n",
      "[I 2023-07-03 00:11:07,426] Trial 30 finished with value: 0.7480420358569553 and parameters: {'tol': 0.0005491850555772196, 'C': 69.18952285031735, 'solver': 'liblinear'}. Best is trial 19 with value: 0.8371289343751988.\n",
      "[I 2023-07-03 00:11:08,868] Trial 31 finished with value: 0.8018873576249247 and parameters: {'tol': 0.0007467449137129063, 'C': 64.96329340839247, 'solver': 'newton-cg'}. Best is trial 19 with value: 0.8371289343751988.\n",
      "[I 2023-07-03 00:11:10,290] Trial 32 finished with value: 0.8055977332311361 and parameters: {'tol': 0.00026593716531404376, 'C': 24.398971898011922, 'solver': 'newton-cg'}. Best is trial 19 with value: 0.8371289343751988.\n",
      "[I 2023-07-03 00:11:12,671] Trial 33 finished with value: 0.7506992902346432 and parameters: {'tol': 0.000503134456012087, 'C': 57.69039269359707, 'solver': 'liblinear'}. Best is trial 19 with value: 0.8371289343751988.\n",
      "[I 2023-07-03 00:11:18,409] Trial 34 finished with value: 0.8069799837195587 and parameters: {'tol': 0.0006458268236112607, 'C': 17.711076169598098, 'solver': 'lbfgs'}. Best is trial 19 with value: 0.8371289343751988.\n",
      "[I 2023-07-03 00:11:19,715] Trial 35 finished with value: 0.8043431897943675 and parameters: {'tol': 0.0009283902440251377, 'C': 42.81842054988995, 'solver': 'newton-cg'}. Best is trial 19 with value: 0.8371289343751988.\n",
      "[I 2023-07-03 00:11:21,903] Trial 36 finished with value: 0.7532910752146609 and parameters: {'tol': 0.0008512855348453401, 'C': 31.692207346407713, 'solver': 'liblinear'}. Best is trial 19 with value: 0.8371289343751988.\n",
      "[I 2023-07-03 00:11:23,253] Trial 37 finished with value: 0.8018873576249247 and parameters: {'tol': 9.807931727699777e-05, 'C': 61.50072651984471, 'solver': 'newton-cg'}. Best is trial 19 with value: 0.8371289343751988.\n",
      "[I 2023-07-03 00:11:27,888] Trial 38 finished with value: 0.8358552352883443 and parameters: {'tol': 0.0006973187252542728, 'C': 70.24841137387008, 'solver': 'saga'}. Best is trial 19 with value: 0.8371289343751988.\n",
      "[I 2023-07-03 00:11:33,561] Trial 39 finished with value: 0.8030812480003954 and parameters: {'tol': 0.0009133273120039149, 'C': 51.134244772669796, 'solver': 'lbfgs'}. Best is trial 19 with value: 0.8371289343751988.\n",
      "[I 2023-07-03 00:11:35,706] Trial 40 finished with value: 0.752146462773599 and parameters: {'tol': 0.0008901153364757489, 'C': 33.79952230520201, 'solver': 'liblinear'}. Best is trial 19 with value: 0.8371289343751988.\n",
      "[I 2023-07-03 00:11:39,026] Trial 41 finished with value: 0.8268101748870276 and parameters: {'tol': 0.0005431019900728691, 'C': 28.654132347415917, 'solver': 'sag'}. Best is trial 19 with value: 0.8371289343751988.\n",
      "[I 2023-07-03 00:11:40,495] Trial 42 finished with value: 0.8031093292783635 and parameters: {'tol': 0.0001279334521392329, 'C': 52.22433078304784, 'solver': 'newton-cg'}. Best is trial 19 with value: 0.8371289343751988.\n",
      "[I 2023-07-03 00:11:42,727] Trial 43 finished with value: 0.7505982090044298 and parameters: {'tol': 0.00053182327693658, 'C': 54.06351675465944, 'solver': 'liblinear'}. Best is trial 19 with value: 0.8371289343751988.\n",
      "[I 2023-07-03 00:11:46,071] Trial 44 finished with value: 0.8330835609810141 and parameters: {'tol': 0.0007953910085739351, 'C': 27.083232417884908, 'solver': 'sag'}. Best is trial 19 with value: 0.8371289343751988.\n",
      "[I 2023-07-03 00:11:50,698] Trial 45 finished with value: 0.8357016342814078 and parameters: {'tol': 0.0006962782318876043, 'C': 40.895300351897546, 'solver': 'saga'}. Best is trial 19 with value: 0.8371289343751988.\n",
      "[I 2023-07-03 00:11:52,106] Trial 46 finished with value: 0.8055977332311361 and parameters: {'tol': 0.0006605371793410136, 'C': 27.993396895255312, 'solver': 'newton-cg'}. Best is trial 19 with value: 0.8371289343751988.\n",
      "[I 2023-07-03 00:11:53,641] Trial 47 finished with value: 0.8043431897943675 and parameters: {'tol': 0.00024848325851165634, 'C': 35.597274305399374, 'solver': 'newton-cg'}. Best is trial 19 with value: 0.8371289343751988.\n",
      "[I 2023-07-03 00:11:55,743] Trial 48 finished with value: 0.745358864084173 and parameters: {'tol': 0.0008556051234269963, 'C': 70.36578890142377, 'solver': 'liblinear'}. Best is trial 19 with value: 0.8371289343751988.\n",
      "[I 2023-07-03 00:12:01,482] Trial 49 finished with value: 0.8043128620363124 and parameters: {'tol': 0.0004344177975887351, 'C': 39.85047945469, 'solver': 'lbfgs'}. Best is trial 19 with value: 0.8371289343751988.\n",
      "[I 2023-07-03 00:12:02,982] Trial 50 finished with value: 0.8006500822092771 and parameters: {'tol': 0.0005036331223215077, 'C': 85.64898555393381, 'solver': 'newton-cg'}. Best is trial 19 with value: 0.8371289343751988.\n",
      "[I 2023-07-03 00:12:05,293] Trial 51 finished with value: 0.7480420358569553 and parameters: {'tol': 0.0005861898056921899, 'C': 94.02302474019335, 'solver': 'liblinear'}. Best is trial 19 with value: 0.8371289343751988.\n",
      "[I 2023-07-03 00:12:06,609] Trial 52 finished with value: 0.8043128620363124 and parameters: {'tol': 0.0009415233439677488, 'C': 38.61026991905105, 'solver': 'newton-cg'}. Best is trial 19 with value: 0.8371289343751988.\n",
      "[I 2023-07-03 00:12:09,946] Trial 53 finished with value: 0.8305777204132438 and parameters: {'tol': 1.920360382589818e-05, 'C': 9.444305131163231, 'solver': 'sag'}. Best is trial 19 with value: 0.8371289343751988.\n",
      "[I 2023-07-03 00:12:13,302] Trial 54 finished with value: 0.8305943489461134 and parameters: {'tol': 0.000814654014106347, 'C': 28.185484658792245, 'solver': 'sag'}. Best is trial 19 with value: 0.8371289343751988.\n",
      "[I 2023-07-03 00:12:16,672] Trial 55 finished with value: 0.8280482527125137 and parameters: {'tol': 0.0008036774494544638, 'C': 28.203464436784923, 'solver': 'sag'}. Best is trial 19 with value: 0.8371289343751988.\n",
      "[I 2023-07-03 00:12:22,413] Trial 56 finished with value: 0.8018873576249247 and parameters: {'tol': 0.00037264606770699043, 'C': 77.64129831007008, 'solver': 'lbfgs'}. Best is trial 19 with value: 0.8371289343751988.\n",
      "[I 2023-07-03 00:12:23,850] Trial 57 finished with value: 0.810704815782368 and parameters: {'tol': 0.0007547883312105977, 'C': 10.312395852354571, 'solver': 'newton-cg'}. Best is trial 19 with value: 0.8371289343751988.\n",
      "[I 2023-07-03 00:12:28,457] Trial 58 finished with value: 0.8380502160492306 and parameters: {'tol': 0.00038981247705542903, 'C': 1.0837750396533212, 'solver': 'saga'}. Best is trial 58 with value: 0.8380502160492306.\n"
     ]
    },
    {
     "name": "stderr",
     "output_type": "stream",
     "text": [
      "[I 2023-07-03 00:12:33,106] Trial 59 finished with value: 0.8371898160993622 and parameters: {'tol': 0.000573864450235163, 'C': 63.18372489860781, 'solver': 'saga'}. Best is trial 58 with value: 0.8380502160492306.\n",
      "[I 2023-07-03 00:12:36,435] Trial 60 finished with value: 0.8330445067403771 and parameters: {'tol': 0.0007917874646821228, 'C': 78.96181638327396, 'solver': 'sag'}. Best is trial 58 with value: 0.8380502160492306.\n",
      "[I 2023-07-03 00:12:38,647] Trial 61 finished with value: 0.752146462773599 and parameters: {'tol': 0.0008878164785755415, 'C': 35.091507746057744, 'solver': 'liblinear'}. Best is trial 58 with value: 0.8380502160492306.\n",
      "/home/marina/anaconda3/lib/python3.10/site-packages/sklearn/linear_model/_logistic.py:460: ConvergenceWarning: lbfgs failed to converge (status=1):\n",
      "STOP: TOTAL NO. of ITERATIONS REACHED LIMIT.\n",
      "\n",
      "Increase the number of iterations (max_iter) or scale the data as shown in:\n",
      "    https://scikit-learn.org/stable/modules/preprocessing.html\n",
      "Please also refer to the documentation for alternative solver options:\n",
      "    https://scikit-learn.org/stable/modules/linear_model.html#logistic-regression\n",
      "  n_iter_i = _check_optimize_result(\n",
      "[I 2023-07-03 00:12:44,502] Trial 62 finished with value: 0.8018873576249247 and parameters: {'tol': 8.502269930888245e-05, 'C': 70.09691613622068, 'solver': 'lbfgs'}. Best is trial 58 with value: 0.8380502160492306.\n",
      "[I 2023-07-03 00:12:47,834] Trial 63 finished with value: 0.8256220215623828 and parameters: {'tol': 0.0009866529389226744, 'C': 37.427085832904076, 'solver': 'sag'}. Best is trial 58 with value: 0.8380502160492306.\n",
      "[I 2023-07-03 00:12:51,163] Trial 64 finished with value: 0.8305108723322018 and parameters: {'tol': 0.0003768833259453849, 'C': 8.350080834859709, 'solver': 'sag'}. Best is trial 58 with value: 0.8380502160492306.\n",
      "[I 2023-07-03 00:12:55,826] Trial 65 finished with value: 0.8331568318930518 and parameters: {'tol': 0.0004931324791865683, 'C': 1.1353743632054591, 'solver': 'saga'}. Best is trial 58 with value: 0.8380502160492306.\n",
      "[I 2023-07-03 00:12:57,252] Trial 66 finished with value: 0.8018873576249247 and parameters: {'tol': 0.000746298834386158, 'C': 58.336880676028315, 'solver': 'newton-cg'}. Best is trial 58 with value: 0.8380502160492306.\n",
      "[I 2023-07-03 00:13:01,858] Trial 67 finished with value: 0.8368405531346111 and parameters: {'tol': 0.0009632593169011708, 'C': 1.2154573474368873, 'solver': 'saga'}. Best is trial 58 with value: 0.8380502160492306.\n",
      "[I 2023-07-03 00:13:03,484] Trial 68 finished with value: 0.8018873576249247 and parameters: {'tol': 7.472276817066347e-05, 'C': 55.38543290158923, 'solver': 'newton-cg'}. Best is trial 58 with value: 0.8380502160492306.\n",
      "[I 2023-07-03 00:13:06,808] Trial 69 finished with value: 0.8306489034199135 and parameters: {'tol': 0.0006279305220039795, 'C': 58.431435349166904, 'solver': 'sag'}. Best is trial 58 with value: 0.8380502160492306.\n",
      "[I 2023-07-03 00:13:11,427] Trial 70 finished with value: 0.8357576466973502 and parameters: {'tol': 0.0004562010960329273, 'C': 62.0132635788277, 'solver': 'saga'}. Best is trial 58 with value: 0.8380502160492306.\n",
      "[I 2023-07-03 00:13:12,958] Trial 71 finished with value: 0.8006500822092771 and parameters: {'tol': 7.865690232801985e-05, 'C': 97.43948102266857, 'solver': 'newton-cg'}. Best is trial 58 with value: 0.8380502160492306.\n",
      "[I 2023-07-03 00:13:15,118] Trial 72 finished with value: 0.762171001449802 and parameters: {'tol': 0.0006850464413813255, 'C': 16.261702308319734, 'solver': 'liblinear'}. Best is trial 58 with value: 0.8380502160492306.\n",
      "[I 2023-07-03 00:13:16,626] Trial 73 finished with value: 0.8006500822092771 and parameters: {'tol': 0.0004188247932543283, 'C': 93.2728490081165, 'solver': 'newton-cg'}. Best is trial 58 with value: 0.8380502160492306.\n",
      "[I 2023-07-03 00:13:18,825] Trial 74 finished with value: 0.7608120724507983 and parameters: {'tol': 0.0009872888531856296, 'C': 15.041697606183906, 'solver': 'liblinear'}. Best is trial 58 with value: 0.8380502160492306.\n",
      "[I 2023-07-03 00:13:23,403] Trial 75 finished with value: 0.8333729295532264 and parameters: {'tol': 0.0004692244666351754, 'C': 41.4819560855715, 'solver': 'saga'}. Best is trial 58 with value: 0.8380502160492306.\n",
      "[I 2023-07-03 00:13:29,082] Trial 76 finished with value: 0.8030812480003954 and parameters: {'tol': 0.0009966402002368315, 'C': 55.54317500594569, 'solver': 'lbfgs'}. Best is trial 58 with value: 0.8380502160492306.\n",
      "[I 2023-07-03 00:13:31,808] Trial 77 finished with value: 0.747106882028242 and parameters: {'tol': 0.0001300302557363435, 'C': 95.40510318536197, 'solver': 'liblinear'}. Best is trial 58 with value: 0.8380502160492306.\n",
      "[I 2023-07-03 00:13:35,150] Trial 78 finished with value: 0.8307442964945213 and parameters: {'tol': 0.00011444403460742941, 'C': 67.157322843548, 'solver': 'sag'}. Best is trial 58 with value: 0.8380502160492306.\n",
      "[I 2023-07-03 00:13:38,480] Trial 79 finished with value: 0.8293620701650383 and parameters: {'tol': 0.000561377033563851, 'C': 87.66536149929847, 'solver': 'sag'}. Best is trial 58 with value: 0.8380502160492306.\n",
      "[I 2023-07-03 00:13:41,810] Trial 80 finished with value: 0.8306353301808154 and parameters: {'tol': 0.0007043756883311244, 'C': 21.296424021249457, 'solver': 'sag'}. Best is trial 58 with value: 0.8380502160492306.\n",
      "[I 2023-07-03 00:13:44,226] Trial 81 finished with value: 0.7493562159166505 and parameters: {'tol': 0.0004380374471017054, 'C': 90.41587040778789, 'solver': 'liblinear'}. Best is trial 58 with value: 0.8380502160492306.\n",
      "[I 2023-07-03 00:13:49,873] Trial 82 finished with value: 0.8006652122040506 and parameters: {'tol': 0.0008625013450379985, 'C': 94.95206287055798, 'solver': 'lbfgs'}. Best is trial 58 with value: 0.8380502160492306.\n",
      "[I 2023-07-03 00:13:55,533] Trial 83 finished with value: 0.8030812480003954 and parameters: {'tol': 0.0009800525427101916, 'C': 49.26181447310602, 'solver': 'lbfgs'}. Best is trial 58 with value: 0.8380502160492306.\n",
      "[I 2023-07-03 00:14:00,146] Trial 84 finished with value: 0.8358552352883443 and parameters: {'tol': 0.00012891779311881467, 'C': 15.190277832202499, 'solver': 'saga'}. Best is trial 58 with value: 0.8380502160492306.\n",
      "[I 2023-07-03 00:14:04,745] Trial 85 finished with value: 0.8357539964557812 and parameters: {'tol': 0.00047448767862260955, 'C': 66.75577717652533, 'solver': 'saga'}. Best is trial 58 with value: 0.8380502160492306.\n",
      "[I 2023-07-03 00:14:09,349] Trial 86 finished with value: 0.835844037826015 and parameters: {'tol': 0.0001778334737924701, 'C': 8.870262488680224, 'solver': 'saga'}. Best is trial 58 with value: 0.8380502160492306.\n",
      "[I 2023-07-03 00:14:13,974] Trial 87 finished with value: 0.836911093319053 and parameters: {'tol': 0.000690704433800736, 'C': 3.931223590988495, 'solver': 'saga'}. Best is trial 58 with value: 0.8380502160492306.\n",
      "[I 2023-07-03 00:14:15,529] Trial 88 finished with value: 0.8055977332311361 and parameters: {'tol': 6.20168818950089e-05, 'C': 27.68777204594389, 'solver': 'newton-cg'}. Best is trial 58 with value: 0.8380502160492306.\n",
      "[I 2023-07-03 00:14:17,955] Trial 89 finished with value: 0.7519835312036431 and parameters: {'tol': 0.0004850384622058304, 'C': 61.825480970481884, 'solver': 'liblinear'}. Best is trial 58 with value: 0.8380502160492306.\n",
      "[I 2023-07-03 00:14:22,577] Trial 90 finished with value: 0.8346125062165942 and parameters: {'tol': 0.0007136362362986679, 'C': 89.52068481665155, 'solver': 'saga'}. Best is trial 58 with value: 0.8380502160492306.\n",
      "[I 2023-07-03 00:14:24,067] Trial 91 finished with value: 0.8055977332311361 and parameters: {'tol': 0.00024322803313109496, 'C': 26.924330402505785, 'solver': 'newton-cg'}. Best is trial 58 with value: 0.8380502160492306.\n",
      "[I 2023-07-03 00:14:26,869] Trial 92 finished with value: 0.7484155222671312 and parameters: {'tol': 0.00012064236968743198, 'C': 89.0527291687167, 'solver': 'liblinear'}. Best is trial 58 with value: 0.8380502160492306.\n",
      "[I 2023-07-03 00:14:28,346] Trial 93 finished with value: 0.8018873576249247 and parameters: {'tol': 0.0005375694352767293, 'C': 58.684115933676736, 'solver': 'newton-cg'}. Best is trial 58 with value: 0.8380502160492306.\n",
      "[I 2023-07-03 00:14:34,054] Trial 94 finished with value: 0.8030812480003954 and parameters: {'tol': 0.0006462713240902697, 'C': 57.07783475910814, 'solver': 'lbfgs'}. Best is trial 58 with value: 0.8380502160492306.\n"
     ]
    },
    {
     "name": "stderr",
     "output_type": "stream",
     "text": [
      "[I 2023-07-03 00:14:38,668] Trial 95 finished with value: 0.8346435266343969 and parameters: {'tol': 0.0001537062800451477, 'C': 24.595780378873528, 'solver': 'saga'}. Best is trial 58 with value: 0.8380502160492306.\n",
      "/home/marina/anaconda3/lib/python3.10/site-packages/sklearn/linear_model/_logistic.py:460: ConvergenceWarning: lbfgs failed to converge (status=1):\n",
      "STOP: TOTAL NO. of ITERATIONS REACHED LIMIT.\n",
      "\n",
      "Increase the number of iterations (max_iter) or scale the data as shown in:\n",
      "    https://scikit-learn.org/stable/modules/preprocessing.html\n",
      "Please also refer to the documentation for alternative solver options:\n",
      "    https://scikit-learn.org/stable/modules/linear_model.html#logistic-regression\n",
      "  n_iter_i = _check_optimize_result(\n",
      "[I 2023-07-03 00:14:44,528] Trial 96 finished with value: 0.8031093292783635 and parameters: {'tol': 8.115351191598057e-05, 'C': 52.45114371191157, 'solver': 'lbfgs'}. Best is trial 58 with value: 0.8380502160492306.\n",
      "[I 2023-07-03 00:14:47,850] Trial 97 finished with value: 0.8282562095055406 and parameters: {'tol': 0.0008656416187680864, 'C': 81.70720892420728, 'solver': 'sag'}. Best is trial 58 with value: 0.8380502160492306.\n",
      "[I 2023-07-03 00:14:49,218] Trial 98 finished with value: 0.8055977332311361 and parameters: {'tol': 0.00057204107678043, 'C': 27.99791656623748, 'solver': 'newton-cg'}. Best is trial 58 with value: 0.8380502160492306.\n",
      "[I 2023-07-03 00:14:50,752] Trial 99 finished with value: 0.810704815782368 and parameters: {'tol': 0.00024316732268266517, 'C': 11.483691325552105, 'solver': 'newton-cg'}. Best is trial 58 with value: 0.8380502160492306.\n"
     ]
    }
   ],
   "source": [
    "# Define the Optuna study\n",
    "study = optuna.create_study(direction='maximize', sampler=RandomSampler(seed=42))\n",
    "study.optimize(objective_LG, n_trials=100)"
   ]
  },
  {
   "cell_type": "code",
   "execution_count": 108,
   "metadata": {
    "id": "vLcmvFM2i0L0"
   },
   "outputs": [],
   "source": [
    "# Get the best hyperparameters from Optuna\n",
    "best_params = study.best_params"
   ]
  },
  {
   "cell_type": "code",
   "execution_count": 109,
   "metadata": {
    "colab": {
     "base_uri": "https://localhost:8080/"
    },
    "id": "5eaXmjiOi0L0",
    "outputId": "6df25ef0-38ba-49b6-ff3f-733f4e801474"
   },
   "outputs": [
    {
     "data": {
      "text/plain": [
       "{'tol': 0.00038981247705542903, 'C': 1.0837750396533212, 'solver': 'saga'}"
      ]
     },
     "execution_count": 109,
     "metadata": {},
     "output_type": "execute_result"
    }
   ],
   "source": [
    "best_params"
   ]
  },
  {
   "cell_type": "code",
   "execution_count": 110,
   "metadata": {
    "colab": {
     "base_uri": "https://localhost:8080/"
    },
    "id": "TgR4muAli0L1",
    "outputId": "d8d63101-2757-4cf9-902e-d4b55504e7ed"
   },
   "outputs": [
    {
     "data": {
      "text/plain": [
       "array([ True, False,  True, ..., False, False, False])"
      ]
     },
     "execution_count": 110,
     "metadata": {},
     "output_type": "execute_result"
    }
   ],
   "source": [
    "best_features"
   ]
  },
  {
   "attachments": {},
   "cell_type": "markdown",
   "metadata": {
    "id": "fqxkUCufi0L1"
   },
   "source": [
    "#### Get best parameters and make predictions"
   ]
  },
  {
   "cell_type": "code",
   "execution_count": 111,
   "metadata": {
    "id": "SKOuQFpGi0L1"
   },
   "outputs": [],
   "source": [
    "selected_features_indices = [i for i, value in enumerate(best_features) if value]\n",
    "X_test_selected = X_test[:, selected_features_indices]"
   ]
  },
  {
   "cell_type": "code",
   "execution_count": 112,
   "metadata": {
    "id": "bcIAhFHdi0L1"
   },
   "outputs": [],
   "source": [
    "X_train_val_selected_final_features = X_train_val[:, selected_features_indices]"
   ]
  },
  {
   "cell_type": "code",
   "execution_count": 113,
   "metadata": {
    "colab": {
     "base_uri": "https://localhost:8080/"
    },
    "id": "bmGwpCmNi0L1",
    "outputId": "774899b5-6106-4e73-bdcc-0e0e4532bc49"
   },
   "outputs": [
    {
     "data": {
      "text/plain": [
       "(286, 300)"
      ]
     },
     "execution_count": 113,
     "metadata": {},
     "output_type": "execute_result"
    }
   ],
   "source": [
    "X_test_selected.shape"
   ]
  },
  {
   "cell_type": "code",
   "execution_count": 114,
   "metadata": {
    "id": "QCJfhL-9i0L1"
   },
   "outputs": [],
   "source": [
    "#best_classifier_XG = XGBClassifier(eta=0.9998923071077181,gamma=0.48062735928448386,min_child_weight=0.9165527129072861,max_delta_step=9,subsample=0.9036565255711814)\n",
    "best_classifier_LG = LogisticRegression(**best_params)"
   ]
  },
  {
   "cell_type": "code",
   "execution_count": 115,
   "metadata": {
    "colab": {
     "base_uri": "https://localhost:8080/",
     "height": 92
    },
    "id": "8vo7Jsbgi0L2",
    "outputId": "e2e484f8-d792-44c7-fd7f-6d1909b73918"
   },
   "outputs": [
    {
     "data": {
      "text/html": [
       "<style>#sk-container-id-4 {color: black;}#sk-container-id-4 pre{padding: 0;}#sk-container-id-4 div.sk-toggleable {background-color: white;}#sk-container-id-4 label.sk-toggleable__label {cursor: pointer;display: block;width: 100%;margin-bottom: 0;padding: 0.3em;box-sizing: border-box;text-align: center;}#sk-container-id-4 label.sk-toggleable__label-arrow:before {content: \"▸\";float: left;margin-right: 0.25em;color: #696969;}#sk-container-id-4 label.sk-toggleable__label-arrow:hover:before {color: black;}#sk-container-id-4 div.sk-estimator:hover label.sk-toggleable__label-arrow:before {color: black;}#sk-container-id-4 div.sk-toggleable__content {max-height: 0;max-width: 0;overflow: hidden;text-align: left;background-color: #f0f8ff;}#sk-container-id-4 div.sk-toggleable__content pre {margin: 0.2em;color: black;border-radius: 0.25em;background-color: #f0f8ff;}#sk-container-id-4 input.sk-toggleable__control:checked~div.sk-toggleable__content {max-height: 200px;max-width: 100%;overflow: auto;}#sk-container-id-4 input.sk-toggleable__control:checked~label.sk-toggleable__label-arrow:before {content: \"▾\";}#sk-container-id-4 div.sk-estimator input.sk-toggleable__control:checked~label.sk-toggleable__label {background-color: #d4ebff;}#sk-container-id-4 div.sk-label input.sk-toggleable__control:checked~label.sk-toggleable__label {background-color: #d4ebff;}#sk-container-id-4 input.sk-hidden--visually {border: 0;clip: rect(1px 1px 1px 1px);clip: rect(1px, 1px, 1px, 1px);height: 1px;margin: -1px;overflow: hidden;padding: 0;position: absolute;width: 1px;}#sk-container-id-4 div.sk-estimator {font-family: monospace;background-color: #f0f8ff;border: 1px dotted black;border-radius: 0.25em;box-sizing: border-box;margin-bottom: 0.5em;}#sk-container-id-4 div.sk-estimator:hover {background-color: #d4ebff;}#sk-container-id-4 div.sk-parallel-item::after {content: \"\";width: 100%;border-bottom: 1px solid gray;flex-grow: 1;}#sk-container-id-4 div.sk-label:hover label.sk-toggleable__label {background-color: #d4ebff;}#sk-container-id-4 div.sk-serial::before {content: \"\";position: absolute;border-left: 1px solid gray;box-sizing: border-box;top: 0;bottom: 0;left: 50%;z-index: 0;}#sk-container-id-4 div.sk-serial {display: flex;flex-direction: column;align-items: center;background-color: white;padding-right: 0.2em;padding-left: 0.2em;position: relative;}#sk-container-id-4 div.sk-item {position: relative;z-index: 1;}#sk-container-id-4 div.sk-parallel {display: flex;align-items: stretch;justify-content: center;background-color: white;position: relative;}#sk-container-id-4 div.sk-item::before, #sk-container-id-4 div.sk-parallel-item::before {content: \"\";position: absolute;border-left: 1px solid gray;box-sizing: border-box;top: 0;bottom: 0;left: 50%;z-index: -1;}#sk-container-id-4 div.sk-parallel-item {display: flex;flex-direction: column;z-index: 1;position: relative;background-color: white;}#sk-container-id-4 div.sk-parallel-item:first-child::after {align-self: flex-end;width: 50%;}#sk-container-id-4 div.sk-parallel-item:last-child::after {align-self: flex-start;width: 50%;}#sk-container-id-4 div.sk-parallel-item:only-child::after {width: 0;}#sk-container-id-4 div.sk-dashed-wrapped {border: 1px dashed gray;margin: 0 0.4em 0.5em 0.4em;box-sizing: border-box;padding-bottom: 0.4em;background-color: white;}#sk-container-id-4 div.sk-label label {font-family: monospace;font-weight: bold;display: inline-block;line-height: 1.2em;}#sk-container-id-4 div.sk-label-container {text-align: center;}#sk-container-id-4 div.sk-container {/* jupyter's `normalize.less` sets `[hidden] { display: none; }` but bootstrap.min.css set `[hidden] { display: none !important; }` so we also need the `!important` here to be able to override the default hidden behavior on the sphinx rendered scikit-learn.org. See: https://github.com/scikit-learn/scikit-learn/issues/21755 */display: inline-block !important;position: relative;}#sk-container-id-4 div.sk-text-repr-fallback {display: none;}</style><div id=\"sk-container-id-4\" class=\"sk-top-container\"><div class=\"sk-text-repr-fallback\"><pre>LogisticRegression(C=1.0837750396533212, solver=&#x27;saga&#x27;,\n",
       "                   tol=0.00038981247705542903)</pre><b>In a Jupyter environment, please rerun this cell to show the HTML representation or trust the notebook. <br />On GitHub, the HTML representation is unable to render, please try loading this page with nbviewer.org.</b></div><div class=\"sk-container\" hidden><div class=\"sk-item\"><div class=\"sk-estimator sk-toggleable\"><input class=\"sk-toggleable__control sk-hidden--visually\" id=\"sk-estimator-id-4\" type=\"checkbox\" checked><label for=\"sk-estimator-id-4\" class=\"sk-toggleable__label sk-toggleable__label-arrow\">LogisticRegression</label><div class=\"sk-toggleable__content\"><pre>LogisticRegression(C=1.0837750396533212, solver=&#x27;saga&#x27;,\n",
       "                   tol=0.00038981247705542903)</pre></div></div></div></div></div>"
      ],
      "text/plain": [
       "LogisticRegression(C=1.0837750396533212, solver='saga',\n",
       "                   tol=0.00038981247705542903)"
      ]
     },
     "execution_count": 115,
     "metadata": {},
     "output_type": "execute_result"
    }
   ],
   "source": [
    "best_classifier_LG.fit(X_train_val_selected_final_features, y_train_val)"
   ]
  },
  {
   "cell_type": "code",
   "execution_count": 116,
   "metadata": {
    "id": "BZlK7DNti0L2"
   },
   "outputs": [],
   "source": [
    "y_test_pred = best_classifier_LG.predict(X_test_selected)"
   ]
  },
  {
   "cell_type": "code",
   "execution_count": 117,
   "metadata": {
    "id": "ql--kEL5i0L2"
   },
   "outputs": [],
   "source": [
    "#Validate the model  using balanced_acc, precision,recall and f1\n",
    "balanced_acc_LR= balanced_accuracy_score(y_test, y_test_pred)\n",
    "precision_LR = precision_score(y_test, y_test_pred,average='weighted')\n",
    "recall_LR = recall_score(y_test, y_test_pred,average='weighted')\n",
    "f1_LR = f1_score(y_test, y_test_pred,average='weighted')"
   ]
  },
  {
   "cell_type": "code",
   "execution_count": 118,
   "metadata": {
    "colab": {
     "base_uri": "https://localhost:8080/"
    },
    "id": "tCCdLoTEi0L2",
    "outputId": "fa33616f-86d3-432c-f610-09311e8907ce"
   },
   "outputs": [
    {
     "data": {
      "text/plain": [
       "0.8804665246762188"
      ]
     },
     "execution_count": 118,
     "metadata": {},
     "output_type": "execute_result"
    }
   ],
   "source": [
    "balanced_acc_LR"
   ]
  },
  {
   "cell_type": "code",
   "execution_count": 119,
   "metadata": {
    "colab": {
     "base_uri": "https://localhost:8080/"
    },
    "id": "STTwjPYHi0L2",
    "outputId": "43042163-c30c-4348-f574-8acdd1941cff"
   },
   "outputs": [
    {
     "data": {
      "text/plain": [
       "0.8914441024562483"
      ]
     },
     "execution_count": 119,
     "metadata": {},
     "output_type": "execute_result"
    }
   ],
   "source": [
    "precision_LR"
   ]
  },
  {
   "cell_type": "code",
   "execution_count": 120,
   "metadata": {
    "colab": {
     "base_uri": "https://localhost:8080/"
    },
    "id": "TURZiqOUi0L2",
    "outputId": "a51725c7-1424-4644-86d6-c34a436302fe"
   },
   "outputs": [
    {
     "data": {
      "text/plain": [
       "0.8916083916083916"
      ]
     },
     "execution_count": 120,
     "metadata": {},
     "output_type": "execute_result"
    }
   ],
   "source": [
    "recall_LR"
   ]
  },
  {
   "cell_type": "code",
   "execution_count": 121,
   "metadata": {
    "colab": {
     "base_uri": "https://localhost:8080/"
    },
    "id": "TGo7M07gi0L3",
    "outputId": "64bb61c8-e1fb-4f43-f807-05cc89edf39e"
   },
   "outputs": [
    {
     "data": {
      "text/plain": [
       "0.8911806464799867"
      ]
     },
     "execution_count": 121,
     "metadata": {},
     "output_type": "execute_result"
    }
   ],
   "source": [
    "f1_LR"
   ]
  },
  {
   "cell_type": "code",
   "execution_count": 122,
   "metadata": {
    "colab": {
     "base_uri": "https://localhost:8080/"
    },
    "id": "DH9DOxA9i0L3",
    "outputId": "6f3b70a6-6e8e-48d8-a9f6-ac9b77b64b85"
   },
   "outputs": [
    {
     "data": {
      "text/plain": [
       "array([0, 0, 1, 0, 0, 0, 0, 0, 1, 0, 3, 2, 2, 1, 1, 3, 3, 1, 0, 3, 3, 0,\n",
       "       0, 0, 3, 0, 3, 2, 0, 0, 3, 3, 1, 1, 0, 0, 3, 3, 2, 1, 3, 0, 3, 3,\n",
       "       0, 2, 3, 1, 2, 2, 2, 0, 2, 0, 0, 0, 0, 0, 0, 2, 0, 1, 2, 0, 0, 2,\n",
       "       2, 2, 0, 0, 1, 0, 1, 3, 0, 0, 2, 0, 2, 1, 2, 1, 0, 0, 1, 0, 1, 1,\n",
       "       0, 0, 1, 0, 3, 2, 0, 1, 0, 2, 3, 2, 0, 3, 0, 2, 0, 1, 3, 2, 1, 0,\n",
       "       0, 2, 3, 3, 0, 0, 2, 1, 2, 0, 1, 1, 0, 3, 1, 1, 2, 2, 3, 3, 0, 0,\n",
       "       3, 0, 0, 0, 0, 3, 0, 3, 3, 2, 2, 3, 3, 0, 2, 0, 3, 3, 2, 0, 2, 2,\n",
       "       2, 1, 0, 3, 0, 2, 2, 1, 2, 0, 1, 1, 2, 2, 0, 2, 0, 3, 3, 2, 0, 1,\n",
       "       0, 0, 0, 0, 2, 2, 0, 2, 0, 0, 1, 0, 0, 0, 3, 2, 1, 2, 3, 1, 0, 0,\n",
       "       3, 0, 0, 3, 3, 1, 0, 0, 0, 0, 2, 0, 2, 0, 3, 1, 0, 3, 2, 3, 0, 3,\n",
       "       0, 0, 0, 1, 0, 2, 0, 1, 0, 0, 1, 0, 3, 1, 2, 2, 3, 1, 2, 3, 0, 1,\n",
       "       0, 0, 0, 0, 0, 1, 0, 0, 0, 0, 2, 0, 0, 0, 1, 2, 0, 0, 0, 3, 0, 0,\n",
       "       0, 0, 0, 1, 0, 0, 1, 0, 2, 0, 1, 1, 0, 0, 0, 3, 0, 0, 0, 0, 1, 2])"
      ]
     },
     "execution_count": 122,
     "metadata": {},
     "output_type": "execute_result"
    }
   ],
   "source": [
    "y_test_pred"
   ]
  },
  {
   "cell_type": "code",
   "execution_count": 123,
   "metadata": {
    "colab": {
     "base_uri": "https://localhost:8080/"
    },
    "id": "Hg_m2l0XltyM",
    "outputId": "96e3ae0d-7aed-4ded-9620-7ffd6244a196"
   },
   "outputs": [
    {
     "data": {
      "text/plain": [
       "array([0, 0, 1, 2, 0, 0, 0, 0, 1, 0, 0, 2, 2, 1, 1, 3, 3, 1, 2, 3, 3, 0,\n",
       "       0, 0, 3, 0, 1, 2, 0, 0, 3, 3, 2, 0, 0, 0, 1, 3, 2, 1, 3, 0, 3, 3,\n",
       "       0, 2, 3, 1, 2, 2, 2, 0, 2, 0, 0, 0, 0, 1, 0, 2, 0, 1, 2, 0, 0, 2,\n",
       "       2, 2, 0, 0, 1, 0, 1, 3, 0, 0, 2, 0, 0, 1, 0, 1, 0, 2, 1, 3, 1, 1,\n",
       "       2, 0, 1, 0, 3, 2, 0, 1, 0, 2, 1, 2, 1, 3, 0, 2, 0, 1, 3, 2, 1, 0,\n",
       "       0, 2, 2, 3, 0, 0, 0, 1, 2, 0, 1, 3, 0, 3, 1, 1, 2, 2, 3, 3, 0, 0,\n",
       "       3, 0, 0, 0, 0, 3, 0, 3, 3, 0, 2, 3, 3, 2, 2, 0, 3, 2, 2, 0, 0, 2,\n",
       "       2, 1, 0, 3, 0, 2, 2, 1, 2, 0, 3, 1, 2, 2, 0, 2, 0, 3, 3, 2, 0, 1,\n",
       "       0, 1, 0, 0, 2, 2, 0, 2, 0, 0, 1, 0, 0, 0, 3, 2, 1, 2, 3, 1, 0, 0,\n",
       "       3, 2, 0, 3, 3, 1, 0, 2, 0, 0, 2, 0, 2, 0, 3, 1, 0, 3, 2, 3, 0, 3,\n",
       "       0, 0, 0, 1, 0, 2, 0, 1, 0, 0, 0, 0, 3, 1, 2, 1, 3, 1, 2, 3, 0, 1,\n",
       "       1, 0, 0, 0, 0, 1, 0, 0, 0, 0, 2, 0, 0, 0, 3, 2, 0, 0, 0, 3, 0, 0,\n",
       "       0, 0, 0, 0, 0, 0, 1, 0, 2, 0, 1, 1, 0, 0, 0, 3, 0, 0, 0, 0, 1, 2])"
      ]
     },
     "execution_count": 123,
     "metadata": {},
     "output_type": "execute_result"
    }
   ],
   "source": [
    "y_test"
   ]
  },
  {
   "cell_type": "code",
   "execution_count": 124,
   "metadata": {},
   "outputs": [
    {
     "data": {
      "text/plain": [
       "(4, 300)"
      ]
     },
     "execution_count": 124,
     "metadata": {},
     "output_type": "execute_result"
    }
   ],
   "source": [
    "np.shape(best_classifier_LG.coef_)"
   ]
  },
  {
   "cell_type": "code",
   "execution_count": 125,
   "metadata": {},
   "outputs": [
    {
     "name": "stdout",
     "output_type": "stream",
     "text": [
      "[array([ 86, 134,  53, 210, 264, 135,   8,  76, 279, 227,   0, 180, 259,\n",
      "        20, 220, 287,  12, 100, 213,  62])]\n",
      "[array([ 86, 134,  53, 210, 264, 135,   8,  76, 279, 227,   0, 180, 259,\n",
      "        20, 220, 287,  12, 100, 213,  62]), array([ 70, 206, 169,  84,  64,  45, 179, 194,  63, 161,  42,  47, 199,\n",
      "        13, 197,  43,  94, 191, 115, 126])]\n",
      "[array([ 86, 134,  53, 210, 264, 135,   8,  76, 279, 227,   0, 180, 259,\n",
      "        20, 220, 287,  12, 100, 213,  62]), array([ 70, 206, 169,  84,  64,  45, 179, 194,  63, 161,  42,  47, 199,\n",
      "        13, 197,  43,  94, 191, 115, 126]), array([298, 167, 266, 256, 297, 182, 141, 285, 223, 205, 247, 156, 190,\n",
      "       257, 216, 131, 170, 286,  32, 228])]\n",
      "[array([ 86, 134,  53, 210, 264, 135,   8,  76, 279, 227,   0, 180, 259,\n",
      "        20, 220, 287,  12, 100, 213,  62]), array([ 70, 206, 169,  84,  64,  45, 179, 194,  63, 161,  42,  47, 199,\n",
      "        13, 197,  43,  94, 191, 115, 126]), array([298, 167, 266, 256, 297, 182, 141, 285, 223, 205, 247, 156, 190,\n",
      "       257, 216, 131, 170, 286,  32, 228]), array([162, 121, 143,  32, 196,  39, 243, 261, 166, 155,  21, 233, 277,\n",
      "        93, 292, 249, 296,  83, 160,  65])]\n",
      "Important Genes for class 1: ['ENSG00000101335', 'ENSG00000143742', 'ENSG00000168028', 'ENSG00000175782', 'ENSG00000162654', 'ENSG00000164434', 'ENSG00000034510', 'ENSG00000138061', 'ENSG00000116209', 'ENSG00000196458', 'ENSG00000205542', 'ENSG00000213585', 'ENSG00000092871', 'ENSG00000100316', 'ENSG00000135637', 'ENSG00000141526', 'ENSG00000187514', 'ENSG00000057019', 'ENSG00000106355', 'ENSG00000096384']\n",
      "Important Genes for class 2: ['ENSG00000124172', 'ENSG00000134057', 'ENSG00000164111', 'ENSG00000106211', 'ENSG00000197747', 'ENSG00000163191', 'ENSG00000285437', 'ENSG00000131747', 'ENSG00000198786', 'ENSG00000100650', 'ENSG00000269028', 'ENSG00000089157', 'ENSG00000108953', 'ENSG00000138326', 'ENSG00000244398', 'ENSG00000255508', 'ENSG00000220842', 'ENSG00000260836', 'ENSG00000281287', 'ENSG00000277359']\n",
      "Important Genes for class 3: ['ENSG00000182628', 'ENSG00000173207', 'ENSG00000107890', 'ENSG00000164109', 'ENSG00000168461', 'ENSG00000166582', 'ENSG00000176340', 'ENSG00000129534', 'ENSG00000148773', 'ENSG00000100836', 'ENSG00000164754', 'ENSG00000069275', 'ENSG00000169609', 'ENSG00000211451', 'ENSG00000175768', 'ENSG00000170540', 'ENSG00000166803', 'ENSG00000066279', 'ENSG00000197061', 'ENSG00000113810']\n",
      "Important Genes for class 4: ['ENSG00000253117', 'ENSG00000167460', 'ENSG00000133812', 'ENSG00000197061', 'ENSG00000170893', 'ENSG00000140416', 'ENSG00000107165', 'ENSG00000177459', 'ENSG00000150093', 'ENSG00000243449', 'ENSG00000115461', 'ENSG00000175265', 'ENSG00000134871', 'ENSG00000006042', 'ENSG00000130208', 'ENSG00000134245', 'ENSG00000122884', 'ENSG00000118523', 'ENSG00000049540', 'ENSG00000100097']\n"
     ]
    }
   ],
   "source": [
    "#select the top 20 important features of the classifier\n",
    "top20_indices=list()\n",
    "coefs=best_classifier_LG.coef_\n",
    "for i in range(0,np.shape(coefs)[0]):\n",
    "    top20_indices.append(np.argsort(coefs[i])[-20:])\n",
    "    print(top20_indices)\n",
    "    \n",
    "top20_indices0=top20_indices[0]\n",
    "top20_indices1=top20_indices[1]\n",
    "top20_indices2=top20_indices[2]\n",
    "top20_indices3=top20_indices[3]\n",
    "\n",
    "column_names0=list()\n",
    "column_names1=list()\n",
    "column_names2=list()\n",
    "column_names3=list()\n",
    "\n",
    "for i in range(20):\n",
    "    column_names0.append(data_filtered_features.columns[top20_indices0[i]])\n",
    "    column_names1.append(data_filtered_features.columns[top20_indices1[i]])\n",
    "    column_names2.append(data_filtered_features.columns[top20_indices2[i]])\n",
    "    column_names3.append(data_filtered_features.columns[top20_indices3[i]])\n",
    "\n",
    "# Print the column names\n",
    "print(\"Important Genes for class 1:\",column_names0)\n",
    "print(\"Important Genes for class 2:\",column_names1)\n",
    "print(\"Important Genes for class 3:\",column_names2)\n",
    "print(\"Important Genes for class 4:\",column_names3)\n",
    "\n"
   ]
  },
  {
   "attachments": {},
   "cell_type": "markdown",
   "metadata": {
    "id": "iaGJZjp7mVLV"
   },
   "source": [
    "## GaussianNB"
   ]
  },
  {
   "attachments": {},
   "cell_type": "markdown",
   "metadata": {
    "id": "G6KgTWD8mbzQ"
   },
   "source": [
    "#### Cross val for hyperparameter tunning and feature selection"
   ]
  },
  {
   "cell_type": "code",
   "execution_count": 126,
   "metadata": {
    "id": "cD_yCs3_mbza"
   },
   "outputs": [],
   "source": [
    "# Define the number of folds for cross-validation\n",
    "n_folds = 5"
   ]
  },
  {
   "cell_type": "code",
   "execution_count": 127,
   "metadata": {
    "id": "QO4ayWJ0mbzb"
   },
   "outputs": [],
   "source": [
    "# Define the objective function for Optuna hyperparameter tuning\n",
    "def objective_GNB(trial):\n",
    "  global best_features\n",
    "  params = {\n",
    "            'var_smoothing': trial.suggest_float('var_smoothing', 1e-10, 1e-3, log=True)\n",
    "          }\n",
    "\n",
    "  # Instantiate the classifier with the current hyperparameters\n",
    "  #classifier = XGBClassifier(eta=eta,gamma=gamma ,min_child_weight=min_child_weight,max_delta_step=max_delta_step,subsample=subsample)\n",
    "  classifier = GaussianNB(**params)\n",
    "\n",
    "  # Perform cross-validation with feature selection\n",
    "  kf = StratifiedKFold(n_splits=n_folds, shuffle=True, random_state=42)\n",
    "  cv_scores = []\n",
    "  feature_selector = SelectKBest(score_func=f_classif, k=300)  # Adjust the number of features as desired\n",
    "  best_features = None\n",
    "\n",
    "  for train_index, val_index in kf.split(X_train_val, y_train_val):\n",
    "      X_train, X_val = X_train_val[train_index], X_train_val[val_index]\n",
    "      y_train, y_val = y_train_val[train_index], y_train_val[val_index]\n",
    "\n",
    "      # Perform feature selection on the training set\n",
    "      X_train_selected = feature_selector.fit_transform(X_train, y_train)\n",
    "      selected_features = feature_selector.get_support()\n",
    "\n",
    "      # Apply the same feature selection on the validation set\n",
    "      X_val_selected = X_val[:, selected_features]\n",
    "\n",
    "      # Fit the classifier on the selected features and evaluate on the validation set\n",
    "      classifier.fit(X_train_selected, y_train)\n",
    "      y_pred = classifier.predict(X_val_selected)\n",
    "      mcc = matthews_corrcoef(y_val, y_pred)\n",
    "      cv_scores.append(mcc)\n",
    "\n",
    "  # Calculate the average MCC\n",
    "  avg_mcc = np.mean(cv_scores)\n",
    "\n",
    "  if trial.should_prune()==False:\n",
    "    best_features = selected_features.copy()\n",
    "\n",
    "  return avg_mcc"
   ]
  },
  {
   "cell_type": "code",
   "execution_count": 128,
   "metadata": {
    "colab": {
     "base_uri": "https://localhost:8080/"
    },
    "id": "l0rBE8xJmbzb",
    "outputId": "787e8dde-b19e-488c-bfc6-4b2f2f3fa961"
   },
   "outputs": [
    {
     "name": "stderr",
     "output_type": "stream",
     "text": [
      "[I 2023-07-03 00:14:51,689] A new study created in memory with name: no-name-18fb86f6-e2e1-4719-8914-9c5fb0457794\n",
      "[I 2023-07-03 00:14:51,814] Trial 0 finished with value: 0.7259420468885343 and parameters: {'var_smoothing': 4.185822729546966e-08}. Best is trial 0 with value: 0.7259420468885343.\n",
      "[I 2023-07-03 00:14:51,920] Trial 1 finished with value: 0.7682738724400647 and parameters: {'var_smoothing': 0.0004518560951024107}. Best is trial 1 with value: 0.7682738724400647.\n",
      "[I 2023-07-03 00:14:52,023] Trial 2 finished with value: 0.7558929450625923 and parameters: {'var_smoothing': 1.3303245101522907e-05}. Best is trial 1 with value: 0.7682738724400647.\n",
      "[I 2023-07-03 00:14:52,126] Trial 3 finished with value: 0.7443542464200641 and parameters: {'var_smoothing': 1.5509913987594307e-06}. Best is trial 1 with value: 0.7682738724400647.\n",
      "[I 2023-07-03 00:14:52,237] Trial 4 finished with value: 0.7059538885176464 and parameters: {'var_smoothing': 1.2363188277052218e-09}. Best is trial 1 with value: 0.7682738724400647.\n",
      "[I 2023-07-03 00:14:52,340] Trial 5 finished with value: 0.7059538885176464 and parameters: {'var_smoothing': 1.2358382772306896e-09}. Best is trial 1 with value: 0.7682738724400647.\n",
      "[I 2023-07-03 00:14:52,443] Trial 6 finished with value: 0.7072519730937119 and parameters: {'var_smoothing': 2.5502648504032847e-10}. Best is trial 1 with value: 0.7682738724400647.\n",
      "[I 2023-07-03 00:14:52,546] Trial 7 finished with value: 0.7679630513404607 and parameters: {'var_smoothing': 0.00011567327199145979}. Best is trial 1 with value: 0.7682738724400647.\n",
      "[I 2023-07-03 00:14:52,650] Trial 8 finished with value: 0.7453219377412268 and parameters: {'var_smoothing': 1.6136341713591319e-06}. Best is trial 1 with value: 0.7682738724400647.\n",
      "[I 2023-07-03 00:14:52,753] Trial 9 finished with value: 0.7531546292544287 and parameters: {'var_smoothing': 9.047071957568391e-06}. Best is trial 1 with value: 0.7682738724400647.\n",
      "[I 2023-07-03 00:14:52,857] Trial 10 finished with value: 0.7044005131717757 and parameters: {'var_smoothing': 1.3934502251337584e-10}. Best is trial 1 with value: 0.7682738724400647.\n",
      "[I 2023-07-03 00:14:52,961] Trial 11 finished with value: 0.7682738724400647 and parameters: {'var_smoothing': 0.00061569973282352}. Best is trial 1 with value: 0.7682738724400647.\n",
      "[I 2023-07-03 00:14:53,065] Trial 12 finished with value: 0.7662167110894288 and parameters: {'var_smoothing': 6.715811311069945e-05}. Best is trial 1 with value: 0.7682738724400647.\n",
      "[I 2023-07-03 00:14:53,168] Trial 13 finished with value: 0.7091667360278558 and parameters: {'var_smoothing': 3.064599841241147e-09}. Best is trial 1 with value: 0.7682738724400647.\n",
      "[I 2023-07-03 00:14:53,272] Trial 14 finished with value: 0.7059538885176464 and parameters: {'var_smoothing': 1.874022368883631e-09}. Best is trial 1 with value: 0.7682738724400647.\n",
      "[I 2023-07-03 00:14:53,374] Trial 15 finished with value: 0.7059538885176464 and parameters: {'var_smoothing': 1.922346047064363e-09}. Best is trial 1 with value: 0.7682738724400647.\n",
      "[I 2023-07-03 00:14:53,477] Trial 16 finished with value: 0.7199231735534912 and parameters: {'var_smoothing': 1.3480180290890788e-08}. Best is trial 1 with value: 0.7682738724400647.\n",
      "[I 2023-07-03 00:14:53,580] Trial 17 finished with value: 0.7320816164537657 and parameters: {'var_smoothing': 4.7129737561107815e-07}. Best is trial 1 with value: 0.7682738724400647.\n",
      "[I 2023-07-03 00:14:53,684] Trial 18 finished with value: 0.7296203825079902 and parameters: {'var_smoothing': 1.0558813779064848e-07}. Best is trial 1 with value: 0.7682738724400647.\n",
      "[I 2023-07-03 00:14:53,787] Trial 19 finished with value: 0.7169624267609225 and parameters: {'var_smoothing': 1.0929592787219375e-08}. Best is trial 1 with value: 0.7682738724400647.\n",
      "[I 2023-07-03 00:14:53,890] Trial 20 finished with value: 0.7453219377412268 and parameters: {'var_smoothing': 1.9185373703841914e-06}. Best is trial 1 with value: 0.7682738724400647.\n",
      "[I 2023-07-03 00:14:53,995] Trial 21 finished with value: 0.7072519730937119 and parameters: {'var_smoothing': 9.472334467618544e-10}. Best is trial 1 with value: 0.7682738724400647.\n",
      "[I 2023-07-03 00:14:54,098] Trial 22 finished with value: 0.7169624267609225 and parameters: {'var_smoothing': 1.1092068418536174e-08}. Best is trial 1 with value: 0.7682738724400647.\n",
      "[I 2023-07-03 00:14:54,201] Trial 23 finished with value: 0.7250387804118771 and parameters: {'var_smoothing': 3.6688748954991754e-08}. Best is trial 1 with value: 0.7682738724400647.\n",
      "[I 2023-07-03 00:14:54,305] Trial 24 finished with value: 0.7316845531314984 and parameters: {'var_smoothing': 1.5577217702693015e-07}. Best is trial 1 with value: 0.7682738724400647.\n",
      "[I 2023-07-03 00:14:54,408] Trial 25 finished with value: 0.7619617148425466 and parameters: {'var_smoothing': 3.134958021096909e-05}. Best is trial 1 with value: 0.7682738724400647.\n",
      "[I 2023-07-03 00:14:54,511] Trial 26 finished with value: 0.7059538885176464 and parameters: {'var_smoothing': 2.4987135684669447e-09}. Best is trial 1 with value: 0.7682738724400647.\n",
      "[I 2023-07-03 00:14:54,614] Trial 27 finished with value: 0.7310765810403224 and parameters: {'var_smoothing': 3.97778283081119e-07}. Best is trial 1 with value: 0.7682738724400647.\n",
      "[I 2023-07-03 00:14:54,719] Trial 28 finished with value: 0.7401381222338839 and parameters: {'var_smoothing': 1.402497132660036e-06}. Best is trial 1 with value: 0.7682738724400647.\n",
      "[I 2023-07-03 00:14:54,822] Trial 29 finished with value: 0.7063634839820513 and parameters: {'var_smoothing': 2.1142332035497139e-10}. Best is trial 1 with value: 0.7682738724400647.\n",
      "[I 2023-07-03 00:14:54,924] Trial 30 finished with value: 0.7453219377412268 and parameters: {'var_smoothing': 1.7898389848671593e-06}. Best is trial 1 with value: 0.7682738724400647.\n",
      "[I 2023-07-03 00:14:55,029] Trial 31 finished with value: 0.7059538885176464 and parameters: {'var_smoothing': 1.5619562520792733e-09}. Best is trial 1 with value: 0.7682738724400647.\n",
      "[I 2023-07-03 00:14:55,131] Trial 32 finished with value: 0.7072519730937119 and parameters: {'var_smoothing': 2.853390105240223e-10}. Best is trial 1 with value: 0.7682738724400647.\n",
      "[I 2023-07-03 00:14:55,234] Trial 33 finished with value: 0.7682738724400647 and parameters: {'var_smoothing': 0.0004387314432435404}. Best is trial 1 with value: 0.7682738724400647.\n",
      "[I 2023-07-03 00:14:55,338] Trial 34 finished with value: 0.7682738724400647 and parameters: {'var_smoothing': 0.0005746775499181862}. Best is trial 1 with value: 0.7682738724400647.\n",
      "[I 2023-07-03 00:14:55,440] Trial 35 finished with value: 0.7640659029127463 and parameters: {'var_smoothing': 4.55807468402733e-05}. Best is trial 1 with value: 0.7682738724400647.\n",
      "[I 2023-07-03 00:14:55,543] Trial 36 finished with value: 0.7199231735534912 and parameters: {'var_smoothing': 1.3561145768453489e-08}. Best is trial 1 with value: 0.7682738724400647.\n",
      "[I 2023-07-03 00:14:55,645] Trial 37 finished with value: 0.7072519730937119 and parameters: {'var_smoothing': 4.827305651975699e-10}. Best is trial 1 with value: 0.7682738724400647.\n",
      "[I 2023-07-03 00:14:55,749] Trial 38 finished with value: 0.7510386380828102 and parameters: {'var_smoothing': 6.1607159527745434e-06}. Best is trial 1 with value: 0.7682738724400647.\n",
      "[I 2023-07-03 00:14:55,853] Trial 39 finished with value: 0.7306282270654851 and parameters: {'var_smoothing': 1.20522312541456e-07}. Best is trial 1 with value: 0.7682738724400647.\n",
      "[I 2023-07-03 00:14:55,955] Trial 40 finished with value: 0.7072519730937119 and parameters: {'var_smoothing': 7.149367864959178e-10}. Best is trial 1 with value: 0.7682738724400647.\n",
      "[I 2023-07-03 00:14:56,060] Trial 41 finished with value: 0.7313379654730584 and parameters: {'var_smoothing': 2.9257577949824413e-07}. Best is trial 1 with value: 0.7682738724400647.\n",
      "[I 2023-07-03 00:14:56,163] Trial 42 finished with value: 0.7063634839820513 and parameters: {'var_smoothing': 1.740682839312808e-10}. Best is trial 1 with value: 0.7682738724400647.\n",
      "[I 2023-07-03 00:14:56,265] Trial 43 finished with value: 0.768797314267913 and parameters: {'var_smoothing': 0.0002318690670290197}. Best is trial 43 with value: 0.768797314267913.\n",
      "[I 2023-07-03 00:14:56,369] Trial 44 finished with value: 0.7126123257677421 and parameters: {'var_smoothing': 6.478282331897327e-09}. Best is trial 43 with value: 0.768797314267913.\n"
     ]
    },
    {
     "name": "stderr",
     "output_type": "stream",
     "text": [
      "[I 2023-07-03 00:14:56,471] Trial 45 finished with value: 0.7478376892561618 and parameters: {'var_smoothing': 4.341661800361736e-06}. Best is trial 43 with value: 0.768797314267913.\n",
      "[I 2023-07-03 00:14:56,573] Trial 46 finished with value: 0.7209198773720541 and parameters: {'var_smoothing': 1.520468869219889e-08}. Best is trial 43 with value: 0.768797314267913.\n",
      "[I 2023-07-03 00:14:56,676] Trial 47 finished with value: 0.7310765810403224 and parameters: {'var_smoothing': 4.369946783595579e-07}. Best is trial 43 with value: 0.768797314267913.\n",
      "[I 2023-07-03 00:14:56,780] Trial 48 finished with value: 0.7361814958183797 and parameters: {'var_smoothing': 6.713854967599219e-07}. Best is trial 43 with value: 0.768797314267913.\n",
      "[I 2023-07-03 00:14:56,883] Trial 49 finished with value: 0.7059538885176464 and parameters: {'var_smoothing': 1.9678010532114953e-09}. Best is trial 43 with value: 0.768797314267913.\n",
      "[I 2023-07-03 00:14:56,985] Trial 50 finished with value: 0.7682738724400647 and parameters: {'var_smoothing': 0.0006124806805925976}. Best is trial 43 with value: 0.768797314267913.\n",
      "[I 2023-07-03 00:14:57,090] Trial 51 finished with value: 0.762338944339593 and parameters: {'var_smoothing': 2.666427400467686e-05}. Best is trial 43 with value: 0.768797314267913.\n",
      "[I 2023-07-03 00:14:57,192] Trial 52 finished with value: 0.7685662991951997 and parameters: {'var_smoothing': 0.00037713131110779903}. Best is trial 43 with value: 0.768797314267913.\n",
      "[I 2023-07-03 00:14:57,294] Trial 53 finished with value: 0.7702018933200778 and parameters: {'var_smoothing': 0.0001835656654435508}. Best is trial 53 with value: 0.7702018933200778.\n",
      "[I 2023-07-03 00:14:57,400] Trial 54 finished with value: 0.7422866190217403 and parameters: {'var_smoothing': 1.5321449415450716e-06}. Best is trial 53 with value: 0.7702018933200778.\n",
      "[I 2023-07-03 00:14:57,503] Trial 55 finished with value: 0.7677021612119688 and parameters: {'var_smoothing': 0.0002838700963443627}. Best is trial 53 with value: 0.7702018933200778.\n",
      "[I 2023-07-03 00:14:57,605] Trial 56 finished with value: 0.7072519730937119 and parameters: {'var_smoothing': 4.163394022669372e-10}. Best is trial 53 with value: 0.7702018933200778.\n",
      "[I 2023-07-03 00:14:57,709] Trial 57 finished with value: 0.7059538885176464 and parameters: {'var_smoothing': 2.3543988498504872e-09}. Best is trial 53 with value: 0.7702018933200778.\n",
      "[I 2023-07-03 00:14:57,812] Trial 58 finished with value: 0.7063634839820513 and parameters: {'var_smoothing': 2.0729604791291157e-10}. Best is trial 53 with value: 0.7702018933200778.\n",
      "[I 2023-07-03 00:14:57,914] Trial 59 finished with value: 0.7219259880135254 and parameters: {'var_smoothing': 1.893704954163126e-08}. Best is trial 53 with value: 0.7702018933200778.\n",
      "[I 2023-07-03 00:14:58,017] Trial 60 finished with value: 0.7259420468885343 and parameters: {'var_smoothing': 5.2570369292136696e-08}. Best is trial 53 with value: 0.7702018933200778.\n",
      "[I 2023-07-03 00:14:58,121] Trial 61 finished with value: 0.7141995533076158 and parameters: {'var_smoothing': 7.933105363733031e-09}. Best is trial 53 with value: 0.7702018933200778.\n",
      "[I 2023-07-03 00:14:58,224] Trial 62 finished with value: 0.7662167110894288 and parameters: {'var_smoothing': 6.326486185661583e-05}. Best is trial 53 with value: 0.7702018933200778.\n",
      "[I 2023-07-03 00:14:58,326] Trial 63 finished with value: 0.7250387804118771 and parameters: {'var_smoothing': 3.142485531883158e-08}. Best is trial 53 with value: 0.7702018933200778.\n",
      "[I 2023-07-03 00:14:58,431] Trial 64 finished with value: 0.7151780345627957 and parameters: {'var_smoothing': 9.258519973443778e-09}. Best is trial 53 with value: 0.7702018933200778.\n",
      "[I 2023-07-03 00:14:58,532] Trial 65 finished with value: 0.7361814958183797 and parameters: {'var_smoothing': 6.293215187893864e-07}. Best is trial 53 with value: 0.7702018933200778.\n",
      "[I 2023-07-03 00:14:58,635] Trial 66 finished with value: 0.7072519730937119 and parameters: {'var_smoothing': 9.693253593230319e-10}. Best is trial 53 with value: 0.7702018933200778.\n",
      "[I 2023-07-03 00:14:58,739] Trial 67 finished with value: 0.7640659029127463 and parameters: {'var_smoothing': 4.1245717727594184e-05}. Best is trial 53 with value: 0.7702018933200778.\n",
      "[I 2023-07-03 00:14:58,841] Trial 68 finished with value: 0.7072519730937119 and parameters: {'var_smoothing': 3.325481267274218e-10}. Best is trial 53 with value: 0.7702018933200778.\n",
      "[I 2023-07-03 00:14:58,944] Trial 69 finished with value: 0.7704805369822001 and parameters: {'var_smoothing': 0.0008094845352286139}. Best is trial 69 with value: 0.7704805369822001.\n",
      "[I 2023-07-03 00:14:59,047] Trial 70 finished with value: 0.7602325515348652 and parameters: {'var_smoothing': 2.545150013091292e-05}. Best is trial 69 with value: 0.7704805369822001.\n",
      "[I 2023-07-03 00:14:59,151] Trial 71 finished with value: 0.7059538885176464 and parameters: {'var_smoothing': 2.460422958018417e-09}. Best is trial 69 with value: 0.7704805369822001.\n",
      "[I 2023-07-03 00:14:59,253] Trial 72 finished with value: 0.7030995037949652 and parameters: {'var_smoothing': 1.0930872279404526e-10}. Best is trial 69 with value: 0.7704805369822001.\n",
      "[I 2023-07-03 00:14:59,355] Trial 73 finished with value: 0.7640659029127463 and parameters: {'var_smoothing': 5.107754312955834e-05}. Best is trial 69 with value: 0.7704805369822001.\n",
      "[I 2023-07-03 00:14:59,460] Trial 74 finished with value: 0.7531546292544287 and parameters: {'var_smoothing': 8.871588860587616e-06}. Best is trial 69 with value: 0.7704805369822001.\n",
      "[I 2023-07-03 00:14:59,563] Trial 75 finished with value: 0.7548681401296078 and parameters: {'var_smoothing': 1.267798332692875e-05}. Best is trial 69 with value: 0.7704805369822001.\n",
      "[I 2023-07-03 00:14:59,664] Trial 76 finished with value: 0.7602325515348652 and parameters: {'var_smoothing': 2.5054885755573557e-05}. Best is trial 69 with value: 0.7704805369822001.\n",
      "[I 2023-07-03 00:14:59,769] Trial 77 finished with value: 0.7072519730937119 and parameters: {'var_smoothing': 3.298470179752563e-10}. Best is trial 69 with value: 0.7704805369822001.\n",
      "[I 2023-07-03 00:14:59,871] Trial 78 finished with value: 0.7250387804118771 and parameters: {'var_smoothing': 3.2304282522409615e-08}. Best is trial 69 with value: 0.7704805369822001.\n",
      "[I 2023-07-03 00:14:59,973] Trial 79 finished with value: 0.7072519730937119 and parameters: {'var_smoothing': 6.472669269538624e-10}. Best is trial 69 with value: 0.7704805369822001.\n",
      "[I 2023-07-03 00:15:00,078] Trial 80 finished with value: 0.7668854963841454 and parameters: {'var_smoothing': 0.0001100839441018131}. Best is trial 69 with value: 0.7704805369822001.\n",
      "[I 2023-07-03 00:15:00,182] Trial 81 finished with value: 0.7452175689449438 and parameters: {'var_smoothing': 2.3072087378099e-06}. Best is trial 69 with value: 0.7704805369822001.\n",
      "[I 2023-07-03 00:15:00,284] Trial 82 finished with value: 0.7219259880135254 and parameters: {'var_smoothing': 2.0715058970816234e-08}. Best is trial 69 with value: 0.7704805369822001.\n",
      "[I 2023-07-03 00:15:00,387] Trial 83 finished with value: 0.7072519730937119 and parameters: {'var_smoothing': 2.785533924389101e-10}. Best is trial 69 with value: 0.7704805369822001.\n",
      "[I 2023-07-03 00:15:00,491] Trial 84 finished with value: 0.7209198773720541 and parameters: {'var_smoothing': 1.5027137214154533e-08}. Best is trial 69 with value: 0.7704805369822001.\n",
      "[I 2023-07-03 00:15:00,594] Trial 85 finished with value: 0.7219259880135254 and parameters: {'var_smoothing': 1.889223130553437e-08}. Best is trial 69 with value: 0.7704805369822001.\n",
      "[I 2023-07-03 00:15:00,696] Trial 86 finished with value: 0.7558929450625923 and parameters: {'var_smoothing': 1.2800980864220754e-05}. Best is trial 69 with value: 0.7704805369822001.\n",
      "[I 2023-07-03 00:15:00,800] Trial 87 finished with value: 0.747186006191432 and parameters: {'var_smoothing': 2.9033694281285623e-06}. Best is trial 69 with value: 0.7704805369822001.\n",
      "[I 2023-07-03 00:15:00,903] Trial 88 finished with value: 0.7690582043964049 and parameters: {'var_smoothing': 0.00016236379661338317}. Best is trial 69 with value: 0.7704805369822001.\n",
      "[I 2023-07-03 00:15:01,006] Trial 89 finished with value: 0.7328194783359002 and parameters: {'var_smoothing': 2.0207122587167362e-07}. Best is trial 69 with value: 0.7704805369822001.\n"
     ]
    },
    {
     "name": "stderr",
     "output_type": "stream",
     "text": [
      "[I 2023-07-03 00:15:01,109] Trial 90 finished with value: 0.7072519730937119 and parameters: {'var_smoothing': 6.873211713642716e-10}. Best is trial 69 with value: 0.7704805369822001.\n",
      "[I 2023-07-03 00:15:01,214] Trial 91 finished with value: 0.7531546292544287 and parameters: {'var_smoothing': 9.833622008382918e-06}. Best is trial 69 with value: 0.7704805369822001.\n",
      "[I 2023-07-03 00:15:01,316] Trial 92 finished with value: 0.7602325515348652 and parameters: {'var_smoothing': 2.1159009829538346e-05}. Best is trial 69 with value: 0.7704805369822001.\n",
      "[I 2023-07-03 00:15:01,419] Trial 93 finished with value: 0.7372036560135655 and parameters: {'var_smoothing': 8.490639132761158e-07}. Best is trial 69 with value: 0.7704805369822001.\n",
      "[I 2023-07-03 00:15:01,523] Trial 94 finished with value: 0.7602325515348652 and parameters: {'var_smoothing': 2.4932754437140142e-05}. Best is trial 69 with value: 0.7704805369822001.\n",
      "[I 2023-07-03 00:15:01,627] Trial 95 finished with value: 0.7313379654730584 and parameters: {'var_smoothing': 2.861338079089885e-07}. Best is trial 69 with value: 0.7704805369822001.\n",
      "[I 2023-07-03 00:15:01,729] Trial 96 finished with value: 0.7320816164537657 and parameters: {'var_smoothing': 4.5617324056306345e-07}. Best is trial 69 with value: 0.7704805369822001.\n",
      "[I 2023-07-03 00:15:01,835] Trial 97 finished with value: 0.7296203825079902 and parameters: {'var_smoothing': 9.835289062589968e-08}. Best is trial 69 with value: 0.7704805369822001.\n",
      "[I 2023-07-03 00:15:01,937] Trial 98 finished with value: 0.7044005131717757 and parameters: {'var_smoothing': 1.5063777323554432e-10}. Best is trial 69 with value: 0.7704805369822001.\n",
      "[I 2023-07-03 00:15:02,040] Trial 99 finished with value: 0.7072519730937119 and parameters: {'var_smoothing': 5.691673629899875e-10}. Best is trial 69 with value: 0.7704805369822001.\n"
     ]
    }
   ],
   "source": [
    "# Define the Optuna study\n",
    "study = optuna.create_study(direction='maximize', sampler=RandomSampler(seed=42))\n",
    "study.optimize(objective_GNB, n_trials=100)"
   ]
  },
  {
   "cell_type": "code",
   "execution_count": 129,
   "metadata": {
    "id": "kcR7mOoOmbzb"
   },
   "outputs": [],
   "source": [
    "# Get the best hyperparameters from Optuna\n",
    "best_params = study.best_params"
   ]
  },
  {
   "cell_type": "code",
   "execution_count": 130,
   "metadata": {
    "colab": {
     "base_uri": "https://localhost:8080/"
    },
    "id": "I7hiNJG0mbzb",
    "outputId": "1e37cf83-6050-4b41-d21c-d40de0275798"
   },
   "outputs": [
    {
     "data": {
      "text/plain": [
       "{'var_smoothing': 0.0008094845352286139}"
      ]
     },
     "execution_count": 130,
     "metadata": {},
     "output_type": "execute_result"
    }
   ],
   "source": [
    "best_params"
   ]
  },
  {
   "cell_type": "code",
   "execution_count": 131,
   "metadata": {
    "colab": {
     "base_uri": "https://localhost:8080/"
    },
    "id": "uMZJVa6Vmbzc",
    "outputId": "af859bf1-36c2-43d3-eb73-8b46b190eb43"
   },
   "outputs": [
    {
     "data": {
      "text/plain": [
       "array([ True, False,  True, ..., False, False, False])"
      ]
     },
     "execution_count": 131,
     "metadata": {},
     "output_type": "execute_result"
    }
   ],
   "source": [
    "best_features"
   ]
  },
  {
   "attachments": {},
   "cell_type": "markdown",
   "metadata": {
    "id": "80ABmQwBmbzc"
   },
   "source": [
    "#### Get best parameters and make predictions"
   ]
  },
  {
   "cell_type": "code",
   "execution_count": 132,
   "metadata": {
    "id": "lBHvjRTKmbzc"
   },
   "outputs": [],
   "source": [
    "selected_features_indices = [i for i, value in enumerate(best_features) if value]\n",
    "X_test_selected = X_test[:, selected_features_indices]"
   ]
  },
  {
   "cell_type": "code",
   "execution_count": 133,
   "metadata": {
    "id": "wtdjcUAhmbzc"
   },
   "outputs": [],
   "source": [
    "X_train_val_selected_final_features = X_train_val[:, selected_features_indices]"
   ]
  },
  {
   "cell_type": "code",
   "execution_count": 134,
   "metadata": {
    "colab": {
     "base_uri": "https://localhost:8080/"
    },
    "id": "vQOSW3Dambzc",
    "outputId": "774899b5-6106-4e73-bdcc-0e0e4532bc49"
   },
   "outputs": [
    {
     "data": {
      "text/plain": [
       "(286, 300)"
      ]
     },
     "execution_count": 134,
     "metadata": {},
     "output_type": "execute_result"
    }
   ],
   "source": [
    "X_test_selected.shape"
   ]
  },
  {
   "cell_type": "code",
   "execution_count": 135,
   "metadata": {
    "id": "Rtr42gDambzd"
   },
   "outputs": [],
   "source": [
    "#best_classifier_XG = XGBClassifier(eta=0.9998923071077181,gamma=0.48062735928448386,min_child_weight=0.9165527129072861,max_delta_step=9,subsample=0.9036565255711814)\n",
    "best_classifier_GNB = GaussianNB(**best_params)"
   ]
  },
  {
   "cell_type": "code",
   "execution_count": 136,
   "metadata": {
    "colab": {
     "base_uri": "https://localhost:8080/",
     "height": 74
    },
    "id": "VXdvn1G5mbzd",
    "outputId": "660b96a8-ff6c-4e12-d89f-f0c4657d21c5"
   },
   "outputs": [
    {
     "data": {
      "text/html": [
       "<style>#sk-container-id-5 {color: black;}#sk-container-id-5 pre{padding: 0;}#sk-container-id-5 div.sk-toggleable {background-color: white;}#sk-container-id-5 label.sk-toggleable__label {cursor: pointer;display: block;width: 100%;margin-bottom: 0;padding: 0.3em;box-sizing: border-box;text-align: center;}#sk-container-id-5 label.sk-toggleable__label-arrow:before {content: \"▸\";float: left;margin-right: 0.25em;color: #696969;}#sk-container-id-5 label.sk-toggleable__label-arrow:hover:before {color: black;}#sk-container-id-5 div.sk-estimator:hover label.sk-toggleable__label-arrow:before {color: black;}#sk-container-id-5 div.sk-toggleable__content {max-height: 0;max-width: 0;overflow: hidden;text-align: left;background-color: #f0f8ff;}#sk-container-id-5 div.sk-toggleable__content pre {margin: 0.2em;color: black;border-radius: 0.25em;background-color: #f0f8ff;}#sk-container-id-5 input.sk-toggleable__control:checked~div.sk-toggleable__content {max-height: 200px;max-width: 100%;overflow: auto;}#sk-container-id-5 input.sk-toggleable__control:checked~label.sk-toggleable__label-arrow:before {content: \"▾\";}#sk-container-id-5 div.sk-estimator input.sk-toggleable__control:checked~label.sk-toggleable__label {background-color: #d4ebff;}#sk-container-id-5 div.sk-label input.sk-toggleable__control:checked~label.sk-toggleable__label {background-color: #d4ebff;}#sk-container-id-5 input.sk-hidden--visually {border: 0;clip: rect(1px 1px 1px 1px);clip: rect(1px, 1px, 1px, 1px);height: 1px;margin: -1px;overflow: hidden;padding: 0;position: absolute;width: 1px;}#sk-container-id-5 div.sk-estimator {font-family: monospace;background-color: #f0f8ff;border: 1px dotted black;border-radius: 0.25em;box-sizing: border-box;margin-bottom: 0.5em;}#sk-container-id-5 div.sk-estimator:hover {background-color: #d4ebff;}#sk-container-id-5 div.sk-parallel-item::after {content: \"\";width: 100%;border-bottom: 1px solid gray;flex-grow: 1;}#sk-container-id-5 div.sk-label:hover label.sk-toggleable__label {background-color: #d4ebff;}#sk-container-id-5 div.sk-serial::before {content: \"\";position: absolute;border-left: 1px solid gray;box-sizing: border-box;top: 0;bottom: 0;left: 50%;z-index: 0;}#sk-container-id-5 div.sk-serial {display: flex;flex-direction: column;align-items: center;background-color: white;padding-right: 0.2em;padding-left: 0.2em;position: relative;}#sk-container-id-5 div.sk-item {position: relative;z-index: 1;}#sk-container-id-5 div.sk-parallel {display: flex;align-items: stretch;justify-content: center;background-color: white;position: relative;}#sk-container-id-5 div.sk-item::before, #sk-container-id-5 div.sk-parallel-item::before {content: \"\";position: absolute;border-left: 1px solid gray;box-sizing: border-box;top: 0;bottom: 0;left: 50%;z-index: -1;}#sk-container-id-5 div.sk-parallel-item {display: flex;flex-direction: column;z-index: 1;position: relative;background-color: white;}#sk-container-id-5 div.sk-parallel-item:first-child::after {align-self: flex-end;width: 50%;}#sk-container-id-5 div.sk-parallel-item:last-child::after {align-self: flex-start;width: 50%;}#sk-container-id-5 div.sk-parallel-item:only-child::after {width: 0;}#sk-container-id-5 div.sk-dashed-wrapped {border: 1px dashed gray;margin: 0 0.4em 0.5em 0.4em;box-sizing: border-box;padding-bottom: 0.4em;background-color: white;}#sk-container-id-5 div.sk-label label {font-family: monospace;font-weight: bold;display: inline-block;line-height: 1.2em;}#sk-container-id-5 div.sk-label-container {text-align: center;}#sk-container-id-5 div.sk-container {/* jupyter's `normalize.less` sets `[hidden] { display: none; }` but bootstrap.min.css set `[hidden] { display: none !important; }` so we also need the `!important` here to be able to override the default hidden behavior on the sphinx rendered scikit-learn.org. See: https://github.com/scikit-learn/scikit-learn/issues/21755 */display: inline-block !important;position: relative;}#sk-container-id-5 div.sk-text-repr-fallback {display: none;}</style><div id=\"sk-container-id-5\" class=\"sk-top-container\"><div class=\"sk-text-repr-fallback\"><pre>GaussianNB(var_smoothing=0.0008094845352286139)</pre><b>In a Jupyter environment, please rerun this cell to show the HTML representation or trust the notebook. <br />On GitHub, the HTML representation is unable to render, please try loading this page with nbviewer.org.</b></div><div class=\"sk-container\" hidden><div class=\"sk-item\"><div class=\"sk-estimator sk-toggleable\"><input class=\"sk-toggleable__control sk-hidden--visually\" id=\"sk-estimator-id-5\" type=\"checkbox\" checked><label for=\"sk-estimator-id-5\" class=\"sk-toggleable__label sk-toggleable__label-arrow\">GaussianNB</label><div class=\"sk-toggleable__content\"><pre>GaussianNB(var_smoothing=0.0008094845352286139)</pre></div></div></div></div></div>"
      ],
      "text/plain": [
       "GaussianNB(var_smoothing=0.0008094845352286139)"
      ]
     },
     "execution_count": 136,
     "metadata": {},
     "output_type": "execute_result"
    }
   ],
   "source": [
    "best_classifier_GNB.fit(X_train_val_selected_final_features, y_train_val)"
   ]
  },
  {
   "cell_type": "code",
   "execution_count": 137,
   "metadata": {
    "id": "G9FDx7lZmbzd"
   },
   "outputs": [],
   "source": [
    "y_test_pred = best_classifier_GNB.predict(X_test_selected)"
   ]
  },
  {
   "cell_type": "code",
   "execution_count": 138,
   "metadata": {
    "id": "vdIWRE5Hmbzd"
   },
   "outputs": [],
   "source": [
    "#Validate the model  using balanced_acc, precision,recall and f1\n",
    "balanced_acc_GNB= balanced_accuracy_score(y_test, y_test_pred)\n",
    "precision_GNB = precision_score(y_test, y_test_pred,average='weighted')\n",
    "recall_GNB = recall_score(y_test, y_test_pred,average='weighted')\n",
    "f1_GNB = f1_score(y_test, y_test_pred,average='weighted')"
   ]
  },
  {
   "cell_type": "code",
   "execution_count": 139,
   "metadata": {
    "colab": {
     "base_uri": "https://localhost:8080/"
    },
    "id": "Spq0S0vzmbzd",
    "outputId": "deb1415d-7be6-4d1a-8f4f-eb24c6e048f0"
   },
   "outputs": [
    {
     "data": {
      "text/plain": [
       "0.8946032066176154"
      ]
     },
     "execution_count": 139,
     "metadata": {},
     "output_type": "execute_result"
    }
   ],
   "source": [
    "balanced_acc_GNB"
   ]
  },
  {
   "cell_type": "code",
   "execution_count": 140,
   "metadata": {
    "colab": {
     "base_uri": "https://localhost:8080/"
    },
    "id": "yG71AP_fmbze",
    "outputId": "f51ea004-87c2-4344-d2b9-c61e5aad2de7"
   },
   "outputs": [
    {
     "data": {
      "text/plain": [
       "0.888048257058469"
      ]
     },
     "execution_count": 140,
     "metadata": {},
     "output_type": "execute_result"
    }
   ],
   "source": [
    "precision_GNB"
   ]
  },
  {
   "cell_type": "code",
   "execution_count": 141,
   "metadata": {
    "colab": {
     "base_uri": "https://localhost:8080/"
    },
    "id": "bIDKO0qOmbze",
    "outputId": "1acf821b-b9a0-4c2f-b785-fc7681af3d7d"
   },
   "outputs": [
    {
     "data": {
      "text/plain": [
       "0.8811188811188811"
      ]
     },
     "execution_count": 141,
     "metadata": {},
     "output_type": "execute_result"
    }
   ],
   "source": [
    "recall_GNB"
   ]
  },
  {
   "cell_type": "code",
   "execution_count": 142,
   "metadata": {
    "colab": {
     "base_uri": "https://localhost:8080/"
    },
    "id": "P_VO6HAPmbze",
    "outputId": "242a0315-6292-45e7-ff89-a11d757acb76"
   },
   "outputs": [
    {
     "data": {
      "text/plain": [
       "0.8818557304062268"
      ]
     },
     "execution_count": 142,
     "metadata": {},
     "output_type": "execute_result"
    }
   ],
   "source": [
    "f1_GNB"
   ]
  },
  {
   "cell_type": "code",
   "execution_count": 143,
   "metadata": {
    "colab": {
     "base_uri": "https://localhost:8080/"
    },
    "id": "-6GIQUlsmbze",
    "outputId": "ce11b75c-6383-4e21-ae30-84875ddc5144"
   },
   "outputs": [
    {
     "data": {
      "text/plain": [
       "array([0, 0, 1, 2, 0, 0, 0, 0, 1, 2, 3, 2, 2, 1, 1, 3, 3, 1, 2, 3, 3, 2,\n",
       "       0, 0, 3, 0, 1, 2, 0, 2, 3, 3, 1, 0, 2, 0, 3, 3, 2, 1, 3, 3, 3, 3,\n",
       "       0, 2, 3, 0, 2, 2, 2, 0, 2, 0, 0, 0, 3, 1, 0, 2, 0, 1, 2, 0, 0, 2,\n",
       "       2, 2, 2, 0, 1, 0, 1, 3, 0, 0, 2, 2, 2, 0, 2, 1, 3, 0, 1, 3, 1, 1,\n",
       "       2, 2, 1, 0, 3, 2, 0, 1, 0, 2, 1, 2, 1, 3, 0, 2, 0, 1, 3, 2, 1, 0,\n",
       "       0, 2, 3, 3, 0, 0, 2, 1, 2, 0, 1, 1, 0, 3, 1, 1, 2, 2, 3, 3, 0, 0,\n",
       "       3, 0, 0, 0, 0, 3, 0, 3, 3, 0, 1, 3, 3, 2, 2, 0, 3, 3, 2, 0, 0, 2,\n",
       "       2, 1, 0, 3, 0, 2, 2, 1, 2, 0, 3, 1, 2, 2, 0, 2, 0, 3, 3, 2, 0, 1,\n",
       "       0, 0, 0, 0, 2, 2, 0, 2, 0, 3, 1, 0, 0, 0, 3, 2, 1, 1, 3, 1, 0, 0,\n",
       "       3, 2, 0, 3, 3, 1, 2, 0, 0, 0, 2, 0, 2, 0, 3, 1, 0, 3, 2, 3, 0, 3,\n",
       "       0, 0, 0, 1, 0, 2, 0, 1, 0, 0, 3, 0, 3, 1, 3, 2, 3, 1, 2, 3, 0, 1,\n",
       "       0, 0, 0, 0, 0, 1, 0, 0, 0, 0, 2, 0, 0, 0, 3, 2, 0, 0, 2, 3, 0, 0,\n",
       "       0, 0, 0, 0, 0, 0, 1, 0, 2, 0, 1, 1, 0, 2, 0, 3, 0, 0, 0, 0, 1, 2])"
      ]
     },
     "execution_count": 143,
     "metadata": {},
     "output_type": "execute_result"
    }
   ],
   "source": [
    "y_test_pred"
   ]
  },
  {
   "cell_type": "code",
   "execution_count": 144,
   "metadata": {
    "colab": {
     "base_uri": "https://localhost:8080/"
    },
    "id": "D9QZNFf5mbze",
    "outputId": "b8a58154-89aa-4385-daea-10e3bea1ce3a"
   },
   "outputs": [
    {
     "data": {
      "text/plain": [
       "array([0, 0, 1, 2, 0, 0, 0, 0, 1, 0, 0, 2, 2, 1, 1, 3, 3, 1, 2, 3, 3, 0,\n",
       "       0, 0, 3, 0, 1, 2, 0, 0, 3, 3, 2, 0, 0, 0, 1, 3, 2, 1, 3, 0, 3, 3,\n",
       "       0, 2, 3, 1, 2, 2, 2, 0, 2, 0, 0, 0, 0, 1, 0, 2, 0, 1, 2, 0, 0, 2,\n",
       "       2, 2, 0, 0, 1, 0, 1, 3, 0, 0, 2, 0, 0, 1, 0, 1, 0, 2, 1, 3, 1, 1,\n",
       "       2, 0, 1, 0, 3, 2, 0, 1, 0, 2, 1, 2, 1, 3, 0, 2, 0, 1, 3, 2, 1, 0,\n",
       "       0, 2, 2, 3, 0, 0, 0, 1, 2, 0, 1, 3, 0, 3, 1, 1, 2, 2, 3, 3, 0, 0,\n",
       "       3, 0, 0, 0, 0, 3, 0, 3, 3, 0, 2, 3, 3, 2, 2, 0, 3, 2, 2, 0, 0, 2,\n",
       "       2, 1, 0, 3, 0, 2, 2, 1, 2, 0, 3, 1, 2, 2, 0, 2, 0, 3, 3, 2, 0, 1,\n",
       "       0, 1, 0, 0, 2, 2, 0, 2, 0, 0, 1, 0, 0, 0, 3, 2, 1, 2, 3, 1, 0, 0,\n",
       "       3, 2, 0, 3, 3, 1, 0, 2, 0, 0, 2, 0, 2, 0, 3, 1, 0, 3, 2, 3, 0, 3,\n",
       "       0, 0, 0, 1, 0, 2, 0, 1, 0, 0, 0, 0, 3, 1, 2, 1, 3, 1, 2, 3, 0, 1,\n",
       "       1, 0, 0, 0, 0, 1, 0, 0, 0, 0, 2, 0, 0, 0, 3, 2, 0, 0, 0, 3, 0, 0,\n",
       "       0, 0, 0, 0, 0, 0, 1, 0, 2, 0, 1, 1, 0, 0, 0, 3, 0, 0, 0, 0, 1, 2])"
      ]
     },
     "execution_count": 144,
     "metadata": {},
     "output_type": "execute_result"
    }
   ],
   "source": [
    "y_test"
   ]
  },
  {
   "attachments": {},
   "cell_type": "markdown",
   "metadata": {
    "id": "adgjIoxk50RL"
   },
   "source": [
    "# MRMR for feature selection"
   ]
  },
  {
   "attachments": {},
   "cell_type": "markdown",
   "metadata": {
    "id": "Cq_7zfHB55NT"
   },
   "source": [
    "## SVC\n",
    "\n"
   ]
  },
  {
   "attachments": {},
   "cell_type": "markdown",
   "metadata": {
    "id": "Ic3PxNai55NU"
   },
   "source": [
    "#### Cross val for hyperparameter tunning and feature selection"
   ]
  },
  {
   "cell_type": "code",
   "execution_count": 145,
   "metadata": {
    "id": "vquuRCCW55NU"
   },
   "outputs": [],
   "source": [
    "# Define the number of folds for cross-validation\n",
    "n_folds = 5"
   ]
  },
  {
   "cell_type": "code",
   "execution_count": 148,
   "metadata": {
    "id": "AwpamdziSol5"
   },
   "outputs": [],
   "source": [
    "def perform_feature_selection(X_train_val, y_train_val):\n",
    "    X_train_features, X_hyperparam_opt, y_train_features, y_hyperparam_opt = train_test_split(X_train_val, y_train_val, train_size=0.30, random_state=42)\n",
    "    # Perform feature selection on X_train_val\n",
    "    X_train_val_df = pd.DataFrame(X_train_features)\n",
    "    y_train_val_df = pd.DataFrame(y_train_features)\n",
    "    X_hyperparam_opt = pd.DataFrame(X_hyperparam_opt)\n",
    "    y_hyperparam_opt = pd.DataFrame(y_hyperparam_opt)\n",
    "    selected_features = mrmr_classif(X_train_val_df, y_train_val_df, K=300)\n",
    "    X_train_val_selected = X_hyperparam_opt.loc[:, selected_features]\n",
    "\n",
    "    return X_train_val_selected, y_hyperparam_opt,selected_features"
   ]
  },
  {
   "cell_type": "code",
   "execution_count": 149,
   "metadata": {
    "id": "sK4zjdyFWlnJ"
   },
   "outputs": [],
   "source": [
    "def objective_SVC(trial, X_hyperparam_opt, y_hyperparam_opt,selected_features):\n",
    "    # Define the hyperparameters to be optimized\n",
    "    C = trial.suggest_float('C', 0.1, 10)\n",
    "    gamma = trial.suggest_float('gamma', 0.01, 1)\n",
    "    kernel = trial.suggest_categorical('kernel', ['linear', 'poly', 'rbf', 'sigmoid'])\n",
    "    degree = trial.suggest_int('degree', 2, 10)\n",
    "\n",
    "    # Instantiate the classifier with the current hyperparameters\n",
    "    classifier = SVC(C=C, gamma=gamma, kernel=kernel, degree=degree)\n",
    "\n",
    "    # Perform cross-validation on the selected features\n",
    "    kf = StratifiedKFold(n_splits=n_folds, shuffle=True, random_state=42)\n",
    "    cv_scores = []\n",
    "\n",
    "    for train_index, val_index in kf.split(X_hyperparam_opt, y_hyperparam_opt):\n",
    "        #X_train, X_val = X_hyperparam_opt[train_index], X_hyperparam_opt[val_index]\n",
    "        #y_train, y_val = y_hyperparam_opt[train_index], y_hyperparam_opt[val_index]\n",
    "        X_train, X_val = X_hyperparam_opt.iloc[train_index], X_hyperparam_opt.iloc[val_index]\n",
    "        y_train, y_val = y_hyperparam_opt.iloc[train_index], y_hyperparam_opt.iloc[val_index]\n",
    "\n",
    "        # Fit the classifier on the selected features and evaluate on the validation set\n",
    "        classifier.fit(X_train, y_train)\n",
    "        y_pred = classifier.predict(X_val)\n",
    "        mcc = matthews_corrcoef(y_val, y_pred)\n",
    "        cv_scores.append(mcc)\n",
    "\n",
    "    # Calculate the average MCC\n",
    "    avg_mcc = np.mean(cv_scores)\n",
    "\n",
    "    return avg_mcc"
   ]
  },
  {
   "cell_type": "code",
   "execution_count": 150,
   "metadata": {
    "colab": {
     "base_uri": "https://localhost:8080/"
    },
    "id": "VMHwr1xXS4w6",
    "outputId": "bc8e6e31-4cae-4378-a214-3a4ffe7529ff"
   },
   "outputs": [
    {
     "name": "stderr",
     "output_type": "stream",
     "text": [
      "100%|█████████████████████████████████████████| 300/300 [00:58<00:00,  5.13it/s]\n"
     ]
    }
   ],
   "source": [
    "# Perform feature selection\n",
    "X_hyperparam_opt, y_hyperparam_opt,selected_features = perform_feature_selection(X_train_val, y_train_val)"
   ]
  },
  {
   "cell_type": "code",
   "execution_count": 151,
   "metadata": {
    "id": "wkemfnaAS8lu"
   },
   "outputs": [],
   "source": [
    "# Define the objective function with selected features\n",
    "def objective(trial):\n",
    "    return objective_SVC(trial, X_hyperparam_opt, y_hyperparam_opt,selected_features)"
   ]
  },
  {
   "cell_type": "code",
   "execution_count": 152,
   "metadata": {
    "colab": {
     "base_uri": "https://localhost:8080/"
    },
    "id": "AeaUX7t5S9j3",
    "outputId": "64238fe6-ce39-4feb-91f5-cadee4d01718"
   },
   "outputs": [
    {
     "name": "stderr",
     "output_type": "stream",
     "text": [
      "[I 2023-07-03 00:16:02,143] A new study created in memory with name: no-name-c1ab909b-6867-4c1e-9eb0-293e37fe4d4b\n",
      "[I 2023-07-03 00:16:02,836] Trial 0 finished with value: 0.8301557198787085 and parameters: {'C': 3.807947176588889, 'gamma': 0.951207163345817, 'kernel': 'linear', 'degree': 2}. Best is trial 0 with value: 0.8301557198787085.\n",
      "[I 2023-07-03 00:16:04,524] Trial 1 finished with value: 0.0 and parameters: {'C': 8.675143843171858, 'gamma': 0.6051038616257767, 'kernel': 'rbf', 'degree': 3}. Best is trial 0 with value: 0.8301557198787085.\n",
      "[I 2023-07-03 00:16:05,889] Trial 2 finished with value: 0.09064373854007914 and parameters: {'C': 1.9000671753502962, 'gamma': 0.1915704647548995, 'kernel': 'poly', 'degree': 7}. Best is trial 0 with value: 0.8301557198787085.\n",
      "[I 2023-07-03 00:16:07,525] Trial 3 finished with value: 0.0 and parameters: {'C': 1.4809892204552142, 'gamma': 0.29922320204986597, 'kernel': 'rbf', 'degree': 6}. Best is trial 0 with value: 0.8301557198787085.\n",
      "[I 2023-07-03 00:16:08,115] Trial 4 finished with value: 0.36004689921683863 and parameters: {'C': 5.96490423173422, 'gamma': 0.05598590859279775, 'kernel': 'sigmoid', 'degree': 10}. Best is trial 0 with value: 0.8301557198787085.\n",
      "[I 2023-07-03 00:16:09,477] Trial 5 finished with value: 0.1581327757683227 and parameters: {'C': 8.103133746352965, 'gamma': 0.31156763148163696, 'kernel': 'poly', 'degree': 6}. Best is trial 0 with value: 0.8301557198787085.\n",
      "[I 2023-07-03 00:16:10,841] Trial 6 finished with value: 0.1581327757683227 and parameters: {'C': 0.4404463590406621, 'gamma': 0.9102271980579942, 'kernel': 'poly', 'degree': 6}. Best is trial 0 with value: 0.8301557198787085.\n",
      "[I 2023-07-03 00:16:12,179] Trial 7 finished with value: 0.03333452313605538 and parameters: {'C': 1.9300591097027178, 'gamma': 0.9698887814869129, 'kernel': 'poly', 'degree': 10}. Best is trial 0 with value: 0.8301557198787085.\n",
      "[I 2023-07-03 00:16:13,788] Trial 8 finished with value: 0.0 and parameters: {'C': 0.976075770314003, 'gamma': 0.20402303379495376, 'kernel': 'rbf', 'degree': 9}. Best is trial 0 with value: 0.8301557198787085.\n",
      "[I 2023-07-03 00:16:15,427] Trial 9 finished with value: 0.0 and parameters: {'C': 3.631857934266534, 'gamma': 0.28812516459050697, 'kernel': 'rbf', 'degree': 10}. Best is trial 0 with value: 0.8301557198787085.\n",
      "[I 2023-07-03 00:16:16,798] Trial 10 finished with value: 0.04965046901720146 and parameters: {'C': 7.7452232160369086, 'gamma': 0.2067285247188307, 'kernel': 'poly', 'degree': 8}. Best is trial 0 with value: 0.8301557198787085.\n",
      "[I 2023-07-03 00:16:18,073] Trial 11 finished with value: 0.6453575074203344 and parameters: {'C': 0.8330420521674946, 'gamma': 0.3648810712588299, 'kernel': 'poly', 'degree': 2}. Best is trial 0 with value: 0.8301557198787085.\n",
      "[I 2023-07-03 00:16:19,709] Trial 12 finished with value: 0.0 and parameters: {'C': 3.178724984985056, 'gamma': 0.3319314888064796, 'kernel': 'rbf', 'degree': 3}. Best is trial 0 with value: 0.8301557198787085.\n",
      "[I 2023-07-03 00:16:21,073] Trial 13 finished with value: 0.20013888850338182 and parameters: {'C': 7.16112339350765, 'gamma': 0.7631771981307285, 'kernel': 'poly', 'degree': 5}. Best is trial 0 with value: 0.8301557198787085.\n",
      "[I 2023-07-03 00:16:22,444] Trial 14 finished with value: 0.03333452313605538 and parameters: {'C': 0.35164935476654235, 'gamma': 0.1168125127233714, 'kernel': 'poly', 'degree': 10}. Best is trial 0 with value: 0.8301557198787085.\n",
      "[I 2023-07-03 00:16:23,129] Trial 15 finished with value: 0.8301557198787085 and parameters: {'C': 2.567993068573862, 'gamma': 0.41627909380527345, 'kernel': 'linear', 'degree': 3}. Best is trial 0 with value: 0.8301557198787085.\n",
      "[I 2023-07-03 00:16:24,468] Trial 16 finished with value: 0.03333452313605538 and parameters: {'C': 9.304006758191473, 'gamma': 0.8100391757687728, 'kernel': 'poly', 'degree': 10}. Best is trial 0 with value: 0.8301557198787085.\n",
      "[I 2023-07-03 00:16:25,151] Trial 17 finished with value: 0.8301557198787085 and parameters: {'C': 5.439488194964942, 'gamma': 0.8093657536124219, 'kernel': 'linear', 'degree': 5}. Best is trial 0 with value: 0.8301557198787085.\n",
      "[I 2023-07-03 00:16:26,452] Trial 18 finished with value: 0.5203817140484335 and parameters: {'C': 8.198346182632681, 'gamma': 0.86212327742378, 'kernel': 'poly', 'degree': 3}. Best is trial 0 with value: 0.8301557198787085.\n",
      "[I 2023-07-03 00:16:28,114] Trial 19 finished with value: 0.0 and parameters: {'C': 3.442390196895917, 'gamma': 0.943480606873394, 'kernel': 'rbf', 'degree': 10}. Best is trial 0 with value: 0.8301557198787085.\n",
      "[I 2023-07-03 00:16:28,803] Trial 20 finished with value: 0.8301557198787085 and parameters: {'C': 9.628228219926902, 'gamma': 0.2592644728671105, 'kernel': 'linear', 'degree': 7}. Best is trial 0 with value: 0.8301557198787085.\n",
      "[I 2023-07-03 00:16:30,168] Trial 21 finished with value: 0.1581327757683227 and parameters: {'C': 5.076522329965728, 'gamma': 0.06096396373748946, 'kernel': 'poly', 'degree': 6}. Best is trial 0 with value: 0.8301557198787085.\n",
      "[I 2023-07-03 00:16:31,523] Trial 22 finished with value: 0.20013888850338182 and parameters: {'C': 9.857939495694946, 'gamma': 0.2496347187963854, 'kernel': 'poly', 'degree': 5}. Best is trial 0 with value: 0.8301557198787085.\n",
      "[I 2023-07-03 00:16:33,209] Trial 23 finished with value: 0.0 and parameters: {'C': 6.359827722876437, 'gamma': 0.6371944136532858, 'kernel': 'rbf', 'degree': 3}. Best is trial 0 with value: 0.8301557198787085.\n",
      "[I 2023-07-03 00:16:33,898] Trial 24 finished with value: 0.8301557198787085 and parameters: {'C': 0.5036739013921628, 'gamma': 0.5949840137563595, 'kernel': 'linear', 'degree': 7}. Best is trial 0 with value: 0.8301557198787085.\n",
      "[I 2023-07-03 00:16:35,203] Trial 25 finished with value: 0.5203817140484335 and parameters: {'C': 1.8262276471494154, 'gamma': 0.6940283607214413, 'kernel': 'poly', 'degree': 3}. Best is trial 0 with value: 0.8301557198787085.\n",
      "[I 2023-07-03 00:16:36,861] Trial 26 finished with value: 0.0 and parameters: {'C': 9.254466820957772, 'gamma': 0.8785659598471712, 'kernel': 'rbf', 'degree': 6}. Best is trial 0 with value: 0.8301557198787085.\n",
      "[I 2023-07-03 00:16:38,213] Trial 27 finished with value: 0.20013888850338182 and parameters: {'C': 2.4943376799144716, 'gamma': 0.10217174012784021, 'kernel': 'poly', 'degree': 5}. Best is trial 0 with value: 0.8301557198787085.\n",
      "[I 2023-07-03 00:16:38,901] Trial 28 finished with value: 0.8301557198787085 and parameters: {'C': 7.286961220815369, 'gamma': 0.8981391573530513, 'kernel': 'linear', 'degree': 3}. Best is trial 0 with value: 0.8301557198787085.\n",
      "[I 2023-07-03 00:16:40,580] Trial 29 finished with value: 0.0 and parameters: {'C': 8.995686466418084, 'gamma': 0.6103647690629941, 'kernel': 'rbf', 'degree': 3}. Best is trial 0 with value: 0.8301557198787085.\n",
      "[I 2023-07-03 00:16:42,255] Trial 30 finished with value: 0.0 and parameters: {'C': 5.532464514729202, 'gamma': 0.6949762457157663, 'kernel': 'rbf', 'degree': 4}. Best is trial 0 with value: 0.8301557198787085.\n",
      "[I 2023-07-03 00:16:42,940] Trial 31 finished with value: 0.8301557198787085 and parameters: {'C': 7.490264910668439, 'gamma': 0.6531365700567425, 'kernel': 'linear', 'degree': 5}. Best is trial 0 with value: 0.8301557198787085.\n",
      "[I 2023-07-03 00:16:43,629] Trial 32 finished with value: 0.8301557198787085 and parameters: {'C': 2.7255034400490823, 'gamma': 0.25154974694529275, 'kernel': 'linear', 'degree': 9}. Best is trial 0 with value: 0.8301557198787085.\n",
      "[I 2023-07-03 00:16:45,295] Trial 33 finished with value: 0.0 and parameters: {'C': 5.076107221741402, 'gamma': 0.5811348457800956, 'kernel': 'rbf', 'degree': 2}. Best is trial 0 with value: 0.8301557198787085.\n",
      "[I 2023-07-03 00:16:46,552] Trial 34 finished with value: 0.6453575074203344 and parameters: {'C': 6.490175729480962, 'gamma': 0.18533957261297845, 'kernel': 'poly', 'degree': 2}. Best is trial 0 with value: 0.8301557198787085.\n",
      "[I 2023-07-03 00:16:47,236] Trial 35 finished with value: 0.8301557198787085 and parameters: {'C': 9.29035376961848, 'gamma': 0.4339023068341412, 'kernel': 'linear', 'degree': 5}. Best is trial 0 with value: 0.8301557198787085.\n",
      "[I 2023-07-03 00:16:48,879] Trial 36 finished with value: 0.0 and parameters: {'C': 8.526253048016883, 'gamma': 0.3237527851047149, 'kernel': 'rbf', 'degree': 7}. Best is trial 0 with value: 0.8301557198787085.\n"
     ]
    },
    {
     "name": "stderr",
     "output_type": "stream",
     "text": [
      "[I 2023-07-03 00:16:49,562] Trial 37 finished with value: 0.8301557198787085 and parameters: {'C': 1.0620472883306085, 'gamma': 0.618857154432178, 'kernel': 'linear', 'degree': 8}. Best is trial 0 with value: 0.8301557198787085.\n",
      "[I 2023-07-03 00:16:50,126] Trial 38 finished with value: 0.31114772412793207 and parameters: {'C': 7.000455835853153, 'gamma': 0.7054592431472382, 'kernel': 'sigmoid', 'degree': 9}. Best is trial 0 with value: 0.8301557198787085.\n",
      "[I 2023-07-03 00:16:51,484] Trial 39 finished with value: 0.02677366216344773 and parameters: {'C': 9.141081470309066, 'gamma': 0.5162289748723284, 'kernel': 'poly', 'degree': 9}. Best is trial 0 with value: 0.8301557198787085.\n",
      "[I 2023-07-03 00:16:53,125] Trial 40 finished with value: 0.0 and parameters: {'C': 8.911052883993907, 'gamma': 0.3446152052830205, 'kernel': 'rbf', 'degree': 6}. Best is trial 0 with value: 0.8301557198787085.\n",
      "[I 2023-07-03 00:16:53,672] Trial 41 finished with value: 0.3202027289102176 and parameters: {'C': 5.472181883605009, 'gamma': 0.29367583960700155, 'kernel': 'sigmoid', 'degree': 5}. Best is trial 0 with value: 0.8301557198787085.\n",
      "[I 2023-07-03 00:16:54,355] Trial 42 finished with value: 0.8301557198787085 and parameters: {'C': 1.3578990752536595, 'gamma': 0.5270208274542564, 'kernel': 'linear', 'degree': 2}. Best is trial 0 with value: 0.8301557198787085.\n",
      "[I 2023-07-03 00:16:56,026] Trial 43 finished with value: 0.0 and parameters: {'C': 5.360410852524665, 'gamma': 0.5452287703940054, 'kernel': 'rbf', 'degree': 4}. Best is trial 0 with value: 0.8301557198787085.\n",
      "[I 2023-07-03 00:16:56,588] Trial 44 finished with value: 0.34432950726559397 and parameters: {'C': 7.972343328210166, 'gamma': 0.27812392874945346, 'kernel': 'sigmoid', 'degree': 9}. Best is trial 0 with value: 0.8301557198787085.\n",
      "[I 2023-07-03 00:16:57,159] Trial 45 finished with value: 0.3112149452536903 and parameters: {'C': 6.9901446403276095, 'gamma': 0.4148634149701272, 'kernel': 'sigmoid', 'degree': 8}. Best is trial 0 with value: 0.8301557198787085.\n",
      "[I 2023-07-03 00:16:57,840] Trial 46 finished with value: 0.8301557198787085 and parameters: {'C': 6.635954029505539, 'gamma': 0.2871345579764834, 'kernel': 'linear', 'degree': 5}. Best is trial 0 with value: 0.8301557198787085.\n",
      "[I 2023-07-03 00:16:58,520] Trial 47 finished with value: 0.8301557198787085 and parameters: {'C': 2.552536796061459, 'gamma': 0.362412951864749, 'kernel': 'linear', 'degree': 2}. Best is trial 0 with value: 0.8301557198787085.\n",
      "[I 2023-07-03 00:17:00,185] Trial 48 finished with value: 0.0 and parameters: {'C': 8.56905978170897, 'gamma': 0.7066212807862234, 'kernel': 'rbf', 'degree': 3}. Best is trial 0 with value: 0.8301557198787085.\n",
      "[I 2023-07-03 00:17:01,538] Trial 49 finished with value: 0.09064373854007914 and parameters: {'C': 4.395131327455933, 'gamma': 0.4045196870533997, 'kernel': 'poly', 'degree': 7}. Best is trial 0 with value: 0.8301557198787085.\n",
      "[I 2023-07-03 00:17:02,221] Trial 50 finished with value: 0.8301557198787085 and parameters: {'C': 5.081048959942868, 'gamma': 0.857924942776439, 'kernel': 'linear', 'degree': 2}. Best is trial 0 with value: 0.8301557198787085.\n",
      "[I 2023-07-03 00:17:03,866] Trial 51 finished with value: 0.0 and parameters: {'C': 5.899178254607286, 'gamma': 0.940827939010708, 'kernel': 'rbf', 'degree': 6}. Best is trial 0 with value: 0.8301557198787085.\n",
      "[I 2023-07-03 00:17:04,550] Trial 52 finished with value: 0.8301557198787085 and parameters: {'C': 9.4205016068876, 'gamma': 0.39224161142276653, 'kernel': 'linear', 'degree': 2}. Best is trial 0 with value: 0.8301557198787085.\n",
      "[I 2023-07-03 00:17:05,165] Trial 53 finished with value: 0.38168243750036196 and parameters: {'C': 0.28039607395034233, 'gamma': 0.1034985311483691, 'kernel': 'sigmoid', 'degree': 2}. Best is trial 0 with value: 0.8301557198787085.\n",
      "[I 2023-07-03 00:17:05,720] Trial 54 finished with value: 0.35139307049516166 and parameters: {'C': 8.163237977630464, 'gamma': 0.28903622702566595, 'kernel': 'sigmoid', 'degree': 8}. Best is trial 0 with value: 0.8301557198787085.\n",
      "[I 2023-07-03 00:17:06,268] Trial 55 finished with value: 0.35139307049516166 and parameters: {'C': 8.05446121081, 'gamma': 0.28921422684559345, 'kernel': 'sigmoid', 'degree': 5}. Best is trial 0 with value: 0.8301557198787085.\n",
      "[I 2023-07-03 00:17:07,635] Trial 56 finished with value: 0.04965046901720146 and parameters: {'C': 3.782979049348554, 'gamma': 0.7786488311345768, 'kernel': 'poly', 'degree': 8}. Best is trial 0 with value: 0.8301557198787085.\n",
      "[I 2023-07-03 00:17:08,317] Trial 57 finished with value: 0.8301557198787085 and parameters: {'C': 7.5699744534383555, 'gamma': 0.11209263014757327, 'kernel': 'linear', 'degree': 10}. Best is trial 0 with value: 0.8301557198787085.\n",
      "[I 2023-07-03 00:17:08,897] Trial 58 finished with value: 0.3761587298850232 and parameters: {'C': 3.953096619468215, 'gamma': 0.020729274965495377, 'kernel': 'sigmoid', 'degree': 10}. Best is trial 0 with value: 0.8301557198787085.\n",
      "[I 2023-07-03 00:17:09,435] Trial 59 finished with value: 0.31922982951686024 and parameters: {'C': 5.777035092420532, 'gamma': 0.6355188400481013, 'kernel': 'sigmoid', 'degree': 8}. Best is trial 0 with value: 0.8301557198787085.\n",
      "[I 2023-07-03 00:17:09,986] Trial 60 finished with value: 0.3338248846126953 and parameters: {'C': 7.9366325328859, 'gamma': 0.7917219613666083, 'kernel': 'sigmoid', 'degree': 5}. Best is trial 0 with value: 0.8301557198787085.\n",
      "[I 2023-07-03 00:17:11,623] Trial 61 finished with value: 0.0 and parameters: {'C': 8.888271409307167, 'gamma': 0.3574058624265579, 'kernel': 'rbf', 'degree': 2}. Best is trial 0 with value: 0.8301557198787085.\n",
      "[I 2023-07-03 00:17:12,893] Trial 62 finished with value: 0.6453575074203344 and parameters: {'C': 0.9326573805384746, 'gamma': 0.7039594401445288, 'kernel': 'poly', 'degree': 2}. Best is trial 0 with value: 0.8301557198787085.\n",
      "[I 2023-07-03 00:17:13,449] Trial 63 finished with value: 0.32678175434092405 and parameters: {'C': 9.867731827161636, 'gamma': 0.3805280877985591, 'kernel': 'sigmoid', 'degree': 8}. Best is trial 0 with value: 0.8301557198787085.\n",
      "[I 2023-07-03 00:17:14,026] Trial 64 finished with value: 0.3570214432564952 and parameters: {'C': 3.824969896756066, 'gamma': 0.09266570953168207, 'kernel': 'sigmoid', 'degree': 3}. Best is trial 0 with value: 0.8301557198787085.\n",
      "[I 2023-07-03 00:17:14,706] Trial 65 finished with value: 0.8301557198787085 and parameters: {'C': 4.976988532479505, 'gamma': 0.021240108319744877, 'kernel': 'linear', 'degree': 7}. Best is trial 0 with value: 0.8301557198787085.\n",
      "[I 2023-07-03 00:17:15,391] Trial 66 finished with value: 0.8301557198787085 and parameters: {'C': 7.48584430472769, 'gamma': 0.587535077446188, 'kernel': 'linear', 'degree': 4}. Best is trial 0 with value: 0.8301557198787085.\n",
      "[I 2023-07-03 00:17:16,074] Trial 67 finished with value: 0.8301557198787085 and parameters: {'C': 9.635903140462052, 'gamma': 0.022032929942918177, 'kernel': 'linear', 'degree': 10}. Best is trial 0 with value: 0.8301557198787085.\n",
      "[I 2023-07-03 00:17:16,756] Trial 68 finished with value: 0.8301557198787085 and parameters: {'C': 0.8305859908804487, 'gamma': 0.5583157415573076, 'kernel': 'linear', 'degree': 6}. Best is trial 0 with value: 0.8301557198787085.\n",
      "[I 2023-07-03 00:17:17,304] Trial 69 finished with value: 0.31800726265800394 and parameters: {'C': 6.312824992832228, 'gamma': 0.5884711688038693, 'kernel': 'sigmoid', 'degree': 10}. Best is trial 0 with value: 0.8301557198787085.\n",
      "[I 2023-07-03 00:17:18,970] Trial 70 finished with value: 0.0 and parameters: {'C': 4.611001852578558, 'gamma': 0.6239312718235214, 'kernel': 'rbf', 'degree': 7}. Best is trial 0 with value: 0.8301557198787085.\n",
      "[I 2023-07-03 00:17:19,649] Trial 71 finished with value: 0.8301557198787085 and parameters: {'C': 0.8695729059533499, 'gamma': 0.9746508595895048, 'kernel': 'linear', 'degree': 9}. Best is trial 0 with value: 0.8301557198787085.\n",
      "[I 2023-07-03 00:17:21,243] Trial 72 finished with value: 0.0 and parameters: {'C': 6.878838608283405, 'gamma': 0.17099076995144238, 'kernel': 'rbf', 'degree': 7}. Best is trial 0 with value: 0.8301557198787085.\n",
      "[I 2023-07-03 00:17:21,923] Trial 73 finished with value: 0.8301557198787085 and parameters: {'C': 4.240606059277127, 'gamma': 0.9334011985204731, 'kernel': 'linear', 'degree': 9}. Best is trial 0 with value: 0.8301557198787085.\n"
     ]
    },
    {
     "name": "stderr",
     "output_type": "stream",
     "text": [
      "[I 2023-07-03 00:17:23,520] Trial 74 finished with value: 0.0 and parameters: {'C': 9.87403368021795, 'gamma': 0.15891272219249292, 'kernel': 'rbf', 'degree': 9}. Best is trial 0 with value: 0.8301557198787085.\n",
      "[I 2023-07-03 00:17:25,155] Trial 75 finished with value: 0.0 and parameters: {'C': 4.740062281970205, 'gamma': 0.42067130731428853, 'kernel': 'rbf', 'degree': 10}. Best is trial 0 with value: 0.8301557198787085.\n",
      "[I 2023-07-03 00:17:26,485] Trial 76 finished with value: 0.1581327757683227 and parameters: {'C': 9.966704687031664, 'gamma': 0.5598773885466012, 'kernel': 'poly', 'degree': 6}. Best is trial 0 with value: 0.8301557198787085.\n",
      "[I 2023-07-03 00:17:28,097] Trial 77 finished with value: 0.0 and parameters: {'C': 1.3786782099998005, 'gamma': 0.9545105169861352, 'kernel': 'rbf', 'degree': 5}. Best is trial 0 with value: 0.8301557198787085.\n",
      "[I 2023-07-03 00:17:28,654] Trial 78 finished with value: 0.32313326971007994 and parameters: {'C': 1.2242201627763274, 'gamma': 0.6748574636368716, 'kernel': 'sigmoid', 'degree': 6}. Best is trial 0 with value: 0.8301557198787085.\n",
      "[I 2023-07-03 00:17:29,203] Trial 79 finished with value: 0.3264608164976522 and parameters: {'C': 5.653285918200324, 'gamma': 0.8778870666317615, 'kernel': 'sigmoid', 'degree': 7}. Best is trial 0 with value: 0.8301557198787085.\n",
      "[I 2023-07-03 00:17:29,761] Trial 80 finished with value: 0.3440012287936404 and parameters: {'C': 7.070389704182313, 'gamma': 0.22083451989382163, 'kernel': 'sigmoid', 'degree': 5}. Best is trial 0 with value: 0.8301557198787085.\n",
      "[I 2023-07-03 00:17:31,404] Trial 81 finished with value: 0.0 and parameters: {'C': 4.431001728034918, 'gamma': 0.9051171075488109, 'kernel': 'rbf', 'degree': 7}. Best is trial 0 with value: 0.8301557198787085.\n",
      "[I 2023-07-03 00:17:32,759] Trial 82 finished with value: 0.1581327757683227 and parameters: {'C': 8.637400716592778, 'gamma': 0.9500254174210657, 'kernel': 'poly', 'degree': 6}. Best is trial 0 with value: 0.8301557198787085.\n",
      "[I 2023-07-03 00:17:34,050] Trial 83 finished with value: 0.5203817140484335 and parameters: {'C': 9.802322495326223, 'gamma': 0.4976919130529409, 'kernel': 'poly', 'degree': 3}. Best is trial 0 with value: 0.8301557198787085.\n",
      "[I 2023-07-03 00:17:35,417] Trial 84 finished with value: 0.03333452313605538 and parameters: {'C': 1.3676538056819474, 'gamma': 0.1603836665771714, 'kernel': 'poly', 'degree': 10}. Best is trial 0 with value: 0.8301557198787085.\n",
      "[I 2023-07-03 00:17:36,748] Trial 85 finished with value: 0.33708277497450145 and parameters: {'C': 4.792220238602436, 'gamma': 0.6708821611358169, 'kernel': 'poly', 'degree': 4}. Best is trial 0 with value: 0.8301557198787085.\n",
      "[I 2023-07-03 00:17:38,104] Trial 86 finished with value: 0.1581327757683227 and parameters: {'C': 1.8524037943397935, 'gamma': 0.09781550841948505, 'kernel': 'poly', 'degree': 6}. Best is trial 0 with value: 0.8301557198787085.\n",
      "[I 2023-07-03 00:17:38,691] Trial 87 finished with value: 0.3647609885457087 and parameters: {'C': 6.934908803430717, 'gamma': 0.04891901844268795, 'kernel': 'sigmoid', 'degree': 10}. Best is trial 0 with value: 0.8301557198787085.\n",
      "[I 2023-07-03 00:17:39,376] Trial 88 finished with value: 0.8301557198787085 and parameters: {'C': 0.7046718025631511, 'gamma': 0.2841088716657317, 'kernel': 'linear', 'degree': 5}. Best is trial 0 with value: 0.8301557198787085.\n",
      "[I 2023-07-03 00:17:41,046] Trial 89 finished with value: 0.0 and parameters: {'C': 4.896777553391111, 'gamma': 0.622072223814993, 'kernel': 'rbf', 'degree': 4}. Best is trial 0 with value: 0.8301557198787085.\n",
      "[I 2023-07-03 00:17:42,400] Trial 90 finished with value: 0.1581327757683227 and parameters: {'C': 7.162160900257069, 'gamma': 0.8962547693103273, 'kernel': 'poly', 'degree': 6}. Best is trial 0 with value: 0.8301557198787085.\n",
      "[I 2023-07-03 00:17:43,087] Trial 91 finished with value: 0.8301557198787085 and parameters: {'C': 2.500457985983824, 'gamma': 0.2765507986398872, 'kernel': 'linear', 'degree': 4}. Best is trial 0 with value: 0.8301557198787085.\n",
      "[I 2023-07-03 00:17:44,729] Trial 92 finished with value: 0.0 and parameters: {'C': 1.2856451050105873, 'gamma': 0.891622007932496, 'kernel': 'rbf', 'degree': 2}. Best is trial 0 with value: 0.8301557198787085.\n",
      "[I 2023-07-03 00:17:45,417] Trial 93 finished with value: 0.8301557198787085 and parameters: {'C': 5.417354764003623, 'gamma': 0.5909727068406704, 'kernel': 'linear', 'degree': 5}. Best is trial 0 with value: 0.8301557198787085.\n",
      "[I 2023-07-03 00:17:46,684] Trial 94 finished with value: 0.6453575074203344 and parameters: {'C': 6.494580689182852, 'gamma': 0.5750705216222227, 'kernel': 'poly', 'degree': 2}. Best is trial 0 with value: 0.8301557198787085.\n",
      "[I 2023-07-03 00:17:48,301] Trial 95 finished with value: 0.0 and parameters: {'C': 1.6133054779248872, 'gamma': 0.25349815110066304, 'kernel': 'rbf', 'degree': 10}. Best is trial 0 with value: 0.8301557198787085.\n",
      "[I 2023-07-03 00:17:49,649] Trial 96 finished with value: 0.03333452313605538 and parameters: {'C': 0.8943140820502579, 'gamma': 0.5292662756745521, 'kernel': 'poly', 'degree': 10}. Best is trial 0 with value: 0.8301557198787085.\n",
      "[I 2023-07-03 00:17:50,205] Trial 97 finished with value: 0.3285878783242574 and parameters: {'C': 8.668520546350404, 'gamma': 0.8189013502397872, 'kernel': 'sigmoid', 'degree': 7}. Best is trial 0 with value: 0.8301557198787085.\n",
      "[I 2023-07-03 00:17:50,887] Trial 98 finished with value: 0.8301557198787085 and parameters: {'C': 5.758965625752008, 'gamma': 0.28717930272368136, 'kernel': 'linear', 'degree': 6}. Best is trial 0 with value: 0.8301557198787085.\n",
      "[I 2023-07-03 00:17:51,569] Trial 99 finished with value: 0.8301557198787085 and parameters: {'C': 2.4998563509092944, 'gamma': 0.1236884564918115, 'kernel': 'linear', 'degree': 6}. Best is trial 0 with value: 0.8301557198787085.\n"
     ]
    }
   ],
   "source": [
    "study = optuna.create_study(direction='maximize', sampler=RandomSampler(seed=42))\n",
    "study.optimize(objective, n_trials=100)"
   ]
  },
  {
   "cell_type": "code",
   "execution_count": 153,
   "metadata": {
    "id": "s4MsxNNo55NU"
   },
   "outputs": [],
   "source": [
    "# Get the best hyperparameters from Optuna\n",
    "best_params = study.best_params"
   ]
  },
  {
   "cell_type": "code",
   "execution_count": 154,
   "metadata": {
    "colab": {
     "base_uri": "https://localhost:8080/"
    },
    "id": "fV2ZBe2n55NV",
    "outputId": "782f5859-1541-4da0-d930-e339bc1efb93"
   },
   "outputs": [
    {
     "data": {
      "text/plain": [
       "{'C': 3.807947176588889,\n",
       " 'gamma': 0.951207163345817,\n",
       " 'kernel': 'linear',\n",
       " 'degree': 2}"
      ]
     },
     "execution_count": 154,
     "metadata": {},
     "output_type": "execute_result"
    }
   ],
   "source": [
    "best_params #42 random seed"
   ]
  },
  {
   "attachments": {},
   "cell_type": "markdown",
   "metadata": {
    "id": "-BlP0-f355NV"
   },
   "source": [
    "#### Get best parameters and make predictions"
   ]
  },
  {
   "cell_type": "code",
   "execution_count": 155,
   "metadata": {
    "colab": {
     "base_uri": "https://localhost:8080/"
    },
    "id": "Pntd0rgXYAPG",
    "outputId": "f5f3f933-fa09-433e-8d73-05e72d00540c"
   },
   "outputs": [
    {
     "data": {
      "text/plain": [
       "(286, 300)"
      ]
     },
     "execution_count": 155,
     "metadata": {},
     "output_type": "execute_result"
    }
   ],
   "source": [
    "X_test_selected.shape"
   ]
  },
  {
   "cell_type": "code",
   "execution_count": 156,
   "metadata": {
    "id": "foQaeIWO55NW"
   },
   "outputs": [],
   "source": [
    "X_train_val_selected_final_features = X_train_val[:, selected_features]"
   ]
  },
  {
   "cell_type": "code",
   "execution_count": 157,
   "metadata": {
    "id": "FPNOqYVN55NW"
   },
   "outputs": [],
   "source": [
    "#best_C = study.best_params['C']\n",
    "#best_gamma = study.best_params['gamma']\n",
    "#best_gamma = study.best_params['gamma']\n",
    "#best_classifier = SVC(C=best_C, gamma=best_gamma)\n",
    "best_classifier_SVC = SVC(**best_params)"
   ]
  },
  {
   "cell_type": "code",
   "execution_count": 158,
   "metadata": {
    "colab": {
     "base_uri": "https://localhost:8080/",
     "height": 74
    },
    "id": "_x7rOdPk55NW",
    "outputId": "fcc74494-3806-4331-e320-b2dafed5e70f"
   },
   "outputs": [
    {
     "data": {
      "text/html": [
       "<style>#sk-container-id-6 {color: black;}#sk-container-id-6 pre{padding: 0;}#sk-container-id-6 div.sk-toggleable {background-color: white;}#sk-container-id-6 label.sk-toggleable__label {cursor: pointer;display: block;width: 100%;margin-bottom: 0;padding: 0.3em;box-sizing: border-box;text-align: center;}#sk-container-id-6 label.sk-toggleable__label-arrow:before {content: \"▸\";float: left;margin-right: 0.25em;color: #696969;}#sk-container-id-6 label.sk-toggleable__label-arrow:hover:before {color: black;}#sk-container-id-6 div.sk-estimator:hover label.sk-toggleable__label-arrow:before {color: black;}#sk-container-id-6 div.sk-toggleable__content {max-height: 0;max-width: 0;overflow: hidden;text-align: left;background-color: #f0f8ff;}#sk-container-id-6 div.sk-toggleable__content pre {margin: 0.2em;color: black;border-radius: 0.25em;background-color: #f0f8ff;}#sk-container-id-6 input.sk-toggleable__control:checked~div.sk-toggleable__content {max-height: 200px;max-width: 100%;overflow: auto;}#sk-container-id-6 input.sk-toggleable__control:checked~label.sk-toggleable__label-arrow:before {content: \"▾\";}#sk-container-id-6 div.sk-estimator input.sk-toggleable__control:checked~label.sk-toggleable__label {background-color: #d4ebff;}#sk-container-id-6 div.sk-label input.sk-toggleable__control:checked~label.sk-toggleable__label {background-color: #d4ebff;}#sk-container-id-6 input.sk-hidden--visually {border: 0;clip: rect(1px 1px 1px 1px);clip: rect(1px, 1px, 1px, 1px);height: 1px;margin: -1px;overflow: hidden;padding: 0;position: absolute;width: 1px;}#sk-container-id-6 div.sk-estimator {font-family: monospace;background-color: #f0f8ff;border: 1px dotted black;border-radius: 0.25em;box-sizing: border-box;margin-bottom: 0.5em;}#sk-container-id-6 div.sk-estimator:hover {background-color: #d4ebff;}#sk-container-id-6 div.sk-parallel-item::after {content: \"\";width: 100%;border-bottom: 1px solid gray;flex-grow: 1;}#sk-container-id-6 div.sk-label:hover label.sk-toggleable__label {background-color: #d4ebff;}#sk-container-id-6 div.sk-serial::before {content: \"\";position: absolute;border-left: 1px solid gray;box-sizing: border-box;top: 0;bottom: 0;left: 50%;z-index: 0;}#sk-container-id-6 div.sk-serial {display: flex;flex-direction: column;align-items: center;background-color: white;padding-right: 0.2em;padding-left: 0.2em;position: relative;}#sk-container-id-6 div.sk-item {position: relative;z-index: 1;}#sk-container-id-6 div.sk-parallel {display: flex;align-items: stretch;justify-content: center;background-color: white;position: relative;}#sk-container-id-6 div.sk-item::before, #sk-container-id-6 div.sk-parallel-item::before {content: \"\";position: absolute;border-left: 1px solid gray;box-sizing: border-box;top: 0;bottom: 0;left: 50%;z-index: -1;}#sk-container-id-6 div.sk-parallel-item {display: flex;flex-direction: column;z-index: 1;position: relative;background-color: white;}#sk-container-id-6 div.sk-parallel-item:first-child::after {align-self: flex-end;width: 50%;}#sk-container-id-6 div.sk-parallel-item:last-child::after {align-self: flex-start;width: 50%;}#sk-container-id-6 div.sk-parallel-item:only-child::after {width: 0;}#sk-container-id-6 div.sk-dashed-wrapped {border: 1px dashed gray;margin: 0 0.4em 0.5em 0.4em;box-sizing: border-box;padding-bottom: 0.4em;background-color: white;}#sk-container-id-6 div.sk-label label {font-family: monospace;font-weight: bold;display: inline-block;line-height: 1.2em;}#sk-container-id-6 div.sk-label-container {text-align: center;}#sk-container-id-6 div.sk-container {/* jupyter's `normalize.less` sets `[hidden] { display: none; }` but bootstrap.min.css set `[hidden] { display: none !important; }` so we also need the `!important` here to be able to override the default hidden behavior on the sphinx rendered scikit-learn.org. See: https://github.com/scikit-learn/scikit-learn/issues/21755 */display: inline-block !important;position: relative;}#sk-container-id-6 div.sk-text-repr-fallback {display: none;}</style><div id=\"sk-container-id-6\" class=\"sk-top-container\"><div class=\"sk-text-repr-fallback\"><pre>SVC(C=3.807947176588889, degree=2, gamma=0.951207163345817, kernel=&#x27;linear&#x27;)</pre><b>In a Jupyter environment, please rerun this cell to show the HTML representation or trust the notebook. <br />On GitHub, the HTML representation is unable to render, please try loading this page with nbviewer.org.</b></div><div class=\"sk-container\" hidden><div class=\"sk-item\"><div class=\"sk-estimator sk-toggleable\"><input class=\"sk-toggleable__control sk-hidden--visually\" id=\"sk-estimator-id-6\" type=\"checkbox\" checked><label for=\"sk-estimator-id-6\" class=\"sk-toggleable__label sk-toggleable__label-arrow\">SVC</label><div class=\"sk-toggleable__content\"><pre>SVC(C=3.807947176588889, degree=2, gamma=0.951207163345817, kernel=&#x27;linear&#x27;)</pre></div></div></div></div></div>"
      ],
      "text/plain": [
       "SVC(C=3.807947176588889, degree=2, gamma=0.951207163345817, kernel='linear')"
      ]
     },
     "execution_count": 158,
     "metadata": {},
     "output_type": "execute_result"
    }
   ],
   "source": [
    "best_classifier_SVC.fit(X_train_val_selected_final_features, y_train_val)"
   ]
  },
  {
   "cell_type": "code",
   "execution_count": 159,
   "metadata": {
    "id": "z4CHWrjt55NW"
   },
   "outputs": [],
   "source": [
    "y_test_pred = best_classifier_SVC.predict(X_test_selected)"
   ]
  },
  {
   "cell_type": "code",
   "execution_count": 160,
   "metadata": {
    "id": "WWa3X3HQ55NW"
   },
   "outputs": [],
   "source": [
    "#Validate the model  using balanced_acc, precision,recall and f1\n",
    "balanced_acc_mrmr_SVC= balanced_accuracy_score(y_test, y_test_pred)\n",
    "precision_mrmr_SVC = precision_score(y_test, y_test_pred,average='weighted')\n",
    "recall_mrmr_SVC = recall_score(y_test, y_test_pred,average='weighted')\n",
    "f1_mrmr_SVC = f1_score(y_test, y_test_pred,average='weighted')"
   ]
  },
  {
   "cell_type": "code",
   "execution_count": 161,
   "metadata": {
    "colab": {
     "base_uri": "https://localhost:8080/"
    },
    "id": "P1kPOkxa55NW",
    "outputId": "93ea1082-d9e5-4fce-f667-b302abff708f"
   },
   "outputs": [
    {
     "data": {
      "text/plain": [
       "0.25372402220214274"
      ]
     },
     "execution_count": 161,
     "metadata": {},
     "output_type": "execute_result"
    }
   ],
   "source": [
    "balanced_acc_mrmr_SVC"
   ]
  },
  {
   "cell_type": "code",
   "execution_count": 162,
   "metadata": {
    "colab": {
     "base_uri": "https://localhost:8080/"
    },
    "id": "r1uZA0FR55NX",
    "outputId": "43ffbfdc-7a03-4e07-9b91-a869ea1d39c2"
   },
   "outputs": [
    {
     "data": {
      "text/plain": [
       "0.2832274805613966"
      ]
     },
     "execution_count": 162,
     "metadata": {},
     "output_type": "execute_result"
    }
   ],
   "source": [
    "precision_mrmr_SVC"
   ]
  },
  {
   "cell_type": "code",
   "execution_count": 163,
   "metadata": {
    "colab": {
     "base_uri": "https://localhost:8080/"
    },
    "id": "64sijVn955NX",
    "outputId": "4bc7285c-dea2-4050-c5ba-b19c50e01785"
   },
   "outputs": [
    {
     "data": {
      "text/plain": [
       "0.3741258741258741"
      ]
     },
     "execution_count": 163,
     "metadata": {},
     "output_type": "execute_result"
    }
   ],
   "source": [
    "recall_mrmr_SVC"
   ]
  },
  {
   "cell_type": "code",
   "execution_count": 164,
   "metadata": {
    "colab": {
     "base_uri": "https://localhost:8080/"
    },
    "id": "s5yOHjO855NX",
    "outputId": "e0cfb591-49e4-4bcb-a907-7a281dcf3c18"
   },
   "outputs": [
    {
     "data": {
      "text/plain": [
       "0.307864006647419"
      ]
     },
     "execution_count": 164,
     "metadata": {},
     "output_type": "execute_result"
    }
   ],
   "source": [
    "f1_mrmr_SVC"
   ]
  },
  {
   "cell_type": "code",
   "execution_count": 165,
   "metadata": {
    "colab": {
     "base_uri": "https://localhost:8080/"
    },
    "id": "_BGt8uIM55NY",
    "outputId": "90592311-8f0f-4122-aea3-c749ab50cea0"
   },
   "outputs": [
    {
     "data": {
      "text/plain": [
       "array([1, 3, 0, 0, 1, 0, 3, 0, 0, 0, 2, 0, 1, 0, 1, 0, 0, 0, 0, 0, 0, 0,\n",
       "       1, 1, 0, 2, 2, 1, 0, 0, 0, 0, 2, 1, 0, 0, 0, 0, 2, 0, 0, 0, 0, 0,\n",
       "       0, 2, 0, 0, 1, 0, 1, 0, 0, 0, 0, 1, 0, 1, 0, 2, 0, 0, 1, 1, 0, 0,\n",
       "       0, 0, 0, 0, 0, 2, 2, 0, 0, 0, 0, 1, 0, 1, 0, 1, 3, 0, 2, 0, 0, 2,\n",
       "       0, 0, 0, 1, 0, 0, 0, 0, 0, 0, 3, 1, 1, 0, 0, 0, 0, 1, 0, 0, 0, 0,\n",
       "       2, 0, 0, 0, 0, 0, 0, 2, 2, 1, 2, 2, 2, 0, 2, 0, 1, 0, 0, 0, 0, 0,\n",
       "       0, 0, 0, 1, 2, 0, 0, 0, 0, 0, 0, 0, 0, 0, 0, 1, 0, 0, 0, 0, 0, 0,\n",
       "       0, 1, 0, 0, 0, 0, 0, 0, 0, 0, 0, 2, 0, 0, 0, 0, 0, 0, 0, 0, 0, 0,\n",
       "       0, 0, 0, 0, 2, 0, 0, 0, 1, 0, 2, 3, 1, 0, 0, 0, 0, 0, 0, 0, 0, 0,\n",
       "       0, 1, 0, 0, 0, 1, 1, 0, 0, 0, 0, 0, 0, 0, 0, 0, 1, 0, 0, 0, 0, 0,\n",
       "       1, 0, 0, 1, 0, 1, 0, 0, 0, 1, 2, 0, 0, 1, 0, 2, 0, 0, 1, 0, 0, 2,\n",
       "       0, 0, 0, 0, 0, 0, 0, 0, 0, 0, 0, 0, 0, 0, 2, 0, 3, 1, 0, 0, 0, 3,\n",
       "       0, 0, 0, 0, 0, 1, 0, 0, 0, 0, 3, 0, 0, 1, 0, 0, 0, 1, 1, 0, 0, 1])"
      ]
     },
     "execution_count": 165,
     "metadata": {},
     "output_type": "execute_result"
    }
   ],
   "source": [
    "y_test_pred"
   ]
  },
  {
   "cell_type": "code",
   "execution_count": 166,
   "metadata": {
    "colab": {
     "base_uri": "https://localhost:8080/"
    },
    "id": "Vh698uCx55NY",
    "outputId": "3166087a-b249-46ea-deae-27bb46ec07c2"
   },
   "outputs": [
    {
     "data": {
      "text/plain": [
       "array([0, 0, 1, 2, 0, 0, 0, 0, 1, 0, 0, 2, 2, 1, 1, 3, 3, 1, 2, 3, 3, 0,\n",
       "       0, 0, 3, 0, 1, 2, 0, 0, 3, 3, 2, 0, 0, 0, 1, 3, 2, 1, 3, 0, 3, 3,\n",
       "       0, 2, 3, 1, 2, 2, 2, 0, 2, 0, 0, 0, 0, 1, 0, 2, 0, 1, 2, 0, 0, 2,\n",
       "       2, 2, 0, 0, 1, 0, 1, 3, 0, 0, 2, 0, 0, 1, 0, 1, 0, 2, 1, 3, 1, 1,\n",
       "       2, 0, 1, 0, 3, 2, 0, 1, 0, 2, 1, 2, 1, 3, 0, 2, 0, 1, 3, 2, 1, 0,\n",
       "       0, 2, 2, 3, 0, 0, 0, 1, 2, 0, 1, 3, 0, 3, 1, 1, 2, 2, 3, 3, 0, 0,\n",
       "       3, 0, 0, 0, 0, 3, 0, 3, 3, 0, 2, 3, 3, 2, 2, 0, 3, 2, 2, 0, 0, 2,\n",
       "       2, 1, 0, 3, 0, 2, 2, 1, 2, 0, 3, 1, 2, 2, 0, 2, 0, 3, 3, 2, 0, 1,\n",
       "       0, 1, 0, 0, 2, 2, 0, 2, 0, 0, 1, 0, 0, 0, 3, 2, 1, 2, 3, 1, 0, 0,\n",
       "       3, 2, 0, 3, 3, 1, 0, 2, 0, 0, 2, 0, 2, 0, 3, 1, 0, 3, 2, 3, 0, 3,\n",
       "       0, 0, 0, 1, 0, 2, 0, 1, 0, 0, 0, 0, 3, 1, 2, 1, 3, 1, 2, 3, 0, 1,\n",
       "       1, 0, 0, 0, 0, 1, 0, 0, 0, 0, 2, 0, 0, 0, 3, 2, 0, 0, 0, 3, 0, 0,\n",
       "       0, 0, 0, 0, 0, 0, 1, 0, 2, 0, 1, 1, 0, 0, 0, 3, 0, 0, 0, 0, 1, 2])"
      ]
     },
     "execution_count": 166,
     "metadata": {},
     "output_type": "execute_result"
    }
   ],
   "source": [
    "y_test"
   ]
  },
  {
   "cell_type": "code",
   "execution_count": 167,
   "metadata": {},
   "outputs": [
    {
     "name": "stdout",
     "output_type": "stream",
     "text": [
      "[283 299 182 276 257  62 471  25 288 260 281 251 233 178 316 215 147 255\n",
      " 266 138]\n"
     ]
    }
   ],
   "source": [
    "# Get the coefficients and support vectors\n",
    "coefs = best_classifier_SVC.coef_\n",
    "support_vectors = best_classifier_SVC.support_vectors_\n",
    "\n",
    "# Calculate the feature importance scores\n",
    "feature_importance = np.abs(np.dot(coefs, support_vectors.T))\n",
    "\n",
    "# Get the top 20 indices of the feature importance scores\n",
    "top20_indices = np.argsort(feature_importance[0])[-20:]\n",
    "# Get the top 20 indices of the feature importance scores\n",
    "#top20_indices = np.argpartition(feature_importance, -20)[-20:]\n",
    "\n",
    "# Print the top 20 indices\n",
    "print(top20_indices)"
   ]
  },
  {
   "cell_type": "code",
   "execution_count": 168,
   "metadata": {},
   "outputs": [
    {
     "name": "stdout",
     "output_type": "stream",
     "text": [
      "Index(['ENSG00000198918', 'ENSG00000145423', 'ENSG00000167996',\n",
      "       'ENSG00000034510', 'ENSG00000205542', 'ENSG00000147604',\n",
      "       'ENSG00000075624', 'ENSG00000149273', 'ENSG00000145425',\n",
      "       'ENSG00000026025', 'ENSG00000134419', 'ENSG00000112306',\n",
      "       'ENSG00000187514', 'ENSG00000184009', 'ENSG00000087086',\n",
      "       'ENSG00000138326', 'ENSG00000144713', 'ENSG00000137154',\n",
      "       'ENSG00000140988', 'ENSG00000111640'],\n",
      "      dtype='object')\n"
     ]
    }
   ],
   "source": [
    "#select the top 20 important features of the classifier\n",
    "top20_indices_SVC= pd.Series(top20_indices).sort_values(ascending=False)\n",
    "\n",
    "# Filter the DataFrame using the boolean array\n",
    "data_filtered_features =df_filtered.iloc[:,1:-9].loc[:, best_features]\n",
    "\n",
    "# Print the filtered DataFrame\n",
    "data_filtered_features\n",
    "\n",
    "# Get the column names corresponding to the series indices\n",
    "column_names_SVC = data_filtered_features.columns[top20_indices_SVC.index]\n",
    "\n",
    "# Print the column names\n",
    "print(column_names_SVC)"
   ]
  },
  {
   "attachments": {},
   "cell_type": "markdown",
   "metadata": {
    "id": "m8dWgBDt55NY"
   },
   "source": [
    "## Random Forest"
   ]
  },
  {
   "attachments": {},
   "cell_type": "markdown",
   "metadata": {
    "id": "oSjrzq4NY1n2"
   },
   "source": [
    "#### Cross val for hyperparameter tunning and feature selection"
   ]
  },
  {
   "cell_type": "code",
   "execution_count": 169,
   "metadata": {
    "id": "K5FHBb3rY1oA"
   },
   "outputs": [],
   "source": [
    "# Define the number of folds for cross-validation\n",
    "n_folds = 5\n",
    "#n_folds_features = 2"
   ]
  },
  {
   "cell_type": "code",
   "execution_count": 170,
   "metadata": {
    "id": "TmQymtbdY1oB"
   },
   "outputs": [],
   "source": [
    "def perform_feature_selection(X_train_val, y_train_val):\n",
    "    X_train_features, X_hyperparam_opt, y_train_features, y_hyperparam_opt = train_test_split(X_train_val, y_train_val, train_size=0.30, random_state=42)\n",
    "    # Perform feature selection on X_train_val\n",
    "    X_train_val_df = pd.DataFrame(X_train_features)\n",
    "    y_train_val_df = pd.DataFrame(y_train_features)\n",
    "    X_hyperparam_opt = pd.DataFrame(X_hyperparam_opt)\n",
    "    y_hyperparam_opt = pd.DataFrame(y_hyperparam_opt)\n",
    "    selected_features = mrmr_classif(X_train_val_df, y_train_val_df, K=300)\n",
    "    X_train_val_selected = X_hyperparam_opt.loc[:, selected_features]\n",
    "\n",
    "    return X_train_val_selected, y_hyperparam_opt,selected_features"
   ]
  },
  {
   "cell_type": "code",
   "execution_count": 171,
   "metadata": {
    "id": "bB5_B840Y1oC"
   },
   "outputs": [],
   "source": [
    "def objective_RF(trial, X_hyperparam_opt, y_hyperparam_opt,selected_features):\n",
    "\n",
    "  # Define the hyperparameters to be optimized\n",
    "  n_estimators= trial.suggest_int('n_estimators', 100,1000)\n",
    "  max_depth= trial.suggest_int('max_depth', 5, 31)\n",
    "  min_samples_split= trial.suggest_int('min_samples_split', 2, 100)\n",
    "  min_samples_leaf= trial.suggest_int('min_samples_leaf', 1, 4)\n",
    "  bootstrap=trial.suggest_categorical('bootstrap', [True, False])\n",
    "\n",
    "  # Instantiate the classifier with the current hyperparameters\n",
    "  classifier = RandomForestClassifier(n_estimators=n_estimators, max_depth=max_depth,min_samples_split=min_samples_split,min_samples_leaf=min_samples_leaf,bootstrap=bootstrap)\n",
    "\n",
    "  # Perform cross-validation on the selected features\n",
    "  kf = StratifiedKFold(n_splits=n_folds, shuffle=True, random_state=42)\n",
    "  cv_scores = []\n",
    "\n",
    "  for train_index, val_index in kf.split(X_hyperparam_opt, y_hyperparam_opt):\n",
    "      #X_train, X_val = X_hyperparam_opt[train_index], X_hyperparam_opt[val_index]\n",
    "      #y_train, y_val = y_hyperparam_opt[train_index], y_hyperparam_opt[val_index]\n",
    "      X_train, X_val = X_hyperparam_opt.iloc[train_index], X_hyperparam_opt.iloc[val_index]\n",
    "      y_train, y_val = y_hyperparam_opt.iloc[train_index], y_hyperparam_opt.iloc[val_index]\n",
    "      # Fit the classifier on the selected features and evaluate on the validation set\n",
    "      classifier.fit(X_train, y_train)\n",
    "      y_pred = classifier.predict(X_val)\n",
    "      mcc = matthews_corrcoef(y_val, y_pred)\n",
    "      cv_scores.append(mcc)\n",
    "  # Calculate the average MCC\n",
    "  avg_mcc = np.mean(cv_scores)\n",
    "\n",
    "  return avg_mcc"
   ]
  },
  {
   "cell_type": "code",
   "execution_count": 172,
   "metadata": {
    "colab": {
     "base_uri": "https://localhost:8080/"
    },
    "id": "TBfdzvg2Y1oC",
    "outputId": "fb722812-82d3-43fc-b8a7-e965d87f1507"
   },
   "outputs": [
    {
     "name": "stderr",
     "output_type": "stream",
     "text": [
      "100%|█████████████████████████████████████████| 300/300 [00:59<00:00,  5.07it/s]\n"
     ]
    }
   ],
   "source": [
    "# Perform feature selection\n",
    "X_hyperparam_opt, y_hyperparam_opt,selected_features = perform_feature_selection(X_train_val, y_train_val)"
   ]
  },
  {
   "cell_type": "code",
   "execution_count": 173,
   "metadata": {
    "id": "N7NFh8-PY1oD"
   },
   "outputs": [],
   "source": [
    "# Define the objective function with selected features\n",
    "def objective(trial):\n",
    "    return objective_RF(trial, X_hyperparam_opt, y_hyperparam_opt,selected_features)"
   ]
  },
  {
   "cell_type": "code",
   "execution_count": 174,
   "metadata": {
    "colab": {
     "base_uri": "https://localhost:8080/"
    },
    "id": "6PjcsE2yY1oD",
    "outputId": "b1424ac3-c978-4344-cdb1-d35c45d08dcf"
   },
   "outputs": [
    {
     "name": "stderr",
     "output_type": "stream",
     "text": [
      "[I 2023-07-03 00:18:51,668] A new study created in memory with name: no-name-70bc71f7-6a7e-4f0f-8d2c-a36e7e114d68\n",
      "[I 2023-07-03 00:19:11,053] Trial 0 finished with value: 0.8253058454474417 and parameters: {'n_estimators': 437, 'max_depth': 30, 'min_samples_split': 74, 'min_samples_leaf': 3, 'bootstrap': True}. Best is trial 0 with value: 0.8253058454474417.\n",
      "[I 2023-07-03 00:19:22,862] Trial 1 finished with value: 0.832625727711962 and parameters: {'n_estimators': 152, 'max_depth': 28, 'min_samples_split': 61, 'min_samples_leaf': 3, 'bootstrap': False}. Best is trial 1 with value: 0.832625727711962.\n",
      "[I 2023-07-03 00:20:34,057] Trial 2 finished with value: 0.8453455920857073 and parameters: {'n_estimators': 850, 'max_depth': 10, 'min_samples_split': 20, 'min_samples_leaf': 1, 'bootstrap': False}. Best is trial 2 with value: 0.8453455920857073.\n",
      "[I 2023-07-03 00:21:12,531] Trial 3 finished with value: 0.8363093073484984 and parameters: {'n_estimators': 489, 'max_depth': 12, 'min_samples_split': 62, 'min_samples_leaf': 1, 'bootstrap': False}. Best is trial 2 with value: 0.8453455920857073.\n",
      "[I 2023-07-03 00:21:40,568] Trial 4 finished with value: 0.838211670584372 and parameters: {'n_estimators': 510, 'max_depth': 26, 'min_samples_split': 21, 'min_samples_leaf': 3, 'bootstrap': True}. Best is trial 2 with value: 0.8453455920857073.\n",
      "[I 2023-07-03 00:22:13,908] Trial 5 finished with value: 0.8397735452177816 and parameters: {'n_estimators': 647, 'max_depth': 9, 'min_samples_split': 8, 'min_samples_leaf': 4, 'bootstrap': True}. Best is trial 2 with value: 0.8453455920857073.\n",
      "[I 2023-07-03 00:22:37,280] Trial 6 finished with value: 0.8291085074815665 and parameters: {'n_estimators': 374, 'max_depth': 7, 'min_samples_split': 69, 'min_samples_leaf': 2, 'bootstrap': False}. Best is trial 2 with value: 0.8453455920857073.\n",
      "[I 2023-07-03 00:22:48,315] Trial 7 finished with value: 0.8470441698139354 and parameters: {'n_estimators': 130, 'max_depth': 29, 'min_samples_split': 27, 'min_samples_leaf': 3, 'bootstrap': False}. Best is trial 7 with value: 0.8470441698139354.\n",
      "[I 2023-07-03 00:23:10,725] Trial 8 finished with value: 0.8177680113900012 and parameters: {'n_estimators': 592, 'max_depth': 9, 'min_samples_split': 97, 'min_samples_leaf': 4, 'bootstrap': True}. Best is trial 7 with value: 0.8470441698139354.\n",
      "[I 2023-07-03 00:24:12,782] Trial 9 finished with value: 0.8470151803317952 and parameters: {'n_estimators': 638, 'max_depth': 29, 'min_samples_split': 10, 'min_samples_leaf': 1, 'bootstrap': False}. Best is trial 7 with value: 0.8470441698139354.\n",
      "[I 2023-07-03 00:24:44,764] Trial 10 finished with value: 0.8328460383224343 and parameters: {'n_estimators': 450, 'max_depth': 12, 'min_samples_split': 84, 'min_samples_leaf': 2, 'bootstrap': False}. Best is trial 7 with value: 0.8470441698139354.\n",
      "[I 2023-07-03 00:24:57,182] Trial 11 finished with value: 0.8323181787768167 and parameters: {'n_estimators': 226, 'max_depth': 26, 'min_samples_split': 9, 'min_samples_leaf': 4, 'bootstrap': True}. Best is trial 7 with value: 0.8470441698139354.\n",
      "[I 2023-07-03 00:25:01,951] Trial 12 finished with value: 0.8233514538823286 and parameters: {'n_estimators': 104, 'max_depth': 27, 'min_samples_split': 71, 'min_samples_leaf': 3, 'bootstrap': True}. Best is trial 7 with value: 0.8470441698139354.\n",
      "[I 2023-07-03 00:25:18,088] Trial 13 finished with value: 0.8232464933647586 and parameters: {'n_estimators': 422, 'max_depth': 8, 'min_samples_split': 87, 'min_samples_leaf': 3, 'bootstrap': True}. Best is trial 7 with value: 0.8470441698139354.\n",
      "[I 2023-07-03 00:25:35,087] Trial 14 finished with value: 0.8251631548202354 and parameters: {'n_estimators': 380, 'max_depth': 13, 'min_samples_split': 74, 'min_samples_leaf': 3, 'bootstrap': True}. Best is trial 7 with value: 0.8470441698139354.\n",
      "[I 2023-07-03 00:25:44,415] Trial 15 finished with value: 0.82520827057652 and parameters: {'n_estimators': 207, 'max_depth': 24, 'min_samples_split': 77, 'min_samples_leaf': 3, 'bootstrap': True}. Best is trial 7 with value: 0.8470441698139354.\n",
      "[I 2023-07-03 00:26:40,005] Trial 16 finished with value: 0.8470784839632547 and parameters: {'n_estimators': 570, 'max_depth': 16, 'min_samples_split': 4, 'min_samples_leaf': 1, 'bootstrap': False}. Best is trial 16 with value: 0.8470784839632547.\n",
      "[I 2023-07-03 00:27:09,045] Trial 17 finished with value: 0.8343801541901736 and parameters: {'n_estimators': 383, 'max_depth': 18, 'min_samples_split': 91, 'min_samples_leaf': 1, 'bootstrap': False}. Best is trial 16 with value: 0.8470784839632547.\n",
      "[I 2023-07-03 00:27:23,296] Trial 18 finished with value: 0.8349794941924452 and parameters: {'n_estimators': 306, 'max_depth': 7, 'min_samples_split': 30, 'min_samples_leaf': 1, 'bootstrap': True}. Best is trial 16 with value: 0.8470784839632547.\n",
      "[I 2023-07-03 00:27:54,935] Trial 19 finished with value: 0.830677541869435 and parameters: {'n_estimators': 670, 'max_depth': 28, 'min_samples_split': 81, 'min_samples_leaf': 1, 'bootstrap': True}. Best is trial 16 with value: 0.8470784839632547.\n",
      "[I 2023-07-03 00:29:10,588] Trial 20 finished with value: 0.8435951127561813 and parameters: {'n_estimators': 827, 'max_depth': 29, 'min_samples_split': 33, 'min_samples_leaf': 1, 'bootstrap': False}. Best is trial 16 with value: 0.8470784839632547.\n",
      "[I 2023-07-03 00:29:58,210] Trial 21 finished with value: 0.8341935287715193 and parameters: {'n_estimators': 837, 'max_depth': 28, 'min_samples_split': 2, 'min_samples_leaf': 3, 'bootstrap': True}. Best is trial 16 with value: 0.8470784839632547.\n",
      "[I 2023-07-03 00:30:12,696] Trial 22 finished with value: 0.8325614838793888 and parameters: {'n_estimators': 207, 'max_depth': 14, 'min_samples_split': 95, 'min_samples_leaf': 2, 'bootstrap': False}. Best is trial 16 with value: 0.8470784839632547.\n",
      "[I 2023-07-03 00:30:30,927] Trial 23 finished with value: 0.8249575005456101 and parameters: {'n_estimators': 427, 'max_depth': 31, 'min_samples_split': 97, 'min_samples_leaf': 2, 'bootstrap': True}. Best is trial 16 with value: 0.8470784839632547.\n",
      "[I 2023-07-03 00:30:49,808] Trial 24 finished with value: 0.8224983420479137 and parameters: {'n_estimators': 356, 'max_depth': 5, 'min_samples_split': 62, 'min_samples_leaf': 3, 'bootstrap': False}. Best is trial 16 with value: 0.8470784839632547.\n",
      "[I 2023-07-03 00:31:40,694] Trial 25 finished with value: 0.8435146976177595 and parameters: {'n_estimators': 918, 'max_depth': 11, 'min_samples_split': 16, 'min_samples_leaf': 2, 'bootstrap': True}. Best is trial 16 with value: 0.8470784839632547.\n",
      "[I 2023-07-03 00:32:40,133] Trial 26 finished with value: 0.8436389314084952 and parameters: {'n_estimators': 705, 'max_depth': 25, 'min_samples_split': 25, 'min_samples_leaf': 3, 'bootstrap': False}. Best is trial 16 with value: 0.8470784839632547.\n",
      "[I 2023-07-03 00:33:16,413] Trial 27 finished with value: 0.836163758062438 and parameters: {'n_estimators': 670, 'max_depth': 19, 'min_samples_split': 10, 'min_samples_leaf': 4, 'bootstrap': True}. Best is trial 16 with value: 0.8470784839632547.\n",
      "[I 2023-07-03 00:33:23,180] Trial 28 finished with value: 0.828867707671556 and parameters: {'n_estimators': 136, 'max_depth': 20, 'min_samples_split': 69, 'min_samples_leaf': 1, 'bootstrap': True}. Best is trial 16 with value: 0.8470784839632547.\n",
      "[I 2023-07-03 00:33:52,166] Trial 29 finished with value: 0.8307453181553827 and parameters: {'n_estimators': 681, 'max_depth': 9, 'min_samples_split': 70, 'min_samples_leaf': 2, 'bootstrap': True}. Best is trial 16 with value: 0.8470784839632547.\n",
      "[I 2023-07-03 00:34:16,197] Trial 30 finished with value: 0.8273036049408015 and parameters: {'n_estimators': 407, 'max_depth': 8, 'min_samples_split': 93, 'min_samples_leaf': 4, 'bootstrap': False}. Best is trial 16 with value: 0.8470784839632547.\n",
      "[I 2023-07-03 00:35:27,443] Trial 31 finished with value: 0.8436131872848837 and parameters: {'n_estimators': 836, 'max_depth': 19, 'min_samples_split': 54, 'min_samples_leaf': 1, 'bootstrap': False}. Best is trial 16 with value: 0.8470784839632547.\n",
      "[I 2023-07-03 00:36:45,451] Trial 32 finished with value: 0.8417089764720693 and parameters: {'n_estimators': 911, 'max_depth': 22, 'min_samples_split': 35, 'min_samples_leaf': 2, 'bootstrap': False}. Best is trial 16 with value: 0.8470784839632547.\n"
     ]
    },
    {
     "name": "stderr",
     "output_type": "stream",
     "text": [
      "[I 2023-07-03 00:38:00,153] Trial 33 finished with value: 0.8419993524921248 and parameters: {'n_estimators': 899, 'max_depth': 26, 'min_samples_split': 65, 'min_samples_leaf': 1, 'bootstrap': False}. Best is trial 16 with value: 0.8470784839632547.\n",
      "[I 2023-07-03 00:38:35,933] Trial 34 finished with value: 0.8276048243825294 and parameters: {'n_estimators': 646, 'max_depth': 5, 'min_samples_split': 12, 'min_samples_leaf': 3, 'bootstrap': False}. Best is trial 16 with value: 0.8470784839632547.\n",
      "[I 2023-07-03 00:39:05,280] Trial 35 finished with value: 0.8345600619541326 and parameters: {'n_estimators': 594, 'max_depth': 23, 'min_samples_split': 66, 'min_samples_leaf': 1, 'bootstrap': True}. Best is trial 16 with value: 0.8470784839632547.\n",
      "[I 2023-07-03 00:39:22,862] Trial 36 finished with value: 0.8234771658892418 and parameters: {'n_estimators': 393, 'max_depth': 25, 'min_samples_split': 66, 'min_samples_leaf': 4, 'bootstrap': True}. Best is trial 16 with value: 0.8470784839632547.\n",
      "[I 2023-07-03 00:39:33,537] Trial 37 finished with value: 0.8363572082170737 and parameters: {'n_estimators': 184, 'max_depth': 14, 'min_samples_split': 28, 'min_samples_leaf': 1, 'bootstrap': True}. Best is trial 16 with value: 0.8470784839632547.\n",
      "[I 2023-07-03 00:40:12,820] Trial 38 finished with value: 0.828758230920618 and parameters: {'n_estimators': 903, 'max_depth': 22, 'min_samples_split': 80, 'min_samples_leaf': 3, 'bootstrap': True}. Best is trial 16 with value: 0.8470784839632547.\n",
      "[I 2023-07-03 00:40:28,936] Trial 39 finished with value: 0.843597240037733 and parameters: {'n_estimators': 275, 'max_depth': 24, 'min_samples_split': 29, 'min_samples_leaf': 1, 'bootstrap': True}. Best is trial 16 with value: 0.8470784839632547.\n",
      "[I 2023-07-03 00:41:36,310] Trial 40 finished with value: 0.8271760388155114 and parameters: {'n_estimators': 947, 'max_depth': 30, 'min_samples_split': 92, 'min_samples_leaf': 2, 'bootstrap': False}. Best is trial 16 with value: 0.8470784839632547.\n",
      "[I 2023-07-03 00:42:08,301] Trial 41 finished with value: 0.8363050728640491 and parameters: {'n_estimators': 485, 'max_depth': 31, 'min_samples_split': 97, 'min_samples_leaf': 4, 'bootstrap': False}. Best is trial 16 with value: 0.8470784839632547.\n",
      "[I 2023-07-03 00:42:55,729] Trial 42 finished with value: 0.8326669748775636 and parameters: {'n_estimators': 866, 'max_depth': 13, 'min_samples_split': 18, 'min_samples_leaf': 3, 'bootstrap': True}. Best is trial 16 with value: 0.8470784839632547.\n",
      "[I 2023-07-03 00:43:33,899] Trial 43 finished with value: 0.83830537044723 and parameters: {'n_estimators': 613, 'max_depth': 7, 'min_samples_split': 62, 'min_samples_leaf': 4, 'bootstrap': False}. Best is trial 16 with value: 0.8470784839632547.\n",
      "[I 2023-07-03 00:44:14,285] Trial 44 finished with value: 0.8289584481981856 and parameters: {'n_estimators': 890, 'max_depth': 25, 'min_samples_split': 71, 'min_samples_leaf': 3, 'bootstrap': True}. Best is trial 16 with value: 0.8470784839632547.\n",
      "[I 2023-07-03 00:44:48,513] Trial 45 finished with value: 0.8251614308875832 and parameters: {'n_estimators': 829, 'max_depth': 26, 'min_samples_split': 87, 'min_samples_leaf': 4, 'bootstrap': True}. Best is trial 16 with value: 0.8470784839632547.\n",
      "[I 2023-07-03 00:45:24,447] Trial 46 finished with value: 0.828807133217544 and parameters: {'n_estimators': 819, 'max_depth': 22, 'min_samples_split': 71, 'min_samples_leaf': 4, 'bootstrap': True}. Best is trial 16 with value: 0.8470784839632547.\n",
      "[I 2023-07-03 00:45:52,805] Trial 47 finished with value: 0.8295880610364985 and parameters: {'n_estimators': 438, 'max_depth': 7, 'min_samples_split': 59, 'min_samples_leaf': 1, 'bootstrap': False}. Best is trial 16 with value: 0.8470784839632547.\n",
      "[I 2023-07-03 00:46:15,442] Trial 48 finished with value: 0.838050554945186 and parameters: {'n_estimators': 358, 'max_depth': 20, 'min_samples_split': 5, 'min_samples_leaf': 1, 'bootstrap': True}. Best is trial 16 with value: 0.8470784839632547.\n",
      "[I 2023-07-03 00:46:25,712] Trial 49 finished with value: 0.8307288765514951 and parameters: {'n_estimators': 214, 'max_depth': 19, 'min_samples_split': 78, 'min_samples_leaf': 1, 'bootstrap': True}. Best is trial 16 with value: 0.8470784839632547.\n",
      "[I 2023-07-03 00:46:37,171] Trial 50 finished with value: 0.8289055363102198 and parameters: {'n_estimators': 146, 'max_depth': 19, 'min_samples_split': 55, 'min_samples_leaf': 3, 'bootstrap': False}. Best is trial 16 with value: 0.8470784839632547.\n",
      "[I 2023-07-03 00:47:02,161] Trial 51 finished with value: 0.8324175649455094 and parameters: {'n_estimators': 565, 'max_depth': 13, 'min_samples_split': 80, 'min_samples_leaf': 2, 'bootstrap': True}. Best is trial 16 with value: 0.8470784839632547.\n",
      "[I 2023-07-03 00:47:07,426] Trial 52 finished with value: 0.8289691873230923 and parameters: {'n_estimators': 122, 'max_depth': 30, 'min_samples_split': 84, 'min_samples_leaf': 3, 'bootstrap': True}. Best is trial 16 with value: 0.8470784839632547.\n",
      "[I 2023-07-03 00:47:18,555] Trial 53 finished with value: 0.8252819756081348 and parameters: {'n_estimators': 240, 'max_depth': 11, 'min_samples_split': 56, 'min_samples_leaf': 3, 'bootstrap': True}. Best is trial 16 with value: 0.8470784839632547.\n",
      "[I 2023-07-03 00:48:04,281] Trial 54 finished with value: 0.832813619317682 and parameters: {'n_estimators': 960, 'max_depth': 24, 'min_samples_split': 56, 'min_samples_leaf': 3, 'bootstrap': True}. Best is trial 16 with value: 0.8470784839632547.\n",
      "[I 2023-07-03 00:48:30,723] Trial 55 finished with value: 0.8396005351842902 and parameters: {'n_estimators': 420, 'max_depth': 25, 'min_samples_split': 3, 'min_samples_leaf': 1, 'bootstrap': True}. Best is trial 16 with value: 0.8470784839632547.\n",
      "[I 2023-07-03 00:49:18,228] Trial 56 finished with value: 0.8344190858109197 and parameters: {'n_estimators': 870, 'max_depth': 23, 'min_samples_split': 48, 'min_samples_leaf': 1, 'bootstrap': True}. Best is trial 16 with value: 0.8470784839632547.\n",
      "[I 2023-07-03 00:49:31,363] Trial 57 finished with value: 0.8327414312607189 and parameters: {'n_estimators': 256, 'max_depth': 16, 'min_samples_split': 41, 'min_samples_leaf': 3, 'bootstrap': True}. Best is trial 16 with value: 0.8470784839632547.\n",
      "[I 2023-07-03 00:49:52,103] Trial 58 finished with value: 0.825252696793641 and parameters: {'n_estimators': 437, 'max_depth': 21, 'min_samples_split': 51, 'min_samples_leaf': 4, 'bootstrap': True}. Best is trial 16 with value: 0.8470784839632547.\n",
      "[I 2023-07-03 00:50:01,384] Trial 59 finished with value: 0.8326639057690592 and parameters: {'n_estimators': 163, 'max_depth': 22, 'min_samples_split': 4, 'min_samples_leaf': 3, 'bootstrap': True}. Best is trial 16 with value: 0.8470784839632547.\n",
      "[I 2023-07-03 00:50:23,655] Trial 60 finished with value: 0.8346856392922849 and parameters: {'n_estimators': 449, 'max_depth': 22, 'min_samples_split': 47, 'min_samples_leaf': 3, 'bootstrap': True}. Best is trial 16 with value: 0.8470784839632547.\n",
      "[I 2023-07-03 00:51:21,610] Trial 61 finished with value: 0.8454353009396955 and parameters: {'n_estimators': 966, 'max_depth': 29, 'min_samples_split': 21, 'min_samples_leaf': 1, 'bootstrap': True}. Best is trial 16 with value: 0.8470784839632547.\n",
      "[I 2023-07-03 00:51:32,502] Trial 62 finished with value: 0.8433647300868292 and parameters: {'n_estimators': 185, 'max_depth': 23, 'min_samples_split': 9, 'min_samples_leaf': 2, 'bootstrap': True}. Best is trial 16 with value: 0.8470784839632547.\n",
      "[I 2023-07-03 00:52:42,532] Trial 63 finished with value: 0.8490138550525389 and parameters: {'n_estimators': 833, 'max_depth': 12, 'min_samples_split': 13, 'min_samples_leaf': 3, 'bootstrap': False}. Best is trial 63 with value: 0.8490138550525389.\n",
      "[I 2023-07-03 00:53:51,926] Trial 64 finished with value: 0.8454213936004159 and parameters: {'n_estimators': 762, 'max_depth': 26, 'min_samples_split': 29, 'min_samples_leaf': 1, 'bootstrap': False}. Best is trial 63 with value: 0.8490138550525389.\n",
      "[I 2023-07-03 00:55:09,986] Trial 65 finished with value: 0.8399309029620478 and parameters: {'n_estimators': 992, 'max_depth': 16, 'min_samples_split': 38, 'min_samples_leaf': 4, 'bootstrap': False}. Best is trial 63 with value: 0.8490138550525389.\n"
     ]
    },
    {
     "name": "stderr",
     "output_type": "stream",
     "text": [
      "[I 2023-07-03 00:56:11,416] Trial 66 finished with value: 0.8308855537561273 and parameters: {'n_estimators': 873, 'max_depth': 16, 'min_samples_split': 76, 'min_samples_leaf': 4, 'bootstrap': False}. Best is trial 63 with value: 0.8490138550525389.\n",
      "[I 2023-07-03 00:56:39,345] Trial 67 finished with value: 0.8384326567784489 and parameters: {'n_estimators': 555, 'max_depth': 27, 'min_samples_split': 33, 'min_samples_leaf': 4, 'bootstrap': True}. Best is trial 63 with value: 0.8490138550525389.\n",
      "[I 2023-07-03 00:57:19,446] Trial 68 finished with value: 0.8275818747265138 and parameters: {'n_estimators': 915, 'max_depth': 7, 'min_samples_split': 33, 'min_samples_leaf': 4, 'bootstrap': True}. Best is trial 63 with value: 0.8490138550525389.\n",
      "[I 2023-07-03 00:58:16,992] Trial 69 finished with value: 0.8379641479694048 and parameters: {'n_estimators': 669, 'max_depth': 17, 'min_samples_split': 31, 'min_samples_leaf': 2, 'bootstrap': False}. Best is trial 63 with value: 0.8490138550525389.\n",
      "[I 2023-07-03 00:59:30,772] Trial 70 finished with value: 0.8435798789765044 and parameters: {'n_estimators': 813, 'max_depth': 26, 'min_samples_split': 11, 'min_samples_leaf': 2, 'bootstrap': False}. Best is trial 63 with value: 0.8490138550525389.\n",
      "[I 2023-07-03 01:00:15,532] Trial 71 finished with value: 0.847189474088409 and parameters: {'n_estimators': 497, 'max_depth': 28, 'min_samples_split': 36, 'min_samples_leaf': 1, 'bootstrap': False}. Best is trial 63 with value: 0.8490138550525389.\n",
      "[I 2023-07-03 01:01:01,221] Trial 72 finished with value: 0.8381669881257781 and parameters: {'n_estimators': 657, 'max_depth': 7, 'min_samples_split': 10, 'min_samples_leaf': 3, 'bootstrap': False}. Best is trial 63 with value: 0.8490138550525389.\n",
      "[I 2023-07-03 01:01:35,323] Trial 73 finished with value: 0.8326899601064687 and parameters: {'n_estimators': 736, 'max_depth': 7, 'min_samples_split': 10, 'min_samples_leaf': 4, 'bootstrap': True}. Best is trial 63 with value: 0.8490138550525389.\n",
      "[I 2023-07-03 01:02:07,669] Trial 74 finished with value: 0.8253011328404544 and parameters: {'n_estimators': 832, 'max_depth': 30, 'min_samples_split': 99, 'min_samples_leaf': 4, 'bootstrap': True}. Best is trial 63 with value: 0.8490138550525389.\n",
      "[I 2023-07-03 01:03:10,141] Trial 75 finished with value: 0.8420649129313471 and parameters: {'n_estimators': 800, 'max_depth': 20, 'min_samples_split': 43, 'min_samples_leaf': 4, 'bootstrap': False}. Best is trial 63 with value: 0.8490138550525389.\n",
      "[I 2023-07-03 01:03:21,011] Trial 76 finished with value: 0.8415702726821095 and parameters: {'n_estimators': 110, 'max_depth': 17, 'min_samples_split': 7, 'min_samples_leaf': 1, 'bootstrap': False}. Best is trial 63 with value: 0.8490138550525389.\n",
      "[I 2023-07-03 01:04:14,890] Trial 77 finished with value: 0.836394101904767 and parameters: {'n_estimators': 772, 'max_depth': 20, 'min_samples_split': 97, 'min_samples_leaf': 2, 'bootstrap': False}. Best is trial 63 with value: 0.8490138550525389.\n",
      "[I 2023-07-03 01:04:40,350] Trial 78 finished with value: 0.845206013149847 and parameters: {'n_estimators': 301, 'max_depth': 31, 'min_samples_split': 3, 'min_samples_leaf': 4, 'bootstrap': False}. Best is trial 63 with value: 0.8490138550525389.\n",
      "[I 2023-07-03 01:05:12,883] Trial 79 finished with value: 0.8379361009104802 and parameters: {'n_estimators': 575, 'max_depth': 31, 'min_samples_split': 9, 'min_samples_leaf': 3, 'bootstrap': True}. Best is trial 63 with value: 0.8490138550525389.\n",
      "[I 2023-07-03 01:06:06,236] Trial 80 finished with value: 0.8419427663125489 and parameters: {'n_estimators': 667, 'max_depth': 23, 'min_samples_split': 46, 'min_samples_leaf': 3, 'bootstrap': False}. Best is trial 63 with value: 0.8490138550525389.\n",
      "[I 2023-07-03 01:06:15,375] Trial 81 finished with value: 0.8270047549270387 and parameters: {'n_estimators': 140, 'max_depth': 12, 'min_samples_split': 96, 'min_samples_leaf': 4, 'bootstrap': False}. Best is trial 63 with value: 0.8490138550525389.\n",
      "[I 2023-07-03 01:06:32,275] Trial 82 finished with value: 0.8272802290276748 and parameters: {'n_estimators': 349, 'max_depth': 10, 'min_samples_split': 47, 'min_samples_leaf': 2, 'bootstrap': True}. Best is trial 63 with value: 0.8490138550525389.\n",
      "[I 2023-07-03 01:07:44,243] Trial 83 finished with value: 0.8326253069708469 and parameters: {'n_estimators': 977, 'max_depth': 31, 'min_samples_split': 71, 'min_samples_leaf': 3, 'bootstrap': False}. Best is trial 63 with value: 0.8490138550525389.\n",
      "[I 2023-07-03 01:08:11,448] Trial 84 finished with value: 0.8288841513395573 and parameters: {'n_estimators': 716, 'max_depth': 9, 'min_samples_split': 92, 'min_samples_leaf': 4, 'bootstrap': True}. Best is trial 63 with value: 0.8490138550525389.\n",
      "[I 2023-07-03 01:08:37,421] Trial 85 finished with value: 0.8233128739978396 and parameters: {'n_estimators': 652, 'max_depth': 16, 'min_samples_split': 94, 'min_samples_leaf': 4, 'bootstrap': True}. Best is trial 63 with value: 0.8490138550525389.\n",
      "[I 2023-07-03 01:08:56,812] Trial 86 finished with value: 0.8250617859640192 and parameters: {'n_estimators': 439, 'max_depth': 26, 'min_samples_split': 99, 'min_samples_leaf': 1, 'bootstrap': True}. Best is trial 63 with value: 0.8490138550525389.\n",
      "[I 2023-07-03 01:09:40,053] Trial 87 finished with value: 0.8306435133908071 and parameters: {'n_estimators': 973, 'max_depth': 27, 'min_samples_split': 84, 'min_samples_leaf': 2, 'bootstrap': True}. Best is trial 63 with value: 0.8490138550525389.\n",
      "[I 2023-07-03 01:09:46,413] Trial 88 finished with value: 0.8289627828017142 and parameters: {'n_estimators': 150, 'max_depth': 28, 'min_samples_split': 82, 'min_samples_leaf': 4, 'bootstrap': True}. Best is trial 63 with value: 0.8490138550525389.\n",
      "[I 2023-07-03 01:10:23,227] Trial 89 finished with value: 0.8270701372349943 and parameters: {'n_estimators': 792, 'max_depth': 30, 'min_samples_split': 86, 'min_samples_leaf': 1, 'bootstrap': True}. Best is trial 63 with value: 0.8490138550525389.\n",
      "[I 2023-07-03 01:11:15,006] Trial 90 finished with value: 0.8380901367892102 and parameters: {'n_estimators': 959, 'max_depth': 21, 'min_samples_split': 24, 'min_samples_leaf': 3, 'bootstrap': True}. Best is trial 63 with value: 0.8490138550525389.\n",
      "[I 2023-07-03 01:11:30,444] Trial 91 finished with value: 0.8343992759133186 and parameters: {'n_estimators': 202, 'max_depth': 23, 'min_samples_split': 53, 'min_samples_leaf': 4, 'bootstrap': False}. Best is trial 63 with value: 0.8490138550525389.\n",
      "[I 2023-07-03 01:11:56,698] Trial 92 finished with value: 0.8269537010961916 and parameters: {'n_estimators': 597, 'max_depth': 20, 'min_samples_split': 88, 'min_samples_leaf': 2, 'bootstrap': True}. Best is trial 63 with value: 0.8490138550525389.\n",
      "[I 2023-07-03 01:12:34,914] Trial 93 finished with value: 0.8306275857653793 and parameters: {'n_estimators': 780, 'max_depth': 21, 'min_samples_split': 71, 'min_samples_leaf': 1, 'bootstrap': True}. Best is trial 63 with value: 0.8490138550525389.\n",
      "[I 2023-07-03 01:12:57,234] Trial 94 finished with value: 0.8384397467419828 and parameters: {'n_estimators': 415, 'max_depth': 20, 'min_samples_split': 40, 'min_samples_leaf': 2, 'bootstrap': True}. Best is trial 63 with value: 0.8490138550525389.\n",
      "[I 2023-07-03 01:13:42,851] Trial 95 finished with value: 0.8436709115422711 and parameters: {'n_estimators': 563, 'max_depth': 26, 'min_samples_split': 41, 'min_samples_leaf': 3, 'bootstrap': False}. Best is trial 63 with value: 0.8490138550525389.\n",
      "[I 2023-07-03 01:14:01,947] Trial 96 finished with value: 0.8420438171720738 and parameters: {'n_estimators': 232, 'max_depth': 30, 'min_samples_split': 50, 'min_samples_leaf': 2, 'bootstrap': False}. Best is trial 63 with value: 0.8490138550525389.\n",
      "[I 2023-07-03 01:14:44,912] Trial 97 finished with value: 0.8343497474291652 and parameters: {'n_estimators': 543, 'max_depth': 13, 'min_samples_split': 64, 'min_samples_leaf': 1, 'bootstrap': False}. Best is trial 63 with value: 0.8490138550525389.\n",
      "[I 2023-07-03 01:15:01,594] Trial 98 finished with value: 0.8418191988064458 and parameters: {'n_estimators': 215, 'max_depth': 9, 'min_samples_split': 15, 'min_samples_leaf': 3, 'bootstrap': False}. Best is trial 63 with value: 0.8490138550525389.\n"
     ]
    },
    {
     "name": "stderr",
     "output_type": "stream",
     "text": [
      "[I 2023-07-03 01:15:46,211] Trial 99 finished with value: 0.8323434720584018 and parameters: {'n_estimators': 908, 'max_depth': 17, 'min_samples_split': 68, 'min_samples_leaf': 1, 'bootstrap': True}. Best is trial 63 with value: 0.8490138550525389.\n"
     ]
    }
   ],
   "source": [
    "study = optuna.create_study(direction='maximize', sampler=RandomSampler(seed=42))\n",
    "study.optimize(objective, n_trials=100)"
   ]
  },
  {
   "cell_type": "code",
   "execution_count": 175,
   "metadata": {
    "id": "_2e5Mz5YY1oE"
   },
   "outputs": [],
   "source": [
    "# Get the best hyperparameters from Optuna\n",
    "best_params = study.best_params"
   ]
  },
  {
   "cell_type": "code",
   "execution_count": 176,
   "metadata": {
    "colab": {
     "base_uri": "https://localhost:8080/"
    },
    "id": "nktoosvMY1oE",
    "outputId": "8b762a15-7621-4f2b-8378-375d23836351"
   },
   "outputs": [
    {
     "data": {
      "text/plain": [
       "{'n_estimators': 833,\n",
       " 'max_depth': 12,\n",
       " 'min_samples_split': 13,\n",
       " 'min_samples_leaf': 3,\n",
       " 'bootstrap': False}"
      ]
     },
     "execution_count": 176,
     "metadata": {},
     "output_type": "execute_result"
    }
   ],
   "source": [
    "best_params #42 random seed"
   ]
  },
  {
   "attachments": {},
   "cell_type": "markdown",
   "metadata": {
    "id": "t0EjgtUbY1oE"
   },
   "source": [
    "#### Get best parameters and make predictions"
   ]
  },
  {
   "cell_type": "code",
   "execution_count": 177,
   "metadata": {
    "id": "Uw_rM0MGY1oE"
   },
   "outputs": [],
   "source": [
    "#selected_features_indices = [i for i, value in enumerate(best_features) if value]\n",
    "X_test_selected = X_test[:, selected_features]"
   ]
  },
  {
   "cell_type": "code",
   "execution_count": 178,
   "metadata": {
    "colab": {
     "base_uri": "https://localhost:8080/"
    },
    "id": "i0bv6G_jY1oE",
    "outputId": "569064a9-c54f-4c4e-9499-5b43abd72aed"
   },
   "outputs": [
    {
     "data": {
      "text/plain": [
       "(286, 300)"
      ]
     },
     "execution_count": 178,
     "metadata": {},
     "output_type": "execute_result"
    }
   ],
   "source": [
    "X_test_selected.shape"
   ]
  },
  {
   "cell_type": "code",
   "execution_count": 179,
   "metadata": {
    "id": "QTir4VPAY1oF"
   },
   "outputs": [],
   "source": [
    "X_train_val_selected_final_features = X_train_val[:, selected_features]"
   ]
  },
  {
   "cell_type": "code",
   "execution_count": 180,
   "metadata": {
    "colab": {
     "base_uri": "https://localhost:8080/"
    },
    "id": "Dm1FSm-aY1oF",
    "outputId": "aa0198b6-d66b-4124-cae1-e05e8af42c3d"
   },
   "outputs": [
    {
     "data": {
      "text/plain": [
       "(1141, 300)"
      ]
     },
     "execution_count": 180,
     "metadata": {},
     "output_type": "execute_result"
    }
   ],
   "source": [
    "X_train_val_selected_final_features.shape"
   ]
  },
  {
   "cell_type": "code",
   "execution_count": 181,
   "metadata": {
    "id": "3vPk6DWeY1oF"
   },
   "outputs": [],
   "source": [
    "best_classifier_RF = RandomForestClassifier(**best_params)"
   ]
  },
  {
   "cell_type": "code",
   "execution_count": 182,
   "metadata": {
    "colab": {
     "base_uri": "https://localhost:8080/",
     "height": 92
    },
    "id": "sN1zj4s4Y1oF",
    "outputId": "be067b2b-1c8a-40ea-c4c6-48e229ebc7c3"
   },
   "outputs": [
    {
     "data": {
      "text/html": [
       "<style>#sk-container-id-7 {color: black;}#sk-container-id-7 pre{padding: 0;}#sk-container-id-7 div.sk-toggleable {background-color: white;}#sk-container-id-7 label.sk-toggleable__label {cursor: pointer;display: block;width: 100%;margin-bottom: 0;padding: 0.3em;box-sizing: border-box;text-align: center;}#sk-container-id-7 label.sk-toggleable__label-arrow:before {content: \"▸\";float: left;margin-right: 0.25em;color: #696969;}#sk-container-id-7 label.sk-toggleable__label-arrow:hover:before {color: black;}#sk-container-id-7 div.sk-estimator:hover label.sk-toggleable__label-arrow:before {color: black;}#sk-container-id-7 div.sk-toggleable__content {max-height: 0;max-width: 0;overflow: hidden;text-align: left;background-color: #f0f8ff;}#sk-container-id-7 div.sk-toggleable__content pre {margin: 0.2em;color: black;border-radius: 0.25em;background-color: #f0f8ff;}#sk-container-id-7 input.sk-toggleable__control:checked~div.sk-toggleable__content {max-height: 200px;max-width: 100%;overflow: auto;}#sk-container-id-7 input.sk-toggleable__control:checked~label.sk-toggleable__label-arrow:before {content: \"▾\";}#sk-container-id-7 div.sk-estimator input.sk-toggleable__control:checked~label.sk-toggleable__label {background-color: #d4ebff;}#sk-container-id-7 div.sk-label input.sk-toggleable__control:checked~label.sk-toggleable__label {background-color: #d4ebff;}#sk-container-id-7 input.sk-hidden--visually {border: 0;clip: rect(1px 1px 1px 1px);clip: rect(1px, 1px, 1px, 1px);height: 1px;margin: -1px;overflow: hidden;padding: 0;position: absolute;width: 1px;}#sk-container-id-7 div.sk-estimator {font-family: monospace;background-color: #f0f8ff;border: 1px dotted black;border-radius: 0.25em;box-sizing: border-box;margin-bottom: 0.5em;}#sk-container-id-7 div.sk-estimator:hover {background-color: #d4ebff;}#sk-container-id-7 div.sk-parallel-item::after {content: \"\";width: 100%;border-bottom: 1px solid gray;flex-grow: 1;}#sk-container-id-7 div.sk-label:hover label.sk-toggleable__label {background-color: #d4ebff;}#sk-container-id-7 div.sk-serial::before {content: \"\";position: absolute;border-left: 1px solid gray;box-sizing: border-box;top: 0;bottom: 0;left: 50%;z-index: 0;}#sk-container-id-7 div.sk-serial {display: flex;flex-direction: column;align-items: center;background-color: white;padding-right: 0.2em;padding-left: 0.2em;position: relative;}#sk-container-id-7 div.sk-item {position: relative;z-index: 1;}#sk-container-id-7 div.sk-parallel {display: flex;align-items: stretch;justify-content: center;background-color: white;position: relative;}#sk-container-id-7 div.sk-item::before, #sk-container-id-7 div.sk-parallel-item::before {content: \"\";position: absolute;border-left: 1px solid gray;box-sizing: border-box;top: 0;bottom: 0;left: 50%;z-index: -1;}#sk-container-id-7 div.sk-parallel-item {display: flex;flex-direction: column;z-index: 1;position: relative;background-color: white;}#sk-container-id-7 div.sk-parallel-item:first-child::after {align-self: flex-end;width: 50%;}#sk-container-id-7 div.sk-parallel-item:last-child::after {align-self: flex-start;width: 50%;}#sk-container-id-7 div.sk-parallel-item:only-child::after {width: 0;}#sk-container-id-7 div.sk-dashed-wrapped {border: 1px dashed gray;margin: 0 0.4em 0.5em 0.4em;box-sizing: border-box;padding-bottom: 0.4em;background-color: white;}#sk-container-id-7 div.sk-label label {font-family: monospace;font-weight: bold;display: inline-block;line-height: 1.2em;}#sk-container-id-7 div.sk-label-container {text-align: center;}#sk-container-id-7 div.sk-container {/* jupyter's `normalize.less` sets `[hidden] { display: none; }` but bootstrap.min.css set `[hidden] { display: none !important; }` so we also need the `!important` here to be able to override the default hidden behavior on the sphinx rendered scikit-learn.org. See: https://github.com/scikit-learn/scikit-learn/issues/21755 */display: inline-block !important;position: relative;}#sk-container-id-7 div.sk-text-repr-fallback {display: none;}</style><div id=\"sk-container-id-7\" class=\"sk-top-container\"><div class=\"sk-text-repr-fallback\"><pre>RandomForestClassifier(bootstrap=False, max_depth=12, min_samples_leaf=3,\n",
       "                       min_samples_split=13, n_estimators=833)</pre><b>In a Jupyter environment, please rerun this cell to show the HTML representation or trust the notebook. <br />On GitHub, the HTML representation is unable to render, please try loading this page with nbviewer.org.</b></div><div class=\"sk-container\" hidden><div class=\"sk-item\"><div class=\"sk-estimator sk-toggleable\"><input class=\"sk-toggleable__control sk-hidden--visually\" id=\"sk-estimator-id-7\" type=\"checkbox\" checked><label for=\"sk-estimator-id-7\" class=\"sk-toggleable__label sk-toggleable__label-arrow\">RandomForestClassifier</label><div class=\"sk-toggleable__content\"><pre>RandomForestClassifier(bootstrap=False, max_depth=12, min_samples_leaf=3,\n",
       "                       min_samples_split=13, n_estimators=833)</pre></div></div></div></div></div>"
      ],
      "text/plain": [
       "RandomForestClassifier(bootstrap=False, max_depth=12, min_samples_leaf=3,\n",
       "                       min_samples_split=13, n_estimators=833)"
      ]
     },
     "execution_count": 182,
     "metadata": {},
     "output_type": "execute_result"
    }
   ],
   "source": [
    "best_classifier_RF.fit(X_train_val_selected_final_features, y_train_val)"
   ]
  },
  {
   "cell_type": "code",
   "execution_count": 183,
   "metadata": {
    "id": "kQq-KrpgY1oG"
   },
   "outputs": [],
   "source": [
    "y_test_pred = best_classifier_RF.predict(X_test_selected)"
   ]
  },
  {
   "cell_type": "code",
   "execution_count": 184,
   "metadata": {
    "id": "QbZyogmlY1oG"
   },
   "outputs": [],
   "source": [
    "#Validate the model  using balanced_acc, precision,recall and f1\n",
    "balanced_acc_mrmr_RF= balanced_accuracy_score(y_test, y_test_pred)\n",
    "precision_mrmr_RF = precision_score(y_test, y_test_pred,average='weighted')\n",
    "recall_mrmr_RF = recall_score(y_test, y_test_pred,average='weighted')\n",
    "f1_mrmr_RF = f1_score(y_test, y_test_pred,average='weighted')"
   ]
  },
  {
   "cell_type": "code",
   "execution_count": 185,
   "metadata": {
    "colab": {
     "base_uri": "https://localhost:8080/"
    },
    "id": "P3CNzQxCY1oG",
    "outputId": "aec60a6f-3432-4be4-fd2a-de7be21a5eaf"
   },
   "outputs": [
    {
     "data": {
      "text/plain": [
       "0.9137572070909169"
      ]
     },
     "execution_count": 185,
     "metadata": {},
     "output_type": "execute_result"
    }
   ],
   "source": [
    "balanced_acc_mrmr_RF"
   ]
  },
  {
   "cell_type": "code",
   "execution_count": 186,
   "metadata": {
    "colab": {
     "base_uri": "https://localhost:8080/"
    },
    "id": "KO6lt9U-Y1oG",
    "outputId": "e0610367-756a-4b98-bb6b-1a85bb0034ee"
   },
   "outputs": [
    {
     "data": {
      "text/plain": [
       "0.9241877831163545"
      ]
     },
     "execution_count": 186,
     "metadata": {},
     "output_type": "execute_result"
    }
   ],
   "source": [
    "precision_mrmr_RF"
   ]
  },
  {
   "cell_type": "code",
   "execution_count": 187,
   "metadata": {
    "colab": {
     "base_uri": "https://localhost:8080/"
    },
    "id": "fjJVc2kqY1oH",
    "outputId": "9d9b1818-aa52-4952-be24-54a8f64ac80d"
   },
   "outputs": [
    {
     "data": {
      "text/plain": [
       "0.9230769230769231"
      ]
     },
     "execution_count": 187,
     "metadata": {},
     "output_type": "execute_result"
    }
   ],
   "source": [
    "recall_mrmr_RF"
   ]
  },
  {
   "cell_type": "code",
   "execution_count": 188,
   "metadata": {
    "colab": {
     "base_uri": "https://localhost:8080/"
    },
    "id": "Nk-1nPPTY1oH",
    "outputId": "2cee7867-c28b-485f-f88d-11ae0c70caf6"
   },
   "outputs": [
    {
     "data": {
      "text/plain": [
       "0.9224590822699559"
      ]
     },
     "execution_count": 188,
     "metadata": {},
     "output_type": "execute_result"
    }
   ],
   "source": [
    "f1_mrmr_RF"
   ]
  },
  {
   "cell_type": "code",
   "execution_count": 189,
   "metadata": {
    "colab": {
     "base_uri": "https://localhost:8080/"
    },
    "id": "-Z8zSwEgY1oH",
    "outputId": "64b6ef28-1a06-4b7c-d427-efa4f15d2ead"
   },
   "outputs": [
    {
     "data": {
      "text/plain": [
       "array([0, 0, 1, 0, 0, 0, 0, 0, 1, 0, 3, 2, 2, 1, 1, 3, 3, 1, 2, 3, 3, 0,\n",
       "       0, 0, 3, 0, 1, 2, 0, 0, 3, 3, 1, 0, 0, 0, 3, 3, 2, 1, 3, 0, 3, 3,\n",
       "       0, 2, 3, 0, 0, 2, 2, 0, 2, 0, 0, 0, 3, 1, 0, 2, 0, 1, 2, 0, 0, 2,\n",
       "       2, 2, 0, 0, 1, 0, 1, 3, 0, 0, 2, 0, 2, 1, 0, 1, 0, 0, 1, 0, 1, 1,\n",
       "       2, 0, 1, 0, 3, 2, 0, 1, 0, 2, 1, 2, 1, 3, 0, 2, 0, 1, 3, 2, 1, 0,\n",
       "       0, 2, 2, 3, 0, 0, 2, 1, 2, 0, 1, 1, 0, 3, 1, 1, 2, 0, 3, 3, 0, 0,\n",
       "       3, 0, 0, 0, 0, 3, 0, 3, 3, 0, 0, 3, 3, 0, 2, 0, 3, 0, 2, 0, 0, 2,\n",
       "       2, 1, 0, 3, 0, 2, 2, 1, 2, 0, 3, 1, 2, 2, 0, 2, 0, 3, 3, 2, 0, 1,\n",
       "       0, 0, 0, 0, 2, 2, 0, 2, 0, 0, 1, 0, 0, 0, 3, 2, 1, 2, 3, 1, 0, 0,\n",
       "       3, 2, 0, 3, 3, 1, 0, 0, 0, 0, 2, 0, 2, 0, 3, 1, 0, 3, 2, 3, 0, 3,\n",
       "       0, 0, 0, 1, 0, 2, 0, 1, 0, 0, 0, 0, 3, 1, 0, 2, 3, 1, 2, 3, 0, 1,\n",
       "       0, 0, 0, 0, 0, 1, 0, 0, 0, 0, 2, 0, 0, 0, 3, 2, 0, 0, 0, 3, 0, 0,\n",
       "       0, 0, 0, 1, 0, 0, 1, 0, 2, 0, 1, 1, 0, 0, 0, 3, 0, 0, 0, 0, 1, 2])"
      ]
     },
     "execution_count": 189,
     "metadata": {},
     "output_type": "execute_result"
    }
   ],
   "source": [
    "y_test_pred"
   ]
  },
  {
   "cell_type": "code",
   "execution_count": 190,
   "metadata": {
    "colab": {
     "base_uri": "https://localhost:8080/"
    },
    "id": "LNG9BrbEY1oH",
    "outputId": "b6a8b227-341b-4032-d827-4e91a5b9f7f7"
   },
   "outputs": [
    {
     "data": {
      "text/plain": [
       "array([0, 0, 1, 2, 0, 0, 0, 0, 1, 0, 0, 2, 2, 1, 1, 3, 3, 1, 2, 3, 3, 0,\n",
       "       0, 0, 3, 0, 1, 2, 0, 0, 3, 3, 2, 0, 0, 0, 1, 3, 2, 1, 3, 0, 3, 3,\n",
       "       0, 2, 3, 1, 2, 2, 2, 0, 2, 0, 0, 0, 0, 1, 0, 2, 0, 1, 2, 0, 0, 2,\n",
       "       2, 2, 0, 0, 1, 0, 1, 3, 0, 0, 2, 0, 0, 1, 0, 1, 0, 2, 1, 3, 1, 1,\n",
       "       2, 0, 1, 0, 3, 2, 0, 1, 0, 2, 1, 2, 1, 3, 0, 2, 0, 1, 3, 2, 1, 0,\n",
       "       0, 2, 2, 3, 0, 0, 0, 1, 2, 0, 1, 3, 0, 3, 1, 1, 2, 2, 3, 3, 0, 0,\n",
       "       3, 0, 0, 0, 0, 3, 0, 3, 3, 0, 2, 3, 3, 2, 2, 0, 3, 2, 2, 0, 0, 2,\n",
       "       2, 1, 0, 3, 0, 2, 2, 1, 2, 0, 3, 1, 2, 2, 0, 2, 0, 3, 3, 2, 0, 1,\n",
       "       0, 1, 0, 0, 2, 2, 0, 2, 0, 0, 1, 0, 0, 0, 3, 2, 1, 2, 3, 1, 0, 0,\n",
       "       3, 2, 0, 3, 3, 1, 0, 2, 0, 0, 2, 0, 2, 0, 3, 1, 0, 3, 2, 3, 0, 3,\n",
       "       0, 0, 0, 1, 0, 2, 0, 1, 0, 0, 0, 0, 3, 1, 2, 1, 3, 1, 2, 3, 0, 1,\n",
       "       1, 0, 0, 0, 0, 1, 0, 0, 0, 0, 2, 0, 0, 0, 3, 2, 0, 0, 0, 3, 0, 0,\n",
       "       0, 0, 0, 0, 0, 0, 1, 0, 2, 0, 1, 1, 0, 0, 0, 3, 0, 0, 0, 0, 1, 2])"
      ]
     },
     "execution_count": 190,
     "metadata": {},
     "output_type": "execute_result"
    }
   ],
   "source": [
    "y_test"
   ]
  },
  {
   "attachments": {},
   "cell_type": "markdown",
   "metadata": {
    "id": "uFMtP60e55Nj"
   },
   "source": [
    "#### Feature importance"
   ]
  },
  {
   "cell_type": "code",
   "execution_count": 191,
   "metadata": {
    "colab": {
     "base_uri": "https://localhost:8080/",
     "height": 487
    },
    "id": "HC2Dg8em55Nj",
    "outputId": "7bd32ed4-5e32-440a-8691-f50a8462c84d"
   },
   "outputs": [
    {
     "data": {
      "text/html": [
       "<div>\n",
       "<style scoped>\n",
       "    .dataframe tbody tr th:only-of-type {\n",
       "        vertical-align: middle;\n",
       "    }\n",
       "\n",
       "    .dataframe tbody tr th {\n",
       "        vertical-align: top;\n",
       "    }\n",
       "\n",
       "    .dataframe thead th {\n",
       "        text-align: right;\n",
       "    }\n",
       "</style>\n",
       "<table border=\"1\" class=\"dataframe\">\n",
       "  <thead>\n",
       "    <tr style=\"text-align: right;\">\n",
       "      <th></th>\n",
       "      <th>ENSG00000111011</th>\n",
       "      <th>ENSG00000115947</th>\n",
       "      <th>ENSG00000166352</th>\n",
       "      <th>ENSG00000152082</th>\n",
       "      <th>ENSG00000198804</th>\n",
       "      <th>ENSG00000074800</th>\n",
       "      <th>ENSG00000109113</th>\n",
       "      <th>ENSG00000152518</th>\n",
       "      <th>ENSG00000132475</th>\n",
       "      <th>ENSG00000146540</th>\n",
       "      <th>...</th>\n",
       "      <th>ENSG00000077942</th>\n",
       "      <th>ENSG00000197006</th>\n",
       "      <th>ENSG00000139684</th>\n",
       "      <th>ENSG00000185559</th>\n",
       "      <th>ENSG00000172809</th>\n",
       "      <th>ENSG00000136888</th>\n",
       "      <th>ENSG00000270367</th>\n",
       "      <th>ENSG00000130638</th>\n",
       "      <th>ENSG00000074695</th>\n",
       "      <th>ENSG00000099622</th>\n",
       "    </tr>\n",
       "  </thead>\n",
       "  <tbody>\n",
       "    <tr>\n",
       "      <th>0</th>\n",
       "      <td>122.993670</td>\n",
       "      <td>356.62660</td>\n",
       "      <td>198.68205</td>\n",
       "      <td>707.21356</td>\n",
       "      <td>9065.20200</td>\n",
       "      <td>983.94934</td>\n",
       "      <td>276.73575</td>\n",
       "      <td>276.73575</td>\n",
       "      <td>1229.93660</td>\n",
       "      <td>245.987340</td>\n",
       "      <td>...</td>\n",
       "      <td>245.987340</td>\n",
       "      <td>215.238920</td>\n",
       "      <td>30.748417</td>\n",
       "      <td>61.496834</td>\n",
       "      <td>2121.6409</td>\n",
       "      <td>338.23257</td>\n",
       "      <td>107.727104</td>\n",
       "      <td>92.245255</td>\n",
       "      <td>61.496834</td>\n",
       "      <td>399.72943</td>\n",
       "    </tr>\n",
       "    <tr>\n",
       "      <th>1</th>\n",
       "      <td>0.000000</td>\n",
       "      <td>0.00000</td>\n",
       "      <td>0.00000</td>\n",
       "      <td>1291.15550</td>\n",
       "      <td>0.00000</td>\n",
       "      <td>2582.31100</td>\n",
       "      <td>0.00000</td>\n",
       "      <td>215.19258</td>\n",
       "      <td>215.19258</td>\n",
       "      <td>215.192580</td>\n",
       "      <td>...</td>\n",
       "      <td>0.000000</td>\n",
       "      <td>215.192580</td>\n",
       "      <td>1075.962900</td>\n",
       "      <td>0.000000</td>\n",
       "      <td>4088.6590</td>\n",
       "      <td>215.19258</td>\n",
       "      <td>0.000000</td>\n",
       "      <td>0.000000</td>\n",
       "      <td>0.000000</td>\n",
       "      <td>860.77030</td>\n",
       "    </tr>\n",
       "    <tr>\n",
       "      <th>2</th>\n",
       "      <td>0.000000</td>\n",
       "      <td>353.71310</td>\n",
       "      <td>74.16356</td>\n",
       "      <td>424.45575</td>\n",
       "      <td>9193.14500</td>\n",
       "      <td>778.16880</td>\n",
       "      <td>176.85655</td>\n",
       "      <td>247.59918</td>\n",
       "      <td>353.71310</td>\n",
       "      <td>70.742620</td>\n",
       "      <td>...</td>\n",
       "      <td>0.000000</td>\n",
       "      <td>106.113940</td>\n",
       "      <td>141.485240</td>\n",
       "      <td>0.000000</td>\n",
       "      <td>3784.7302</td>\n",
       "      <td>353.71310</td>\n",
       "      <td>98.230200</td>\n",
       "      <td>35.371310</td>\n",
       "      <td>247.599180</td>\n",
       "      <td>353.71310</td>\n",
       "    </tr>\n",
       "    <tr>\n",
       "      <th>3</th>\n",
       "      <td>0.000000</td>\n",
       "      <td>829.24176</td>\n",
       "      <td>65.46645</td>\n",
       "      <td>392.79870</td>\n",
       "      <td>10016.36700</td>\n",
       "      <td>327.33228</td>\n",
       "      <td>196.39935</td>\n",
       "      <td>196.39935</td>\n",
       "      <td>851.06390</td>\n",
       "      <td>65.466450</td>\n",
       "      <td>...</td>\n",
       "      <td>130.932900</td>\n",
       "      <td>130.932900</td>\n",
       "      <td>130.932900</td>\n",
       "      <td>0.000000</td>\n",
       "      <td>2487.7253</td>\n",
       "      <td>327.33228</td>\n",
       "      <td>467.229550</td>\n",
       "      <td>0.000000</td>\n",
       "      <td>130.932900</td>\n",
       "      <td>785.59740</td>\n",
       "    </tr>\n",
       "    <tr>\n",
       "      <th>4</th>\n",
       "      <td>0.000000</td>\n",
       "      <td>612.92285</td>\n",
       "      <td>143.41394</td>\n",
       "      <td>448.69458</td>\n",
       "      <td>18116.04300</td>\n",
       "      <td>448.69458</td>\n",
       "      <td>224.34729</td>\n",
       "      <td>224.34729</td>\n",
       "      <td>785.21550</td>\n",
       "      <td>112.173645</td>\n",
       "      <td>...</td>\n",
       "      <td>56.086823</td>\n",
       "      <td>112.173645</td>\n",
       "      <td>112.173645</td>\n",
       "      <td>0.000000</td>\n",
       "      <td>2860.4280</td>\n",
       "      <td>224.34729</td>\n",
       "      <td>149.996750</td>\n",
       "      <td>56.086823</td>\n",
       "      <td>0.000000</td>\n",
       "      <td>280.43410</td>\n",
       "    </tr>\n",
       "    <tr>\n",
       "      <th>...</th>\n",
       "      <td>...</td>\n",
       "      <td>...</td>\n",
       "      <td>...</td>\n",
       "      <td>...</td>\n",
       "      <td>...</td>\n",
       "      <td>...</td>\n",
       "      <td>...</td>\n",
       "      <td>...</td>\n",
       "      <td>...</td>\n",
       "      <td>...</td>\n",
       "      <td>...</td>\n",
       "      <td>...</td>\n",
       "      <td>...</td>\n",
       "      <td>...</td>\n",
       "      <td>...</td>\n",
       "      <td>...</td>\n",
       "      <td>...</td>\n",
       "      <td>...</td>\n",
       "      <td>...</td>\n",
       "      <td>...</td>\n",
       "      <td>...</td>\n",
       "    </tr>\n",
       "    <tr>\n",
       "      <th>1422</th>\n",
       "      <td>0.000000</td>\n",
       "      <td>285.38812</td>\n",
       "      <td>0.00000</td>\n",
       "      <td>1426.94070</td>\n",
       "      <td>11986.30100</td>\n",
       "      <td>0.00000</td>\n",
       "      <td>0.00000</td>\n",
       "      <td>0.00000</td>\n",
       "      <td>1426.94070</td>\n",
       "      <td>285.388120</td>\n",
       "      <td>...</td>\n",
       "      <td>0.000000</td>\n",
       "      <td>0.000000</td>\n",
       "      <td>285.388120</td>\n",
       "      <td>0.000000</td>\n",
       "      <td>3995.4336</td>\n",
       "      <td>570.77625</td>\n",
       "      <td>0.000000</td>\n",
       "      <td>0.000000</td>\n",
       "      <td>0.000000</td>\n",
       "      <td>0.00000</td>\n",
       "    </tr>\n",
       "    <tr>\n",
       "      <th>1423</th>\n",
       "      <td>172.205950</td>\n",
       "      <td>0.00000</td>\n",
       "      <td>0.00000</td>\n",
       "      <td>0.00000</td>\n",
       "      <td>172.20595</td>\n",
       "      <td>3960.73680</td>\n",
       "      <td>0.00000</td>\n",
       "      <td>344.41190</td>\n",
       "      <td>2410.88330</td>\n",
       "      <td>0.000000</td>\n",
       "      <td>...</td>\n",
       "      <td>0.000000</td>\n",
       "      <td>0.000000</td>\n",
       "      <td>172.205950</td>\n",
       "      <td>344.411900</td>\n",
       "      <td>1205.4417</td>\n",
       "      <td>0.00000</td>\n",
       "      <td>0.000000</td>\n",
       "      <td>516.617860</td>\n",
       "      <td>0.000000</td>\n",
       "      <td>172.20595</td>\n",
       "    </tr>\n",
       "    <tr>\n",
       "      <th>1424</th>\n",
       "      <td>73.432220</td>\n",
       "      <td>342.68372</td>\n",
       "      <td>0.00000</td>\n",
       "      <td>220.29666</td>\n",
       "      <td>14539.58000</td>\n",
       "      <td>5140.25540</td>\n",
       "      <td>220.29666</td>\n",
       "      <td>514.02550</td>\n",
       "      <td>660.89000</td>\n",
       "      <td>146.864440</td>\n",
       "      <td>...</td>\n",
       "      <td>367.161100</td>\n",
       "      <td>0.000000</td>\n",
       "      <td>220.296660</td>\n",
       "      <td>0.000000</td>\n",
       "      <td>1909.2378</td>\n",
       "      <td>220.29666</td>\n",
       "      <td>0.000000</td>\n",
       "      <td>73.432220</td>\n",
       "      <td>367.161100</td>\n",
       "      <td>514.02550</td>\n",
       "    </tr>\n",
       "    <tr>\n",
       "      <th>1425</th>\n",
       "      <td>55.496975</td>\n",
       "      <td>277.48486</td>\n",
       "      <td>0.00000</td>\n",
       "      <td>776.95764</td>\n",
       "      <td>5771.68550</td>\n",
       "      <td>2719.35180</td>\n",
       "      <td>221.98790</td>\n",
       "      <td>0.00000</td>\n",
       "      <td>1720.40620</td>\n",
       "      <td>110.993950</td>\n",
       "      <td>...</td>\n",
       "      <td>0.000000</td>\n",
       "      <td>166.490920</td>\n",
       "      <td>110.993950</td>\n",
       "      <td>110.993950</td>\n",
       "      <td>1220.9335</td>\n",
       "      <td>332.98184</td>\n",
       "      <td>0.000000</td>\n",
       "      <td>0.000000</td>\n",
       "      <td>166.490920</td>\n",
       "      <td>221.98790</td>\n",
       "    </tr>\n",
       "    <tr>\n",
       "      <th>1426</th>\n",
       "      <td>76.892020</td>\n",
       "      <td>225.21428</td>\n",
       "      <td>115.33803</td>\n",
       "      <td>403.68310</td>\n",
       "      <td>8285.11500</td>\n",
       "      <td>1749.29350</td>\n",
       "      <td>192.23006</td>\n",
       "      <td>153.78404</td>\n",
       "      <td>1268.71840</td>\n",
       "      <td>76.892020</td>\n",
       "      <td>...</td>\n",
       "      <td>96.115030</td>\n",
       "      <td>192.230060</td>\n",
       "      <td>153.784040</td>\n",
       "      <td>384.460100</td>\n",
       "      <td>1787.7395</td>\n",
       "      <td>326.79108</td>\n",
       "      <td>0.000000</td>\n",
       "      <td>115.338030</td>\n",
       "      <td>192.230060</td>\n",
       "      <td>768.92020</td>\n",
       "    </tr>\n",
       "  </tbody>\n",
       "</table>\n",
       "<p>1427 rows × 300 columns</p>\n",
       "</div>"
      ],
      "text/plain": [
       "      ENSG00000111011  ENSG00000115947  ENSG00000166352  ENSG00000152082  \\\n",
       "0          122.993670        356.62660        198.68205        707.21356   \n",
       "1            0.000000          0.00000          0.00000       1291.15550   \n",
       "2            0.000000        353.71310         74.16356        424.45575   \n",
       "3            0.000000        829.24176         65.46645        392.79870   \n",
       "4            0.000000        612.92285        143.41394        448.69458   \n",
       "...               ...              ...              ...              ...   \n",
       "1422         0.000000        285.38812          0.00000       1426.94070   \n",
       "1423       172.205950          0.00000          0.00000          0.00000   \n",
       "1424        73.432220        342.68372          0.00000        220.29666   \n",
       "1425        55.496975        277.48486          0.00000        776.95764   \n",
       "1426        76.892020        225.21428        115.33803        403.68310   \n",
       "\n",
       "      ENSG00000198804  ENSG00000074800  ENSG00000109113  ENSG00000152518  \\\n",
       "0          9065.20200        983.94934        276.73575        276.73575   \n",
       "1             0.00000       2582.31100          0.00000        215.19258   \n",
       "2          9193.14500        778.16880        176.85655        247.59918   \n",
       "3         10016.36700        327.33228        196.39935        196.39935   \n",
       "4         18116.04300        448.69458        224.34729        224.34729   \n",
       "...               ...              ...              ...              ...   \n",
       "1422      11986.30100          0.00000          0.00000          0.00000   \n",
       "1423        172.20595       3960.73680          0.00000        344.41190   \n",
       "1424      14539.58000       5140.25540        220.29666        514.02550   \n",
       "1425       5771.68550       2719.35180        221.98790          0.00000   \n",
       "1426       8285.11500       1749.29350        192.23006        153.78404   \n",
       "\n",
       "      ENSG00000132475  ENSG00000146540  ...  ENSG00000077942  ENSG00000197006  \\\n",
       "0          1229.93660       245.987340  ...       245.987340       215.238920   \n",
       "1           215.19258       215.192580  ...         0.000000       215.192580   \n",
       "2           353.71310        70.742620  ...         0.000000       106.113940   \n",
       "3           851.06390        65.466450  ...       130.932900       130.932900   \n",
       "4           785.21550       112.173645  ...        56.086823       112.173645   \n",
       "...               ...              ...  ...              ...              ...   \n",
       "1422       1426.94070       285.388120  ...         0.000000         0.000000   \n",
       "1423       2410.88330         0.000000  ...         0.000000         0.000000   \n",
       "1424        660.89000       146.864440  ...       367.161100         0.000000   \n",
       "1425       1720.40620       110.993950  ...         0.000000       166.490920   \n",
       "1426       1268.71840        76.892020  ...        96.115030       192.230060   \n",
       "\n",
       "      ENSG00000139684  ENSG00000185559  ENSG00000172809  ENSG00000136888  \\\n",
       "0           30.748417        61.496834        2121.6409        338.23257   \n",
       "1         1075.962900         0.000000        4088.6590        215.19258   \n",
       "2          141.485240         0.000000        3784.7302        353.71310   \n",
       "3          130.932900         0.000000        2487.7253        327.33228   \n",
       "4          112.173645         0.000000        2860.4280        224.34729   \n",
       "...               ...              ...              ...              ...   \n",
       "1422       285.388120         0.000000        3995.4336        570.77625   \n",
       "1423       172.205950       344.411900        1205.4417          0.00000   \n",
       "1424       220.296660         0.000000        1909.2378        220.29666   \n",
       "1425       110.993950       110.993950        1220.9335        332.98184   \n",
       "1426       153.784040       384.460100        1787.7395        326.79108   \n",
       "\n",
       "      ENSG00000270367  ENSG00000130638  ENSG00000074695  ENSG00000099622  \n",
       "0          107.727104        92.245255        61.496834        399.72943  \n",
       "1            0.000000         0.000000         0.000000        860.77030  \n",
       "2           98.230200        35.371310       247.599180        353.71310  \n",
       "3          467.229550         0.000000       130.932900        785.59740  \n",
       "4          149.996750        56.086823         0.000000        280.43410  \n",
       "...               ...              ...              ...              ...  \n",
       "1422         0.000000         0.000000         0.000000          0.00000  \n",
       "1423         0.000000       516.617860         0.000000        172.20595  \n",
       "1424         0.000000        73.432220       367.161100        514.02550  \n",
       "1425         0.000000         0.000000       166.490920        221.98790  \n",
       "1426         0.000000       115.338030       192.230060        768.92020  \n",
       "\n",
       "[1427 rows x 300 columns]"
      ]
     },
     "execution_count": 191,
     "metadata": {},
     "output_type": "execute_result"
    }
   ],
   "source": [
    "# Filter the DataFrame using the boolean array\n",
    "data_filtered_features = df_filtered.iloc[:,:-10].iloc[:, selected_features]\n",
    "\n",
    "# Print the filtered DataFrame\n",
    "data_filtered_features"
   ]
  },
  {
   "cell_type": "code",
   "execution_count": 192,
   "metadata": {
    "id": "kSWgJUhq55Nj"
   },
   "outputs": [],
   "source": [
    "# view the feature scores\n",
    "#X_df = pd.DataFrame(X_train_val,columns=X.columns)\n",
    "feature_scores = pd.Series(best_classifier_RF.feature_importances_).sort_values(ascending=False)"
   ]
  },
  {
   "cell_type": "code",
   "execution_count": 193,
   "metadata": {
    "colab": {
     "base_uri": "https://localhost:8080/"
    },
    "id": "TunBJ-Ci55Nk",
    "outputId": "e73e498f-1791-4475-fadf-ae8ebabe8725"
   },
   "outputs": [
    {
     "data": {
      "text/plain": [
       "17     0.033754\n",
       "8      0.029571\n",
       "69     0.027141\n",
       "0      0.026865\n",
       "39     0.026626\n",
       "         ...   \n",
       "194    0.000275\n",
       "252    0.000259\n",
       "251    0.000245\n",
       "254    0.000236\n",
       "287    0.000236\n",
       "Length: 300, dtype: float64"
      ]
     },
     "execution_count": 193,
     "metadata": {},
     "output_type": "execute_result"
    }
   ],
   "source": [
    "feature_scores"
   ]
  },
  {
   "cell_type": "code",
   "execution_count": 194,
   "metadata": {
    "colab": {
     "base_uri": "https://localhost:8080/"
    },
    "id": "KGZxSteO55Nk",
    "outputId": "a56bcb50-aedf-4982-a670-7dee4780561a"
   },
   "outputs": [
    {
     "name": "stdout",
     "output_type": "stream",
     "text": [
      "Index(['ENSG00000174444', 'ENSG00000132475', 'ENSG00000163220',\n",
      "       'ENSG00000111011', 'ENSG00000233276', 'ENSG00000137309',\n",
      "       'ENSG00000204628', 'ENSG00000117519', 'ENSG00000184840',\n",
      "       'ENSG00000099622',\n",
      "       ...\n",
      "       'ENSG00000104435', 'ENSG00000164258', 'ENSG00000077942',\n",
      "       'ENSG00000171634', 'ENSG00000169139', 'ENSG00000198763',\n",
      "       'ENSG00000188186', 'ENSG00000167553', 'ENSG00000106538',\n",
      "       'ENSG00000115241'],\n",
      "      dtype='object', length=300)\n"
     ]
    }
   ],
   "source": [
    "# Get the column names corresponding to the series indices\n",
    "column_names = data_filtered_features.columns[feature_scores.index]\n",
    "\n",
    "# Print the column names\n",
    "print(column_names)"
   ]
  },
  {
   "cell_type": "code",
   "execution_count": 195,
   "metadata": {
    "colab": {
     "base_uri": "https://localhost:8080/"
    },
    "id": "X7JNenWe55Nk",
    "outputId": "af552244-d885-43dd-e2d6-e5644c1cd0f0"
   },
   "outputs": [
    {
     "name": "stdout",
     "output_type": "stream",
     "text": [
      "Index([], dtype='object')\n"
     ]
    }
   ],
   "source": [
    "# Get the column names corresponding to the series indices above the threshold\n",
    "filtered_column_names = data_filtered_features.columns[feature_scores[feature_scores > 0.05].index]\n",
    "\n",
    "# Print the filtered column names\n",
    "print(filtered_column_names)"
   ]
  },
  {
   "cell_type": "code",
   "execution_count": 196,
   "metadata": {},
   "outputs": [
    {
     "name": "stdout",
     "output_type": "stream",
     "text": [
      "Index(['ENSG00000134419', 'ENSG00000034510', 'ENSG00000117394',\n",
      "       'ENSG00000205542', 'ENSG00000140416', 'ENSG00000184009',\n",
      "       'ENSG00000149591', 'ENSG00000282417', 'ENSG00000138326',\n",
      "       'ENSG00000204899',\n",
      "       ...\n",
      "       'ENSG00000118596', 'ENSG00000143882', 'ENSG00000168393',\n",
      "       'ENSG00000170893', 'ENSG00000117724', 'ENSG00000131747',\n",
      "       'ENSG00000213949', 'ENSG00000143401', 'ENSG00000134160',\n",
      "       'ENSG00000141526'],\n",
      "      dtype='object', length=300)\n",
      "Index(['ENSG00000134419', 'ENSG00000034510', 'ENSG00000117394',\n",
      "       'ENSG00000205542', 'ENSG00000140416', 'ENSG00000184009',\n",
      "       'ENSG00000149591', 'ENSG00000282417', 'ENSG00000138326',\n",
      "       'ENSG00000204899', 'ENSG00000100097', 'ENSG00000173207',\n",
      "       'ENSG00000144713', 'ENSG00000164104', 'ENSG00000140988',\n",
      "       'ENSG00000136810', 'ENSG00000103197', 'ENSG00000137154',\n",
      "       'ENSG00000142676', 'ENSG00000182718', 'ENSG00000111640',\n",
      "       'ENSG00000108518', 'ENSG00000106355', 'ENSG00000026025',\n",
      "       'ENSG00000189403', 'ENSG00000100316', 'ENSG00000168014',\n",
      "       'ENSG00000112306', 'ENSG00000080166'],\n",
      "      dtype='object')\n"
     ]
    }
   ],
   "source": [
    "# Get feature importance scores\n",
    "importance = pd.Series(best_classifier_RF.feature_importances_).sort_values(ascending=False)\n",
    "\n",
    "# Filter the DataFrame using the boolean array\n",
    "data_filtered_features = df_filtered.iloc[:,1:-9].loc[:, best_features]\n",
    "\n",
    "# Print the filtered DataFrame\n",
    "data_filtered_features\n",
    "\n",
    "# Get the column names corresponding to the series indices\n",
    "column_names_RF = data_filtered_features.columns[importance.index]\n",
    "\n",
    "# Print the column names\n",
    "print(column_names_RF)\n",
    "\n",
    "# Get the column names corresponding to the series indices above the threshold\n",
    "filtered_column_names_RF = data_filtered_features.columns[importance[importance > 0.01].index]\n",
    "\n",
    "# Print the filtered column names\n",
    "print(filtered_column_names_RF)"
   ]
  },
  {
   "cell_type": "code",
   "execution_count": 197,
   "metadata": {},
   "outputs": [
    {
     "data": {
      "text/plain": [
       "29"
      ]
     },
     "execution_count": 197,
     "metadata": {},
     "output_type": "execute_result"
    }
   ],
   "source": [
    "len(filtered_column_names_RF)"
   ]
  },
  {
   "attachments": {},
   "cell_type": "markdown",
   "metadata": {
    "id": "wNO0TNF355Nk"
   },
   "source": [
    "## XGBoost"
   ]
  },
  {
   "attachments": {},
   "cell_type": "markdown",
   "metadata": {
    "id": "Fxmz_P4xaOEn"
   },
   "source": [
    "#### Cross val for hyperparameter tunning and feature selection"
   ]
  },
  {
   "cell_type": "code",
   "execution_count": 198,
   "metadata": {
    "id": "NhzbrjDiaOEo"
   },
   "outputs": [],
   "source": [
    "# Define the number of folds for cross-validation\n",
    "n_folds = 5\n",
    "#n_folds_features = 2"
   ]
  },
  {
   "cell_type": "code",
   "execution_count": 199,
   "metadata": {
    "id": "PUCtstaZaOEo"
   },
   "outputs": [],
   "source": [
    "def perform_feature_selection(X_train_val, y_train_val):\n",
    "    X_train_features, X_hyperparam_opt, y_train_features, y_hyperparam_opt = train_test_split(X_train_val, y_train_val, train_size=0.30, random_state=42)\n",
    "    # Perform feature selection on X_train_val\n",
    "    X_train_val_df = pd.DataFrame(X_train_features)\n",
    "    y_train_val_df = pd.DataFrame(y_train_features)\n",
    "    X_hyperparam_opt = pd.DataFrame(X_hyperparam_opt)\n",
    "    y_hyperparam_opt = pd.DataFrame(y_hyperparam_opt)\n",
    "    selected_features = mrmr_classif(X_train_val_df, y_train_val_df, K=300)\n",
    "    X_train_val_selected = X_hyperparam_opt.loc[:, selected_features]\n",
    "\n",
    "    return X_train_val_selected, y_hyperparam_opt,selected_features"
   ]
  },
  {
   "cell_type": "code",
   "execution_count": 200,
   "metadata": {
    "id": "SzVd-4ljaOEo"
   },
   "outputs": [],
   "source": [
    "def objective_XG(trial, X_hyperparam_opt, y_hyperparam_opt,selected_features):\n",
    "\n",
    "  params = {\n",
    "            'n_estimators': trial.suggest_int('n_estimators', 50, 200),\n",
    "            'max_depth': trial.suggest_int('max_depth', 5, 20),\n",
    "            'learning_rate': trial.suggest_float('learning_rate', 0.01, 0.1),\n",
    "            'subsample': trial.suggest_float('subsample', 0.5, 1.0),\n",
    "            'colsample_bytree': trial.suggest_float('colsample_bytree', 0.5, 1.0),\n",
    "            'gamma': trial.suggest_float('gamma', 0, 5),\n",
    "            'min_child_weight': trial.suggest_int('min_child_weight', 1, 5),\n",
    "            'random_state': 42,\n",
    "            'tree_method': 'hist',  # Optional: Use 'hist' method for faster training\n",
    "            'objective': 'multi:softmax',\n",
    "            'num_class': 4  # Replace with the actual number of classes\n",
    "        }\n",
    "\n",
    "  # Instantiate the classifier with the current hyperparameters\n",
    "  #classifier = XGBClassifier(eta=eta,gamma=gamma ,min_child_weight=min_child_weight,max_delta_step=max_delta_step,subsample=subsample)\n",
    "  classifier = XGBClassifier(**params)\n",
    "\n",
    "  # Perform cross-validation on the selected features\n",
    "  kf = StratifiedKFold(n_splits=n_folds, shuffle=True, random_state=42)\n",
    "  cv_scores = []\n",
    "\n",
    "  for train_index, val_index in kf.split(X_hyperparam_opt, y_hyperparam_opt):\n",
    "      #X_train, X_val = X_hyperparam_opt[train_index], X_hyperparam_opt[val_index]\n",
    "      #y_train, y_val = y_hyperparam_opt[train_index], y_hyperparam_opt[val_index]\n",
    "      X_train, X_val = X_hyperparam_opt.iloc[train_index], X_hyperparam_opt.iloc[val_index]\n",
    "      y_train, y_val = y_hyperparam_opt.iloc[train_index], y_hyperparam_opt.iloc[val_index]\n",
    "      # Fit the classifier on the selected features and evaluate on the validation set\n",
    "      classifier.fit(X_train, y_train)\n",
    "      y_pred = classifier.predict(X_val)\n",
    "      mcc = matthews_corrcoef(y_val, y_pred)\n",
    "      cv_scores.append(mcc)\n",
    "  # Calculate the average MCC\n",
    "  avg_mcc = np.mean(cv_scores)\n",
    "\n",
    "  return avg_mcc"
   ]
  },
  {
   "cell_type": "code",
   "execution_count": 201,
   "metadata": {
    "colab": {
     "base_uri": "https://localhost:8080/"
    },
    "id": "5sPNbSaJaOEp",
    "outputId": "355fc8ec-d62b-46f8-be52-b3cad9569467"
   },
   "outputs": [
    {
     "name": "stderr",
     "output_type": "stream",
     "text": [
      "100%|█████████████████████████████████████████| 300/300 [00:58<00:00,  5.12it/s]\n"
     ]
    }
   ],
   "source": [
    "# Perform feature selection\n",
    "X_hyperparam_opt, y_hyperparam_opt,selected_features = perform_feature_selection(X_train_val, y_train_val)"
   ]
  },
  {
   "cell_type": "code",
   "execution_count": 202,
   "metadata": {
    "id": "tmk7ymqLaOEp"
   },
   "outputs": [],
   "source": [
    "# Define the objective function with selected features\n",
    "def objective(trial):\n",
    "    return objective_XG(trial, X_hyperparam_opt, y_hyperparam_opt,selected_features)"
   ]
  },
  {
   "cell_type": "code",
   "execution_count": 203,
   "metadata": {
    "colab": {
     "base_uri": "https://localhost:8080/"
    },
    "id": "tMzW-W8caOEp",
    "outputId": "54e93a0d-fb9e-4275-cc7a-8aafd644b4bd"
   },
   "outputs": [
    {
     "name": "stderr",
     "output_type": "stream",
     "text": [
      "[I 2023-07-03 01:17:00,126] A new study created in memory with name: no-name-2ae40329-5e38-470e-8738-df55b5e2933e\n",
      "[I 2023-07-03 01:18:02,295] Trial 0 finished with value: 0.8688409879035721 and parameters: {'n_estimators': 106, 'max_depth': 20, 'learning_rate': 0.07587945476302646, 'subsample': 0.7993292420985183, 'colsample_bytree': 0.5780093202212182, 'gamma': 0.7799726016810132, 'min_child_weight': 1}. Best is trial 0 with value: 0.8688409879035721.\n",
      "[I 2023-07-03 01:18:52,691] Trial 1 finished with value: 0.8505793853294351 and parameters: {'n_estimators': 180, 'max_depth': 14, 'learning_rate': 0.0737265320016441, 'subsample': 0.5102922471479012, 'colsample_bytree': 0.9849549260809971, 'gamma': 4.162213204002109, 'min_child_weight': 2}. Best is trial 0 with value: 0.8688409879035721.\n",
      "[I 2023-07-03 01:19:45,530] Trial 2 finished with value: 0.8489220055196117 and parameters: {'n_estimators': 77, 'max_depth': 7, 'learning_rate': 0.0373818018663584, 'subsample': 0.762378215816119, 'colsample_bytree': 0.7159725093210578, 'gamma': 1.4561457009902097, 'min_child_weight': 4}. Best is trial 0 with value: 0.8688409879035721.\n",
      "[I 2023-07-03 01:20:43,563] Trial 3 finished with value: 0.8417720529467665 and parameters: {'n_estimators': 71, 'max_depth': 9, 'learning_rate': 0.04297256589643226, 'subsample': 0.728034992108518, 'colsample_bytree': 0.8925879806965068, 'gamma': 0.9983689107917987, 'min_child_weight': 3}. Best is trial 0 with value: 0.8688409879035721.\n",
      "[I 2023-07-03 01:21:21,879] Trial 4 finished with value: 0.8469357735791425 and parameters: {'n_estimators': 139, 'max_depth': 5, 'learning_rate': 0.06467903667112945, 'subsample': 0.5852620618436457, 'colsample_bytree': 0.5325257964926398, 'gamma': 4.7444276862666666, 'min_child_weight': 5}. Best is trial 0 with value: 0.8688409879035721.\n",
      "[I 2023-07-03 01:23:44,061] Trial 5 finished with value: 0.8450733811936608 and parameters: {'n_estimators': 172, 'max_depth': 9, 'learning_rate': 0.018790490260574548, 'subsample': 0.8421165132560784, 'colsample_bytree': 0.7200762468698007, 'gamma': 0.6101911742238941, 'min_child_weight': 3}. Best is trial 0 with value: 0.8688409879035721.\n",
      "[I 2023-07-03 01:24:22,409] Trial 6 finished with value: 0.8307816025971159 and parameters: {'n_estimators': 55, 'max_depth': 19, 'learning_rate': 0.03329019834400153, 'subsample': 0.831261142176991, 'colsample_bytree': 0.6558555380447055, 'gamma': 2.600340105889054, 'min_child_weight': 3}. Best is trial 0 with value: 0.8688409879035721.\n",
      "[I 2023-07-03 01:24:58,485] Trial 7 finished with value: 0.8414650566934425 and parameters: {'n_estimators': 77, 'max_depth': 20, 'learning_rate': 0.07976195410250031, 'subsample': 0.9697494707820946, 'colsample_bytree': 0.9474136752138245, 'gamma': 2.9894998940554256, 'min_child_weight': 5}. Best is trial 0 with value: 0.8688409879035721.\n",
      "[I 2023-07-03 01:25:42,102] Trial 8 finished with value: 0.8307355718263633 and parameters: {'n_estimators': 63, 'max_depth': 8, 'learning_rate': 0.014070456001948426, 'subsample': 0.6626651653816322, 'colsample_bytree': 0.6943386448447411, 'gamma': 1.3567451588694794, 'min_child_weight': 5}. Best is trial 0 with value: 0.8688409879035721.\n",
      "[I 2023-07-03 01:26:43,826] Trial 9 finished with value: 0.8635461164076276 and parameters: {'n_estimators': 103, 'max_depth': 9, 'learning_rate': 0.058842647484242366, 'subsample': 0.5704621124873813, 'colsample_bytree': 0.9010984903770198, 'gamma': 0.3727532183988541, 'min_child_weight': 5}. Best is trial 0 with value: 0.8688409879035721.\n",
      "[I 2023-07-03 01:28:28,707] Trial 10 finished with value: 0.8269346111644346 and parameters: {'n_estimators': 166, 'max_depth': 8, 'learning_rate': 0.010496990541124216, 'subsample': 0.9077307142274171, 'colsample_bytree': 0.8534286719238086, 'gamma': 3.6450358402049368, 'min_child_weight': 4}. Best is trial 0 with value: 0.8688409879035721.\n",
      "[I 2023-07-03 01:29:35,363] Trial 11 finished with value: 0.830875275083339 and parameters: {'n_estimators': 61, 'max_depth': 10, 'learning_rate': 0.020428215357261678, 'subsample': 0.9315517129377968, 'colsample_bytree': 0.811649063413779, 'gamma': 1.654490124263246, 'min_child_weight': 1}. Best is trial 0 with value: 0.8688409879035721.\n",
      "[I 2023-07-03 01:30:21,995] Trial 12 finished with value: 0.8506981631244699 and parameters: {'n_estimators': 96, 'max_depth': 10, 'learning_rate': 0.07566455605042577, 'subsample': 0.8187787356776066, 'colsample_bytree': 0.9436063712881633, 'gamma': 2.3610746258097466, 'min_child_weight': 1}. Best is trial 0 with value: 0.8688409879035721.\n",
      "[I 2023-07-03 01:31:19,612] Trial 13 finished with value: 0.8451276010575528 and parameters: {'n_estimators': 157, 'max_depth': 17, 'learning_rate': 0.06051494778125467, 'subsample': 0.8854835899772805, 'colsample_bytree': 0.7468977981821954, 'gamma': 2.6136641469099704, 'min_child_weight': 3}. Best is trial 0 with value: 0.8688409879035721.\n",
      "[I 2023-07-03 01:31:55,564] Trial 14 finished with value: 0.819838960562324 and parameters: {'n_estimators': 53, 'max_depth': 6, 'learning_rate': 0.012828626711806084, 'subsample': 0.8182052056318903, 'colsample_bytree': 0.6571779905381634, 'gamma': 2.542853455823514, 'min_child_weight': 5}. Best is trial 0 with value: 0.8688409879035721.\n",
      "[I 2023-07-03 01:32:39,702] Trial 15 finished with value: 0.8597261448894924 and parameters: {'n_estimators': 87, 'max_depth': 11, 'learning_rate': 0.07799960246887438, 'subsample': 0.6143990827458112, 'colsample_bytree': 0.5384899549143964, 'gamma': 1.4487572645688402, 'min_child_weight': 1}. Best is trial 0 with value: 0.8688409879035721.\n",
      "[I 2023-07-03 01:33:58,958] Trial 16 finished with value: 0.8560554510972024 and parameters: {'n_estimators': 190, 'max_depth': 17, 'learning_rate': 0.06700633808593812, 'subsample': 0.9357302950938589, 'colsample_bytree': 0.9018360384495572, 'gamma': 0.9328502944301792, 'min_child_weight': 5}. Best is trial 0 with value: 0.8688409879035721.\n",
      "[I 2023-07-03 01:34:49,613] Trial 17 finished with value: 0.8671776792928609 and parameters: {'n_estimators': 131, 'max_depth': 17, 'learning_rate': 0.0906482169931144, 'subsample': 0.6590017374859319, 'colsample_bytree': 0.5550259622638384, 'gamma': 1.1396758127097084, 'min_child_weight': 3}. Best is trial 0 with value: 0.8688409879035721.\n",
      "[I 2023-07-03 01:37:37,414] Trial 18 finished with value: 0.843785757361009 and parameters: {'n_estimators': 173, 'max_depth': 18, 'learning_rate': 0.010625691747807163, 'subsample': 0.7553736512887829, 'colsample_bytree': 0.7087055015743895, 'gamma': 1.1105390523536514, 'min_child_weight': 1}. Best is trial 0 with value: 0.8688409879035721.\n",
      "[I 2023-07-03 01:38:36,681] Trial 19 finished with value: 0.8542880166972893 and parameters: {'n_estimators': 100, 'max_depth': 20, 'learning_rate': 0.03908826388186797, 'subsample': 0.7593953108716831, 'colsample_bytree': 0.8515094794475889, 'gamma': 1.81814801189647, 'min_child_weight': 5}. Best is trial 0 with value: 0.8688409879035721.\n",
      "[I 2023-07-03 01:40:18,387] Trial 20 finished with value: 0.8726271899587893 and parameters: {'n_estimators': 195, 'max_depth': 9, 'learning_rate': 0.0547523655303147, 'subsample': 0.6504391549083848, 'colsample_bytree': 0.6424202471887338, 'gamma': 0.18443473677266398, 'min_child_weight': 4}. Best is trial 20 with value: 0.8726271899587893.\n",
      "[I 2023-07-03 01:41:46,206] Trial 21 finished with value: 0.8543430033599891 and parameters: {'n_estimators': 125, 'max_depth': 5, 'learning_rate': 0.035078181781295036, 'subsample': 0.9541329429833268, 'colsample_bytree': 0.6197809453334862, 'gamma': 0.7244743604561155, 'min_child_weight': 3}. Best is trial 20 with value: 0.8726271899587893.\n",
      "[I 2023-07-03 01:42:41,413] Trial 22 finished with value: 0.8451331516895273 and parameters: {'n_estimators': 198, 'max_depth': 8, 'learning_rate': 0.07049219926652908, 'subsample': 0.8808098076643588, 'colsample_bytree': 0.6188187719961998, 'gamma': 3.641081743059298, 'min_child_weight': 2}. Best is trial 20 with value: 0.8726271899587893.\n",
      "[I 2023-07-03 01:43:49,008] Trial 23 finished with value: 0.8562338179777045 and parameters: {'n_estimators': 145, 'max_depth': 15, 'learning_rate': 0.05821972156672827, 'subsample': 0.5451448850272042, 'colsample_bytree': 0.917651247794619, 'gamma': 1.6039003248586792, 'min_child_weight': 1}. Best is trial 20 with value: 0.8726271899587893.\n"
     ]
    },
    {
     "name": "stderr",
     "output_type": "stream",
     "text": [
      "[I 2023-07-03 01:44:22,451] Trial 24 finished with value: 0.8578389568491339 and parameters: {'n_estimators': 56, 'max_depth': 14, 'learning_rate': 0.07098079256580542, 'subsample': 0.508293914463928, 'colsample_bytree': 0.7560465291496405, 'gamma': 1.1324788759896898, 'min_child_weight': 4}. Best is trial 20 with value: 0.8726271899587893.\n",
      "[I 2023-07-03 01:45:18,604] Trial 25 finished with value: 0.8470228812748571 and parameters: {'n_estimators': 76, 'max_depth': 16, 'learning_rate': 0.044806181167048376, 'subsample': 0.9683649943683672, 'colsample_bytree': 0.5687604720729966, 'gamma': 1.7053317552512925, 'min_child_weight': 1}. Best is trial 20 with value: 0.8726271899587893.\n",
      "[I 2023-07-03 01:46:45,106] Trial 26 finished with value: 0.8431875180605614 and parameters: {'n_estimators': 189, 'max_depth': 19, 'learning_rate': 0.033214746494364004, 'subsample': 0.8299920230170895, 'colsample_bytree': 0.9086111001006079, 'gamma': 2.7760040579973118, 'min_child_weight': 3}. Best is trial 20 with value: 0.8726271899587893.\n",
      "[I 2023-07-03 01:47:24,920] Trial 27 finished with value: 0.8471448778001947 and parameters: {'n_estimators': 86, 'max_depth': 6, 'learning_rate': 0.09074941821579942, 'subsample': 0.9502090285816652, 'colsample_bytree': 0.816550728636634, 'gamma': 1.6951489552435035, 'min_child_weight': 2}. Best is trial 20 with value: 0.8726271899587893.\n",
      "[I 2023-07-03 01:48:46,022] Trial 28 finished with value: 0.8543381989710468 and parameters: {'n_estimators': 159, 'max_depth': 19, 'learning_rate': 0.08983777818386056, 'subsample': 0.8899377729288119, 'colsample_bytree': 0.8210158230771438, 'gamma': 0.42069982497524416, 'min_child_weight': 1}. Best is trial 20 with value: 0.8726271899587893.\n",
      "[I 2023-07-03 01:52:14,073] Trial 29 finished with value: 0.8432874686692692 and parameters: {'n_estimators': 185, 'max_depth': 14, 'learning_rate': 0.010827734645496669, 'subsample': 0.5507357714330161, 'colsample_bytree': 0.8317508845540279, 'gamma': 0.025307919231093434, 'min_child_weight': 1}. Best is trial 20 with value: 0.8726271899587893.\n",
      "[I 2023-07-03 01:53:14,076] Trial 30 finished with value: 0.8652918724471089 and parameters: {'n_estimators': 132, 'max_depth': 16, 'learning_rate': 0.06867651335523406, 'subsample': 0.61213465473028, 'colsample_bytree': 0.8560896106737679, 'gamma': 1.1862454374840004, 'min_child_weight': 2}. Best is trial 20 with value: 0.8726271899587893.\n",
      "[I 2023-07-03 01:54:26,855] Trial 31 finished with value: 0.8525234165290609 and parameters: {'n_estimators': 162, 'max_depth': 15, 'learning_rate': 0.08643010694447602, 'subsample': 0.8288064461501716, 'colsample_bytree': 0.7841543016677358, 'gamma': 0.4683738391404624, 'min_child_weight': 2}. Best is trial 20 with value: 0.8726271899587893.\n",
      "[I 2023-07-03 01:54:59,761] Trial 32 finished with value: 0.8470327579144585 and parameters: {'n_estimators': 90, 'max_depth': 8, 'learning_rate': 0.09757094992772011, 'subsample': 0.6965488623333802, 'colsample_bytree': 0.9460232775885566, 'gamma': 3.1556931299863145, 'min_child_weight': 4}. Best is trial 20 with value: 0.8726271899587893.\n",
      "[I 2023-07-03 01:56:08,337] Trial 33 finished with value: 0.8504553661395271 and parameters: {'n_estimators': 125, 'max_depth': 14, 'learning_rate': 0.05432659244369776, 'subsample': 0.5976214938990223, 'colsample_bytree': 0.8612260576307527, 'gamma': 1.403861812204279, 'min_child_weight': 1}. Best is trial 20 with value: 0.8726271899587893.\n",
      "[I 2023-07-03 01:57:02,755] Trial 34 finished with value: 0.8378354517599517 and parameters: {'n_estimators': 147, 'max_depth': 7, 'learning_rate': 0.09464127259176229, 'subsample': 0.9769642885012937, 'colsample_bytree': 0.9574321951102243, 'gamma': 1.8507935012772219, 'min_child_weight': 1}. Best is trial 20 with value: 0.8726271899587893.\n",
      "[I 2023-07-03 01:58:06,571] Trial 35 finished with value: 0.8377839819516067 and parameters: {'n_estimators': 190, 'max_depth': 11, 'learning_rate': 0.09699893371393027, 'subsample': 0.9818099885446264, 'colsample_bytree': 0.92650472773368, 'gamma': 1.4722444603479286, 'min_child_weight': 2}. Best is trial 20 with value: 0.8726271899587893.\n",
      "[I 2023-07-03 01:59:26,936] Trial 36 finished with value: 0.843249323713201 and parameters: {'n_estimators': 178, 'max_depth': 10, 'learning_rate': 0.025254347201748326, 'subsample': 0.7784006312291751, 'colsample_bytree': 0.9680773870803905, 'gamma': 3.480148983374865, 'min_child_weight': 3}. Best is trial 20 with value: 0.8726271899587893.\n",
      "[I 2023-07-03 01:59:50,275] Trial 37 finished with value: 0.8452629403087757 and parameters: {'n_estimators': 64, 'max_depth': 14, 'learning_rate': 0.0991048465093837, 'subsample': 0.570042007618262, 'colsample_bytree': 0.7591648261818684, 'gamma': 4.386865359639777, 'min_child_weight': 4}. Best is trial 20 with value: 0.8726271899587893.\n",
      "[I 2023-07-03 02:00:46,588] Trial 38 finished with value: 0.8470976387009761 and parameters: {'n_estimators': 155, 'max_depth': 16, 'learning_rate': 0.04235420360977797, 'subsample': 0.6467959221322467, 'colsample_bytree': 0.9046805777392568, 'gamma': 4.050566973395904, 'min_child_weight': 5}. Best is trial 20 with value: 0.8726271899587893.\n",
      "[I 2023-07-03 02:01:47,819] Trial 39 finished with value: 0.8470413176445339 and parameters: {'n_estimators': 187, 'max_depth': 13, 'learning_rate': 0.05513646652184797, 'subsample': 0.8991475894833876, 'colsample_bytree': 0.8249819653888826, 'gamma': 3.509834386288517, 'min_child_weight': 4}. Best is trial 20 with value: 0.8726271899587893.\n",
      "[I 2023-07-03 02:03:39,771] Trial 40 finished with value: 0.8579278252325515 and parameters: {'n_estimators': 184, 'max_depth': 10, 'learning_rate': 0.04380246573759497, 'subsample': 0.5469909699204345, 'colsample_bytree': 0.789140070498087, 'gamma': 0.17971136898371043, 'min_child_weight': 3}. Best is trial 20 with value: 0.8726271899587893.\n",
      "[I 2023-07-03 02:04:19,243] Trial 41 finished with value: 0.8560439342613394 and parameters: {'n_estimators': 131, 'max_depth': 9, 'learning_rate': 0.06317499345121097, 'subsample': 0.5152501249695247, 'colsample_bytree': 0.5186740943746072, 'gamma': 4.113002803298292, 'min_child_weight': 2}. Best is trial 20 with value: 0.8726271899587893.\n",
      "[I 2023-07-03 02:05:16,945] Trial 42 finished with value: 0.8560808862141519 and parameters: {'n_estimators': 69, 'max_depth': 13, 'learning_rate': 0.07929941977887497, 'subsample': 0.6079105137484215, 'colsample_bytree': 0.8114452379095001, 'gamma': 0.42673732496884, 'min_child_weight': 1}. Best is trial 20 with value: 0.8726271899587893.\n",
      "[I 2023-07-03 02:06:13,150] Trial 43 finished with value: 0.8396386402199836 and parameters: {'n_estimators': 130, 'max_depth': 13, 'learning_rate': 0.06736869113483859, 'subsample': 0.8630456668613308, 'colsample_bytree': 0.9879260397312672, 'gamma': 2.5815017415059764, 'min_child_weight': 2}. Best is trial 20 with value: 0.8726271899587893.\n",
      "[I 2023-07-03 02:07:00,002] Trial 44 finished with value: 0.8450899513322734 and parameters: {'n_estimators': 170, 'max_depth': 9, 'learning_rate': 0.04950742786350726, 'subsample': 0.5392281906711329, 'colsample_bytree': 0.5126753717077288, 'gamma': 4.813242073389626, 'min_child_weight': 5}. Best is trial 20 with value: 0.8726271899587893.\n",
      "[I 2023-07-03 02:08:10,959] Trial 45 finished with value: 0.8487533140759634 and parameters: {'n_estimators': 155, 'max_depth': 11, 'learning_rate': 0.02559648880637612, 'subsample': 0.5782185213355431, 'colsample_bytree': 0.6251214490822976, 'gamma': 2.7461333235306022, 'min_child_weight': 4}. Best is trial 20 with value: 0.8726271899587893.\n",
      "[I 2023-07-03 02:08:55,914] Trial 46 finished with value: 0.8489604879335866 and parameters: {'n_estimators': 149, 'max_depth': 9, 'learning_rate': 0.09593787525968747, 'subsample': 0.8689484583478843, 'colsample_bytree': 0.7771770262557003, 'gamma': 3.058603731171761, 'min_child_weight': 3}. Best is trial 20 with value: 0.8726271899587893.\n",
      "[I 2023-07-03 02:10:00,574] Trial 47 finished with value: 0.8670188511496197 and parameters: {'n_estimators': 87, 'max_depth': 10, 'learning_rate': 0.07820614994179323, 'subsample': 0.5071967443148779, 'colsample_bytree': 0.5580363202534582, 'gamma': 0.23001321010876374, 'min_child_weight': 1}. Best is trial 20 with value: 0.8726271899587893.\n"
     ]
    },
    {
     "name": "stderr",
     "output_type": "stream",
     "text": [
      "[I 2023-07-03 02:11:06,966] Trial 48 finished with value: 0.8598792069380481 and parameters: {'n_estimators': 179, 'max_depth': 16, 'learning_rate': 0.05267564461785927, 'subsample': 0.5489170803255008, 'colsample_bytree': 0.7458079375584161, 'gamma': 2.3673588539028283, 'min_child_weight': 1}. Best is trial 20 with value: 0.8726271899587893.\n",
      "[I 2023-07-03 02:11:56,328] Trial 49 finished with value: 0.8578832153299624 and parameters: {'n_estimators': 115, 'max_depth': 11, 'learning_rate': 0.06542650882469948, 'subsample': 0.8175468254338218, 'colsample_bytree': 0.5226520048860223, 'gamma': 1.873063073132356, 'min_child_weight': 4}. Best is trial 20 with value: 0.8726271899587893.\n",
      "[I 2023-07-03 02:12:38,401] Trial 50 finished with value: 0.8486536057964631 and parameters: {'n_estimators': 125, 'max_depth': 18, 'learning_rate': 0.06928242684570506, 'subsample': 0.5814672135407148, 'colsample_bytree': 0.5352843737002149, 'gamma': 3.212096391031578, 'min_child_weight': 1}. Best is trial 20 with value: 0.8726271899587893.\n",
      "[I 2023-07-03 02:13:33,362] Trial 51 finished with value: 0.8525436184021189 and parameters: {'n_estimators': 138, 'max_depth': 20, 'learning_rate': 0.061792676008829116, 'subsample': 0.694084963103261, 'colsample_bytree': 0.8216441092211766, 'gamma': 2.2912644524575834, 'min_child_weight': 3}. Best is trial 20 with value: 0.8726271899587893.\n",
      "[I 2023-07-03 02:14:55,195] Trial 52 finished with value: 0.8578574175383036 and parameters: {'n_estimators': 192, 'max_depth': 11, 'learning_rate': 0.09650715074415228, 'subsample': 0.9526753209780319, 'colsample_bytree': 0.5978955673946482, 'gamma': 0.3468065043758273, 'min_child_weight': 1}. Best is trial 20 with value: 0.8726271899587893.\n",
      "[I 2023-07-03 02:15:18,097] Trial 53 finished with value: 0.8414144716075065 and parameters: {'n_estimators': 52, 'max_depth': 6, 'learning_rate': 0.07147060960747212, 'subsample': 0.5355943242301144, 'colsample_bytree': 0.6594878151468806, 'gamma': 4.2243765548472725, 'min_child_weight': 1}. Best is trial 20 with value: 0.8726271899587893.\n",
      "[I 2023-07-03 02:16:37,519] Trial 54 finished with value: 0.8342248504812166 and parameters: {'n_estimators': 172, 'max_depth': 9, 'learning_rate': 0.020634834485949063, 'subsample': 0.8483685826820753, 'colsample_bytree': 0.8144714233899419, 'gamma': 4.387360067635265, 'min_child_weight': 4}. Best is trial 20 with value: 0.8726271899587893.\n",
      "[I 2023-07-03 02:17:50,908] Trial 55 finished with value: 0.8303683137332035 and parameters: {'n_estimators': 171, 'max_depth': 9, 'learning_rate': 0.025969558940175053, 'subsample': 0.8753073758204292, 'colsample_bytree': 0.9034173696336321, 'gamma': 4.952525710003367, 'min_child_weight': 3}. Best is trial 20 with value: 0.8726271899587893.\n",
      "[I 2023-07-03 02:18:55,538] Trial 56 finished with value: 0.8432466516920097 and parameters: {'n_estimators': 106, 'max_depth': 17, 'learning_rate': 0.04067231862277161, 'subsample': 0.9653786628017824, 'colsample_bytree': 0.9292063759215059, 'gamma': 2.1449701368750915, 'min_child_weight': 4}. Best is trial 20 with value: 0.8726271899587893.\n",
      "[I 2023-07-03 02:19:50,336] Trial 57 finished with value: 0.8634349650496403 and parameters: {'n_estimators': 163, 'max_depth': 6, 'learning_rate': 0.091229761601161, 'subsample': 0.7526261862239285, 'colsample_bytree': 0.9132287330538709, 'gamma': 1.6002480051530588, 'min_child_weight': 5}. Best is trial 20 with value: 0.8726271899587893.\n",
      "[I 2023-07-03 02:20:20,509] Trial 58 finished with value: 0.8525727380412548 and parameters: {'n_estimators': 108, 'max_depth': 5, 'learning_rate': 0.09148437787773374, 'subsample': 0.5456433383930668, 'colsample_bytree': 0.6596568187952074, 'gamma': 4.750309835254025, 'min_child_weight': 5}. Best is trial 20 with value: 0.8726271899587893.\n",
      "[I 2023-07-03 02:21:07,737] Trial 59 finished with value: 0.8469668388443816 and parameters: {'n_estimators': 136, 'max_depth': 15, 'learning_rate': 0.05036009697804879, 'subsample': 0.6466053858490323, 'colsample_bytree': 0.664332272684958, 'gamma': 3.362592280385192, 'min_child_weight': 4}. Best is trial 20 with value: 0.8726271899587893.\n",
      "[I 2023-07-03 02:22:36,848] Trial 60 finished with value: 0.8395105843165833 and parameters: {'n_estimators': 169, 'max_depth': 17, 'learning_rate': 0.018208549274382133, 'subsample': 0.7472101523512907, 'colsample_bytree': 0.5287793800083221, 'gamma': 2.7476444116186776, 'min_child_weight': 3}. Best is trial 20 with value: 0.8726271899587893.\n",
      "[I 2023-07-03 02:24:10,682] Trial 61 finished with value: 0.8468535320203401 and parameters: {'n_estimators': 184, 'max_depth': 10, 'learning_rate': 0.02053603147848453, 'subsample': 0.5714958410264179, 'colsample_bytree': 0.8807553158587361, 'gamma': 3.0910903165813055, 'min_child_weight': 1}. Best is trial 20 with value: 0.8726271899587893.\n",
      "[I 2023-07-03 02:25:44,274] Trial 62 finished with value: 0.8308070346398948 and parameters: {'n_estimators': 62, 'max_depth': 16, 'learning_rate': 0.016548670572777417, 'subsample': 0.9109300296451781, 'colsample_bytree': 0.8531211135782482, 'gamma': 0.4067439032094988, 'min_child_weight': 1}. Best is trial 20 with value: 0.8726271899587893.\n",
      "[I 2023-07-03 02:26:49,872] Trial 63 finished with value: 0.8414467086029331 and parameters: {'n_estimators': 198, 'max_depth': 10, 'learning_rate': 0.04335779323602019, 'subsample': 0.9063997836287513, 'colsample_bytree': 0.9736242886919293, 'gamma': 4.930005319114354, 'min_child_weight': 4}. Best is trial 20 with value: 0.8726271899587893.\n",
      "[I 2023-07-03 02:27:22,916] Trial 64 finished with value: 0.8414571013329267 and parameters: {'n_estimators': 106, 'max_depth': 6, 'learning_rate': 0.07994322243346931, 'subsample': 0.7792021248679025, 'colsample_bytree': 0.7121110046234882, 'gamma': 4.53177192547368, 'min_child_weight': 1}. Best is trial 20 with value: 0.8726271899587893.\n",
      "[I 2023-07-03 02:28:27,388] Trial 65 finished with value: 0.8615193841046762 and parameters: {'n_estimators': 124, 'max_depth': 5, 'learning_rate': 0.05217945777947137, 'subsample': 0.5281516378409187, 'colsample_bytree': 0.559408958134036, 'gamma': 0.5876312338855244, 'min_child_weight': 4}. Best is trial 20 with value: 0.8726271899587893.\n",
      "[I 2023-07-03 02:29:08,986] Trial 66 finished with value: 0.8526530075622556 and parameters: {'n_estimators': 162, 'max_depth': 14, 'learning_rate': 0.09659552936270878, 'subsample': 0.6874352897618521, 'colsample_bytree': 0.6428560431409304, 'gamma': 4.342995640947302, 'min_child_weight': 2}. Best is trial 20 with value: 0.8726271899587893.\n",
      "[I 2023-07-03 02:30:01,004] Trial 67 finished with value: 0.856110201875666 and parameters: {'n_estimators': 195, 'max_depth': 5, 'learning_rate': 0.09728909440368752, 'subsample': 0.5215799559752881, 'colsample_bytree': 0.9455715568490355, 'gamma': 2.6385055454314994, 'min_child_weight': 5}. Best is trial 20 with value: 0.8726271899587893.\n",
      "[I 2023-07-03 02:30:27,882] Trial 68 finished with value: 0.850601329880653 and parameters: {'n_estimators': 61, 'max_depth': 13, 'learning_rate': 0.09723722820571891, 'subsample': 0.7615489220850744, 'colsample_bytree': 0.8146993190676313, 'gamma': 3.4787434449230856, 'min_child_weight': 3}. Best is trial 20 with value: 0.8726271899587893.\n",
      "[I 2023-07-03 02:31:02,234] Trial 69 finished with value: 0.85442967820112 and parameters: {'n_estimators': 144, 'max_depth': 14, 'learning_rate': 0.09110422094418902, 'subsample': 0.522723190170729, 'colsample_bytree': 0.6404815947961151, 'gamma': 4.752057420382794, 'min_child_weight': 5}. Best is trial 20 with value: 0.8726271899587893.\n",
      "[I 2023-07-03 02:32:08,640] Trial 70 finished with value: 0.8470043450905012 and parameters: {'n_estimators': 118, 'max_depth': 14, 'learning_rate': 0.034964306468301946, 'subsample': 0.5940605798618807, 'colsample_bytree': 0.7318492024699911, 'gamma': 1.766761140130264, 'min_child_weight': 3}. Best is trial 20 with value: 0.8726271899587893.\n",
      "[I 2023-07-03 02:32:40,254] Trial 71 finished with value: 0.8560835540291805 and parameters: {'n_estimators': 61, 'max_depth': 20, 'learning_rate': 0.09875896700316426, 'subsample': 0.8490808570098726, 'colsample_bytree': 0.7680481831720603, 'gamma': 1.5476380814316388, 'min_child_weight': 5}. Best is trial 20 with value: 0.8726271899587893.\n"
     ]
    },
    {
     "name": "stderr",
     "output_type": "stream",
     "text": [
      "[I 2023-07-03 02:33:26,147] Trial 72 finished with value: 0.8454781833025791 and parameters: {'n_estimators': 153, 'max_depth': 7, 'learning_rate': 0.09198344660444582, 'subsample': 0.9112686214615845, 'colsample_bytree': 0.974899956645962, 'gamma': 3.6285975419418, 'min_child_weight': 4}. Best is trial 20 with value: 0.8726271899587893.\n",
      "[I 2023-07-03 02:34:05,837] Trial 73 finished with value: 0.8561359148657608 and parameters: {'n_estimators': 113, 'max_depth': 19, 'learning_rate': 0.08794575005503676, 'subsample': 0.5226093350530947, 'colsample_bytree': 0.5131834872486261, 'gamma': 1.8823168343902479, 'min_child_weight': 5}. Best is trial 20 with value: 0.8726271899587893.\n",
      "[I 2023-07-03 02:35:03,109] Trial 74 finished with value: 0.8524332010883174 and parameters: {'n_estimators': 199, 'max_depth': 7, 'learning_rate': 0.06347176438169216, 'subsample': 0.6904454283155108, 'colsample_bytree': 0.9849571989073016, 'gamma': 4.210594615678543, 'min_child_weight': 5}. Best is trial 20 with value: 0.8726271899587893.\n",
      "[I 2023-07-03 02:35:52,308] Trial 75 finished with value: 0.847019607588529 and parameters: {'n_estimators': 120, 'max_depth': 11, 'learning_rate': 0.034606636473763566, 'subsample': 0.5281877483254636, 'colsample_bytree': 0.9323611881275267, 'gamma': 4.064505045650388, 'min_child_weight': 5}. Best is trial 20 with value: 0.8726271899587893.\n",
      "[I 2023-07-03 02:37:05,075] Trial 76 finished with value: 0.8378267012494414 and parameters: {'n_estimators': 200, 'max_depth': 13, 'learning_rate': 0.07920886736624595, 'subsample': 0.9723828649412141, 'colsample_bytree': 0.9248236953387057, 'gamma': 1.2367405087159882, 'min_child_weight': 3}. Best is trial 20 with value: 0.8726271899587893.\n",
      "[I 2023-07-03 02:37:39,013] Trial 77 finished with value: 0.8487506167078138 and parameters: {'n_estimators': 69, 'max_depth': 20, 'learning_rate': 0.06455571710057921, 'subsample': 0.6143214027517314, 'colsample_bytree': 0.8358503422029284, 'gamma': 3.090641202289479, 'min_child_weight': 2}. Best is trial 20 with value: 0.8726271899587893.\n",
      "[I 2023-07-03 02:38:09,683] Trial 78 finished with value: 0.8395686970099812 and parameters: {'n_estimators': 67, 'max_depth': 15, 'learning_rate': 0.056827693081341404, 'subsample': 0.8861591958678197, 'colsample_bytree': 0.7600817505559967, 'gamma': 4.2609075015927, 'min_child_weight': 3}. Best is trial 20 with value: 0.8726271899587893.\n",
      "[I 2023-07-03 02:38:55,563] Trial 79 finished with value: 0.8488007867230623 and parameters: {'n_estimators': 134, 'max_depth': 19, 'learning_rate': 0.04631345795911574, 'subsample': 0.5670076142253204, 'colsample_bytree': 0.5143913381566695, 'gamma': 3.775686278368095, 'min_child_weight': 4}. Best is trial 20 with value: 0.8726271899587893.\n",
      "[I 2023-07-03 02:40:09,627] Trial 80 finished with value: 0.8430786717095178 and parameters: {'n_estimators': 156, 'max_depth': 8, 'learning_rate': 0.02227343280280928, 'subsample': 0.507272332833941, 'colsample_bytree': 0.6752937794032985, 'gamma': 2.9495884342731653, 'min_child_weight': 2}. Best is trial 20 with value: 0.8726271899587893.\n",
      "[I 2023-07-03 02:41:14,192] Trial 81 finished with value: 0.850608208474393 and parameters: {'n_estimators': 116, 'max_depth': 19, 'learning_rate': 0.041342992032097035, 'subsample': 0.7569947445799055, 'colsample_bytree': 0.8918265063705715, 'gamma': 1.9827139116063508, 'min_child_weight': 4}. Best is trial 20 with value: 0.8726271899587893.\n",
      "[I 2023-07-03 02:43:21,472] Trial 82 finished with value: 0.8488364953646315 and parameters: {'n_estimators': 180, 'max_depth': 20, 'learning_rate': 0.023236613283613414, 'subsample': 0.9632938125807472, 'colsample_bytree': 0.7460581465397691, 'gamma': 1.2912219414947916, 'min_child_weight': 3}. Best is trial 20 with value: 0.8726271899587893.\n",
      "[I 2023-07-03 02:45:41,847] Trial 83 finished with value: 0.8597949024501398 and parameters: {'n_estimators': 197, 'max_depth': 12, 'learning_rate': 0.03958764492587574, 'subsample': 0.8167004271583629, 'colsample_bytree': 0.6200728093890966, 'gamma': 0.3793166405433196, 'min_child_weight': 1}. Best is trial 20 with value: 0.8726271899587893.\n",
      "[I 2023-07-03 02:46:29,299] Trial 84 finished with value: 0.8269254911855084 and parameters: {'n_estimators': 69, 'max_depth': 7, 'learning_rate': 0.022494445538446914, 'subsample': 0.8204373724016073, 'colsample_bytree': 0.5909400421995724, 'gamma': 1.728336416619316, 'min_child_weight': 5}. Best is trial 20 with value: 0.8726271899587893.\n",
      "[I 2023-07-03 02:47:54,951] Trial 85 finished with value: 0.8507226651348144 and parameters: {'n_estimators': 121, 'max_depth': 15, 'learning_rate': 0.025508788408146688, 'subsample': 0.5961445094043354, 'colsample_bytree': 0.5204343081332394, 'gamma': 0.8446753153608227, 'min_child_weight': 2}. Best is trial 20 with value: 0.8726271899587893.\n",
      "[I 2023-07-03 02:48:48,198] Trial 86 finished with value: 0.8396287193015353 and parameters: {'n_estimators': 76, 'max_depth': 6, 'learning_rate': 0.020857228399054073, 'subsample': 0.7303893840163629, 'colsample_bytree': 0.6031668592028963, 'gamma': 1.8213493052403773, 'min_child_weight': 3}. Best is trial 20 with value: 0.8726271899587893.\n",
      "[I 2023-07-03 02:49:29,010] Trial 87 finished with value: 0.852345522195097 and parameters: {'n_estimators': 154, 'max_depth': 5, 'learning_rate': 0.08194693590181384, 'subsample': 0.8139501947454539, 'colsample_bytree': 0.540879515974436, 'gamma': 4.3678931205338865, 'min_child_weight': 5}. Best is trial 20 with value: 0.8726271899587893.\n",
      "[I 2023-07-03 02:50:08,818] Trial 88 finished with value: 0.8489352452971207 and parameters: {'n_estimators': 59, 'max_depth': 9, 'learning_rate': 0.08255811518137553, 'subsample': 0.8741298451918291, 'colsample_bytree': 0.5922605096781887, 'gamma': 1.0467466166835515, 'min_child_weight': 2}. Best is trial 20 with value: 0.8726271899587893.\n",
      "[I 2023-07-03 02:51:58,820] Trial 89 finished with value: 0.8541621333668352 and parameters: {'n_estimators': 123, 'max_depth': 14, 'learning_rate': 0.043202227561279526, 'subsample': 0.731267358066574, 'colsample_bytree': 0.8737354690668783, 'gamma': 0.1834160144529895, 'min_child_weight': 2}. Best is trial 20 with value: 0.8726271899587893.\n",
      "[I 2023-07-03 02:52:58,399] Trial 90 finished with value: 0.8597480102035832 and parameters: {'n_estimators': 157, 'max_depth': 19, 'learning_rate': 0.05605096979040996, 'subsample': 0.7660567426326579, 'colsample_bytree': 0.553586005669888, 'gamma': 2.237061834117273, 'min_child_weight': 3}. Best is trial 20 with value: 0.8726271899587893.\n",
      "[I 2023-07-03 02:53:54,897] Trial 91 finished with value: 0.855939964134107 and parameters: {'n_estimators': 86, 'max_depth': 9, 'learning_rate': 0.04395557467941604, 'subsample': 0.5100355988888632, 'colsample_bytree': 0.6610395827915891, 'gamma': 1.0572400349827231, 'min_child_weight': 2}. Best is trial 20 with value: 0.8726271899587893.\n",
      "[I 2023-07-03 02:54:36,358] Trial 92 finished with value: 0.8395744964759804 and parameters: {'n_estimators': 68, 'max_depth': 19, 'learning_rate': 0.06342332081986439, 'subsample': 0.8395511595722448, 'colsample_bytree': 0.8945856193036692, 'gamma': 2.492210994645286, 'min_child_weight': 1}. Best is trial 20 with value: 0.8726271899587893.\n",
      "[I 2023-07-03 02:55:30,027] Trial 93 finished with value: 0.8652413751470392 and parameters: {'n_estimators': 131, 'max_depth': 14, 'learning_rate': 0.0770895526765897, 'subsample': 0.7158297731148398, 'colsample_bytree': 0.5637901513977819, 'gamma': 1.4188795289936222, 'min_child_weight': 2}. Best is trial 20 with value: 0.8726271899587893.\n",
      "[I 2023-07-03 02:57:05,638] Trial 94 finished with value: 0.839700027901228 and parameters: {'n_estimators': 147, 'max_depth': 14, 'learning_rate': 0.042048705330806166, 'subsample': 0.9932576243964899, 'colsample_bytree': 0.8028874096784435, 'gamma': 1.1861339586799724, 'min_child_weight': 1}. Best is trial 20 with value: 0.8726271899587893.\n",
      "[I 2023-07-03 02:57:53,904] Trial 95 finished with value: 0.8433613566145631 and parameters: {'n_estimators': 73, 'max_depth': 8, 'learning_rate': 0.024461323593360014, 'subsample': 0.5932835120256529, 'colsample_bytree': 0.6425475843469235, 'gamma': 0.8668679764737741, 'min_child_weight': 5}. Best is trial 20 with value: 0.8726271899587893.\n"
     ]
    },
    {
     "name": "stderr",
     "output_type": "stream",
     "text": [
      "[I 2023-07-03 02:58:34,579] Trial 96 finished with value: 0.8525866793124701 and parameters: {'n_estimators': 62, 'max_depth': 13, 'learning_rate': 0.04693571442906954, 'subsample': 0.9911893084543032, 'colsample_bytree': 0.5560194510840262, 'gamma': 1.9892779952287083, 'min_child_weight': 5}. Best is trial 20 with value: 0.8726271899587893.\n",
      "[I 2023-07-03 02:59:38,131] Trial 97 finished with value: 0.8450725487500309 and parameters: {'n_estimators': 180, 'max_depth': 18, 'learning_rate': 0.03321125443404459, 'subsample': 0.585443793695033, 'colsample_bytree': 0.8343216099622155, 'gamma': 4.646879945637929, 'min_child_weight': 3}. Best is trial 20 with value: 0.8726271899587893.\n",
      "[I 2023-07-03 03:00:25,704] Trial 98 finished with value: 0.8579716537072075 and parameters: {'n_estimators': 136, 'max_depth': 9, 'learning_rate': 0.07925436398727433, 'subsample': 0.5935218742787617, 'colsample_bytree': 0.6618396182021218, 'gamma': 2.127182193082084, 'min_child_weight': 3}. Best is trial 20 with value: 0.8726271899587893.\n",
      "[I 2023-07-03 03:01:19,907] Trial 99 finished with value: 0.8652813052363089 and parameters: {'n_estimators': 86, 'max_depth': 6, 'learning_rate': 0.06495580381974694, 'subsample': 0.6443152766201279, 'colsample_bytree': 0.7906191107113061, 'gamma': 0.7718135763710116, 'min_child_weight': 3}. Best is trial 20 with value: 0.8726271899587893.\n"
     ]
    }
   ],
   "source": [
    "study = optuna.create_study(direction='maximize', sampler=RandomSampler(seed=42))\n",
    "study.optimize(objective, n_trials=100)"
   ]
  },
  {
   "cell_type": "code",
   "execution_count": 204,
   "metadata": {
    "id": "e5s3B_cnaOEp"
   },
   "outputs": [],
   "source": [
    "# Get the best hyperparameters from Optuna\n",
    "best_params = study.best_params"
   ]
  },
  {
   "cell_type": "code",
   "execution_count": 205,
   "metadata": {
    "colab": {
     "base_uri": "https://localhost:8080/"
    },
    "id": "AYJGZwO3aOEq",
    "outputId": "aa4c5c5c-0921-43d6-e415-ad0589df8974"
   },
   "outputs": [
    {
     "data": {
      "text/plain": [
       "{'n_estimators': 195,\n",
       " 'max_depth': 9,\n",
       " 'learning_rate': 0.0547523655303147,\n",
       " 'subsample': 0.6504391549083848,\n",
       " 'colsample_bytree': 0.6424202471887338,\n",
       " 'gamma': 0.18443473677266398,\n",
       " 'min_child_weight': 4}"
      ]
     },
     "execution_count": 205,
     "metadata": {},
     "output_type": "execute_result"
    }
   ],
   "source": [
    "best_params #42 random seed"
   ]
  },
  {
   "attachments": {},
   "cell_type": "markdown",
   "metadata": {
    "id": "2ZQ3O6GiaOEq"
   },
   "source": [
    "#### Get best parameters and make predictions"
   ]
  },
  {
   "cell_type": "code",
   "execution_count": 206,
   "metadata": {
    "id": "TqRM9iqhaOEq"
   },
   "outputs": [],
   "source": [
    "X_test_selected = X_test[:, selected_features]"
   ]
  },
  {
   "cell_type": "code",
   "execution_count": 207,
   "metadata": {
    "colab": {
     "base_uri": "https://localhost:8080/"
    },
    "id": "g7oLC5h8aOEq",
    "outputId": "f5f3f933-fa09-433e-8d73-05e72d00540c"
   },
   "outputs": [
    {
     "data": {
      "text/plain": [
       "(286, 300)"
      ]
     },
     "execution_count": 207,
     "metadata": {},
     "output_type": "execute_result"
    }
   ],
   "source": [
    "X_test_selected.shape"
   ]
  },
  {
   "cell_type": "code",
   "execution_count": 208,
   "metadata": {
    "id": "tef0Yt7RaOEq"
   },
   "outputs": [],
   "source": [
    "X_train_val_selected_final_features = X_train_val[:, selected_features]"
   ]
  },
  {
   "cell_type": "code",
   "execution_count": 209,
   "metadata": {
    "colab": {
     "base_uri": "https://localhost:8080/"
    },
    "id": "2MdcUO69aOEq",
    "outputId": "539d731e-a93b-4de5-dd1b-0f5340e9289d"
   },
   "outputs": [
    {
     "data": {
      "text/plain": [
       "(1141, 300)"
      ]
     },
     "execution_count": 209,
     "metadata": {},
     "output_type": "execute_result"
    }
   ],
   "source": [
    "X_train_val_selected_final_features.shape"
   ]
  },
  {
   "cell_type": "code",
   "execution_count": 210,
   "metadata": {
    "id": "aNluHqIIaOEr"
   },
   "outputs": [],
   "source": [
    "best_classifier_XG = XGBClassifier(**best_params)"
   ]
  },
  {
   "cell_type": "code",
   "execution_count": 211,
   "metadata": {
    "colab": {
     "base_uri": "https://localhost:8080/",
     "height": 251
    },
    "id": "1MxRSL9XaOEr",
    "outputId": "d59af43c-eca7-4850-b032-f7ff125f8d0f"
   },
   "outputs": [
    {
     "data": {
      "text/html": [
       "<style>#sk-container-id-8 {color: black;}#sk-container-id-8 pre{padding: 0;}#sk-container-id-8 div.sk-toggleable {background-color: white;}#sk-container-id-8 label.sk-toggleable__label {cursor: pointer;display: block;width: 100%;margin-bottom: 0;padding: 0.3em;box-sizing: border-box;text-align: center;}#sk-container-id-8 label.sk-toggleable__label-arrow:before {content: \"▸\";float: left;margin-right: 0.25em;color: #696969;}#sk-container-id-8 label.sk-toggleable__label-arrow:hover:before {color: black;}#sk-container-id-8 div.sk-estimator:hover label.sk-toggleable__label-arrow:before {color: black;}#sk-container-id-8 div.sk-toggleable__content {max-height: 0;max-width: 0;overflow: hidden;text-align: left;background-color: #f0f8ff;}#sk-container-id-8 div.sk-toggleable__content pre {margin: 0.2em;color: black;border-radius: 0.25em;background-color: #f0f8ff;}#sk-container-id-8 input.sk-toggleable__control:checked~div.sk-toggleable__content {max-height: 200px;max-width: 100%;overflow: auto;}#sk-container-id-8 input.sk-toggleable__control:checked~label.sk-toggleable__label-arrow:before {content: \"▾\";}#sk-container-id-8 div.sk-estimator input.sk-toggleable__control:checked~label.sk-toggleable__label {background-color: #d4ebff;}#sk-container-id-8 div.sk-label input.sk-toggleable__control:checked~label.sk-toggleable__label {background-color: #d4ebff;}#sk-container-id-8 input.sk-hidden--visually {border: 0;clip: rect(1px 1px 1px 1px);clip: rect(1px, 1px, 1px, 1px);height: 1px;margin: -1px;overflow: hidden;padding: 0;position: absolute;width: 1px;}#sk-container-id-8 div.sk-estimator {font-family: monospace;background-color: #f0f8ff;border: 1px dotted black;border-radius: 0.25em;box-sizing: border-box;margin-bottom: 0.5em;}#sk-container-id-8 div.sk-estimator:hover {background-color: #d4ebff;}#sk-container-id-8 div.sk-parallel-item::after {content: \"\";width: 100%;border-bottom: 1px solid gray;flex-grow: 1;}#sk-container-id-8 div.sk-label:hover label.sk-toggleable__label {background-color: #d4ebff;}#sk-container-id-8 div.sk-serial::before {content: \"\";position: absolute;border-left: 1px solid gray;box-sizing: border-box;top: 0;bottom: 0;left: 50%;z-index: 0;}#sk-container-id-8 div.sk-serial {display: flex;flex-direction: column;align-items: center;background-color: white;padding-right: 0.2em;padding-left: 0.2em;position: relative;}#sk-container-id-8 div.sk-item {position: relative;z-index: 1;}#sk-container-id-8 div.sk-parallel {display: flex;align-items: stretch;justify-content: center;background-color: white;position: relative;}#sk-container-id-8 div.sk-item::before, #sk-container-id-8 div.sk-parallel-item::before {content: \"\";position: absolute;border-left: 1px solid gray;box-sizing: border-box;top: 0;bottom: 0;left: 50%;z-index: -1;}#sk-container-id-8 div.sk-parallel-item {display: flex;flex-direction: column;z-index: 1;position: relative;background-color: white;}#sk-container-id-8 div.sk-parallel-item:first-child::after {align-self: flex-end;width: 50%;}#sk-container-id-8 div.sk-parallel-item:last-child::after {align-self: flex-start;width: 50%;}#sk-container-id-8 div.sk-parallel-item:only-child::after {width: 0;}#sk-container-id-8 div.sk-dashed-wrapped {border: 1px dashed gray;margin: 0 0.4em 0.5em 0.4em;box-sizing: border-box;padding-bottom: 0.4em;background-color: white;}#sk-container-id-8 div.sk-label label {font-family: monospace;font-weight: bold;display: inline-block;line-height: 1.2em;}#sk-container-id-8 div.sk-label-container {text-align: center;}#sk-container-id-8 div.sk-container {/* jupyter's `normalize.less` sets `[hidden] { display: none; }` but bootstrap.min.css set `[hidden] { display: none !important; }` so we also need the `!important` here to be able to override the default hidden behavior on the sphinx rendered scikit-learn.org. See: https://github.com/scikit-learn/scikit-learn/issues/21755 */display: inline-block !important;position: relative;}#sk-container-id-8 div.sk-text-repr-fallback {display: none;}</style><div id=\"sk-container-id-8\" class=\"sk-top-container\"><div class=\"sk-text-repr-fallback\"><pre>XGBClassifier(base_score=None, booster=None, callbacks=None,\n",
       "              colsample_bylevel=None, colsample_bynode=None,\n",
       "              colsample_bytree=0.6424202471887338, early_stopping_rounds=None,\n",
       "              enable_categorical=False, eval_metric=None, feature_types=None,\n",
       "              gamma=0.18443473677266398, gpu_id=None, grow_policy=None,\n",
       "              importance_type=None, interaction_constraints=None,\n",
       "              learning_rate=0.0547523655303147, max_bin=None,\n",
       "              max_cat_threshold=None, max_cat_to_onehot=None,\n",
       "              max_delta_step=None, max_depth=9, max_leaves=None,\n",
       "              min_child_weight=4, missing=nan, monotone_constraints=None,\n",
       "              n_estimators=195, n_jobs=None, num_parallel_tree=None,\n",
       "              objective=&#x27;multi:softprob&#x27;, predictor=None, ...)</pre><b>In a Jupyter environment, please rerun this cell to show the HTML representation or trust the notebook. <br />On GitHub, the HTML representation is unable to render, please try loading this page with nbviewer.org.</b></div><div class=\"sk-container\" hidden><div class=\"sk-item\"><div class=\"sk-estimator sk-toggleable\"><input class=\"sk-toggleable__control sk-hidden--visually\" id=\"sk-estimator-id-8\" type=\"checkbox\" checked><label for=\"sk-estimator-id-8\" class=\"sk-toggleable__label sk-toggleable__label-arrow\">XGBClassifier</label><div class=\"sk-toggleable__content\"><pre>XGBClassifier(base_score=None, booster=None, callbacks=None,\n",
       "              colsample_bylevel=None, colsample_bynode=None,\n",
       "              colsample_bytree=0.6424202471887338, early_stopping_rounds=None,\n",
       "              enable_categorical=False, eval_metric=None, feature_types=None,\n",
       "              gamma=0.18443473677266398, gpu_id=None, grow_policy=None,\n",
       "              importance_type=None, interaction_constraints=None,\n",
       "              learning_rate=0.0547523655303147, max_bin=None,\n",
       "              max_cat_threshold=None, max_cat_to_onehot=None,\n",
       "              max_delta_step=None, max_depth=9, max_leaves=None,\n",
       "              min_child_weight=4, missing=nan, monotone_constraints=None,\n",
       "              n_estimators=195, n_jobs=None, num_parallel_tree=None,\n",
       "              objective=&#x27;multi:softprob&#x27;, predictor=None, ...)</pre></div></div></div></div></div>"
      ],
      "text/plain": [
       "XGBClassifier(base_score=None, booster=None, callbacks=None,\n",
       "              colsample_bylevel=None, colsample_bynode=None,\n",
       "              colsample_bytree=0.6424202471887338, early_stopping_rounds=None,\n",
       "              enable_categorical=False, eval_metric=None, feature_types=None,\n",
       "              gamma=0.18443473677266398, gpu_id=None, grow_policy=None,\n",
       "              importance_type=None, interaction_constraints=None,\n",
       "              learning_rate=0.0547523655303147, max_bin=None,\n",
       "              max_cat_threshold=None, max_cat_to_onehot=None,\n",
       "              max_delta_step=None, max_depth=9, max_leaves=None,\n",
       "              min_child_weight=4, missing=nan, monotone_constraints=None,\n",
       "              n_estimators=195, n_jobs=None, num_parallel_tree=None,\n",
       "              objective='multi:softprob', predictor=None, ...)"
      ]
     },
     "execution_count": 211,
     "metadata": {},
     "output_type": "execute_result"
    }
   ],
   "source": [
    "best_classifier_XG.fit(X_train_val_selected_final_features, y_train_val)"
   ]
  },
  {
   "cell_type": "code",
   "execution_count": 212,
   "metadata": {
    "id": "sM0ugLiaaOEr"
   },
   "outputs": [],
   "source": [
    "y_test_pred = best_classifier_XG.predict(X_test_selected)"
   ]
  },
  {
   "cell_type": "code",
   "execution_count": 213,
   "metadata": {
    "id": "HDq01F_WaOEr"
   },
   "outputs": [],
   "source": [
    "#Validate the model  using balanced_acc, precision,recall and f1\n",
    "balanced_acc_mrmr_XGB= balanced_accuracy_score(y_test, y_test_pred)\n",
    "precision_mrmr_XGB = precision_score(y_test, y_test_pred,average='weighted')\n",
    "recall_mrmr_XGB = recall_score(y_test, y_test_pred,average='weighted')\n",
    "f1_mrmr_XGB= f1_score(y_test, y_test_pred,average='weighted')"
   ]
  },
  {
   "cell_type": "code",
   "execution_count": 214,
   "metadata": {
    "colab": {
     "base_uri": "https://localhost:8080/"
    },
    "id": "Ww89bw_kaOEr",
    "outputId": "cb766e20-e424-4026-eea7-7e4e9e9fa3a4"
   },
   "outputs": [
    {
     "data": {
      "text/plain": [
       "0.9048671797685125"
      ]
     },
     "execution_count": 214,
     "metadata": {},
     "output_type": "execute_result"
    }
   ],
   "source": [
    "balanced_acc_mrmr_XGB"
   ]
  },
  {
   "cell_type": "code",
   "execution_count": 215,
   "metadata": {
    "colab": {
     "base_uri": "https://localhost:8080/"
    },
    "id": "MtzuBQzVaOEr",
    "outputId": "f103f9eb-18e8-4e35-d4da-6f88700742f9"
   },
   "outputs": [
    {
     "data": {
      "text/plain": [
       "0.9167867002352319"
      ]
     },
     "execution_count": 215,
     "metadata": {},
     "output_type": "execute_result"
    }
   ],
   "source": [
    "precision_mrmr_XGB"
   ]
  },
  {
   "cell_type": "code",
   "execution_count": 216,
   "metadata": {
    "colab": {
     "base_uri": "https://localhost:8080/"
    },
    "id": "1YAz3N9KaOEs",
    "outputId": "a3028393-220f-412a-ccde-03dc20ff85cd"
   },
   "outputs": [
    {
     "data": {
      "text/plain": [
       "0.916083916083916"
      ]
     },
     "execution_count": 216,
     "metadata": {},
     "output_type": "execute_result"
    }
   ],
   "source": [
    "recall_mrmr_XGB"
   ]
  },
  {
   "cell_type": "code",
   "execution_count": 217,
   "metadata": {
    "colab": {
     "base_uri": "https://localhost:8080/"
    },
    "id": "Maxl3szLaOEs",
    "outputId": "e90f4c18-bfa8-4576-b2af-09e7a94e2fa8"
   },
   "outputs": [
    {
     "data": {
      "text/plain": [
       "0.9150001743868856"
      ]
     },
     "execution_count": 217,
     "metadata": {},
     "output_type": "execute_result"
    }
   ],
   "source": [
    "f1_mrmr_XGB"
   ]
  },
  {
   "cell_type": "code",
   "execution_count": 218,
   "metadata": {
    "colab": {
     "base_uri": "https://localhost:8080/"
    },
    "id": "Ha4-WQhtaOEs",
    "outputId": "698cf9c8-195e-432a-959d-15fa1144f4f0"
   },
   "outputs": [
    {
     "data": {
      "text/plain": [
       "array([0, 0, 1, 0, 0, 0, 0, 0, 1, 0, 3, 2, 2, 1, 1, 3, 3, 1, 2, 3, 3, 0,\n",
       "       0, 0, 3, 0, 1, 2, 0, 0, 3, 3, 1, 0, 0, 0, 3, 3, 2, 1, 3, 0, 3, 3,\n",
       "       0, 2, 3, 0, 0, 2, 2, 0, 2, 0, 0, 0, 3, 1, 0, 2, 0, 1, 2, 0, 0, 2,\n",
       "       2, 2, 0, 0, 1, 0, 1, 3, 0, 0, 2, 0, 0, 1, 2, 1, 0, 0, 1, 3, 3, 1,\n",
       "       2, 0, 1, 0, 3, 2, 0, 1, 0, 2, 1, 2, 1, 3, 0, 2, 0, 1, 3, 2, 1, 0,\n",
       "       0, 2, 2, 3, 0, 0, 2, 1, 2, 0, 1, 1, 0, 3, 1, 1, 2, 0, 3, 3, 0, 0,\n",
       "       3, 0, 0, 0, 0, 3, 0, 3, 3, 0, 1, 3, 3, 0, 2, 0, 3, 0, 0, 0, 0, 2,\n",
       "       2, 1, 0, 3, 0, 2, 2, 1, 2, 0, 3, 1, 2, 2, 0, 2, 0, 3, 3, 2, 0, 0,\n",
       "       0, 0, 0, 0, 2, 2, 0, 2, 0, 0, 1, 0, 0, 0, 3, 2, 1, 1, 3, 1, 0, 0,\n",
       "       3, 2, 0, 3, 3, 1, 0, 0, 0, 0, 2, 0, 2, 0, 3, 1, 0, 3, 2, 3, 0, 3,\n",
       "       0, 0, 0, 1, 0, 2, 0, 1, 0, 0, 0, 0, 3, 1, 2, 2, 3, 1, 2, 3, 0, 1,\n",
       "       0, 0, 0, 0, 0, 1, 0, 0, 0, 0, 2, 0, 0, 0, 3, 2, 0, 0, 0, 3, 0, 0,\n",
       "       0, 0, 0, 1, 0, 0, 1, 0, 2, 0, 1, 1, 0, 0, 0, 3, 0, 0, 0, 0, 1, 2])"
      ]
     },
     "execution_count": 218,
     "metadata": {},
     "output_type": "execute_result"
    }
   ],
   "source": [
    "y_test_pred"
   ]
  },
  {
   "cell_type": "code",
   "execution_count": 219,
   "metadata": {
    "colab": {
     "base_uri": "https://localhost:8080/"
    },
    "id": "nCnpzXU4aOEs",
    "outputId": "a8069581-aae1-4d45-b2a3-f933c0f2556a"
   },
   "outputs": [
    {
     "data": {
      "text/plain": [
       "array([0, 0, 1, 2, 0, 0, 0, 0, 1, 0, 0, 2, 2, 1, 1, 3, 3, 1, 2, 3, 3, 0,\n",
       "       0, 0, 3, 0, 1, 2, 0, 0, 3, 3, 2, 0, 0, 0, 1, 3, 2, 1, 3, 0, 3, 3,\n",
       "       0, 2, 3, 1, 2, 2, 2, 0, 2, 0, 0, 0, 0, 1, 0, 2, 0, 1, 2, 0, 0, 2,\n",
       "       2, 2, 0, 0, 1, 0, 1, 3, 0, 0, 2, 0, 0, 1, 0, 1, 0, 2, 1, 3, 1, 1,\n",
       "       2, 0, 1, 0, 3, 2, 0, 1, 0, 2, 1, 2, 1, 3, 0, 2, 0, 1, 3, 2, 1, 0,\n",
       "       0, 2, 2, 3, 0, 0, 0, 1, 2, 0, 1, 3, 0, 3, 1, 1, 2, 2, 3, 3, 0, 0,\n",
       "       3, 0, 0, 0, 0, 3, 0, 3, 3, 0, 2, 3, 3, 2, 2, 0, 3, 2, 2, 0, 0, 2,\n",
       "       2, 1, 0, 3, 0, 2, 2, 1, 2, 0, 3, 1, 2, 2, 0, 2, 0, 3, 3, 2, 0, 1,\n",
       "       0, 1, 0, 0, 2, 2, 0, 2, 0, 0, 1, 0, 0, 0, 3, 2, 1, 2, 3, 1, 0, 0,\n",
       "       3, 2, 0, 3, 3, 1, 0, 2, 0, 0, 2, 0, 2, 0, 3, 1, 0, 3, 2, 3, 0, 3,\n",
       "       0, 0, 0, 1, 0, 2, 0, 1, 0, 0, 0, 0, 3, 1, 2, 1, 3, 1, 2, 3, 0, 1,\n",
       "       1, 0, 0, 0, 0, 1, 0, 0, 0, 0, 2, 0, 0, 0, 3, 2, 0, 0, 0, 3, 0, 0,\n",
       "       0, 0, 0, 0, 0, 0, 1, 0, 2, 0, 1, 1, 0, 0, 0, 3, 0, 0, 0, 0, 1, 2])"
      ]
     },
     "execution_count": 219,
     "metadata": {},
     "output_type": "execute_result"
    }
   ],
   "source": [
    "y_test"
   ]
  },
  {
   "cell_type": "code",
   "execution_count": 220,
   "metadata": {},
   "outputs": [
    {
     "name": "stdout",
     "output_type": "stream",
     "text": [
      "Index(['ENSG00000138326', 'ENSG00000117394', 'ENSG00000140416',\n",
      "       'ENSG00000134419', 'ENSG00000282417', 'ENSG00000205542',\n",
      "       'ENSG00000034510', 'ENSG00000100097', 'ENSG00000142676',\n",
      "       'ENSG00000168028',\n",
      "       ...\n",
      "       'ENSG00000197061', 'ENSG00000143882', 'ENSG00000100836',\n",
      "       'ENSG00000163864', 'ENSG00000213949', 'ENSG00000100650',\n",
      "       'ENSG00000188612', 'ENSG00000182263', 'ENSG00000118596',\n",
      "       'ENSG00000141965'],\n",
      "      dtype='object', length=300)\n",
      "Index(['ENSG00000138326', 'ENSG00000117394', 'ENSG00000140416',\n",
      "       'ENSG00000134419', 'ENSG00000282417', 'ENSG00000205542',\n",
      "       'ENSG00000034510', 'ENSG00000100097', 'ENSG00000142676',\n",
      "       'ENSG00000168028', 'ENSG00000149591'],\n",
      "      dtype='object')\n"
     ]
    }
   ],
   "source": [
    "# Get feature importance scores\n",
    "importance = pd.Series(best_classifier_XG.feature_importances_).sort_values(ascending=False)\n",
    "\n",
    "## Print feature importance scores\n",
    "#print(\"Feature Importance:\")\n",
    "#for i, imp in enumerate(importance):\n",
    "#    print(f\"Feature {i}: {imp}\")\n",
    "\n",
    "\n",
    "# Filter the DataFrame using the boolean array\n",
    "data_filtered_features = df_filtered.iloc[:,1:-9].loc[:, best_features]\n",
    "\n",
    "# Print the filtered DataFrame\n",
    "data_filtered_features\n",
    "\n",
    "# Get the column names corresponding to the series indices\n",
    "column_names_XG = data_filtered_features.columns[importance.index]\n",
    "\n",
    "# Print the column names\n",
    "print(column_names_XG)\n",
    "\n",
    "# Get the column names corresponding to the series indices above the threshold\n",
    "filtered_column_names_XG = data_filtered_features.columns[importance[importance > 0.01].index]\n",
    "\n",
    "# Print the filtered column names\n",
    "print(filtered_column_names_XG)"
   ]
  },
  {
   "cell_type": "code",
   "execution_count": 221,
   "metadata": {},
   "outputs": [
    {
     "data": {
      "text/plain": [
       "11"
      ]
     },
     "execution_count": 221,
     "metadata": {},
     "output_type": "execute_result"
    }
   ],
   "source": [
    "len(filtered_column_names_XG)"
   ]
  },
  {
   "attachments": {},
   "cell_type": "markdown",
   "metadata": {
    "id": "3IWlf0dH55Ny"
   },
   "source": [
    "## Logistic Regression"
   ]
  },
  {
   "attachments": {},
   "cell_type": "markdown",
   "metadata": {
    "id": "fQUYqDn3aThs"
   },
   "source": [
    "#### Cross val for hyperparameter tunning and feature selection"
   ]
  },
  {
   "cell_type": "code",
   "execution_count": 222,
   "metadata": {
    "id": "0TaEpHKZaTht"
   },
   "outputs": [],
   "source": [
    "# Define the number of folds for cross-validation\n",
    "n_folds = 5"
   ]
  },
  {
   "cell_type": "code",
   "execution_count": 223,
   "metadata": {
    "id": "1eR7pqIXaTht"
   },
   "outputs": [],
   "source": [
    "def perform_feature_selection(X_train_val, y_train_val):\n",
    "    X_train_features, X_hyperparam_opt, y_train_features, y_hyperparam_opt = train_test_split(X_train_val, y_train_val, train_size=0.30, random_state=42)\n",
    "    # Perform feature selection on X_train_val\n",
    "    X_train_val_df = pd.DataFrame(X_train_features)\n",
    "    y_train_val_df = pd.DataFrame(y_train_features)\n",
    "    X_hyperparam_opt = pd.DataFrame(X_hyperparam_opt)\n",
    "    y_hyperparam_opt = pd.DataFrame(y_hyperparam_opt)\n",
    "    selected_features = mrmr_classif(X_train_val_df, y_train_val_df, K=300)\n",
    "    X_train_val_selected = X_hyperparam_opt.loc[:, selected_features]\n",
    "\n",
    "    return X_train_val_selected, y_hyperparam_opt,selected_features"
   ]
  },
  {
   "cell_type": "code",
   "execution_count": 224,
   "metadata": {
    "id": "2CnNVAhZaTht"
   },
   "outputs": [],
   "source": [
    "def objective_LR(trial, X_hyperparam_opt, y_hyperparam_opt,selected_features):\n",
    "\n",
    "  params = {\n",
    "              'tol' : trial.suggest_float('tol' , 1e-6 , 1e-3),\n",
    "              'C' : trial.suggest_float(\"C\", 1e-5, 100),\n",
    "              \"n_jobs\" : -1,\n",
    "              'solver': trial.suggest_categorical('solver', ['newton-cg', 'lbfgs', 'liblinear', 'sag', 'saga'])\n",
    "          }\n",
    "\n",
    "  # Instantiate the classifier with the current hyperparameters\n",
    "  #classifier = XGBClassifier(eta=eta,gamma=gamma ,min_child_weight=min_child_weight,max_delta_step=max_delta_step,subsample=subsample)\n",
    "  classifier = LogisticRegression(**params)\n",
    "\n",
    "  # Perform cross-validation on the selected features\n",
    "  kf = StratifiedKFold(n_splits=n_folds, shuffle=True, random_state=42)\n",
    "  cv_scores = []\n",
    "\n",
    "  for train_index, val_index in kf.split(X_hyperparam_opt, y_hyperparam_opt):\n",
    "      #X_train, X_val = X_hyperparam_opt[train_index], X_hyperparam_opt[val_index]\n",
    "      #y_train, y_val = y_hyperparam_opt[train_index], y_hyperparam_opt[val_index]\n",
    "      X_train, X_val = X_hyperparam_opt.iloc[train_index], X_hyperparam_opt.iloc[val_index]\n",
    "      y_train, y_val = y_hyperparam_opt.iloc[train_index], y_hyperparam_opt.iloc[val_index]\n",
    "      # Fit the classifier on the selected features and evaluate on the validation set\n",
    "      classifier.fit(X_train, y_train)\n",
    "      y_pred = classifier.predict(X_val)\n",
    "      mcc = matthews_corrcoef(y_val, y_pred)\n",
    "      cv_scores.append(mcc)\n",
    "  # Calculate the average MCC\n",
    "  avg_mcc = np.mean(cv_scores)\n",
    "\n",
    "  return avg_mcc"
   ]
  },
  {
   "cell_type": "code",
   "execution_count": 225,
   "metadata": {
    "colab": {
     "base_uri": "https://localhost:8080/"
    },
    "id": "udwQC2_AaTht",
    "outputId": "ae270a71-fd59-40f9-ebe5-de80958ebf4f"
   },
   "outputs": [
    {
     "name": "stderr",
     "output_type": "stream",
     "text": [
      "100%|█████████████████████████████████████████| 300/300 [00:59<00:00,  5.04it/s]\n"
     ]
    }
   ],
   "source": [
    "# Perform feature selection\n",
    "X_hyperparam_opt, y_hyperparam_opt,selected_features = perform_feature_selection(X_train_val, y_train_val)"
   ]
  },
  {
   "cell_type": "code",
   "execution_count": 226,
   "metadata": {
    "id": "n-numCr5aThu"
   },
   "outputs": [],
   "source": [
    "# Define the objective function with selected features\n",
    "def objective(trial):\n",
    "    return objective_LR(trial, X_hyperparam_opt, y_hyperparam_opt,selected_features)"
   ]
  },
  {
   "cell_type": "code",
   "execution_count": 227,
   "metadata": {
    "colab": {
     "base_uri": "https://localhost:8080/"
    },
    "id": "aotM8xj5aThu",
    "outputId": "537ab3a6-3c8a-4a3a-d189-a8628917c452"
   },
   "outputs": [
    {
     "name": "stderr",
     "output_type": "stream",
     "text": [
      "[I 2023-07-03 03:02:24,284] A new study created in memory with name: no-name-fd788c01-f943-4079-aee5-3333f052678d\n",
      "[I 2023-07-03 03:02:27,094] Trial 0 finished with value: 0.8206063884982979 and parameters: {'tol': 0.0003751655787285152, 'C': 95.07143113384855, 'solver': 'newton-cg'}. Best is trial 0 with value: 0.8206063884982979.\n",
      "[I 2023-07-03 03:02:33,823] Trial 1 finished with value: 0.7868958679916298 and parameters: {'tol': 0.0008663099696291604, 'C': 60.11150516317076, 'solver': 'liblinear'}. Best is trial 0 with value: 0.8206063884982979.\n",
      "[I 2023-07-03 03:02:44,161] Trial 2 finished with value: 0.8216022485507603 and parameters: {'tol': 0.00018264314223989352, 'C': 18.340459151298283, 'solver': 'saga'}. Best is trial 2 with value: 0.8216022485507603.\n",
      "[I 2023-07-03 03:02:53,309] Trial 3 finished with value: 0.804697312214517 and parameters: {'tol': 0.0001403543667913898, 'C': 29.21447193207533, 'solver': 'liblinear'}. Best is trial 2 with value: 0.8216022485507603.\n",
      "[I 2023-07-03 03:03:03,645] Trial 4 finished with value: 0.8237924775353782 and parameters: {'tol': 0.0005928221542931806, 'C': 4.645050807495645, 'solver': 'saga'}. Best is trial 4 with value: 0.8237924775353782.\n",
      "[I 2023-07-03 03:03:09,916] Trial 5 finished with value: 0.822159826405508 and parameters: {'tol': 0.0008085889507683448, 'C': 30.461383871199377, 'solver': 'lbfgs'}. Best is trial 4 with value: 0.8237924775353782.\n",
      "[I 2023-07-03 03:03:16,799] Trial 6 finished with value: 0.8188403034509097 and parameters: {'tol': 3.535413259410318e-05, 'C': 90.93204111467419, 'solver': 'lbfgs'}. Best is trial 4 with value: 0.8237924775353782.\n",
      "[I 2023-07-03 03:03:23,280] Trial 7 finished with value: 0.8205996886113718 and parameters: {'tol': 0.00018566960107000154, 'C': 96.95846308060958, 'solver': 'lbfgs'}. Best is trial 4 with value: 0.8237924775353782.\n",
      "[I 2023-07-03 03:03:33,635] Trial 8 finished with value: 0.8251914049583643 and parameters: {'tol': 8.940400954986758e-05, 'C': 19.598294282085895, 'solver': 'saga'}. Best is trial 8 with value: 0.8251914049583643.\n",
      "[I 2023-07-03 03:03:44,116] Trial 9 finished with value: 0.8212259872174602 and parameters: {'tol': 0.00035739657336689574, 'C': 28.093458159392977, 'solver': 'saga'}. Best is trial 8 with value: 0.8251914049583643.\n",
      "[I 2023-07-03 03:03:50,525] Trial 10 finished with value: 0.8188155051854299 and parameters: {'tol': 0.0007724725245273608, 'C': 19.871576166260425, 'solver': 'lbfgs'}. Best is trial 8 with value: 0.8251914049583643.\n",
      "[I 2023-07-03 03:03:57,402] Trial 11 finished with value: 0.8170499648419931 and parameters: {'tol': 7.497060708235628e-05, 'C': 35.846579269769975, 'solver': 'lbfgs'}. Best is trial 8 with value: 0.8251914049583643.\n",
      "[I 2023-07-03 03:04:05,582] Trial 12 finished with value: 0.7964335075096646 and parameters: {'tol': 0.0003116713393939466, 'C': 32.51833895084149, 'solver': 'liblinear'}. Best is trial 8 with value: 0.8251914049583643.\n",
      "[I 2023-07-03 03:04:11,753] Trial 13 finished with value: 0.8185641294381938 and parameters: {'tol': 0.0007135315424357721, 'C': 76.07850725383926, 'solver': 'lbfgs'}. Best is trial 8 with value: 0.8251914049583643.\n",
      "[I 2023-07-03 03:04:22,339] Trial 14 finished with value: 0.8248560960382314 and parameters: {'tol': 2.6393707617351097e-05, 'C': 10.789151620416174, 'solver': 'saga'}. Best is trial 8 with value: 0.8251914049583643.\n",
      "[I 2023-07-03 03:04:25,512] Trial 15 finished with value: 0.8170499648419931 and parameters: {'tol': 0.0002500429369197261, 'C': 41.038298199733745, 'solver': 'newton-cg'}. Best is trial 8 with value: 0.8251914049583643.\n",
      "[I 2023-07-03 03:04:36,043] Trial 16 finished with value: 0.8285808854344585 and parameters: {'tol': 0.0009297679546902306, 'C': 80.8120398752379, 'solver': 'saga'}. Best is trial 16 with value: 0.8285808854344585.\n",
      "[I 2023-07-03 03:04:38,904] Trial 17 finished with value: 0.818822205072356 and parameters: {'tol': 0.0005398028996737352, 'C': 80.7440174420047, 'solver': 'newton-cg'}. Best is trial 16 with value: 0.8285808854344585.\n",
      "[I 2023-07-03 03:04:45,061] Trial 18 finished with value: 0.8189991295406177 and parameters: {'tol': 0.0008181967511565707, 'C': 86.07305971832851, 'solver': 'lbfgs'}. Best is trial 16 with value: 0.8285808854344585.\n",
      "[I 2023-07-03 03:04:55,339] Trial 19 finished with value: 0.8248810065653164 and parameters: {'tol': 0.0003382775562322244, 'C': 94.29097096215487, 'solver': 'saga'}. Best is trial 16 with value: 0.8285808854344585.\n",
      "[I 2023-07-03 03:05:05,622] Trial 20 finished with value: 0.8249501837794991 and parameters: {'tol': 0.0009624848476471692, 'C': 25.178237064713457, 'solver': 'saga'}. Best is trial 16 with value: 0.8285808854344585.\n",
      "[I 2023-07-03 03:05:12,270] Trial 21 finished with value: 0.8186416750654095 and parameters: {'tol': 0.0005031763442056327, 'C': 5.147884610211422, 'solver': 'lbfgs'}. Best is trial 16 with value: 0.8285808854344585.\n",
      "[I 2023-07-03 03:05:18,552] Trial 22 finished with value: 0.8203555582626677 and parameters: {'tol': 0.0009856648036564901, 'C': 24.205534730597325, 'solver': 'lbfgs'}. Best is trial 16 with value: 0.8285808854344585.\n",
      "[I 2023-07-03 03:05:25,287] Trial 23 finished with value: 0.7868958679916298 and parameters: {'tol': 0.000632673524762986, 'C': 63.35297474079236, 'solver': 'liblinear'}. Best is trial 16 with value: 0.8285808854344585.\n",
      "[I 2023-07-03 03:05:28,932] Trial 24 finished with value: 0.8188403034509097 and parameters: {'tol': 4.173436641320915e-05, 'C': 59.08929840989475, 'solver': 'newton-cg'}. Best is trial 16 with value: 0.8285808854344585.\n",
      "[I 2023-07-03 03:05:35,536] Trial 25 finished with value: 0.8205996886113718 and parameters: {'tol': 0.00017519206257598648, 'C': 69.09377690086922, 'solver': 'lbfgs'}. Best is trial 16 with value: 0.8285808854344585.\n",
      "[I 2023-07-03 03:05:42,295] Trial 26 finished with value: 0.7868958679916298 and parameters: {'tol': 0.0009247689246602843, 'C': 87.73393656470456, 'solver': 'liblinear'}. Best is trial 16 with value: 0.8285808854344585.\n",
      "[I 2023-07-03 03:05:49,001] Trial 27 finished with value: 0.8168761347219726 and parameters: {'tol': 0.00024261043860955125, 'C': 9.310285849562243, 'solver': 'lbfgs'}. Best is trial 16 with value: 0.8285808854344585.\n",
      "[I 2023-07-03 03:05:51,894] Trial 28 finished with value: 0.818822205072356 and parameters: {'tol': 0.0007262297231913692, 'C': 89.71102702415511, 'solver': 'newton-cg'}. Best is trial 16 with value: 0.8285808854344585.\n",
      "[I 2023-07-03 03:05:58,652] Trial 29 finished with value: 0.7868958679916298 and parameters: {'tol': 0.0008986556343385523, 'C': 60.642909901668396, 'solver': 'liblinear'}. Best is trial 16 with value: 0.8285808854344585.\n",
      "[I 2023-07-03 03:06:05,369] Trial 30 finished with value: 0.7868958679916298 and parameters: {'tol': 0.0005491850555772196, 'C': 69.18952285031735, 'solver': 'liblinear'}. Best is trial 16 with value: 0.8285808854344585.\n",
      "[I 2023-07-03 03:06:08,153] Trial 31 finished with value: 0.818822205072356 and parameters: {'tol': 0.0007467449137129063, 'C': 64.96329340839247, 'solver': 'newton-cg'}. Best is trial 16 with value: 0.8285808854344585.\n",
      "[I 2023-07-03 03:06:11,433] Trial 32 finished with value: 0.8188155051854299 and parameters: {'tol': 0.00026593716531404376, 'C': 24.398971898011922, 'solver': 'newton-cg'}. Best is trial 16 with value: 0.8285808854344585.\n",
      "[I 2023-07-03 03:06:18,551] Trial 33 finished with value: 0.7904181811215394 and parameters: {'tol': 0.000503134456012087, 'C': 57.69039269359707, 'solver': 'liblinear'}. Best is trial 16 with value: 0.8285808854344585.\n",
      "[I 2023-07-03 03:06:25,036] Trial 34 finished with value: 0.8188155051854299 and parameters: {'tol': 0.0006458268236112607, 'C': 17.711076169598098, 'solver': 'lbfgs'}. Best is trial 16 with value: 0.8285808854344585.\n",
      "[I 2023-07-03 03:06:27,916] Trial 35 finished with value: 0.8188155051854299 and parameters: {'tol': 0.0009283902440251377, 'C': 42.81842054988995, 'solver': 'newton-cg'}. Best is trial 16 with value: 0.8285808854344585.\n",
      "[I 2023-07-03 03:06:34,916] Trial 36 finished with value: 0.790362801208519 and parameters: {'tol': 0.0008512855348453401, 'C': 31.692207346407713, 'solver': 'liblinear'}. Best is trial 16 with value: 0.8285808854344585.\n",
      "[I 2023-07-03 03:06:38,268] Trial 37 finished with value: 0.8188403034509097 and parameters: {'tol': 9.807931727699777e-05, 'C': 61.50072651984471, 'solver': 'newton-cg'}. Best is trial 16 with value: 0.8285808854344585.\n"
     ]
    },
    {
     "name": "stderr",
     "output_type": "stream",
     "text": [
      "[I 2023-07-03 03:06:48,576] Trial 38 finished with value: 0.82322967439334 and parameters: {'tol': 0.0006973187252542728, 'C': 70.24841137387008, 'solver': 'saga'}. Best is trial 16 with value: 0.8285808854344585.\n",
      "[I 2023-07-03 03:06:54,821] Trial 39 finished with value: 0.8166523319079582 and parameters: {'tol': 0.0009133273120039149, 'C': 51.134244772669796, 'solver': 'lbfgs'}. Best is trial 16 with value: 0.8285808854344585.\n",
      "[I 2023-07-03 03:07:01,808] Trial 40 finished with value: 0.790362801208519 and parameters: {'tol': 0.0008901153364757489, 'C': 33.79952230520201, 'solver': 'liblinear'}. Best is trial 16 with value: 0.8285808854344585.\n",
      "[I 2023-07-03 03:07:09,102] Trial 41 finished with value: 0.8252816652581532 and parameters: {'tol': 0.0005431019900728691, 'C': 28.654132347415917, 'solver': 'sag'}. Best is trial 16 with value: 0.8285808854344585.\n",
      "[I 2023-07-03 03:07:12,508] Trial 42 finished with value: 0.818834148267935 and parameters: {'tol': 0.0001279334521392329, 'C': 52.22433078304784, 'solver': 'newton-cg'}. Best is trial 16 with value: 0.8285808854344585.\n",
      "[I 2023-07-03 03:07:19,471] Trial 43 finished with value: 0.7867391250297082 and parameters: {'tol': 0.00053182327693658, 'C': 54.06351675465944, 'solver': 'liblinear'}. Best is trial 16 with value: 0.8285808854344585.\n",
      "[I 2023-07-03 03:07:26,745] Trial 44 finished with value: 0.8181127298111276 and parameters: {'tol': 0.0007953910085739351, 'C': 27.083232417884908, 'solver': 'sag'}. Best is trial 16 with value: 0.8285808854344585.\n",
      "[I 2023-07-03 03:07:37,063] Trial 45 finished with value: 0.8235063754555367 and parameters: {'tol': 0.0006962782318876043, 'C': 40.895300351897546, 'solver': 'saga'}. Best is trial 16 with value: 0.8285808854344585.\n",
      "[I 2023-07-03 03:07:40,095] Trial 46 finished with value: 0.8205996886113718 and parameters: {'tol': 0.0006605371793410136, 'C': 27.993396895255312, 'solver': 'newton-cg'}. Best is trial 16 with value: 0.8285808854344585.\n",
      "[I 2023-07-03 03:07:43,383] Trial 47 finished with value: 0.8170499648419931 and parameters: {'tol': 0.00024848325851165634, 'C': 35.597274305399374, 'solver': 'newton-cg'}. Best is trial 16 with value: 0.8285808854344585.\n",
      "[I 2023-07-03 03:07:50,156] Trial 48 finished with value: 0.7868958679916298 and parameters: {'tol': 0.0008556051234269963, 'C': 70.36578890142377, 'solver': 'liblinear'}. Best is trial 16 with value: 0.8285808854344585.\n",
      "[I 2023-07-03 03:07:56,597] Trial 49 finished with value: 0.8188155051854299 and parameters: {'tol': 0.0004344177975887351, 'C': 39.85047945469, 'solver': 'lbfgs'}. Best is trial 16 with value: 0.8285808854344585.\n",
      "[I 2023-07-03 03:07:59,456] Trial 50 finished with value: 0.818822205072356 and parameters: {'tol': 0.0005036331223215077, 'C': 85.64898555393381, 'solver': 'newton-cg'}. Best is trial 16 with value: 0.8285808854344585.\n",
      "[I 2023-07-03 03:08:06,204] Trial 51 finished with value: 0.7868958679916298 and parameters: {'tol': 0.0005861898056921899, 'C': 94.02302474019335, 'solver': 'liblinear'}. Best is trial 16 with value: 0.8285808854344585.\n",
      "[I 2023-07-03 03:08:09,169] Trial 52 finished with value: 0.8188155051854299 and parameters: {'tol': 0.0009415233439677488, 'C': 38.61026991905105, 'solver': 'newton-cg'}. Best is trial 16 with value: 0.8285808854344585.\n",
      "[I 2023-07-03 03:08:16,478] Trial 53 finished with value: 0.8238615960165916 and parameters: {'tol': 1.920360382589818e-05, 'C': 9.444305131163231, 'solver': 'sag'}. Best is trial 16 with value: 0.8285808854344585.\n",
      "[I 2023-07-03 03:08:23,770] Trial 54 finished with value: 0.8219428702439888 and parameters: {'tol': 0.000814654014106347, 'C': 28.185484658792245, 'solver': 'sag'}. Best is trial 16 with value: 0.8285808854344585.\n",
      "[I 2023-07-03 03:08:31,144] Trial 55 finished with value: 0.8199705750191782 and parameters: {'tol': 0.0008036774494544638, 'C': 28.203464436784923, 'solver': 'sag'}. Best is trial 16 with value: 0.8285808854344585.\n",
      "[I 2023-07-03 03:08:37,512] Trial 56 finished with value: 0.820485536775729 and parameters: {'tol': 0.00037264606770699043, 'C': 77.64129831007008, 'solver': 'lbfgs'}. Best is trial 16 with value: 0.8285808854344585.\n",
      "[I 2023-07-03 03:08:40,467] Trial 57 finished with value: 0.8186416750654095 and parameters: {'tol': 0.0007547883312105977, 'C': 10.312395852354571, 'solver': 'newton-cg'}. Best is trial 16 with value: 0.8285808854344585.\n",
      "[I 2023-07-03 03:08:50,785] Trial 58 finished with value: 0.8255100626314166 and parameters: {'tol': 0.00038981247705542903, 'C': 1.0837750396533212, 'solver': 'saga'}. Best is trial 16 with value: 0.8285808854344585.\n",
      "[I 2023-07-03 03:09:01,061] Trial 59 finished with value: 0.826804380078525 and parameters: {'tol': 0.000573864450235163, 'C': 63.18372489860781, 'solver': 'saga'}. Best is trial 16 with value: 0.8285808854344585.\n",
      "[I 2023-07-03 03:09:08,380] Trial 60 finished with value: 0.8216132452306114 and parameters: {'tol': 0.0007917874646821228, 'C': 78.96181638327396, 'solver': 'sag'}. Best is trial 16 with value: 0.8285808854344585.\n",
      "[I 2023-07-03 03:09:15,375] Trial 61 finished with value: 0.790362801208519 and parameters: {'tol': 0.0008878164785755415, 'C': 35.091507746057744, 'solver': 'liblinear'}. Best is trial 16 with value: 0.8285808854344585.\n",
      "[I 2023-07-03 03:09:22,173] Trial 62 finished with value: 0.8188403034509097 and parameters: {'tol': 8.502269930888245e-05, 'C': 70.09691613622068, 'solver': 'lbfgs'}. Best is trial 16 with value: 0.8285808854344585.\n",
      "[I 2023-07-03 03:09:29,454] Trial 63 finished with value: 0.8220230305158674 and parameters: {'tol': 0.0009866529389226744, 'C': 37.427085832904076, 'solver': 'sag'}. Best is trial 16 with value: 0.8285808854344585.\n",
      "[I 2023-07-03 03:09:36,764] Trial 64 finished with value: 0.8148125739460932 and parameters: {'tol': 0.0003768833259453849, 'C': 8.350080834859709, 'solver': 'sag'}. Best is trial 16 with value: 0.8285808854344585.\n",
      "[I 2023-07-03 03:09:47,076] Trial 65 finished with value: 0.8231742712577539 and parameters: {'tol': 0.0004931324791865683, 'C': 1.1353743632054591, 'solver': 'saga'}. Best is trial 16 with value: 0.8285808854344585.\n",
      "[I 2023-07-03 03:09:49,826] Trial 66 finished with value: 0.8188155051854299 and parameters: {'tol': 0.000746298834386158, 'C': 58.336880676028315, 'solver': 'newton-cg'}. Best is trial 16 with value: 0.8285808854344585.\n",
      "[I 2023-07-03 03:10:00,130] Trial 67 finished with value: 0.8231742712577539 and parameters: {'tol': 0.0009632593169011708, 'C': 1.2154573474368873, 'solver': 'saga'}. Best is trial 16 with value: 0.8285808854344585.\n",
      "[I 2023-07-03 03:10:03,605] Trial 68 finished with value: 0.8188403034509097 and parameters: {'tol': 7.472276817066347e-05, 'C': 55.38543290158923, 'solver': 'newton-cg'}. Best is trial 16 with value: 0.8285808854344585.\n",
      "[I 2023-07-03 03:10:10,927] Trial 69 finished with value: 0.8165541689848645 and parameters: {'tol': 0.0006279305220039795, 'C': 58.431435349166904, 'solver': 'sag'}. Best is trial 16 with value: 0.8285808854344585.\n",
      "[I 2023-07-03 03:10:21,274] Trial 70 finished with value: 0.8231742712577539 and parameters: {'tol': 0.0004562010960329273, 'C': 62.0132635788277, 'solver': 'saga'}. Best is trial 16 with value: 0.8285808854344585.\n",
      "[I 2023-07-03 03:10:24,583] Trial 71 finished with value: 0.8188403034509097 and parameters: {'tol': 7.865690232801985e-05, 'C': 97.43948102266857, 'solver': 'newton-cg'}. Best is trial 16 with value: 0.8285808854344585.\n",
      "[I 2023-07-03 03:10:31,759] Trial 72 finished with value: 0.7933001126269403 and parameters: {'tol': 0.0006850464413813255, 'C': 16.261702308319734, 'solver': 'liblinear'}. Best is trial 16 with value: 0.8285808854344585.\n",
      "[I 2023-07-03 03:10:34,632] Trial 73 finished with value: 0.8206063884982979 and parameters: {'tol': 0.0004188247932543283, 'C': 93.2728490081165, 'solver': 'newton-cg'}. Best is trial 16 with value: 0.8285808854344585.\n",
      "[I 2023-07-03 03:10:41,858] Trial 74 finished with value: 0.7952696888019275 and parameters: {'tol': 0.0009872888531856296, 'C': 15.041697606183906, 'solver': 'liblinear'}. Best is trial 16 with value: 0.8285808854344585.\n",
      "[I 2023-07-03 03:10:52,159] Trial 75 finished with value: 0.8255100626314166 and parameters: {'tol': 0.0004692244666351754, 'C': 41.4819560855715, 'solver': 'saga'}. Best is trial 16 with value: 0.8285808854344585.\n"
     ]
    },
    {
     "name": "stderr",
     "output_type": "stream",
     "text": [
      "[I 2023-07-03 03:10:58,331] Trial 76 finished with value: 0.8204877092109897 and parameters: {'tol': 0.0009966402002368315, 'C': 55.54317500594569, 'solver': 'lbfgs'}. Best is trial 16 with value: 0.8285808854344585.\n",
      "[I 2023-07-03 03:11:07,291] Trial 77 finished with value: 0.7986717939939261 and parameters: {'tol': 0.0001300302557363435, 'C': 95.40510318536197, 'solver': 'liblinear'}. Best is trial 16 with value: 0.8285808854344585.\n",
      "[I 2023-07-03 03:11:14,596] Trial 78 finished with value: 0.8206604057496442 and parameters: {'tol': 0.00011444403460742941, 'C': 67.157322843548, 'solver': 'sag'}. Best is trial 16 with value: 0.8285808854344585.\n",
      "[I 2023-07-03 03:11:21,858] Trial 79 finished with value: 0.81463912104334 and parameters: {'tol': 0.000561377033563851, 'C': 87.66536149929847, 'solver': 'sag'}. Best is trial 16 with value: 0.8285808854344585.\n",
      "[I 2023-07-03 03:11:29,170] Trial 80 finished with value: 0.8236024846511463 and parameters: {'tol': 0.0007043756883311244, 'C': 21.296424021249457, 'solver': 'sag'}. Best is trial 16 with value: 0.8285808854344585.\n",
      "[I 2023-07-03 03:11:36,674] Trial 81 finished with value: 0.7884905912188145 and parameters: {'tol': 0.0004380374471017054, 'C': 90.41587040778789, 'solver': 'liblinear'}. Best is trial 16 with value: 0.8285808854344585.\n",
      "[I 2023-07-03 03:11:42,845] Trial 82 finished with value: 0.818822205072356 and parameters: {'tol': 0.0008625013450379985, 'C': 94.95206287055798, 'solver': 'lbfgs'}. Best is trial 16 with value: 0.8285808854344585.\n",
      "[I 2023-07-03 03:11:49,039] Trial 83 finished with value: 0.8185641294381938 and parameters: {'tol': 0.0009800525427101916, 'C': 49.26181447310602, 'solver': 'lbfgs'}. Best is trial 16 with value: 0.8285808854344585.\n",
      "[I 2023-07-03 03:11:59,335] Trial 84 finished with value: 0.8231742712577539 and parameters: {'tol': 0.00012891779311881467, 'C': 15.190277832202499, 'solver': 'saga'}. Best is trial 16 with value: 0.8285808854344585.\n",
      "[I 2023-07-03 03:12:09,579] Trial 85 finished with value: 0.8235505325910537 and parameters: {'tol': 0.00047448767862260955, 'C': 66.75577717652533, 'solver': 'saga'}. Best is trial 16 with value: 0.8285808854344585.\n",
      "[I 2023-07-03 03:12:19,862] Trial 86 finished with value: 0.8231732670600655 and parameters: {'tol': 0.0001778334737924701, 'C': 8.870262488680224, 'solver': 'saga'}. Best is trial 16 with value: 0.8285808854344585.\n",
      "[I 2023-07-03 03:12:30,137] Trial 87 finished with value: 0.8266575119212499 and parameters: {'tol': 0.000690704433800736, 'C': 3.931223590988495, 'solver': 'saga'}. Best is trial 16 with value: 0.8285808854344585.\n",
      "[I 2023-07-03 03:12:33,612] Trial 88 finished with value: 0.8170499648419931 and parameters: {'tol': 6.20168818950089e-05, 'C': 27.68777204594389, 'solver': 'newton-cg'}. Best is trial 16 with value: 0.8285808854344585.\n",
      "[I 2023-07-03 03:12:40,790] Trial 89 finished with value: 0.7918957396472576 and parameters: {'tol': 0.0004850384622058304, 'C': 61.825480970481884, 'solver': 'liblinear'}. Best is trial 16 with value: 0.8285808854344585.\n",
      "[I 2023-07-03 03:12:51,091] Trial 90 finished with value: 0.8251779584336336 and parameters: {'tol': 0.0007136362362986679, 'C': 89.52068481665155, 'solver': 'saga'}. Best is trial 16 with value: 0.8285808854344585.\n",
      "[I 2023-07-03 03:12:54,242] Trial 91 finished with value: 0.8170499648419931 and parameters: {'tol': 0.00024322803313109496, 'C': 26.924330402505785, 'solver': 'newton-cg'}. Best is trial 16 with value: 0.8285808854344585.\n",
      "[I 2023-07-03 03:13:03,239] Trial 92 finished with value: 0.7986717939939261 and parameters: {'tol': 0.00012064236968743198, 'C': 89.0527291687167, 'solver': 'liblinear'}. Best is trial 16 with value: 0.8285808854344585.\n",
      "[I 2023-07-03 03:13:06,033] Trial 93 finished with value: 0.8170499648419931 and parameters: {'tol': 0.0005375694352767293, 'C': 58.684115933676736, 'solver': 'newton-cg'}. Best is trial 16 with value: 0.8285808854344585.\n",
      "[I 2023-07-03 03:13:12,282] Trial 94 finished with value: 0.8203683975810339 and parameters: {'tol': 0.0006462713240902697, 'C': 57.07783475910814, 'solver': 'lbfgs'}. Best is trial 16 with value: 0.8285808854344585.\n",
      "[I 2023-07-03 03:13:22,545] Trial 95 finished with value: 0.82322967439334 and parameters: {'tol': 0.0001537062800451477, 'C': 24.595780378873528, 'solver': 'saga'}. Best is trial 16 with value: 0.8285808854344585.\n",
      "[I 2023-07-03 03:13:29,418] Trial 96 finished with value: 0.8188155051854299 and parameters: {'tol': 8.115351191598057e-05, 'C': 52.45114371191157, 'solver': 'lbfgs'}. Best is trial 16 with value: 0.8285808854344585.\n",
      "[I 2023-07-03 03:13:36,680] Trial 97 finished with value: 0.8233013261662927 and parameters: {'tol': 0.0008656416187680864, 'C': 81.70720892420728, 'solver': 'sag'}. Best is trial 16 with value: 0.8285808854344585.\n",
      "[I 2023-07-03 03:13:39,764] Trial 98 finished with value: 0.8205996886113718 and parameters: {'tol': 0.00057204107678043, 'C': 27.99791656623748, 'solver': 'newton-cg'}. Best is trial 16 with value: 0.8285808854344585.\n",
      "[I 2023-07-03 03:13:43,102] Trial 99 finished with value: 0.816891925412634 and parameters: {'tol': 0.00024316732268266517, 'C': 11.483691325552105, 'solver': 'newton-cg'}. Best is trial 16 with value: 0.8285808854344585.\n"
     ]
    }
   ],
   "source": [
    "study = optuna.create_study(direction='maximize', sampler=RandomSampler(seed=42))\n",
    "study.optimize(objective, n_trials=100)"
   ]
  },
  {
   "cell_type": "code",
   "execution_count": null,
   "metadata": {
    "id": "lqjFVm1PaThu"
   },
   "outputs": [],
   "source": []
  },
  {
   "cell_type": "code",
   "execution_count": 228,
   "metadata": {
    "id": "G2H4C_VoaThu"
   },
   "outputs": [],
   "source": [
    "# Get the best hyperparameters from Optuna\n",
    "best_params = study.best_params"
   ]
  },
  {
   "cell_type": "code",
   "execution_count": 229,
   "metadata": {
    "colab": {
     "base_uri": "https://localhost:8080/"
    },
    "id": "fxMqxtMaaThu",
    "outputId": "a28e66f8-b34f-4b22-8179-1542c16f6011"
   },
   "outputs": [
    {
     "data": {
      "text/plain": [
       "{'tol': 0.0009297679546902306, 'C': 80.8120398752379, 'solver': 'saga'}"
      ]
     },
     "execution_count": 229,
     "metadata": {},
     "output_type": "execute_result"
    }
   ],
   "source": [
    "best_params #42 random seed"
   ]
  },
  {
   "attachments": {},
   "cell_type": "markdown",
   "metadata": {
    "id": "7yC2_9qgaThu"
   },
   "source": [
    "#### Get best parameters and make predictions"
   ]
  },
  {
   "cell_type": "code",
   "execution_count": 230,
   "metadata": {
    "id": "5EX5BimeaThv"
   },
   "outputs": [],
   "source": [
    "#selected_features_indices = [i for i, value in enumerate(best_features) if value]\n",
    "X_test_selected = X_test[:, selected_features]"
   ]
  },
  {
   "cell_type": "code",
   "execution_count": 231,
   "metadata": {
    "colab": {
     "base_uri": "https://localhost:8080/"
    },
    "id": "d-OE4kgDaThv",
    "outputId": "f5f3f933-fa09-433e-8d73-05e72d00540c"
   },
   "outputs": [
    {
     "data": {
      "text/plain": [
       "(286, 300)"
      ]
     },
     "execution_count": 231,
     "metadata": {},
     "output_type": "execute_result"
    }
   ],
   "source": [
    "X_test_selected.shape"
   ]
  },
  {
   "cell_type": "code",
   "execution_count": 232,
   "metadata": {
    "id": "srmaD_7AaThv"
   },
   "outputs": [],
   "source": [
    "X_train_val_selected_final_features = X_train_val[:, selected_features]"
   ]
  },
  {
   "cell_type": "code",
   "execution_count": 233,
   "metadata": {
    "colab": {
     "base_uri": "https://localhost:8080/"
    },
    "id": "uS7bPOP-aThv",
    "outputId": "539d731e-a93b-4de5-dd1b-0f5340e9289d"
   },
   "outputs": [
    {
     "data": {
      "text/plain": [
       "(1141, 300)"
      ]
     },
     "execution_count": 233,
     "metadata": {},
     "output_type": "execute_result"
    }
   ],
   "source": [
    "X_train_val_selected_final_features.shape"
   ]
  },
  {
   "cell_type": "code",
   "execution_count": 234,
   "metadata": {
    "id": "A_I2hFp7aThv"
   },
   "outputs": [],
   "source": [
    "#best_C = study.best_params['C']\n",
    "#best_gamma = study.best_params['gamma']\n",
    "#best_gamma = study.best_params['gamma']\n",
    "#best_classifier = SVC(C=best_C, gamma=best_gamma)\n",
    "best_classifier_LR = LogisticRegression(**best_params)"
   ]
  },
  {
   "cell_type": "code",
   "execution_count": 235,
   "metadata": {
    "colab": {
     "base_uri": "https://localhost:8080/",
     "height": 74
    },
    "id": "fMr5jIc7aThv",
    "outputId": "4284ebfb-c8b6-44ec-ede0-97b9287597b0"
   },
   "outputs": [
    {
     "data": {
      "text/html": [
       "<style>#sk-container-id-9 {color: black;}#sk-container-id-9 pre{padding: 0;}#sk-container-id-9 div.sk-toggleable {background-color: white;}#sk-container-id-9 label.sk-toggleable__label {cursor: pointer;display: block;width: 100%;margin-bottom: 0;padding: 0.3em;box-sizing: border-box;text-align: center;}#sk-container-id-9 label.sk-toggleable__label-arrow:before {content: \"▸\";float: left;margin-right: 0.25em;color: #696969;}#sk-container-id-9 label.sk-toggleable__label-arrow:hover:before {color: black;}#sk-container-id-9 div.sk-estimator:hover label.sk-toggleable__label-arrow:before {color: black;}#sk-container-id-9 div.sk-toggleable__content {max-height: 0;max-width: 0;overflow: hidden;text-align: left;background-color: #f0f8ff;}#sk-container-id-9 div.sk-toggleable__content pre {margin: 0.2em;color: black;border-radius: 0.25em;background-color: #f0f8ff;}#sk-container-id-9 input.sk-toggleable__control:checked~div.sk-toggleable__content {max-height: 200px;max-width: 100%;overflow: auto;}#sk-container-id-9 input.sk-toggleable__control:checked~label.sk-toggleable__label-arrow:before {content: \"▾\";}#sk-container-id-9 div.sk-estimator input.sk-toggleable__control:checked~label.sk-toggleable__label {background-color: #d4ebff;}#sk-container-id-9 div.sk-label input.sk-toggleable__control:checked~label.sk-toggleable__label {background-color: #d4ebff;}#sk-container-id-9 input.sk-hidden--visually {border: 0;clip: rect(1px 1px 1px 1px);clip: rect(1px, 1px, 1px, 1px);height: 1px;margin: -1px;overflow: hidden;padding: 0;position: absolute;width: 1px;}#sk-container-id-9 div.sk-estimator {font-family: monospace;background-color: #f0f8ff;border: 1px dotted black;border-radius: 0.25em;box-sizing: border-box;margin-bottom: 0.5em;}#sk-container-id-9 div.sk-estimator:hover {background-color: #d4ebff;}#sk-container-id-9 div.sk-parallel-item::after {content: \"\";width: 100%;border-bottom: 1px solid gray;flex-grow: 1;}#sk-container-id-9 div.sk-label:hover label.sk-toggleable__label {background-color: #d4ebff;}#sk-container-id-9 div.sk-serial::before {content: \"\";position: absolute;border-left: 1px solid gray;box-sizing: border-box;top: 0;bottom: 0;left: 50%;z-index: 0;}#sk-container-id-9 div.sk-serial {display: flex;flex-direction: column;align-items: center;background-color: white;padding-right: 0.2em;padding-left: 0.2em;position: relative;}#sk-container-id-9 div.sk-item {position: relative;z-index: 1;}#sk-container-id-9 div.sk-parallel {display: flex;align-items: stretch;justify-content: center;background-color: white;position: relative;}#sk-container-id-9 div.sk-item::before, #sk-container-id-9 div.sk-parallel-item::before {content: \"\";position: absolute;border-left: 1px solid gray;box-sizing: border-box;top: 0;bottom: 0;left: 50%;z-index: -1;}#sk-container-id-9 div.sk-parallel-item {display: flex;flex-direction: column;z-index: 1;position: relative;background-color: white;}#sk-container-id-9 div.sk-parallel-item:first-child::after {align-self: flex-end;width: 50%;}#sk-container-id-9 div.sk-parallel-item:last-child::after {align-self: flex-start;width: 50%;}#sk-container-id-9 div.sk-parallel-item:only-child::after {width: 0;}#sk-container-id-9 div.sk-dashed-wrapped {border: 1px dashed gray;margin: 0 0.4em 0.5em 0.4em;box-sizing: border-box;padding-bottom: 0.4em;background-color: white;}#sk-container-id-9 div.sk-label label {font-family: monospace;font-weight: bold;display: inline-block;line-height: 1.2em;}#sk-container-id-9 div.sk-label-container {text-align: center;}#sk-container-id-9 div.sk-container {/* jupyter's `normalize.less` sets `[hidden] { display: none; }` but bootstrap.min.css set `[hidden] { display: none !important; }` so we also need the `!important` here to be able to override the default hidden behavior on the sphinx rendered scikit-learn.org. See: https://github.com/scikit-learn/scikit-learn/issues/21755 */display: inline-block !important;position: relative;}#sk-container-id-9 div.sk-text-repr-fallback {display: none;}</style><div id=\"sk-container-id-9\" class=\"sk-top-container\"><div class=\"sk-text-repr-fallback\"><pre>LogisticRegression(C=80.8120398752379, solver=&#x27;saga&#x27;, tol=0.0009297679546902306)</pre><b>In a Jupyter environment, please rerun this cell to show the HTML representation or trust the notebook. <br />On GitHub, the HTML representation is unable to render, please try loading this page with nbviewer.org.</b></div><div class=\"sk-container\" hidden><div class=\"sk-item\"><div class=\"sk-estimator sk-toggleable\"><input class=\"sk-toggleable__control sk-hidden--visually\" id=\"sk-estimator-id-9\" type=\"checkbox\" checked><label for=\"sk-estimator-id-9\" class=\"sk-toggleable__label sk-toggleable__label-arrow\">LogisticRegression</label><div class=\"sk-toggleable__content\"><pre>LogisticRegression(C=80.8120398752379, solver=&#x27;saga&#x27;, tol=0.0009297679546902306)</pre></div></div></div></div></div>"
      ],
      "text/plain": [
       "LogisticRegression(C=80.8120398752379, solver='saga', tol=0.0009297679546902306)"
      ]
     },
     "execution_count": 235,
     "metadata": {},
     "output_type": "execute_result"
    }
   ],
   "source": [
    "best_classifier_LR.fit(X_train_val_selected_final_features, y_train_val)"
   ]
  },
  {
   "cell_type": "code",
   "execution_count": 236,
   "metadata": {
    "id": "S5oCv7O9aThw"
   },
   "outputs": [],
   "source": [
    "y_test_pred = best_classifier_LR.predict(X_test_selected)"
   ]
  },
  {
   "cell_type": "code",
   "execution_count": 237,
   "metadata": {
    "id": "y3h21PfJaThw"
   },
   "outputs": [],
   "source": [
    "#Validate the model  using balanced_acc, precision,recall and f1\n",
    "balanced_acc_mrmr_LR = balanced_accuracy_score(y_test, y_test_pred)\n",
    "precision_mrmr_LR = precision_score(y_test, y_test_pred,average='weighted')\n",
    "recall_mrmr_LR = recall_score(y_test, y_test_pred,average='weighted')\n",
    "f1_mrmr_LR = f1_score(y_test, y_test_pred,average='weighted')"
   ]
  },
  {
   "cell_type": "code",
   "execution_count": 238,
   "metadata": {
    "colab": {
     "base_uri": "https://localhost:8080/"
    },
    "id": "Nizcx7euaThw",
    "outputId": "7b06d187-a522-440e-f067-30842975cb37"
   },
   "outputs": [
    {
     "data": {
      "text/plain": [
       "0.8756748580095521"
      ]
     },
     "execution_count": 238,
     "metadata": {},
     "output_type": "execute_result"
    }
   ],
   "source": [
    "balanced_acc_mrmr_LR"
   ]
  },
  {
   "cell_type": "code",
   "execution_count": 239,
   "metadata": {
    "colab": {
     "base_uri": "https://localhost:8080/"
    },
    "id": "bAt_fo3saThw",
    "outputId": "cb551eae-39ec-4bb4-fe51-60ad536bb400"
   },
   "outputs": [
    {
     "data": {
      "text/plain": [
       "0.8878278241649048"
      ]
     },
     "execution_count": 239,
     "metadata": {},
     "output_type": "execute_result"
    }
   ],
   "source": [
    "precision_mrmr_LR"
   ]
  },
  {
   "cell_type": "code",
   "execution_count": 240,
   "metadata": {
    "colab": {
     "base_uri": "https://localhost:8080/"
    },
    "id": "3cxhoS3uaThw",
    "outputId": "a39d8a6c-60f1-4a7e-bacd-d1a3d532f286"
   },
   "outputs": [
    {
     "data": {
      "text/plain": [
       "0.8881118881118881"
      ]
     },
     "execution_count": 240,
     "metadata": {},
     "output_type": "execute_result"
    }
   ],
   "source": [
    "recall_mrmr_LR"
   ]
  },
  {
   "cell_type": "code",
   "execution_count": 241,
   "metadata": {
    "colab": {
     "base_uri": "https://localhost:8080/"
    },
    "id": "IsG0JQMnaThx",
    "outputId": "db523152-fb72-461b-8ebe-0dedbd1183a8"
   },
   "outputs": [
    {
     "data": {
      "text/plain": [
       "0.8875781209780631"
      ]
     },
     "execution_count": 241,
     "metadata": {},
     "output_type": "execute_result"
    }
   ],
   "source": [
    "f1_mrmr_LR "
   ]
  },
  {
   "cell_type": "code",
   "execution_count": 242,
   "metadata": {
    "colab": {
     "base_uri": "https://localhost:8080/"
    },
    "id": "hI1umFo-aThx",
    "outputId": "c97017e0-61f6-4198-e4b8-f6d6fa631fd3"
   },
   "outputs": [
    {
     "data": {
      "text/plain": [
       "array([0, 0, 1, 2, 0, 0, 0, 0, 1, 0, 0, 2, 2, 1, 1, 3, 3, 1, 0, 3, 3, 0,\n",
       "       0, 2, 3, 0, 1, 2, 0, 0, 3, 3, 1, 1, 0, 0, 0, 3, 2, 1, 3, 0, 3, 3,\n",
       "       0, 2, 3, 1, 2, 2, 2, 0, 2, 0, 0, 0, 0, 1, 0, 2, 0, 0, 2, 0, 0, 2,\n",
       "       2, 2, 0, 0, 1, 0, 1, 3, 0, 0, 2, 2, 2, 1, 0, 1, 0, 0, 1, 3, 3, 2,\n",
       "       0, 0, 1, 0, 3, 2, 0, 1, 0, 2, 3, 2, 0, 3, 0, 2, 0, 1, 3, 2, 3, 0,\n",
       "       0, 2, 3, 3, 0, 0, 2, 1, 2, 1, 1, 1, 0, 3, 1, 1, 2, 1, 3, 3, 0, 0,\n",
       "       3, 0, 0, 0, 0, 3, 0, 3, 3, 0, 2, 3, 3, 0, 2, 0, 3, 3, 2, 0, 0, 2,\n",
       "       2, 1, 0, 3, 0, 2, 2, 1, 2, 0, 1, 1, 2, 2, 0, 2, 0, 0, 3, 2, 0, 1,\n",
       "       0, 0, 0, 0, 2, 2, 0, 2, 0, 0, 1, 0, 0, 0, 3, 2, 1, 2, 3, 1, 0, 0,\n",
       "       3, 2, 0, 3, 3, 2, 0, 0, 0, 0, 2, 0, 2, 0, 3, 1, 0, 3, 2, 3, 0, 3,\n",
       "       0, 0, 0, 1, 0, 2, 0, 1, 0, 0, 0, 0, 3, 1, 3, 1, 3, 1, 2, 3, 0, 1,\n",
       "       0, 0, 0, 0, 1, 1, 0, 0, 0, 0, 2, 0, 0, 0, 3, 2, 0, 0, 0, 3, 0, 0,\n",
       "       0, 0, 0, 1, 0, 0, 1, 0, 2, 0, 1, 1, 0, 0, 0, 3, 0, 1, 0, 0, 1, 2])"
      ]
     },
     "execution_count": 242,
     "metadata": {},
     "output_type": "execute_result"
    }
   ],
   "source": [
    "y_test_pred"
   ]
  },
  {
   "cell_type": "code",
   "execution_count": 243,
   "metadata": {
    "colab": {
     "base_uri": "https://localhost:8080/"
    },
    "id": "hsHc5pIUaThx",
    "outputId": "0d74a0f0-49f9-4e54-e410-34fd43e80ff8"
   },
   "outputs": [
    {
     "data": {
      "text/plain": [
       "array([0, 0, 1, 2, 0, 0, 0, 0, 1, 0, 0, 2, 2, 1, 1, 3, 3, 1, 2, 3, 3, 0,\n",
       "       0, 0, 3, 0, 1, 2, 0, 0, 3, 3, 2, 0, 0, 0, 1, 3, 2, 1, 3, 0, 3, 3,\n",
       "       0, 2, 3, 1, 2, 2, 2, 0, 2, 0, 0, 0, 0, 1, 0, 2, 0, 1, 2, 0, 0, 2,\n",
       "       2, 2, 0, 0, 1, 0, 1, 3, 0, 0, 2, 0, 0, 1, 0, 1, 0, 2, 1, 3, 1, 1,\n",
       "       2, 0, 1, 0, 3, 2, 0, 1, 0, 2, 1, 2, 1, 3, 0, 2, 0, 1, 3, 2, 1, 0,\n",
       "       0, 2, 2, 3, 0, 0, 0, 1, 2, 0, 1, 3, 0, 3, 1, 1, 2, 2, 3, 3, 0, 0,\n",
       "       3, 0, 0, 0, 0, 3, 0, 3, 3, 0, 2, 3, 3, 2, 2, 0, 3, 2, 2, 0, 0, 2,\n",
       "       2, 1, 0, 3, 0, 2, 2, 1, 2, 0, 3, 1, 2, 2, 0, 2, 0, 3, 3, 2, 0, 1,\n",
       "       0, 1, 0, 0, 2, 2, 0, 2, 0, 0, 1, 0, 0, 0, 3, 2, 1, 2, 3, 1, 0, 0,\n",
       "       3, 2, 0, 3, 3, 1, 0, 2, 0, 0, 2, 0, 2, 0, 3, 1, 0, 3, 2, 3, 0, 3,\n",
       "       0, 0, 0, 1, 0, 2, 0, 1, 0, 0, 0, 0, 3, 1, 2, 1, 3, 1, 2, 3, 0, 1,\n",
       "       1, 0, 0, 0, 0, 1, 0, 0, 0, 0, 2, 0, 0, 0, 3, 2, 0, 0, 0, 3, 0, 0,\n",
       "       0, 0, 0, 0, 0, 0, 1, 0, 2, 0, 1, 1, 0, 0, 0, 3, 0, 0, 0, 0, 1, 2])"
      ]
     },
     "execution_count": 243,
     "metadata": {},
     "output_type": "execute_result"
    }
   ],
   "source": [
    "y_test"
   ]
  },
  {
   "cell_type": "code",
   "execution_count": 244,
   "metadata": {},
   "outputs": [
    {
     "name": "stdout",
     "output_type": "stream",
     "text": [
      "[array([ 86, 134,  53, 210, 264, 135,   8,  76, 279, 227,   0, 180, 259,\n",
      "        20, 220, 287,  12, 100, 213,  62])]\n",
      "[array([ 86, 134,  53, 210, 264, 135,   8,  76, 279, 227,   0, 180, 259,\n",
      "        20, 220, 287,  12, 100, 213,  62]), array([ 70, 206, 169,  84,  64,  45, 179, 194,  63, 161,  42,  47, 199,\n",
      "        13, 197,  43,  94, 191, 115, 126])]\n",
      "[array([ 86, 134,  53, 210, 264, 135,   8,  76, 279, 227,   0, 180, 259,\n",
      "        20, 220, 287,  12, 100, 213,  62]), array([ 70, 206, 169,  84,  64,  45, 179, 194,  63, 161,  42,  47, 199,\n",
      "        13, 197,  43,  94, 191, 115, 126]), array([298, 167, 266, 256, 297, 182, 141, 285, 223, 205, 247, 156, 190,\n",
      "       257, 216, 131, 170, 286,  32, 228])]\n",
      "[array([ 86, 134,  53, 210, 264, 135,   8,  76, 279, 227,   0, 180, 259,\n",
      "        20, 220, 287,  12, 100, 213,  62]), array([ 70, 206, 169,  84,  64,  45, 179, 194,  63, 161,  42,  47, 199,\n",
      "        13, 197,  43,  94, 191, 115, 126]), array([298, 167, 266, 256, 297, 182, 141, 285, 223, 205, 247, 156, 190,\n",
      "       257, 216, 131, 170, 286,  32, 228]), array([162, 121, 143,  32, 196,  39, 243, 261, 166, 155,  21, 233, 277,\n",
      "        93, 292, 249, 296,  83, 160,  65])]\n",
      "Important Genes for class 1: ['ENSG00000101335', 'ENSG00000143742', 'ENSG00000168028', 'ENSG00000175782', 'ENSG00000162654', 'ENSG00000164434', 'ENSG00000034510', 'ENSG00000138061', 'ENSG00000116209', 'ENSG00000196458', 'ENSG00000205542', 'ENSG00000213585', 'ENSG00000092871', 'ENSG00000100316', 'ENSG00000135637', 'ENSG00000141526', 'ENSG00000187514', 'ENSG00000057019', 'ENSG00000106355', 'ENSG00000096384']\n",
      "Important Genes for class 2: ['ENSG00000124172', 'ENSG00000134057', 'ENSG00000164111', 'ENSG00000106211', 'ENSG00000197747', 'ENSG00000163191', 'ENSG00000285437', 'ENSG00000131747', 'ENSG00000198786', 'ENSG00000100650', 'ENSG00000269028', 'ENSG00000089157', 'ENSG00000108953', 'ENSG00000138326', 'ENSG00000244398', 'ENSG00000255508', 'ENSG00000220842', 'ENSG00000260836', 'ENSG00000281287', 'ENSG00000277359']\n",
      "Important Genes for class 3: ['ENSG00000182628', 'ENSG00000173207', 'ENSG00000107890', 'ENSG00000164109', 'ENSG00000168461', 'ENSG00000166582', 'ENSG00000176340', 'ENSG00000129534', 'ENSG00000148773', 'ENSG00000100836', 'ENSG00000164754', 'ENSG00000069275', 'ENSG00000169609', 'ENSG00000211451', 'ENSG00000175768', 'ENSG00000170540', 'ENSG00000166803', 'ENSG00000066279', 'ENSG00000197061', 'ENSG00000113810']\n",
      "Important Genes for class 4: ['ENSG00000253117', 'ENSG00000167460', 'ENSG00000133812', 'ENSG00000197061', 'ENSG00000170893', 'ENSG00000140416', 'ENSG00000107165', 'ENSG00000177459', 'ENSG00000150093', 'ENSG00000243449', 'ENSG00000115461', 'ENSG00000175265', 'ENSG00000134871', 'ENSG00000006042', 'ENSG00000130208', 'ENSG00000134245', 'ENSG00000122884', 'ENSG00000118523', 'ENSG00000049540', 'ENSG00000100097']\n"
     ]
    }
   ],
   "source": [
    "#Print the top 20 important indices for each class \n",
    "\n",
    "top20_indices=list()\n",
    "coefs=best_classifier_LG.coef_\n",
    "for i in range(0,np.shape(coefs)[0]):\n",
    "    top20_indices.append(np.argsort(coefs[i])[-20:])\n",
    "    print(top20_indices)\n",
    "    \n",
    "top20_indices0=top20_indices[0]\n",
    "top20_indices1=top20_indices[1]\n",
    "top20_indices2=top20_indices[2]\n",
    "top20_indices3=top20_indices[3]\n",
    "\n",
    "column_names0=list()\n",
    "column_names1=list()\n",
    "column_names2=list()\n",
    "column_names3=list()\n",
    "\n",
    "for i in range(20):\n",
    "    column_names0.append(data_filtered_features.columns[top20_indices0[i]])\n",
    "    column_names1.append(data_filtered_features.columns[top20_indices1[i]])\n",
    "    column_names2.append(data_filtered_features.columns[top20_indices2[i]])\n",
    "    column_names3.append(data_filtered_features.columns[top20_indices3[i]])\n",
    "\n",
    "# Print the column names\n",
    "print(\"Important Genes for class 1:\",column_names0)\n",
    "print(\"Important Genes for class 2:\",column_names1)\n",
    "print(\"Important Genes for class 3:\",column_names2)\n",
    "print(\"Important Genes for class 4:\",column_names3)\n"
   ]
  },
  {
   "attachments": {},
   "cell_type": "markdown",
   "metadata": {
    "id": "NBfVfw6I55N4"
   },
   "source": [
    "## GaussianNB"
   ]
  },
  {
   "attachments": {},
   "cell_type": "markdown",
   "metadata": {
    "id": "b01LXgpDaZHE"
   },
   "source": [
    "#### Cross val for hyperparameter tunning and feature selection"
   ]
  },
  {
   "cell_type": "code",
   "execution_count": 245,
   "metadata": {
    "id": "o2PFa_i3aZHT"
   },
   "outputs": [],
   "source": [
    "# Define the number of folds for cross-validation\n",
    "n_folds = 5\n",
    "#n_folds_features = 2"
   ]
  },
  {
   "cell_type": "code",
   "execution_count": 246,
   "metadata": {
    "id": "sklN2Nm3aZHT"
   },
   "outputs": [],
   "source": [
    "def perform_feature_selection(X_train_val, y_train_val):\n",
    "    X_train_features, X_hyperparam_opt, y_train_features, y_hyperparam_opt = train_test_split(X_train_val, y_train_val, train_size=0.30, random_state=42)\n",
    "    # Perform feature selection on X_train_val\n",
    "    X_train_val_df = pd.DataFrame(X_train_features)\n",
    "    y_train_val_df = pd.DataFrame(y_train_features)\n",
    "    X_hyperparam_opt = pd.DataFrame(X_hyperparam_opt)\n",
    "    y_hyperparam_opt = pd.DataFrame(y_hyperparam_opt)\n",
    "    selected_features = mrmr_classif(X_train_val_df, y_train_val_df, K=300)\n",
    "    X_train_val_selected = X_hyperparam_opt.loc[:, selected_features]\n",
    "\n",
    "    return X_train_val_selected, y_hyperparam_opt,selected_features"
   ]
  },
  {
   "cell_type": "code",
   "execution_count": 247,
   "metadata": {
    "id": "dPg3nPfvaZHT"
   },
   "outputs": [],
   "source": [
    "def objective_GNB(trial, X_hyperparam_opt, y_hyperparam_opt,selected_features):\n",
    "\n",
    "  params = {\n",
    "            'var_smoothing': trial.suggest_float('var_smoothing', 1e-10, 1e-3, log=True)\n",
    "          }\n",
    "\n",
    "  # Instantiate the classifier with the current hyperparameters\n",
    "  #classifier = XGBClassifier(eta=eta,gamma=gamma ,min_child_weight=min_child_weight,max_delta_step=max_delta_step,subsample=subsample)\n",
    "  classifier = GaussianNB(**params)\n",
    "\n",
    "  # Perform cross-validation on the selected features\n",
    "  kf = StratifiedKFold(n_splits=n_folds, shuffle=True, random_state=42)\n",
    "  cv_scores = []\n",
    "\n",
    "  for train_index, val_index in kf.split(X_hyperparam_opt, y_hyperparam_opt):\n",
    "      #X_train, X_val = X_hyperparam_opt[train_index], X_hyperparam_opt[val_index]\n",
    "      #y_train, y_val = y_hyperparam_opt[train_index], y_hyperparam_opt[val_index]\n",
    "      X_train, X_val = X_hyperparam_opt.iloc[train_index], X_hyperparam_opt.iloc[val_index]\n",
    "      y_train, y_val = y_hyperparam_opt.iloc[train_index], y_hyperparam_opt.iloc[val_index]\n",
    "      # Fit the classifier on the selected features and evaluate on the validation set\n",
    "      classifier.fit(X_train, y_train)\n",
    "      y_pred = classifier.predict(X_val)\n",
    "      mcc = matthews_corrcoef(y_val, y_pred)\n",
    "      cv_scores.append(mcc)\n",
    "  # Calculate the average MCC\n",
    "  avg_mcc = np.mean(cv_scores)\n",
    "\n",
    "  return avg_mcc"
   ]
  },
  {
   "cell_type": "code",
   "execution_count": 248,
   "metadata": {
    "colab": {
     "base_uri": "https://localhost:8080/"
    },
    "id": "zWTTvaXiaZHU",
    "outputId": "15f733c1-83a4-40ee-91cc-90ff0e8e7c8d"
   },
   "outputs": [
    {
     "name": "stderr",
     "output_type": "stream",
     "text": [
      "100%|█████████████████████████████████████████| 300/300 [00:58<00:00,  5.13it/s]\n"
     ]
    }
   ],
   "source": [
    "# Perform feature selection\n",
    "X_hyperparam_opt, y_hyperparam_opt,selected_features = perform_feature_selection(X_train_val, y_train_val)"
   ]
  },
  {
   "cell_type": "code",
   "execution_count": 249,
   "metadata": {
    "id": "J30AIYoUaZHU"
   },
   "outputs": [],
   "source": [
    "# Define the objective function with selected features\n",
    "def objective(trial):\n",
    "    return objective_GNB(trial, X_hyperparam_opt, y_hyperparam_opt,selected_features)"
   ]
  },
  {
   "cell_type": "code",
   "execution_count": 250,
   "metadata": {
    "colab": {
     "base_uri": "https://localhost:8080/"
    },
    "id": "9lrQ1Q7laZHU",
    "outputId": "ed3a165d-6637-49a5-a611-81220eef9330"
   },
   "outputs": [
    {
     "name": "stderr",
     "output_type": "stream",
     "text": [
      "[I 2023-07-03 03:14:43,108] A new study created in memory with name: no-name-82147b9a-485a-4cd4-bfc6-afe171b9f2fc\n",
      "[I 2023-07-03 03:14:43,275] Trial 0 finished with value: 0.6486412776454273 and parameters: {'var_smoothing': 4.185822729546966e-08}. Best is trial 0 with value: 0.6486412776454273.\n",
      "[I 2023-07-03 03:14:43,430] Trial 1 finished with value: 0.6963049111298647 and parameters: {'var_smoothing': 0.0004518560951024107}. Best is trial 1 with value: 0.6963049111298647.\n",
      "[I 2023-07-03 03:14:43,585] Trial 2 finished with value: 0.6787926283480018 and parameters: {'var_smoothing': 1.3303245101522907e-05}. Best is trial 1 with value: 0.6963049111298647.\n",
      "[I 2023-07-03 03:14:43,742] Trial 3 finished with value: 0.663262072093888 and parameters: {'var_smoothing': 1.5509913987594307e-06}. Best is trial 1 with value: 0.6963049111298647.\n",
      "[I 2023-07-03 03:14:43,896] Trial 4 finished with value: 0.6356777358428725 and parameters: {'var_smoothing': 1.2363188277052218e-09}. Best is trial 1 with value: 0.6963049111298647.\n",
      "[I 2023-07-03 03:14:44,054] Trial 5 finished with value: 0.6356777358428725 and parameters: {'var_smoothing': 1.2358382772306896e-09}. Best is trial 1 with value: 0.6963049111298647.\n",
      "[I 2023-07-03 03:14:44,208] Trial 6 finished with value: 0.6343826623866627 and parameters: {'var_smoothing': 2.5502648504032847e-10}. Best is trial 1 with value: 0.6963049111298647.\n",
      "[I 2023-07-03 03:14:44,366] Trial 7 finished with value: 0.6915015011304589 and parameters: {'var_smoothing': 0.00011567327199145979}. Best is trial 1 with value: 0.6963049111298647.\n",
      "[I 2023-07-03 03:14:44,521] Trial 8 finished with value: 0.663262072093888 and parameters: {'var_smoothing': 1.6136341713591319e-06}. Best is trial 1 with value: 0.6963049111298647.\n",
      "[I 2023-07-03 03:14:44,678] Trial 9 finished with value: 0.6773645829548192 and parameters: {'var_smoothing': 9.047071957568391e-06}. Best is trial 1 with value: 0.6963049111298647.\n",
      "[I 2023-07-03 03:14:44,835] Trial 10 finished with value: 0.6331062420364277 and parameters: {'var_smoothing': 1.3934502251337584e-10}. Best is trial 1 with value: 0.6963049111298647.\n",
      "[I 2023-07-03 03:14:44,990] Trial 11 finished with value: 0.6985100057396345 and parameters: {'var_smoothing': 0.00061569973282352}. Best is trial 11 with value: 0.6985100057396345.\n",
      "[I 2023-07-03 03:14:45,147] Trial 12 finished with value: 0.6857577917687551 and parameters: {'var_smoothing': 6.715811311069945e-05}. Best is trial 11 with value: 0.6985100057396345.\n",
      "[I 2023-07-03 03:14:45,304] Trial 13 finished with value: 0.6389323258578665 and parameters: {'var_smoothing': 3.064599841241147e-09}. Best is trial 11 with value: 0.6985100057396345.\n",
      "[I 2023-07-03 03:14:45,461] Trial 14 finished with value: 0.637636951348014 and parameters: {'var_smoothing': 1.874022368883631e-09}. Best is trial 11 with value: 0.6985100057396345.\n",
      "[I 2023-07-03 03:14:45,616] Trial 15 finished with value: 0.637636951348014 and parameters: {'var_smoothing': 1.922346047064363e-09}. Best is trial 11 with value: 0.6985100057396345.\n",
      "[I 2023-07-03 03:14:45,775] Trial 16 finished with value: 0.6455671908551897 and parameters: {'var_smoothing': 1.3480180290890788e-08}. Best is trial 11 with value: 0.6985100057396345.\n",
      "[I 2023-07-03 03:14:45,931] Trial 17 finished with value: 0.657613082604906 and parameters: {'var_smoothing': 4.7129737561107815e-07}. Best is trial 11 with value: 0.6985100057396345.\n",
      "[I 2023-07-03 03:14:46,089] Trial 18 finished with value: 0.6539052972909962 and parameters: {'var_smoothing': 1.0558813779064848e-07}. Best is trial 11 with value: 0.6985100057396345.\n",
      "[I 2023-07-03 03:14:46,243] Trial 19 finished with value: 0.6470173063814999 and parameters: {'var_smoothing': 1.0929592787219375e-08}. Best is trial 11 with value: 0.6985100057396345.\n",
      "[I 2023-07-03 03:14:46,400] Trial 20 finished with value: 0.663262072093888 and parameters: {'var_smoothing': 1.9185373703841914e-06}. Best is trial 11 with value: 0.6985100057396345.\n",
      "[I 2023-07-03 03:14:46,556] Trial 21 finished with value: 0.6356777358428725 and parameters: {'var_smoothing': 9.472334467618544e-10}. Best is trial 11 with value: 0.6985100057396345.\n",
      "[I 2023-07-03 03:14:46,710] Trial 22 finished with value: 0.6470173063814999 and parameters: {'var_smoothing': 1.1092068418536174e-08}. Best is trial 11 with value: 0.6985100057396345.\n",
      "[I 2023-07-03 03:14:46,867] Trial 23 finished with value: 0.6486412776454273 and parameters: {'var_smoothing': 3.6688748954991754e-08}. Best is trial 11 with value: 0.6985100057396345.\n",
      "[I 2023-07-03 03:14:47,021] Trial 24 finished with value: 0.6548388032069093 and parameters: {'var_smoothing': 1.5577217702693015e-07}. Best is trial 11 with value: 0.6985100057396345.\n",
      "[I 2023-07-03 03:14:47,179] Trial 25 finished with value: 0.6818722497090264 and parameters: {'var_smoothing': 3.134958021096909e-05}. Best is trial 11 with value: 0.6985100057396345.\n",
      "[I 2023-07-03 03:14:47,334] Trial 26 finished with value: 0.6389323258578665 and parameters: {'var_smoothing': 2.4987135684669447e-09}. Best is trial 11 with value: 0.6985100057396345.\n",
      "[I 2023-07-03 03:14:47,491] Trial 27 finished with value: 0.657613082604906 and parameters: {'var_smoothing': 3.97778283081119e-07}. Best is trial 11 with value: 0.6985100057396345.\n",
      "[I 2023-07-03 03:14:47,647] Trial 28 finished with value: 0.663262072093888 and parameters: {'var_smoothing': 1.402497132660036e-06}. Best is trial 11 with value: 0.6985100057396345.\n",
      "[I 2023-07-03 03:14:47,805] Trial 29 finished with value: 0.6343826623866627 and parameters: {'var_smoothing': 2.1142332035497139e-10}. Best is trial 11 with value: 0.6985100057396345.\n",
      "[I 2023-07-03 03:14:47,961] Trial 30 finished with value: 0.663262072093888 and parameters: {'var_smoothing': 1.7898389848671593e-06}. Best is trial 11 with value: 0.6985100057396345.\n",
      "[I 2023-07-03 03:14:48,118] Trial 31 finished with value: 0.637636951348014 and parameters: {'var_smoothing': 1.5619562520792733e-09}. Best is trial 11 with value: 0.6985100057396345.\n",
      "[I 2023-07-03 03:14:48,274] Trial 32 finished with value: 0.6343826623866627 and parameters: {'var_smoothing': 2.853390105240223e-10}. Best is trial 11 with value: 0.6985100057396345.\n",
      "[I 2023-07-03 03:14:48,429] Trial 33 finished with value: 0.6963049111298647 and parameters: {'var_smoothing': 0.0004387314432435404}. Best is trial 11 with value: 0.6985100057396345.\n",
      "[I 2023-07-03 03:14:48,586] Trial 34 finished with value: 0.6985100057396345 and parameters: {'var_smoothing': 0.0005746775499181862}. Best is trial 11 with value: 0.6985100057396345.\n",
      "[I 2023-07-03 03:14:48,740] Trial 35 finished with value: 0.6857577917687551 and parameters: {'var_smoothing': 4.55807468402733e-05}. Best is trial 11 with value: 0.6985100057396345.\n",
      "[I 2023-07-03 03:14:48,897] Trial 36 finished with value: 0.6455671908551897 and parameters: {'var_smoothing': 1.3561145768453489e-08}. Best is trial 11 with value: 0.6985100057396345.\n",
      "[I 2023-07-03 03:14:49,052] Trial 37 finished with value: 0.6343826623866627 and parameters: {'var_smoothing': 4.827305651975699e-10}. Best is trial 11 with value: 0.6985100057396345.\n",
      "[I 2023-07-03 03:14:49,210] Trial 38 finished with value: 0.6745938288372437 and parameters: {'var_smoothing': 6.1607159527745434e-06}. Best is trial 11 with value: 0.6985100057396345.\n",
      "[I 2023-07-03 03:14:49,363] Trial 39 finished with value: 0.6539052972909962 and parameters: {'var_smoothing': 1.20522312541456e-07}. Best is trial 11 with value: 0.6985100057396345.\n",
      "[I 2023-07-03 03:14:49,520] Trial 40 finished with value: 0.6343826623866627 and parameters: {'var_smoothing': 7.149367864959178e-10}. Best is trial 11 with value: 0.6985100057396345.\n",
      "[I 2023-07-03 03:14:49,676] Trial 41 finished with value: 0.657613082604906 and parameters: {'var_smoothing': 2.9257577949824413e-07}. Best is trial 11 with value: 0.6985100057396345.\n",
      "[I 2023-07-03 03:14:49,835] Trial 42 finished with value: 0.6343826623866627 and parameters: {'var_smoothing': 1.740682839312808e-10}. Best is trial 11 with value: 0.6985100057396345.\n",
      "[I 2023-07-03 03:14:49,990] Trial 43 finished with value: 0.6963049111298647 and parameters: {'var_smoothing': 0.0002318690670290197}. Best is trial 11 with value: 0.6985100057396345.\n"
     ]
    },
    {
     "name": "stderr",
     "output_type": "stream",
     "text": [
      "[I 2023-07-03 03:14:50,147] Trial 44 finished with value: 0.6457088766199505 and parameters: {'var_smoothing': 6.478282331897327e-09}. Best is trial 11 with value: 0.6985100057396345.\n",
      "[I 2023-07-03 03:14:50,302] Trial 45 finished with value: 0.6732025067793485 and parameters: {'var_smoothing': 4.341661800361736e-06}. Best is trial 11 with value: 0.6985100057396345.\n",
      "[I 2023-07-03 03:14:50,458] Trial 46 finished with value: 0.6455671908551897 and parameters: {'var_smoothing': 1.520468869219889e-08}. Best is trial 11 with value: 0.6985100057396345.\n",
      "[I 2023-07-03 03:14:50,615] Trial 47 finished with value: 0.657613082604906 and parameters: {'var_smoothing': 4.369946783595579e-07}. Best is trial 11 with value: 0.6985100057396345.\n",
      "[I 2023-07-03 03:14:50,769] Trial 48 finished with value: 0.6590908499493066 and parameters: {'var_smoothing': 6.713854967599219e-07}. Best is trial 11 with value: 0.6985100057396345.\n",
      "[I 2023-07-03 03:14:50,927] Trial 49 finished with value: 0.637636951348014 and parameters: {'var_smoothing': 1.9678010532114953e-09}. Best is trial 11 with value: 0.6985100057396345.\n",
      "[I 2023-07-03 03:14:51,083] Trial 50 finished with value: 0.6985100057396345 and parameters: {'var_smoothing': 0.0006124806805925976}. Best is trial 11 with value: 0.6985100057396345.\n",
      "[I 2023-07-03 03:14:51,240] Trial 51 finished with value: 0.6818722497090264 and parameters: {'var_smoothing': 2.666427400467686e-05}. Best is trial 11 with value: 0.6985100057396345.\n",
      "[I 2023-07-03 03:14:51,396] Trial 52 finished with value: 0.6963049111298647 and parameters: {'var_smoothing': 0.00037713131110779903}. Best is trial 11 with value: 0.6985100057396345.\n",
      "[I 2023-07-03 03:14:51,552] Trial 53 finished with value: 0.6949183262648635 and parameters: {'var_smoothing': 0.0001835656654435508}. Best is trial 11 with value: 0.6985100057396345.\n",
      "[I 2023-07-03 03:14:51,708] Trial 54 finished with value: 0.663262072093888 and parameters: {'var_smoothing': 1.5321449415450716e-06}. Best is trial 11 with value: 0.6985100057396345.\n",
      "[I 2023-07-03 03:14:51,866] Trial 55 finished with value: 0.6963049111298647 and parameters: {'var_smoothing': 0.0002838700963443627}. Best is trial 11 with value: 0.6985100057396345.\n",
      "[I 2023-07-03 03:14:52,021] Trial 56 finished with value: 0.6343826623866627 and parameters: {'var_smoothing': 4.163394022669372e-10}. Best is trial 11 with value: 0.6985100057396345.\n",
      "[I 2023-07-03 03:14:52,177] Trial 57 finished with value: 0.6389323258578665 and parameters: {'var_smoothing': 2.3543988498504872e-09}. Best is trial 11 with value: 0.6985100057396345.\n",
      "[I 2023-07-03 03:14:52,334] Trial 58 finished with value: 0.6343826623866627 and parameters: {'var_smoothing': 2.0729604791291157e-10}. Best is trial 11 with value: 0.6985100057396345.\n",
      "[I 2023-07-03 03:14:52,488] Trial 59 finished with value: 0.6468912526276087 and parameters: {'var_smoothing': 1.893704954163126e-08}. Best is trial 11 with value: 0.6985100057396345.\n",
      "[I 2023-07-03 03:14:52,646] Trial 60 finished with value: 0.6499814276283361 and parameters: {'var_smoothing': 5.2570369292136696e-08}. Best is trial 11 with value: 0.6985100057396345.\n",
      "[I 2023-07-03 03:14:52,800] Trial 61 finished with value: 0.6470173063814999 and parameters: {'var_smoothing': 7.933105363733031e-09}. Best is trial 11 with value: 0.6985100057396345.\n",
      "[I 2023-07-03 03:14:52,958] Trial 62 finished with value: 0.6857577917687551 and parameters: {'var_smoothing': 6.326486185661583e-05}. Best is trial 11 with value: 0.6985100057396345.\n",
      "[I 2023-07-03 03:14:53,113] Trial 63 finished with value: 0.650129875297736 and parameters: {'var_smoothing': 3.142485531883158e-08}. Best is trial 11 with value: 0.6985100057396345.\n",
      "[I 2023-07-03 03:14:53,270] Trial 64 finished with value: 0.6470173063814999 and parameters: {'var_smoothing': 9.258519973443778e-09}. Best is trial 11 with value: 0.6985100057396345.\n",
      "[I 2023-07-03 03:14:53,425] Trial 65 finished with value: 0.6590908499493066 and parameters: {'var_smoothing': 6.293215187893864e-07}. Best is trial 11 with value: 0.6985100057396345.\n",
      "[I 2023-07-03 03:14:53,579] Trial 66 finished with value: 0.6356777358428725 and parameters: {'var_smoothing': 9.693253593230319e-10}. Best is trial 11 with value: 0.6985100057396345.\n",
      "[I 2023-07-03 03:14:53,736] Trial 67 finished with value: 0.6837117728805742 and parameters: {'var_smoothing': 4.1245717727594184e-05}. Best is trial 11 with value: 0.6985100057396345.\n",
      "[I 2023-07-03 03:14:53,892] Trial 68 finished with value: 0.6343826623866627 and parameters: {'var_smoothing': 3.325481267274218e-10}. Best is trial 11 with value: 0.6985100057396345.\n",
      "[I 2023-07-03 03:14:54,050] Trial 69 finished with value: 0.7006162869650499 and parameters: {'var_smoothing': 0.0008094845352286139}. Best is trial 69 with value: 0.7006162869650499.\n",
      "[I 2023-07-03 03:14:54,206] Trial 70 finished with value: 0.6818722497090264 and parameters: {'var_smoothing': 2.545150013091292e-05}. Best is trial 69 with value: 0.7006162869650499.\n",
      "[I 2023-07-03 03:14:54,364] Trial 71 finished with value: 0.6389323258578665 and parameters: {'var_smoothing': 2.460422958018417e-09}. Best is trial 69 with value: 0.7006162869650499.\n",
      "[I 2023-07-03 03:14:54,519] Trial 72 finished with value: 0.6331062420364277 and parameters: {'var_smoothing': 1.0930872279404526e-10}. Best is trial 69 with value: 0.7006162869650499.\n",
      "[I 2023-07-03 03:14:54,676] Trial 73 finished with value: 0.6857577917687551 and parameters: {'var_smoothing': 5.107754312955834e-05}. Best is trial 69 with value: 0.7006162869650499.\n",
      "[I 2023-07-03 03:14:54,831] Trial 74 finished with value: 0.6773645829548192 and parameters: {'var_smoothing': 8.871588860587616e-06}. Best is trial 69 with value: 0.7006162869650499.\n",
      "[I 2023-07-03 03:14:54,987] Trial 75 finished with value: 0.6787926283480018 and parameters: {'var_smoothing': 1.267798332692875e-05}. Best is trial 69 with value: 0.7006162869650499.\n",
      "[I 2023-07-03 03:14:55,143] Trial 76 finished with value: 0.6818722497090264 and parameters: {'var_smoothing': 2.5054885755573557e-05}. Best is trial 69 with value: 0.7006162869650499.\n",
      "[I 2023-07-03 03:14:55,298] Trial 77 finished with value: 0.6343826623866627 and parameters: {'var_smoothing': 3.298470179752563e-10}. Best is trial 69 with value: 0.7006162869650499.\n",
      "[I 2023-07-03 03:14:55,453] Trial 78 finished with value: 0.650129875297736 and parameters: {'var_smoothing': 3.2304282522409615e-08}. Best is trial 69 with value: 0.7006162869650499.\n",
      "[I 2023-07-03 03:14:55,608] Trial 79 finished with value: 0.6343826623866627 and parameters: {'var_smoothing': 6.472669269538624e-10}. Best is trial 69 with value: 0.7006162869650499.\n",
      "[I 2023-07-03 03:14:55,766] Trial 80 finished with value: 0.6915015011304589 and parameters: {'var_smoothing': 0.0001100839441018131}. Best is trial 69 with value: 0.7006162869650499.\n",
      "[I 2023-07-03 03:14:55,921] Trial 81 finished with value: 0.6646187830897221 and parameters: {'var_smoothing': 2.3072087378099e-06}. Best is trial 69 with value: 0.7006162869650499.\n",
      "[I 2023-07-03 03:14:56,078] Trial 82 finished with value: 0.6495346604355557 and parameters: {'var_smoothing': 2.0715058970816234e-08}. Best is trial 69 with value: 0.7006162869650499.\n",
      "[I 2023-07-03 03:14:56,233] Trial 83 finished with value: 0.6343826623866627 and parameters: {'var_smoothing': 2.785533924389101e-10}. Best is trial 69 with value: 0.7006162869650499.\n",
      "[I 2023-07-03 03:14:56,391] Trial 84 finished with value: 0.6455671908551897 and parameters: {'var_smoothing': 1.5027137214154533e-08}. Best is trial 69 with value: 0.7006162869650499.\n",
      "[I 2023-07-03 03:14:56,545] Trial 85 finished with value: 0.6468912526276087 and parameters: {'var_smoothing': 1.889223130553437e-08}. Best is trial 69 with value: 0.7006162869650499.\n",
      "[I 2023-07-03 03:14:56,702] Trial 86 finished with value: 0.6787926283480018 and parameters: {'var_smoothing': 1.2800980864220754e-05}. Best is trial 69 with value: 0.7006162869650499.\n",
      "[I 2023-07-03 03:14:56,860] Trial 87 finished with value: 0.6694150471853755 and parameters: {'var_smoothing': 2.9033694281285623e-06}. Best is trial 69 with value: 0.7006162869650499.\n",
      "[I 2023-07-03 03:14:57,016] Trial 88 finished with value: 0.6949183262648635 and parameters: {'var_smoothing': 0.00016236379661338317}. Best is trial 69 with value: 0.7006162869650499.\n"
     ]
    },
    {
     "name": "stderr",
     "output_type": "stream",
     "text": [
      "[I 2023-07-03 03:14:57,173] Trial 89 finished with value: 0.657613082604906 and parameters: {'var_smoothing': 2.0207122587167362e-07}. Best is trial 69 with value: 0.7006162869650499.\n",
      "[I 2023-07-03 03:14:57,328] Trial 90 finished with value: 0.6343826623866627 and parameters: {'var_smoothing': 6.873211713642716e-10}. Best is trial 69 with value: 0.7006162869650499.\n",
      "[I 2023-07-03 03:14:57,485] Trial 91 finished with value: 0.6787926283480018 and parameters: {'var_smoothing': 9.833622008382918e-06}. Best is trial 69 with value: 0.7006162869650499.\n",
      "[I 2023-07-03 03:14:57,640] Trial 92 finished with value: 0.6802997894996801 and parameters: {'var_smoothing': 2.1159009829538346e-05}. Best is trial 69 with value: 0.7006162869650499.\n",
      "[I 2023-07-03 03:14:57,798] Trial 93 finished with value: 0.6604204754556747 and parameters: {'var_smoothing': 8.490639132761158e-07}. Best is trial 69 with value: 0.7006162869650499.\n",
      "[I 2023-07-03 03:14:57,952] Trial 94 finished with value: 0.6818722497090264 and parameters: {'var_smoothing': 2.4932754437140142e-05}. Best is trial 69 with value: 0.7006162869650499.\n",
      "[I 2023-07-03 03:14:58,111] Trial 95 finished with value: 0.657613082604906 and parameters: {'var_smoothing': 2.861338079089885e-07}. Best is trial 69 with value: 0.7006162869650499.\n",
      "[I 2023-07-03 03:14:58,267] Trial 96 finished with value: 0.657613082604906 and parameters: {'var_smoothing': 4.5617324056306345e-07}. Best is trial 69 with value: 0.7006162869650499.\n",
      "[I 2023-07-03 03:14:58,425] Trial 97 finished with value: 0.6525726731819367 and parameters: {'var_smoothing': 9.835289062589968e-08}. Best is trial 69 with value: 0.7006162869650499.\n",
      "[I 2023-07-03 03:14:58,581] Trial 98 finished with value: 0.6331062420364277 and parameters: {'var_smoothing': 1.5063777323554432e-10}. Best is trial 69 with value: 0.7006162869650499.\n",
      "[I 2023-07-03 03:14:58,738] Trial 99 finished with value: 0.6343826623866627 and parameters: {'var_smoothing': 5.691673629899875e-10}. Best is trial 69 with value: 0.7006162869650499.\n"
     ]
    }
   ],
   "source": [
    "#Optimise Naive Bayes\n",
    "study = optuna.create_study(direction='maximize', sampler=RandomSampler(seed=42))\n",
    "study.optimize(objective, n_trials=100)"
   ]
  },
  {
   "cell_type": "code",
   "execution_count": 251,
   "metadata": {
    "id": "V0UXNDMbaZHV"
   },
   "outputs": [],
   "source": [
    "# Get the best hyperparameters from Optuna\n",
    "best_params = study.best_params"
   ]
  },
  {
   "cell_type": "code",
   "execution_count": 252,
   "metadata": {
    "colab": {
     "base_uri": "https://localhost:8080/"
    },
    "id": "xk1l3iDtaZHV",
    "outputId": "92fe6497-7cdd-48ac-873e-0ae0d3f5b05c"
   },
   "outputs": [
    {
     "data": {
      "text/plain": [
       "{'var_smoothing': 0.0008094845352286139}"
      ]
     },
     "execution_count": 252,
     "metadata": {},
     "output_type": "execute_result"
    }
   ],
   "source": [
    "best_params #42 random seed"
   ]
  },
  {
   "attachments": {},
   "cell_type": "markdown",
   "metadata": {
    "id": "JNPNRrx_aZHV"
   },
   "source": [
    "#### Get best parameters and make predictions"
   ]
  },
  {
   "cell_type": "code",
   "execution_count": 253,
   "metadata": {
    "id": "E7s2z_UpaZHW"
   },
   "outputs": [],
   "source": [
    "#selected_features_indices = [i for i, value in enumerate(best_features) if value]\n",
    "X_test_selected = X_test[:, selected_features]"
   ]
  },
  {
   "cell_type": "code",
   "execution_count": 254,
   "metadata": {
    "colab": {
     "base_uri": "https://localhost:8080/"
    },
    "id": "fxXPLuhBaZHW",
    "outputId": "f5f3f933-fa09-433e-8d73-05e72d00540c"
   },
   "outputs": [
    {
     "data": {
      "text/plain": [
       "(286, 300)"
      ]
     },
     "execution_count": 254,
     "metadata": {},
     "output_type": "execute_result"
    }
   ],
   "source": [
    "X_test_selected.shape"
   ]
  },
  {
   "cell_type": "code",
   "execution_count": 255,
   "metadata": {
    "id": "602uNHukaZHW"
   },
   "outputs": [],
   "source": [
    "X_train_val_selected_final_features = X_train_val[:, selected_features]"
   ]
  },
  {
   "cell_type": "code",
   "execution_count": 256,
   "metadata": {
    "colab": {
     "base_uri": "https://localhost:8080/"
    },
    "id": "U7bwWiIQaZHX",
    "outputId": "539d731e-a93b-4de5-dd1b-0f5340e9289d"
   },
   "outputs": [
    {
     "data": {
      "text/plain": [
       "(1141, 300)"
      ]
     },
     "execution_count": 256,
     "metadata": {},
     "output_type": "execute_result"
    }
   ],
   "source": [
    "X_train_val_selected_final_features.shape"
   ]
  },
  {
   "cell_type": "code",
   "execution_count": 257,
   "metadata": {
    "id": "HUQsjcyiaZHX"
   },
   "outputs": [],
   "source": [
    "#Define the best classifier\n",
    "\n",
    "#best_C = study.best_params['C']\n",
    "#best_gamma = study.best_params['gamma']\n",
    "#best_gamma = study.best_params['gamma']\n",
    "#best_classifier = SVC(C=best_C, gamma=best_gamma)\n",
    "best_classifier_GNB = GaussianNB(**best_params)"
   ]
  },
  {
   "cell_type": "code",
   "execution_count": 269,
   "metadata": {
    "colab": {
     "base_uri": "https://localhost:8080/",
     "height": 74
    },
    "id": "Dq7nI34LaZHX",
    "outputId": "027403da-3b50-4140-a73c-c72476420074"
   },
   "outputs": [
    {
     "data": {
      "text/html": [
       "<style>#sk-container-id-11 {color: black;}#sk-container-id-11 pre{padding: 0;}#sk-container-id-11 div.sk-toggleable {background-color: white;}#sk-container-id-11 label.sk-toggleable__label {cursor: pointer;display: block;width: 100%;margin-bottom: 0;padding: 0.3em;box-sizing: border-box;text-align: center;}#sk-container-id-11 label.sk-toggleable__label-arrow:before {content: \"▸\";float: left;margin-right: 0.25em;color: #696969;}#sk-container-id-11 label.sk-toggleable__label-arrow:hover:before {color: black;}#sk-container-id-11 div.sk-estimator:hover label.sk-toggleable__label-arrow:before {color: black;}#sk-container-id-11 div.sk-toggleable__content {max-height: 0;max-width: 0;overflow: hidden;text-align: left;background-color: #f0f8ff;}#sk-container-id-11 div.sk-toggleable__content pre {margin: 0.2em;color: black;border-radius: 0.25em;background-color: #f0f8ff;}#sk-container-id-11 input.sk-toggleable__control:checked~div.sk-toggleable__content {max-height: 200px;max-width: 100%;overflow: auto;}#sk-container-id-11 input.sk-toggleable__control:checked~label.sk-toggleable__label-arrow:before {content: \"▾\";}#sk-container-id-11 div.sk-estimator input.sk-toggleable__control:checked~label.sk-toggleable__label {background-color: #d4ebff;}#sk-container-id-11 div.sk-label input.sk-toggleable__control:checked~label.sk-toggleable__label {background-color: #d4ebff;}#sk-container-id-11 input.sk-hidden--visually {border: 0;clip: rect(1px 1px 1px 1px);clip: rect(1px, 1px, 1px, 1px);height: 1px;margin: -1px;overflow: hidden;padding: 0;position: absolute;width: 1px;}#sk-container-id-11 div.sk-estimator {font-family: monospace;background-color: #f0f8ff;border: 1px dotted black;border-radius: 0.25em;box-sizing: border-box;margin-bottom: 0.5em;}#sk-container-id-11 div.sk-estimator:hover {background-color: #d4ebff;}#sk-container-id-11 div.sk-parallel-item::after {content: \"\";width: 100%;border-bottom: 1px solid gray;flex-grow: 1;}#sk-container-id-11 div.sk-label:hover label.sk-toggleable__label {background-color: #d4ebff;}#sk-container-id-11 div.sk-serial::before {content: \"\";position: absolute;border-left: 1px solid gray;box-sizing: border-box;top: 0;bottom: 0;left: 50%;z-index: 0;}#sk-container-id-11 div.sk-serial {display: flex;flex-direction: column;align-items: center;background-color: white;padding-right: 0.2em;padding-left: 0.2em;position: relative;}#sk-container-id-11 div.sk-item {position: relative;z-index: 1;}#sk-container-id-11 div.sk-parallel {display: flex;align-items: stretch;justify-content: center;background-color: white;position: relative;}#sk-container-id-11 div.sk-item::before, #sk-container-id-11 div.sk-parallel-item::before {content: \"\";position: absolute;border-left: 1px solid gray;box-sizing: border-box;top: 0;bottom: 0;left: 50%;z-index: -1;}#sk-container-id-11 div.sk-parallel-item {display: flex;flex-direction: column;z-index: 1;position: relative;background-color: white;}#sk-container-id-11 div.sk-parallel-item:first-child::after {align-self: flex-end;width: 50%;}#sk-container-id-11 div.sk-parallel-item:last-child::after {align-self: flex-start;width: 50%;}#sk-container-id-11 div.sk-parallel-item:only-child::after {width: 0;}#sk-container-id-11 div.sk-dashed-wrapped {border: 1px dashed gray;margin: 0 0.4em 0.5em 0.4em;box-sizing: border-box;padding-bottom: 0.4em;background-color: white;}#sk-container-id-11 div.sk-label label {font-family: monospace;font-weight: bold;display: inline-block;line-height: 1.2em;}#sk-container-id-11 div.sk-label-container {text-align: center;}#sk-container-id-11 div.sk-container {/* jupyter's `normalize.less` sets `[hidden] { display: none; }` but bootstrap.min.css set `[hidden] { display: none !important; }` so we also need the `!important` here to be able to override the default hidden behavior on the sphinx rendered scikit-learn.org. See: https://github.com/scikit-learn/scikit-learn/issues/21755 */display: inline-block !important;position: relative;}#sk-container-id-11 div.sk-text-repr-fallback {display: none;}</style><div id=\"sk-container-id-11\" class=\"sk-top-container\"><div class=\"sk-text-repr-fallback\"><pre>GaussianNB(var_smoothing=0.0008094845352286139)</pre><b>In a Jupyter environment, please rerun this cell to show the HTML representation or trust the notebook. <br />On GitHub, the HTML representation is unable to render, please try loading this page with nbviewer.org.</b></div><div class=\"sk-container\" hidden><div class=\"sk-item\"><div class=\"sk-estimator sk-toggleable\"><input class=\"sk-toggleable__control sk-hidden--visually\" id=\"sk-estimator-id-11\" type=\"checkbox\" checked><label for=\"sk-estimator-id-11\" class=\"sk-toggleable__label sk-toggleable__label-arrow\">GaussianNB</label><div class=\"sk-toggleable__content\"><pre>GaussianNB(var_smoothing=0.0008094845352286139)</pre></div></div></div></div></div>"
      ],
      "text/plain": [
       "GaussianNB(var_smoothing=0.0008094845352286139)"
      ]
     },
     "execution_count": 269,
     "metadata": {},
     "output_type": "execute_result"
    }
   ],
   "source": [
    "#Fit the model and make predictions\n",
    "best_classifier_GNB.fit(X_train_val_selected_final_features, y_train_val)"
   ]
  },
  {
   "cell_type": "code",
   "execution_count": 259,
   "metadata": {
    "id": "rCMTdk8WaZHX"
   },
   "outputs": [],
   "source": [
    "y_test_pred = best_classifier_GNB.predict(X_test_selected)"
   ]
  },
  {
   "cell_type": "code",
   "execution_count": 260,
   "metadata": {
    "id": "uakLSHsaaZHX"
   },
   "outputs": [],
   "source": [
    "#Validate the model  using balanced_acc, precision,recall and f1\n",
    "balanced_acc_mrmr_GNB = balanced_accuracy_score(y_test, y_test_pred)\n",
    "precision_mrmr_GNB = precision_score(y_test, y_test_pred,average='weighted')\n",
    "recall_mrmr_GNB = recall_score(y_test, y_test_pred,average='weighted')\n",
    "f1_mrmr_GNB = f1_score(y_test, y_test_pred,average='weighted')"
   ]
  },
  {
   "cell_type": "code",
   "execution_count": 261,
   "metadata": {
    "colab": {
     "base_uri": "https://localhost:8080/"
    },
    "id": "qVZuWGqTaZHY",
    "outputId": "172b0f3d-9419-4eb0-ad2c-c0708afc423d"
   },
   "outputs": [
    {
     "data": {
      "text/plain": [
       "0.8512058969063293"
      ]
     },
     "execution_count": 261,
     "metadata": {},
     "output_type": "execute_result"
    }
   ],
   "source": [
    "balanced_acc_mrmr_GNB"
   ]
  },
  {
   "cell_type": "code",
   "execution_count": 262,
   "metadata": {
    "colab": {
     "base_uri": "https://localhost:8080/"
    },
    "id": "1A7NQBxWaZHY",
    "outputId": "3c186e4e-84dc-4065-e53e-378d3d62549a"
   },
   "outputs": [
    {
     "data": {
      "text/plain": [
       "0.8667967659870494"
      ]
     },
     "execution_count": 262,
     "metadata": {},
     "output_type": "execute_result"
    }
   ],
   "source": [
    "precision_mrmr_GNB"
   ]
  },
  {
   "cell_type": "code",
   "execution_count": 263,
   "metadata": {
    "colab": {
     "base_uri": "https://localhost:8080/"
    },
    "id": "If4d0EDVaZHZ",
    "outputId": "9bab82af-3020-430a-87f5-7afa6e38620a"
   },
   "outputs": [
    {
     "data": {
      "text/plain": [
       "0.8636363636363636"
      ]
     },
     "execution_count": 263,
     "metadata": {},
     "output_type": "execute_result"
    }
   ],
   "source": [
    "recall_mrmr_GNB"
   ]
  },
  {
   "cell_type": "code",
   "execution_count": 264,
   "metadata": {
    "colab": {
     "base_uri": "https://localhost:8080/"
    },
    "id": "qgEBCnfRaZHZ",
    "outputId": "cde5f469-382b-4854-a39a-46d9af11f55f"
   },
   "outputs": [
    {
     "data": {
      "text/plain": [
       "0.8615921762774909"
      ]
     },
     "execution_count": 264,
     "metadata": {},
     "output_type": "execute_result"
    }
   ],
   "source": [
    "f1_mrmr_GNB"
   ]
  },
  {
   "cell_type": "code",
   "execution_count": 265,
   "metadata": {
    "colab": {
     "base_uri": "https://localhost:8080/"
    },
    "id": "ajIFzMgJaZHZ",
    "outputId": "cf3de4b7-4dc6-48b3-bdb9-160a95617488"
   },
   "outputs": [
    {
     "data": {
      "text/plain": [
       "array([0, 0, 1, 0, 0, 0, 0, 0, 3, 2, 3, 2, 2, 1, 1, 3, 3, 0, 2, 3, 3, 0,\n",
       "       0, 0, 3, 0, 1, 2, 0, 2, 3, 3, 2, 0, 2, 0, 3, 3, 2, 1, 3, 3, 3, 3,\n",
       "       0, 2, 3, 0, 2, 2, 2, 0, 2, 0, 0, 0, 0, 1, 0, 2, 0, 0, 2, 0, 0, 2,\n",
       "       2, 2, 0, 0, 1, 0, 1, 3, 0, 0, 2, 2, 2, 0, 2, 1, 3, 0, 0, 0, 3, 1,\n",
       "       2, 2, 1, 0, 3, 2, 0, 1, 0, 2, 3, 2, 0, 3, 0, 2, 0, 1, 3, 2, 1, 0,\n",
       "       0, 2, 3, 3, 0, 0, 2, 2, 2, 0, 1, 1, 0, 3, 1, 2, 2, 2, 3, 3, 0, 0,\n",
       "       3, 0, 0, 0, 0, 3, 0, 3, 3, 0, 1, 3, 3, 2, 2, 0, 3, 3, 2, 0, 0, 2,\n",
       "       2, 1, 0, 3, 0, 2, 2, 1, 2, 0, 3, 1, 2, 2, 0, 2, 0, 3, 3, 2, 0, 1,\n",
       "       0, 0, 0, 0, 2, 2, 0, 2, 0, 0, 0, 0, 0, 0, 3, 2, 1, 1, 3, 1, 0, 0,\n",
       "       3, 2, 0, 3, 3, 1, 2, 0, 0, 0, 2, 0, 2, 0, 3, 1, 0, 3, 2, 3, 0, 3,\n",
       "       0, 0, 0, 1, 0, 2, 0, 1, 0, 0, 0, 0, 3, 1, 3, 2, 3, 1, 2, 3, 0, 1,\n",
       "       0, 0, 0, 0, 0, 1, 0, 0, 0, 0, 2, 0, 0, 0, 3, 2, 0, 0, 0, 3, 0, 0,\n",
       "       0, 0, 0, 0, 1, 0, 1, 0, 2, 0, 1, 1, 0, 0, 0, 3, 0, 0, 0, 0, 1, 2])"
      ]
     },
     "execution_count": 265,
     "metadata": {},
     "output_type": "execute_result"
    }
   ],
   "source": [
    "y_test_pred"
   ]
  },
  {
   "cell_type": "code",
   "execution_count": 266,
   "metadata": {
    "colab": {
     "base_uri": "https://localhost:8080/"
    },
    "id": "KWgrM3-aaZHa",
    "outputId": "efa44c2d-db34-416e-e7b4-8b6a5da0d6e5"
   },
   "outputs": [
    {
     "data": {
      "text/plain": [
       "array([0, 0, 1, 2, 0, 0, 0, 0, 1, 0, 0, 2, 2, 1, 1, 3, 3, 1, 2, 3, 3, 0,\n",
       "       0, 0, 3, 0, 1, 2, 0, 0, 3, 3, 2, 0, 0, 0, 1, 3, 2, 1, 3, 0, 3, 3,\n",
       "       0, 2, 3, 1, 2, 2, 2, 0, 2, 0, 0, 0, 0, 1, 0, 2, 0, 1, 2, 0, 0, 2,\n",
       "       2, 2, 0, 0, 1, 0, 1, 3, 0, 0, 2, 0, 0, 1, 0, 1, 0, 2, 1, 3, 1, 1,\n",
       "       2, 0, 1, 0, 3, 2, 0, 1, 0, 2, 1, 2, 1, 3, 0, 2, 0, 1, 3, 2, 1, 0,\n",
       "       0, 2, 2, 3, 0, 0, 0, 1, 2, 0, 1, 3, 0, 3, 1, 1, 2, 2, 3, 3, 0, 0,\n",
       "       3, 0, 0, 0, 0, 3, 0, 3, 3, 0, 2, 3, 3, 2, 2, 0, 3, 2, 2, 0, 0, 2,\n",
       "       2, 1, 0, 3, 0, 2, 2, 1, 2, 0, 3, 1, 2, 2, 0, 2, 0, 3, 3, 2, 0, 1,\n",
       "       0, 1, 0, 0, 2, 2, 0, 2, 0, 0, 1, 0, 0, 0, 3, 2, 1, 2, 3, 1, 0, 0,\n",
       "       3, 2, 0, 3, 3, 1, 0, 2, 0, 0, 2, 0, 2, 0, 3, 1, 0, 3, 2, 3, 0, 3,\n",
       "       0, 0, 0, 1, 0, 2, 0, 1, 0, 0, 0, 0, 3, 1, 2, 1, 3, 1, 2, 3, 0, 1,\n",
       "       1, 0, 0, 0, 0, 1, 0, 0, 0, 0, 2, 0, 0, 0, 3, 2, 0, 0, 0, 3, 0, 0,\n",
       "       0, 0, 0, 0, 0, 0, 1, 0, 2, 0, 1, 1, 0, 0, 0, 3, 0, 0, 0, 0, 1, 2])"
      ]
     },
     "execution_count": 266,
     "metadata": {},
     "output_type": "execute_result"
    }
   ],
   "source": [
    "y_test"
   ]
  },
  {
   "attachments": {},
   "cell_type": "markdown",
   "metadata": {},
   "source": [
    "# Plots\n"
   ]
  },
  {
   "cell_type": "code",
   "execution_count": 267,
   "metadata": {},
   "outputs": [],
   "source": [
    "classifiers = ['LogisticReg', 'RandomForest', 'GaussiaNB', 'SVC', 'XGBoost']"
   ]
  },
  {
   "attachments": {},
   "cell_type": "markdown",
   "metadata": {},
   "source": [
    "## Balanced accuracy specific"
   ]
  },
  {
   "cell_type": "code",
   "execution_count": null,
   "metadata": {},
   "outputs": [],
   "source": [
    "anova_scores = [balanced_acc_LR, balanced_acc_RF, balanced_acc_GNB, balanced_acc_SVC, balanced_acc_XGB]\n",
    "mrmr_scores = [balanced_acc_mrmr_LR, balanced_acc_mrmr_RF, balanced_acc_mrmr_GNB, balanced_acc_mrmr_SVC, balanced_acc_mrmr_XGΒ]"
   ]
  },
  {
   "cell_type": "code",
   "execution_count": null,
   "metadata": {},
   "outputs": [],
   "source": [
    "#Plot the Balanced accuracy for all the classifiers for the two methods of feature selection\n",
    "#metric_index = metrics.index('balanced_acc')\n",
    "plt.figure(figsize=(10, 6))\n",
    "plt.plot(classifiers, anova_scores, marker='o', label='ANOVA')\n",
    "plt.plot(classifiers, mrmr_scores, marker='o', label='mRMR')\n",
    "plt.xlabel('Classifiers')\n",
    "plt.ylabel('Balanced Accuracy')\n",
    "plt.title('Comparison of Classifiers across Feature Selection Methods (Balanced Accuracy)')\n",
    "plt.legend()\n",
    "plt.show()"
   ]
  },
  {
   "cell_type": "code",
   "execution_count": null,
   "metadata": {},
   "outputs": [],
   "source": [
    "anova_scores"
   ]
  },
  {
   "cell_type": "code",
   "execution_count": null,
   "metadata": {},
   "outputs": [],
   "source": [
    "mrmr_scores"
   ]
  },
  {
   "attachments": {},
   "cell_type": "markdown",
   "metadata": {},
   "source": [
    "## Precision specific"
   ]
  },
  {
   "cell_type": "code",
   "execution_count": null,
   "metadata": {},
   "outputs": [],
   "source": [
    "anova_scores_prec = [precision_LR, precision_RF, precision_GNB, precision_SVC, precision_XGB]\n",
    "mrmr_scores_prec = [precision_mrmr_LR, precision_mrmr_RF, precision_mrmr_GNB, precision_mrmr_SVC, precision_mrmr_XGB]"
   ]
  },
  {
   "cell_type": "code",
   "execution_count": null,
   "metadata": {},
   "outputs": [],
   "source": [
    "#Plot the Precision for all the classifiers for the two methods of feature selection\n",
    "plt.figure(figsize=(10, 6))\n",
    "plt.plot(classifiers, anova_scores_prec, marker='o', label='ANOVA')\n",
    "plt.plot(classifiers, mrmr_scores_prec, marker='o', label='mRMR')\n",
    "plt.xlabel('Classifiers')\n",
    "plt.ylabel('Precision')\n",
    "plt.title('Comparison of Classifiers across Feature Selection Methods (Precision)')\n",
    "plt.legend()\n",
    "plt.show()"
   ]
  },
  {
   "cell_type": "code",
   "execution_count": null,
   "metadata": {},
   "outputs": [],
   "source": [
    "anova_scores_prec"
   ]
  },
  {
   "cell_type": "code",
   "execution_count": null,
   "metadata": {},
   "outputs": [],
   "source": [
    "mrmr_scores_prec"
   ]
  },
  {
   "attachments": {},
   "cell_type": "markdown",
   "metadata": {},
   "source": [
    "## Recall"
   ]
  },
  {
   "cell_type": "code",
   "execution_count": null,
   "metadata": {},
   "outputs": [],
   "source": [
    "anova_scores_rec = [recall_LR, recall_RF, recall_GNB, recall_SVC, recall_XGB]\n",
    "mrmr_scores_rec = [recall_mrmr_LR, recall_mrmr_RF, recall_mrmr_GNB, recall_mrmr_SVC, recall_mrmr_XGB]"
   ]
  },
  {
   "cell_type": "code",
   "execution_count": null,
   "metadata": {},
   "outputs": [],
   "source": [
    "#Plot the Recall for all the classifiers for the two methods of feature selection\n",
    "plt.figure(figsize=(10, 6))\n",
    "plt.plot(classifiers, anova_scores_rec, marker='o', label='ANOVA')\n",
    "plt.plot(classifiers, mrmr_scores_rec, marker='o', label='mRMR')\n",
    "plt.xlabel('Classifiers')\n",
    "plt.ylabel('Recall')\n",
    "plt.title('Comparison of Classifiers across Feature Selection Methods (Recall)')\n",
    "plt.legend()\n",
    "plt.show()"
   ]
  },
  {
   "cell_type": "code",
   "execution_count": null,
   "metadata": {},
   "outputs": [],
   "source": [
    "anova_scores_rec"
   ]
  },
  {
   "cell_type": "code",
   "execution_count": null,
   "metadata": {},
   "outputs": [],
   "source": [
    "mrmr_scores_rec"
   ]
  },
  {
   "attachments": {},
   "cell_type": "markdown",
   "metadata": {},
   "source": [
    "## F1 score"
   ]
  },
  {
   "cell_type": "code",
   "execution_count": null,
   "metadata": {},
   "outputs": [],
   "source": [
    "anova_scores_f1 = [f1_LR, f1_RF, f1_GNB, f1_SVC, f1_XGΒ]\n",
    "mrmr_scores_f1 = [f1_mrmr_LR, f1_mrmr_RF, f1_mrmr_GNB, f1_mrmr_SVC, f1_mrmr_XGΒ]"
   ]
  },
  {
   "cell_type": "code",
   "execution_count": null,
   "metadata": {},
   "outputs": [],
   "source": [
    "#Plot the F1-score for all the classifiers for the two methods of feature selection\n",
    "plt.figure(figsize=(10, 6))\n",
    "plt.plot(classifiers, anova_scores_f1, marker='o', label='ANOVA')\n",
    "plt.plot(classifiers, mrmr_scores_f1, marker='o', label='mRMR')\n",
    "plt.xlabel('Classifiers')\n",
    "plt.ylabel('F1-score')\n",
    "plt.title('Comparison of Classifiers across Feature Selection Methods (F1-score)')\n",
    "plt.legend()\n",
    "plt.show()"
   ]
  },
  {
   "cell_type": "code",
   "execution_count": null,
   "metadata": {},
   "outputs": [],
   "source": [
    "anova_scores_f1"
   ]
  },
  {
   "cell_type": "code",
   "execution_count": null,
   "metadata": {},
   "outputs": [],
   "source": [
    "anova_scores_f1"
   ]
  }
 ],
 "metadata": {
  "accelerator": "GPU",
  "colab": {
   "collapsed_sections": [
    "nsFX8YxhFJju",
    "xI2Vdl4hFyHt",
    "QHQhGkR0tcac",
    "eyqVOBLKFyHu",
    "CGnJUB8Im0G6",
    "j9QG1PWoZ89y",
    "y40rQ53-zzaU",
    "VPI1_xVTs8ZG",
    "NImo9DHfzfhA",
    "Y3xh8pmBzmXq",
    "xtECcua60T3d",
    "0pMn6VzTFC2n",
    "SzHT-MEPEaMN",
    "2wM-KG31Ecok",
    "HAhms8uREcon",
    "lrSZxB1Eixd9",
    "rFmYjhkui0Lz",
    "fqxkUCufi0L1",
    "iaGJZjp7mVLV",
    "G6KgTWD8mbzQ",
    "80ABmQwBmbzc",
    "Cq_7zfHB55NT",
    "Ic3PxNai55NU",
    "-BlP0-f355NV",
    "m8dWgBDt55NY",
    "oSjrzq4NY1n2",
    "t0EjgtUbY1oE",
    "uFMtP60e55Nj",
    "wNO0TNF355Nk",
    "Fxmz_P4xaOEn",
    "2ZQ3O6GiaOEq",
    "3IWlf0dH55Ny",
    "fQUYqDn3aThs",
    "7yC2_9qgaThu",
    "NBfVfw6I55N4",
    "b01LXgpDaZHE",
    "JNPNRrx_aZHV"
   ],
   "gpuType": "T4",
   "provenance": []
  },
  "kernelspec": {
   "display_name": "Python 3 (ipykernel)",
   "language": "python",
   "name": "python3"
  },
  "language_info": {
   "codemirror_mode": {
    "name": "ipython",
    "version": 3
   },
   "file_extension": ".py",
   "mimetype": "text/x-python",
   "name": "python",
   "nbconvert_exporter": "python",
   "pygments_lexer": "ipython3",
   "version": "3.10.9"
  }
 },
 "nbformat": 4,
 "nbformat_minor": 1
}
